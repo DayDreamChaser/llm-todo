{
  "cells": [
    {
      "cell_type": "markdown",
      "id": "4e7bef94-e459-4140-b533-cd6c188722b0",
      "metadata": {
        "id": "4e7bef94-e459-4140-b533-cd6c188722b0"
      },
      "source": [
        "# 5分钟对话微调修改Qwen-7b的自我认知"
      ]
    },
    {
      "cell_type": "markdown",
      "id": "1a94d818-4b67-456e-9e68-3a66ac091d23",
      "metadata": {
        "id": "1a94d818-4b67-456e-9e68-3a66ac091d23"
      },
      "source": [
        "支持多轮和单轮对话数据集的大模型高效微调范例。\n",
        "构造了一个修改大模型自我认知的3轮对话的玩具数据集，\n",
        "\n",
        "**使用QLoRA算法，只需要5分钟的训练时间，就可以完成微调，并成功修改了LLM模型的自我认知。**\n",
        "\n",
        "通过借鉴FastChat对各种开源LLM模型进行数据预处理方法统一管理的方法\n",
        "\n",
        "\n",
        "> 本范例适用于非常多不同的开源LLM模型，包括 Qwen-7b-Chat，Llama-13b-chat, BaiChuan2-13b-chat, Intern-7b-chat, ChatGLM2-6b-chat 以及其它许许多多FastChat支持的模型。\n",
        "\n",
        "\n",
        "在多轮对话模式下,我们按照如下格式构造包括多轮对话中所有机器人回复内容的标签。\n",
        "\n",
        "(注：llm.build_inputs_labels(messages,multi_rounds=True) 时采用)\n",
        "\n",
        "```\n",
        "\n",
        "inputs = <user1> <assistant1> <user2> <assistant2> <user3> <assistant3>\n",
        "labels = <-100> <assistant1> <-100> <assistant2> <-100> <assistant3>\n",
        "\n",
        "```\n",
        "\n",
        "\n",
        "在单轮对话模式下，我们仅将最后一轮机器人的回复作为要学习的标签。\n",
        "\n",
        "(注：llm.build_inputs_labels(messages,multi_rounds=False)时采用)\n",
        "\n",
        "\n",
        "```\n",
        "inputs = <user1> <assistant1> <user2> <assistant2> <user3> <assistant3>\n",
        "labels = <-100> <-100> <-100> <-100> <-100> <assistant3>\n",
        "\n",
        "```\n",
        "\n",
        "\n",
        "\n",
        "\n",
        "\n"
      ]
    },
    {
      "cell_type": "markdown",
      "source": [
        "## 一、数据集进行处理\n",
        "\n",
        "这里是客服和坐席进行通话的文本\n",
        "\n",
        "- 1）没有对原始文本做预处理降噪\n",
        "- 2）需要构造微调的prompt\n"
      ],
      "metadata": {
        "id": "HTc46D3keDs8"
      },
      "id": "HTc46D3keDs8"
    },
    {
      "cell_type": "code",
      "source": [
        "%mkdir rawdata"
      ],
      "metadata": {
        "id": "OsBt06Vdev7c"
      },
      "id": "OsBt06Vdev7c",
      "execution_count": 1,
      "outputs": []
    },
    {
      "cell_type": "code",
      "source": [
        "!sudo apt-get install unzip"
      ],
      "metadata": {
        "colab": {
          "base_uri": "https://localhost:8080/"
        },
        "id": "gdZlXRm7exAG",
        "outputId": "df63aefb-4b11-4704-9893-94c289855e3d"
      },
      "id": "gdZlXRm7exAG",
      "execution_count": 2,
      "outputs": [
        {
          "output_type": "stream",
          "name": "stdout",
          "text": [
            "Reading package lists... Done\n",
            "Building dependency tree... Done\n",
            "Reading state information... Done\n",
            "unzip is already the newest version (6.0-26ubuntu3.2).\n",
            "0 upgraded, 0 newly installed, 0 to remove and 45 not upgraded.\n"
          ]
        }
      ]
    },
    {
      "cell_type": "code",
      "source": [
        "!unzip rawdata/test_dataset.zip -d rawdata/"
      ],
      "metadata": {
        "colab": {
          "base_uri": "https://localhost:8080/"
        },
        "id": "HXLs6pDqexDl",
        "outputId": "ef0c210c-ecea-4069-ad03-b2db183ba703"
      },
      "id": "HXLs6pDqexDl",
      "execution_count": 6,
      "outputs": [
        {
          "output_type": "stream",
          "name": "stdout",
          "text": [
            "Archive:  rawdata/test_dataset.zip\n",
            "  inflating: rawdata/test_dataset.csv  \n"
          ]
        }
      ]
    },
    {
      "cell_type": "code",
      "source": [
        "!unzip rawdata/train_dataset.zip -d rawdata/"
      ],
      "metadata": {
        "colab": {
          "base_uri": "https://localhost:8080/"
        },
        "id": "cQrvrwFjfijf",
        "outputId": "3690a1f5-5e9c-430e-9247-b3014e0833a6"
      },
      "id": "cQrvrwFjfijf",
      "execution_count": 11,
      "outputs": [
        {
          "output_type": "stream",
          "name": "stdout",
          "text": [
            "Archive:  rawdata/train_dataset.zip\n",
            "  inflating: rawdata/train_dataset.csv  \n"
          ]
        }
      ]
    },
    {
      "cell_type": "code",
      "source": [
        "!ls rawdata/ -lht"
      ],
      "metadata": {
        "colab": {
          "base_uri": "https://localhost:8080/"
        },
        "id": "UAHI9Jz9f8LL",
        "outputId": "7d89b480-18b0-4994-9daa-5197bdaebea7"
      },
      "id": "UAHI9Jz9f8LL",
      "execution_count": 7,
      "outputs": [
        {
          "output_type": "stream",
          "name": "stdout",
          "text": [
            "total 47M\n",
            "-rw-r--r-- 1 root root  12M Apr 21 07:55 train_dataset.xlsx\n",
            "-rw-r--r-- 1 root root 8.0M Apr 21 07:55 test_dataset.zip\n",
            "-rw-r--r-- 1 root root  27M Sep 29  2021 test_dataset.csv\n"
          ]
        }
      ]
    },
    {
      "cell_type": "code",
      "source": [
        "import pandas as pd"
      ],
      "metadata": {
        "id": "-i-KeEI2gCG8"
      },
      "id": "-i-KeEI2gCG8",
      "execution_count": 9,
      "outputs": []
    },
    {
      "cell_type": "code",
      "source": [
        "train_df = pd.read_excel(\"rawdata/train_dataset.xlsx\")"
      ],
      "metadata": {
        "id": "Mqw5ywfYqKGf"
      },
      "id": "Mqw5ywfYqKGf",
      "execution_count": 38,
      "outputs": []
    },
    {
      "cell_type": "code",
      "source": [
        "train_df.head(3)"
      ],
      "metadata": {
        "colab": {
          "base_uri": "https://localhost:8080/",
          "height": 1000
        },
        "id": "3jYtufz6q7pL",
        "outputId": "95efc432-b5fd-4265-b00a-56ecbefc1d6a"
      },
      "id": "3jYtufz6q7pL",
      "execution_count": 39,
      "outputs": [
        {
          "output_type": "execute_result",
          "data": {
            "text/plain": [
              "   id                                            content  \\\n",
              "0   0  【坐席】您好，实习话务员为您，【客户】服务，喂，你好，是这样的，我那个我的电话因为上次突然把...   \n",
              "1   1  【客户】嗯，【坐席】，很高兴为您服务，【客户】喂，你好，你好，我想问一下，我没有去过这个吉林...   \n",
              "2   2  【客户】嗯，【坐席】，您好，实习话务员为您服务，【客户】喂你好，然后我这某某人卡，然后有有两...   \n",
              "\n",
              "                                            abstract Unnamed: 3 Unnamed: 4  \\\n",
              "0  用户来电反映手机号卡收费问题，用户称现在怎么欠费167.65，我方经查询用户有10月欠费76...        NaN        NaN   \n",
              "1           用户来电反映查询漫游地，显示有吉林，用户称没有去过附近，要求核实回复，请处理谢谢        NaN        NaN   \n",
              "2  用户来电想要取消20元语音特惠包（200分钟另得100条短信）-立即生效，我方取消不成功，用...        NaN        NaN   \n",
              "\n",
              "  Unnamed: 5 Unnamed: 6 Unnamed: 7 Unnamed: 8 Unnamed: 9  ... Unnamed: 98  \\\n",
              "0        NaN        NaN        NaN        NaN        NaN  ...         NaN   \n",
              "1        NaN        NaN        NaN        NaN        NaN  ...         NaN   \n",
              "2        NaN        NaN        NaN        NaN        NaN  ...         NaN   \n",
              "\n",
              "  Unnamed: 99 Unnamed: 100 Unnamed: 101 Unnamed: 102 Unnamed: 103  \\\n",
              "0         NaN          NaN          NaN          NaN          NaN   \n",
              "1         NaN          NaN          NaN          NaN          NaN   \n",
              "2         NaN          NaN          NaN          NaN          NaN   \n",
              "\n",
              "  Unnamed: 104 Unnamed: 105 Unnamed: 106 Unnamed: 107  \n",
              "0          NaN          NaN          NaN          NaN  \n",
              "1          NaN          NaN          NaN          NaN  \n",
              "2          NaN          NaN          NaN          NaN  \n",
              "\n",
              "[3 rows x 108 columns]"
            ],
            "text/html": [
              "\n",
              "  <div id=\"df-223a96eb-f918-4d7a-a85f-d34afe206158\" class=\"colab-df-container\">\n",
              "    <div>\n",
              "<style scoped>\n",
              "    .dataframe tbody tr th:only-of-type {\n",
              "        vertical-align: middle;\n",
              "    }\n",
              "\n",
              "    .dataframe tbody tr th {\n",
              "        vertical-align: top;\n",
              "    }\n",
              "\n",
              "    .dataframe thead th {\n",
              "        text-align: right;\n",
              "    }\n",
              "</style>\n",
              "<table border=\"1\" class=\"dataframe\">\n",
              "  <thead>\n",
              "    <tr style=\"text-align: right;\">\n",
              "      <th></th>\n",
              "      <th>id</th>\n",
              "      <th>content</th>\n",
              "      <th>abstract</th>\n",
              "      <th>Unnamed: 3</th>\n",
              "      <th>Unnamed: 4</th>\n",
              "      <th>Unnamed: 5</th>\n",
              "      <th>Unnamed: 6</th>\n",
              "      <th>Unnamed: 7</th>\n",
              "      <th>Unnamed: 8</th>\n",
              "      <th>Unnamed: 9</th>\n",
              "      <th>...</th>\n",
              "      <th>Unnamed: 98</th>\n",
              "      <th>Unnamed: 99</th>\n",
              "      <th>Unnamed: 100</th>\n",
              "      <th>Unnamed: 101</th>\n",
              "      <th>Unnamed: 102</th>\n",
              "      <th>Unnamed: 103</th>\n",
              "      <th>Unnamed: 104</th>\n",
              "      <th>Unnamed: 105</th>\n",
              "      <th>Unnamed: 106</th>\n",
              "      <th>Unnamed: 107</th>\n",
              "    </tr>\n",
              "  </thead>\n",
              "  <tbody>\n",
              "    <tr>\n",
              "      <th>0</th>\n",
              "      <td>0</td>\n",
              "      <td>【坐席】您好，实习话务员为您，【客户】服务，喂，你好，是这样的，我那个我的电话因为上次突然把...</td>\n",
              "      <td>用户来电反映手机号卡收费问题，用户称现在怎么欠费167.65，我方经查询用户有10月欠费76...</td>\n",
              "      <td>NaN</td>\n",
              "      <td>NaN</td>\n",
              "      <td>NaN</td>\n",
              "      <td>NaN</td>\n",
              "      <td>NaN</td>\n",
              "      <td>NaN</td>\n",
              "      <td>NaN</td>\n",
              "      <td>...</td>\n",
              "      <td>NaN</td>\n",
              "      <td>NaN</td>\n",
              "      <td>NaN</td>\n",
              "      <td>NaN</td>\n",
              "      <td>NaN</td>\n",
              "      <td>NaN</td>\n",
              "      <td>NaN</td>\n",
              "      <td>NaN</td>\n",
              "      <td>NaN</td>\n",
              "      <td>NaN</td>\n",
              "    </tr>\n",
              "    <tr>\n",
              "      <th>1</th>\n",
              "      <td>1</td>\n",
              "      <td>【客户】嗯，【坐席】，很高兴为您服务，【客户】喂，你好，你好，我想问一下，我没有去过这个吉林...</td>\n",
              "      <td>用户来电反映查询漫游地，显示有吉林，用户称没有去过附近，要求核实回复，请处理谢谢</td>\n",
              "      <td>NaN</td>\n",
              "      <td>NaN</td>\n",
              "      <td>NaN</td>\n",
              "      <td>NaN</td>\n",
              "      <td>NaN</td>\n",
              "      <td>NaN</td>\n",
              "      <td>NaN</td>\n",
              "      <td>...</td>\n",
              "      <td>NaN</td>\n",
              "      <td>NaN</td>\n",
              "      <td>NaN</td>\n",
              "      <td>NaN</td>\n",
              "      <td>NaN</td>\n",
              "      <td>NaN</td>\n",
              "      <td>NaN</td>\n",
              "      <td>NaN</td>\n",
              "      <td>NaN</td>\n",
              "      <td>NaN</td>\n",
              "    </tr>\n",
              "    <tr>\n",
              "      <th>2</th>\n",
              "      <td>2</td>\n",
              "      <td>【客户】嗯，【坐席】，您好，实习话务员为您服务，【客户】喂你好，然后我这某某人卡，然后有有两...</td>\n",
              "      <td>用户来电想要取消20元语音特惠包（200分钟另得100条短信）-立即生效，我方取消不成功，用...</td>\n",
              "      <td>NaN</td>\n",
              "      <td>NaN</td>\n",
              "      <td>NaN</td>\n",
              "      <td>NaN</td>\n",
              "      <td>NaN</td>\n",
              "      <td>NaN</td>\n",
              "      <td>NaN</td>\n",
              "      <td>...</td>\n",
              "      <td>NaN</td>\n",
              "      <td>NaN</td>\n",
              "      <td>NaN</td>\n",
              "      <td>NaN</td>\n",
              "      <td>NaN</td>\n",
              "      <td>NaN</td>\n",
              "      <td>NaN</td>\n",
              "      <td>NaN</td>\n",
              "      <td>NaN</td>\n",
              "      <td>NaN</td>\n",
              "    </tr>\n",
              "  </tbody>\n",
              "</table>\n",
              "<p>3 rows × 108 columns</p>\n",
              "</div>\n",
              "    <div class=\"colab-df-buttons\">\n",
              "\n",
              "  <div class=\"colab-df-container\">\n",
              "    <button class=\"colab-df-convert\" onclick=\"convertToInteractive('df-223a96eb-f918-4d7a-a85f-d34afe206158')\"\n",
              "            title=\"Convert this dataframe to an interactive table.\"\n",
              "            style=\"display:none;\">\n",
              "\n",
              "  <svg xmlns=\"http://www.w3.org/2000/svg\" height=\"24px\" viewBox=\"0 -960 960 960\">\n",
              "    <path d=\"M120-120v-720h720v720H120Zm60-500h600v-160H180v160Zm220 220h160v-160H400v160Zm0 220h160v-160H400v160ZM180-400h160v-160H180v160Zm440 0h160v-160H620v160ZM180-180h160v-160H180v160Zm440 0h160v-160H620v160Z\"/>\n",
              "  </svg>\n",
              "    </button>\n",
              "\n",
              "  <style>\n",
              "    .colab-df-container {\n",
              "      display:flex;\n",
              "      gap: 12px;\n",
              "    }\n",
              "\n",
              "    .colab-df-convert {\n",
              "      background-color: #E8F0FE;\n",
              "      border: none;\n",
              "      border-radius: 50%;\n",
              "      cursor: pointer;\n",
              "      display: none;\n",
              "      fill: #1967D2;\n",
              "      height: 32px;\n",
              "      padding: 0 0 0 0;\n",
              "      width: 32px;\n",
              "    }\n",
              "\n",
              "    .colab-df-convert:hover {\n",
              "      background-color: #E2EBFA;\n",
              "      box-shadow: 0px 1px 2px rgba(60, 64, 67, 0.3), 0px 1px 3px 1px rgba(60, 64, 67, 0.15);\n",
              "      fill: #174EA6;\n",
              "    }\n",
              "\n",
              "    .colab-df-buttons div {\n",
              "      margin-bottom: 4px;\n",
              "    }\n",
              "\n",
              "    [theme=dark] .colab-df-convert {\n",
              "      background-color: #3B4455;\n",
              "      fill: #D2E3FC;\n",
              "    }\n",
              "\n",
              "    [theme=dark] .colab-df-convert:hover {\n",
              "      background-color: #434B5C;\n",
              "      box-shadow: 0px 1px 3px 1px rgba(0, 0, 0, 0.15);\n",
              "      filter: drop-shadow(0px 1px 2px rgba(0, 0, 0, 0.3));\n",
              "      fill: #FFFFFF;\n",
              "    }\n",
              "  </style>\n",
              "\n",
              "    <script>\n",
              "      const buttonEl =\n",
              "        document.querySelector('#df-223a96eb-f918-4d7a-a85f-d34afe206158 button.colab-df-convert');\n",
              "      buttonEl.style.display =\n",
              "        google.colab.kernel.accessAllowed ? 'block' : 'none';\n",
              "\n",
              "      async function convertToInteractive(key) {\n",
              "        const element = document.querySelector('#df-223a96eb-f918-4d7a-a85f-d34afe206158');\n",
              "        const dataTable =\n",
              "          await google.colab.kernel.invokeFunction('convertToInteractive',\n",
              "                                                    [key], {});\n",
              "        if (!dataTable) return;\n",
              "\n",
              "        const docLinkHtml = 'Like what you see? Visit the ' +\n",
              "          '<a target=\"_blank\" href=https://colab.research.google.com/notebooks/data_table.ipynb>data table notebook</a>'\n",
              "          + ' to learn more about interactive tables.';\n",
              "        element.innerHTML = '';\n",
              "        dataTable['output_type'] = 'display_data';\n",
              "        await google.colab.output.renderOutput(dataTable, element);\n",
              "        const docLink = document.createElement('div');\n",
              "        docLink.innerHTML = docLinkHtml;\n",
              "        element.appendChild(docLink);\n",
              "      }\n",
              "    </script>\n",
              "  </div>\n",
              "\n",
              "\n",
              "<div id=\"df-8b65fcd1-3a9b-4d23-86e4-bcf3e85fdf0d\">\n",
              "  <button class=\"colab-df-quickchart\" onclick=\"quickchart('df-8b65fcd1-3a9b-4d23-86e4-bcf3e85fdf0d')\"\n",
              "            title=\"Suggest charts\"\n",
              "            style=\"display:none;\">\n",
              "\n",
              "<svg xmlns=\"http://www.w3.org/2000/svg\" height=\"24px\"viewBox=\"0 0 24 24\"\n",
              "     width=\"24px\">\n",
              "    <g>\n",
              "        <path d=\"M19 3H5c-1.1 0-2 .9-2 2v14c0 1.1.9 2 2 2h14c1.1 0 2-.9 2-2V5c0-1.1-.9-2-2-2zM9 17H7v-7h2v7zm4 0h-2V7h2v10zm4 0h-2v-4h2v4z\"/>\n",
              "    </g>\n",
              "</svg>\n",
              "  </button>\n",
              "\n",
              "<style>\n",
              "  .colab-df-quickchart {\n",
              "      --bg-color: #E8F0FE;\n",
              "      --fill-color: #1967D2;\n",
              "      --hover-bg-color: #E2EBFA;\n",
              "      --hover-fill-color: #174EA6;\n",
              "      --disabled-fill-color: #AAA;\n",
              "      --disabled-bg-color: #DDD;\n",
              "  }\n",
              "\n",
              "  [theme=dark] .colab-df-quickchart {\n",
              "      --bg-color: #3B4455;\n",
              "      --fill-color: #D2E3FC;\n",
              "      --hover-bg-color: #434B5C;\n",
              "      --hover-fill-color: #FFFFFF;\n",
              "      --disabled-bg-color: #3B4455;\n",
              "      --disabled-fill-color: #666;\n",
              "  }\n",
              "\n",
              "  .colab-df-quickchart {\n",
              "    background-color: var(--bg-color);\n",
              "    border: none;\n",
              "    border-radius: 50%;\n",
              "    cursor: pointer;\n",
              "    display: none;\n",
              "    fill: var(--fill-color);\n",
              "    height: 32px;\n",
              "    padding: 0;\n",
              "    width: 32px;\n",
              "  }\n",
              "\n",
              "  .colab-df-quickchart:hover {\n",
              "    background-color: var(--hover-bg-color);\n",
              "    box-shadow: 0 1px 2px rgba(60, 64, 67, 0.3), 0 1px 3px 1px rgba(60, 64, 67, 0.15);\n",
              "    fill: var(--button-hover-fill-color);\n",
              "  }\n",
              "\n",
              "  .colab-df-quickchart-complete:disabled,\n",
              "  .colab-df-quickchart-complete:disabled:hover {\n",
              "    background-color: var(--disabled-bg-color);\n",
              "    fill: var(--disabled-fill-color);\n",
              "    box-shadow: none;\n",
              "  }\n",
              "\n",
              "  .colab-df-spinner {\n",
              "    border: 2px solid var(--fill-color);\n",
              "    border-color: transparent;\n",
              "    border-bottom-color: var(--fill-color);\n",
              "    animation:\n",
              "      spin 1s steps(1) infinite;\n",
              "  }\n",
              "\n",
              "  @keyframes spin {\n",
              "    0% {\n",
              "      border-color: transparent;\n",
              "      border-bottom-color: var(--fill-color);\n",
              "      border-left-color: var(--fill-color);\n",
              "    }\n",
              "    20% {\n",
              "      border-color: transparent;\n",
              "      border-left-color: var(--fill-color);\n",
              "      border-top-color: var(--fill-color);\n",
              "    }\n",
              "    30% {\n",
              "      border-color: transparent;\n",
              "      border-left-color: var(--fill-color);\n",
              "      border-top-color: var(--fill-color);\n",
              "      border-right-color: var(--fill-color);\n",
              "    }\n",
              "    40% {\n",
              "      border-color: transparent;\n",
              "      border-right-color: var(--fill-color);\n",
              "      border-top-color: var(--fill-color);\n",
              "    }\n",
              "    60% {\n",
              "      border-color: transparent;\n",
              "      border-right-color: var(--fill-color);\n",
              "    }\n",
              "    80% {\n",
              "      border-color: transparent;\n",
              "      border-right-color: var(--fill-color);\n",
              "      border-bottom-color: var(--fill-color);\n",
              "    }\n",
              "    90% {\n",
              "      border-color: transparent;\n",
              "      border-bottom-color: var(--fill-color);\n",
              "    }\n",
              "  }\n",
              "</style>\n",
              "\n",
              "  <script>\n",
              "    async function quickchart(key) {\n",
              "      const quickchartButtonEl =\n",
              "        document.querySelector('#' + key + ' button');\n",
              "      quickchartButtonEl.disabled = true;  // To prevent multiple clicks.\n",
              "      quickchartButtonEl.classList.add('colab-df-spinner');\n",
              "      try {\n",
              "        const charts = await google.colab.kernel.invokeFunction(\n",
              "            'suggestCharts', [key], {});\n",
              "      } catch (error) {\n",
              "        console.error('Error during call to suggestCharts:', error);\n",
              "      }\n",
              "      quickchartButtonEl.classList.remove('colab-df-spinner');\n",
              "      quickchartButtonEl.classList.add('colab-df-quickchart-complete');\n",
              "    }\n",
              "    (() => {\n",
              "      let quickchartButtonEl =\n",
              "        document.querySelector('#df-8b65fcd1-3a9b-4d23-86e4-bcf3e85fdf0d button');\n",
              "      quickchartButtonEl.style.display =\n",
              "        google.colab.kernel.accessAllowed ? 'block' : 'none';\n",
              "    })();\n",
              "  </script>\n",
              "</div>\n",
              "    </div>\n",
              "  </div>\n"
            ],
            "application/vnd.google.colaboratory.intrinsic+json": {
              "type": "dataframe",
              "variable_name": "train_df"
            }
          },
          "metadata": {},
          "execution_count": 39
        }
      ]
    },
    {
      "cell_type": "code",
      "source": [
        "train_df = train_df[['id', 'content', 'abstract', 'Unnamed: 3', 'Unnamed: 4', 'Unnamed: 5']]\n",
        "\n",
        "train_df = train_df.fillna(\"\")"
      ],
      "metadata": {
        "id": "aRZKJNOeq9AT"
      },
      "id": "aRZKJNOeq9AT",
      "execution_count": 40,
      "outputs": []
    },
    {
      "cell_type": "code",
      "source": [
        "from tqdm import tqdm\n",
        "\n",
        "cnt = 0\n",
        "for i, row in tqdm(train_df.iterrows()):\n",
        "  abstract = row['abstract']\n",
        "  if 0 == len(abstract):\n",
        "    abstract = row['Unnamed: 3'] +  row['Unnamed: 4'] +  row['Unnamed: 5']\n",
        "    train_df.at[i, 'abstract'] = abstract\n",
        "    cnt += 1"
      ],
      "metadata": {
        "colab": {
          "base_uri": "https://localhost:8080/"
        },
        "id": "bsiCoALtrC8A",
        "outputId": "80f2f4a8-1cde-41af-f3c9-708b0dfa03a6"
      },
      "id": "bsiCoALtrC8A",
      "execution_count": 41,
      "outputs": [
        {
          "output_type": "stream",
          "name": "stderr",
          "text": [
            "25001it [00:01, 16233.94it/s]\n"
          ]
        }
      ]
    },
    {
      "cell_type": "code",
      "source": [
        "print(cnt)"
      ],
      "metadata": {
        "colab": {
          "base_uri": "https://localhost:8080/"
        },
        "id": "Yjtc751DshlZ",
        "outputId": "f18c679c-e18e-4d47-f725-b74a8c21e61c"
      },
      "id": "Yjtc751DshlZ",
      "execution_count": 42,
      "outputs": [
        {
          "output_type": "stream",
          "name": "stdout",
          "text": [
            "61\n"
          ]
        }
      ]
    },
    {
      "cell_type": "code",
      "source": [
        "train_df.head(3)"
      ],
      "metadata": {
        "colab": {
          "base_uri": "https://localhost:8080/",
          "height": 212
        },
        "id": "gW-nOwBRspvC",
        "outputId": "28b172b4-30e1-491a-95c3-217cfee823c4"
      },
      "id": "gW-nOwBRspvC",
      "execution_count": 43,
      "outputs": [
        {
          "output_type": "execute_result",
          "data": {
            "text/plain": [
              "   id                                            content  \\\n",
              "0   0  【坐席】您好，实习话务员为您，【客户】服务，喂，你好，是这样的，我那个我的电话因为上次突然把...   \n",
              "1   1  【客户】嗯，【坐席】，很高兴为您服务，【客户】喂，你好，你好，我想问一下，我没有去过这个吉林...   \n",
              "2   2  【客户】嗯，【坐席】，您好，实习话务员为您服务，【客户】喂你好，然后我这某某人卡，然后有有两...   \n",
              "\n",
              "                                            abstract Unnamed: 3 Unnamed: 4  \\\n",
              "0  用户来电反映手机号卡收费问题，用户称现在怎么欠费167.65，我方经查询用户有10月欠费76...                         \n",
              "1           用户来电反映查询漫游地，显示有吉林，用户称没有去过附近，要求核实回复，请处理谢谢                         \n",
              "2  用户来电想要取消20元语音特惠包（200分钟另得100条短信）-立即生效，我方取消不成功，用...                         \n",
              "\n",
              "  Unnamed: 5  \n",
              "0             \n",
              "1             \n",
              "2             "
            ],
            "text/html": [
              "\n",
              "  <div id=\"df-e9dd9247-8e78-4173-a00a-cd8301111384\" class=\"colab-df-container\">\n",
              "    <div>\n",
              "<style scoped>\n",
              "    .dataframe tbody tr th:only-of-type {\n",
              "        vertical-align: middle;\n",
              "    }\n",
              "\n",
              "    .dataframe tbody tr th {\n",
              "        vertical-align: top;\n",
              "    }\n",
              "\n",
              "    .dataframe thead th {\n",
              "        text-align: right;\n",
              "    }\n",
              "</style>\n",
              "<table border=\"1\" class=\"dataframe\">\n",
              "  <thead>\n",
              "    <tr style=\"text-align: right;\">\n",
              "      <th></th>\n",
              "      <th>id</th>\n",
              "      <th>content</th>\n",
              "      <th>abstract</th>\n",
              "      <th>Unnamed: 3</th>\n",
              "      <th>Unnamed: 4</th>\n",
              "      <th>Unnamed: 5</th>\n",
              "    </tr>\n",
              "  </thead>\n",
              "  <tbody>\n",
              "    <tr>\n",
              "      <th>0</th>\n",
              "      <td>0</td>\n",
              "      <td>【坐席】您好，实习话务员为您，【客户】服务，喂，你好，是这样的，我那个我的电话因为上次突然把...</td>\n",
              "      <td>用户来电反映手机号卡收费问题，用户称现在怎么欠费167.65，我方经查询用户有10月欠费76...</td>\n",
              "      <td></td>\n",
              "      <td></td>\n",
              "      <td></td>\n",
              "    </tr>\n",
              "    <tr>\n",
              "      <th>1</th>\n",
              "      <td>1</td>\n",
              "      <td>【客户】嗯，【坐席】，很高兴为您服务，【客户】喂，你好，你好，我想问一下，我没有去过这个吉林...</td>\n",
              "      <td>用户来电反映查询漫游地，显示有吉林，用户称没有去过附近，要求核实回复，请处理谢谢</td>\n",
              "      <td></td>\n",
              "      <td></td>\n",
              "      <td></td>\n",
              "    </tr>\n",
              "    <tr>\n",
              "      <th>2</th>\n",
              "      <td>2</td>\n",
              "      <td>【客户】嗯，【坐席】，您好，实习话务员为您服务，【客户】喂你好，然后我这某某人卡，然后有有两...</td>\n",
              "      <td>用户来电想要取消20元语音特惠包（200分钟另得100条短信）-立即生效，我方取消不成功，用...</td>\n",
              "      <td></td>\n",
              "      <td></td>\n",
              "      <td></td>\n",
              "    </tr>\n",
              "  </tbody>\n",
              "</table>\n",
              "</div>\n",
              "    <div class=\"colab-df-buttons\">\n",
              "\n",
              "  <div class=\"colab-df-container\">\n",
              "    <button class=\"colab-df-convert\" onclick=\"convertToInteractive('df-e9dd9247-8e78-4173-a00a-cd8301111384')\"\n",
              "            title=\"Convert this dataframe to an interactive table.\"\n",
              "            style=\"display:none;\">\n",
              "\n",
              "  <svg xmlns=\"http://www.w3.org/2000/svg\" height=\"24px\" viewBox=\"0 -960 960 960\">\n",
              "    <path d=\"M120-120v-720h720v720H120Zm60-500h600v-160H180v160Zm220 220h160v-160H400v160Zm0 220h160v-160H400v160ZM180-400h160v-160H180v160Zm440 0h160v-160H620v160ZM180-180h160v-160H180v160Zm440 0h160v-160H620v160Z\"/>\n",
              "  </svg>\n",
              "    </button>\n",
              "\n",
              "  <style>\n",
              "    .colab-df-container {\n",
              "      display:flex;\n",
              "      gap: 12px;\n",
              "    }\n",
              "\n",
              "    .colab-df-convert {\n",
              "      background-color: #E8F0FE;\n",
              "      border: none;\n",
              "      border-radius: 50%;\n",
              "      cursor: pointer;\n",
              "      display: none;\n",
              "      fill: #1967D2;\n",
              "      height: 32px;\n",
              "      padding: 0 0 0 0;\n",
              "      width: 32px;\n",
              "    }\n",
              "\n",
              "    .colab-df-convert:hover {\n",
              "      background-color: #E2EBFA;\n",
              "      box-shadow: 0px 1px 2px rgba(60, 64, 67, 0.3), 0px 1px 3px 1px rgba(60, 64, 67, 0.15);\n",
              "      fill: #174EA6;\n",
              "    }\n",
              "\n",
              "    .colab-df-buttons div {\n",
              "      margin-bottom: 4px;\n",
              "    }\n",
              "\n",
              "    [theme=dark] .colab-df-convert {\n",
              "      background-color: #3B4455;\n",
              "      fill: #D2E3FC;\n",
              "    }\n",
              "\n",
              "    [theme=dark] .colab-df-convert:hover {\n",
              "      background-color: #434B5C;\n",
              "      box-shadow: 0px 1px 3px 1px rgba(0, 0, 0, 0.15);\n",
              "      filter: drop-shadow(0px 1px 2px rgba(0, 0, 0, 0.3));\n",
              "      fill: #FFFFFF;\n",
              "    }\n",
              "  </style>\n",
              "\n",
              "    <script>\n",
              "      const buttonEl =\n",
              "        document.querySelector('#df-e9dd9247-8e78-4173-a00a-cd8301111384 button.colab-df-convert');\n",
              "      buttonEl.style.display =\n",
              "        google.colab.kernel.accessAllowed ? 'block' : 'none';\n",
              "\n",
              "      async function convertToInteractive(key) {\n",
              "        const element = document.querySelector('#df-e9dd9247-8e78-4173-a00a-cd8301111384');\n",
              "        const dataTable =\n",
              "          await google.colab.kernel.invokeFunction('convertToInteractive',\n",
              "                                                    [key], {});\n",
              "        if (!dataTable) return;\n",
              "\n",
              "        const docLinkHtml = 'Like what you see? Visit the ' +\n",
              "          '<a target=\"_blank\" href=https://colab.research.google.com/notebooks/data_table.ipynb>data table notebook</a>'\n",
              "          + ' to learn more about interactive tables.';\n",
              "        element.innerHTML = '';\n",
              "        dataTable['output_type'] = 'display_data';\n",
              "        await google.colab.output.renderOutput(dataTable, element);\n",
              "        const docLink = document.createElement('div');\n",
              "        docLink.innerHTML = docLinkHtml;\n",
              "        element.appendChild(docLink);\n",
              "      }\n",
              "    </script>\n",
              "  </div>\n",
              "\n",
              "\n",
              "<div id=\"df-8a2e8125-0202-4dc5-92b1-bf63e8e4b73e\">\n",
              "  <button class=\"colab-df-quickchart\" onclick=\"quickchart('df-8a2e8125-0202-4dc5-92b1-bf63e8e4b73e')\"\n",
              "            title=\"Suggest charts\"\n",
              "            style=\"display:none;\">\n",
              "\n",
              "<svg xmlns=\"http://www.w3.org/2000/svg\" height=\"24px\"viewBox=\"0 0 24 24\"\n",
              "     width=\"24px\">\n",
              "    <g>\n",
              "        <path d=\"M19 3H5c-1.1 0-2 .9-2 2v14c0 1.1.9 2 2 2h14c1.1 0 2-.9 2-2V5c0-1.1-.9-2-2-2zM9 17H7v-7h2v7zm4 0h-2V7h2v10zm4 0h-2v-4h2v4z\"/>\n",
              "    </g>\n",
              "</svg>\n",
              "  </button>\n",
              "\n",
              "<style>\n",
              "  .colab-df-quickchart {\n",
              "      --bg-color: #E8F0FE;\n",
              "      --fill-color: #1967D2;\n",
              "      --hover-bg-color: #E2EBFA;\n",
              "      --hover-fill-color: #174EA6;\n",
              "      --disabled-fill-color: #AAA;\n",
              "      --disabled-bg-color: #DDD;\n",
              "  }\n",
              "\n",
              "  [theme=dark] .colab-df-quickchart {\n",
              "      --bg-color: #3B4455;\n",
              "      --fill-color: #D2E3FC;\n",
              "      --hover-bg-color: #434B5C;\n",
              "      --hover-fill-color: #FFFFFF;\n",
              "      --disabled-bg-color: #3B4455;\n",
              "      --disabled-fill-color: #666;\n",
              "  }\n",
              "\n",
              "  .colab-df-quickchart {\n",
              "    background-color: var(--bg-color);\n",
              "    border: none;\n",
              "    border-radius: 50%;\n",
              "    cursor: pointer;\n",
              "    display: none;\n",
              "    fill: var(--fill-color);\n",
              "    height: 32px;\n",
              "    padding: 0;\n",
              "    width: 32px;\n",
              "  }\n",
              "\n",
              "  .colab-df-quickchart:hover {\n",
              "    background-color: var(--hover-bg-color);\n",
              "    box-shadow: 0 1px 2px rgba(60, 64, 67, 0.3), 0 1px 3px 1px rgba(60, 64, 67, 0.15);\n",
              "    fill: var(--button-hover-fill-color);\n",
              "  }\n",
              "\n",
              "  .colab-df-quickchart-complete:disabled,\n",
              "  .colab-df-quickchart-complete:disabled:hover {\n",
              "    background-color: var(--disabled-bg-color);\n",
              "    fill: var(--disabled-fill-color);\n",
              "    box-shadow: none;\n",
              "  }\n",
              "\n",
              "  .colab-df-spinner {\n",
              "    border: 2px solid var(--fill-color);\n",
              "    border-color: transparent;\n",
              "    border-bottom-color: var(--fill-color);\n",
              "    animation:\n",
              "      spin 1s steps(1) infinite;\n",
              "  }\n",
              "\n",
              "  @keyframes spin {\n",
              "    0% {\n",
              "      border-color: transparent;\n",
              "      border-bottom-color: var(--fill-color);\n",
              "      border-left-color: var(--fill-color);\n",
              "    }\n",
              "    20% {\n",
              "      border-color: transparent;\n",
              "      border-left-color: var(--fill-color);\n",
              "      border-top-color: var(--fill-color);\n",
              "    }\n",
              "    30% {\n",
              "      border-color: transparent;\n",
              "      border-left-color: var(--fill-color);\n",
              "      border-top-color: var(--fill-color);\n",
              "      border-right-color: var(--fill-color);\n",
              "    }\n",
              "    40% {\n",
              "      border-color: transparent;\n",
              "      border-right-color: var(--fill-color);\n",
              "      border-top-color: var(--fill-color);\n",
              "    }\n",
              "    60% {\n",
              "      border-color: transparent;\n",
              "      border-right-color: var(--fill-color);\n",
              "    }\n",
              "    80% {\n",
              "      border-color: transparent;\n",
              "      border-right-color: var(--fill-color);\n",
              "      border-bottom-color: var(--fill-color);\n",
              "    }\n",
              "    90% {\n",
              "      border-color: transparent;\n",
              "      border-bottom-color: var(--fill-color);\n",
              "    }\n",
              "  }\n",
              "</style>\n",
              "\n",
              "  <script>\n",
              "    async function quickchart(key) {\n",
              "      const quickchartButtonEl =\n",
              "        document.querySelector('#' + key + ' button');\n",
              "      quickchartButtonEl.disabled = true;  // To prevent multiple clicks.\n",
              "      quickchartButtonEl.classList.add('colab-df-spinner');\n",
              "      try {\n",
              "        const charts = await google.colab.kernel.invokeFunction(\n",
              "            'suggestCharts', [key], {});\n",
              "      } catch (error) {\n",
              "        console.error('Error during call to suggestCharts:', error);\n",
              "      }\n",
              "      quickchartButtonEl.classList.remove('colab-df-spinner');\n",
              "      quickchartButtonEl.classList.add('colab-df-quickchart-complete');\n",
              "    }\n",
              "    (() => {\n",
              "      let quickchartButtonEl =\n",
              "        document.querySelector('#df-8a2e8125-0202-4dc5-92b1-bf63e8e4b73e button');\n",
              "      quickchartButtonEl.style.display =\n",
              "        google.colab.kernel.accessAllowed ? 'block' : 'none';\n",
              "    })();\n",
              "  </script>\n",
              "</div>\n",
              "    </div>\n",
              "  </div>\n"
            ],
            "application/vnd.google.colaboratory.intrinsic+json": {
              "type": "dataframe",
              "variable_name": "train_df",
              "summary": "{\n  \"name\": \"train_df\",\n  \"rows\": 25001,\n  \"fields\": [\n    {\n      \"column\": \"id\",\n      \"properties\": {\n        \"dtype\": \"number\",\n        \"std\": 7217,\n        \"min\": 0,\n        \"max\": 25000,\n        \"num_unique_values\": 25001,\n        \"samples\": [\n          6868,\n          19684,\n          9668\n        ],\n        \"semantic_type\": \"\",\n        \"description\": \"\"\n      }\n    },\n    {\n      \"column\": \"content\",\n      \"properties\": {\n        \"dtype\": \"string\",\n        \"num_unique_values\": 25001,\n        \"samples\": [\n          \"\\u3010\\u5ba2\\u6237\\u3011\\u5341\\u5757\\uff0c\\u3010\\u5750\\u5e2d\\u3011\\u8bdd\\u52a1\\u5458\\u4e3a\\u60a8\\u670d\\u52a1\\uff0c\\u60a8\\u597d\\uff0c\\u3010\\u5ba2\\u6237\\u3011\\u5582\\u4f60\\u597d\\uff0c\\u6211\\u90a3\\u5929\\u53cd\\u6620\\u4e86\\u4e00\\u4e2a\\u95ee\\u9898\\uff0c\\u6211\\u5c31\\u7528\\u4e86\\u4e00\\u4e2a\\u8033\\u673a\\uff0c\\u5b83\\u4e00\\u76f4\\u65ad\\u65ad\\u7eed\\u7eed\\uff0c\\u4e00\\u76f4\\u65ad\\u65ad\\u7eed\\u7eed\\u7684\\uff0c\\u5230\\u73b0\\u5728\\u6ca1\\u4eba\\u7406\\u6211\\u5440\\uff1f\\u3010\\u5750\\u5e2d\\u3011\\u60a8\\u8bf4\\u60a8\\u524d\\u6bb5\\u65f6\\u95f4\\u4f60\\u53cd\\u6620\\u8fc7\\u8fd9\\u4e2a\\u95ee\\u9898\\u662f\\u5417\\uff0c\\u5f53\\u5f53\\u65f6\\u6253\\u8fc710010\\u5ba2\\u670d\\u5bf9\\u5427\\uff1f\\u60a8\\u770b\\u60a8\\u662f\\u4ec0\\u4e48\\u65f6\\u95f4\\u5462\\uff1f\\u6211\\u5e2e\\u60a8\\u770b\\u4e00\\u4e0b\\u8fd9\\u4e2a\\u5355\\u5b50\\u3010\\u5ba2\\u6237\\u3011\\u5bf9\\u94b1\\u5e74\\u524d\\uff1f\\u3010\\u5750\\u5e2d\\u3011\\u8fc7\\u5e74\\u4e4b\\u524d\\u662f\\u5417\\uff0c\\u60a8\\u7a0d\\u7b49\\u4e00\\u4e0b\\uff0c\\u5662\\uff0c\\u60a8\\u662f\\u8bf4\\u5c31\\u662f\\u6709\\u8fd9\\u4e48\\u4e00\\u4e2a\\u84dd\\u7259\\u8033\\u673a\\u662f\\u5417\\uff1fLP3\\u4e2a\\u901a\\u8bdd\\u84dd\\u7259\\u8033\\u673a\\u662f\\u5417\\uff1f\\u4f7f\\u7528\\u8fc7\\u7a0b\\u4e2d\\u65ad\\u65ad\\u7eed\\u7eed\\u8054\\u7cfb\\u7b2c\\u4e09\\u65b9\\uff0c\\u7136\\u540e\\u7528\\u67d0\\u67d0\\u4eba\\u5bc4\\u56de\\uff0c\\u5982\\u5c3d\\u91cf\\u95ee\\u9898\\u53ef\\u4ee5\\u66f4\\u6362\\uff0c\\u662f\\u8fd9\\u4e48\\u4e00\\u4e2a\\u4e8b\\u5417\\uff1f\\u5c31\\u662f\\u60a8\\u4e0d\\u6fc0\\u6d3b\\u5bf9\\u5427\\uff0c\\u662f\\u8fd9\\u4e2a\\u5427\\uff0c\\u6211\\u7ed9\\u60a8\\u770b\\u4e00\\u4e0b\\uff0c\\u3010\\u5ba2\\u6237\\u3011\\u5bf9\\u5bf9\\uff0c\\u4e0d\\u662f\\u4ed6\\u8ba9\\u6211\\u5bc4\\u56de\\uff0c\\u6211\\u600e\\u4e48\\u6fc0\\u6d3b\\u5730\\u5740\\u5979\\u4eec\\u90fd\\u90fd\\u6ca1\\u7ed9\\u6211\\uff0c\\u7b49\\u4e0b\\u6211\\u628a\\u6211\\u7684\\u5355\\u53f7\\u6211\\u53d1\\u77ed\\u4fe1\\u7ed9\\u4ed6\\uff0c\\u6211\\u53d1\\u7ed9\\u4ed6\\u4e86\\uff0c\\u7ed3\\u679c\\u5f53\\u4e2d\\u4e0d\\u6e05\\u695a\\uff0c\\u56de\\u6211\\u90fd\\u6ca1\\u56de\\u6211\\u5e2e\\u6211\\u67e5\\u4e00\\u4e0b\\u8bdd\\u8d39\\u3010\\u5750\\u5e2d\\u3011\\u55ef\\uff0c\\u8fd9\\u8fb9\\u663e\\u793a\\u3010\\u5ba2\\u6237\\u3011\\u5c31\\u662f\\u544a\\u8bc9\\u6211\\uff0c\\u3010\\u5750\\u5e2d\\u3011\\u5662\\uff0c\\u60a8\\u8bf4\\uff0c\\u3010\\u5ba2\\u6237\\u3011\\u800c\\u4e14\\u4ed6\\u544a\\u8bc9\\u6211\\u4ed6\\u68c0\\u6d4b\\u6709\\u95ee\\u9898\\u4e4b\\u540e\\u7ed9\\u6211\\u7ed9\\u6211\\u7ed9\\u6211\\u7ed9\\u6211\\u7ef4\\u4fee\\uff0c\\u8fd9\\u4e2a\\u4e1c\\u897f\\u6211\\u4e70\\u4e86\\u4e09\\u4e2a\\uff0c\\u4f60\\u4e09\\u4e2aG\\u90fd\\u8fd9\\u6837\\uff0c\\u6211\\u6000\\u7591\\u4ed6\\u68c0\\u6d4b\\u4e0d\\u51fa\\u95ee\\u9898\\u4e86\\uff1f\\u3010\\u5750\\u5e2d\\u3011\\u8fd9\\u8fb9\\u663e\\u793a\\u7684\\u8bdd\\u662f\\u7ed9\\u60a8\\u56de\\u8fc7\\u7535\\u8bdd\\uff0c\\u5148\\u751f\\uff0c\\u60a8\\u6ca1\\u63a5\\u5230\\u5417\\uff0c\\u3010\\u5ba2\\u6237\\u3011\\u6211\\u6ca1\\u63a5\\u5230\\uff0c\\u90a3\\u4ec0\\u4e48\\u65f6\\u5019\\u56de\\u7535\\u8bdd\\uff0c\\u56de\\u4e86\\u54ea\\u4e2a\\u7535\\u8bdd\\uff0c\\u54ea\\u5929\\u4ec0\\u4e48\\u65f6\\u95f4\\u7ed9\\u6211\\u56de\\u7684\\uff0c\\u3010\\u5750\\u5e2d\\u3011\\u663e\\u793a\\u7684\\u8bdd\\u662f\\u56de\\u4e86\\u60a8\\u8fd9\\u4e2a\\u6765\\u7535\\u53f7\\u7801\\u662f\\u5728\\u55ef\\uff0c2\\u67089\\u53f7\\uff0c2\\u67089\\u53f7\\u7684\\u4e2d\\u534811:38\\u7684\\u65f6\\u5019\\u7ed9\\u60a8\\u56de\\u4e86\\u4e00\\u4e2a\\uff0c\\u7136\\u540e\\u4e0b\\u53484:17\\u7684\\u65f6\\u5019\\u4e5f\\u7ed9\\u60a8\\u56de\\u4e86\\u4e00\\u4e2a\\uff1f\\u3010\\u5ba2\\u6237\\u3011\\u4f60\\u77e5\\u9053\\u5417\\u3010\\u5750\\u5e2d\\u3011\\u8fd9\\u8fb9\\u663e\\u793a\\u7684\\u8bdd\\u662f\\u8fde\\u63a5\\u5df2\\u7ecf\\u5931\\u8d25\\u4e86\\uff0c\\u6ca1\\u6709\\u63a5\\u5230\\uff0c\\u7136\\u540e\\u663e\\u793a\\u7684\\u8bdd2\\u670810\\u53f72\\u670810\\u53f7\\u7684\\u8bdd\\u662f\\u4e0b\\u53482\\u70b9\\u5de6\\u53f3\\u7ed9\\u60a8\\u56de\\uff0c\\u6765\\u56de\\u4e86\\u4e24\\u4e2a\\uff1f\\u3010\\u5ba2\\u6237\\u3011\\u5c31\\u90fd\\u6ca1\\u63a5\\u5230\\uff0c\\u5c31\\u5b8c\\u4e86\\u5c31\\u5c31\\u4e0d\\u7ba1\\u4e86\\uff0c\\u662f\\u8fd9\\u610f\\u601d\\u5417\\u3010\\u5750\\u5e2d\\u3011\\u8fd9\\u8fb9\\u663e\\u793a\\u7684\\u8bdd\\u8fde\\u63a5\\u5931\\u8d25\\u662f\\u9700\\u8981\\u60a8\\u63d0\\u4f9b\\u8fd9\\u4e2a\\u5151\\u6362\\u7684\\u5177\\u4f53\\u65f6\\u95f4\\uff0c\\u7136\\u540e\\u5982\\u679c\\u60a8\\u8fd9\\u4e2a\\u5177\\u4f53\\u63d0\\u4f9b\\u4e4b\\u540e\\u7684\\u8bdd\\uff0c\\u6211\\u518d\\u7ed9\\u60a8\\u63d0\\u4e00\\u4e2a\\u5355\\u5b50\\uff0c\\u8fd9\\u8fb9\\u663e\\u793a\\u7684\\u8bdd\\u662f\\u9700\\u8981\\uff0c\\u5982\\u679c\\u60a8\\u5728\\u6765\\u7535\\u7684\\u8bdd\\uff0c\\u518d\\u7ed9\\u60a8\\u63d0\\u4e00\\u4e2a\\u5355\\u5b50\\uff0c\\u7136\\u540e\\u60a8\\u6ce8\\u610f\\u8fd9\\u4e2a\\u6765\\u7535\\u7545\\u901a\\uff0c\\u8ba9\\u540e\\u53f0\\u4eba\\u5458\\u7ed9\\u60a8\\u66f4\\u8fdb\\uff1f\\u3010\\u5ba2\\u6237\\u3011OK\\uff0c\\u90a3\\u6211\\u600e\\u4e48\\u600e\\u4e48\\u63d0\\u4f9b\\u4f60\\uff0c\\u4f60\\u67e5\\u4e0d\\u5230\\u662f\\u5417\\uff1f\\u6211\\u4ece\\u4f60\\u4eec\\u8054\\u901aAPP\\u561b\\uff0c\\u90a3\\u4f60\\u67e5\\u4e0d\\u5230\\u662f\\u5417\\uff0c\\u3010\\u5750\\u5e2d\\u3011\\u60a8\\u8bf4\\u60a8\\u662f\\u4ece\\u8054\\u901a\\u7684\\u8fd9\\u4e2a\\u7528\\u79ef\\u5206\\u5151\\u6362\\u7684\\u8fd9\\u4e2a\\u8033\\u673a\\u662f\\u5427\\uff1f\\u60a8\\u7a0d\\u7b49\\u4e00\\u4e0b\\uff0c\\u5e2e\\u60a8\\u770b\\u4e00\\u4e0b\\u60a8\\u7684\\u8fd9\\u4e2a\\uff1f\\u3010\\u5ba2\\u6237\\u3011\\u8fd8\\u6709\\u5199\\u5b57\\u90a3\\u4e2a\\uff0c\\u8fd9\\u8fd8\\u6ca1\\u4fee\\u597d\\u554a\\uff0c\\u82cf\\u5dde\\u6545\\u4e8bS\\u7684\\u95ee\\u9898\\uff0c\\u55ef\\uff0c\\u55ef\\u597d\\u8c22\\u8c22\\uff0c\\u597d\\uff0c\\u8c22\\u8c22\\uff0c\\u55ef\\u884c\\uff0c\\u55ef\\uff0c\\u82cf\\u5dde\\u7684\\u82cf\\u5dde\\u6545\\u4e8b\\u662f\\u4ec0\\u4e48\\uff1f\\u67e5\\u5230\\u4e86\\u5417\\uff1f\\u6211\\u4e0a\\u6b21\\u7ed9\\u4f60\\u4eec\\u7ed9\\u4f60\\u4eec\\u8bf4\\u53bb\\u529e\\u7684\\u65f6\\u5019\\u6211\\u5c31\\u7ed9\\u4f60\\u62a5\\u4e86\\uff0c\\u8fd9\\u4e2a\\u5c31\\u8fd9\\u4e2a\\u5355\\u53f7\\u4e86\\uff0c\\u4f60\\u4eec\\u6ca1G\\u662f\\u5417\\uff0c\\u3010\\u5750\\u5e2d\\u3011\\u56e0\\u4e3a\\u4e0a\\u56de\\u60a8\\u8ddf\\u60a8\\u8bb0\\u5f97\\u8fd9\\u4e2a\\u5355\\u5b50\\uff0c\\u5ba2\\u670d\\u4e0d\\u662f\\u6211\\u5e2e\\u60a8\\u770b\\u4e00\\u4e0b\\uff0c\\u4ed6\\u4eec\\u7ed9\\u60a8\\u5bc4\\u4e2a\\u5355\\u5b50\\u597d\\u5417\\uff1f\\u60a8\\u7a0d\\u7b49\\u4e00\\u4e0b\\u5662\\uff0c\\u770b\\u5230\\u4e86\\u60a8\\u7684\\u8ba2\\u5355\\u53f7\\uff1f\\u3010\\u5ba2\\u6237\\u3011\\u5bf9\\u554a\\uff0c\\u90a3\\u4e3a\\u4ec0\\u4e48\\u6ca1\\u7ed9\\u6211\\u56de\\u7684\\u8bdd\\uff0c\\u8fd8\\u6709\\u4ec0\\u4e48\\u6d41\\u91cf\\u5462\\u3010\\u5750\\u5e2d\\u3011\\u5662\\uff0c\\u8fd9\\u8fb9\\u662f\\u524d\\u53f0\\uff0c\\u8fd9\\u8fb9\\u662f\\u9700\\u8981\\u60a8\\u63d0\\u4f9b\\u4e00\\u4e2a\\u65f6\\u95f4\\uff0c\\u60a8\\u6838\\u5b9e\\u7684\\u65f6\\u95f4\\u6211\\u7ed9\\u60a8\\u8fde\\u8fd9\\u4e2a\\u7535\\u8bdd\\u3010\\u5ba2\\u6237\\u3011\\u6211\\u6838\\u5b9e\\u7684\\u65f6\\u5019\\uff0c\\u5408\\u9002\\u7684\\u65f6\\u95f4\\uff0c\\u3010\\u5750\\u5e2d\\u3011\\u5c31\\u662f\\u60a8\\uff0c\\u73b0\\u5728\\u5c31\\u662f\\u60a8\\uff0c\\u5c31\\u662f\\u73b0\\u5728\\uff0c\\u5c31\\u662f\\u60a8\\u6709\\u65f6\\u95f4\\u7684\\u8bdd\\uff0c\\u6211\\u73b0\\u5728\\u7ed9\\u60a8\\u63d0\\u4e2a\\u5355\\u5b50\\uff0c\\u7136\\u540e\\u8ba9\\u540e\\u53f0\\u4eba\\u5458\\u7ed9\\u60a8\\u8fde\\u7ebf\\u5728\\u5c31\\u662f\\u8ba9\\u540e\\u53f0\\u4eba\\u5458\\u5c3d\\u5feb\\u8ddf\\u60a8\\u8054\\u7cfb\\uff1f\\u3010\\u5ba2\\u6237\\u3011\\u90a3\\u6211\\u8fd9\\u4e2a\\u7b54\\u7535\\u8bdd\\u76f8\\u5f53\\u4e8e\\u767d\\u8fbe\\u662f\\u5417\\uff0c\\u3010\\u5750\\u5e2d\\u3011\\u8fd9\\u8fb9\\u663e\\u793a\\u7684\\u8bdd\\u662f\\u8ddf\\u60a8\\u8054\\u4e86\\u56db\\u6b21\\u7535\\u8bdd\\u4e86\\u5148\\u751f\\uff1f\\u3010\\u5ba2\\u6237\\u3011\\u90a3\\u6211\\u624b\\u5c31\\u7b49\\u4e8e\\u6211\\u8fd9\\u4e2a\\u624b\\u673a\\u662f\\u5417\\uff0c\\u3010\\u5750\\u5e2d\\u3011\\u8fd9\\u663e\\u793a\\u7684\\u8bdd\\u662f\\u6253\\u5230\\u60a8\\u8fd9\\u4e2a3309\\u7684\\u8fd9\\u4e2a\\u5c3e\\u53f7\\u3010\\u5ba2\\u6237\\u3011OK\\u597d\\u597d\\uff1f\\u3010\\u5750\\u5e2d\\u3011\\u597d\\uff0c\\u60a8\\u770b\\u6211\\u518d\\u7ed9\\u60a8\\u63d0\\u4e2a\\u5355\\u5b50\\u7684\\u8bdd\\uff0c\\u8fd8\\u662f\\u60a8\\u8fd9\\u4e2a\\u53f7\\u7801\\u60a8\\u770b\\u53ef\\u4ee5\\u5417\\uff1f\\u3010\\u5ba2\\u6237\\u3011\\u53ef\\u4ee5\\u591a\\u4e45\\u554a\\uff1f\\u3010\\u5750\\u5e2d\\u3011\\u8fd9\\u4e2a\\u7684\\u8bdd\\u73b0\\u5728\\u65e0\\u6cd5\\u4fdd\\u8bc1\\u7ed9\\u60a8\\u52a0\\u4e2a\\u6025\\uff0c\\u60a8\\u770b\\u53ef\\u4ee5\\u5417\\uff0c\\u3010\\u5ba2\\u6237\\u3011\\u6211\\u544a\\u8bc9\\u4f6024\\u5c0f\\u65f6\\u4e4b\\u5185\\u4e0d\\u7ed9\\u6211\\u56de\\u7535\\u8bdd\\uff0c\\u80af\\u5b9a\\u6295\\u8bc9\\u4f60\\u4eec\\u8054\\u901aAPP\\uff0c\\u4ec0\\u4e48\\u73a9\\u610f\\u554a\\u4e1c\\u897f\\uff0c\\u4f60\\u4eec\\u4f60\\u4eec\\u4f60\\u4eec\\u8fd9\\u4e2a\\u8fd9\\u4e2a\\u4e1c\\u897f\\u561b\\uff0c\\u8fd9\\u4e2a\\u4e0d\\u4fdd\\u8bc1\\u8d44\\u6599\\u5417\\uff1f\\u597d\\u7684\\u9ebb\\u70e6\\u4f60\\u4e86\\u554a\\uff0c\\u5bc6\\u7801\\u5bc6\\u7801\\u4e86\\u5417\\uff1f\\u6211\\u4eec\\u91cd\\u5e86\\u519c\\u6751\\u54ea\\u91cc\\u6709\\u95ee\\u9898\\uff1f\\u767b\\u767b\\u90a3\\u4e2a\\u4ec0\\u4e48\\u4e1c\\u897f\\u554a\\uff1f\\u4f60\\u4eec\\u90a3\\u4e2a\\u9519\\u8bef\\u4ece2\\u6708\\u4efd\\u5230\\u73b0\\u5728\\u90fd\\u6ca1\\u6709\\uff0c\\u6ca1\\u6709\\u89e3\\u51b3\\u6211\\u7b54\\u6848\\uff0c\\u4ece\\u6211\\u6253\\u4e86\\u51e0\\u4e2a\\u7535\\u8bdd\\uff0c\\u6211\\u4eec\\u5385\\u957f\\u5c31\\u7b97\\u4e86\\u662f\\u5417\\uff1f\\u3010\\u5750\\u5e2d\\u3011\\u5148\\u751f\\uff0c\\u60a8\\u5bf9\\u6b64\\u6709\\u7591\\u95ee\\u7684\\u8bdd\\uff0c\\u6211\\u53ef\\u4ee5\\u4e00\\u8d77\\u7ed9\\u60a8\\u8bb0\\u5f55\\u5230\\u5de5\\u5355\\u91cc\\u9762\\uff0c\\u7136\\u540e\\u7ed9\\u60a8\\u8bb0\\u5f55\\u5230\\u540e\\u53f0\\uff0c\\u8ba9\\u540e\\u53f0\\u54b1\\u4eec\\u4eba\\u5458\\u8ddf\\u60a8\\u8054\\uff0c\\u8fd8\\u662f\\u60a8\\u4e0a\\u62a5\\u8fd9\\u4e2a\\u95ee\\u9898\\u4fdd\\u5305\\u62ec\\u5c31\\u662f\\u8fd9\\u4e2a\\u7ed9\\u60a8\\u6253\\u7535\\u8bdd\\uff0c\\u7136\\u540e\\u60a8\\u6ca1\\u63a5\\u5230\\uff0c\\u6ca1\\u6709\\u518d\\u6b21\\u8054\\u7cfb\\uff0c\\u8fd9\\u4e2a\\u95ee\\u9898\\u4e5f\\u662f\\u7ed9\\u60a8\\u4e00\\u5e76\\u7ed9\\u60a8\\u5bc4\\u5230\\u540e\\u53f0\\u7684\\uff0c\\u662f\\u53ef\\u4ee5\\u7684\\uff0c\\u3010\\u5ba2\\u6237\\u3011\\u554a\\uff0c\\u597d\\u3010\\u5750\\u5e2d\\u3011\\u597d\\uff0c\\u60a8\\u770b\\u60a8\\u8fd8\\u6709\\u5176\\u4ed6\\u95ee\\u9898\\u5417\\uff1f\\u6ca1\\u6709\\u597d\\u7684\\u611f\\u8c22\\u6765\\u7535\\uff0c\\u8bf7\\u60a8\\u8bf7\\u60a8\\u4fdd\\u6301\\u6765\\u7535\\u7545\\u901a\\uff0c\\u8054\\u7cfb\\u7535\\u8bdd\\u8fd8\\u662f\\u7559\\u60a8\\u8fd9\\u4e2a\\u7535\\u8bdd\\u597d\\u7684\\uff0c\\u795d\\u60a8\\u751f\\u6d3b\\u6109\\u5feb\\uff0c\\u55ef\\uff0c\\u518d\\u89c1\",\n          \"\\u3010\\u5750\\u5e2d\\u3011\\u60a8\\u597d\\u5f88\\u9ad8\\u5174\\u670d\\u52a1\\u3010\\u5ba2\\u6237\\u3011\\uff0c\\u5509\\uff0c\\u5582\\u4f60\\u597d\\uff0c\\u6211\\u9700\\u8981\\u8fd9\\u8fb9\\u5c31\\u662f\\u529e\\u4e00\\u4e2a\\u90a3\\u4e2a\\u5149\\u7ea4\\u5165\\u6237\\uff0c\\u7136\\u540e\\u6211\\u5df2\\u7ecf\\u5728\\u4f60\\u4eec\\u7684\\u667a\\u6167\\u9053\\u5bb6\\u4e0a\\u9762\\u4e0b\\u4e86\\u4e24\\u6b21\\u4e86\\uff0c\\u4e00\\u76f4\\u6ca1\\u6709\\u4eba\\u8054\\u7cfb\\u6211\\uff0c\\u597d\\u51e0\\u5929\\u4e86\\uff0c\\u662f\\u8ba9\\u5e08\\u5085\\u3010\\u5750\\u5e2d\\u3011\\u6211\\u8fd9\\u8fb9\\u53bb\\u7ed9\\u60a8\\u770b\\u4e00\\u4e0b\\u561b\\uff0c\\u7136\\u540e\\u5c31\\u662f\\u56de\\u5230\\u5bb6\\u662f\\u5417\\uff0c\\u3010\\u5ba2\\u6237\\u3011\\u8eab\\u4efd\\u8bc1\\uff1f\\u55ef\\uff0c\\u6ca1\\u4ec0\\u4e48\\u8981\\u770b\\u7684\\u5440\\uff0c\\u5c31\\u662f\\u6211\\u73b0\\u5728\\u662f\\u5c31\\u662f\\u5bb6\\u91cc\\u7684\\u90a3\\u4e2a\\u5f31\\u7535\\u76d2\\u91cc\\u8fb9\\u6ca1\\u6709\\u5149\\u7ea4\\uff0c\\u55ef\\uff0c\\u6211\\u662f\\u8981\\u8fc1\\u5149\\u7ea4\\u7ebf\\u5230\\u6211\\u5bb6\\uff0c\\u3010\\u5750\\u5e2d\\u3011\\u8bf7\\u7a0d\\u7b49\\u3010\\u5ba2\\u6237\\u3011\\u5bf9\\u4e4b\\u524d\\u5c31\\u4e5f\\u8bf4\\u4e86\\uff0c\\u8bf4\\u8fd9\\u4e2a\\u6536\\u8d39\\u4ec0\\u4e48\\u7684\\uff0c\\u6211\\u8bf4OK\\u4f60\\u4eec\\u56fd\\u7f8e\\u5c31\\u6536\\uff0c\\u3010\\u5750\\u5e2d\\u3011\\u6b63\\u786e\\u7684\\u5973\\u58eb\\uff0c\\u3010\\u5ba2\\u6237\\u3011\\u524d\\u4e24\\u5929\\u5c31\\u7533\\u8bf7\\u4e86\\u4e00\\u6b21\\uff0c\\u4eca\\u5929\\u53c8\\u7533\\u8bf7\\u4e86\\u4e00\\u6b21\\uff0c\\u7136\\u540e\\u4f60\\u4eec\\u4e0d\\u662f\\u8bf4\\u662f\\u5728\\u5fae\\u4fe1\\u90a3\\u4e2a\\u516c\\u4f17\\u53f7\\u4e0a\\u7533\\u8bf7\\u4e86\\u4e4b\\u540e\\u4f1a\\u6709\\u4eba\\u8054\\u7cfb\\u8fd8\\u662f\\u4ec0\\u4e48\\u7684\\uff1f\\u55ef\\uff0c\\u5bf9\\uff0c\\u662f\\u6ca1\\u52a8\\u9759\\u4e86\\uff0c\\u3010\\u5750\\u5e2d\\u3011\\u4f1a\\u6709\\u4eba\\u8ddf\\u60a8\\u8054\\u7cfb\\uff0c\\u5973\\u58eb\\u90a3\\u8fd9\\u4e2a\\u7684\\u8bdd\\uff0c\\u5efa\\u8bae\\u60a8\\u901a\\u8fc7\\u667a\\u6167\\u6c83\\u5bb6\\u4e0a\\u95e8\\u53bb\\u7533\\u8bf7\\u7684\\u8bdd\\uff0c\\u54b1\\u8fd9\\u4f1a\\u5230\\u5bb6\\u7533\\u8bf7\\u4e86\\uff0c\\u54b1\\u8fd9\\u8fb9\\u4eba\\u5de5\\u662f\\u67e5\\u4e0d\\u4e86\\u8fd9\\u4e2a\\u72b6\\u6001\\u7684\\uff0c\\u6240\\u4ee5\\u8bf4\\u6211\\u8fd9\\u8fb9\\u7684\\u8bdd\\u53ea\\u80fd\\u662f\\u5148\\u7ed9\\u60a8\\u767b\\u8bb0\\u53cd\\u9988\\u4e00\\u4e0b\\uff0c\\u8fd9\\u4e2a\\u5230\\u65f6\\u5019\\u4f1a\\u6709\\u4e13\\u4eba\\u8ddf\\u60a8\\u8054\\u7cfb\\u7684\\uff0c\\u3010\\u5ba2\\u6237\\u3011\\u8fd9\\u6211\\u8fd9\\u5df2\\u7ecf\\u662f\\u7b2c\\u4e09\\u6b21\\u6253\\u7535\\u8bdd\\u4e86\\uff0c\\u4f60\\u4eec\\u8981\\u662f\\u4e0d\\u60f3\\u5e72\\u8fd9\\u4e2a\\u6d3b\\uff0c\\u90a3\\u6211\\u5c31\\u627e\\u522b\\u5bb6\\u4e86\\uff0c\\u5bf9\\u4e0d\\u5bf9\\uff1f\\u7535\\u4fe1\\u8054\\u901a\\u90fd\\u53ef\\u4ee5\\uff0c\\u6211\\u8fd9\\u662f\\u56e0\\u4e3a\\u8fd9\\u4e48\\u591a\\u5e74\\u4e00\\u76f4\\u7528\\u79fb\\u52a8\\u8bf4\\u662f\\u6dfb\\u52a0\\u4e5f\\u7528\\u4f60\\u4eec\\uff0c\\u4f60\\u4eec\\u8981\\u4e0d\\u60f3\\u5f04\\u5c31\\u7b97\\u4e86\\uff0c\\u3010\\u5750\\u5e2d\\u3011\\u6211\\u8fd9\\u8fb9\\u7684\\u8bdd\\u5df2\\u7ecf\\u7ed9\\u60a8\\u5907\\u6ce8\\uff0c\\u52a0\\u6025\\u7ed9\\u60a8\\u5148\\u751f\\u90a3\\u4e2a\\u53cd\\u9988\\u4e00\\u4e0b\\uff0c\\u5973\\u58eb\\u4f1a\\u6709\\u54b1\\u4e13\\u4eba\\u8ddf\\u60a8\\u8054\\u7cfb\\u7684\\uff0c\\u60a8\\u5148\\u7b49\\u5f85\\u4e00\\u4e0b\\u56de\\u590d\\uff1f\\u3010\\u5ba2\\u6237\\u3011\\u55ef\\u597d\\uff0c\\u4eca\\u5929\\u5417\\uff1f\\u4eca\\u5929\\u53ef\\u4ee5\\u5417\\uff0c\\u3010\\u5750\\u5e2d\\u3011\\u5662\\uff0c\\u6211\\u8fd9\\u8fb9\\u53ea\\u80fd\\u5c3d\\u529b\\u7ed9\\u60a8\\u52a0\\u6025\\u5973\\u58eb\\uff0c\\u3010\\u5ba2\\u6237\\u3011\\u55ef\\uff0c\\u597d\\u597d\\u597d\\uff0c\\u4eca\\u5929\\u8981\\u662f\\u4e0d\\u6765\\u7684\\u8bdd\\u90a3\\u5c31\\u7b97\\u4e86\\uff1f\\u3010\\u5750\\u5e2d\\u3011\\u8bf7\\u95ee\\u8fd8\\u6709\\u5176\\u4ed6\\u95ee\\u9898\\u5417\\uff0c\\u3010\\u5ba2\\u6237\\u3011\\u55ef\\uff0c\\u597d\\uff0c\\u4e0d\\u7528\\u4e86\\uff0c\\u8c22\\u8c22\\u554a\\u3010\\u5750\\u5e2d\\u3011\\u611f\\u8c22\\u6765\\u7535\\uff0c\\u795d\\u60a8\\u751f\\u6d3b\\u6109\\u5feb\\uff0c\\u518d\\u89c1\",\n          \"\\u3010\\u5750\\u5e2d\\u3011\\u5f88\\u9ad8\\u5174\\u4e3a\\u60a8\\u670d\\u52a1\\uff0c\\u60a8\\u597d\\u3010\\u5ba2\\u6237\\u3011\\uff0c\\u55ef\\uff0c\\u6211\\u8fd9\\u4e2a\\u6d41\\u91cf\\u5361\\u4e3a\\u5565\\u4fe1\\u53f7\\u90fd\\u662f\\u4e24\\u683c\\u4e09\\u683c\\uff0c\\u3010\\u5750\\u5e2d\\u3011\\u56fa\\u5b9a\\u5730\\u5740\\u8fd8\\u662f\\u8bf4\\u591a\\u4e2a\\u5730\\u65b9\\u90fd\\u663e\\u793a\\u4e24\\u4e2a\\u6216\\u4e09\\u4e2a\\uff0c\\u3010\\u5ba2\\u6237\\u3011\\u57fa\\u672c\\u4e0a\\u6211\\u53bb\\u7684\\u5730\\u65b9\\u5c31\\u662f\\u4e24\\u4e09\\u4e2a\\uff0c\\u5982\\u679c\\u5145\\u503c\\u65f6\\u95f4\\u6211\\u4ea4\\u4e86\\uff0c\\u6211\\u53bb\\u5e74\\u90fd\\u884c\\u7684\\uff0c\\u6211\\u53bb\\u5e74\\u5230\\u9999\\u6e2f\\uff1f\\u3010\\u5750\\u5e2d\\u3011\\u53bb\\u5e74\\u4ec0\\u4e48\\u65f6\\u95f4\\u51fa\\u73b0\\u8fd9\\u79cd\\u60c5\\u51b5\\u7684\\u5440\\uff0c\\u3010\\u5ba2\\u6237\\u3011\\u4eca\\u5929\\u5927\\u6982\\u5c31\\u662f\\u4e24\\u4e09\\u6708\\u4efd\\uff0c\\u3010\\u5750\\u5e2d\\u3011\\u53bb\\u5e74\\u4e8c\\u4e09\\u6708\\u4efd\\u5417\\uff1f\\u3010\\u5ba2\\u6237\\u3011\\u55ef\\uff0c\\u884c\\u884c\\u884c\\uff0c\\u5c31\\u662f\\u6211\\u90a3\\u4e2a\\uff1f\\u3010\\u5750\\u5e2d\\u3011\\u55ef\\uff0c\\u60a8\\u73b0\\u5728\\u5728\\u5317\\u4eac\\u5462\\u662f\\u5427\\uff0c\\u3010\\u5ba2\\u6237\\u3011\\u6211\\u6ca1\\u5728\\u5317\\u4eac\\u3010\\u5750\\u5e2d\\u3011\\u5728\\u5f02\\u5730\\u5417\\uff1f\\u60a8\\u662f\\u5728\\u54ea\\u4e2a\\u3010\\u5ba2\\u6237\\u3011\\u7b49\\u4e00\\u4e0b\\uff1f\\u3010\\u5750***\\u7801\\u4e5f\\u4e0d\\u6b20\\u8d39\\uff0c\\u4e5f\\u6709\\u6d41\\u91cf\\uff0c\\u5148\\u751f\\uff0c\\u90a3\\u8fd9\\u79cd\\u60c5\\u51b5\\u7684\\u8bdd\\uff0c\\u6211\\u53ef\\u4ee5\\u7ed9\\u60a8\\u8bb0\\u5f55\\u4e0a\\u62a5\\uff0c\\u8ba9\\u540e\\u53f0\\u67e5\\u4e00\\u4e0b\\u60a8\\u7684\\u4e0a\\u7f51\\u6570\\u636e\\u6709\\u6ca1\\u6709\\u95ee\\u9898\\uff0c\\u90a3\\u63a5\\u6253\\u7535\\u8bdd\\u7684\\u8bdd\\uff0c\\u73b0\\u5728\\u7684\\u8bdd\\u662f\\u6709\\u51fa\\u73b0\\u4ec0\\u4e48\\u95ee\\u9898\\u5417\\uff0c\\u3010\\u5ba2\\u6237\\u3011\\u63a5\\u5230\\u7535\\u8bdd\\u6ca1\\u5565\\u95ee\\u9898\\uff0c\\u5c31\\u662f\\u7b54\\u6e38\\u620f\\u7684\\u8bdd\\uff0c\\u5f04\\u4e2a\\u5565\\u554a\\uff1f\\u90a3\\u90a3\\u90a3\\u6709\\u65f6\\u5019\\u90a3\\u4e0d\\u884c\\uff0c\\u90a3\\u7f51\\u4e00\\u76f4\\u6709\\u65f6\\u5019\\u4e0d\\u4e0d\\u884c\\u518d\\u5f00\\u4e86\\u3010\\u5750\\u5e2d\\u3011\\u90a3\\u6211\\u8fd9\\u8fb9\\u7ed9\\u60a8\\u505a\\u4e2a\\u53cd\\u9988\\uff0c\\u8ba9\\u540e\\u53f0\\u6838\\u5b9e\\u5b8c\\u4e4b\\u540e\\u7ed9\\u60a8\\u56de\\u590d\\uff0c\\u5148\\u751f\\uff0c\\u9ebb\\u70e6\\u60a8\\u6ce8\\u610f\\u63a5\\u542c\\u7535\\u8bdd\\u5427\\u3010\\u5ba2\\u6237\\u3011\\u884c\\uff0c\\u6211\\u5e2e\\u60a8\\u8bf4\\u4e00\\u4e0b\\u3010\\u5750\\u5e2d\\u3011\\u5e2e\\u60a8\\u53cd\\u9988\\u5148\\u751f\\u8fd9\\u8fb9\\u67e5\\u8be2\\u53f7\\u7801\\u72b6\\u6001\\u6b63\\u5e38\\uff0c\\u60a8\\u8fd9\\u4e2a\\u53ea\\u80fd\\u662f\\u8ba9\\u540e\\u53f0\\u7ed9\\u60a8\\u53bb\\u67e5\\u8be2\\u4e86\\uff0c\\u3010\\u5ba2\\u6237\\u3011\\u6211\\uff0c\\u90a3\\u4f60\\u7ed9\\u6211\\u5f04\\u4e00\\u4e0b\\uff0c\\u4e0d\\u60f3\\u8ddf\\u4f60\\u8bf4\\u4e00\\u4e0b\\u90a3\\u4e2a\\u5361\\u884c\\u5417\\uff1f\\u3010\\u5750\\u5e2d\\u3011\\u90a3\\u6211\\u5148\\u7ed9\\u60a8\\u5237\\u65b0\\u4e00\\u4e0b\\u5427\\uff0c\\u60a8\\u8fc7\\u4e94\\u5206\\u949f\\u91cd\\u542f\\uff0c\\u6211\\u4e5f\\u540c\\u65f6\\u5e2e\\u60a8\\u4e0a\\u62a5\\uff0c\\u8ba9\\u540e\\u53f0\\u4e5f\\u5e2e\\u60a8\\u67e5\\u4e00\\u4e0b\\u8fd9\\u4e2a\\u95ee\\u9898\\u6240\\u5728\\uff0c\\u3010\\u5ba2\\u6237\\u3011\\u5bf9\\u554a\\uff0c\\u884c\\u77e5\\u9053\\uff1f\\u3010\\u5750\\u5e2d\\u3011\\u55ef\\uff0c\\u597d\\u7684\\uff0c\\u90a3\\u60a8\\u4e94\\u5206\\u949f\\u91cd\\u542f\\uff0c\\u8fd8\\u6709\\u5176\\u4ed6\\u95ee\\u9898\\u53ef\\u4ee5\\u5e2e\\u5230\\u60a8\\u5417\\uff0c\\u3010\\u5ba2\\u6237\\u3011\\u55ef\\uff0c\\u6ca1\\u6709\\u4e86\\u3010\\u5750\\u5e2d\\u3011\\u597d\\u7684\\uff0c\\u611f\\u8c22\\u6765\\u7535\\uff0c\\u8bf7\\u60a8\\u7a0d\\u7b49\"\n        ],\n        \"semantic_type\": \"\",\n        \"description\": \"\"\n      }\n    },\n    {\n      \"column\": \"abstract\",\n      \"properties\": {\n        \"dtype\": \"string\",\n        \"num_unique_values\": 20194,\n        \"samples\": [\n          \"********\\u53f7\\u7801\\u5bf9202101\\u4ea7\\u751f\\u7684\\u4e0a\\u7f51\\u8d39\\u7528\\u4e0d\\u8ba4\\u53ef\\uff0c\\u63d0\\u793a\\uff1a 158.55\\u5143\\uff0c \\u7528\\u6237\\u4e0d\\u6ee1\\uff0c\\u8868\\u793a\\u672a\\u4f7f\\u7528\\uff0c\\u5df2\\u6309\\u7167\\u79fb\\u52a8\\u8bb0\\u5f55\\u89e3\\u91ca\\uff0c\\u7528\\u6237\\u4e0d\\u6ee1\\uff0c\\u524d\\u671f\\u5904\\u7406\\u8fc7\\u8d39\\u7528\\uff0c\\u672a\\u627f\\u8bfa\\uff0c\\u8bf7\\u6838\\u5b9e\\u5e76\\u7ed9\\u4e88\\u5904\\u7406\\uff0c\\u8c22\\u8c22 \",\n          \"\\u7528\\u6237\\u6765\\u7535\\u79f0\\u57282020\\u5e747\\u6708\\u4efd\\u7684\\u65f6\\u5019\\u529e\\u7406\\u8fc7\\u4e00\\u4e2a\\u6821\\u56ed\\u5957\\u9910\\u7684\\u7eed\\u7ea6\\uff0c\\u8ba2\\u5355\\u53f7\\uff1a********\\uff0c\\u7528\\u6237\\u8868\\u793a\\u73b0\\u5728\\u81ea\\u5df1\\u4e0d\\u60f3\\u7528\\u8fd9\\u4e2a\\u5957\\u9910\\u4e86\\uff0c\\u8981\\u6c42\\u6211\\u65b9\\u628a4\\u6708\\u4efd\\u751f\\u6548\\u7684\\u6821\\u56ed\\u5957\\u9910\\u5408\\u7ea6\\u53d6\\u6d88\\uff0c\\u8bf7\\u6838\\u5b9e\\u56de\\u590d\\u8c22\\u8c22\\uff01\",\n          \"\\u7528\\u6237\\u6765\\u7535\\u79f0\\uff0c\\u4eca\\u5929\\u5728***\\u7801\\u7684\\u505c\\u673a\\u4fdd\\u53f7\\u4e1a\\u52a1\\uff0c\\u4f46\\u662f\\u7528\\u6237\\u79f0\\u5f53\\u65f6\\u662f\\u548c\\u6b64\\u8425\\u4e1a\\u5385\\u5de5\\u4f5c\\u4eba\\u5458\\u8bf4\\u7684\\u8981\\u6c423\\u67081\\u53f7\\u751f\\u6548\\uff0c\\u73b0\\u5728\\u4e3a\\u4ec0\\u4e48\\u529e\\u7406\\u6210\\u7acb\\u5373\\u751f\\u6548\\uff0c\\u800c\\u4e14\\u56e0\\u4e3a\\u6b64\\u53f7\\u7801\\u7528\\u4e0d\\u4e86\\uff0c\\u8fd8\\u5bfc\\u81f4\\u7528\\u6237\\u522b\\u7684\\u53f7\\u7801\\u4ea7\\u751f\\u989d\\u5916\\u7684\\u8d39\\u7528\\uff0c\\u6211\\u65b9\\u5df2\\u5411\\u7528\\u6237\\u6b63\\u5e38\\u89e3\\u91ca\\uff0c\\u7528\\u6237\\u5bf9\\u6b64\\u4e0d\\u8ba4\\u53ef\\uff0c\\u8981\\u6c42\\u6295\\u8bc9\\uff0c\\u70e6\\u8bf7\\u5904\\u7406\\u8c22\\u8c22\\u3002\"\n        ],\n        \"semantic_type\": \"\",\n        \"description\": \"\"\n      }\n    },\n    {\n      \"column\": \"Unnamed: 3\",\n      \"properties\": {\n        \"dtype\": \"category\",\n        \"num_unique_values\": 26,\n        \"samples\": [\n          \"\\uff08\\u5982\\u7528\\u6237\\u5f3a\\u70c8\\u4e0d\\u8ba4\\u53ef\\u5e76\\u8ffd\\u95ee\\u65f6\\u9650\\uff0c\\u5219\\u6309\\u3010\\u9884\\u8ba1\\u5b8c\\u6210\\u65f6\\u95f4\\u3011\\u5b57\\u6bb5\\u89e3\\u7b54\\uff0c\\u56e0\\u8be5\\u95ee\\u9898\\u89e3\\u51b3\\u6d89\\u53ca\\u5230\\u8f83\\u591a\\u5ba2\\u89c2\\u539f\\u56e0\\uff0c\\u975e\\u6211\\u516c\\u53f8\\u53ef\\u63a7\\uff0c\\u5b8c\\u6210\\u65f6\\u95f4\\u53ef\\u80fd\\u4f1a\\u63d0\\u524d\\u6216\\u6ede\\u540e\\uff0c\\u4f46\\u662f\\u8bf7\\u60a8\\u653e\\u5fc3\\uff0c\\u6211\\u516c\\u53f8\\u4f1a\\u6709\\u4e13\\u95e8\\u7684\\u6280\\u672f\\u90e8\\u95e8\\u5168\\u529b\\u8ddf\\u8e2a\\u652f\\u6491\\uff09\\u3002;\\u6295\\u8bc9\\u73b0\\u8c61\\u6700\\u8fd1\\u53d1\\u751f\\u65f6\\u95f4\\uff1a\\u4e0d\\u6e05\\u695a\\uff08\\u5305\\u542b\\u521a\\u642c\\u8fc7\\u6765\\u6216\\u8005\\u8def\\u8fc7\\u7b49\\u60c5\\u51b5\\uff09;\",\n          \"2021-01-30 08:13\\u529e\\u7406\\u4e86\\u5bbd\\u5e26\\u65b0\\u88c5\\u4f46\\u662f\\u73b0\\u5728\\u5e76\\u6ca1\\u6709\\u4eba\\u5458\\u548c\\u81ea\\u5df1\\u8054\\u7cfb\\u73b0\\u5728\\u7528\\u6237\\u7740\\u6025\\u5b89\\u88c5\\u8981\\u6c42\\u6211\\u65b9\\u5c3d\\u5feb\\u5904\\u7406\\u8c22\\u8c22\",\n          \"\"\n        ],\n        \"semantic_type\": \"\",\n        \"description\": \"\"\n      }\n    },\n    {\n      \"column\": \"Unnamed: 4\",\n      \"properties\": {\n        \"dtype\": \"category\",\n        \"num_unique_values\": 749,\n        \"samples\": [\n          \"\\u7528\\u6237\\u518d\\u6b21\\u6765\\u7535\\u79f0********\\u53f7\\u7801\\u65e0\\u6cd5\\u6b63\\u5e38\\u4f7f\\u7528\\uff0c\\u6211\\u65b9\\u901a\\u8fc7\\u7cfb\\u7edf\\u67e5\\u8be2\\u8be5\\u53f7\\u7801\\u72b6\\u6001\\u662f\\u5c40\\u65b9\\u505c\\u673a\\uff08\\u7591\\u4f3c\\u8bc8\\u9a97\\u505c\\u673a\\uff09\\uff0c\\u6b63\\u5e38\\u6309\\u7167\\u77e5\\u8bc6\\u5e93\\u5411\\u7528\\u6237\\u89e3\\u91ca\\uff0c\\u7528\\u6237\\u5f3a\\u70c8\\u4e0d\\u8ba4\\u53ef\\uff0c\\u79f0\\u81ea\\u5df1\\u4eba\\u5728\\u5916\\u5730\\uff0c\\u8fd1\\u671f\\u4e0d\\u65b9\\u4fbf\\u56de\\u5317\\u4eac\\uff0c\\u8981\\u6c42\\u6211\\u65b9\\u534f\\u52a9\\u7528\\u6237\\u529e\\u7406\\u89e3\\u5c01\\uff0c\\u8bf7\\u5904\\u7406\\u8c22\\u8c22\\uff01\",\n          \"\\u7528\\u6237\\u6765\\u7535\\u79f0\\u81ea\\u5df1\\u4ece\\u6765\\u6ca1\\u6709\\u4f7f\\u7528\\u8fc7\\u624b\\u673a\\u6d41\\u91cf\\uff0c\\u4e00\\u76f4\\u4f7f\\u7528\\u7684\\u662fwifi\\uff0c\\u4f46\\u662f202012\\u6708\\u4efd\\u4ea7\\u751f\\u624b\\u673a\\u4e0a\\u7f51\\u6d41\\u91cf\\u8d39\\u752823.40\\u5143\\uff0c\\u6211\\u65b9\\u5df2\\u6309\\u7167\\u624b\\u673a\\u4e0a\\u7f51\\u65e5\\u5fd7\\u7ed9\\u7528\\u6237\\u89e3\\u91ca\\uff0c\\u7528\\u6237\\u5f3a\\u70c8\\u4e0d\\u8ba4\\u53ef\\uff0c\\u8981\\u6c42\\u6211\\u65b9\\u6838\\u5b9e\\u5904\\u7406\\uff0c\\u6211\\u65b9\\u672a\\u627f\\u8bfa\\u7528\\u6237\\u8c03\\u51cf\\u8d39\\u7528\\uff0c\\u7528\\u6237\\u8981\\u6c42\\u4eca\\u5929\\u5fc5\\u987b\\u7ed9\\u56de\\u590d\\uff0c\\u70e6\\u8bf7\\u5904\\u7406\\uff0c\\u8c22\\u8c22   \\u5df2\\u6309\\u524d\\u671f\\u5de5\\u5355\\u6b63\\u5e38\\u89e3\\u91ca\\uff0c\\u5ba2\\u6237\\u5f3a\\u70c8\\u4e0d\\u8ba4\\u53ef\\uff0c\\u79f0\\u8d39\\u7528\\u4ec0\\u4e48\\u65f6\\u5019\\u5230\\u8d26\\uff0c\\u5df2\\u5411\\u5ba2\\u6237\\u6b63\\u5e38\\u89e3\\u91ca\\uff0c\\u5ba2\\u6237\\u5f3a\\u70c8\\u4e0d\\u8ba4\\u53ef\\uff0c\\u8bf7\\u5904\\u7406\\uff0c\\u8c22\\u8c22   \\u52a0\\u6025\\uff0c\\u52a0\\u6025  \\u5de5\\u5355\\u6d41\\u6c34\\u53f7\\uff1aTS********\",\n          \"\\uff08\\u5ba2\\u6237\\u79f0\\u4f1a\\u5404\\u79cd\\u6e20\\u9053\\u6295\\u8bc9\\uff0c\\u8bf7\\u6838\\u5b9e\\u5904\\u7406\\uff0c\\u8c22\\u8c22\\uff01\\uff09***\"\n        ],\n        \"semantic_type\": \"\",\n        \"description\": \"\"\n      }\n    },\n    {\n      \"column\": \"Unnamed: 5\",\n      \"properties\": {\n        \"dtype\": \"category\",\n        \"num_unique_values\": 35,\n        \"samples\": [\n          \"*\\u8d39\\u7528\\u4e89\\u8bae\\u8d26\\u671f\\uff08\\u5982201901\\uff09\\uff1a2020-12\",\n          \"\\u7528\\u6237\\u518d\\u6b21\\u6765\\u7535\\u53cd\\u6620\\u6d41\\u91cf\\u5305\\u8d39\\u7528\\u7684\\u95ee\\u9898\\uff0c\\u8be6\\u89c1TS********\\uff08\\u5b8c\\u6210\\uff09\\uff0c\\u5df2\\u544a\\u77e5\\u7ed9\\u5176\\u6309\\u534a\\u51cf\\u514d\\u4e14\\u8d39\\u7528\\u5747\\u5df2\\u5230\\u8d26\\uff0c\\u4f46\\u7528\\u6237\\u53c8\\u4e0d\\u8ba4\\u53ef\\u4e86\\uff0c\\u79f0\\u4e4b\\u524d\\u90fd\\u662f\\u548c\\u81ea\\u5df1\\u5bb6\\u91cc\\u4eba\\u8054\\u7cfb\\u7684\\uff0c\\u4ed6\\u4e0d\\u61c2\\uff0c\\u73b0\\u8981\\u6c42\\u5168\\u989d\\u9000\\u8d39\\u3002\\u70e6\\u8bf7\\u6838\\u5b9e\\u5e76\\u56de\\u590d\\uff0c\\u8c22\\u8c22\\uff01\",\n          \"*\\u8d39\\u7528\\u4e89\\u8bae\\u8d26\\u671f\\uff08\\u5982201901\\uff09\\uff1a\\u65e0\"\n        ],\n        \"semantic_type\": \"\",\n        \"description\": \"\"\n      }\n    }\n  ]\n}"
            }
          },
          "metadata": {},
          "execution_count": 43
        }
      ]
    },
    {
      "cell_type": "code",
      "source": [
        "train_df[\"len\"] = train_df[\"abstract\"].apply(len)\n",
        "train_df[\"len\"].describe()"
      ],
      "metadata": {
        "colab": {
          "base_uri": "https://localhost:8080/"
        },
        "id": "N_AChNxwtUlb",
        "outputId": "4a125978-53f3-431c-cce1-345cdaa86ee9"
      },
      "id": "N_AChNxwtUlb",
      "execution_count": 44,
      "outputs": [
        {
          "output_type": "execute_result",
          "data": {
            "text/plain": [
              "count    25001.000000\n",
              "mean        93.825087\n",
              "std         45.562906\n",
              "min          0.000000\n",
              "25%         70.000000\n",
              "50%         86.000000\n",
              "75%        109.000000\n",
              "max        865.000000\n",
              "Name: len, dtype: float64"
            ]
          },
          "metadata": {},
          "execution_count": 44
        }
      ]
    },
    {
      "cell_type": "code",
      "source": [
        "train_df = train_df[train_df[\"len\"] > 10]\n",
        "train_df[\"len\"].describe()"
      ],
      "metadata": {
        "colab": {
          "base_uri": "https://localhost:8080/"
        },
        "id": "HKSuJu2Xtmvx",
        "outputId": "a74e9c65-3d5a-4a92-e086-d5c489f21be3"
      },
      "id": "HKSuJu2Xtmvx",
      "execution_count": 48,
      "outputs": [
        {
          "output_type": "execute_result",
          "data": {
            "text/plain": [
              "count    24591.000000\n",
              "mean        95.300191\n",
              "std         44.472686\n",
              "min         11.000000\n",
              "25%         71.000000\n",
              "50%         87.000000\n",
              "75%        109.000000\n",
              "max        865.000000\n",
              "Name: len, dtype: float64"
            ]
          },
          "metadata": {},
          "execution_count": 48
        }
      ]
    },
    {
      "cell_type": "code",
      "source": [
        "train_df.head(3)"
      ],
      "metadata": {
        "colab": {
          "base_uri": "https://localhost:8080/",
          "height": 195
        },
        "id": "eCJSau2qt-5r",
        "outputId": "a527f32d-0b8d-4032-86e4-fee89cf3fafd"
      },
      "id": "eCJSau2qt-5r",
      "execution_count": 52,
      "outputs": [
        {
          "output_type": "execute_result",
          "data": {
            "text/plain": [
              "   id                                            content  \\\n",
              "0   0  【坐席】您好，实习话务员为您，【客户】服务，喂，你好，是这样的，我那个我的电话因为上次突然把...   \n",
              "1   1  【客户】嗯，【坐席】，很高兴为您服务，【客户】喂，你好，你好，我想问一下，我没有去过这个吉林...   \n",
              "2   2  【客户】嗯，【坐席】，您好，实习话务员为您服务，【客户】喂你好，然后我这某某人卡，然后有有两...   \n",
              "\n",
              "                                            abstract  \n",
              "0  用户来电反映手机号卡收费问题，用户称现在怎么欠费167.65，我方经查询用户有10月欠费76...  \n",
              "1           用户来电反映查询漫游地，显示有吉林，用户称没有去过附近，要求核实回复，请处理谢谢  \n",
              "2  用户来电想要取消20元语音特惠包（200分钟另得100条短信）-立即生效，我方取消不成功，用...  "
            ],
            "text/html": [
              "\n",
              "  <div id=\"df-fa8b93ec-f87d-4190-ac75-da497a8c3f02\" class=\"colab-df-container\">\n",
              "    <div>\n",
              "<style scoped>\n",
              "    .dataframe tbody tr th:only-of-type {\n",
              "        vertical-align: middle;\n",
              "    }\n",
              "\n",
              "    .dataframe tbody tr th {\n",
              "        vertical-align: top;\n",
              "    }\n",
              "\n",
              "    .dataframe thead th {\n",
              "        text-align: right;\n",
              "    }\n",
              "</style>\n",
              "<table border=\"1\" class=\"dataframe\">\n",
              "  <thead>\n",
              "    <tr style=\"text-align: right;\">\n",
              "      <th></th>\n",
              "      <th>id</th>\n",
              "      <th>content</th>\n",
              "      <th>abstract</th>\n",
              "    </tr>\n",
              "  </thead>\n",
              "  <tbody>\n",
              "    <tr>\n",
              "      <th>0</th>\n",
              "      <td>0</td>\n",
              "      <td>【坐席】您好，实习话务员为您，【客户】服务，喂，你好，是这样的，我那个我的电话因为上次突然把...</td>\n",
              "      <td>用户来电反映手机号卡收费问题，用户称现在怎么欠费167.65，我方经查询用户有10月欠费76...</td>\n",
              "    </tr>\n",
              "    <tr>\n",
              "      <th>1</th>\n",
              "      <td>1</td>\n",
              "      <td>【客户】嗯，【坐席】，很高兴为您服务，【客户】喂，你好，你好，我想问一下，我没有去过这个吉林...</td>\n",
              "      <td>用户来电反映查询漫游地，显示有吉林，用户称没有去过附近，要求核实回复，请处理谢谢</td>\n",
              "    </tr>\n",
              "    <tr>\n",
              "      <th>2</th>\n",
              "      <td>2</td>\n",
              "      <td>【客户】嗯，【坐席】，您好，实习话务员为您服务，【客户】喂你好，然后我这某某人卡，然后有有两...</td>\n",
              "      <td>用户来电想要取消20元语音特惠包（200分钟另得100条短信）-立即生效，我方取消不成功，用...</td>\n",
              "    </tr>\n",
              "  </tbody>\n",
              "</table>\n",
              "</div>\n",
              "    <div class=\"colab-df-buttons\">\n",
              "\n",
              "  <div class=\"colab-df-container\">\n",
              "    <button class=\"colab-df-convert\" onclick=\"convertToInteractive('df-fa8b93ec-f87d-4190-ac75-da497a8c3f02')\"\n",
              "            title=\"Convert this dataframe to an interactive table.\"\n",
              "            style=\"display:none;\">\n",
              "\n",
              "  <svg xmlns=\"http://www.w3.org/2000/svg\" height=\"24px\" viewBox=\"0 -960 960 960\">\n",
              "    <path d=\"M120-120v-720h720v720H120Zm60-500h600v-160H180v160Zm220 220h160v-160H400v160Zm0 220h160v-160H400v160ZM180-400h160v-160H180v160Zm440 0h160v-160H620v160ZM180-180h160v-160H180v160Zm440 0h160v-160H620v160Z\"/>\n",
              "  </svg>\n",
              "    </button>\n",
              "\n",
              "  <style>\n",
              "    .colab-df-container {\n",
              "      display:flex;\n",
              "      gap: 12px;\n",
              "    }\n",
              "\n",
              "    .colab-df-convert {\n",
              "      background-color: #E8F0FE;\n",
              "      border: none;\n",
              "      border-radius: 50%;\n",
              "      cursor: pointer;\n",
              "      display: none;\n",
              "      fill: #1967D2;\n",
              "      height: 32px;\n",
              "      padding: 0 0 0 0;\n",
              "      width: 32px;\n",
              "    }\n",
              "\n",
              "    .colab-df-convert:hover {\n",
              "      background-color: #E2EBFA;\n",
              "      box-shadow: 0px 1px 2px rgba(60, 64, 67, 0.3), 0px 1px 3px 1px rgba(60, 64, 67, 0.15);\n",
              "      fill: #174EA6;\n",
              "    }\n",
              "\n",
              "    .colab-df-buttons div {\n",
              "      margin-bottom: 4px;\n",
              "    }\n",
              "\n",
              "    [theme=dark] .colab-df-convert {\n",
              "      background-color: #3B4455;\n",
              "      fill: #D2E3FC;\n",
              "    }\n",
              "\n",
              "    [theme=dark] .colab-df-convert:hover {\n",
              "      background-color: #434B5C;\n",
              "      box-shadow: 0px 1px 3px 1px rgba(0, 0, 0, 0.15);\n",
              "      filter: drop-shadow(0px 1px 2px rgba(0, 0, 0, 0.3));\n",
              "      fill: #FFFFFF;\n",
              "    }\n",
              "  </style>\n",
              "\n",
              "    <script>\n",
              "      const buttonEl =\n",
              "        document.querySelector('#df-fa8b93ec-f87d-4190-ac75-da497a8c3f02 button.colab-df-convert');\n",
              "      buttonEl.style.display =\n",
              "        google.colab.kernel.accessAllowed ? 'block' : 'none';\n",
              "\n",
              "      async function convertToInteractive(key) {\n",
              "        const element = document.querySelector('#df-fa8b93ec-f87d-4190-ac75-da497a8c3f02');\n",
              "        const dataTable =\n",
              "          await google.colab.kernel.invokeFunction('convertToInteractive',\n",
              "                                                    [key], {});\n",
              "        if (!dataTable) return;\n",
              "\n",
              "        const docLinkHtml = 'Like what you see? Visit the ' +\n",
              "          '<a target=\"_blank\" href=https://colab.research.google.com/notebooks/data_table.ipynb>data table notebook</a>'\n",
              "          + ' to learn more about interactive tables.';\n",
              "        element.innerHTML = '';\n",
              "        dataTable['output_type'] = 'display_data';\n",
              "        await google.colab.output.renderOutput(dataTable, element);\n",
              "        const docLink = document.createElement('div');\n",
              "        docLink.innerHTML = docLinkHtml;\n",
              "        element.appendChild(docLink);\n",
              "      }\n",
              "    </script>\n",
              "  </div>\n",
              "\n",
              "\n",
              "<div id=\"df-31aa75fb-5d44-4d6f-b24d-a4ccc79f321c\">\n",
              "  <button class=\"colab-df-quickchart\" onclick=\"quickchart('df-31aa75fb-5d44-4d6f-b24d-a4ccc79f321c')\"\n",
              "            title=\"Suggest charts\"\n",
              "            style=\"display:none;\">\n",
              "\n",
              "<svg xmlns=\"http://www.w3.org/2000/svg\" height=\"24px\"viewBox=\"0 0 24 24\"\n",
              "     width=\"24px\">\n",
              "    <g>\n",
              "        <path d=\"M19 3H5c-1.1 0-2 .9-2 2v14c0 1.1.9 2 2 2h14c1.1 0 2-.9 2-2V5c0-1.1-.9-2-2-2zM9 17H7v-7h2v7zm4 0h-2V7h2v10zm4 0h-2v-4h2v4z\"/>\n",
              "    </g>\n",
              "</svg>\n",
              "  </button>\n",
              "\n",
              "<style>\n",
              "  .colab-df-quickchart {\n",
              "      --bg-color: #E8F0FE;\n",
              "      --fill-color: #1967D2;\n",
              "      --hover-bg-color: #E2EBFA;\n",
              "      --hover-fill-color: #174EA6;\n",
              "      --disabled-fill-color: #AAA;\n",
              "      --disabled-bg-color: #DDD;\n",
              "  }\n",
              "\n",
              "  [theme=dark] .colab-df-quickchart {\n",
              "      --bg-color: #3B4455;\n",
              "      --fill-color: #D2E3FC;\n",
              "      --hover-bg-color: #434B5C;\n",
              "      --hover-fill-color: #FFFFFF;\n",
              "      --disabled-bg-color: #3B4455;\n",
              "      --disabled-fill-color: #666;\n",
              "  }\n",
              "\n",
              "  .colab-df-quickchart {\n",
              "    background-color: var(--bg-color);\n",
              "    border: none;\n",
              "    border-radius: 50%;\n",
              "    cursor: pointer;\n",
              "    display: none;\n",
              "    fill: var(--fill-color);\n",
              "    height: 32px;\n",
              "    padding: 0;\n",
              "    width: 32px;\n",
              "  }\n",
              "\n",
              "  .colab-df-quickchart:hover {\n",
              "    background-color: var(--hover-bg-color);\n",
              "    box-shadow: 0 1px 2px rgba(60, 64, 67, 0.3), 0 1px 3px 1px rgba(60, 64, 67, 0.15);\n",
              "    fill: var(--button-hover-fill-color);\n",
              "  }\n",
              "\n",
              "  .colab-df-quickchart-complete:disabled,\n",
              "  .colab-df-quickchart-complete:disabled:hover {\n",
              "    background-color: var(--disabled-bg-color);\n",
              "    fill: var(--disabled-fill-color);\n",
              "    box-shadow: none;\n",
              "  }\n",
              "\n",
              "  .colab-df-spinner {\n",
              "    border: 2px solid var(--fill-color);\n",
              "    border-color: transparent;\n",
              "    border-bottom-color: var(--fill-color);\n",
              "    animation:\n",
              "      spin 1s steps(1) infinite;\n",
              "  }\n",
              "\n",
              "  @keyframes spin {\n",
              "    0% {\n",
              "      border-color: transparent;\n",
              "      border-bottom-color: var(--fill-color);\n",
              "      border-left-color: var(--fill-color);\n",
              "    }\n",
              "    20% {\n",
              "      border-color: transparent;\n",
              "      border-left-color: var(--fill-color);\n",
              "      border-top-color: var(--fill-color);\n",
              "    }\n",
              "    30% {\n",
              "      border-color: transparent;\n",
              "      border-left-color: var(--fill-color);\n",
              "      border-top-color: var(--fill-color);\n",
              "      border-right-color: var(--fill-color);\n",
              "    }\n",
              "    40% {\n",
              "      border-color: transparent;\n",
              "      border-right-color: var(--fill-color);\n",
              "      border-top-color: var(--fill-color);\n",
              "    }\n",
              "    60% {\n",
              "      border-color: transparent;\n",
              "      border-right-color: var(--fill-color);\n",
              "    }\n",
              "    80% {\n",
              "      border-color: transparent;\n",
              "      border-right-color: var(--fill-color);\n",
              "      border-bottom-color: var(--fill-color);\n",
              "    }\n",
              "    90% {\n",
              "      border-color: transparent;\n",
              "      border-bottom-color: var(--fill-color);\n",
              "    }\n",
              "  }\n",
              "</style>\n",
              "\n",
              "  <script>\n",
              "    async function quickchart(key) {\n",
              "      const quickchartButtonEl =\n",
              "        document.querySelector('#' + key + ' button');\n",
              "      quickchartButtonEl.disabled = true;  // To prevent multiple clicks.\n",
              "      quickchartButtonEl.classList.add('colab-df-spinner');\n",
              "      try {\n",
              "        const charts = await google.colab.kernel.invokeFunction(\n",
              "            'suggestCharts', [key], {});\n",
              "      } catch (error) {\n",
              "        console.error('Error during call to suggestCharts:', error);\n",
              "      }\n",
              "      quickchartButtonEl.classList.remove('colab-df-spinner');\n",
              "      quickchartButtonEl.classList.add('colab-df-quickchart-complete');\n",
              "    }\n",
              "    (() => {\n",
              "      let quickchartButtonEl =\n",
              "        document.querySelector('#df-31aa75fb-5d44-4d6f-b24d-a4ccc79f321c button');\n",
              "      quickchartButtonEl.style.display =\n",
              "        google.colab.kernel.accessAllowed ? 'block' : 'none';\n",
              "    })();\n",
              "  </script>\n",
              "</div>\n",
              "    </div>\n",
              "  </div>\n"
            ],
            "application/vnd.google.colaboratory.intrinsic+json": {
              "type": "dataframe",
              "variable_name": "train_df",
              "summary": "{\n  \"name\": \"train_df\",\n  \"rows\": 24591,\n  \"fields\": [\n    {\n      \"column\": \"id\",\n      \"properties\": {\n        \"dtype\": \"number\",\n        \"std\": 7225,\n        \"min\": 0,\n        \"max\": 25000,\n        \"num_unique_values\": 24591,\n        \"samples\": [\n          971,\n          1125,\n          3893\n        ],\n        \"semantic_type\": \"\",\n        \"description\": \"\"\n      }\n    },\n    {\n      \"column\": \"content\",\n      \"properties\": {\n        \"dtype\": \"string\",\n        \"num_unique_values\": 24591,\n        \"samples\": [\n          \"\\u3010\\u5750\\u5e2d\\u3011\\u60a8\\u597d\\uff0c\\u5f88\\u9ad8\\u5174\\u4e3a\\u60a8\\u670d\\u52a1\\uff0c\\u60a8\\u597d\\uff0c\\u3010\\u5ba2\\u6237\\u3011\\uff0c\\u5509\\uff0c\\u4f60\\u597d\\uff0c\\u4e0a\\u6b21\\u90a3\\u4e2a\\u6211\\u5728\\u6211\\u518d\\u4e0a\\uff0c\\u6211\\u5728\\u6708\\u521d\\u7684\\u65f6\\u5019\\u8fd8\\u662f\\u6708\\u5e95\\u7684\\u65f6\\u5019\\u6253\\u8fc7\\u8fd9\\u4e2a\\u8054\\u901a\\u7684\\u7535\\u8bdd\\uff0c\\u90a3\\u4e2a\\u8bf4\\u662f\\u670920\\u591a\\u5757\\u94b1\\uff0c\\u6211\\u7684\\u90a3\\u4e2a\\u7f51\\u7edc\\u7f51\\u901f\\u8d39\\uff0c\\u7136\\u540e\\u4f60\\u8fd9\\u8fb9\\u505a\\u4e00\\u4e9b\\u51b2\\u51cf\\uff1f\\u3010\\u5750\\u5e2d\\u3011\\u60a8\\u7a0d\\u7b49\\uff0c\\u6211\\u770b\\u4e00\\u4e0b\\uff0c\\u4e0a\\u4e2a\\u6708\\u4e5f\\u662f\\u7528\\u672c\\u673a\\u53f7\\u53cd\\u6620\\u7684\\u95ee\\u9898\\u662f\\u5417\\uff0c\\u3010\\u5ba2\\u6237\\u3011\\u5bf9\\uff0c\\u5b83\\u662f\\u6708\\u672b\\u6700\\u540e\\u4e00\\u5929\\u4e0d\\u529e\\u7406\\uff0c\\u8fd8\\u662f\\u8bf4\\u6708\\u521d\\u7684\\u65f6\\u5019\\u51fa\\u8d26\\u6ca1\\u6ca1\\u600e\\u4e48\\u7740\\uff0c\\u8bf4\\u8ba9\\u6211\\u8fc7\\u4e86\\u90a3\\u5929\\u518d\\u518d\\u6253\\u7535\\u8bdd\\uff0c\\u6211\\u8fd9\\u4e00\\u76f4\\u6ca1\\u6253\\u3010\\u5750\\u5e2d\\u3011\\u55ef\\uff0c\\u6211\\u770b\\u4e00\\u4e0b\\uff0c\\u3010\\u5ba2\\u6237\\u3011\\u5c31\\u4e0a\\u4e2a\\u6708\\uff0c\\u7136\\u540e\\u6211\\u5c31\\u8d70\\u4e86\\uff0c\\u5c31\\u5c31\\u5f00\\u4e86\\u6709\\u51e0\\u5206\\u949f\\u7684\\u5fae\\u4fe1\\uff0c\\u7136\\u540e\\u8d70\\u4e86\\u621120\\u591a\\u5757\\u94b1\\u7684\\u6d41\\u91cf\\u3010\\u5750\\u5e2d\\u3011\\u55ef\\uff0c\\u884c\\uff0c\\u5c31\\u662f\\u4e0a\\u4e2a\\u6708\\u6211\\u770b\\u5230\\u5e94\\u8be5\\u662f\\u6709\\u4e00\\u4e2a24\\u57579\\u7684\\u6d41\\u91cf\\u8d39\\u5c31\\u662f\\u5bf9\\u8fd9\\u4e2a\\u6d41\\u91cf\\u8d39\\u6709\\u7591\\u4e49\\u5bf9\\u5427\\uff0c\\u3010\\u5ba2\\u6237\\u3011\\u5bf9\\u5bf9\\uff1f\\u3010\\u5750\\u5e2d\\u3011\\u884c\\uff0c\\u90a3\\u60a8\\u8fd9\\u4e2a\\u60c5\\u51b5\\u7684\\u8bdd\\uff0c\\u6211\\u8fd9\\u8fb9\\u5e2e\\u60a8\\u90a3\\u4e2a\\u8bb0\\u5f55\\u53cd\\u9988\\u4e00\\u4e0b\\uff0c\\u7136\\u540e\\u60a8\\u8fd9\\u4e2a\\u672c\\u673a\\u53f7\\u80fd\\u4f5c\\u4e3a\\u8054\\u7cfb\\u7535\\u8bdd\\u5417\\u597d\\u7684\\uff0c\\u90a3\\u6211\\u5e2e\\u60a8\\u8bb0\\u5f55\\u4e4b\\u540e\\u5462\\uff0c\\u8fd9\\u4e2a24\\u5c0f\\u65f6\\u4e4b\\u5185\\u4f1a\\u6709\\u5de5\\u4f5c\\u4eba\\u5458\\u8054\\u7cfb\\u60a8\\u5904\\u7406\\u8fd9\\u4e2a\\u8d39\\u7528\\uff0c\\u3010\\u5ba2\\u6237\\u3011\\u53ef\\u4ee5\\uff0c\\u53ef\\u4ee5\\uff0c\\u7136\\u540e\\u662f\\u8fd9\\u6837\\uff0c\\u5982\\u679c\\u662f\\u6d41\\u91cf\\u8d85\\u7684\\u8bdd\\uff0c\\u6d41\\u91cf\\u8d85\\u7684\\u8bdd\\u76f4\\u63a5\\u7ed9\\u6211\\u65ad\\u7f51\\u5c31\\u884c\\u4e86\\u3010\\u5750\\u5e2d\\u3011\\u55ef\\uff0c\\u5b83\\u8fd9\\u4e2a\\u6d41\\u91cf\\u8d85\\u51fa\\u5c31\\u662f\\u4e0d\\u8db3\\u7684\\u8bdd\\uff0c\\u90fd\\u662f\\u4f1a\\u6709\\u77ed\\u4fe1\\u901a\\u77e5\\u7684\\uff0c\\u5230\\u65f6\\u5019\\u60a8\\u53ef\\u4ee5\\u5c31\\u662f\\uff0c\\u5982\\u679c\\u8bf4\\u5b83\\u662f\\u6709\\u901a\\u77e5\\u4e4b\\u540e\\uff0c\\u60a8\\u53ef\\u4ee5\\u5173\\u95ed\\u6570\\u636e\\uff0c\\u6216\\u8005\\u5230\\u65f6\\u5019\\u60a8\\u518d\\u6765\\u7535\\uff0c\\u80fd\\u4e0d\\u80fd\\u5173\\u95ed\\u8fd9\\u4e2a\\u4e0a\\u7f51\\u529f\\u80fd\\uff0c\\u3010\\u5ba2\\u6237\\u3011\\u5662\\uff0c\\u884c\\uff0c\\u3010\\u5750\\u5e2d\\u3011\\u597d\\u7684\\uff0c\\u90a3\\u60a8\\u8fd9\\u8fb9\\u4fdd\\u6301\\u8fd9\\u4e2a\\u7535\\u8bdd\\u7545\\u901a\\uff0c\\u3010\\u5ba2\\u6237\\u3011\\u597d\\u597d\\uff1f\\u3010\\u5750\\u5e2d\\u3011\\u55ef\\uff0c\\u90a3\\u8fd8\\u6709\\u5176\\u4ed6\\u8981\\u54a8\\u8be2\\u5417\\uff0c\\u3010\\u5ba2\\u6237\\u3011\\u6ca1\\u6709\\u4e86\\uff0c\\u8c22\\u8c22\\u554a\\uff0c\\u518d\\u89c1\\u3010\\u5750\\u5e2d\\u3011\\u4e0d\\u5ba2\\u6c14\\uff0c\\u611f\\u8c22\\u6765\\u7535\\uff0c\\u7a0d\\u540e\\u6309\\u4e24\\u4e2a\\u4e00\\uff0c\\u8c22\\u8c22\\uff0c\\u518d\\u89c1\",\n          \"\\u3010\\u5750\\u5e2d\\u3011\\u60a8\\u597d\\uff0c\\u9ad8\\u5174\\u4e3a\\u60a8\\u670d\\u52a1\\uff0c\\u60a8\\u597d\\uff0c\\u3010\\u5ba2\\u6237\\u3011\\uff0c\\u5582\\uff0c\\u4f60\\u597d\\uff0c\\u6211\\u8fd9\\u4e2a\\u624b\\u673a\\u600e\\u4e48\\u4e00\\u76f4\\u6536\\u4e0d\\u5230\\u90a3\\u4e2a\\u6536\\u6536\\u4e0d\\u5230\\u77ed\\u4fe1\\u3010\\u5750\\u5e2d\\u3011\\u9488\\u5bf9\\u8fd9\\u4e2a\\u95ee\\u9898\\uff0c\\u6211\\u4eec\\u4eca\\u5929\\u5df2\\u7ecf\\u79ef\\u6781\\u7edf\\u4e00\\u4e0a\\u62a5\\u5230\\u6211\\u4eec\\u6709\\u5173\\u90e8\\u95e8\\uff0c\\u5c3d\\u5feb\\u6838\\u5b9e\\u5904\\u7406\\u8fd9\\u4e2a\\u95ee\\u9898\\u4e86\\uff0c\\u5e76\\u4e14\\u6211\\u4eec\\u6280\\u672f\\u90e8\\u95e8\\u4e5f\\u6b63\\u5728\\u7d27\\u6025\\u5904\\u7406\\u8fd9\\u4e2a\\u95ee\\u9898\\uff0c\\u5148\\u751f\\uff1f\\u3010\\u5ba2\\u6237\\u3011\\u5662\\uff0c\\u662f\\u8054\\u901a\\u7684\\u90fd\\u90fd\\u6536\\u4e0d\\u5230\\u662f\\u5427\\u3010\\u5750\\u5e2d\\u3011\\u6709\\u5f88\\u591a\\u8054\\u901a\\u7528\\u6237\\u4eca\\u5929\\u90fd\\u51fa\\u73b0\\u8fd9\\u79cd\\uff0c\\u3010\\u5ba2\\u6237\\u3011\\u5662\\uff0c\\u597d\\u7684\\u597d\\u7684\\u884c\\uff0c\\u55ef\\uff0c\\u3010\\u5750\\u5e2d\\u3011\\u8fd8\\u6709\\u4e1a\\u52a1\\u54a8\\u8be2\\uff0c\\u3010\\u5ba2\\u6237\\u3011\\u55ef\\u55ef\\u55ef\\uff0c\\u597d\\u6ca1\\u6709\\u4e86\\u884c\\uff0c\\u8c22\\u8c22\\u554a\\u3010\\u5750\\u5e2d\\u3011\\u751f\\u6d3b\\u6109\\u5feb\\uff0c\\u518d\\u89c1\",\n          \"\\u3010\\u5750\\u5e2d\\u3011\\u5f88\\u9ad8\\u5174\\u4e3a\\u60a8\\u670d\\u52a1\\uff0c\\u60a8\\u597d\\uff1f\\u3010\\u5ba2\\u6237\\u3011\\uff0c\\u5509\\uff0c\\u4f60\\u597d\\u5509\\uff0c\\u6211\\u5728\\u90a3\\u4e2a\\u4e07\\u5bff\\u8def\\u554a\\uff0c\\u4e07\\u5bff\\u8def\\u8def\\u53e3\\u7684\\u4e1c\\u5357\\u89d2\\u554a\\uff0c\\u4eca\\u5929\\u4e0a\\u5348\\u4ece\\u4eca\\u5929\\u4e0a\\u5348\\u5f00\\u59cb\\uff0c\\u6211\\u7684\\u8fd9\\u4e2a\\u624b\\u673a\\u4fe1\\u53f7\\u5c31\\u4e0d\\u884c\\uff0c\\u5c31\\u662f\\u65f6\\u65ad\\u65f6\\u7eed\\uff0c\\u6709\\u65f6\\u5019\\u4e0a\\u4e0d\\u4e86\\u7f51\\uff0c\\u6709\\u65f6\\u5019\\u8fde\\u901a\\u8bdd\\u90fd\\u6ca1\\u6709\\u5c31\\u6ca1\\u6709\\u4fe1\\u53f7\\uff0c\\u7136\\u540e\\u5462\\uff0c\\u6211\\u4eec\\u540c\\u4e8b\\u7684\\u4e00\\u4e2a\\u8054\\u901a\\u7684\\u624b\\u673a\\u4e5f\\u662f\\u8fd9\\u6837\\uff0c\\u662f\\u6709\\u95ee\\u9898\\u5417\\u3010\\u5750\\u5e2d\\u3011\\u76ee\\u524d\\u8fd9\\u5757\\u7684\\uff0c\\u76ee\\u524d\\u60a8\\u8fd9\\u4e2a\\u663e\\u793a\\u6ca1\\u6709\\u4ec0\\u4e48\\u95ee\\u9898\\uff0c\\u5c31\\u662f\\u60a8\\u53ea\\u662f\\u5728\\u8fd9\\u4e00\\u4e2a\\u5730\\u65b9\\u51fa\\u73b0\\u8fd9\\u79cd\\u60c5\\u51b5\\uff0c\\u662f\\u5417\\uff1f\\u5176\\u4ed6\\uff0c\\u3010\\u5ba2\\u6237\\u3011\\u5bf9\\u5bf9\\u5bf9\\u5bf9\\u5bf9\\u5bf9\\uff0c\\u6ca1\\u6709\\u95ee\\u9898\\uff0c\\u5c31\\u8bbe\\u7f6e\\u4e00\\u4e2a\\u529e\\u516c\\u5ba4\\uff0c\\u4f60\\u770b\\u6211\\u90a3\\u4e2a20\\u7c73\\uff0c\\u6211\\u4ece\\u90a3\\u8fb9\\u90a3\\u8fb9\\u8d70\\u8fc7\\u6765\\uff0c\\u4ed6\\u8fd9\\u8fb9\\u5c31\\u6709\\uff0c\\u6709\\u4fe1\\u53f7\\u554a\\u5c31\\u53ef\\u4ee5\\uff0c\\u4f46\\u8fd9\\u4e5f\\u4e0d\\u7a33\\uff0c\\u4e00\\u4f1a\\u597d\\u4e00\\u4f1a\\u574f\\u554a\\uff0c\\u4f46\\u662f\\u6211\\u56de\\u529e\\u516c\\u5ba420\\u7c73\\u56de\\u53bb\\u90fd\\u662f\\u90a3\\u4e2a\\u4ec0\\u4e48\\u90fd\\u662f\\u5728\\u90a3\\u4e2a\\u90fd\\u662f\\u6709\\u7a97\\u6237\\u7684\\u529e\\u516c\\u5ba4\\u56de\\u53bb\\uff0c\\u7136\\u540e\\u5c31\\u5c31\\u6ca1\\u4fe1\\u53f7\\uff0c\\u5662\\uff0c\\u5c31\\u6709\\u6709\\u4e00\\u4f1a\\uff0c\\u7136\\u540e\\u5c31\\u6ca1\\u4e86\\uff0c\\u55ef\\uff0c\\u7279\\u522b\\u592a\\u5947\\u602a\\u4e86\\u3010\\u5750\\u5e2d\\u3011\\u5c31\\u662f\\u4fe1\\u53f7\\uff0c\\u3010\\u5ba2\\u6237\\u3011\\u4e0a\\u5348\\u5f00\\u59cb\\u554a\\uff1f\\u3010\\u5750\\u5e2d\\u3011\\u4e0a\\u5348\\u5f00\\u59cb\\u4e4b\\u524d\\u7684\\u65f6\\u5019\\u6ca1\\u6709\\u95ee\\u9898\\u662f\\u5417\\uff0c\\u3010\\u5ba2\\u6237\\u3011\\u554a\\uff1f\\u4ee5\\u524d\\u6ca1\\u95ee\\u9898\\uff0c\\u4eca\\u5929\\u793c\\u62dc\\u4e00\\u561b\\uff0c\\u5c31\\u5e73\\u65f6\\u5728\\u5728\\uff0c\\u5728\\u5176\\u4ed6\\u5730\\u65b9\\u4e5f\\u6ca1\\u4e5f\\u6ca1\\u89c9\\u5f97\\u6709\\u95ee\\u9898\\u3010\\u5750\\u5e2d\\u3011\\u5c31\\u662f\\u4ece\\u4eca\\u5929\\u3010\\u5ba2\\u6237\\u3011\\u4f60\\u4eec\\u4e07\\u5bff\\u8def\\u5bf9\\u4e07\\u5bff\\u8def\\u7684\\u8fd9\\u4e2a\\u57fa\\u7ad9\\uff0c\\u73b0\\u5728\\u662f\\u662f\\u662f\\u662f\\uff0c\\u662f\\u4e3a\\u4e86\\u8ba9\\u4eba15G4G\\u90fd\\u7ed9\\u6390\\u65ad\\u4e86\\u662f\\u5417\\uff1f\\u8fd8\\u662f\\u8bf4\\u6211\\u8fd9\\u5c31\\u662f\\u90a3\\u4e2a\\u4ec0\\u4e48\\u65e0\\u6548\\uff0c\\u3010\\u5750\\u5e2d\\u3011\\u662f\\u4e0d\\u662f\\uff0c\\u8fd9\\u6837\\u5427\\uff0c\\u56e0\\u4e3a\\u6211\\u8fd9\\u8986\\u76d6\\u633a\\u957f\\u65f6\\u95f4\\u4e86\\u4e0d\\uff0c\\u5982\\u679c\\u8bf4\\u662f\\u60a8\\u8fd9\\u4e2a\\u60c5\\u51b5\\uff0c\\u60a8\\u65e9\\u5c31\\u65e9\\u5c31\\u51fa\\u73b0\\u8fd9\\u79cd\\u60c5\\u51b5\\u4e86\\uff0c\\u4e0d\\u4f1a\\u662f\\u73b0\\u5728\\u624d\\u51fa\\u73b0\\u7684\\u3010\\u5ba2\\u6237\\u3011\\u5bf9\\uff0c\\u6211\\u4e0d\\u77e5\\u9053\\u522b\\u4eba\\u6709\\u6ca1\\u6709\\u90a3\\u4e2a\\u8ddf\\u4f60\\u4eec\\u8054\\u901a\\u6295\\u8bc9\\u554a\\uff0c\\u6211\\u89c9\\u5f97\\u4f60\\u4eec\\u8054\\u901a\\u7684\\u7f51\\u70b9\\u5341\\u5757\\u5927\\u4e86\\uff0c\\u55ef\\uff0c\\u6211\\u4e4b\\u524d\\u6211\\u662f\\u53bb\\u5e74\\u7684\\u65f6\\u5019\\uff0c\\u55ef\\uff0c\\u4e03\\u516b\\u6708\\u4efd\\u7684\\u65f6\\u5019\\u6211\\u89c9\\u5f97\\u8054\\u901a\\u7684\\u7f51\\u901f\\u5dee\\uff0c\\u6211\\u5c31\\u60f3\\u5c31\\u662f\\uff0c\\u662f\\u4e0d\\u662f\\u56e0\\u4e3a\\u8fd95G\\u5361\\u539f\\u56e0\\u554a\\uff0c\\u56e0\\u4e3a\\u6211\\u7684\\u624b\\u673a\\u662f5G\\u7684\\u561b\\uff0c\\u6211\\u8fd9\\u4e2a\\u4ec0\\u4e48\\u6211\\u5c31\\u90a3\\u4e2a\\u90a3\\u4e2a\\u4ea4\\u4e86\\u4e00\\u4e2a\\u6708\\u591a\\u5c11\\u82b1\\u4e8c\\u5341\\u51e0\\u5757\\u94b1\\uff0c\\u7136\\u540e\\u5462\\u90a3\\u4e2a\\u90a3\\u4e2a\\u4e70\\u4e86\\u4e00\\u4e2a5G\\u7684\\u670d\\u52a1\\u7528\\u4e86\\u4fe9\\u6708\\uff0c\\u4e0d\\u662f\\u8ddf4G\\u6ca1\\u6709\\u4efb\\u4f55\\u533a\\u522b\\uff0c\\u6211\\u544a\\u8bc9\\u4f60\\u554a\\uff0c\\u5c31\\u6ca1\\u6709\\u4efb\\u4f55\\u533a\\u522b\\uff0c\\u6211\\u8bf4\\u90a3\\u6211\\u662f\\u4e0d\\u662f\\u795e\\u7ecf\\u75c5\\uff0c\\u6211\\u5c31\\u628a\\u90a3\\u4e2a\\u7ed9\\u53d6\\u6d88\\u4e86\\u554a\\uff0c\\u7136\\u540e\\u5462\\u73b0\\u5728\\u8fd8\\u662f\\uff0c\\u6211\\u5c31\\u89c9\\u5f97\\u8fd9\\u4e2a\\u8fd9\\u4e48\\u4e3a\\u4ec0\\u4e48\\u8fd9\\u4e48\\u5dee\\u5462\\uff1f\\u8fd9\\u4e2a\\u8fd9\\u4e2a\\u8fd9\\u4e2a\\u8054\\u901a\\uff1f\\u3010\\u5750\\u5e2d\\u3011\\u60a8\\u90a3\\u4e2a\\u4f4d\\u7f6e\\u80fd\\u518d\\u8bf4\\u4e00\\u4e0b\\u5417\\uff0c\\u3010\\u5ba2\\u6237\\u3011\\u4e07\\u5bff\\u8def\\uff0c\\u4e07\\u5bff\\u8def\\u8def\\u53e3\\u4e1c\\u5357\\u89d2\\u767b\\u9646\\u53e3\\u554a\\u4e1c\\u5357\\u89d2\\uff1f\\u3010\\u5750\\u5e2d\\u3011\\u4e07\\u5bff\\u8def\\uff0c\\u60a8\\u8fd9\\u9644\\u8fd1\\u6709\\u4ec0\\u4e48\\u6807\\u5fd7\\u5417\\uff1f\\u6bd4\\u5982\\u8bf4\\u4ec0\\u4e48\\u5927\\u7684\\u5efa\\u7b51\\u7269\\uff0c\\u516c\\u4ea4\\u7ad9\\u76d8\\u6216\\u8005\\u4ec0\\u4e48\\uff0c\\u3010\\u5ba2\\u6237\\u3011\\u55ef\\uff0c\\u6211\\u79bb\\u516c\\u4ea4\\u7ad9\\u724c\\u5927\\u6982\\u5c31\\u53ef\\u80fd30\\u7c73\\u5427\\u5662\\uff0c\\u3010\\u5750\\u5e2d\\u301130\\u7c73\\u5de6\\u53f3\\u662f\\u5427\\u3010\\u5ba2\\u6237\\u3011\\u5bf9\\u5bf9\\u5bf9\\uff0c\\u6211\\u4eec\\u8fd9\\u697c\\u5927\\u6982\\u662f\\u662f20\\u591a20\\u591a\\u6761\\uff0c\\u3010\\u5750\\u5e2d\\u3011\\u5662\\uff0c\\u55ef\\uff0c\\u60a8\\u597d\\uff0c\\u60a8\\u53cd\\u9988\\u8fd9\\u4e2a\\u95ee\\u9898\\u7684\\u8bdd\\uff0c\\u6211\\u4eec\\u5df2\\u7ecf\\u8bb0\\u5f55\\u4e86\\uff0c\\u60a8\\u6295\\u8bc9\\u7684\\u8fd9\\u4e2a\\u533a\\u57df\\u7684\\u8bdd\\uff0c\\u5df2\\u7ecf\\u6709\\u57fa\\u7ad9\\u5efa\\u8bbe\\u8ba1\\u5212\\uff0c\\u6211\\u4eec\\u6b63\\u5728\\u83b7\\u53d6\\u8fd9\\u4e2a\\u8d44\\u6e90\\uff0c\\u56e0\\u4e3a\\u6d89\\u53ca\\u5230\\u5c31\\u662f\\u8bf4\\u5728\\u5176\\u4ed6\\u5730\\u65b9\\u52a0\\u8fd9\\u4e2a\\u8d44\\u6e90\\u7684\\u8bdd\\uff0c\\u9700\\u8981\\u6709\\u7269\\u4e1a\\uff0c\\u8fd8\\u6709\\u5f53\\u5730\\u7684\\u8fd9\\u4e2a\\u6ce8\\u660e\\uff0c\\u7136\\u540e\\u662f\\u5141\\u8bb8\\uff0c\\u76ee\\u524d\\u8fd9\\u4e2a\\u65b9\\u6848\\u7684\\u8bdd\\uff0c\\u6b63\\u5728\\u5236\\u5b9a\\uff0c\\u9700\\u8981\\u4e00\\u6bb5\\u65f6\\u95f4\\u53ef\\u4ee5\\u5f00\\u901a\\uff0c\\u5148\\u751f\\uff0c\\u5e0c\\u671b\\u60a8\\u8fd9\\u8fb9\\u8010\\u5fc3\\u7b49\\u5f85\\u4e00\\u4e0b\\uff1f\\u3010\\u5ba2\\u6237\\u3011\\u55ef\\uff0c\\u5bf9\\u5bf9\\u5bf9\\u5bf9\\u4f60\\u8bf4\\u7684\\u610f\\u601d\\u5c31\\u662f\\u8bf4\\u8fd9\\u8fb9\\u672c\\u5143\\u8ba1\\u5212\\u5c31\\u662f\\u8981\\u52a0\\u52a0\\u57fa\\u7ad9\\u662f\\u5417\\u554a\\uff0c\\u5c31\\u6709\\u8fd9\\u4e2a\\u8ba1\\u5212\\uff0c\\u56e0\\u4e3a\\u4fe1\\u53f7\\u4e0d\\u597d\\u53cd\\u6620\\u4eba\\u592a\\u591a\\uff0c\\u662f\\u8fd9\\u610f\\u601d\\u5427\\uff0c\\u3010\\u5750\\u5e2d\\u3011\\u5bf9\\uff0c\\u6240\\u4ee5\\u76ee\\u524d\\u7684\\u8bdd\\uff0c\\u56e0\\u4e3a\\u6709\\u6709\\u8bb0\\u5f55\\u53cd\\u9988\\u8fc7\\uff0c\\u6240\\u4ee5\\u76ee\\u524d\\u7684\\u8bdd\\uff0c\\u73b0\\u5728\\u6b63\\u5728\\u5c31\\u662f\\u548c\\u8fd9\\u4e2a\\u5f53\\u5730\\u7684\\u7269\\u4e1a\\uff0c\\u8fd8\\u6709\\u8fd9\\u4e2a\\u5c45\\u6c11\\u6b63\\u5728\\u6c9f\\u901a\\u534f\\u5546\\u8fd9\\u4e2a\\u95ee\\u9898\\u3010\\u5ba2\\u6237\\u3011\\u5662\\uff0c\\u56e0\\u4e3a\\u8fd9\\u4e2a\\u8fd9\\u4e2a\\u5927\\u9662\\u5c31\\u662f\\u8fdb\\u6b65\\u8fdb\\u6b65\\u7684\\uff0c\\u4e0d\\u662f\\u4f60\\u4eec\\u5de5\\u4fe1\\u90e8\\u5c31\\u662f\\u5de5\\u4fe1\\u90e8\\uff0c\\u8fd9\\u4e2a\\uff0c\\u8fd9\\u8fd9\\u4e2a\\u8fd9\\u4e2a\\u8fd9\\u4e2a\\u53e6\\u5916\\u4e00\\u4e2a\\u6708\\uff0c\\u5de5\\u4fe1\\u90e8\\u4e0d\\u662f\\u5728\\u90a3\\u4e2a\\u54ea\\u671d\\u9633\\u8857\\u561b\\uff0c\\u5b83\\u4e0d\\u662f\\u76f8\\u5f53\\u4e8e\\u5b83\\u5728\\u90a3\\u4e2a\\u897f\\u897f\\u82d1\\uff0c\\u3010\\u5750\\u5e2d\\u3011\\u597d\\uff0c\\u55ef\\uff0c\\u3010\\u5ba2\\u6237\\u3011\\u55ef\\uff0c\\u8fd9\\u8fd9\\u8fd9\\u516c\\u53f8\\u4e0d\\u90fd\\u662f\\u5c5e\\u4e8e\\u5de5\\u4fe1\\u90e8\\uff0c\\u6240\\u4ee5\\u6211\\u90fd\\u4e0d\\u77e5\\u9053\\u8fd9\\u8fd9\\u4e2a\\u5de5\\u4fe1\\u90e8\\u7ba1\\u8fd9\\u4e2a\\u600e\\u4e48\\u8fd8\\u90a3\\u4e48\\u5dee\\uff0c\\u8fd9\\u8fd9\\u7b80\\u76f4\\u662f\\u8054\\u901a\\u592a\\u5dee\\u4e86\\uff0c\\u6211\\u771f\\u7684\\u5509\\u5440\\uff0c\\u4e0d\\u77e5\\u9053\\uff0c\\u3010\\u5750\\u5e2d\\u3011\\u8fd9\\u8fb9\\u5462\\uff0c\\u76ee\\u524d\\u5df2\\u7ecf\\u5df2\\u7ecf\\u6709\\u8fd9\\u4e2a\\uff0c\\u73b0\\u5728\\u6b63\\u5728\\u6c9f\\u901a\\u534f\\u5546\\uff0c\\u56e0\\u4e3a\\u548c\\u7269\\u4e1a\\u5f53\\u5730\\u5c45\\u6c11\\u6b63\\u5728\\u6c9f\\u901a\\uff0c\\u8fd9\\u4e2a\\u8ba1\\u5212\\uff0c\\u5c31\\u662f\\u8981\\u5efa\\u5efa\\u8bbe\\u8fd9\\u4e2a\\u57fa\\u7ad9\\uff0c\\u5148\\u751f\\u5c31\\u662f\\u8bf4\\u5982\\u679c\\u5c31\\u662f\\u8d44\\u6e90\\u4e0a\\u8fd9\\u4e2a\\u5168\\u90e8\\u534f\\u8c03\\u987a\\u5229\\u4e4b\\u540e\\u7684\\u8bdd\\uff0c\\u6700\\u957f\\u6700\\u957f\\u9700\\u8981\\u4e09\\u4e2a\\u6708\\u5de6\\u53f3\\u5c31\\u80fd\\u5b8c\\u6210\\uff1f\\u3010\\u5ba2\\u6237\\u3011\\u55ef\\uff0c\\u90a3\\u516c\\u53f8\\u73b0\\u5728\\u6c9f\\u901a\\u7684\\u600e\\u4e48\\u6837\\u4e86\\u5417\\uff0c\\u3010\\u5750\\u5e2d\\u3011\\u8fd9\\u4e2a\\u6211\\u4eec\\u786e\\u5b9e\\u770b\\u4e0d\\u5230\\uff0c\\u6211\\u4eec\\u73b0\\u5728\\u76ee\\u524d\\u770b\\u5230\\u5df2\\u7ecf\\u662f\\u8fd9\\u4e2a\\u534f\\u8c03\\u6c9f\\u901a\\u4e86\\uff0c\\u6211\\u4eec\\u4e5f\\u4f1a\\u52a0\\u5927\\u8fd9\\u4e2a\\u5176\\u4ed6\\u5de5\\u7a0b\\u80fd\\u529b\\uff0c\\u6b63\\u5728\\u5c3d\\u5feb\\u7684\\u4e3a\\u60a8\\u89e3\\u51b3\\u95ee\\u9898\\u3010\\u5ba2\\u6237\\u3011\\u5662\\uff0c\\u597d\\u5427\\uff0c\\u597d\\u5427\\uff0c\\u90a3\\u4f60\\u5e2e\\u6211\\u6295\\u6295\\u8bc9\\u3010\\u5750\\u5e2d\\u3011\\u786e\\u5b9e\\u7ed9\\u60a8\\u5e26\\u6765\\u4e0d\\u4fbf\\u4e86\\uff0c\\u60a8\\u770b\\u8fd8\\u6709\\u5176\\u4ed6\\u95ee\\u9898\\u5e2e\\u60a8\\u5417\\uff0c\\u3010\\u5ba2\\u6237\\u3011\\u5c31\\u662f\\uff1f\\u55ef\\uff0c\\u597d\\uff0c\\u62dc\\u62dc\\uff0c\\u55ef\\uff0c\\u597d\\u3010\\u5750\\u5e2d\\u3011\\u55ef\\uff0c\\u611f\\u8c22\\u6765\\u7535\\uff0c\\u7a0d\\u540e\\u8bf7\\u5e2e\\u6211\\u6309\\u4e24\\u4e2a\\u4e00\\uff0c\\u8c22\\u8c22\\uff0c\\u518d\\u89c1\\uff0c\\u55ef\\uff0c\\u4e0d\\u5ba2\\u6c14\"\n        ],\n        \"semantic_type\": \"\",\n        \"description\": \"\"\n      }\n    },\n    {\n      \"column\": \"abstract\",\n      \"properties\": {\n        \"dtype\": \"string\",\n        \"num_unique_values\": 20113,\n        \"samples\": [\n          \"\\u7528\\u6237\\u6765\\u7535\\u5bf912\\u6708\\u624b\\u673a\\u6d41\\u91cf\\u8d39\\u6709\\u7591\\u4e49\\uff0c\\u6211\\u65b9\\u901a\\u8fc7\\u79fb\\u52a8\\u4e0a\\u7f51\\u65e5\\u5fd7\\u89e3\\u91ca\\u7528\\u6237\\u4e0d\\u8ba4\\u53ef\\u3002\\u79f0\\u6ca1\\u6709\\u77ed\\u4fe1\\u63d0\\u793a\",\n          \"\\u7528\\u6237\\u6765\\u7535\\u67e5\\u8be2\\u6b64\\u5361\\u5957\\u9910\\u60c5\\u51b5\\uff0c\\u6211\\u65b9\\u7ecf\\u7cfb\\u7edf\\u67e5\\u8be2\\u663e\\u793a\\u6b64\\u53f7\\u4e3a48\\u5143\\u6821\\u56ed\\u5957\\u9910\\uff0c\\u6309\\u67e5\\u8be2\\u7ed3\\u679c\\u5411\\u7528\\u6237\\u89e3\\u91ca\\uff0c\\u7528\\u6237\\u5bf9\\u6b64\\u4e0d\\u8ba4\\u53ef\\uff0c\\u79f02020\\u5e748\\u670812\\u65e5\\uff0c\\u5ba3\\u4f20\\u4eba\\u5458\\u626b\\u7801\\u529e\\u7406\\u6b64\\u53f7\\u5957\\u9910\\u65f6\\u660e\\u786e\\u544a\\u77e5\\u6b64\\u53f7\\u4e3a5G\\u5957\\u9910\\uff0c\\u529e\\u7406\\u5730\\u70b9\\uff1a\\u5317\\u4eac\\u822a\\u7a7a\\u822a\\u5929\\u5927\\u5b66\\uff0c\\u6211\\u65b9\\u957f\\u65f6\\u95f4\\u89e3\\u91ca\\u65e0\\u6548\\uff0c\\u7528\\u6237\\u8981\\u6c42\\u6295\\u8bc9\\u6b64\\u60c5\\u51b5\\uff0c\\u8bf7\\u76f8\\u5173\\u90e8\\u95e8\\u6838\\u5b9e\\uff0c\\u8bf7\\u5904\\u7406\\u8c22\\u8c22\",\n          \"\\u7528\\u6237\\u6765\\u7535\\u53cd\\u6620\\u7533\\u8bf7\\u62a5\\u88c5\\u7684\\u5bbd\\u5e26\\u957f\\u65f6\\u95f4\\u6ca1\\u6709\\u4eba\\u5b89\\u88c5\\uff0c\\u7528\\u6237\\u4e0d\\u8ba4\\u53ef\\uff0c\\u8981\\u6c42\\u6211\\u65b9\\u5c3d\\u5feb\\u5b89\\u6392\\u88c5\\u673a\\u4eba\\u5458\\u4e0a\\u95e8\\u4e3a\\u7528\\u6237\\u5b89\\u88c5\\uff0c\\u8ba2\\u5355\\u53f7\\uff1a******** \\u5df2\\u5b89\\u629a\\u7528\\u6237\\u8bf7\\u5c3d\\u5feb\\u5904\\u7406\\uff0c\\u8c22\\u8c22\\u3002\"\n        ],\n        \"semantic_type\": \"\",\n        \"description\": \"\"\n      }\n    }\n  ]\n}"
            }
          },
          "metadata": {},
          "execution_count": 52
        }
      ]
    },
    {
      "cell_type": "code",
      "source": [
        "train_df[\"len\"] = train_df[\"abstract\"].apply(len)\n",
        "\n",
        "train_df['len'].plot()"
      ],
      "metadata": {
        "colab": {
          "base_uri": "https://localhost:8080/",
          "height": 448
        },
        "id": "towmXmNnuCno",
        "outputId": "f59fa4f4-3f47-4278-b752-1c114ff89028"
      },
      "id": "towmXmNnuCno",
      "execution_count": 53,
      "outputs": [
        {
          "output_type": "execute_result",
          "data": {
            "text/plain": [
              "<Axes: >"
            ]
          },
          "metadata": {},
          "execution_count": 53
        },
        {
          "output_type": "display_data",
          "data": {
            "text/plain": [
              "<Figure size 640x480 with 1 Axes>"
            ],
            "image/png": "[encoded data removed]"
          },
          "metadata": {}
        }
      ]
    },
    {
      "cell_type": "code",
      "source": [
        "train_df[\"conv_len\"] = train_df[\"content\"].apply(len)"
      ],
      "metadata": {
        "id": "MODpbYd0wpr-"
      },
      "id": "MODpbYd0wpr-",
      "execution_count": null,
      "outputs": []
    },
    {
      "cell_type": "code",
      "source": [
        "train_df = train_df[train_df[\"conv_len\"] > 100]\n",
        "train_df[\"conv_len\"].describe()"
      ],
      "metadata": {
        "colab": {
          "base_uri": "https://localhost:8080/"
        },
        "id": "4uHldMDCwDN5",
        "outputId": "2be325e9-b81d-4384-efc7-3d3d5b2d0489"
      },
      "id": "4uHldMDCwDN5",
      "execution_count": 69,
      "outputs": [
        {
          "output_type": "execute_result",
          "data": {
            "text/plain": [
              "count    24545.000000\n",
              "mean      1219.124506\n",
              "std        984.318768\n",
              "min        103.000000\n",
              "25%        638.000000\n",
              "50%        971.000000\n",
              "75%       1491.000000\n",
              "max      24413.000000\n",
              "Name: conv_len, dtype: float64"
            ]
          },
          "metadata": {},
          "execution_count": 69
        }
      ]
    },
    {
      "cell_type": "code",
      "source": [
        "train_df[\"conv_len\"].plot()"
      ],
      "metadata": {
        "colab": {
          "base_uri": "https://localhost:8080/",
          "height": 448
        },
        "id": "lfgCRKExwPP0",
        "outputId": "59fae569-75aa-4a6f-9ee4-0e965e6296fd"
      },
      "id": "lfgCRKExwPP0",
      "execution_count": 70,
      "outputs": [
        {
          "output_type": "execute_result",
          "data": {
            "text/plain": [
              "<Axes: >"
            ]
          },
          "metadata": {},
          "execution_count": 70
        },
        {
          "output_type": "display_data",
          "data": {
            "text/plain": [
              "<Figure size 640x480 with 1 Axes>"
            ],
            "image/png": "[encoded data removed]"
          },
          "metadata": {}
        }
      ]
    },
    {
      "cell_type": "code",
      "source": [
        "# train_df.to_csv(\"rawdata/train_dataset.csv\", encoding=\"utf-8-sig\")\n",
        "\n",
        "# 直接读取矫正格式后的数据\n",
        "# test_df = pd.read_csv(\"rawdata/train_dataset.csv\")"
      ],
      "metadata": {
        "id": "5_LaxdK1ue6_"
      },
      "id": "5_LaxdK1ue6_",
      "execution_count": 54,
      "outputs": []
    },
    {
      "cell_type": "code",
      "source": [
        "test_df = pd.read_csv(\"rawdata/test_dataset.csv\")\n",
        "test_df.head(3)"
      ],
      "metadata": {
        "id": "T1o5ugudglYG"
      },
      "id": "T1o5ugudglYG",
      "execution_count": 10,
      "outputs": []
    },
    {
      "cell_type": "code",
      "source": [],
      "metadata": {
        "colab": {
          "base_uri": "https://localhost:8080/",
          "height": 143
        },
        "id": "ZYvlyAfjgTcY",
        "outputId": "565340cc-a09a-4439-a497-f603d102808d"
      },
      "id": "ZYvlyAfjgTcY",
      "execution_count": 31,
      "outputs": [
        {
          "output_type": "execute_result",
          "data": {
            "text/plain": [
              "                                          id|content\n",
              "0  25001|【坐席】您好，实习话务员为您服务，【客户】，唉，你好那个，我刚收到咱们那个话费通...\n",
              "1  25002|【坐席】您好，很高兴为您服务，【客户】，嗯，你好，那个先说一下那个不太好意思，因...\n",
              "2  25003|【坐席】您好，很高兴为您服务，您好，【客户】，那个我这个套餐到期了也没人通知我呀..."
            ],
            "text/html": [
              "\n",
              "  <div id=\"df-b3ec7e39-c2ba-4a2d-aafc-deee958dca9a\" class=\"colab-df-container\">\n",
              "    <div>\n",
              "<style scoped>\n",
              "    .dataframe tbody tr th:only-of-type {\n",
              "        vertical-align: middle;\n",
              "    }\n",
              "\n",
              "    .dataframe tbody tr th {\n",
              "        vertical-align: top;\n",
              "    }\n",
              "\n",
              "    .dataframe thead th {\n",
              "        text-align: right;\n",
              "    }\n",
              "</style>\n",
              "<table border=\"1\" class=\"dataframe\">\n",
              "  <thead>\n",
              "    <tr style=\"text-align: right;\">\n",
              "      <th></th>\n",
              "      <th>id|content</th>\n",
              "    </tr>\n",
              "  </thead>\n",
              "  <tbody>\n",
              "    <tr>\n",
              "      <th>0</th>\n",
              "      <td>25001|【坐席】您好，实习话务员为您服务，【客户】，唉，你好那个，我刚收到咱们那个话费通...</td>\n",
              "    </tr>\n",
              "    <tr>\n",
              "      <th>1</th>\n",
              "      <td>25002|【坐席】您好，很高兴为您服务，【客户】，嗯，你好，那个先说一下那个不太好意思，因...</td>\n",
              "    </tr>\n",
              "    <tr>\n",
              "      <th>2</th>\n",
              "      <td>25003|【坐席】您好，很高兴为您服务，您好，【客户】，那个我这个套餐到期了也没人通知我呀...</td>\n",
              "    </tr>\n",
              "  </tbody>\n",
              "</table>\n",
              "</div>\n",
              "    <div class=\"colab-df-buttons\">\n",
              "\n",
              "  <div class=\"colab-df-container\">\n",
              "    <button class=\"colab-df-convert\" onclick=\"convertToInteractive('df-b3ec7e39-c2ba-4a2d-aafc-deee958dca9a')\"\n",
              "            title=\"Convert this dataframe to an interactive table.\"\n",
              "            style=\"display:none;\">\n",
              "\n",
              "  <svg xmlns=\"http://www.w3.org/2000/svg\" height=\"24px\" viewBox=\"0 -960 960 960\">\n",
              "    <path d=\"M120-120v-720h720v720H120Zm60-500h600v-160H180v160Zm220 220h160v-160H400v160Zm0 220h160v-160H400v160ZM180-400h160v-160H180v160Zm440 0h160v-160H620v160ZM180-180h160v-160H180v160Zm440 0h160v-160H620v160Z\"/>\n",
              "  </svg>\n",
              "    </button>\n",
              "\n",
              "  <style>\n",
              "    .colab-df-container {\n",
              "      display:flex;\n",
              "      gap: 12px;\n",
              "    }\n",
              "\n",
              "    .colab-df-convert {\n",
              "      background-color: #E8F0FE;\n",
              "      border: none;\n",
              "      border-radius: 50%;\n",
              "      cursor: pointer;\n",
              "      display: none;\n",
              "      fill: #1967D2;\n",
              "      height: 32px;\n",
              "      padding: 0 0 0 0;\n",
              "      width: 32px;\n",
              "    }\n",
              "\n",
              "    .colab-df-convert:hover {\n",
              "      background-color: #E2EBFA;\n",
              "      box-shadow: 0px 1px 2px rgba(60, 64, 67, 0.3), 0px 1px 3px 1px rgba(60, 64, 67, 0.15);\n",
              "      fill: #174EA6;\n",
              "    }\n",
              "\n",
              "    .colab-df-buttons div {\n",
              "      margin-bottom: 4px;\n",
              "    }\n",
              "\n",
              "    [theme=dark] .colab-df-convert {\n",
              "      background-color: #3B4455;\n",
              "      fill: #D2E3FC;\n",
              "    }\n",
              "\n",
              "    [theme=dark] .colab-df-convert:hover {\n",
              "      background-color: #434B5C;\n",
              "      box-shadow: 0px 1px 3px 1px rgba(0, 0, 0, 0.15);\n",
              "      filter: drop-shadow(0px 1px 2px rgba(0, 0, 0, 0.3));\n",
              "      fill: #FFFFFF;\n",
              "    }\n",
              "  </style>\n",
              "\n",
              "    <script>\n",
              "      const buttonEl =\n",
              "        document.querySelector('#df-b3ec7e39-c2ba-4a2d-aafc-deee958dca9a button.colab-df-convert');\n",
              "      buttonEl.style.display =\n",
              "        google.colab.kernel.accessAllowed ? 'block' : 'none';\n",
              "\n",
              "      async function convertToInteractive(key) {\n",
              "        const element = document.querySelector('#df-b3ec7e39-c2ba-4a2d-aafc-deee958dca9a');\n",
              "        const dataTable =\n",
              "          await google.colab.kernel.invokeFunction('convertToInteractive',\n",
              "                                                    [key], {});\n",
              "        if (!dataTable) return;\n",
              "\n",
              "        const docLinkHtml = 'Like what you see? Visit the ' +\n",
              "          '<a target=\"_blank\" href=https://colab.research.google.com/notebooks/data_table.ipynb>data table notebook</a>'\n",
              "          + ' to learn more about interactive tables.';\n",
              "        element.innerHTML = '';\n",
              "        dataTable['output_type'] = 'display_data';\n",
              "        await google.colab.output.renderOutput(dataTable, element);\n",
              "        const docLink = document.createElement('div');\n",
              "        docLink.innerHTML = docLinkHtml;\n",
              "        element.appendChild(docLink);\n",
              "      }\n",
              "    </script>\n",
              "  </div>\n",
              "\n",
              "\n",
              "<div id=\"df-13c5c55b-6c3a-4185-8a33-3bb26f6d3a73\">\n",
              "  <button class=\"colab-df-quickchart\" onclick=\"quickchart('df-13c5c55b-6c3a-4185-8a33-3bb26f6d3a73')\"\n",
              "            title=\"Suggest charts\"\n",
              "            style=\"display:none;\">\n",
              "\n",
              "<svg xmlns=\"http://www.w3.org/2000/svg\" height=\"24px\"viewBox=\"0 0 24 24\"\n",
              "     width=\"24px\">\n",
              "    <g>\n",
              "        <path d=\"M19 3H5c-1.1 0-2 .9-2 2v14c0 1.1.9 2 2 2h14c1.1 0 2-.9 2-2V5c0-1.1-.9-2-2-2zM9 17H7v-7h2v7zm4 0h-2V7h2v10zm4 0h-2v-4h2v4z\"/>\n",
              "    </g>\n",
              "</svg>\n",
              "  </button>\n",
              "\n",
              "<style>\n",
              "  .colab-df-quickchart {\n",
              "      --bg-color: #E8F0FE;\n",
              "      --fill-color: #1967D2;\n",
              "      --hover-bg-color: #E2EBFA;\n",
              "      --hover-fill-color: #174EA6;\n",
              "      --disabled-fill-color: #AAA;\n",
              "      --disabled-bg-color: #DDD;\n",
              "  }\n",
              "\n",
              "  [theme=dark] .colab-df-quickchart {\n",
              "      --bg-color: #3B4455;\n",
              "      --fill-color: #D2E3FC;\n",
              "      --hover-bg-color: #434B5C;\n",
              "      --hover-fill-color: #FFFFFF;\n",
              "      --disabled-bg-color: #3B4455;\n",
              "      --disabled-fill-color: #666;\n",
              "  }\n",
              "\n",
              "  .colab-df-quickchart {\n",
              "    background-color: var(--bg-color);\n",
              "    border: none;\n",
              "    border-radius: 50%;\n",
              "    cursor: pointer;\n",
              "    display: none;\n",
              "    fill: var(--fill-color);\n",
              "    height: 32px;\n",
              "    padding: 0;\n",
              "    width: 32px;\n",
              "  }\n",
              "\n",
              "  .colab-df-quickchart:hover {\n",
              "    background-color: var(--hover-bg-color);\n",
              "    box-shadow: 0 1px 2px rgba(60, 64, 67, 0.3), 0 1px 3px 1px rgba(60, 64, 67, 0.15);\n",
              "    fill: var(--button-hover-fill-color);\n",
              "  }\n",
              "\n",
              "  .colab-df-quickchart-complete:disabled,\n",
              "  .colab-df-quickchart-complete:disabled:hover {\n",
              "    background-color: var(--disabled-bg-color);\n",
              "    fill: var(--disabled-fill-color);\n",
              "    box-shadow: none;\n",
              "  }\n",
              "\n",
              "  .colab-df-spinner {\n",
              "    border: 2px solid var(--fill-color);\n",
              "    border-color: transparent;\n",
              "    border-bottom-color: var(--fill-color);\n",
              "    animation:\n",
              "      spin 1s steps(1) infinite;\n",
              "  }\n",
              "\n",
              "  @keyframes spin {\n",
              "    0% {\n",
              "      border-color: transparent;\n",
              "      border-bottom-color: var(--fill-color);\n",
              "      border-left-color: var(--fill-color);\n",
              "    }\n",
              "    20% {\n",
              "      border-color: transparent;\n",
              "      border-left-color: var(--fill-color);\n",
              "      border-top-color: var(--fill-color);\n",
              "    }\n",
              "    30% {\n",
              "      border-color: transparent;\n",
              "      border-left-color: var(--fill-color);\n",
              "      border-top-color: var(--fill-color);\n",
              "      border-right-color: var(--fill-color);\n",
              "    }\n",
              "    40% {\n",
              "      border-color: transparent;\n",
              "      border-right-color: var(--fill-color);\n",
              "      border-top-color: var(--fill-color);\n",
              "    }\n",
              "    60% {\n",
              "      border-color: transparent;\n",
              "      border-right-color: var(--fill-color);\n",
              "    }\n",
              "    80% {\n",
              "      border-color: transparent;\n",
              "      border-right-color: var(--fill-color);\n",
              "      border-bottom-color: var(--fill-color);\n",
              "    }\n",
              "    90% {\n",
              "      border-color: transparent;\n",
              "      border-bottom-color: var(--fill-color);\n",
              "    }\n",
              "  }\n",
              "</style>\n",
              "\n",
              "  <script>\n",
              "    async function quickchart(key) {\n",
              "      const quickchartButtonEl =\n",
              "        document.querySelector('#' + key + ' button');\n",
              "      quickchartButtonEl.disabled = true;  // To prevent multiple clicks.\n",
              "      quickchartButtonEl.classList.add('colab-df-spinner');\n",
              "      try {\n",
              "        const charts = await google.colab.kernel.invokeFunction(\n",
              "            'suggestCharts', [key], {});\n",
              "      } catch (error) {\n",
              "        console.error('Error during call to suggestCharts:', error);\n",
              "      }\n",
              "      quickchartButtonEl.classList.remove('colab-df-spinner');\n",
              "      quickchartButtonEl.classList.add('colab-df-quickchart-complete');\n",
              "    }\n",
              "    (() => {\n",
              "      let quickchartButtonEl =\n",
              "        document.querySelector('#df-13c5c55b-6c3a-4185-8a33-3bb26f6d3a73 button');\n",
              "      quickchartButtonEl.style.display =\n",
              "        google.colab.kernel.accessAllowed ? 'block' : 'none';\n",
              "    })();\n",
              "  </script>\n",
              "</div>\n",
              "    </div>\n",
              "  </div>\n"
            ],
            "application/vnd.google.colaboratory.intrinsic+json": {
              "type": "dataframe",
              "variable_name": "test_df",
              "summary": "{\n  \"name\": \"test_df\",\n  \"rows\": 7526,\n  \"fields\": [\n    {\n      \"column\": \"id|content\",\n      \"properties\": {\n        \"dtype\": \"string\",\n        \"num_unique_values\": 7526,\n        \"samples\": [\n          \"30875|\\u3010\\u5750\\u5e2d\\u3011\\u5f88\\u9ad8\\u5174\\u4e3a\\u60a8\\u670d\\u52a1\\uff0c\\u60a8\\u597d\\uff0c\\u3010\\u5ba2\\u6237\\u3011\\uff0c\\u55ef\\uff0c\\u4f60\\u597d\\uff0c\\u6211\\u60f3\\u67e5\\u4e00\\u4e0b\\u6211\\u8fd9\\u4e2a\\u4e3a\\u4ec0\\u4e48\\u624b\\u673a\\u4e0a\\u4e0d\\u4e86\\u7f51\\u4e86\\uff0c\\u3010\\u5750\\u5e2d\\u3011\\u6765\\u7535\\u8fd9\\u4e2a\\u624b\\u673a\\u53f7\\u7801\\u662f\\u5417\\uff1f\\u5148\\u751f\\uff0c\\u6765\\u7535\\u8fd9\\u4e2a\\u624b\\u673a\\u53f7\\u4e0a\\u4e0d\\u4e86\\u7f51\\u4e86\\u662f\\u5417\\uff0c\\u3010\\u5ba2\\u6237\\u3011\\u55ef\\uff1f\\u554a\\u5bf9\\u662f\\uff0c\\u55ef\\uff0c\\u4e0d\\u5149\\u8fd9\\u4e00\\u4e2a\\u624b\\u673a\\u53f7\\uff0c\\u8fd8\\u6709\\u6211\\u5bb6\\u4eba\\u7684\\u4e5f\\u662f\\u8fd9\\u4e2a\\uff0c\\u5728\\u6211\\u6211\\u4f4f\\u8fd9\\u5757\\u597d\\u50cf\\u6ca1\\u4ec0\\u4e48\\u4fe1\\u53f7\\u4e86\\uff1f\\u3010\\u5750\\u5e2d\\u3011\\u90a3\\u60a8\\u8bf4\\u4e00\\u4e0b\\u60a8\\u7684\\u8be6\\u7ec6\\u4f4d\\u7f6e\\uff0c\\u5148\\u751f\\u5728\\u5317\\u4eac\\u5e02\\u54ea\\u4e2a\\u533a\\u54ea\\u4e2a\\u5730\\u65b9\\u5462\\uff0c\\u3010\\u5ba2\\u6237\\u3011\\u5927\\u5174\\u533a\\u9ec4\\u6751\\u9547\\uff0c\\u67d0\\u67d0\\u4eba\\u4e00\\u5206\\uff0c\\u3010\\u5750\\u5e2d\\u3011\\u55ef\\uff0c\\u55ef\\uff0c\\u72fc\\u57a1\\u662f\\u5417\\uff1f\\u5c31\\u5728\\u8fd9\\u4e2a\\u5730\\u65b9\\u561b\\uff0c\\u6709\\u5177\\u4f53\\u591a\\u5c11\\u53f7\\u7801\\u8be6\\u7ec6\\u7684\\uff0c\\u3010\\u5ba2\\u6237\\u3011\\u55ef\\uff0c\\u9f99\\u5927\\u610f\\u601d\\uff0c\\u534a\\u6761\\u4e00\\u53f7\\uff0c\\u3010\\u5750\\u5e2d\\u3011\\u7a0d\\u7b49\\u4e00\\u4e0b\\uff0c\\u611f\\u8c22\\u8010\\u5fc3\\u7b49\\u5f85\\u5148\\u751f\\uff0c\\u5982\\u679c\\u60a8\\u5728\\u8fd9\\u4e2a\\u5730\\u65b9\\u6ca1\\u6709\\u4fe1\\u53f7\\u7684\\u8bdd\\uff0c\\u53ef\\u4ee5\\u628a\\u95ee\\u9898\\u5e2e\\u60a8\\u4e0a\\u62a5\\u53cd\\u9988\\u4e00\\u4e0b\\uff0c\\u540c\\u65f6\\u516c\\u53f8\\u7684\\u8bdd\\u4e5f\\u4f1a\\u6301\\u7eed\\u4f18\\u5316\\u4e00\\u4e0b\\u7f51\\u7edc\\uff0c\\u5efa\\u8bae\\u60a8\\u518d\\u5173\\u6ce8\\u4e00\\u4e0b\\u4e4b\\u540e\\u7684\\u4f7f\\u7528\\u60c5\\u51b5\\u94b1\\u5230\\u65f6\\u5019\\u4f1a\\u51fa\\u73b0\\uff0c\\u8ba9\\u76f8\\u5173\\u4eba\\u5458\\u68c0\\u67e5\\u9644\\u8fd1\\u57fa\\u7ad9\\u4ec0\\u4e48\\u7684\\uff0c\\u68c0\\u67e5\\u4e00\\u4e0b\\uff1f\\u3010\\u5ba2\\u6237\\u3011\\u55ef\\uff0c\\u4e00\\u822c\\u9700\\u8981\\u591a\\u4e45\\uff0c\\u3010\\u5750\\u5e2d\\u3011\\u4e00\\u822c\\u60c5\\u51b5\\u4e0b\\u8fd9\\u4e2a\\u4f1a\\u572848\\u5c0f\\u65f6\\u5185\\u5904\\u7406\\u7684\\uff0c\\u5148\\u751f\\uff0c\\u8fd9\\u4e2a\\u60a8\\u53ef\\u4ee5\\u4e4b\\u540e\\u518d\\u968f\\u65f6\\u5173\\u6ce8\\u4e00\\u4e0b\\u4f7f\\u7528\\u60c5\\u51b5\\u5582\\uff0c\\u53ef\\u4ee5\\uff0c\\u5c31\\u662f\\u6253\\u7535\\u8bdd\\u518d\\u53cd\\u9988\\u5c31\\u884c\\uff1f\\u3010\\u5ba2\\u6237\\u3011\\u55ef\\uff0c\\u55ef\\uff0c\\u90a3\\u5982\\u679c\\u4ed6\\u4eec\\u5904\\u7406\\u597d\\u4e86\\u4f1a\\u6709\\u4fe1\\u606f\\u63d0\\u793a\\u5417\\u3010\\u5750\\u5e2d\\u3011\\u8fd9\\u4e2a\\u540e\\u671f\\u7684\\u8bdd\\u5e94\\u8be5\\u662f\\u6709\\u4eba\\u5458\\u56de\\u8bbf\\u7684\\uff0c\\u8fd9\\u4e2a\\u540e\\u671f\\u6709\\u4eba\\u7ed9\\u60a8\\u56de\\u7535\\u5e94\\u8be5\\u662f\\uff0c\\u3010\\u5ba2\\u6237\\u3011\\u5662\\uff0c\\u597d\\u52d2\\uff0c\\u884c\\uff0c\\u90a3\\u77e5\\u9053\\u4e86\\u3010\\u5750\\u5e2d\\u3011\\u884c\\uff0c\\u55ef\\uff0c\\u90a3\\u60a8\\u4e4b\\u540e\\u518d\\u5173\\u6ce8\\u4e00\\u4e0b\\u4e4b\\u540e\\u7684\\u4f7f\\u7528\\u60c5\\u51b5\\uff0c\\u5148\\u751f\\u8fd9\\u4e2a\\uff0c\\u3010\\u5ba2\\u6237\\u3011\\u597d\\u52d2\\u884c\\u3010\\u5750\\u5e2d\\u3011\\u55ef\\uff0c\\u884c\\uff0c\\u611f\\u8c22\\u6765\\u7535\\uff0c\\u7a0d\\u540e\\u5bf9\\u6211\\u670d\\u52a1\\uff0c\\u6309\\u4e24\\u4e2a\\u4e00\\uff0c\\u8c22\\u8c22\\uff0c\\u518d\\u89c1\",\n          \"26411|\\u3010\\u5750\\u5e2d\\u3011\\u5f88\\u9ad8\\u5174\\u4e3a\\u60a8\\u670d\\u52a1\\uff0c\\u3010\\u5ba2\\u6237\\u3011\\uff0c\\u5509\\uff0c\\u4f60\\u597d\\uff0c\\u3010\\u5750\\u5e2d\\u3011\\u55ef\\u4f60\\u597d\\uff0c\\u3010\\u5ba2\\u6237\\u3011\\u6211\\u524d\\u4e00\\u6bb5\\u65f6\\u95f4\\uff0c\\u7136\\u540e\\u6709\\u53cd\\u6620\\u4e00\\u4e2a\\u6211\\u7684\\u90a3\\u4e2a\\u7f51\\u8d39\\u6211\\u4ea4\\u7684\\u662f\\u8a00\\uff0c\\u5e94\\u8be5\\u662f\\u6309\\u5e74\\u652f\\u4ed8\\u7684\\uff0c\\u4f46\\u662f\\u73b0\\u5728\\u662f\\u6709\\u6b20\\u8d39\\uff0c\\u5f53\\u65f6\\u8981\\u67e5\\uff0c\\u4f46\\u662f\\u67e5\\u8fd9\\u4e48\\u957f\\u65f6\\u95f4\\u4e5f\\u6ca1\\u6709\\u56de\\u590d\\uff0c\\u6211\\u60f3\\u54a8\\u8be2\\u4e00\\u4e0b\\u662f\\u4ec0\\u4e48\\u60c5\\u51b5\\uff0c\\u3010\\u5750\\u5e2d\\u3011\\u55ef\\uff0c\\u597d\\u7684\\uff0c\\u9ebb\\u70e6\\u60a8\\u628a\\u60a8\\u90a3\\u4e2a\\u53f7\\u7801\\u8ddf\\u6211\\u8bf4\\u4e00\\u4e0b\\uff1f\\u3010\\u5ba2\\u6237\\u3011\\u54ea\\u4e2a\\u53f7\\u7801\\u5462\\uff1f\\u3010\\u5750\\u5e2d\\u3011\\u6295\\u8bc9\\u9884\\u7559\\u7684\\u90a3\\u4e2a\\u8054\\u7cfb\\u7535\\u8bdd\\uff0c\\u7559\\u6765\\u7535\\u7684\\u624b\\u673a\\u53f7\\u7801\\u7684\\u5417\\uff0c\\u3010\\u5ba2\\u6237\\u3011\\u5c31\\u662f\\u5e94\\u8be5\\u662f\\u8fd9\\u4e2a\\u53f7\\u7801\\u5427\\uff1f\\u3010\\u5750\\u5e2d\\u3011\\u597d\\u561e\\uff0c\\u8bf7\\u60a8\\u7a0d\\u7b49\\uff0c\\u60a8\\u8fd9\\u4e2a\\u5bbd\\u5e26\\u53f7\\u662f\\u54ea\\u4e2a\\u5440\\uff1f\\u5c31\\u662f\\u6765\\u7535\\u7684\\u624b\\u673a\\u7ed1\\u5b9a\\u7684\\u5417\\uff0c\\u3010\\u5ba2\\u6237\\u3011\\u6709\\u4e24\\u4e2a\\u5bbd\\u5e26\\uff0c\\u3010\\u5750\\u5e2d\\u3011\\u901a\\u8fc7\\u6765\\u7535\\u7684\\u624b\\u673a\\u53f7\\u7801\\uff0c\\u6ca1\\u6709\\u770b\\u5230\\u8fd9\\u4e2a\\u4e1a\\u52a1\\uff0c\\u60a8\\u8bf4\\u90a3\\u4e2a\\u5bbd\\u5e26\\u600e\\u4e48\\u3010\\u5ba2\\u6237\\u3011\\u5582\\uff0c\\u521a\\u624d18187\\u3010\\u5750\\u5e2d\\u3011\\u55ef\\uff0c\\u55ef187\\u3010\\u5ba2\\u6237\\u3011********\\u3010\\u5750\\u5e2d\\u30113732917\\uff1f\\u3010\\u5ba2\\u6237\\u3011\\u7559\\u8fd9\\u4e2a\\u7535\\u8bdd\\u53f7\\u7801\\u5417\\uff1f\\u3010\\u5750\\u5e2d\\u3011\\u55ef\\u5509\\uff0c\\u770b\\u5230\\u4e86\\uff0c\\u60a8\\u7a0d\\u7b49\\uff0c\\u55ef\\uff0c\\u9ebb\\u70e6\\u60a8\\u8bf4\\u4e00\\u4e0b\\uff0c\\u5f53\\u65f6\\u767b\\u8bb0\\u7684\\u673a\\u4e3b\\u53eb\\u4ec0\\u4e48\\u540d\\u5b57\\uff0c\\u3010\\u5ba2\\u6237\\u3011\\u5b5f\\u8f72\\uff0c\\u5c31\\u6211\\u672c\\u4eba\\uff1f\\u3010\\u5750\\u5e2d\\u3011\\u55ef\\uff0c\\u55ef\\uff0c\\u597d\\u561e\\uff0c\\u8bf7\\u60a8\\u7a0d\\u7b49\\uff0c\\u55ef\\uff0c\\u4ed6\\u8fd9\\u8fb9\\u662f\\u600e\\u4e48\\u8ddf\\u60a8\\u8bf4\\u7684\\u5462\\uff1f\\u5c31\\u7ed9\\u60a8\\u56de\\u590d\\u8fc7\\u4e86\\u5417\\u3010\\u5ba2\\u6237\\u3011\\u55ef\\uff0c\\u4ed6\\u8bf4\\u8981\\u67e5\\u8be2\\uff0c\\u7136\\u540e\\u90fd\\u67e5\\u8be2\\u4e86\\u8fd9\\u4e48\\u957f\\u65f6\\u95f4\\u4e86\\uff0c\\u4e5f\\u6ca1\\u7ed9\\u6211\\u56de\\u7535\\u8bdd\\uff0c\\u662f\\u4e00\\u4e2a\\u4ec0\\u4e48\\u7ed3\\u679c\\u6211\\u4e5f\\u4e0d\\u592a\\u6e05\\u695a\\u3010\\u5750\\u5e2d\\u3011\\u5bf9\\uff0c\\u770b\\u5230\\u4e86\\uff0c\\u7a0d\\u7b49\\uff0c\\u90a3\\u60a8\\u7684\\u610f\\u601d\\u5c31\\u662f\\u5f53\\u65f6\\u51c6\\u4ea4\\u4e86\\u4e00\\u5e74\\u7684\\u5305\\u5e74\\uff0c\\u4f46\\u662f\\u73b0\\u5728\\u5c31\\u662f\\u5305\\u5e74\\u6b3e\\uff0c\\u60a8\\u90fd\\u5df2\\u7ecf\\u63d0\\u524d\\u9884\\u5b58\\u4e0a\\u4e86\\uff0c\\u4f46\\u662f\\u73b0\\u5728\\u4ecd\\u7136\\u6709\\u6b20\\u8d39\\uff0c\\u3010\\u5ba2\\u6237\\u3011\\u5bf9\\uff0c\\u73b0\\u5728\\u6211\\u7684\\u624b\\u673a\\u63d0\\u9192\\u8fd8\\u662f\\u6211\\u6b20\\u8d39\\uff0c\\u3010\\u5750\\u5e2d\\u3011\\u54b1\\u4eec\\u5c31\\u4e0d\\u540c\\u610f\\u518d\\u6b21\\u8865\\u4ea4\\u8fd9\\u4e2a\\u8d39\\u7528\\uff0c\\u7a0d\\u7b49\\uff0c\\u90a3\\u8fd9\\u6837\\u5427\\uff0c\\u5973\\u58eb\\u60a8\\u7ed9\\u6211\\u7559\\u4e2a\\u8054\\u7cfb\\u7535\\u8bdd\\uff0c\\u6211\\u8fd9\\u8fb9\\u7684\\u8bdd\\u5462\\uff0c\\u518d\\u7ed9\\u60a8\\u53bb\\u505a\\u4e00\\u4e0b\\u8fd9\\u8fb9\\u7684\\u8fd9\\u4e2a\\uff0c\\u52a0\\u6025\\u90a3\\u8fb9\\u7ed9\\u60a8\\u518d\\u53bb\\u50ac\\u4e00\\u4e0b\\u5427\\uff0c\\u3010\\u5ba2\\u6237\\u3011\\u55ef\\uff0c\\u60a8\\u4e0d\\u7ba1\\u662f\\u6211\\u73b0\\u5728\\u7ed9\\u60a8\\u62e8\\u6253\\u8fd9\\u4e2a\\u53f7\\u7801\\uff0c\\u8fd8\\u662f\\u6211\\u521a\\u624d\\u7ed9\\u4f60\\u63d0\\u4f9b\\u7684\\u90a3\\u4e2a187\\u7684\\u53f7\\u7801\\uff0c\\u8fd9\\u4e24\\u4e2a\\u53f7\\u7801\\u90fd\\u53ef\\u4ee5\\u7684\\uff0c\\u3010\\u5750\\u5e2d\\u3011\\u884c\\uff0c\\u7a0d\\u7b49\\u554a\\uff0c\\u5973\\u58eb\\uff0c\\u884c\\uff0c\\u6211\\u8fd9\\u8fb9\\u5df2\\u7ecf\\u7ed9\\u60a8\\u505a\\u8bb0\\u5f55\\u4e86\\uff0c\\u9ebb\\u70e6\\u60a8\\u518d\\u7a0d\\u5fae\\u7b49\\u4e00\\u4e0b\\u56de\\u7535\\uff0c\\u8fd9\\u4e24\\u4e2a\\u53f7\\u7801\\u90fd\\u7ed9\\u60a8\\u7559\\u4e00\\u4e0b\\u3010\\u5ba2\\u6237\\u3011\\u55ef\\uff0c\\u597d\\u7684\\uff1f\\u3010\\u5750\\u5e2d\\u3011\\u597d\\uff0c\\u8bf7\\u95ee\\u8fd8\\u6709\\u5176\\u4ed6\\u9700\\u8981\\u8865\\u5145\\u7684\\u5417\\uff0c\\u3010\\u5ba2\\u6237\\u3011\\u5662\\uff0c\\u6ca1\\u6709\\u4e86\\uff0c\\u3010\\u5750\\u5e2d\\u3011\\u55ef\\uff0c\\u597d\\uff0c\\u611f\\u8c22\\u60a8\\u7684\\u6765\\u7535\\uff0c\\u5973\\u58eb\\u518d\\u89c1\\u3010\\u5ba2\\u6237\\u3011\\u55ef\\uff0c\\u597d\\u518d\\u89c1\\uff0c\\u5509\\u597d\",\n          \"27992|\\u3010\\u5750\\u5e2d\\u3011\\u5f88\\u9ad8\\u5174\\u4e3a\\u60a8\\u670d\\u52a1\\u3010\\u5ba2\\u6237\\u3011\\u8fd9\\u4e2a\\u624b\\u673a\\u6709\\u95ee\\u9898\\uff0c\\u6240\\u6709\\u7535\\u8bdd\\u90fd\\u7b54\\u4e0d\\u8fdb\\u6765\\u3010\\u5750\\u5e2d\\u3011\\u6211\\uff0c\\u624b\\u673a\\u6709\\u95ee\\u9898\\u60a8\\u7a0d\\u7b49\\uff0c\\u6211\\u770b\\u4e00\\u4e0b\\uff0c\\u3010\\u5ba2\\u6237\\u3011\\u624b\\u673a\\u53f7\\uff0c\\u624b\\u673a\\u53f7\\uff0c\\u6211\\u628a\\u624b\\u673a\\u554a\\uff0c\\u3010\\u5750\\u5e2d\\u3011\\u662f\\u6765\\u7535\\u7684\\uff0c\\u8fd9\\u4e2a\\u53f7\\u7801\\u63a5\\u4e0d\\u5230\\u7535\\u8bdd\\u662f\\u5417\\uff0c\\u3010\\u5ba2\\u6237\\u3011\\u55ef\\uff1f\\u5bf9\\u4f60\\u53cd\\u6620\\u8fc7\\u5f88\\u591a\\u6b21\\u4e86\\uff0c\\u800c\\u4e14\\u800c\\u4e14\\u5361\\u4e5f\\u6362\\u8fc7\\uff0c\\u624b\\u673a\\u4e5f\\u6362\\u8fc7\\uff0c\\u90a3\\u4e2a\\u5957\\u9910\\u4e5f\\u6362\\u8fc7\\uff0c\\u7136\\u540e\\u4f60\\u4eec\\u6628\\u5929\\u8fd8\\u662f\\u524d\\u5929\\u7684\\uff0c\\u662f\\u4ec0\\u4e48\\u540e\\u53f0\\u53c8\\u91cd\\u542f\\u8fd8\\u662f\\u5e72\\u561b\\u7684\\uff0c\\u8fd8\\u662f\\u6ca1\\u6709\\u89e3\\u51b3\\uff0c\\u3010\\u5750\\u5e2d\\u3011\\u8fd8\\u662f\\u6ca1\\u6709\\u5904\\u7406\\u662f\\u5417\\uff1f\\u7b49\\u4e00\\u4e0b\\u554a\\uff0c\\u4efb\\u4f55\\u5730\\u65b9\\u90fd\\u662f\\u8fd9\\u79cd\\u60c5\\u51b5\\uff0c\\u8fd8\\u662f\\u56fa\\u5b9a\\u7684\\u4e00\\u4e2a\\u5730\\u65b9\\u4f1a\\u51fa\\u73b0\\u8fd9\\u79cd\\u95ee\\u9898\\u5462\\u5148\\u751f\\uff0c\\u5662\\uff0c\\u4ec0\\u4e48\\uff1f\\u4efb\\u4efb\\u4f55\\u5730\\u65b9\\u90fd\\u662f\\u51fa\\u73b0\\u90fd\\u4f1a\\u51fa\\u73b0\\u8fd9\\u79cd\\u60c5\\u51b5\\u662f\\u5417\\uff1f\\u5bf9\\uff0c\\u7b49\\u4e00\\u4e0b\\u554a\\uff0c\\u3010\\u5ba2\\u6237\\u3011\\u4e0a\\u7f51\\u6211\\u6253\\u51fa\\u53bb\\u90fd\\u6ca1\\u95ee\\u9898\\uff0c\\u5c31\\u662f\\u63a5\\u4e0d\\u4e86\\u7535\\u8bdd\\u3010\\u5750\\u5e2d\\u3011\\u55ef\\u55ef\\uff0c\\u597d\\u7684\\uff0c\\u90a3\\u6211\\u8fd9\\u8fb9\\u518d\\u7ed9\\u60a8\\u4e0a\\u62a5\\u4e00\\u4e0b\\uff0c\\u5148\\u751f\\uff0c\\u5982\\u679c\\u8054\\u7cfb\\u60a8\\u7684\\u8bdd\\u8054\\u7cfb\\u60a8\\uff0c\\u55ef\\uff0c\\u54ea\\u4e2a\\u53f7\\u7801\\u5462\\uff1f\\u8fd9\\u8fb9\\u7ed9\\u60a8\\u767b\\u8bb0\\u4e00\\u4e0b\\uff0c\\u3010\\u5ba2\\u6237\\u301115152\\uff0c\\u5b83\\u90a3\\u4e2a\\u4e0d\\u8d85\\uff0c\\u7a0d\\u5fae\\u7b49\\u4e00\\u4e0b********\\uff0c\\u3010\\u5750\\u5e2d\\u3011\\u55ef\\uff0c\\u90a3\\u6211\\u8fd9\\u8fb9\\u518d\\u7ed9\\u60a8\\u505a\\u4e00\\u4e0b\\u767b\\u8bb0\\uff0c\\u5148\\u751f\\uff0c\\u60a8\\u4fdd\\u6301\\u7535\\u8bdd\\u901a\\u7545\\uff0c\\u7a0d\\u540e\\u4f1a\\u6709\\u54b1\\u4eec\\u540e\\u53f0\\u4e13\\u4e1a\\u6280\\u672f\\u90e8\\u95e8\\u4e0e\\u60a8\\u7535\\u8bdd\\u8054\\u7cfb\\uff0c\\u3010\\u5ba2\\u6237\\u3011\\u55ef\\uff0c\\u4e0d\\u662f\\u4f60\\u4eec\\u8fd9\\u4ec0\\u4e48\\u95ee\\u9898\\u554a\\uff0c\\u5df2\\u7ecf\\u5df2\\u7ecf\\u4e0d\\u5df2\\u7ecf\\u5f88\\u957f\\u65f6\\u95f4\\u4e86\\uff0c\\u3010\\u5750\\u5e2d\\u3011\\u55ef\\uff0c\\u597d\\u7684\\uff0c\\u90a3\\u6211\\u8fd9\\u8fb9\\u7ed9\\u60a8\\u4e0a\\u62a5\\u4e00\\u4e0b\\uff0c\\u56e0\\u4e3a\\u901a\\u8fc7\\u4e00\\u770b\\u54b1\\u4eec\\u8fd9\\u8fb9\\u5e73\\u53f0\\u7684\\u8bdd\\uff0c\\u6ca1\\u6709\\u67e5\\u770b\\u5230\\u5176\\u5b83\\u5f02\\u5e38\\uff0c\\u6211\\u8fd9\\u8fb9\\u7ed9\\u60a8\\u4e0a\\u62a5\\u4e86\\uff0c\\u4f1a\\u6709\\u540e\\u53f0\\u6280\\u672f\\u90e8\\u95e8\\u5e2e\\u60a8\\u6838\\u5b9e\\u7684\\uff0c\\u60a8\\u7a0d\\u540e\\u4fdd\\u6301\\u7535\\u8bdd\\u901a\\u7545\\u4e00\\u4e0b\\uff1f\\u3010\\u5ba2\\u6237\\u3011\\u4f60\\u4f60\\u4f60\\u8fd9\\u91cc\\u6709\\u6211\\u53cd\\u6620\\u7684\\u60c5\\u51b5\\u7684\\u8bb0\\u5f55\\u662f\\u5417\\uff0c\\u3010\\u5750\\u5e2d\\u3011\\u55ef\\uff0c\\u5bf9\\u524d\\u671f\\u6709\\u53cd\\u9988\\u7684\\u8bb0\\u5f55\\uff0c\\u55ef\\uff0c\\u55ef\\u597d\\u7684\\uff0c\\u3010\\u5ba2\\u6237\\u3011\\u5c3d\\u5feb\\u5e2e\\u6211\\u89e3\\u51b3\\u5427\\uff0c\\u597d\\u5427\\uff0c\\u597d\\u9ebb\\u70e6\\uff0c\\u3010\\u5750\\u5e2d\\u3011\\u597d\\u7684\\uff0c\\u3010\\u5ba2\\u6237\\u3011\\u6240\\u6709\\u4eba\\u8fbe\\u8fbe\\u4e0d\\u4e86\\u7535\\u8bdd\\u3010\\u5750\\u5e2d\\u3011\\u55ef\\uff0c\\u597d\\u7684\\u597d\\u7684\\uff0c\\u90a3\\u6211\\u8fd9\\u8fb9\\u5c3d\\u5feb\\u5e2e\\u60a8\\u4e0a\\u62a5\\uff0c\\u90a3\\u611f\\u8c22\\u60a8\\u7684\\u6765\\u7535\\uff0c\\u518d\\u89c1\"\n        ],\n        \"semantic_type\": \"\",\n        \"description\": \"\"\n      }\n    }\n  ]\n}"
            }
          },
          "metadata": {},
          "execution_count": 31
        }
      ]
    },
    {
      "cell_type": "code",
      "source": [
        "test_df.columns"
      ],
      "metadata": {
        "colab": {
          "base_uri": "https://localhost:8080/"
        },
        "id": "xsjr4fMdhnt6",
        "outputId": "7249ca7b-5eea-49ed-b9b8-2d45b37f2600"
      },
      "id": "xsjr4fMdhnt6",
      "execution_count": 55,
      "outputs": [
        {
          "output_type": "execute_result",
          "data": {
            "text/plain": [
              "Index(['id|content'], dtype='object')"
            ]
          },
          "metadata": {},
          "execution_count": 55
        }
      ]
    },
    {
      "cell_type": "code",
      "source": [
        "test_df[\"id\"] = test_df[\"id|content\"].apply(lambda x: x[:4])\n",
        "test_df[\"id|content\"] = test_df[\"id|content\"].apply(lambda x: x[5:])\n",
        "test_df = test_df.rename(columns={\"id|content\": \"content\"})\n",
        "\n",
        "test_df[\"len\"] = test_df[\"content\"].apply(len)"
      ],
      "metadata": {
        "id": "fsYOVZ4bhcqU"
      },
      "id": "fsYOVZ4bhcqU",
      "execution_count": 56,
      "outputs": []
    },
    {
      "cell_type": "code",
      "source": [
        "test_df[\"len\"].describe()"
      ],
      "metadata": {
        "colab": {
          "base_uri": "https://localhost:8080/"
        },
        "id": "10uWygdriPAx",
        "outputId": "b077af72-3ef4-4ae8-d767-64a632f1749a"
      },
      "id": "10uWygdriPAx",
      "execution_count": 57,
      "outputs": [
        {
          "output_type": "execute_result",
          "data": {
            "text/plain": [
              "count     7526.000000\n",
              "mean      1237.574542\n",
              "std       1044.299993\n",
              "min         24.000000\n",
              "25%        645.250000\n",
              "50%        976.000000\n",
              "75%       1503.000000\n",
              "max      29724.000000\n",
              "Name: len, dtype: float64"
            ]
          },
          "metadata": {},
          "execution_count": 57
        }
      ]
    },
    {
      "cell_type": "code",
      "source": [
        "test_df[\"len\"].plot()"
      ],
      "metadata": {
        "colab": {
          "base_uri": "https://localhost:8080/",
          "height": 448
        },
        "id": "CwLSZ8w_ijA4",
        "outputId": "8b6e01da-5d5c-4583-aa93-95330425b9d6"
      },
      "id": "CwLSZ8w_ijA4",
      "execution_count": 58,
      "outputs": [
        {
          "output_type": "execute_result",
          "data": {
            "text/plain": [
              "<Axes: >"
            ]
          },
          "metadata": {},
          "execution_count": 58
        },
        {
          "output_type": "display_data",
          "data": {
            "text/plain": [
              "<Figure size 640x480 with 1 Axes>"
            ],
            "image/png": "[encoded data removed]"
          },
          "metadata": {}
        }
      ]
    },
    {
      "cell_type": "code",
      "source": [],
      "metadata": {
        "id": "yBCXWlmdium7"
      },
      "id": "yBCXWlmdium7",
      "execution_count": null,
      "outputs": []
    },
    {
      "cell_type": "code",
      "execution_count": 2,
      "id": "36a77632-b0d7-48f4-8caf-aa03524cac7e",
      "metadata": {
        "id": "36a77632-b0d7-48f4-8caf-aa03524cac7e"
      },
      "outputs": [],
      "source": [
        "import warnings\n",
        "warnings.filterwarnings('ignore')"
      ]
    },
    {
      "cell_type": "code",
      "execution_count": 2,
      "id": "db0e1a3f-78f4-4294-8661-89d1f7db3474",
      "metadata": {
        "colab": {
          "base_uri": "https://localhost:8080/"
        },
        "id": "db0e1a3f-78f4-4294-8661-89d1f7db3474",
        "outputId": "6c056c08-b4a4-4d2e-a585-7e198205790e"
      },
      "outputs": [
        {
          "output_type": "stream",
          "name": "stdout",
          "text": [
            "4.38.2\n"
          ]
        }
      ],
      "source": [
        "import transformers\n",
        "print(transformers.__version__)"
      ]
    },
    {
      "cell_type": "code",
      "execution_count": 1,
      "id": "6bc7b26c-2cc6-4add-bb63-0ceecc2dd13d",
      "metadata": {
        "colab": {
          "base_uri": "https://localhost:8080/"
        },
        "id": "6bc7b26c-2cc6-4add-bb63-0ceecc2dd13d",
        "outputId": "997e1ee5-f68a-4c1e-8e10-978a52f14218"
      },
      "outputs": [
        {
          "output_type": "stream",
          "name": "stdout",
          "text": [
            "Collecting peft\n",
            "  Downloading peft-0.10.0-py3-none-any.whl (199 kB)\n",
            "\u001b[?25l     \u001b[90m━━━━━━━━━━━━━━━━━━━━━━━━━━━━━━━━━━━━━━━━\u001b[0m \u001b[32m0.0/199.1 kB\u001b[0m \u001b[31m?\u001b[0m eta \u001b[36m-:--:--\u001b[0m\r\u001b[2K     \u001b[91m━━━━━━━━━━━━━━━━━━\u001b[0m\u001b[91m╸\u001b[0m\u001b[90m━━━━━━━━━━━━━━━━━━━━━\u001b[0m \u001b[32m92.2/199.1 kB\u001b[0m \u001b[31m2.5 MB/s\u001b[0m eta \u001b[36m0:00:01\u001b[0m\r\u001b[2K     \u001b[90m━━━━━━━━━━━━━━━━━━━━━━━━━━━━━━━━━━━━━━━━\u001b[0m \u001b[32m199.1/199.1 kB\u001b[0m \u001b[31m3.5 MB/s\u001b[0m eta \u001b[36m0:00:00\u001b[0m\n",
            "\u001b[?25hRequirement already satisfied: numpy>=1.17 in /usr/local/lib/python3.10/dist-packages (from peft) (1.25.2)\n",
            "Requirement already satisfied: packaging>=20.0 in /usr/local/lib/python3.10/dist-packages (from peft) (24.0)\n",
            "Requirement already satisfied: psutil in /usr/local/lib/python3.10/dist-packages (from peft) (5.9.5)\n",
            "Requirement already satisfied: pyyaml in /usr/local/lib/python3.10/dist-packages (from peft) (6.0.1)\n",
            "Requirement already satisfied: torch>=1.13.0 in /usr/local/lib/python3.10/dist-packages (from peft) (2.2.1+cu121)\n",
            "Requirement already satisfied: transformers in /usr/local/lib/python3.10/dist-packages (from peft) (4.38.2)\n",
            "Requirement already satisfied: tqdm in /usr/local/lib/python3.10/dist-packages (from peft) (4.66.2)\n",
            "Requirement already satisfied: accelerate>=0.21.0 in /usr/local/lib/python3.10/dist-packages (from peft) (0.29.2)\n",
            "Requirement already satisfied: safetensors in /usr/local/lib/python3.10/dist-packages (from peft) (0.4.2)\n",
            "Requirement already satisfied: huggingface-hub>=0.17.0 in /usr/local/lib/python3.10/dist-packages (from peft) (0.20.3)\n",
            "Requirement already satisfied: filelock in /usr/local/lib/python3.10/dist-packages (from huggingface-hub>=0.17.0->peft) (3.13.4)\n",
            "Requirement already satisfied: fsspec>=2023.5.0 in /usr/local/lib/python3.10/dist-packages (from huggingface-hub>=0.17.0->peft) (2023.6.0)\n",
            "Requirement already satisfied: requests in /usr/local/lib/python3.10/dist-packages (from huggingface-hub>=0.17.0->peft) (2.31.0)\n",
            "Requirement already satisfied: typing-extensions>=3.7.4.3 in /usr/local/lib/python3.10/dist-packages (from huggingface-hub>=0.17.0->peft) (4.11.0)\n",
            "Requirement already satisfied: sympy in /usr/local/lib/python3.10/dist-packages (from torch>=1.13.0->peft) (1.12)\n",
            "Requirement already satisfied: networkx in /usr/local/lib/python3.10/dist-packages (from torch>=1.13.0->peft) (3.3)\n",
            "Requirement already satisfied: jinja2 in /usr/local/lib/python3.10/dist-packages (from torch>=1.13.0->peft) (3.1.3)\n",
            "Requirement already satisfied: nvidia-cuda-nvrtc-cu12==12.1.105 in /usr/local/lib/python3.10/dist-packages (from torch>=1.13.0->peft) (12.1.105)\n",
            "Requirement already satisfied: nvidia-cuda-runtime-cu12==12.1.105 in /usr/local/lib/python3.10/dist-packages (from torch>=1.13.0->peft) (12.1.105)\n",
            "Requirement already satisfied: nvidia-cuda-cupti-cu12==12.1.105 in /usr/local/lib/python3.10/dist-packages (from torch>=1.13.0->peft) (12.1.105)\n",
            "Requirement already satisfied: nvidia-cudnn-cu12==8.9.2.26 in /usr/local/lib/python3.10/dist-packages (from torch>=1.13.0->peft) (8.9.2.26)\n",
            "Requirement already satisfied: nvidia-cublas-cu12==12.1.3.1 in /usr/local/lib/python3.10/dist-packages (from torch>=1.13.0->peft) (12.1.3.1)\n",
            "Requirement already satisfied: nvidia-cufft-cu12==11.0.2.54 in /usr/local/lib/python3.10/dist-packages (from torch>=1.13.0->peft) (11.0.2.54)\n",
            "Requirement already satisfied: nvidia-curand-cu12==10.3.2.106 in /usr/local/lib/python3.10/dist-packages (from torch>=1.13.0->peft) (10.3.2.106)\n",
            "Requirement already satisfied: nvidia-cusolver-cu12==11.4.5.107 in /usr/local/lib/python3.10/dist-packages (from torch>=1.13.0->peft) (11.4.5.107)\n",
            "Requirement already satisfied: nvidia-cusparse-cu12==12.1.0.106 in /usr/local/lib/python3.10/dist-packages (from torch>=1.13.0->peft) (12.1.0.106)\n",
            "Requirement already satisfied: nvidia-nccl-cu12==2.19.3 in /usr/local/lib/python3.10/dist-packages (from torch>=1.13.0->peft) (2.19.3)\n",
            "Requirement already satisfied: nvidia-nvtx-cu12==12.1.105 in /usr/local/lib/python3.10/dist-packages (from torch>=1.13.0->peft) (12.1.105)\n",
            "Requirement already satisfied: triton==2.2.0 in /usr/local/lib/python3.10/dist-packages (from torch>=1.13.0->peft) (2.2.0)\n",
            "Requirement already satisfied: nvidia-nvjitlink-cu12 in /usr/local/lib/python3.10/dist-packages (from nvidia-cusolver-cu12==11.4.5.107->torch>=1.13.0->peft) (12.4.127)\n",
            "Requirement already satisfied: regex!=2019.12.17 in /usr/local/lib/python3.10/dist-packages (from transformers->peft) (2023.12.25)\n",
            "Requirement already satisfied: tokenizers<0.19,>=0.14 in /usr/local/lib/python3.10/dist-packages (from transformers->peft) (0.15.2)\n",
            "Requirement already satisfied: MarkupSafe>=2.0 in /usr/local/lib/python3.10/dist-packages (from jinja2->torch>=1.13.0->peft) (2.1.5)\n",
            "Requirement already satisfied: charset-normalizer<4,>=2 in /usr/local/lib/python3.10/dist-packages (from requests->huggingface-hub>=0.17.0->peft) (3.3.2)\n",
            "Requirement already satisfied: idna<4,>=2.5 in /usr/local/lib/python3.10/dist-packages (from requests->huggingface-hub>=0.17.0->peft) (3.6)\n",
            "Requirement already satisfied: urllib3<3,>=1.21.1 in /usr/local/lib/python3.10/dist-packages (from requests->huggingface-hub>=0.17.0->peft) (2.0.7)\n",
            "Requirement already satisfied: certifi>=2017.4.17 in /usr/local/lib/python3.10/dist-packages (from requests->huggingface-hub>=0.17.0->peft) (2024.2.2)\n",
            "Requirement already satisfied: mpmath>=0.19 in /usr/local/lib/python3.10/dist-packages (from sympy->torch>=1.13.0->peft) (1.3.0)\n",
            "Installing collected packages: peft\n",
            "Successfully installed peft-0.10.0\n",
            "0.10.0\n"
          ]
        }
      ],
      "source": [
        "!pip install peft\n",
        "import peft\n",
        "print(peft.__version__)"
      ]
    },
    {
      "cell_type": "code",
      "execution_count": 3,
      "id": "6f28e80c-b47a-4973-a1ec-d761ac412e0a",
      "metadata": {
        "colab": {
          "base_uri": "https://localhost:8080/"
        },
        "id": "6f28e80c-b47a-4973-a1ec-d761ac412e0a",
        "outputId": "f53374c8-e37c-4fbd-e4a4-ba14c1a4ed93"
      },
      "outputs": [
        {
          "output_type": "stream",
          "name": "stdout",
          "text": [
            "0.29.2\n"
          ]
        }
      ],
      "source": [
        "# !pip install accelerate\n",
        "import accelerate\n",
        "print(accelerate.__version__)"
      ]
    },
    {
      "cell_type": "code",
      "execution_count": 4,
      "id": "7bd64c16-82c4-4c1d-9f74-5b734fe6b6f1",
      "metadata": {
        "colab": {
          "base_uri": "https://localhost:8080/"
        },
        "id": "7bd64c16-82c4-4c1d-9f74-5b734fe6b6f1",
        "outputId": "34f4720e-841b-49e0-dff8-b98c4f922577"
      },
      "outputs": [
        {
          "output_type": "stream",
          "name": "stdout",
          "text": [
            "Collecting torchkeras\n",
            "  Downloading torchkeras-3.9.6-py3-none-any.whl (6.5 MB)\n",
            "\u001b[2K     \u001b[90m━━━━━━━━━━━━━━━━━━━━━━━━━━━━━━━━━━━━━━━━\u001b[0m \u001b[32m6.5/6.5 MB\u001b[0m \u001b[31m20.0 MB/s\u001b[0m eta \u001b[36m0:00:00\u001b[0m\n",
            "\u001b[?25hInstalling collected packages: torchkeras\n",
            "Successfully installed torchkeras-3.9.6\n",
            "3.9.6\n"
          ]
        }
      ],
      "source": [
        "!pip install torchkeras\n",
        "import torchkeras\n",
        "print(torchkeras.__version__)"
      ]
    },
    {
      "cell_type": "code",
      "execution_count": 4,
      "id": "758611aa-70ab-4ce4-b512-8991315cdf30",
      "metadata": {
        "colab": {
          "base_uri": "https://localhost:8080/"
        },
        "id": "758611aa-70ab-4ce4-b512-8991315cdf30",
        "outputId": "a68b9bd2-d0b7-4919-e771-7df101d26fb2"
      },
      "outputs": [
        {
          "output_type": "stream",
          "name": "stdout",
          "text": [
            "Looking in indexes: https://pypi.org/simple/\n",
            "Collecting bitsandbytes\n",
            "  Downloading bitsandbytes-0.43.1-py3-none-manylinux_2_24_x86_64.whl (119.8 MB)\n",
            "\u001b[2K     \u001b[90m━━━━━━━━━━━━━━━━━━━━━━━━━━━━━━━━━━━━━━━━\u001b[0m \u001b[32m119.8/119.8 MB\u001b[0m \u001b[31m8.6 MB/s\u001b[0m eta \u001b[36m0:00:00\u001b[0m\n",
            "\u001b[?25hRequirement already satisfied: torch in /usr/local/lib/python3.10/dist-packages (from bitsandbytes) (2.2.1+cu121)\n",
            "Requirement already satisfied: numpy in /usr/local/lib/python3.10/dist-packages (from bitsandbytes) (1.25.2)\n",
            "Requirement already satisfied: filelock in /usr/local/lib/python3.10/dist-packages (from torch->bitsandbytes) (3.13.4)\n",
            "Requirement already satisfied: typing-extensions>=4.8.0 in /usr/local/lib/python3.10/dist-packages (from torch->bitsandbytes) (4.11.0)\n",
            "Requirement already satisfied: sympy in /usr/local/lib/python3.10/dist-packages (from torch->bitsandbytes) (1.12)\n",
            "Requirement already satisfied: networkx in /usr/local/lib/python3.10/dist-packages (from torch->bitsandbytes) (3.3)\n",
            "Requirement already satisfied: jinja2 in /usr/local/lib/python3.10/dist-packages (from torch->bitsandbytes) (3.1.3)\n",
            "Requirement already satisfied: fsspec in /usr/local/lib/python3.10/dist-packages (from torch->bitsandbytes) (2023.6.0)\n",
            "Collecting nvidia-cuda-nvrtc-cu12==12.1.105 (from torch->bitsandbytes)\n",
            "  Using cached nvidia_cuda_nvrtc_cu12-12.1.105-py3-none-manylinux1_x86_64.whl (23.7 MB)\n",
            "Collecting nvidia-cuda-runtime-cu12==12.1.105 (from torch->bitsandbytes)\n",
            "  Using cached nvidia_cuda_runtime_cu12-12.1.105-py3-none-manylinux1_x86_64.whl (823 kB)\n",
            "Collecting nvidia-cuda-cupti-cu12==12.1.105 (from torch->bitsandbytes)\n",
            "  Using cached nvidia_cuda_cupti_cu12-12.1.105-py3-none-manylinux1_x86_64.whl (14.1 MB)\n",
            "Collecting nvidia-cudnn-cu12==8.9.2.26 (from torch->bitsandbytes)\n",
            "  Using cached nvidia_cudnn_cu12-8.9.2.26-py3-none-manylinux1_x86_64.whl (731.7 MB)\n",
            "Collecting nvidia-cublas-cu12==12.1.3.1 (from torch->bitsandbytes)\n",
            "  Using cached nvidia_cublas_cu12-12.1.3.1-py3-none-manylinux1_x86_64.whl (410.6 MB)\n",
            "Collecting nvidia-cufft-cu12==11.0.2.54 (from torch->bitsandbytes)\n",
            "  Using cached nvidia_cufft_cu12-11.0.2.54-py3-none-manylinux1_x86_64.whl (121.6 MB)\n",
            "Collecting nvidia-curand-cu12==10.3.2.106 (from torch->bitsandbytes)\n",
            "  Using cached nvidia_curand_cu12-10.3.2.106-py3-none-manylinux1_x86_64.whl (56.5 MB)\n",
            "Collecting nvidia-cusolver-cu12==11.4.5.107 (from torch->bitsandbytes)\n",
            "  Using cached nvidia_cusolver_cu12-11.4.5.107-py3-none-manylinux1_x86_64.whl (124.2 MB)\n",
            "Collecting nvidia-cusparse-cu12==12.1.0.106 (from torch->bitsandbytes)\n",
            "  Using cached nvidia_cusparse_cu12-12.1.0.106-py3-none-manylinux1_x86_64.whl (196.0 MB)\n",
            "Collecting nvidia-nccl-cu12==2.19.3 (from torch->bitsandbytes)\n",
            "  Using cached nvidia_nccl_cu12-2.19.3-py3-none-manylinux1_x86_64.whl (166.0 MB)\n",
            "Collecting nvidia-nvtx-cu12==12.1.105 (from torch->bitsandbytes)\n",
            "  Using cached nvidia_nvtx_cu12-12.1.105-py3-none-manylinux1_x86_64.whl (99 kB)\n",
            "Requirement already satisfied: triton==2.2.0 in /usr/local/lib/python3.10/dist-packages (from torch->bitsandbytes) (2.2.0)\n",
            "Collecting nvidia-nvjitlink-cu12 (from nvidia-cusolver-cu12==11.4.5.107->torch->bitsandbytes)\n",
            "  Using cached nvidia_nvjitlink_cu12-12.4.127-py3-none-manylinux2014_x86_64.whl (21.1 MB)\n",
            "Requirement already satisfied: MarkupSafe>=2.0 in /usr/local/lib/python3.10/dist-packages (from jinja2->torch->bitsandbytes) (2.1.5)\n",
            "Requirement already satisfied: mpmath>=0.19 in /usr/local/lib/python3.10/dist-packages (from sympy->torch->bitsandbytes) (1.3.0)\n",
            "Installing collected packages: nvidia-nvtx-cu12, nvidia-nvjitlink-cu12, nvidia-nccl-cu12, nvidia-curand-cu12, nvidia-cufft-cu12, nvidia-cuda-runtime-cu12, nvidia-cuda-nvrtc-cu12, nvidia-cuda-cupti-cu12, nvidia-cublas-cu12, nvidia-cusparse-cu12, nvidia-cudnn-cu12, nvidia-cusolver-cu12, bitsandbytes\n",
            "Successfully installed bitsandbytes-0.43.1 nvidia-cublas-cu12-12.1.3.1 nvidia-cuda-cupti-cu12-12.1.105 nvidia-cuda-nvrtc-cu12-12.1.105 nvidia-cuda-runtime-cu12-12.1.105 nvidia-cudnn-cu12-8.9.2.26 nvidia-cufft-cu12-11.0.2.54 nvidia-curand-cu12-10.3.2.106 nvidia-cusolver-cu12-11.4.5.107 nvidia-cusparse-cu12-12.1.0.106 nvidia-nccl-cu12-2.19.3 nvidia-nvjitlink-cu12-12.4.127 nvidia-nvtx-cu12-12.1.105\n",
            "Name: bitsandbytes\n",
            "Version: 0.43.1\n",
            "Summary: k-bit optimizers and matrix multiplication routines.\n",
            "Home-page: https://github.com/TimDettmers/bitsandbytes\n",
            "Author: Tim Dettmers\n",
            "Author-email: dettmers@cs.washington.edu\n",
            "License: MIT\n",
            "Location: /usr/local/lib/python3.10/dist-packages\n",
            "Requires: numpy, torch\n",
            "Required-by: \n"
          ]
        }
      ],
      "source": [
        "!pip install -i https://pypi.org/simple/ bitsandbytes\n",
        "!pip show bitsandbytes"
      ]
    },
    {
      "cell_type": "markdown",
      "id": "eae3a0b3-bf03-46bd-bace-330665645f9a",
      "metadata": {
        "id": "eae3a0b3-bf03-46bd-bace-330665645f9a"
      },
      "source": [
        "## 〇，预训练模型"
      ]
    },
    {
      "cell_type": "code",
      "source": [
        "!pip install tiktoken\n",
        "# !pip install streamlit==1.24.0\n",
        "# !pip install sentencepiece==0.1.99\n",
        "!pip install datasets sentencepiece"
      ],
      "metadata": {
        "colab": {
          "base_uri": "https://localhost:8080/"
        },
        "id": "iQiF5FUvc8wo",
        "outputId": "b2de79d8-7b78-4875-fa0f-fbbb69bb40d4"
      },
      "id": "iQiF5FUvc8wo",
      "execution_count": 6,
      "outputs": [
        {
          "output_type": "stream",
          "name": "stdout",
          "text": [
            "Collecting tiktoken\n",
            "  Downloading tiktoken-0.6.0-cp310-cp310-manylinux_2_17_x86_64.manylinux2014_x86_64.whl (1.8 MB)\n",
            "\u001b[2K     \u001b[90m━━━━━━━━━━━━━━━━━━━━━━━━━━━━━━━━━━━━━━━━\u001b[0m \u001b[32m1.8/1.8 MB\u001b[0m \u001b[31m19.4 MB/s\u001b[0m eta \u001b[36m0:00:00\u001b[0m\n",
            "\u001b[?25hRequirement already satisfied: regex>=2022.1.18 in /usr/local/lib/python3.10/dist-packages (from tiktoken) (2023.12.25)\n",
            "Requirement already satisfied: requests>=2.26.0 in /usr/local/lib/python3.10/dist-packages (from tiktoken) (2.31.0)\n",
            "Requirement already satisfied: charset-normalizer<4,>=2 in /usr/local/lib/python3.10/dist-packages (from requests>=2.26.0->tiktoken) (3.3.2)\n",
            "Requirement already satisfied: idna<4,>=2.5 in /usr/local/lib/python3.10/dist-packages (from requests>=2.26.0->tiktoken) (3.6)\n",
            "Requirement already satisfied: urllib3<3,>=1.21.1 in /usr/local/lib/python3.10/dist-packages (from requests>=2.26.0->tiktoken) (2.0.7)\n",
            "Requirement already satisfied: certifi>=2017.4.17 in /usr/local/lib/python3.10/dist-packages (from requests>=2.26.0->tiktoken) (2024.2.2)\n",
            "Installing collected packages: tiktoken\n",
            "Successfully installed tiktoken-0.6.0\n",
            "Collecting datasets\n",
            "  Downloading datasets-2.18.0-py3-none-any.whl (510 kB)\n",
            "\u001b[2K     \u001b[90m━━━━━━━━━━━━━━━━━━━━━━━━━━━━━━━━━━━━━━━━\u001b[0m \u001b[32m510.5/510.5 kB\u001b[0m \u001b[31m5.2 MB/s\u001b[0m eta \u001b[36m0:00:00\u001b[0m\n",
            "\u001b[?25hRequirement already satisfied: sentencepiece in /usr/local/lib/python3.10/dist-packages (0.1.99)\n",
            "Requirement already satisfied: filelock in /usr/local/lib/python3.10/dist-packages (from datasets) (3.13.4)\n",
            "Requirement already satisfied: numpy>=1.17 in /usr/local/lib/python3.10/dist-packages (from datasets) (1.25.2)\n",
            "Requirement already satisfied: pyarrow>=12.0.0 in /usr/local/lib/python3.10/dist-packages (from datasets) (14.0.2)\n",
            "Requirement already satisfied: pyarrow-hotfix in /usr/local/lib/python3.10/dist-packages (from datasets) (0.6)\n",
            "Collecting dill<0.3.9,>=0.3.0 (from datasets)\n",
            "  Downloading dill-0.3.8-py3-none-any.whl (116 kB)\n",
            "\u001b[2K     \u001b[90m━━━━━━━━━━━━━━━━━━━━━━━━━━━━━━━━━━━━━━━━\u001b[0m \u001b[32m116.3/116.3 kB\u001b[0m \u001b[31m6.3 MB/s\u001b[0m eta \u001b[36m0:00:00\u001b[0m\n",
            "\u001b[?25hRequirement already satisfied: pandas in /usr/local/lib/python3.10/dist-packages (from datasets) (2.0.3)\n",
            "Requirement already satisfied: requests>=2.19.0 in /usr/local/lib/python3.10/dist-packages (from datasets) (2.31.0)\n",
            "Requirement already satisfied: tqdm>=4.62.1 in /usr/local/lib/python3.10/dist-packages (from datasets) (4.66.2)\n",
            "Collecting xxhash (from datasets)\n",
            "  Downloading xxhash-3.4.1-cp310-cp310-manylinux_2_17_x86_64.manylinux2014_x86_64.whl (194 kB)\n",
            "\u001b[2K     \u001b[90m━━━━━━━━━━━━━━━━━━━━━━━━━━━━━━━━━━━━━━━━\u001b[0m \u001b[32m194.1/194.1 kB\u001b[0m \u001b[31m7.9 MB/s\u001b[0m eta \u001b[36m0:00:00\u001b[0m\n",
            "\u001b[?25hCollecting multiprocess (from datasets)\n",
            "  Downloading multiprocess-0.70.16-py310-none-any.whl (134 kB)\n",
            "\u001b[2K     \u001b[90m━━━━━━━━━━━━━━━━━━━━━━━━━━━━━━━━━━━━━━━━\u001b[0m \u001b[32m134.8/134.8 kB\u001b[0m \u001b[31m10.5 MB/s\u001b[0m eta \u001b[36m0:00:00\u001b[0m\n",
            "\u001b[?25hRequirement already satisfied: fsspec[http]<=2024.2.0,>=2023.1.0 in /usr/local/lib/python3.10/dist-packages (from datasets) (2023.6.0)\n",
            "Requirement already satisfied: aiohttp in /usr/local/lib/python3.10/dist-packages (from datasets) (3.9.3)\n",
            "Requirement already satisfied: huggingface-hub>=0.19.4 in /usr/local/lib/python3.10/dist-packages (from datasets) (0.20.3)\n",
            "Requirement already satisfied: packaging in /usr/local/lib/python3.10/dist-packages (from datasets) (24.0)\n",
            "Requirement already satisfied: pyyaml>=5.1 in /usr/local/lib/python3.10/dist-packages (from datasets) (6.0.1)\n",
            "Requirement already satisfied: aiosignal>=1.1.2 in /usr/local/lib/python3.10/dist-packages (from aiohttp->datasets) (1.3.1)\n",
            "Requirement already satisfied: attrs>=17.3.0 in /usr/local/lib/python3.10/dist-packages (from aiohttp->datasets) (23.2.0)\n",
            "Requirement already satisfied: frozenlist>=1.1.1 in /usr/local/lib/python3.10/dist-packages (from aiohttp->datasets) (1.4.1)\n",
            "Requirement already satisfied: multidict<7.0,>=4.5 in /usr/local/lib/python3.10/dist-packages (from aiohttp->datasets) (6.0.5)\n",
            "Requirement already satisfied: yarl<2.0,>=1.0 in /usr/local/lib/python3.10/dist-packages (from aiohttp->datasets) (1.9.4)\n",
            "Requirement already satisfied: async-timeout<5.0,>=4.0 in /usr/local/lib/python3.10/dist-packages (from aiohttp->datasets) (4.0.3)\n",
            "Requirement already satisfied: typing-extensions>=3.7.4.3 in /usr/local/lib/python3.10/dist-packages (from huggingface-hub>=0.19.4->datasets) (4.11.0)\n",
            "Requirement already satisfied: charset-normalizer<4,>=2 in /usr/local/lib/python3.10/dist-packages (from requests>=2.19.0->datasets) (3.3.2)\n",
            "Requirement already satisfied: idna<4,>=2.5 in /usr/local/lib/python3.10/dist-packages (from requests>=2.19.0->datasets) (3.6)\n",
            "Requirement already satisfied: urllib3<3,>=1.21.1 in /usr/local/lib/python3.10/dist-packages (from requests>=2.19.0->datasets) (2.0.7)\n",
            "Requirement already satisfied: certifi>=2017.4.17 in /usr/local/lib/python3.10/dist-packages (from requests>=2.19.0->datasets) (2024.2.2)\n",
            "Requirement already satisfied: python-dateutil>=2.8.2 in /usr/local/lib/python3.10/dist-packages (from pandas->datasets) (2.8.2)\n",
            "Requirement already satisfied: pytz>=2020.1 in /usr/local/lib/python3.10/dist-packages (from pandas->datasets) (2023.4)\n",
            "Requirement already satisfied: tzdata>=2022.1 in /usr/local/lib/python3.10/dist-packages (from pandas->datasets) (2024.1)\n",
            "Requirement already satisfied: six>=1.5 in /usr/local/lib/python3.10/dist-packages (from python-dateutil>=2.8.2->pandas->datasets) (1.16.0)\n",
            "Installing collected packages: xxhash, dill, multiprocess, datasets\n",
            "Successfully installed datasets-2.18.0 dill-0.3.8 multiprocess-0.70.16 xxhash-3.4.1\n"
          ]
        }
      ]
    },
    {
      "cell_type": "code",
      "source": [
        "!pip install accelerate==0.24.1"
      ],
      "metadata": {
        "colab": {
          "base_uri": "https://localhost:8080/"
        },
        "id": "VPoo43iigfQb",
        "outputId": "5f0f2206-4a2e-4120-f316-e06c17a6bc8b"
      },
      "id": "VPoo43iigfQb",
      "execution_count": 2,
      "outputs": [
        {
          "output_type": "stream",
          "name": "stdout",
          "text": [
            "Requirement already satisfied: accelerate==0.24.1 in /usr/local/lib/python3.10/dist-packages (0.24.1)\n",
            "Requirement already satisfied: numpy>=1.17 in /usr/local/lib/python3.10/dist-packages (from accelerate==0.24.1) (1.25.2)\n",
            "Requirement already satisfied: packaging>=20.0 in /usr/local/lib/python3.10/dist-packages (from accelerate==0.24.1) (23.2)\n",
            "Requirement already satisfied: psutil in /usr/local/lib/python3.10/dist-packages (from accelerate==0.24.1) (5.9.5)\n",
            "Requirement already satisfied: pyyaml in /usr/local/lib/python3.10/dist-packages (from accelerate==0.24.1) (6.0.1)\n",
            "Requirement already satisfied: torch>=1.10.0 in /usr/local/lib/python3.10/dist-packages (from accelerate==0.24.1) (2.2.1+cu121)\n",
            "Requirement already satisfied: huggingface-hub in /usr/local/lib/python3.10/dist-packages (from accelerate==0.24.1) (0.20.3)\n",
            "Requirement already satisfied: filelock in /usr/local/lib/python3.10/dist-packages (from torch>=1.10.0->accelerate==0.24.1) (3.13.4)\n",
            "Requirement already satisfied: typing-extensions>=4.8.0 in /usr/local/lib/python3.10/dist-packages (from torch>=1.10.0->accelerate==0.24.1) (4.11.0)\n",
            "Requirement already satisfied: sympy in /usr/local/lib/python3.10/dist-packages (from torch>=1.10.0->accelerate==0.24.1) (1.12)\n",
            "Requirement already satisfied: networkx in /usr/local/lib/python3.10/dist-packages (from torch>=1.10.0->accelerate==0.24.1) (3.3)\n",
            "Requirement already satisfied: jinja2 in /usr/local/lib/python3.10/dist-packages (from torch>=1.10.0->accelerate==0.24.1) (3.1.3)\n",
            "Requirement already satisfied: fsspec in /usr/local/lib/python3.10/dist-packages (from torch>=1.10.0->accelerate==0.24.1) (2023.6.0)\n",
            "Requirement already satisfied: nvidia-cuda-nvrtc-cu12==12.1.105 in /usr/local/lib/python3.10/dist-packages (from torch>=1.10.0->accelerate==0.24.1) (12.1.105)\n",
            "Requirement already satisfied: nvidia-cuda-runtime-cu12==12.1.105 in /usr/local/lib/python3.10/dist-packages (from torch>=1.10.0->accelerate==0.24.1) (12.1.105)\n",
            "Requirement already satisfied: nvidia-cuda-cupti-cu12==12.1.105 in /usr/local/lib/python3.10/dist-packages (from torch>=1.10.0->accelerate==0.24.1) (12.1.105)\n",
            "Requirement already satisfied: nvidia-cudnn-cu12==8.9.2.26 in /usr/local/lib/python3.10/dist-packages (from torch>=1.10.0->accelerate==0.24.1) (8.9.2.26)\n",
            "Requirement already satisfied: nvidia-cublas-cu12==12.1.3.1 in /usr/local/lib/python3.10/dist-packages (from torch>=1.10.0->accelerate==0.24.1) (12.1.3.1)\n",
            "Requirement already satisfied: nvidia-cufft-cu12==11.0.2.54 in /usr/local/lib/python3.10/dist-packages (from torch>=1.10.0->accelerate==0.24.1) (11.0.2.54)\n",
            "Requirement already satisfied: nvidia-curand-cu12==10.3.2.106 in /usr/local/lib/python3.10/dist-packages (from torch>=1.10.0->accelerate==0.24.1) (10.3.2.106)\n",
            "Requirement already satisfied: nvidia-cusolver-cu12==11.4.5.107 in /usr/local/lib/python3.10/dist-packages (from torch>=1.10.0->accelerate==0.24.1) (11.4.5.107)\n",
            "Requirement already satisfied: nvidia-cusparse-cu12==12.1.0.106 in /usr/local/lib/python3.10/dist-packages (from torch>=1.10.0->accelerate==0.24.1) (12.1.0.106)\n",
            "Requirement already satisfied: nvidia-nccl-cu12==2.19.3 in /usr/local/lib/python3.10/dist-packages (from torch>=1.10.0->accelerate==0.24.1) (2.19.3)\n",
            "Requirement already satisfied: nvidia-nvtx-cu12==12.1.105 in /usr/local/lib/python3.10/dist-packages (from torch>=1.10.0->accelerate==0.24.1) (12.1.105)\n",
            "Requirement already satisfied: triton==2.2.0 in /usr/local/lib/python3.10/dist-packages (from torch>=1.10.0->accelerate==0.24.1) (2.2.0)\n",
            "Requirement already satisfied: nvidia-nvjitlink-cu12 in /usr/local/lib/python3.10/dist-packages (from nvidia-cusolver-cu12==11.4.5.107->torch>=1.10.0->accelerate==0.24.1) (12.4.127)\n",
            "Requirement already satisfied: requests in /usr/local/lib/python3.10/dist-packages (from huggingface-hub->accelerate==0.24.1) (2.31.0)\n",
            "Requirement already satisfied: tqdm>=4.42.1 in /usr/local/lib/python3.10/dist-packages (from huggingface-hub->accelerate==0.24.1) (4.66.2)\n",
            "Requirement already satisfied: MarkupSafe>=2.0 in /usr/local/lib/python3.10/dist-packages (from jinja2->torch>=1.10.0->accelerate==0.24.1) (2.1.5)\n",
            "Requirement already satisfied: charset-normalizer<4,>=2 in /usr/local/lib/python3.10/dist-packages (from requests->huggingface-hub->accelerate==0.24.1) (3.3.2)\n",
            "Requirement already satisfied: idna<4,>=2.5 in /usr/local/lib/python3.10/dist-packages (from requests->huggingface-hub->accelerate==0.24.1) (3.6)\n",
            "Requirement already satisfied: urllib3<3,>=1.21.1 in /usr/local/lib/python3.10/dist-packages (from requests->huggingface-hub->accelerate==0.24.1) (2.0.7)\n",
            "Requirement already satisfied: certifi>=2017.4.17 in /usr/local/lib/python3.10/dist-packages (from requests->huggingface-hub->accelerate==0.24.1) (2024.2.2)\n",
            "Requirement already satisfied: mpmath>=0.19 in /usr/local/lib/python3.10/dist-packages (from sympy->torch>=1.10.0->accelerate==0.24.1) (1.3.0)\n"
          ]
        }
      ]
    },
    {
      "cell_type": "code",
      "source": [
        "!pip install einops transformers_stream_generator"
      ],
      "metadata": {
        "colab": {
          "base_uri": "https://localhost:8080/"
        },
        "id": "jYuXcZ-Kdc9x",
        "outputId": "44114df5-6748-4475-d403-154ca527bf73"
      },
      "id": "jYuXcZ-Kdc9x",
      "execution_count": 8,
      "outputs": [
        {
          "output_type": "stream",
          "name": "stdout",
          "text": [
            "Collecting einops\n",
            "  Downloading einops-0.7.0-py3-none-any.whl (44 kB)\n",
            "\u001b[2K     \u001b[90m━━━━━━━━━━━━━━━━━━━━━━━━━━━━━━━━━━━━━━━━\u001b[0m \u001b[32m44.6/44.6 kB\u001b[0m \u001b[31m1.9 MB/s\u001b[0m eta \u001b[36m0:00:00\u001b[0m\n",
            "\u001b[?25hCollecting transformers_stream_generator\n",
            "  Downloading transformers-stream-generator-0.0.5.tar.gz (13 kB)\n",
            "  Preparing metadata (setup.py) ... \u001b[?25l\u001b[?25hdone\n",
            "Requirement already satisfied: transformers>=4.26.1 in /usr/local/lib/python3.10/dist-packages (from transformers_stream_generator) (4.38.2)\n",
            "Requirement already satisfied: filelock in /usr/local/lib/python3.10/dist-packages (from transformers>=4.26.1->transformers_stream_generator) (3.13.4)\n",
            "Requirement already satisfied: huggingface-hub<1.0,>=0.19.3 in /usr/local/lib/python3.10/dist-packages (from transformers>=4.26.1->transformers_stream_generator) (0.20.3)\n",
            "Requirement already satisfied: numpy>=1.17 in /usr/local/lib/python3.10/dist-packages (from transformers>=4.26.1->transformers_stream_generator) (1.25.2)\n",
            "Requirement already satisfied: packaging>=20.0 in /usr/local/lib/python3.10/dist-packages (from transformers>=4.26.1->transformers_stream_generator) (24.0)\n",
            "Requirement already satisfied: pyyaml>=5.1 in /usr/local/lib/python3.10/dist-packages (from transformers>=4.26.1->transformers_stream_generator) (6.0.1)\n",
            "Requirement already satisfied: regex!=2019.12.17 in /usr/local/lib/python3.10/dist-packages (from transformers>=4.26.1->transformers_stream_generator) (2023.12.25)\n",
            "Requirement already satisfied: requests in /usr/local/lib/python3.10/dist-packages (from transformers>=4.26.1->transformers_stream_generator) (2.31.0)\n",
            "Requirement already satisfied: tokenizers<0.19,>=0.14 in /usr/local/lib/python3.10/dist-packages (from transformers>=4.26.1->transformers_stream_generator) (0.15.2)\n",
            "Requirement already satisfied: safetensors>=0.4.1 in /usr/local/lib/python3.10/dist-packages (from transformers>=4.26.1->transformers_stream_generator) (0.4.2)\n",
            "Requirement already satisfied: tqdm>=4.27 in /usr/local/lib/python3.10/dist-packages (from transformers>=4.26.1->transformers_stream_generator) (4.66.2)\n",
            "Requirement already satisfied: fsspec>=2023.5.0 in /usr/local/lib/python3.10/dist-packages (from huggingface-hub<1.0,>=0.19.3->transformers>=4.26.1->transformers_stream_generator) (2023.6.0)\n",
            "Requirement already satisfied: typing-extensions>=3.7.4.3 in /usr/local/lib/python3.10/dist-packages (from huggingface-hub<1.0,>=0.19.3->transformers>=4.26.1->transformers_stream_generator) (4.11.0)\n",
            "Requirement already satisfied: charset-normalizer<4,>=2 in /usr/local/lib/python3.10/dist-packages (from requests->transformers>=4.26.1->transformers_stream_generator) (3.3.2)\n",
            "Requirement already satisfied: idna<4,>=2.5 in /usr/local/lib/python3.10/dist-packages (from requests->transformers>=4.26.1->transformers_stream_generator) (3.6)\n",
            "Requirement already satisfied: urllib3<3,>=1.21.1 in /usr/local/lib/python3.10/dist-packages (from requests->transformers>=4.26.1->transformers_stream_generator) (2.0.7)\n",
            "Requirement already satisfied: certifi>=2017.4.17 in /usr/local/lib/python3.10/dist-packages (from requests->transformers>=4.26.1->transformers_stream_generator) (2024.2.2)\n",
            "Building wheels for collected packages: transformers_stream_generator\n",
            "  Building wheel for transformers_stream_generator (setup.py) ... \u001b[?25l\u001b[?25hdone\n",
            "  Created wheel for transformers_stream_generator: filename=transformers_stream_generator-0.0.5-py3-none-any.whl size=12425 sha256=816235b188657d29d5a08d666ac4b2888b1c5005d90ff975dff4942743da7112\n",
            "  Stored in directory: /root/.cache/pip/wheels/95/4a/90/140f7b67d125906f6a165f38aad212ecb4a695ad0d87582437\n",
            "Successfully built transformers_stream_generator\n",
            "Installing collected packages: einops, transformers_stream_generator\n",
            "Successfully installed einops-0.7.0 transformers_stream_generator-0.0.5\n"
          ]
        }
      ]
    },
    {
      "cell_type": "code",
      "source": [
        "!pip install transformers==4.30.0"
      ],
      "metadata": {
        "colab": {
          "base_uri": "https://localhost:8080/"
        },
        "id": "Tr48V-TXhHDd",
        "outputId": "54d93e88-aa98-49f7-ea6f-c23aa7287c0b"
      },
      "id": "Tr48V-TXhHDd",
      "execution_count": 1,
      "outputs": [
        {
          "output_type": "stream",
          "name": "stdout",
          "text": [
            "Requirement already satisfied: transformers==4.30.0 in /usr/local/lib/python3.10/dist-packages (4.30.0)\n",
            "Requirement already satisfied: filelock in /usr/local/lib/python3.10/dist-packages (from transformers==4.30.0) (3.13.4)\n",
            "Requirement already satisfied: huggingface-hub<1.0,>=0.14.1 in /usr/local/lib/python3.10/dist-packages (from transformers==4.30.0) (0.20.3)\n",
            "Requirement already satisfied: numpy>=1.17 in /usr/local/lib/python3.10/dist-packages (from transformers==4.30.0) (1.25.2)\n",
            "Requirement already satisfied: packaging>=20.0 in /usr/local/lib/python3.10/dist-packages (from transformers==4.30.0) (23.2)\n",
            "Requirement already satisfied: pyyaml>=5.1 in /usr/local/lib/python3.10/dist-packages (from transformers==4.30.0) (6.0.1)\n",
            "Requirement already satisfied: regex!=2019.12.17 in /usr/local/lib/python3.10/dist-packages (from transformers==4.30.0) (2023.12.25)\n",
            "Requirement already satisfied: requests in /usr/local/lib/python3.10/dist-packages (from transformers==4.30.0) (2.31.0)\n",
            "Requirement already satisfied: tokenizers!=0.11.3,<0.14,>=0.11.1 in /usr/local/lib/python3.10/dist-packages (from transformers==4.30.0) (0.13.3)\n",
            "Requirement already satisfied: safetensors>=0.3.1 in /usr/local/lib/python3.10/dist-packages (from transformers==4.30.0) (0.4.2)\n",
            "Requirement already satisfied: tqdm>=4.27 in /usr/local/lib/python3.10/dist-packages (from transformers==4.30.0) (4.66.2)\n",
            "Requirement already satisfied: fsspec>=2023.5.0 in /usr/local/lib/python3.10/dist-packages (from huggingface-hub<1.0,>=0.14.1->transformers==4.30.0) (2023.6.0)\n",
            "Requirement already satisfied: typing-extensions>=3.7.4.3 in /usr/local/lib/python3.10/dist-packages (from huggingface-hub<1.0,>=0.14.1->transformers==4.30.0) (4.11.0)\n",
            "Requirement already satisfied: charset-normalizer<4,>=2 in /usr/local/lib/python3.10/dist-packages (from requests->transformers==4.30.0) (3.3.2)\n",
            "Requirement already satisfied: idna<4,>=2.5 in /usr/local/lib/python3.10/dist-packages (from requests->transformers==4.30.0) (3.6)\n",
            "Requirement already satisfied: urllib3<3,>=1.21.1 in /usr/local/lib/python3.10/dist-packages (from requests->transformers==4.30.0) (2.0.7)\n",
            "Requirement already satisfied: certifi>=2017.4.17 in /usr/local/lib/python3.10/dist-packages (from requests->transformers==4.30.0) (2024.2.2)\n"
          ]
        }
      ]
    },
    {
      "cell_type": "code",
      "execution_count": 5,
      "id": "e200470d-5cec-44fd-a733-b26b7ff43a63",
      "metadata": {
        "colab": {
          "base_uri": "https://localhost:8080/",
          "height": 529,
          "referenced_widgets": [
            "fb574e351db2406894905e291e0e1a8c",
            "e159b6f5a0b24fc38da3e6519af32aa3",
            "b12d478f327848b7a87ccfb49bc4b7ab",
            "7c3618abaa6946fa8b35c9b5084e11fd",
            "43a6785ccc134b55859aafb39f1e7e50",
            "29bcd33bc4054c78ba0a30d8b403d359",
            "bdbd998dede84e20bdcf953ed578a74e",
            "3631648568ca45c981a1ed56b66d2360",
            "2fe8e6e93b21448e8c9ebc7204db5a62",
            "0c521a768eb54b6f863ee182f65e19a8",
            "95f5603896bd4530a79a7e6943ac35be",
            "5ce2a6185b1f4b35aa3fd3ca04218797",
            "dd003288fffe4172888e3f25f5e18608",
            "326dfdd7a73f450db43a2acef2bad4c4",
            "4acdcf6674f94e3492ae8c5617b981a4",
            "43081c45c57f40548071e21dc93fdc11",
            "9c765c21df364b348845d50181cc9aec",
            "feaee5d3826f41b9b558278976b9d58c",
            "0f0323d1ed5c436988abdeb46f8dff2b",
            "15ae15c8266843859e49f89e99505c24",
            "59f4bb9e4e7e40efb87f4b98d4509e26",
            "6642ada50d714904838fdad7066706e6",
            "2ae11288955b4317bd794e1a995d0173",
            "e745b61056184448bdee38f338ebb5bb",
            "246dade439be4ea4ad1007e229d92fd8",
            "ab6f8d3c89484ef69254c7b8e8df73fc",
            "0803efeaa71c4883b6a0a8eeafee4b2a",
            "002e2903be8445ee8b3c0d12397723ac",
            "669a44fbf1084073a6581db4d80a6818",
            "abe0dac17d5345558bdde405d48a94be",
            "18aae1bde24248a58cbbc8a28a762e53",
            "07910febae4043c8964730ff9448bd5e",
            "cc60ff2fe84c436abbdc28cee00d2e4c",
            "e42405ac9ef44bc3b116c7fd83e4386d",
            "83899c4091284ca4876955a3482c7f08",
            "110886bc30764c85bcb0f5744d5d2d4a",
            "4be52ce01a8d4f3d86932b77b1d886ef",
            "c7cd932cf0c446ada37959f6704a32fd",
            "0c24356c5c694e2199c6691191dc1ab8",
            "307245831ed94fa58d9e64b90d841796",
            "d9a96adde1d441349049a5f8c9729654",
            "48cb36548ae544a7980bd3c66d49f261",
            "e031eb11ad414ef8a5f139d6c481b7af",
            "b8e0326f63764be2bef55b80b1ec1024",
            "7916f23dbab14fc0ac6f1e44e1afd43c",
            "a0ee8d8a12974d36b2ab1176414f0187",
            "c4b2c87162314a78b91dddc6ddb489df",
            "e5d26022ebb147d58b7e4db37322560b",
            "2455f4d320824ac790e96b0e88de354c",
            "a8af4c750c9449a5be97db5ac0c31635",
            "e071bf2b20e14d45bbca8af8cfc7eb30",
            "cb18584850534486886affe71196f068",
            "e3008cbe9b504a0cbdc7b63b83c95cee",
            "2422ae24f43b4217b0d16afc01b92186",
            "56185f82a35844428dd23b21409e9db1",
            "7226c2072c8140acb44dccdd637b1265",
            "bca79900b816476a8102e1916fb0abf5",
            "253a83e53d734660be8469b656d22f3a",
            "d543c1c9eaca40349e2ebea2b8ff49e3",
            "47e9c7fa8dcf4571ac9f82ef957b47ff",
            "daceb9fae75443d0a0f1b11820b5fdb2",
            "db89bf357a4b41f694df148a0011ebad",
            "7cb0509323cf4a83bc6f20cb17fa608d",
            "e965ca760c7741c29bcf332e7e3dd2bb",
            "7b3b3fc3006740a6b41b793f2fd59464",
            "f5afb76e56cc4c55a6c84cf5d428231e",
            "371e36220d36492a98db9ba91572ba59",
            "d9b1fac906854a26ad50987160352398",
            "16419f2d3cb1455c882b7e7274820956",
            "6f1b713ace3d4b2cbde37822f07cda88",
            "30d39ff2ac4e4110a26f59d92dccadbc",
            "f941a57a98ce43c2a91a2fd04cf41461",
            "95ebe47857b0432bb4dab50cfa3e6dc9",
            "99843dcf819c43bf96d93048a9e8cf77",
            "12946f5679e444a1ab2762eb38f3a406",
            "990e14a0f1134b199524b15d476bc0bc",
            "0a886e47cf6a4610ab4fec18bfafb565",
            "a3777075fe55415ea9b2f1ce02e3987e",
            "27f31396333e480c9cd45adefc532a8e",
            "4a4f6ca490794f19a720eb9efa889e78",
            "7f136e8ff23849a89569d99ebd81876d",
            "2554c74d3bbb44a3b1d9704dd14f911c",
            "c90e9308a22e4c5ab6610f17016c5b3a",
            "10ca96c722624f4698c926a638568d97",
            "855f1bb03406499d869dad96957e09e7",
            "2959b73d8437421ebe6e0cea08876641",
            "d38c1fbddb3e4f10b55aa51479330a23",
            "120b896c8bc14246ba5e9ddfc0e6a638",
            "27ad3c3b484448db968914472a397571",
            "a5ffd10e7e04428fb6a7a6fccfb11c6c",
            "c1b46bf531594cacbcaa477faeb99ae8",
            "044ec149460b4dfea77eb801f59614fa",
            "6116945af44a4ee8b11f27aba36ba13c",
            "8a0e73b612a34590a644891885aeb22e",
            "c4b2fb04119940a39bdb87e3f33aafdb",
            "50ee9423fc7b455ebea2556a6f301465",
            "647d27b4f55c461eb0278c4587390390",
            "b43a0fe942764c10b655b2defac52a53",
            "7b1f4ef04d744d0d888ac63149555a41",
            "f3632d45380d431c8f97d5f80ab08a86",
            "683d6e8e8c134a879b0789b8f1c8f06d",
            "ddfe5868f1604f7a98c67410fe2578f8",
            "46a9a1d9b9984f9486a9bbb9a8e84113",
            "c7c9ef69515e44aba5b0cc6dbc4655f2",
            "c18710753222497bb157a0abcbfa4141",
            "a0acef6072694bc69af2900d0f9ee85b",
            "a1499d56b80f47f7b5a45c4449ee1734",
            "e69304470a3143528357db1febc98643",
            "f78b0ad1edf044df89492eaf18e601f6",
            "a75df64116854e1583fc207c52408b6a",
            "7e14818d87164ea680dd4bf0da9d20d6",
            "084a90115590495696d5bc57839ec65b",
            "f30f08ee8a0d4c07b3bbe8a8e6119e82",
            "843bc4cb24ae4276b4b421ae3a59d102",
            "b1a551c25e924749b13181808c7cb45b",
            "d4be2e0267804b8bb3f908035e8f3754",
            "47658564d87a4efb98d6f0cb0b7208dd",
            "e214cebe262b433fbaf167808d810cdd",
            "16040cdb53184cd88b9829297a74d0bd",
            "795b42ec72ec4aa0b4638c4643d5631b",
            "0e0d06e018f2482085b4c21b19686110",
            "7f32eb1a89824dab9efcd5822dbf78cc",
            "7095dc7f39b54704b39a5f4106173833",
            "f9271f213c8f4fa8b39f9e896a736432",
            "4a5f4d1276344afea1b33f4426cfad4f",
            "caffb24243c7451da7a48b4db7e0799c",
            "d04f75896ce7488f9f5a4121c8b5f438",
            "0243bc5c690e4a40be768cf42d30d40b",
            "38676e325f1f48f590d52d39833f2e59",
            "27d17b424c4241e7a4088326f05e17ed",
            "e80bd8b9c205486a88b6c509a4be25a4",
            "88ec7c85ea774207a28d667c744ec581"
          ]
        },
        "id": "e200470d-5cec-44fd-a733-b26b7ff43a63",
        "outputId": "68506494-4edd-4fea-e1b8-49cc93c78e58"
      },
      "outputs": [
        {
          "output_type": "stream",
          "name": "stderr",
          "text": [
            "`low_cpu_mem_usage` was None, now set to True since model is quantized.\n"
          ]
        },
        {
          "output_type": "display_data",
          "data": {
            "text/plain": [
              "model.safetensors.index.json:   0%|          | 0.00/19.5k [00:00<?, ?B/s]"
            ],
            "application/vnd.jupyter.widget-view+json": {
              "version_major": 2,
              "version_minor": 0,
              "model_id": "fb574e351db2406894905e291e0e1a8c"
            }
          },
          "metadata": {}
        },
        {
          "output_type": "display_data",
          "data": {
            "text/plain": [
              "Downloading shards:   0%|          | 0/8 [00:00<?, ?it/s]"
            ],
            "application/vnd.jupyter.widget-view+json": {
              "version_major": 2,
              "version_minor": 0,
              "model_id": "5ce2a6185b1f4b35aa3fd3ca04218797"
            }
          },
          "metadata": {}
        },
        {
          "output_type": "display_data",
          "data": {
            "text/plain": [
              "model-00001-of-00008.safetensors:   0%|          | 0.00/1.96G [00:00<?, ?B/s]"
            ],
            "application/vnd.jupyter.widget-view+json": {
              "version_major": 2,
              "version_minor": 0,
              "model_id": "2ae11288955b4317bd794e1a995d0173"
            }
          },
          "metadata": {}
        },
        {
          "output_type": "display_data",
          "data": {
            "text/plain": [
              "model-00002-of-00008.safetensors:   0%|          | 0.00/2.02G [00:00<?, ?B/s]"
            ],
            "application/vnd.jupyter.widget-view+json": {
              "version_major": 2,
              "version_minor": 0,
              "model_id": "e42405ac9ef44bc3b116c7fd83e4386d"
            }
          },
          "metadata": {}
        },
        {
          "output_type": "display_data",
          "data": {
            "text/plain": [
              "model-00003-of-00008.safetensors:   0%|          | 0.00/2.02G [00:00<?, ?B/s]"
            ],
            "application/vnd.jupyter.widget-view+json": {
              "version_major": 2,
              "version_minor": 0,
              "model_id": "7916f23dbab14fc0ac6f1e44e1afd43c"
            }
          },
          "metadata": {}
        },
        {
          "output_type": "display_data",
          "data": {
            "text/plain": [
              "model-00004-of-00008.safetensors:   0%|          | 0.00/2.02G [00:00<?, ?B/s]"
            ],
            "application/vnd.jupyter.widget-view+json": {
              "version_major": 2,
              "version_minor": 0,
              "model_id": "7226c2072c8140acb44dccdd637b1265"
            }
          },
          "metadata": {}
        },
        {
          "output_type": "display_data",
          "data": {
            "text/plain": [
              "model-00005-of-00008.safetensors:   0%|          | 0.00/2.02G [00:00<?, ?B/s]"
            ],
            "application/vnd.jupyter.widget-view+json": {
              "version_major": 2,
              "version_minor": 0,
              "model_id": "371e36220d36492a98db9ba91572ba59"
            }
          },
          "metadata": {}
        },
        {
          "output_type": "display_data",
          "data": {
            "text/plain": [
              "model-00006-of-00008.safetensors:   0%|          | 0.00/2.02G [00:00<?, ?B/s]"
            ],
            "application/vnd.jupyter.widget-view+json": {
              "version_major": 2,
              "version_minor": 0,
              "model_id": "a3777075fe55415ea9b2f1ce02e3987e"
            }
          },
          "metadata": {}
        },
        {
          "output_type": "display_data",
          "data": {
            "text/plain": [
              "model-00007-of-00008.safetensors:   0%|          | 0.00/2.02G [00:00<?, ?B/s]"
            ],
            "application/vnd.jupyter.widget-view+json": {
              "version_major": 2,
              "version_minor": 0,
              "model_id": "27ad3c3b484448db968914472a397571"
            }
          },
          "metadata": {}
        },
        {
          "output_type": "display_data",
          "data": {
            "text/plain": [
              "model-00008-of-00008.safetensors:   0%|          | 0.00/1.33G [00:00<?, ?B/s]"
            ],
            "application/vnd.jupyter.widget-view+json": {
              "version_major": 2,
              "version_minor": 0,
              "model_id": "f3632d45380d431c8f97d5f80ab08a86"
            }
          },
          "metadata": {}
        },
        {
          "output_type": "stream",
          "name": "stderr",
          "text": [
            "WARNING:transformers_modules.Qwen.Qwen-7b-Chat.93a65d34827a3cc269b727e67004743b723e2f83.modeling_qwen:The model is automatically converting to fp16 for faster inference. If you want to disable the automatic precision, please manually add bf16/fp16/fp32=True to \"AutoModelForCausalLM.from_pretrained\".\n",
            "WARNING:transformers_modules.Qwen.Qwen-7b-Chat.93a65d34827a3cc269b727e67004743b723e2f83.modeling_qwen:Try importing flash-attention for faster inference...\n",
            "WARNING:transformers_modules.Qwen.Qwen-7b-Chat.93a65d34827a3cc269b727e67004743b723e2f83.modeling_qwen:Warning: import flash_attn rotary fail, please install FlashAttention rotary to get higher efficiency https://github.com/Dao-AILab/flash-attention/tree/main/csrc/rotary\n",
            "WARNING:transformers_modules.Qwen.Qwen-7b-Chat.93a65d34827a3cc269b727e67004743b723e2f83.modeling_qwen:Warning: import flash_attn rms_norm fail, please install FlashAttention layer_norm to get higher efficiency https://github.com/Dao-AILab/flash-attention/tree/main/csrc/layer_norm\n",
            "WARNING:transformers_modules.Qwen.Qwen-7b-Chat.93a65d34827a3cc269b727e67004743b723e2f83.modeling_qwen:Warning: import flash_attn fail, please install FlashAttention to get higher efficiency https://github.com/Dao-AILab/flash-attention\n"
          ]
        },
        {
          "output_type": "display_data",
          "data": {
            "text/plain": [
              "Loading checkpoint shards:   0%|          | 0/8 [00:00<?, ?it/s]"
            ],
            "application/vnd.jupyter.widget-view+json": {
              "version_major": 2,
              "version_minor": 0,
              "model_id": "7e14818d87164ea680dd4bf0da9d20d6"
            }
          },
          "metadata": {}
        },
        {
          "output_type": "display_data",
          "data": {
            "text/plain": [
              "generation_config.json:   0%|          | 0.00/273 [00:00<?, ?B/s]"
            ],
            "application/vnd.jupyter.widget-view+json": {
              "version_major": 2,
              "version_minor": 0,
              "model_id": "7f32eb1a89824dab9efcd5822dbf78cc"
            }
          },
          "metadata": {}
        }
      ],
      "source": [
        "import torch\n",
        "from transformers import AutoTokenizer, AutoModelForCausalLM,AutoConfig, AutoModel, BitsAndBytesConfig\n",
        "from transformers.generation.utils import GenerationConfig\n",
        "import torch.nn as nn\n",
        "\n",
        "\n",
        "#使用QLoRA引入的 NF4量化数据类型以节约显存\n",
        "model_name_or_path ='Qwen/Qwen-7b-Chat'  #远程：'Qwen/Qwen-7b-Chat'\n",
        "\n",
        "bnb_config=BitsAndBytesConfig(\n",
        "            load_in_4bit=True,\n",
        "            bnb_4bit_compute_dtype=torch.float16,\n",
        "            bnb_4bit_use_double_quant=True,\n",
        "            bnb_4bit_quant_type=\"nf4\",\n",
        "            llm_int8_threshold=6.0,\n",
        "            llm_int8_has_fp16_weight=False,\n",
        "        )\n",
        "\n",
        "tokenizer = AutoTokenizer.from_pretrained(model_name_or_path, trust_remote_code=True)\n",
        "\n",
        "model = AutoModelForCausalLM.from_pretrained(model_name_or_path,\n",
        "                quantization_config=bnb_config,\n",
        "                trust_remote_code=True)\n",
        "\n",
        "model.generation_config = GenerationConfig.from_pretrained(model_name_or_path)\n"
      ]
    },
    {
      "cell_type": "code",
      "execution_count": 6,
      "id": "a1f3aa31-1428-41bd-bcdb-271fbe394b7b",
      "metadata": {
        "colab": {
          "base_uri": "https://localhost:8080/"
        },
        "id": "a1f3aa31-1428-41bd-bcdb-271fbe394b7b",
        "outputId": "0bef5bf6-22ed-40c3-febf-70cb1d19840e"
      },
      "outputs": [
        {
          "output_type": "stream",
          "name": "stderr",
          "text": [
            "register magic %%chat sucessed ...\n"
          ]
        }
      ],
      "source": [
        "from torchkeras.chat import ChatLLM\n",
        "llm = ChatLLM(model, tokenizer)"
      ]
    },
    {
      "cell_type": "code",
      "execution_count": 7,
      "id": "817ef8eb-cac0-472e-a136-d7497b8003bd",
      "metadata": {
        "colab": {
          "base_uri": "https://localhost:8080/",
          "height": 35
        },
        "id": "817ef8eb-cac0-472e-a136-d7497b8003bd",
        "outputId": "cda4a318-fd26-4060-cde6-1a296594b28b"
      },
      "outputs": [
        {
          "output_type": "execute_result",
          "data": {
            "text/plain": [
              "'世界上第二高的山峰是乔戈里峰，位于喜马拉雅山脉中，海拔8611米。'"
            ],
            "application/vnd.google.colaboratory.intrinsic+json": {
              "type": "string"
            }
          },
          "metadata": {},
          "execution_count": 7
        }
      ],
      "source": [
        "llm.chat(messages=llm.build_messages(query='世界的尽头是哪里？'))"
      ]
    },
    {
      "cell_type": "markdown",
      "id": "09be19b6-615f-4488-bd27-6dc08a015105",
      "metadata": {
        "id": "09be19b6-615f-4488-bd27-6dc08a015105"
      },
      "source": [
        "## 二，准备数据"
      ]
    },
    {
      "cell_type": "markdown",
      "id": "979615d5-8490-42ed-92b4-d54f5b651935",
      "metadata": {
        "id": "979615d5-8490-42ed-92b4-d54f5b651935"
      },
      "source": [
        "下面我设计了一个改变LLM自我认知的玩具数据集，这个数据集有三轮对话。\n",
        "\n",
        "第一轮问题是 who are you?\n",
        "\n",
        "第二轮问题是 where are you from?\n",
        "\n",
        "第三轮问题是  what can you do?\n",
        "\n",
        "差不多是哲学三问吧：你是谁？你从哪里来？你要到哪里去?\n",
        "\n",
        "通过这三个问题，我们希望初步地改变 大模型的自我认知。\n",
        "\n",
        "在提问的方式上，我们稍微作了一些数据增强。\n",
        "\n",
        "所以，总共是有 27个样本。"
      ]
    },
    {
      "cell_type": "markdown",
      "id": "545cbf93-0a43-42e4-affb-27fd2d5d5324",
      "metadata": {
        "id": "545cbf93-0a43-42e4-affb-27fd2d5d5324"
      },
      "source": [
        "### 1，导入样本"
      ]
    },
    {
      "cell_type": "code",
      "execution_count": 73,
      "id": "ebb00f3b-8304-445f-838c-d53a3c674e23",
      "metadata": {
        "id": "ebb00f3b-8304-445f-838c-d53a3c674e23"
      },
      "outputs": [],
      "source": [
        "# format_system=StringFormatter(slots=[\"<|im_start|>system\\n{{content}}<|im_end|>\\n\"]),\n",
        "# format_user=StringFormatter(slots=[\"<|im_start|>user\\n{{content}}<|im_end|>\\n<|im_start|>assistant\\n\"]),\n",
        "\n",
        "summary_prompt = \"\"\"### Instruction ###\n",
        "请简洁精炼地总结如下文通信商客服与客户对话的摘要\n",
        "要求：1、必须保证准确流畅\n",
        "   2、必须避免篡改和追加对话中没有的信息\n",
        "   3、必须将字数限制在200字以内\n",
        "\n",
        "### Input ###\n",
        "对话:\"{dialogs}\"\n",
        "\n",
        "### Output ###\n",
        "摘要：\n",
        "\"\"\"\n",
        "\n",
        "def getInputInstruction(dialogs, maxlen=7500):\n",
        "  return summary_prompt.format(dialogs=dialogs[:maxlen])\n",
        "\n",
        "dialogs = \"\"\"【坐席】您好，实习话务员为您，【客户】服务，喂，你好，是这样的，我那个我的电话因为上次突然把给我停机了，我不知道啥意思，然后我就好长时间没有使用，我这次拿着10，怎么我欠费160多了？噢，我想问一下，我这机器现在是在停机状态吧，【坐席】嗯，对是的？【客户】对停机状态，你们怎么还收我费用啊，【坐席】嗯，您稍等这边看的话，先生，咱们这12月份的话是没有收您的费用的，这边是这个产生的费用是您11月份的女士先生，【客户】那我11月份我现在-160，那我想问一下，那我这个怎么能-160？我始终没超一个星期，他就你们就给我停机了，因为那我忙着在外地出差，我就没有，我就没有那个办这个找你们，【坐席】嗯，先生这边看的话，先生，您是一个就是11月份的话，有一个是，嗯，基本套餐费是88块钱，还有您上个月未结清的话费是76块钱，【客户】但是我刚才你们给我反馈那个是我欠160多，【坐席】嗯，对是的先生，就是您这160多，嗯，160多是产生的，是11月份的结转11月份的，总消费是88，还有您10月还有一个是10月份未结清的话，是76块钱？【客户】我没有结清的，我就想问你，你帮我查一下，我打几天电话，我哪来的那个？还有那么多没结清呢，我就不明白，我一个包月电话我都没有打出去多少电话，我这流我这是4000分钟，是两三千分钟啊，那那么多话费我根本都没有打几个，他怎么就我又欠那么多钱呢【坐席】嗯，先生，您这个是阿里大包，嗯，就是三角大大宝卡吗？先生每个月基本月租费是88块钱的，里面是给您包含500分钟通话工作，工作员是二百两千五百分钟，相当于3000分钟吗？先生，还有两个G的流量，【客户】对呀，【坐席】嗯，它这个是如果您，嗯没有超出的话，每个月是收您88块钱的先生，【客户】对呀，那我也没有超出啊，你怎么还有我查，我这还欠那么多费呢【坐席】这嗯，就每个月正常扣您的套餐费用，先生88块钱套餐费用，先生这个是，【客户】对，但是我这个你看一下，你看看你从我开始，我注册这号到停机，您看看我使这几天你你对你们，你查一下看我使了几天，我怎么的就是有这个还有欠费呢，我这还没，我还说实在我找你们，我这使那几天，我那88块钱你们都给我退我，【坐席】嗯这边看的话是在9月份给您给您停的机先生，【客户】对啊，9月份我是9月几号开通的这个卡呀【坐席】嗯，您这是9月1号给您开通的卡先生，【客户】对9月份9月1号开通卡，应该没超过，9月10号，你就把我这个停了应该，【坐席】嗯是的先生，【客户】对呀，那你说那那您您觉得我这个怎么弄，你，你说我该怎么弄？您觉得你们问问你们公司领导，我这个怎么能查算合理呀【坐席】嗯，您看这样好吧先生，就是您这个问题的话，咱们这边给您记录反馈一下，稍后有咱们的专员给您回电，然后到底是这个问题如何给您解决？您看这样吧，先生【客户】行你，【坐席】就联系，嗯好联系电话联系您，哪个手机号码呢先生，【客户】你就联系这个就行，【坐席】嗯，这边的话不是已经是给您暂停服务了，先生这边就怕咱们联系您的话，也是无法无法接听电话的，先生无法打通的，【客户】他给我打那个185，185，1951【坐席】********，嗯，就联系您这个号码了，先生，【客户】4089对【坐席】嗯，您看还有什么问题可以帮您的吗？先生，【客户】没有了，你再给我把这给我解决一下吧，好吧，【坐席】嗯，好，嗯，好的先生，【客户】嗯【坐席】感谢您的来电，请您稍后对服务评价中帮我按个十分满意，谢谢|用户来电反映手机号卡收费问题，用户称现在怎么欠费167.65，我方经查询用户有10月欠费76和11月欠费88，用户称********此号卡是在9月1号开通的，没用几天就别关停服务了(局方停机），我都没有怎么使用，怎么还扣取我的费用，我某某人常解释，用户对超出的费用不认可，请核实处理，谢谢\"\"\"\n",
        "abstract = \"\"\"客户询问为何其电话在停机状态下仍产生160多元欠费。客服解释160多元欠费来源于11月的基本套餐费88元和10月未结清的话费76元。客户对此不解，称自己拥有大量未使用的通话分钟和流量，并未超出套餐。客户怀疑开通服务至停机期间的费用问题，提到服务在9月初开通后不久就被停机。客服建议记录此问题并反馈给专员，后续会有专人回电解决，并询问了联系方式。客户提供了联系电话，并希望问题能被妥善处理。客服确认并将结束通话，提醒客户进行服务评价时给予满分。\"\"\"\n",
        "conversation = [{\"instruction\": getInputInstruction(dialogs), \"response\": abstract}]"
      ]
    },
    {
      "cell_type": "code",
      "execution_count": 60,
      "id": "39866c0d-ef45-4fbe-95b1-2742c60e7c2b",
      "metadata": {
        "id": "39866c0d-ef45-4fbe-95b1-2742c60e7c2b"
      },
      "outputs": [],
      "source": [
        "import random\n",
        "def get_messages(conver_pair):\n",
        "  message_pair = [{\"role\": \"user\", \"content\": conver_pair[\"instruction\"]},\n",
        "      {\"role\": \"assistant\", \"content\": conver_pair[\"response\"]}]\n",
        "  return message_pair"
      ]
    },
    {
      "cell_type": "code",
      "execution_count": 61,
      "id": "a857eac7-ca55-4143-9028-6f616edcc8c6",
      "metadata": {
        "colab": {
          "base_uri": "https://localhost:8080/"
        },
        "id": "a857eac7-ca55-4143-9028-6f616edcc8c6",
        "outputId": "cf8ce28a-9e43-48f5-c67f-66ec6a0f75de"
      },
      "outputs": [
        {
          "output_type": "execute_result",
          "data": {
            "text/plain": [
              "[{'role': 'user',\n",
              "  'content': '### Instruction ###\\n请简洁精炼地总结如下文通信商客服与客户对话的摘要 \\n要求：1、必须保证准确流畅\\n   2、必须避免篡改和追加对话中没有的信息\\n   3、必须将字数限制在200字以内\\n   \\n### Input ###\\n对话:\"【坐席】您好，实习话务员为您，【客户】服务，喂，你好，是这样的，我那个我的电话因为上次突然把给我停机了，我不知道啥意思，然后我就好长时间没有使用，我这次拿着10，怎么我欠费160多了？噢，我想问一下，我这机器现在是在停机状态吧，【坐席】嗯，对是的？【客户】对停机状态，你们怎么还收我费用啊，【坐席】嗯，您稍等这边看的话，先生，咱们这12月份的话是没有收您的费用的，这边是这个产生的费用是您11月份的女士先生，【客户】那我11月份我现在-160，那我想问一下，那我这个怎么能-160？我始终没超一个星期，他就你们就给我停机了，因为那我忙着在外地出差，我就没有，我就没有那个办这个找你们，【坐席】嗯，先生这边看的话，先生，您是一个就是11月份的话，有一个是，嗯，基本套餐费是88块钱，还有您上个月未结清的话费是76块钱，【客户】但是我刚才你们给我反馈那个是我欠160多，【坐席】嗯，对是的先生，就是您这160多，嗯，160多是产生的，是11月份的结转11月份的，总消费是88，还有您10月还有一个是10月份未结清的话，是76块钱？【客户】我没有结清的，我就想问你，你帮我查一下，我打几天电话，我哪来的那个？还有那么多没结清呢，我就不明白，我一个包月电话我都没有打出去多少电话，我这流我这是4000分钟，是两三千分钟啊，那那么多话费我根本都没有打几个，他怎么就我又欠那么多钱呢【坐席】嗯，先生，您这个是阿里大包，嗯，就是三角大大宝卡吗？先生每个月基本月租费是88块钱的，里面是给您包含500分钟通话工作，工作员是二百两千五百分钟，相当于3000分钟吗？先生，还有两个G的流量，【客户】对呀，【坐席】嗯，它这个是如果您，嗯没有超出的话，每个月是收您88块钱的先生，【客户】对呀，那我也没有超出啊，你怎么还有我查，我这还欠那么多费呢【坐席】这嗯，就每个月正常扣您的套餐费用，先生88块钱套餐费用，先生这个是，【客户】对，但是我这个你看一下，你看看你从我开始，我注册这号到停机，您看看我使这几天你你对你们，你查一下看我使了几天，我怎么的就是有这个还有欠费呢，我这还没，我还说实在我找你们，我这使那几天，我那88块钱你们都给我退我，【坐席】嗯这边看的话是在9月份给您给您停的机先生，【客户】对啊，9月份我是9月几号开通的这个卡呀【坐席】嗯，您这是9月1号给您开通的卡先生，【客户】对9月份9月1号开通卡，应该没超过，9月10号，你就把我这个停了应该，【坐席】嗯是的先生，【客户】对呀，那你说那那您您觉得我这个怎么弄，你，你说我该怎么弄？您觉得你们问问你们公司领导，我这个怎么能查算合理呀【坐席】嗯，您看这样好吧先生，就是您这个问题的话，咱们这边给您记录反馈一下，稍后有咱们的专员给您回电，然后到底是这个问题如何给您解决？您看这样吧，先生【客户】行你，【坐席】就联系，嗯好联系电话联系您，哪个手机号码呢先生，【客户】你就联系这个就行，【坐席】嗯，这边的话不是已经是给您暂停服务了，先生这边就怕咱们联系您的话，也是无法无法接听电话的，先生无法打通的，【客户】他给我打那个185，185，1951【坐席】********，嗯，就联系您这个号码了，先生，【客户】4089对【坐席】嗯，您看还有什么问题可以帮您的吗？先生，【客户】没有了，你再给我把这给我解决一下吧，好吧，【坐席】嗯，好，嗯，好的先生，【客户】嗯【坐席】感谢您的来电，请您稍后对服务评价中帮我按个十分满意，谢谢|用户来电反映手机号卡收费问题，用户称现在怎么欠费167.65，我方经查询用户有10月欠费76和11月欠费88，用户称********此号卡是在9月\"\\n\\n### Output ###\\n摘要：\\n'},\n",
              " {'role': 'assistant',\n",
              "  'content': '客户询问为何其电话在停机状态下仍产生160多元欠费。客服解释160多元欠费来源于11月的基本套餐费88元和10月未结清的话费76元。客户对此不解，称自己拥有大量未使用的通话分钟和流量，并未超出套餐。客户怀疑开通服务至停机期间的费用问题，提到服务在9月初开通后不久就被停机。客服建议记录此问题并反馈给专员，后续会有专人回电解决，并询问了联系方式。客户提供了联系电话，并希望问题能被妥善处理。客服确认并将结束通话，提醒客户进行服务评价时给予满分。'}]"
            ]
          },
          "metadata": {},
          "execution_count": 61
        }
      ],
      "source": [
        "get_messages(conversation[0])"
      ]
    },
    {
      "cell_type": "code",
      "source": [
        "# 实际使用的数据集\n",
        "THRESHOLD_LEN = 7500\n",
        "used_train_df = train_df[train_df[\"conv_len\"] < THRESHOLD_LEN]\n",
        "used_train_df[\"conv_len\"].plot()"
      ],
      "metadata": {
        "colab": {
          "base_uri": "https://localhost:8080/",
          "height": 448
        },
        "id": "f12tD83iw_JJ",
        "outputId": "fe8d8e82-0cf0-4273-f3fb-1ff65b406708"
      },
      "id": "f12tD83iw_JJ",
      "execution_count": 71,
      "outputs": [
        {
          "output_type": "execute_result",
          "data": {
            "text/plain": [
              "<Axes: >"
            ]
          },
          "metadata": {},
          "execution_count": 71
        },
        {
          "output_type": "display_data",
          "data": {
            "text/plain": [
              "<Figure size 640x480 with 1 Axes>"
            ],
            "image/png": "[encoded data removed]"
          },
          "metadata": {}
        }
      ]
    },
    {
      "cell_type": "code",
      "source": [
        "used_train_df[\"conv_len\"].describe()"
      ],
      "metadata": {
        "colab": {
          "base_uri": "https://localhost:8080/"
        },
        "id": "ENDQQoT3xht5",
        "outputId": "5a4f4140-52d9-401e-b637-b87cc763071c"
      },
      "id": "ENDQQoT3xht5",
      "execution_count": 72,
      "outputs": [
        {
          "output_type": "execute_result",
          "data": {
            "text/plain": [
              "count    24492.000000\n",
              "mean      1197.319900\n",
              "std        839.758036\n",
              "min        103.000000\n",
              "25%        637.000000\n",
              "50%        969.500000\n",
              "75%       1486.000000\n",
              "max       7496.000000\n",
              "Name: conv_len, dtype: float64"
            ]
          },
          "metadata": {},
          "execution_count": 72
        }
      ]
    },
    {
      "cell_type": "code",
      "source": [
        "train_dialogs = used_train_df[\"content\"]\n",
        "train_abstracts = used_train_df[\"abstract\"]\n",
        "\n",
        "conversations = [{\"instruction\": getInputInstruction(dialogs), \"response\": abstract} for dialogs, abstract in zip(train_dialogs, train_abstracts) ]"
      ],
      "metadata": {
        "id": "R50lKUNKxf_W"
      },
      "id": "R50lKUNKxf_W",
      "execution_count": null,
      "outputs": []
    },
    {
      "cell_type": "markdown",
      "id": "6c2d9290-53a7-4ae3-a1ca-d972512c72cb",
      "metadata": {
        "id": "6c2d9290-53a7-4ae3-a1ca-d972512c72cb"
      },
      "source": [
        "### 2，做数据集"
      ]
    },
    {
      "cell_type": "code",
      "execution_count": 13,
      "id": "b9a76500-01db-4c34-b2ba-6bc1c56233d3",
      "metadata": {
        "id": "b9a76500-01db-4c34-b2ba-6bc1c56233d3"
      },
      "outputs": [],
      "source": [
        "from torch.utils.data import Dataset,DataLoader\n",
        "from copy import deepcopy\n",
        "\n",
        "class MyDataset(Dataset):\n",
        "    def __init__(self, conv, size=8):\n",
        "      self.conv = conv  # 数据集\n",
        "      self.index_list = list(range(size))\n",
        "      self.size = size\n",
        "\n",
        "    def __len__(self):\n",
        "        return self.size\n",
        "\n",
        "    def get(self,index):\n",
        "      idx = self.index_list[index]\n",
        "      messages = get_messages(self.conv[idx])\n",
        "      return messages\n",
        "\n",
        "    def __getitem__(self,index):\n",
        "      messages = self.get(index)\n",
        "      input_ids, labels = llm.build_inputs_labels(messages, multi_rounds=False) #支持多轮\n",
        "      return {'input_ids':input_ids,'labels':labels}"
      ]
    },
    {
      "cell_type": "code",
      "execution_count": 14,
      "id": "6cc385bf-0103-4720-a4bd-42744aa76f9b",
      "metadata": {
        "id": "6cc385bf-0103-4720-a4bd-42744aa76f9b"
      },
      "outputs": [],
      "source": [
        "ds_train = ds_val = MyDataset(conversation)"
      ]
    },
    {
      "cell_type": "markdown",
      "id": "bc80b2ee-7d70-41a7-8cf7-2bb5fdfff151",
      "metadata": {
        "id": "bc80b2ee-7d70-41a7-8cf7-2bb5fdfff151"
      },
      "source": [
        "### 3，创建管道"
      ]
    },
    {
      "cell_type": "code",
      "execution_count": 15,
      "id": "e43aaccc-863e-4794-8cb5-683d5a727ada",
      "metadata": {
        "id": "e43aaccc-863e-4794-8cb5-683d5a727ada"
      },
      "outputs": [],
      "source": [
        "#如果pad为None，需要处理一下\n",
        "if tokenizer.pad_token_id is None:\n",
        "    tokenizer.pad_token_id = tokenizer.unk_token_id if tokenizer.unk_token_id is not None else tokenizer.eos_token_id\n",
        "\n",
        "\n",
        "def data_collator(examples: list):\n",
        "\n",
        "    len_ids = [len(example[\"input_ids\"]) for example in examples]\n",
        "    longest = max(len_ids) #之后按照batch中最长的input_ids进行padding\n",
        "\n",
        "    input_ids = []\n",
        "    labels_list = []\n",
        "\n",
        "    for length, example in sorted(zip(len_ids, examples), key=lambda x: -x[0]):\n",
        "        ids = example[\"input_ids\"]\n",
        "        labs = example[\"labels\"]\n",
        "\n",
        "        ids = ids + [tokenizer.pad_token_id] * (longest - length)\n",
        "        labs = labs + [-100] * (longest - length)\n",
        "\n",
        "        input_ids.append(torch.LongTensor(ids))\n",
        "        labels_list.append(torch.LongTensor(labs))\n",
        "\n",
        "    input_ids = torch.stack(input_ids)\n",
        "    labels = torch.stack(labels_list)\n",
        "    return {\n",
        "        \"input_ids\": input_ids,\n",
        "        \"labels\": labels,\n",
        "    }\n"
      ]
    },
    {
      "cell_type": "code",
      "execution_count": 16,
      "id": "698aa807-e05a-42a8-b392-747982363075",
      "metadata": {
        "id": "698aa807-e05a-42a8-b392-747982363075"
      },
      "outputs": [],
      "source": [
        "import torch\n",
        "dl_train = torch.utils.data.DataLoader(ds_train,batch_size=2,\n",
        "                                       pin_memory=True,shuffle=False,\n",
        "                                       collate_fn = data_collator)\n",
        "\n",
        "dl_val = torch.utils.data.DataLoader(ds_val,batch_size=2,\n",
        "                                    pin_memory=True,shuffle=False,\n",
        "                                     collate_fn = data_collator)\n"
      ]
    },
    {
      "cell_type": "code",
      "execution_count": 17,
      "id": "db52d785-10de-4465-8fc2-9eaccaf3387d",
      "metadata": {
        "id": "db52d785-10de-4465-8fc2-9eaccaf3387d"
      },
      "outputs": [],
      "source": [
        "for batch in dl_train:\n",
        "    pass"
      ]
    },
    {
      "cell_type": "code",
      "execution_count": 18,
      "id": "35002105-b8e8-4d48-a8a2-cbd4ceaa53ce",
      "metadata": {
        "id": "35002105-b8e8-4d48-a8a2-cbd4ceaa53ce"
      },
      "outputs": [],
      "source": [
        "#试跑一个batch\n",
        "out = model(**batch)"
      ]
    },
    {
      "cell_type": "code",
      "execution_count": 19,
      "id": "c721189c-6443-4e10-b923-327a0beba2fd",
      "metadata": {
        "colab": {
          "base_uri": "https://localhost:8080/"
        },
        "id": "c721189c-6443-4e10-b923-327a0beba2fd",
        "outputId": "9388f0ca-4c31-4718-8ede-f90f67256969"
      },
      "outputs": [
        {
          "output_type": "execute_result",
          "data": {
            "text/plain": [
              "tensor(4.9062, dtype=torch.float16, grad_fn=<ToCopyBackward0>)"
            ]
          },
          "metadata": {},
          "execution_count": 19
        }
      ],
      "source": [
        "out.loss"
      ]
    },
    {
      "cell_type": "code",
      "execution_count": 20,
      "id": "7cac7d4a-a37b-4c30-8a7d-be552d8e67ca",
      "metadata": {
        "colab": {
          "base_uri": "https://localhost:8080/"
        },
        "id": "7cac7d4a-a37b-4c30-8a7d-be552d8e67ca",
        "outputId": "d46a308c-0cb7-4375-f05b-c502c05c32bf"
      },
      "outputs": [
        {
          "output_type": "execute_result",
          "data": {
            "text/plain": [
              "4"
            ]
          },
          "metadata": {},
          "execution_count": 20
        }
      ],
      "source": [
        "len(dl_train)"
      ]
    },
    {
      "cell_type": "markdown",
      "id": "5aa1deea-3fc4-4051-80e9-89de248d3107",
      "metadata": {
        "id": "5aa1deea-3fc4-4051-80e9-89de248d3107"
      },
      "source": [
        "## 二，定义模型"
      ]
    },
    {
      "cell_type": "markdown",
      "id": "644837f5-bbc4-4f4f-a5f0-1f763e36f373",
      "metadata": {
        "id": "644837f5-bbc4-4f4f-a5f0-1f763e36f373"
      },
      "source": [
        "下面我们将使用QLoRA(实际上用的是量化的AdaLoRA）算法来微调Baichuan-13b模型。"
      ]
    },
    {
      "cell_type": "code",
      "execution_count": 21,
      "id": "b7dbbece-2e50-4166-9e43-ea35d04af856",
      "metadata": {
        "colab": {
          "base_uri": "https://localhost:8080/"
        },
        "id": "b7dbbece-2e50-4166-9e43-ea35d04af856",
        "outputId": "77fa5f2d-ccea-4f10-b1ad-80d6d29dfe3b"
      },
      "outputs": [
        {
          "output_type": "stream",
          "name": "stderr",
          "text": [
            "You are using an old version of the checkpointing format that is deprecated (We will also silently ignore `gradient_checkpointing_kwargs` in case you passed it).Please update to the new format on your modeling file. To use the new format, you need to completely remove the definition of the method `_set_gradient_checkpointing` in your model.\n"
          ]
        }
      ],
      "source": [
        "from peft import get_peft_config, get_peft_model, TaskType\n",
        "model.supports_gradient_checkpointing = True  #\n",
        "model.gradient_checkpointing_enable()\n",
        "model.enable_input_require_grads()\n",
        "\n",
        "model.config.use_cache = False  # silence the warnings. Please re-enable for inference!\n"
      ]
    },
    {
      "cell_type": "code",
      "execution_count": 22,
      "id": "fc66d6a4-77ff-490c-a3c0-913a9316eb13",
      "metadata": {
        "id": "fc66d6a4-77ff-490c-a3c0-913a9316eb13"
      },
      "outputs": [],
      "source": [
        "import bitsandbytes as bnb\n",
        "def find_all_linear_names(model):\n",
        "    \"\"\"\n",
        "    找出所有全连接层，为所有全连接添加adapter\n",
        "    \"\"\"\n",
        "    cls = bnb.nn.Linear4bit\n",
        "    lora_module_names = set()\n",
        "    for name, module in model.named_modules():\n",
        "        if isinstance(module, cls):\n",
        "            names = name.split('.')\n",
        "            lora_module_names.add(names[0] if len(names) == 1 else names[-1])\n",
        "\n",
        "    if 'lm_head' in lora_module_names:  # needed for 16-bit\n",
        "        lora_module_names.remove('lm_head')\n",
        "    return list(lora_module_names)\n"
      ]
    },
    {
      "cell_type": "code",
      "execution_count": 23,
      "id": "587a53eb-ba75-40a6-83e6-1ad2684738f4",
      "metadata": {
        "colab": {
          "base_uri": "https://localhost:8080/"
        },
        "id": "587a53eb-ba75-40a6-83e6-1ad2684738f4",
        "outputId": "72dbcb76-5fd6-4f22-b723-980bb643667e"
      },
      "outputs": [
        {
          "output_type": "stream",
          "name": "stderr",
          "text": [
            "You are using an old version of the checkpointing format that is deprecated (We will also silently ignore `gradient_checkpointing_kwargs` in case you passed it).Please update to the new format on your modeling file. To use the new format, you need to completely remove the definition of the method `_set_gradient_checkpointing` in your model.\n"
          ]
        }
      ],
      "source": [
        "from peft import prepare_model_for_kbit_training\n",
        "model = prepare_model_for_kbit_training(model)\n"
      ]
    },
    {
      "cell_type": "code",
      "execution_count": 24,
      "id": "ffbd01ad-2667-4c38-8ce7-62ce293e759e",
      "metadata": {
        "colab": {
          "base_uri": "https://localhost:8080/"
        },
        "id": "ffbd01ad-2667-4c38-8ce7-62ce293e759e",
        "outputId": "f8e74004-5988-4303-b882-854427a7d307"
      },
      "outputs": [
        {
          "output_type": "stream",
          "name": "stdout",
          "text": [
            "['w2', 'c_proj', 'w1', 'c_attn']\n"
          ]
        }
      ],
      "source": [
        "lora_modules = find_all_linear_names(model)\n",
        "print(lora_modules)\n"
      ]
    },
    {
      "cell_type": "code",
      "execution_count": 25,
      "id": "e5b68e33-3c18-4044-9554-c453b17d4fef",
      "metadata": {
        "colab": {
          "base_uri": "https://localhost:8080/"
        },
        "id": "e5b68e33-3c18-4044-9554-c453b17d4fef",
        "outputId": "939e1931-088c-41fd-b53c-075510387dd0"
      },
      "outputs": [
        {
          "output_type": "stream",
          "name": "stdout",
          "text": [
            "trainable params: 26,838,912 || all params: 7,748,163,616 || trainable%: 0.34639062015388394\n"
          ]
        }
      ],
      "source": [
        "from peft import AdaLoraConfig\n",
        "peft_config = AdaLoraConfig(\n",
        "    task_type=TaskType.CAUSAL_LM, inference_mode=False,\n",
        "    r=16,\n",
        "    lora_alpha=16, lora_dropout=0.08,\n",
        "    target_modules= lora_modules\n",
        ")\n",
        "\n",
        "peft_model = get_peft_model(model, peft_config)\n",
        "\n",
        "peft_model.is_parallelizable = True\n",
        "peft_model.model_parallel = True\n",
        "peft_model.print_trainable_parameters()\n"
      ]
    },
    {
      "cell_type": "code",
      "execution_count": 27,
      "id": "1c396dc8-f574-4c7b-80dc-7e3a168e88ef",
      "metadata": {
        "colab": {
          "base_uri": "https://localhost:8080/"
        },
        "id": "1c396dc8-f574-4c7b-80dc-7e3a168e88ef",
        "outputId": "73b7ea0d-1614-4a24-9bba-d86434410f41"
      },
      "outputs": [
        {
          "output_type": "execute_result",
          "data": {
            "text/plain": [
              "28.864158749580383"
            ]
          },
          "metadata": {},
          "execution_count": 27
        }
      ],
      "source": [
        "(7748163616 * 4) / (2**30)"
      ]
    },
    {
      "cell_type": "markdown",
      "id": "2ad2444d-2c9c-4048-958c-ae48d9590dfd",
      "metadata": {
        "id": "2ad2444d-2c9c-4048-958c-ae48d9590dfd"
      },
      "source": [
        "## 三，训练模型"
      ]
    },
    {
      "cell_type": "code",
      "execution_count": 28,
      "id": "9317cd85-b886-4153-af53-42c83921525a",
      "metadata": {
        "id": "9317cd85-b886-4153-af53-42c83921525a"
      },
      "outputs": [],
      "source": [
        "from torchkeras import KerasModel\n",
        "from accelerate import Accelerator\n",
        "\n",
        "class StepRunner:\n",
        "    def __init__(self, net, loss_fn, accelerator=None, stage = \"train\", metrics_dict = None,\n",
        "                 optimizer = None, lr_scheduler = None\n",
        "                 ):\n",
        "        self.net,self.loss_fn,self.metrics_dict,self.stage = net,loss_fn,metrics_dict,stage\n",
        "        self.optimizer,self.lr_scheduler = optimizer,lr_scheduler\n",
        "        self.accelerator = accelerator if accelerator is not None else Accelerator()\n",
        "        if self.stage=='train':\n",
        "            self.net.train()\n",
        "        else:\n",
        "            self.net.eval()\n",
        "\n",
        "    def __call__(self, batch):\n",
        "\n",
        "        #loss\n",
        "        with self.accelerator.autocast():\n",
        "            loss = self.net.forward(**batch)[0]\n",
        "\n",
        "        #backward()\n",
        "        if self.optimizer is not None and self.stage==\"train\":\n",
        "            self.accelerator.backward(loss)\n",
        "            if self.accelerator.sync_gradients:\n",
        "                self.accelerator.clip_grad_norm_(self.net.parameters(), 1.0)\n",
        "            self.optimizer.step()\n",
        "            if self.lr_scheduler is not None:\n",
        "                self.lr_scheduler.step()\n",
        "            self.optimizer.zero_grad()\n",
        "\n",
        "        all_loss = self.accelerator.gather(loss).sum()\n",
        "\n",
        "        #losses (or plain metrics that can be averaged)\n",
        "        step_losses = {self.stage+\"_loss\":all_loss.item()}\n",
        "\n",
        "        #metrics (stateful metrics)\n",
        "        step_metrics = {}\n",
        "\n",
        "        if self.stage==\"train\":\n",
        "            if self.optimizer is not None:\n",
        "                step_metrics['lr'] = self.optimizer.state_dict()['param_groups'][0]['lr']\n",
        "            else:\n",
        "                step_metrics['lr'] = 0.0\n",
        "        return step_losses,step_metrics\n",
        "\n",
        "KerasModel.StepRunner = StepRunner\n",
        "\n",
        "#仅仅保存QLora可训练参数\n",
        "def save_ckpt(self, ckpt_path='checkpoint', accelerator = None):\n",
        "    unwrap_net = accelerator.unwrap_model(self.net)\n",
        "    unwrap_net.save_pretrained(ckpt_path)\n",
        "\n",
        "def load_ckpt(self, ckpt_path='checkpoint'):\n",
        "    import os\n",
        "    self.net.load_state_dict(\n",
        "        torch.load(os.path.join(ckpt_path,'adapter_model.bin')),strict =False)\n",
        "    self.from_scratch = False\n",
        "\n",
        "KerasModel.save_ckpt = save_ckpt\n",
        "KerasModel.load_ckpt = load_ckpt\n"
      ]
    },
    {
      "cell_type": "code",
      "execution_count": 29,
      "id": "cbed7bbe-10a7-4132-8d02-ead60b4d59ea",
      "metadata": {
        "id": "cbed7bbe-10a7-4132-8d02-ead60b4d59ea"
      },
      "outputs": [],
      "source": [
        "optimizer = bnb.optim.adamw.AdamW(peft_model.parameters(),\n",
        "                                  lr=6e-03,is_paged=True)  #'paged_adamw'\n",
        "keras_model = KerasModel(peft_model,loss_fn =None,\n",
        "        optimizer=optimizer)\n",
        "\n",
        "ckpt_path = 'qwen7b_multirounds'\n"
      ]
    },
    {
      "cell_type": "code",
      "execution_count": 30,
      "id": "9a409456-ad9d-4b28-b6c0-5f22e0212abf",
      "metadata": {
        "id": "9a409456-ad9d-4b28-b6c0-5f22e0212abf"
      },
      "outputs": [],
      "source": [
        "keras_model.from_scratch=False"
      ]
    },
    {
      "cell_type": "code",
      "execution_count": 31,
      "id": "131ba617-d6e6-4bf7-9259-daaa113ada8f",
      "metadata": {
        "colab": {
          "base_uri": "https://localhost:8080/",
          "height": 815
        },
        "id": "131ba617-d6e6-4bf7-9259-daaa113ada8f",
        "outputId": "004b3a9f-d8e3-424f-9ffb-98ba5945ce36"
      },
      "outputs": [
        {
          "output_type": "stream",
          "name": "stdout",
          "text": [
            "\u001b[0;31m<<<<<< ⚡️ cuda is used >>>>>>\u001b[0m\n"
          ]
        },
        {
          "output_type": "display_data",
          "data": {
            "text/plain": [
              "<Figure size 600x400 with 1 Axes>"
            ],
            "image/png": "[encoded data removed]"
          },
          "metadata": {}
        },
        {
          "output_type": "display_data",
          "data": {
            "text/plain": [
              "<IPython.core.display.HTML object>"
            ],
            "text/html": [
              "\n",
              "<style>\n",
              "    /* background: */\n",
              "    progress::-webkit-progress-bar {background-color: #CDCDCD; width: 100%;}\n",
              "    progress {background-color: #CDCDCD;}\n",
              "\n",
              "    /* value: */\n",
              "    progress::-webkit-progress-value {background-color: #00BFFF  !important;}\n",
              "    progress::-moz-progress-bar {background-color: #00BFFF  !important;}\n",
              "    progress {color: #00BFFF ;}\n",
              "\n",
              "    /* optional */\n",
              "    .progress-bar-interrupted, .progress-bar-interrupted::-webkit-progress-bar {\n",
              "        background: #000000;\n",
              "    }\n",
              "</style>\n"
            ]
          },
          "metadata": {}
        },
        {
          "output_type": "display_data",
          "data": {
            "text/plain": [
              "<IPython.core.display.HTML object>"
            ],
            "text/html": [
              "\n",
              "    <div>\n",
              "      <progress value='12' class='' max='100' style='width:300px; height:20px; vertical-align: middle;'></progress>\n",
              "      12.00% [12/100] [02:33<18:43]\n",
              "      <br>\n",
              "      ████████████████████100.00% [4/4] [train_loss=0.0601, lr=0.0060]\n",
              "    </div>\n",
              "    "
            ]
          },
          "metadata": {}
        },
        {
          "output_type": "error",
          "ename": "KeyboardInterrupt",
          "evalue": "",
          "traceback": [
            "\u001b[0;31m---------------------------------------------------------------------------\u001b[0m",
            "\u001b[0;31mKeyboardInterrupt\u001b[0m                         Traceback (most recent call last)",
            "\u001b[0;32m<ipython-input-31-a8053d27f685>\u001b[0m in \u001b[0;36m<cell line: 2>\u001b[0;34m()\u001b[0m\n\u001b[1;32m      1\u001b[0m \u001b[0;31m# keras_model.load_ckpt(ckpt_path) #支持加载微调后的权重继续训练(断点续训)\u001b[0m\u001b[0;34m\u001b[0m\u001b[0;34m\u001b[0m\u001b[0m\n\u001b[0;32m----> 2\u001b[0;31m keras_model.fit(train_data = dl_train,\n\u001b[0m\u001b[1;32m      3\u001b[0m                 \u001b[0mval_data\u001b[0m \u001b[0;34m=\u001b[0m \u001b[0mdl_val\u001b[0m\u001b[0;34m,\u001b[0m\u001b[0;34m\u001b[0m\u001b[0;34m\u001b[0m\u001b[0m\n\u001b[1;32m      4\u001b[0m                 \u001b[0mepochs\u001b[0m\u001b[0;34m=\u001b[0m\u001b[0;36m100\u001b[0m\u001b[0;34m,\u001b[0m\u001b[0mpatience\u001b[0m\u001b[0;34m=\u001b[0m\u001b[0;36m15\u001b[0m\u001b[0;34m,\u001b[0m\u001b[0;34m\u001b[0m\u001b[0;34m\u001b[0m\u001b[0m\n\u001b[1;32m      5\u001b[0m                 \u001b[0mmonitor\u001b[0m\u001b[0;34m=\u001b[0m\u001b[0;34m'val_loss'\u001b[0m\u001b[0;34m,\u001b[0m\u001b[0mmode\u001b[0m\u001b[0;34m=\u001b[0m\u001b[0;34m'min'\u001b[0m\u001b[0;34m,\u001b[0m\u001b[0;34m\u001b[0m\u001b[0;34m\u001b[0m\u001b[0m\n",
            "\u001b[0;32m/usr/local/lib/python3.10/dist-packages/torchkeras/kerasmodel.py\u001b[0m in \u001b[0;36mfit\u001b[0;34m(self, train_data, val_data, epochs, ckpt_path, patience, monitor, mode, callbacks, plot, wandb, quiet, mixed_precision, cpu, gradient_accumulation_steps)\u001b[0m\n\u001b[1;32m    234\u001b[0m                 \u001b[0mval_epoch_runner\u001b[0m \u001b[0;34m=\u001b[0m \u001b[0mself\u001b[0m\u001b[0;34m.\u001b[0m\u001b[0mEpochRunner\u001b[0m\u001b[0;34m(\u001b[0m\u001b[0mval_step_runner\u001b[0m\u001b[0;34m,\u001b[0m\u001b[0mshould_quiet\u001b[0m\u001b[0;34m)\u001b[0m\u001b[0;34m\u001b[0m\u001b[0;34m\u001b[0m\u001b[0m\n\u001b[1;32m    235\u001b[0m                 \u001b[0;32mwith\u001b[0m \u001b[0mtorch\u001b[0m\u001b[0;34m.\u001b[0m\u001b[0mno_grad\u001b[0m\u001b[0;34m(\u001b[0m\u001b[0;34m)\u001b[0m\u001b[0;34m:\u001b[0m\u001b[0;34m\u001b[0m\u001b[0;34m\u001b[0m\u001b[0m\n\u001b[0;32m--> 236\u001b[0;31m                     \u001b[0mval_metrics\u001b[0m \u001b[0;34m=\u001b[0m \u001b[0mval_epoch_runner\u001b[0m\u001b[0;34m(\u001b[0m\u001b[0mval_dataloader\u001b[0m\u001b[0;34m)\u001b[0m\u001b[0;34m\u001b[0m\u001b[0;34m\u001b[0m\u001b[0m\n\u001b[0m\u001b[1;32m    237\u001b[0m \u001b[0;34m\u001b[0m\u001b[0m\n\u001b[1;32m    238\u001b[0m                 \u001b[0;32mfor\u001b[0m \u001b[0mname\u001b[0m\u001b[0;34m,\u001b[0m \u001b[0mmetric\u001b[0m \u001b[0;32min\u001b[0m \u001b[0mval_metrics\u001b[0m\u001b[0;34m.\u001b[0m\u001b[0mitems\u001b[0m\u001b[0;34m(\u001b[0m\u001b[0;34m)\u001b[0m\u001b[0;34m:\u001b[0m\u001b[0;34m\u001b[0m\u001b[0;34m\u001b[0m\u001b[0m\n",
            "\u001b[0;32m/usr/local/lib/python3.10/dist-packages/torchkeras/kerasmodel.py\u001b[0m in \u001b[0;36m__call__\u001b[0;34m(self, dataloader)\u001b[0m\n\u001b[1;32m     75\u001b[0m         \u001b[0;32mfor\u001b[0m \u001b[0mstep\u001b[0m\u001b[0;34m,\u001b[0m \u001b[0mbatch\u001b[0m \u001b[0;32min\u001b[0m \u001b[0mloop\u001b[0m\u001b[0;34m:\u001b[0m\u001b[0;34m\u001b[0m\u001b[0;34m\u001b[0m\u001b[0m\n\u001b[1;32m     76\u001b[0m             \u001b[0;32mwith\u001b[0m \u001b[0mself\u001b[0m\u001b[0;34m.\u001b[0m\u001b[0maccelerator\u001b[0m\u001b[0;34m.\u001b[0m\u001b[0maccumulate\u001b[0m\u001b[0;34m(\u001b[0m\u001b[0mself\u001b[0m\u001b[0;34m.\u001b[0m\u001b[0mnet\u001b[0m\u001b[0;34m)\u001b[0m\u001b[0;34m:\u001b[0m\u001b[0;34m\u001b[0m\u001b[0;34m\u001b[0m\u001b[0m\n\u001b[0;32m---> 77\u001b[0;31m                 \u001b[0mstep_losses\u001b[0m\u001b[0;34m,\u001b[0m\u001b[0mstep_metrics\u001b[0m \u001b[0;34m=\u001b[0m \u001b[0mself\u001b[0m\u001b[0;34m.\u001b[0m\u001b[0msteprunner\u001b[0m\u001b[0;34m(\u001b[0m\u001b[0mbatch\u001b[0m\u001b[0;34m)\u001b[0m\u001b[0;34m\u001b[0m\u001b[0;34m\u001b[0m\u001b[0m\n\u001b[0m\u001b[1;32m     78\u001b[0m                 \u001b[0mstep_log\u001b[0m \u001b[0;34m=\u001b[0m \u001b[0mdict\u001b[0m\u001b[0;34m(\u001b[0m\u001b[0mstep_losses\u001b[0m\u001b[0;34m,\u001b[0m\u001b[0;34m**\u001b[0m\u001b[0mstep_metrics\u001b[0m\u001b[0;34m)\u001b[0m\u001b[0;34m\u001b[0m\u001b[0;34m\u001b[0m\u001b[0m\n\u001b[1;32m     79\u001b[0m                 \u001b[0;32mfor\u001b[0m \u001b[0mk\u001b[0m\u001b[0;34m,\u001b[0m\u001b[0mv\u001b[0m \u001b[0;32min\u001b[0m \u001b[0mstep_losses\u001b[0m\u001b[0;34m.\u001b[0m\u001b[0mitems\u001b[0m\u001b[0;34m(\u001b[0m\u001b[0;34m)\u001b[0m\u001b[0;34m:\u001b[0m\u001b[0;34m\u001b[0m\u001b[0;34m\u001b[0m\u001b[0m\n",
            "\u001b[0;32m<ipython-input-28-6daaae5eea12>\u001b[0m in \u001b[0;36m__call__\u001b[0;34m(self, batch)\u001b[0m\n\u001b[1;32m     18\u001b[0m         \u001b[0;31m#loss\u001b[0m\u001b[0;34m\u001b[0m\u001b[0;34m\u001b[0m\u001b[0m\n\u001b[1;32m     19\u001b[0m         \u001b[0;32mwith\u001b[0m \u001b[0mself\u001b[0m\u001b[0;34m.\u001b[0m\u001b[0maccelerator\u001b[0m\u001b[0;34m.\u001b[0m\u001b[0mautocast\u001b[0m\u001b[0;34m(\u001b[0m\u001b[0;34m)\u001b[0m\u001b[0;34m:\u001b[0m\u001b[0;34m\u001b[0m\u001b[0;34m\u001b[0m\u001b[0m\n\u001b[0;32m---> 20\u001b[0;31m             \u001b[0mloss\u001b[0m \u001b[0;34m=\u001b[0m \u001b[0mself\u001b[0m\u001b[0;34m.\u001b[0m\u001b[0mnet\u001b[0m\u001b[0;34m.\u001b[0m\u001b[0mforward\u001b[0m\u001b[0;34m(\u001b[0m\u001b[0;34m**\u001b[0m\u001b[0mbatch\u001b[0m\u001b[0;34m)\u001b[0m\u001b[0;34m[\u001b[0m\u001b[0;36m0\u001b[0m\u001b[0;34m]\u001b[0m\u001b[0;34m\u001b[0m\u001b[0;34m\u001b[0m\u001b[0m\n\u001b[0m\u001b[1;32m     21\u001b[0m \u001b[0;34m\u001b[0m\u001b[0m\n\u001b[1;32m     22\u001b[0m         \u001b[0;31m#backward()\u001b[0m\u001b[0;34m\u001b[0m\u001b[0;34m\u001b[0m\u001b[0m\n",
            "\u001b[0;32m/usr/local/lib/python3.10/dist-packages/peft/peft_model.py\u001b[0m in \u001b[0;36mforward\u001b[0;34m(self, input_ids, attention_mask, inputs_embeds, labels, output_attentions, output_hidden_states, return_dict, task_ids, **kwargs)\u001b[0m\n\u001b[1;32m   1127\u001b[0m             \u001b[0;32mwith\u001b[0m \u001b[0mself\u001b[0m\u001b[0;34m.\u001b[0m\u001b[0m_enable_peft_forward_hooks\u001b[0m\u001b[0;34m(\u001b[0m\u001b[0;34m**\u001b[0m\u001b[0mkwargs\u001b[0m\u001b[0;34m)\u001b[0m\u001b[0;34m:\u001b[0m\u001b[0;34m\u001b[0m\u001b[0;34m\u001b[0m\u001b[0m\n\u001b[1;32m   1128\u001b[0m                 \u001b[0mkwargs\u001b[0m \u001b[0;34m=\u001b[0m \u001b[0;34m{\u001b[0m\u001b[0mk\u001b[0m\u001b[0;34m:\u001b[0m \u001b[0mv\u001b[0m \u001b[0;32mfor\u001b[0m \u001b[0mk\u001b[0m\u001b[0;34m,\u001b[0m \u001b[0mv\u001b[0m \u001b[0;32min\u001b[0m \u001b[0mkwargs\u001b[0m\u001b[0;34m.\u001b[0m\u001b[0mitems\u001b[0m\u001b[0;34m(\u001b[0m\u001b[0;34m)\u001b[0m \u001b[0;32mif\u001b[0m \u001b[0mk\u001b[0m \u001b[0;32mnot\u001b[0m \u001b[0;32min\u001b[0m \u001b[0mself\u001b[0m\u001b[0;34m.\u001b[0m\u001b[0mspecial_peft_forward_args\u001b[0m\u001b[0;34m}\u001b[0m\u001b[0;34m\u001b[0m\u001b[0;34m\u001b[0m\u001b[0m\n\u001b[0;32m-> 1129\u001b[0;31m                 return self.base_model(\n\u001b[0m\u001b[1;32m   1130\u001b[0m                     \u001b[0minput_ids\u001b[0m\u001b[0;34m=\u001b[0m\u001b[0minput_ids\u001b[0m\u001b[0;34m,\u001b[0m\u001b[0;34m\u001b[0m\u001b[0;34m\u001b[0m\u001b[0m\n\u001b[1;32m   1131\u001b[0m                     \u001b[0mattention_mask\u001b[0m\u001b[0;34m=\u001b[0m\u001b[0mattention_mask\u001b[0m\u001b[0;34m,\u001b[0m\u001b[0;34m\u001b[0m\u001b[0;34m\u001b[0m\u001b[0m\n",
            "\u001b[0;32m/usr/local/lib/python3.10/dist-packages/torch/nn/modules/module.py\u001b[0m in \u001b[0;36m_wrapped_call_impl\u001b[0;34m(self, *args, **kwargs)\u001b[0m\n\u001b[1;32m   1509\u001b[0m             \u001b[0;32mreturn\u001b[0m \u001b[0mself\u001b[0m\u001b[0;34m.\u001b[0m\u001b[0m_compiled_call_impl\u001b[0m\u001b[0;34m(\u001b[0m\u001b[0;34m*\u001b[0m\u001b[0margs\u001b[0m\u001b[0;34m,\u001b[0m \u001b[0;34m**\u001b[0m\u001b[0mkwargs\u001b[0m\u001b[0;34m)\u001b[0m  \u001b[0;31m# type: ignore[misc]\u001b[0m\u001b[0;34m\u001b[0m\u001b[0;34m\u001b[0m\u001b[0m\n\u001b[1;32m   1510\u001b[0m         \u001b[0;32melse\u001b[0m\u001b[0;34m:\u001b[0m\u001b[0;34m\u001b[0m\u001b[0;34m\u001b[0m\u001b[0m\n\u001b[0;32m-> 1511\u001b[0;31m             \u001b[0;32mreturn\u001b[0m \u001b[0mself\u001b[0m\u001b[0;34m.\u001b[0m\u001b[0m_call_impl\u001b[0m\u001b[0;34m(\u001b[0m\u001b[0;34m*\u001b[0m\u001b[0margs\u001b[0m\u001b[0;34m,\u001b[0m \u001b[0;34m**\u001b[0m\u001b[0mkwargs\u001b[0m\u001b[0;34m)\u001b[0m\u001b[0;34m\u001b[0m\u001b[0;34m\u001b[0m\u001b[0m\n\u001b[0m\u001b[1;32m   1512\u001b[0m \u001b[0;34m\u001b[0m\u001b[0m\n\u001b[1;32m   1513\u001b[0m     \u001b[0;32mdef\u001b[0m \u001b[0m_call_impl\u001b[0m\u001b[0;34m(\u001b[0m\u001b[0mself\u001b[0m\u001b[0;34m,\u001b[0m \u001b[0;34m*\u001b[0m\u001b[0margs\u001b[0m\u001b[0;34m,\u001b[0m \u001b[0;34m**\u001b[0m\u001b[0mkwargs\u001b[0m\u001b[0;34m)\u001b[0m\u001b[0;34m:\u001b[0m\u001b[0;34m\u001b[0m\u001b[0;34m\u001b[0m\u001b[0m\n",
            "\u001b[0;32m/usr/local/lib/python3.10/dist-packages/torch/nn/modules/module.py\u001b[0m in \u001b[0;36m_call_impl\u001b[0;34m(self, *args, **kwargs)\u001b[0m\n\u001b[1;32m   1518\u001b[0m                 \u001b[0;32mor\u001b[0m \u001b[0m_global_backward_pre_hooks\u001b[0m \u001b[0;32mor\u001b[0m \u001b[0m_global_backward_hooks\u001b[0m\u001b[0;34m\u001b[0m\u001b[0;34m\u001b[0m\u001b[0m\n\u001b[1;32m   1519\u001b[0m                 or _global_forward_hooks or _global_forward_pre_hooks):\n\u001b[0;32m-> 1520\u001b[0;31m             \u001b[0;32mreturn\u001b[0m \u001b[0mforward_call\u001b[0m\u001b[0;34m(\u001b[0m\u001b[0;34m*\u001b[0m\u001b[0margs\u001b[0m\u001b[0;34m,\u001b[0m \u001b[0;34m**\u001b[0m\u001b[0mkwargs\u001b[0m\u001b[0;34m)\u001b[0m\u001b[0;34m\u001b[0m\u001b[0;34m\u001b[0m\u001b[0m\n\u001b[0m\u001b[1;32m   1521\u001b[0m \u001b[0;34m\u001b[0m\u001b[0m\n\u001b[1;32m   1522\u001b[0m         \u001b[0;32mtry\u001b[0m\u001b[0;34m:\u001b[0m\u001b[0;34m\u001b[0m\u001b[0;34m\u001b[0m\u001b[0m\n",
            "\u001b[0;32m/usr/local/lib/python3.10/dist-packages/peft/tuners/adalora/model.py\u001b[0m in \u001b[0;36mforward\u001b[0;34m(self, *args, **kwargs)\u001b[0m\n\u001b[1;32m    232\u001b[0m \u001b[0;34m\u001b[0m\u001b[0m\n\u001b[1;32m    233\u001b[0m     \u001b[0;32mdef\u001b[0m \u001b[0mforward\u001b[0m\u001b[0;34m(\u001b[0m\u001b[0mself\u001b[0m\u001b[0;34m,\u001b[0m \u001b[0;34m*\u001b[0m\u001b[0margs\u001b[0m\u001b[0;34m,\u001b[0m \u001b[0;34m**\u001b[0m\u001b[0mkwargs\u001b[0m\u001b[0;34m)\u001b[0m\u001b[0;34m:\u001b[0m\u001b[0;34m\u001b[0m\u001b[0;34m\u001b[0m\u001b[0m\n\u001b[0;32m--> 234\u001b[0;31m         \u001b[0moutputs\u001b[0m \u001b[0;34m=\u001b[0m \u001b[0mself\u001b[0m\u001b[0;34m.\u001b[0m\u001b[0mmodel\u001b[0m\u001b[0;34m.\u001b[0m\u001b[0mforward\u001b[0m\u001b[0;34m(\u001b[0m\u001b[0;34m*\u001b[0m\u001b[0margs\u001b[0m\u001b[0;34m,\u001b[0m \u001b[0;34m**\u001b[0m\u001b[0mkwargs\u001b[0m\u001b[0;34m)\u001b[0m\u001b[0;34m\u001b[0m\u001b[0;34m\u001b[0m\u001b[0m\n\u001b[0m\u001b[1;32m    235\u001b[0m \u001b[0;34m\u001b[0m\u001b[0m\n\u001b[1;32m    236\u001b[0m         \u001b[0;32mif\u001b[0m \u001b[0;34m(\u001b[0m\u001b[0mgetattr\u001b[0m\u001b[0;34m(\u001b[0m\u001b[0moutputs\u001b[0m\u001b[0;34m,\u001b[0m \u001b[0;34m\"loss\"\u001b[0m\u001b[0;34m,\u001b[0m \u001b[0;32mNone\u001b[0m\u001b[0;34m)\u001b[0m \u001b[0;32mis\u001b[0m \u001b[0;32mnot\u001b[0m \u001b[0;32mNone\u001b[0m\u001b[0;34m)\u001b[0m \u001b[0;32mand\u001b[0m \u001b[0misinstance\u001b[0m\u001b[0;34m(\u001b[0m\u001b[0moutputs\u001b[0m\u001b[0;34m.\u001b[0m\u001b[0mloss\u001b[0m\u001b[0;34m,\u001b[0m \u001b[0mtorch\u001b[0m\u001b[0;34m.\u001b[0m\u001b[0mTensor\u001b[0m\u001b[0;34m)\u001b[0m\u001b[0;34m:\u001b[0m\u001b[0;34m\u001b[0m\u001b[0;34m\u001b[0m\u001b[0m\n",
            "\u001b[0;32m/usr/local/lib/python3.10/dist-packages/accelerate/hooks.py\u001b[0m in \u001b[0;36mnew_forward\u001b[0;34m(module, *args, **kwargs)\u001b[0m\n\u001b[1;32m    164\u001b[0m                 \u001b[0moutput\u001b[0m \u001b[0;34m=\u001b[0m \u001b[0mmodule\u001b[0m\u001b[0;34m.\u001b[0m\u001b[0m_old_forward\u001b[0m\u001b[0;34m(\u001b[0m\u001b[0;34m*\u001b[0m\u001b[0margs\u001b[0m\u001b[0;34m,\u001b[0m \u001b[0;34m**\u001b[0m\u001b[0mkwargs\u001b[0m\u001b[0;34m)\u001b[0m\u001b[0;34m\u001b[0m\u001b[0;34m\u001b[0m\u001b[0m\n\u001b[1;32m    165\u001b[0m         \u001b[0;32melse\u001b[0m\u001b[0;34m:\u001b[0m\u001b[0;34m\u001b[0m\u001b[0;34m\u001b[0m\u001b[0m\n\u001b[0;32m--> 166\u001b[0;31m             \u001b[0moutput\u001b[0m \u001b[0;34m=\u001b[0m \u001b[0mmodule\u001b[0m\u001b[0;34m.\u001b[0m\u001b[0m_old_forward\u001b[0m\u001b[0;34m(\u001b[0m\u001b[0;34m*\u001b[0m\u001b[0margs\u001b[0m\u001b[0;34m,\u001b[0m \u001b[0;34m**\u001b[0m\u001b[0mkwargs\u001b[0m\u001b[0;34m)\u001b[0m\u001b[0;34m\u001b[0m\u001b[0;34m\u001b[0m\u001b[0m\n\u001b[0m\u001b[1;32m    167\u001b[0m         \u001b[0;32mreturn\u001b[0m \u001b[0mmodule\u001b[0m\u001b[0;34m.\u001b[0m\u001b[0m_hf_hook\u001b[0m\u001b[0;34m.\u001b[0m\u001b[0mpost_forward\u001b[0m\u001b[0;34m(\u001b[0m\u001b[0mmodule\u001b[0m\u001b[0;34m,\u001b[0m \u001b[0moutput\u001b[0m\u001b[0;34m)\u001b[0m\u001b[0;34m\u001b[0m\u001b[0;34m\u001b[0m\u001b[0m\n\u001b[1;32m    168\u001b[0m \u001b[0;34m\u001b[0m\u001b[0m\n",
            "\u001b[0;32m~/.cache/huggingface/modules/transformers_modules/Qwen/Qwen-7b-Chat/93a65d34827a3cc269b727e67004743b723e2f83/modeling_qwen.py\u001b[0m in \u001b[0;36mforward\u001b[0;34m(self, input_ids, past_key_values, attention_mask, token_type_ids, position_ids, head_mask, inputs_embeds, encoder_hidden_states, encoder_attention_mask, labels, use_cache, output_attentions, output_hidden_states, return_dict)\u001b[0m\n\u001b[1;32m   1041\u001b[0m         )\n\u001b[1;32m   1042\u001b[0m \u001b[0;34m\u001b[0m\u001b[0m\n\u001b[0;32m-> 1043\u001b[0;31m         transformer_outputs = self.transformer(\n\u001b[0m\u001b[1;32m   1044\u001b[0m             \u001b[0minput_ids\u001b[0m\u001b[0;34m,\u001b[0m\u001b[0;34m\u001b[0m\u001b[0;34m\u001b[0m\u001b[0m\n\u001b[1;32m   1045\u001b[0m             \u001b[0mpast_key_values\u001b[0m\u001b[0;34m=\u001b[0m\u001b[0mpast_key_values\u001b[0m\u001b[0;34m,\u001b[0m\u001b[0;34m\u001b[0m\u001b[0;34m\u001b[0m\u001b[0m\n",
            "\u001b[0;32m/usr/local/lib/python3.10/dist-packages/torch/nn/modules/module.py\u001b[0m in \u001b[0;36m_wrapped_call_impl\u001b[0;34m(self, *args, **kwargs)\u001b[0m\n\u001b[1;32m   1509\u001b[0m             \u001b[0;32mreturn\u001b[0m \u001b[0mself\u001b[0m\u001b[0;34m.\u001b[0m\u001b[0m_compiled_call_impl\u001b[0m\u001b[0;34m(\u001b[0m\u001b[0;34m*\u001b[0m\u001b[0margs\u001b[0m\u001b[0;34m,\u001b[0m \u001b[0;34m**\u001b[0m\u001b[0mkwargs\u001b[0m\u001b[0;34m)\u001b[0m  \u001b[0;31m# type: ignore[misc]\u001b[0m\u001b[0;34m\u001b[0m\u001b[0;34m\u001b[0m\u001b[0m\n\u001b[1;32m   1510\u001b[0m         \u001b[0;32melse\u001b[0m\u001b[0;34m:\u001b[0m\u001b[0;34m\u001b[0m\u001b[0;34m\u001b[0m\u001b[0m\n\u001b[0;32m-> 1511\u001b[0;31m             \u001b[0;32mreturn\u001b[0m \u001b[0mself\u001b[0m\u001b[0;34m.\u001b[0m\u001b[0m_call_impl\u001b[0m\u001b[0;34m(\u001b[0m\u001b[0;34m*\u001b[0m\u001b[0margs\u001b[0m\u001b[0;34m,\u001b[0m \u001b[0;34m**\u001b[0m\u001b[0mkwargs\u001b[0m\u001b[0;34m)\u001b[0m\u001b[0;34m\u001b[0m\u001b[0;34m\u001b[0m\u001b[0m\n\u001b[0m\u001b[1;32m   1512\u001b[0m \u001b[0;34m\u001b[0m\u001b[0m\n\u001b[1;32m   1513\u001b[0m     \u001b[0;32mdef\u001b[0m \u001b[0m_call_impl\u001b[0m\u001b[0;34m(\u001b[0m\u001b[0mself\u001b[0m\u001b[0;34m,\u001b[0m \u001b[0;34m*\u001b[0m\u001b[0margs\u001b[0m\u001b[0;34m,\u001b[0m \u001b[0;34m**\u001b[0m\u001b[0mkwargs\u001b[0m\u001b[0;34m)\u001b[0m\u001b[0;34m:\u001b[0m\u001b[0;34m\u001b[0m\u001b[0;34m\u001b[0m\u001b[0m\n",
            "\u001b[0;32m/usr/local/lib/python3.10/dist-packages/torch/nn/modules/module.py\u001b[0m in \u001b[0;36m_call_impl\u001b[0;34m(self, *args, **kwargs)\u001b[0m\n\u001b[1;32m   1518\u001b[0m                 \u001b[0;32mor\u001b[0m \u001b[0m_global_backward_pre_hooks\u001b[0m \u001b[0;32mor\u001b[0m \u001b[0m_global_backward_hooks\u001b[0m\u001b[0;34m\u001b[0m\u001b[0;34m\u001b[0m\u001b[0m\n\u001b[1;32m   1519\u001b[0m                 or _global_forward_hooks or _global_forward_pre_hooks):\n\u001b[0;32m-> 1520\u001b[0;31m             \u001b[0;32mreturn\u001b[0m \u001b[0mforward_call\u001b[0m\u001b[0;34m(\u001b[0m\u001b[0;34m*\u001b[0m\u001b[0margs\u001b[0m\u001b[0;34m,\u001b[0m \u001b[0;34m**\u001b[0m\u001b[0mkwargs\u001b[0m\u001b[0;34m)\u001b[0m\u001b[0;34m\u001b[0m\u001b[0;34m\u001b[0m\u001b[0m\n\u001b[0m\u001b[1;32m   1521\u001b[0m \u001b[0;34m\u001b[0m\u001b[0m\n\u001b[1;32m   1522\u001b[0m         \u001b[0;32mtry\u001b[0m\u001b[0;34m:\u001b[0m\u001b[0;34m\u001b[0m\u001b[0;34m\u001b[0m\u001b[0m\n",
            "\u001b[0;32m/usr/local/lib/python3.10/dist-packages/accelerate/hooks.py\u001b[0m in \u001b[0;36mnew_forward\u001b[0;34m(module, *args, **kwargs)\u001b[0m\n\u001b[1;32m    164\u001b[0m                 \u001b[0moutput\u001b[0m \u001b[0;34m=\u001b[0m \u001b[0mmodule\u001b[0m\u001b[0;34m.\u001b[0m\u001b[0m_old_forward\u001b[0m\u001b[0;34m(\u001b[0m\u001b[0;34m*\u001b[0m\u001b[0margs\u001b[0m\u001b[0;34m,\u001b[0m \u001b[0;34m**\u001b[0m\u001b[0mkwargs\u001b[0m\u001b[0;34m)\u001b[0m\u001b[0;34m\u001b[0m\u001b[0;34m\u001b[0m\u001b[0m\n\u001b[1;32m    165\u001b[0m         \u001b[0;32melse\u001b[0m\u001b[0;34m:\u001b[0m\u001b[0;34m\u001b[0m\u001b[0;34m\u001b[0m\u001b[0m\n\u001b[0;32m--> 166\u001b[0;31m             \u001b[0moutput\u001b[0m \u001b[0;34m=\u001b[0m \u001b[0mmodule\u001b[0m\u001b[0;34m.\u001b[0m\u001b[0m_old_forward\u001b[0m\u001b[0;34m(\u001b[0m\u001b[0;34m*\u001b[0m\u001b[0margs\u001b[0m\u001b[0;34m,\u001b[0m \u001b[0;34m**\u001b[0m\u001b[0mkwargs\u001b[0m\u001b[0;34m)\u001b[0m\u001b[0;34m\u001b[0m\u001b[0;34m\u001b[0m\u001b[0m\n\u001b[0m\u001b[1;32m    167\u001b[0m         \u001b[0;32mreturn\u001b[0m \u001b[0mmodule\u001b[0m\u001b[0;34m.\u001b[0m\u001b[0m_hf_hook\u001b[0m\u001b[0;34m.\u001b[0m\u001b[0mpost_forward\u001b[0m\u001b[0;34m(\u001b[0m\u001b[0mmodule\u001b[0m\u001b[0;34m,\u001b[0m \u001b[0moutput\u001b[0m\u001b[0;34m)\u001b[0m\u001b[0;34m\u001b[0m\u001b[0;34m\u001b[0m\u001b[0m\n\u001b[1;32m    168\u001b[0m \u001b[0;34m\u001b[0m\u001b[0m\n",
            "\u001b[0;32m~/.cache/huggingface/modules/transformers_modules/Qwen/Qwen-7b-Chat/93a65d34827a3cc269b727e67004743b723e2f83/modeling_qwen.py\u001b[0m in \u001b[0;36mforward\u001b[0;34m(self, input_ids, past_key_values, attention_mask, token_type_ids, position_ids, head_mask, inputs_embeds, encoder_hidden_states, encoder_attention_mask, use_cache, output_attentions, output_hidden_states, return_dict)\u001b[0m\n\u001b[1;32m    889\u001b[0m                 )\n\u001b[1;32m    890\u001b[0m             \u001b[0;32melse\u001b[0m\u001b[0;34m:\u001b[0m\u001b[0;34m\u001b[0m\u001b[0;34m\u001b[0m\u001b[0m\n\u001b[0;32m--> 891\u001b[0;31m                 outputs = block(\n\u001b[0m\u001b[1;32m    892\u001b[0m                     \u001b[0mhidden_states\u001b[0m\u001b[0;34m,\u001b[0m\u001b[0;34m\u001b[0m\u001b[0;34m\u001b[0m\u001b[0m\n\u001b[1;32m    893\u001b[0m                     \u001b[0mlayer_past\u001b[0m\u001b[0;34m=\u001b[0m\u001b[0mlayer_past\u001b[0m\u001b[0;34m,\u001b[0m\u001b[0;34m\u001b[0m\u001b[0;34m\u001b[0m\u001b[0m\n",
            "\u001b[0;32m/usr/local/lib/python3.10/dist-packages/torch/nn/modules/module.py\u001b[0m in \u001b[0;36m_wrapped_call_impl\u001b[0;34m(self, *args, **kwargs)\u001b[0m\n\u001b[1;32m   1509\u001b[0m             \u001b[0;32mreturn\u001b[0m \u001b[0mself\u001b[0m\u001b[0;34m.\u001b[0m\u001b[0m_compiled_call_impl\u001b[0m\u001b[0;34m(\u001b[0m\u001b[0;34m*\u001b[0m\u001b[0margs\u001b[0m\u001b[0;34m,\u001b[0m \u001b[0;34m**\u001b[0m\u001b[0mkwargs\u001b[0m\u001b[0;34m)\u001b[0m  \u001b[0;31m# type: ignore[misc]\u001b[0m\u001b[0;34m\u001b[0m\u001b[0;34m\u001b[0m\u001b[0m\n\u001b[1;32m   1510\u001b[0m         \u001b[0;32melse\u001b[0m\u001b[0;34m:\u001b[0m\u001b[0;34m\u001b[0m\u001b[0;34m\u001b[0m\u001b[0m\n\u001b[0;32m-> 1511\u001b[0;31m             \u001b[0;32mreturn\u001b[0m \u001b[0mself\u001b[0m\u001b[0;34m.\u001b[0m\u001b[0m_call_impl\u001b[0m\u001b[0;34m(\u001b[0m\u001b[0;34m*\u001b[0m\u001b[0margs\u001b[0m\u001b[0;34m,\u001b[0m \u001b[0;34m**\u001b[0m\u001b[0mkwargs\u001b[0m\u001b[0;34m)\u001b[0m\u001b[0;34m\u001b[0m\u001b[0;34m\u001b[0m\u001b[0m\n\u001b[0m\u001b[1;32m   1512\u001b[0m \u001b[0;34m\u001b[0m\u001b[0m\n\u001b[1;32m   1513\u001b[0m     \u001b[0;32mdef\u001b[0m \u001b[0m_call_impl\u001b[0m\u001b[0;34m(\u001b[0m\u001b[0mself\u001b[0m\u001b[0;34m,\u001b[0m \u001b[0;34m*\u001b[0m\u001b[0margs\u001b[0m\u001b[0;34m,\u001b[0m \u001b[0;34m**\u001b[0m\u001b[0mkwargs\u001b[0m\u001b[0;34m)\u001b[0m\u001b[0;34m:\u001b[0m\u001b[0;34m\u001b[0m\u001b[0;34m\u001b[0m\u001b[0m\n",
            "\u001b[0;32m/usr/local/lib/python3.10/dist-packages/torch/nn/modules/module.py\u001b[0m in \u001b[0;36m_call_impl\u001b[0;34m(self, *args, **kwargs)\u001b[0m\n\u001b[1;32m   1518\u001b[0m                 \u001b[0;32mor\u001b[0m \u001b[0m_global_backward_pre_hooks\u001b[0m \u001b[0;32mor\u001b[0m \u001b[0m_global_backward_hooks\u001b[0m\u001b[0;34m\u001b[0m\u001b[0;34m\u001b[0m\u001b[0m\n\u001b[1;32m   1519\u001b[0m                 or _global_forward_hooks or _global_forward_pre_hooks):\n\u001b[0;32m-> 1520\u001b[0;31m             \u001b[0;32mreturn\u001b[0m \u001b[0mforward_call\u001b[0m\u001b[0;34m(\u001b[0m\u001b[0;34m*\u001b[0m\u001b[0margs\u001b[0m\u001b[0;34m,\u001b[0m \u001b[0;34m**\u001b[0m\u001b[0mkwargs\u001b[0m\u001b[0;34m)\u001b[0m\u001b[0;34m\u001b[0m\u001b[0;34m\u001b[0m\u001b[0m\n\u001b[0m\u001b[1;32m   1521\u001b[0m \u001b[0;34m\u001b[0m\u001b[0m\n\u001b[1;32m   1522\u001b[0m         \u001b[0;32mtry\u001b[0m\u001b[0;34m:\u001b[0m\u001b[0;34m\u001b[0m\u001b[0;34m\u001b[0m\u001b[0m\n",
            "\u001b[0;32m/usr/local/lib/python3.10/dist-packages/accelerate/hooks.py\u001b[0m in \u001b[0;36mnew_forward\u001b[0;34m(module, *args, **kwargs)\u001b[0m\n\u001b[1;32m    164\u001b[0m                 \u001b[0moutput\u001b[0m \u001b[0;34m=\u001b[0m \u001b[0mmodule\u001b[0m\u001b[0;34m.\u001b[0m\u001b[0m_old_forward\u001b[0m\u001b[0;34m(\u001b[0m\u001b[0;34m*\u001b[0m\u001b[0margs\u001b[0m\u001b[0;34m,\u001b[0m \u001b[0;34m**\u001b[0m\u001b[0mkwargs\u001b[0m\u001b[0;34m)\u001b[0m\u001b[0;34m\u001b[0m\u001b[0;34m\u001b[0m\u001b[0m\n\u001b[1;32m    165\u001b[0m         \u001b[0;32melse\u001b[0m\u001b[0;34m:\u001b[0m\u001b[0;34m\u001b[0m\u001b[0;34m\u001b[0m\u001b[0m\n\u001b[0;32m--> 166\u001b[0;31m             \u001b[0moutput\u001b[0m \u001b[0;34m=\u001b[0m \u001b[0mmodule\u001b[0m\u001b[0;34m.\u001b[0m\u001b[0m_old_forward\u001b[0m\u001b[0;34m(\u001b[0m\u001b[0;34m*\u001b[0m\u001b[0margs\u001b[0m\u001b[0;34m,\u001b[0m \u001b[0;34m**\u001b[0m\u001b[0mkwargs\u001b[0m\u001b[0;34m)\u001b[0m\u001b[0;34m\u001b[0m\u001b[0;34m\u001b[0m\u001b[0m\n\u001b[0m\u001b[1;32m    167\u001b[0m         \u001b[0;32mreturn\u001b[0m \u001b[0mmodule\u001b[0m\u001b[0;34m.\u001b[0m\u001b[0m_hf_hook\u001b[0m\u001b[0;34m.\u001b[0m\u001b[0mpost_forward\u001b[0m\u001b[0;34m(\u001b[0m\u001b[0mmodule\u001b[0m\u001b[0;34m,\u001b[0m \u001b[0moutput\u001b[0m\u001b[0;34m)\u001b[0m\u001b[0;34m\u001b[0m\u001b[0;34m\u001b[0m\u001b[0m\n\u001b[1;32m    168\u001b[0m \u001b[0;34m\u001b[0m\u001b[0m\n",
            "\u001b[0;32m~/.cache/huggingface/modules/transformers_modules/Qwen/Qwen-7b-Chat/93a65d34827a3cc269b727e67004743b723e2f83/modeling_qwen.py\u001b[0m in \u001b[0;36mforward\u001b[0;34m(self, hidden_states, rotary_pos_emb_list, layer_past, attention_mask, head_mask, encoder_hidden_states, encoder_attention_mask, use_cache, output_attentions)\u001b[0m\n\u001b[1;32m    627\u001b[0m \u001b[0;34m\u001b[0m\u001b[0m\n\u001b[1;32m    628\u001b[0m         \u001b[0mresidual\u001b[0m \u001b[0;34m=\u001b[0m \u001b[0mlayernorm_input\u001b[0m\u001b[0;34m\u001b[0m\u001b[0;34m\u001b[0m\u001b[0m\n\u001b[0;32m--> 629\u001b[0;31m         \u001b[0mmlp_output\u001b[0m \u001b[0;34m=\u001b[0m \u001b[0mself\u001b[0m\u001b[0;34m.\u001b[0m\u001b[0mmlp\u001b[0m\u001b[0;34m(\u001b[0m\u001b[0mlayernorm_output\u001b[0m\u001b[0;34m)\u001b[0m\u001b[0;34m\u001b[0m\u001b[0;34m\u001b[0m\u001b[0m\n\u001b[0m\u001b[1;32m    630\u001b[0m         \u001b[0mhidden_states\u001b[0m \u001b[0;34m=\u001b[0m \u001b[0mresidual\u001b[0m \u001b[0;34m+\u001b[0m \u001b[0mmlp_output\u001b[0m\u001b[0;34m\u001b[0m\u001b[0;34m\u001b[0m\u001b[0m\n\u001b[1;32m    631\u001b[0m \u001b[0;34m\u001b[0m\u001b[0m\n",
            "\u001b[0;32m/usr/local/lib/python3.10/dist-packages/torch/nn/modules/module.py\u001b[0m in \u001b[0;36m_wrapped_call_impl\u001b[0;34m(self, *args, **kwargs)\u001b[0m\n\u001b[1;32m   1509\u001b[0m             \u001b[0;32mreturn\u001b[0m \u001b[0mself\u001b[0m\u001b[0;34m.\u001b[0m\u001b[0m_compiled_call_impl\u001b[0m\u001b[0;34m(\u001b[0m\u001b[0;34m*\u001b[0m\u001b[0margs\u001b[0m\u001b[0;34m,\u001b[0m \u001b[0;34m**\u001b[0m\u001b[0mkwargs\u001b[0m\u001b[0;34m)\u001b[0m  \u001b[0;31m# type: ignore[misc]\u001b[0m\u001b[0;34m\u001b[0m\u001b[0;34m\u001b[0m\u001b[0m\n\u001b[1;32m   1510\u001b[0m         \u001b[0;32melse\u001b[0m\u001b[0;34m:\u001b[0m\u001b[0;34m\u001b[0m\u001b[0;34m\u001b[0m\u001b[0m\n\u001b[0;32m-> 1511\u001b[0;31m             \u001b[0;32mreturn\u001b[0m \u001b[0mself\u001b[0m\u001b[0;34m.\u001b[0m\u001b[0m_call_impl\u001b[0m\u001b[0;34m(\u001b[0m\u001b[0;34m*\u001b[0m\u001b[0margs\u001b[0m\u001b[0;34m,\u001b[0m \u001b[0;34m**\u001b[0m\u001b[0mkwargs\u001b[0m\u001b[0;34m)\u001b[0m\u001b[0;34m\u001b[0m\u001b[0;34m\u001b[0m\u001b[0m\n\u001b[0m\u001b[1;32m   1512\u001b[0m \u001b[0;34m\u001b[0m\u001b[0m\n\u001b[1;32m   1513\u001b[0m     \u001b[0;32mdef\u001b[0m \u001b[0m_call_impl\u001b[0m\u001b[0;34m(\u001b[0m\u001b[0mself\u001b[0m\u001b[0;34m,\u001b[0m \u001b[0;34m*\u001b[0m\u001b[0margs\u001b[0m\u001b[0;34m,\u001b[0m \u001b[0;34m**\u001b[0m\u001b[0mkwargs\u001b[0m\u001b[0;34m)\u001b[0m\u001b[0;34m:\u001b[0m\u001b[0;34m\u001b[0m\u001b[0;34m\u001b[0m\u001b[0m\n",
            "\u001b[0;32m/usr/local/lib/python3.10/dist-packages/torch/nn/modules/module.py\u001b[0m in \u001b[0;36m_call_impl\u001b[0;34m(self, *args, **kwargs)\u001b[0m\n\u001b[1;32m   1518\u001b[0m                 \u001b[0;32mor\u001b[0m \u001b[0m_global_backward_pre_hooks\u001b[0m \u001b[0;32mor\u001b[0m \u001b[0m_global_backward_hooks\u001b[0m\u001b[0;34m\u001b[0m\u001b[0;34m\u001b[0m\u001b[0m\n\u001b[1;32m   1519\u001b[0m                 or _global_forward_hooks or _global_forward_pre_hooks):\n\u001b[0;32m-> 1520\u001b[0;31m             \u001b[0;32mreturn\u001b[0m \u001b[0mforward_call\u001b[0m\u001b[0;34m(\u001b[0m\u001b[0;34m*\u001b[0m\u001b[0margs\u001b[0m\u001b[0;34m,\u001b[0m \u001b[0;34m**\u001b[0m\u001b[0mkwargs\u001b[0m\u001b[0;34m)\u001b[0m\u001b[0;34m\u001b[0m\u001b[0;34m\u001b[0m\u001b[0m\n\u001b[0m\u001b[1;32m   1521\u001b[0m \u001b[0;34m\u001b[0m\u001b[0m\n\u001b[1;32m   1522\u001b[0m         \u001b[0;32mtry\u001b[0m\u001b[0;34m:\u001b[0m\u001b[0;34m\u001b[0m\u001b[0;34m\u001b[0m\u001b[0m\n",
            "\u001b[0;32m/usr/local/lib/python3.10/dist-packages/accelerate/hooks.py\u001b[0m in \u001b[0;36mnew_forward\u001b[0;34m(module, *args, **kwargs)\u001b[0m\n\u001b[1;32m    164\u001b[0m                 \u001b[0moutput\u001b[0m \u001b[0;34m=\u001b[0m \u001b[0mmodule\u001b[0m\u001b[0;34m.\u001b[0m\u001b[0m_old_forward\u001b[0m\u001b[0;34m(\u001b[0m\u001b[0;34m*\u001b[0m\u001b[0margs\u001b[0m\u001b[0;34m,\u001b[0m \u001b[0;34m**\u001b[0m\u001b[0mkwargs\u001b[0m\u001b[0;34m)\u001b[0m\u001b[0;34m\u001b[0m\u001b[0;34m\u001b[0m\u001b[0m\n\u001b[1;32m    165\u001b[0m         \u001b[0;32melse\u001b[0m\u001b[0;34m:\u001b[0m\u001b[0;34m\u001b[0m\u001b[0;34m\u001b[0m\u001b[0m\n\u001b[0;32m--> 166\u001b[0;31m             \u001b[0moutput\u001b[0m \u001b[0;34m=\u001b[0m \u001b[0mmodule\u001b[0m\u001b[0;34m.\u001b[0m\u001b[0m_old_forward\u001b[0m\u001b[0;34m(\u001b[0m\u001b[0;34m*\u001b[0m\u001b[0margs\u001b[0m\u001b[0;34m,\u001b[0m \u001b[0;34m**\u001b[0m\u001b[0mkwargs\u001b[0m\u001b[0;34m)\u001b[0m\u001b[0;34m\u001b[0m\u001b[0;34m\u001b[0m\u001b[0m\n\u001b[0m\u001b[1;32m    167\u001b[0m         \u001b[0;32mreturn\u001b[0m \u001b[0mmodule\u001b[0m\u001b[0;34m.\u001b[0m\u001b[0m_hf_hook\u001b[0m\u001b[0;34m.\u001b[0m\u001b[0mpost_forward\u001b[0m\u001b[0;34m(\u001b[0m\u001b[0mmodule\u001b[0m\u001b[0;34m,\u001b[0m \u001b[0moutput\u001b[0m\u001b[0;34m)\u001b[0m\u001b[0;34m\u001b[0m\u001b[0;34m\u001b[0m\u001b[0m\n\u001b[1;32m    168\u001b[0m \u001b[0;34m\u001b[0m\u001b[0m\n",
            "\u001b[0;32m~/.cache/huggingface/modules/transformers_modules/Qwen/Qwen-7b-Chat/93a65d34827a3cc269b727e67004743b723e2f83/modeling_qwen.py\u001b[0m in \u001b[0;36mforward\u001b[0;34m(self, hidden_states)\u001b[0m\n\u001b[1;32m    570\u001b[0m     \u001b[0;32mdef\u001b[0m \u001b[0mforward\u001b[0m\u001b[0;34m(\u001b[0m\u001b[0mself\u001b[0m\u001b[0;34m,\u001b[0m \u001b[0mhidden_states\u001b[0m\u001b[0;34m)\u001b[0m\u001b[0;34m:\u001b[0m\u001b[0;34m\u001b[0m\u001b[0;34m\u001b[0m\u001b[0m\n\u001b[1;32m    571\u001b[0m         \u001b[0ma1\u001b[0m \u001b[0;34m=\u001b[0m \u001b[0mself\u001b[0m\u001b[0;34m.\u001b[0m\u001b[0mw1\u001b[0m\u001b[0;34m(\u001b[0m\u001b[0mhidden_states\u001b[0m\u001b[0;34m)\u001b[0m\u001b[0;34m\u001b[0m\u001b[0;34m\u001b[0m\u001b[0m\n\u001b[0;32m--> 572\u001b[0;31m         \u001b[0ma2\u001b[0m \u001b[0;34m=\u001b[0m \u001b[0mself\u001b[0m\u001b[0;34m.\u001b[0m\u001b[0mw2\u001b[0m\u001b[0;34m(\u001b[0m\u001b[0mhidden_states\u001b[0m\u001b[0;34m)\u001b[0m\u001b[0;34m\u001b[0m\u001b[0;34m\u001b[0m\u001b[0m\n\u001b[0m\u001b[1;32m    573\u001b[0m         \u001b[0mintermediate_parallel\u001b[0m \u001b[0;34m=\u001b[0m \u001b[0ma1\u001b[0m \u001b[0;34m*\u001b[0m \u001b[0mF\u001b[0m\u001b[0;34m.\u001b[0m\u001b[0msilu\u001b[0m\u001b[0;34m(\u001b[0m\u001b[0ma2\u001b[0m\u001b[0;34m)\u001b[0m\u001b[0;34m\u001b[0m\u001b[0;34m\u001b[0m\u001b[0m\n\u001b[1;32m    574\u001b[0m         \u001b[0moutput\u001b[0m \u001b[0;34m=\u001b[0m \u001b[0mself\u001b[0m\u001b[0;34m.\u001b[0m\u001b[0mc_proj\u001b[0m\u001b[0;34m(\u001b[0m\u001b[0mintermediate_parallel\u001b[0m\u001b[0;34m)\u001b[0m\u001b[0;34m\u001b[0m\u001b[0;34m\u001b[0m\u001b[0m\n",
            "\u001b[0;32m/usr/local/lib/python3.10/dist-packages/torch/nn/modules/module.py\u001b[0m in \u001b[0;36m_wrapped_call_impl\u001b[0;34m(self, *args, **kwargs)\u001b[0m\n\u001b[1;32m   1509\u001b[0m             \u001b[0;32mreturn\u001b[0m \u001b[0mself\u001b[0m\u001b[0;34m.\u001b[0m\u001b[0m_compiled_call_impl\u001b[0m\u001b[0;34m(\u001b[0m\u001b[0;34m*\u001b[0m\u001b[0margs\u001b[0m\u001b[0;34m,\u001b[0m \u001b[0;34m**\u001b[0m\u001b[0mkwargs\u001b[0m\u001b[0;34m)\u001b[0m  \u001b[0;31m# type: ignore[misc]\u001b[0m\u001b[0;34m\u001b[0m\u001b[0;34m\u001b[0m\u001b[0m\n\u001b[1;32m   1510\u001b[0m         \u001b[0;32melse\u001b[0m\u001b[0;34m:\u001b[0m\u001b[0;34m\u001b[0m\u001b[0;34m\u001b[0m\u001b[0m\n\u001b[0;32m-> 1511\u001b[0;31m             \u001b[0;32mreturn\u001b[0m \u001b[0mself\u001b[0m\u001b[0;34m.\u001b[0m\u001b[0m_call_impl\u001b[0m\u001b[0;34m(\u001b[0m\u001b[0;34m*\u001b[0m\u001b[0margs\u001b[0m\u001b[0;34m,\u001b[0m \u001b[0;34m**\u001b[0m\u001b[0mkwargs\u001b[0m\u001b[0;34m)\u001b[0m\u001b[0;34m\u001b[0m\u001b[0;34m\u001b[0m\u001b[0m\n\u001b[0m\u001b[1;32m   1512\u001b[0m \u001b[0;34m\u001b[0m\u001b[0m\n\u001b[1;32m   1513\u001b[0m     \u001b[0;32mdef\u001b[0m \u001b[0m_call_impl\u001b[0m\u001b[0;34m(\u001b[0m\u001b[0mself\u001b[0m\u001b[0;34m,\u001b[0m \u001b[0;34m*\u001b[0m\u001b[0margs\u001b[0m\u001b[0;34m,\u001b[0m \u001b[0;34m**\u001b[0m\u001b[0mkwargs\u001b[0m\u001b[0;34m)\u001b[0m\u001b[0;34m:\u001b[0m\u001b[0;34m\u001b[0m\u001b[0;34m\u001b[0m\u001b[0m\n",
            "\u001b[0;32m/usr/local/lib/python3.10/dist-packages/torch/nn/modules/module.py\u001b[0m in \u001b[0;36m_call_impl\u001b[0;34m(self, *args, **kwargs)\u001b[0m\n\u001b[1;32m   1518\u001b[0m                 \u001b[0;32mor\u001b[0m \u001b[0m_global_backward_pre_hooks\u001b[0m \u001b[0;32mor\u001b[0m \u001b[0m_global_backward_hooks\u001b[0m\u001b[0;34m\u001b[0m\u001b[0;34m\u001b[0m\u001b[0m\n\u001b[1;32m   1519\u001b[0m                 or _global_forward_hooks or _global_forward_pre_hooks):\n\u001b[0;32m-> 1520\u001b[0;31m             \u001b[0;32mreturn\u001b[0m \u001b[0mforward_call\u001b[0m\u001b[0;34m(\u001b[0m\u001b[0;34m*\u001b[0m\u001b[0margs\u001b[0m\u001b[0;34m,\u001b[0m \u001b[0;34m**\u001b[0m\u001b[0mkwargs\u001b[0m\u001b[0;34m)\u001b[0m\u001b[0;34m\u001b[0m\u001b[0;34m\u001b[0m\u001b[0m\n\u001b[0m\u001b[1;32m   1521\u001b[0m \u001b[0;34m\u001b[0m\u001b[0m\n\u001b[1;32m   1522\u001b[0m         \u001b[0;32mtry\u001b[0m\u001b[0;34m:\u001b[0m\u001b[0;34m\u001b[0m\u001b[0;34m\u001b[0m\u001b[0m\n",
            "\u001b[0;32m/usr/local/lib/python3.10/dist-packages/peft/tuners/adalora/bnb.py\u001b[0m in \u001b[0;36mforward\u001b[0;34m(self, x, *args, **kwargs)\u001b[0m\n\u001b[1;32m    138\u001b[0m                     \u001b[0moutput\u001b[0m \u001b[0;34m=\u001b[0m \u001b[0moutput\u001b[0m\u001b[0;34m.\u001b[0m\u001b[0mto\u001b[0m\u001b[0;34m(\u001b[0m\u001b[0mexpected_dtype\u001b[0m\u001b[0;34m)\u001b[0m\u001b[0;34m\u001b[0m\u001b[0;34m\u001b[0m\u001b[0m\n\u001b[1;32m    139\u001b[0m                 \u001b[0moutput\u001b[0m \u001b[0;34m=\u001b[0m \u001b[0moutput\u001b[0m \u001b[0;34m*\u001b[0m \u001b[0mscaling\u001b[0m \u001b[0;34m/\u001b[0m \u001b[0mranknum\u001b[0m\u001b[0;34m\u001b[0m\u001b[0;34m\u001b[0m\u001b[0m\n\u001b[0;32m--> 140\u001b[0;31m                 \u001b[0mresult\u001b[0m \u001b[0;34m+=\u001b[0m \u001b[0moutput\u001b[0m\u001b[0;34m\u001b[0m\u001b[0;34m\u001b[0m\u001b[0m\n\u001b[0m\u001b[1;32m    141\u001b[0m             \u001b[0;32mreturn\u001b[0m \u001b[0mresult\u001b[0m\u001b[0;34m\u001b[0m\u001b[0;34m\u001b[0m\u001b[0m\n\u001b[1;32m    142\u001b[0m \u001b[0;34m\u001b[0m\u001b[0m\n",
            "\u001b[0;31mKeyboardInterrupt\u001b[0m: "
          ]
        }
      ],
      "source": [
        "# keras_model.load_ckpt(ckpt_path) #支持加载微调后的权重继续训练(断点续训)\n",
        "keras_model.fit(train_data = dl_train,\n",
        "                val_data = dl_val,\n",
        "                epochs=100,patience=15,\n",
        "                monitor='val_loss',mode='min',\n",
        "                ckpt_path = ckpt_path\n",
        "               )"
      ]
    },
    {
      "cell_type": "markdown",
      "id": "49763c6a-6ee5-448c-b873-48825a6fba67",
      "metadata": {
        "id": "49763c6a-6ee5-448c-b873-48825a6fba67"
      },
      "source": [
        "## 四，保存模型"
      ]
    },
    {
      "cell_type": "markdown",
      "id": "6f98c4e5-dbb0-456e-bc4b-1c8dfccbd499",
      "metadata": {
        "id": "6f98c4e5-dbb0-456e-bc4b-1c8dfccbd499"
      },
      "source": [
        "为减少GPU压力，此处可重启kernel释放显存"
      ]
    },
    {
      "cell_type": "code",
      "execution_count": null,
      "id": "142a917e-9db0-4d5a-8352-cb250561f47d",
      "metadata": {
        "colab": {
          "base_uri": "https://localhost:8080/"
        },
        "id": "142a917e-9db0-4d5a-8352-cb250561f47d",
        "outputId": "64660c80-0c2f-43c8-ee0b-72819c87bc01"
      },
      "outputs": [
        {
          "output_type": "stream",
          "name": "stderr",
          "text": [
            "/usr/local/lib/python3.10/dist-packages/huggingface_hub/utils/_token.py:88: UserWarning: \n",
            "The secret `HF_TOKEN` does not exist in your Colab secrets.\n",
            "To authenticate with the Hugging Face Hub, create a token in your settings tab (https://huggingface.co/settings/tokens), set it as secret in your Google Colab and restart your session.\n",
            "You will be able to reuse this secret in all of your notebooks.\n",
            "Please note that authentication is recommended but still optional to access public models or datasets.\n",
            "  warnings.warn(\n",
            "WARNING:transformers_modules.Qwen.Qwen-7b-Chat.93a65d34827a3cc269b727e67004743b723e2f83.modeling_qwen:The model is automatically converting to fp16 for faster inference. If you want to disable the automatic precision, please manually add bf16/fp16/fp32=True to \"AutoModelForCausalLM.from_pretrained\".\n",
            "WARNING:transformers_modules.Qwen.Qwen-7b-Chat.93a65d34827a3cc269b727e67004743b723e2f83.modeling_qwen:Try importing flash-attention for faster inference...\n",
            "WARNING:transformers_modules.Qwen.Qwen-7b-Chat.93a65d34827a3cc269b727e67004743b723e2f83.modeling_qwen:Warning: import flash_attn rotary fail, please install FlashAttention rotary to get higher efficiency https://github.com/Dao-AILab/flash-attention/tree/main/csrc/rotary\n",
            "WARNING:transformers_modules.Qwen.Qwen-7b-Chat.93a65d34827a3cc269b727e67004743b723e2f83.modeling_qwen:Warning: import flash_attn rms_norm fail, please install FlashAttention layer_norm to get higher efficiency https://github.com/Dao-AILab/flash-attention/tree/main/csrc/layer_norm\n",
            "WARNING:transformers_modules.Qwen.Qwen-7b-Chat.93a65d34827a3cc269b727e67004743b723e2f83.modeling_qwen:Warning: import flash_attn fail, please install FlashAttention to get higher efficiency https://github.com/Dao-AILab/flash-attention\n"
          ]
        }
      ],
      "source": [
        "import torch\n",
        "from transformers import AutoTokenizer, AutoModelForCausalLM,AutoConfig, AutoModel, BitsAndBytesConfig\n",
        "from transformers.generation.utils import GenerationConfig\n",
        "import torch.nn as nn\n",
        "#使用QLoRA引入的 NF4量化数据类型以节约显存\n",
        "model_name_or_path ='Qwen/Qwen-7b-Chat'\n",
        "ckpt_path = 'qwen7b_multirounds'\n",
        "\n",
        "\n",
        "tokenizer = AutoTokenizer.from_pretrained(\n",
        "   model_name_or_path, trust_remote_code=True)\n",
        "\n",
        "model = AutoModelForCausalLM.from_pretrained(model_name_or_path,\n",
        "                trust_remote_code=True)\n",
        "\n",
        "model.generation_config = GenerationConfig.from_pretrained(model_name_or_path)"
      ]
    },
    {
      "cell_type": "code",
      "execution_count": 1,
      "id": "2a8b409f-f100-48c5-9794-62cb5bdf19d4",
      "metadata": {
        "colab": {
          "base_uri": "https://localhost:8080/",
          "height": 198
        },
        "id": "2a8b409f-f100-48c5-9794-62cb5bdf19d4",
        "outputId": "4edfbf78-3b6d-45e4-dbf2-06625675c7dd"
      },
      "outputs": [
        {
          "output_type": "error",
          "ename": "NameError",
          "evalue": "name 'model' is not defined",
          "traceback": [
            "\u001b[0;31m---------------------------------------------------------------------------\u001b[0m",
            "\u001b[0;31mNameError\u001b[0m                                 Traceback (most recent call last)",
            "\u001b[0;32m<ipython-input-1-8503499ddc8f>\u001b[0m in \u001b[0;36m<cell line: 4>\u001b[0;34m()\u001b[0m\n\u001b[1;32m      2\u001b[0m \u001b[0;34m\u001b[0m\u001b[0m\n\u001b[1;32m      3\u001b[0m \u001b[0;31m#可能需要5分钟左右\u001b[0m\u001b[0;34m\u001b[0m\u001b[0;34m\u001b[0m\u001b[0m\n\u001b[0;32m----> 4\u001b[0;31m \u001b[0mpeft_model\u001b[0m \u001b[0;34m=\u001b[0m \u001b[0mPeftModel\u001b[0m\u001b[0;34m.\u001b[0m\u001b[0mfrom_pretrained\u001b[0m\u001b[0;34m(\u001b[0m\u001b[0mmodel\u001b[0m\u001b[0;34m,\u001b[0m \u001b[0mckpt_path\u001b[0m\u001b[0;34m)\u001b[0m\u001b[0;34m\u001b[0m\u001b[0;34m\u001b[0m\u001b[0m\n\u001b[0m\u001b[1;32m      5\u001b[0m \u001b[0mmodel_new\u001b[0m \u001b[0;34m=\u001b[0m \u001b[0mpeft_model\u001b[0m\u001b[0;34m.\u001b[0m\u001b[0mmerge_and_unload\u001b[0m\u001b[0;34m(\u001b[0m\u001b[0;34m)\u001b[0m\u001b[0;34m\u001b[0m\u001b[0;34m\u001b[0m\u001b[0m\n",
            "\u001b[0;31mNameError\u001b[0m: name 'model' is not defined"
          ]
        }
      ],
      "source": [
        "from peft import PeftModel\n",
        "\n",
        "# 可能需要5分钟左右\n",
        "peft_model = PeftModel.from_pretrained(model, ckpt_path)\n",
        "model_new = peft_model.merge_and_unload()"
      ]
    },
    {
      "cell_type": "code",
      "execution_count": null,
      "id": "2c060b4a-7731-4ec7-8699-9f47088f4a2f",
      "metadata": {
        "id": "2c060b4a-7731-4ec7-8699-9f47088f4a2f"
      },
      "outputs": [],
      "source": [
        "from transformers.generation.utils import GenerationConfig\n",
        "model_new.generation_config = GenerationConfig.from_pretrained(model_name_or_path)\n"
      ]
    },
    {
      "cell_type": "code",
      "execution_count": null,
      "id": "ce165cd8-987d-47be-95ac-83cf7ef479b3",
      "metadata": {
        "id": "ce165cd8-987d-47be-95ac-83cf7ef479b3"
      },
      "outputs": [],
      "source": [
        "save_path = 'qwen_torchkeras'"
      ]
    },
    {
      "cell_type": "code",
      "execution_count": 2,
      "id": "9214d354-811b-4e47-96ac-682ed5e68ee9",
      "metadata": {
        "colab": {
          "base_uri": "https://localhost:8080/",
          "height": 163
        },
        "id": "9214d354-811b-4e47-96ac-682ed5e68ee9",
        "outputId": "00532273-7fea-4874-93ba-647062649631"
      },
      "outputs": [
        {
          "output_type": "error",
          "ename": "NameError",
          "evalue": "name 'tokenizer' is not defined",
          "traceback": [
            "\u001b[0;31m---------------------------------------------------------------------------\u001b[0m",
            "\u001b[0;31mNameError\u001b[0m                                 Traceback (most recent call last)",
            "\u001b[0;32m<ipython-input-2-5322074ea61f>\u001b[0m in \u001b[0;36m<cell line: 1>\u001b[0;34m()\u001b[0m\n\u001b[0;32m----> 1\u001b[0;31m \u001b[0mtokenizer\u001b[0m\u001b[0;34m.\u001b[0m\u001b[0msave_pretrained\u001b[0m\u001b[0;34m(\u001b[0m\u001b[0msave_path\u001b[0m\u001b[0;34m)\u001b[0m\u001b[0;34m\u001b[0m\u001b[0;34m\u001b[0m\u001b[0m\n\u001b[0m\u001b[1;32m      2\u001b[0m \u001b[0mmodel_new\u001b[0m\u001b[0;34m.\u001b[0m\u001b[0msave_pretrained\u001b[0m\u001b[0;34m(\u001b[0m\u001b[0msave_path\u001b[0m\u001b[0;34m)\u001b[0m\u001b[0;34m\u001b[0m\u001b[0;34m\u001b[0m\u001b[0m\n",
            "\u001b[0;31mNameError\u001b[0m: name 'tokenizer' is not defined"
          ]
        }
      ],
      "source": [
        "tokenizer.save_pretrained(save_path)\n",
        "model_new.save_pretrained(save_path)"
      ]
    },
    {
      "cell_type": "code",
      "execution_count": null,
      "id": "a7950603-e844-4d60-990d-f86245fbaa26",
      "metadata": {
        "id": "a7950603-e844-4d60-990d-f86245fbaa26"
      },
      "outputs": [],
      "source": [
        "!cp qwen_7b/*.py  qwen_torchkeras/"
      ]
    },
    {
      "cell_type": "code",
      "execution_count": null,
      "id": "e242ae9b-f79f-44eb-8c39-57d7423e8cf0",
      "metadata": {
        "id": "e242ae9b-f79f-44eb-8c39-57d7423e8cf0"
      },
      "outputs": [],
      "source": [
        "!ls  qwen_torchkeras"
      ]
    },
    {
      "cell_type": "markdown",
      "id": "81582c3e-28d3-4847-a84c-dc1b53aa0839",
      "metadata": {
        "id": "81582c3e-28d3-4847-a84c-dc1b53aa0839"
      },
      "source": [
        "## 五，使用模型"
      ]
    },
    {
      "cell_type": "markdown",
      "id": "52c57c2f-0e1a-4e77-b4e4-fefa210b1bb1",
      "metadata": {
        "id": "52c57c2f-0e1a-4e77-b4e4-fefa210b1bb1"
      },
      "source": [
        "为减少GPU压力，此处可再次重启kernel释放显存。"
      ]
    },
    {
      "cell_type": "code",
      "execution_count": null,
      "id": "89fc27d5-651e-437c-ab1c-adacb487a614",
      "metadata": {
        "id": "89fc27d5-651e-437c-ab1c-adacb487a614"
      },
      "outputs": [],
      "source": [
        "import warnings\n",
        "warnings.filterwarnings('ignore')\n"
      ]
    },
    {
      "cell_type": "code",
      "execution_count": null,
      "id": "29b638ed-c993-441c-b832-3bb629b88838",
      "metadata": {
        "id": "29b638ed-c993-441c-b832-3bb629b88838"
      },
      "outputs": [],
      "source": [
        "import torch\n",
        "from transformers import AutoTokenizer, AutoModelForCausalLM,AutoConfig, BitsAndBytesConfig\n",
        "from transformers.generation.utils import GenerationConfig\n",
        "import torch.nn as nn\n",
        "\n",
        "model_name_or_path =  'qwen_torchkeras'\n",
        "\n",
        "tokenizer = AutoTokenizer.from_pretrained(model_name_or_path, use_fast=False, trust_remote_code=True)\n",
        "model = AutoModelForCausalLM.from_pretrained(model_name_or_path, device_map=\"auto\",\n",
        "                                             torch_dtype=torch.float16, trust_remote_code=True)\n",
        "model.generation_config = GenerationConfig.from_pretrained(model_name_or_path)\n"
      ]
    },
    {
      "cell_type": "markdown",
      "id": "e63d6988-4cfd-46ba-8a5d-f11e5d183483",
      "metadata": {
        "id": "e63d6988-4cfd-46ba-8a5d-f11e5d183483"
      },
      "source": [
        "我们测试一下微调后的效果。"
      ]
    },
    {
      "cell_type": "code",
      "execution_count": null,
      "id": "c5a5cbf0-3e23-4a1f-9e93-34ba7ed6e3da",
      "metadata": {
        "id": "c5a5cbf0-3e23-4a1f-9e93-34ba7ed6e3da"
      },
      "outputs": [],
      "source": [
        "from torchkeras.chat import ChatLLM\n",
        "llm = ChatLLM(model,tokenizer)"
      ]
    },
    {
      "cell_type": "code",
      "execution_count": null,
      "id": "8781ff0b-559a-4aaa-b914-3854618f7551",
      "metadata": {
        "id": "8781ff0b-559a-4aaa-b914-3854618f7551"
      },
      "outputs": [],
      "source": [
        "%%chat\n",
        "你好，请介绍一下你自己"
      ]
    },
    {
      "cell_type": "code",
      "execution_count": null,
      "id": "8d09d03b-5743-45b3-8cac-1ba4422f2fc2",
      "metadata": {
        "id": "8d09d03b-5743-45b3-8cac-1ba4422f2fc2"
      },
      "outputs": [],
      "source": [
        "%%chat\n",
        "你能干嘛呀"
      ]
    },
    {
      "cell_type": "code",
      "execution_count": null,
      "id": "821c003b-3ba8-49ae-8752-51210c0657db",
      "metadata": {
        "id": "821c003b-3ba8-49ae-8752-51210c0657db"
      },
      "outputs": [],
      "source": [
        "%%chat\n",
        "你多大了呀"
      ]
    },
    {
      "cell_type": "markdown",
      "id": "0136dfea-ab5a-4c26-9176-388149866154",
      "metadata": {
        "id": "0136dfea-ab5a-4c26-9176-388149866154"
      },
      "source": [
        "非常棒，粗浅的测试表明，我们的多轮对话训练是成功的。已经在Qwen的自我认知中，种下了一颗梦中情炉的种子。😋😋"
      ]
    }
  ],
  "metadata": {
    "kernelspec": {
      "display_name": "Python 3",
      "name": "python3"
    },
    "language_info": {
      "codemirror_mode": {
        "name": "ipython",
        "version": 3
      },
      "file_extension": ".py",
      "mimetype": "text/x-python",
      "name": "python",
      "nbconvert_exporter": "python",
      "pygments_lexer": "ipython3",
      "version": "3.9.0"
    },
    "colab": {
      "provenance": []
    },
    "widgets": {
      "application/vnd.jupyter.widget-state+json": {
        "fb574e351db2406894905e291e0e1a8c": {
          "model_module": "@jupyter-widgets/controls",
          "model_name": "HBoxModel",
          "model_module_version": "1.5.0",
          "state": {
            "_dom_classes": [],
            "_model_module": "@jupyter-widgets/controls",
            "_model_module_version": "1.5.0",
            "_model_name": "HBoxModel",
            "_view_count": null,
            "_view_module": "@jupyter-widgets/controls",
            "_view_module_version": "1.5.0",
            "_view_name": "HBoxView",
            "box_style": "",
            "children": [
              "IPY_MODEL_e159b6f5a0b24fc38da3e6519af32aa3",
              "IPY_MODEL_b12d478f327848b7a87ccfb49bc4b7ab",
              "IPY_MODEL_7c3618abaa6946fa8b35c9b5084e11fd"
            ],
            "layout": "IPY_MODEL_43a6785ccc134b55859aafb39f1e7e50"
          }
        },
        "e159b6f5a0b24fc38da3e6519af32aa3": {
          "model_module": "@jupyter-widgets/controls",
          "model_name": "HTMLModel",
          "model_module_version": "1.5.0",
          "state": {
            "_dom_classes": [],
            "_model_module": "@jupyter-widgets/controls",
            "_model_module_version": "1.5.0",
            "_model_name": "HTMLModel",
            "_view_count": null,
            "_view_module": "@jupyter-widgets/controls",
            "_view_module_version": "1.5.0",
            "_view_name": "HTMLView",
            "description": "",
            "description_tooltip": null,
            "layout": "IPY_MODEL_29bcd33bc4054c78ba0a30d8b403d359",
            "placeholder": "​",
            "style": "IPY_MODEL_bdbd998dede84e20bdcf953ed578a74e",
            "value": "model.safetensors.index.json: 100%"
          }
        },
        "b12d478f327848b7a87ccfb49bc4b7ab": {
          "model_module": "@jupyter-widgets/controls",
          "model_name": "FloatProgressModel",
          "model_module_version": "1.5.0",
          "state": {
            "_dom_classes": [],
            "_model_module": "@jupyter-widgets/controls",
            "_model_module_version": "1.5.0",
            "_model_name": "FloatProgressModel",
            "_view_count": null,
            "_view_module": "@jupyter-widgets/controls",
            "_view_module_version": "1.5.0",
            "_view_name": "ProgressView",
            "bar_style": "success",
            "description": "",
            "description_tooltip": null,
            "layout": "IPY_MODEL_3631648568ca45c981a1ed56b66d2360",
            "max": 19547,
            "min": 0,
            "orientation": "horizontal",
            "style": "IPY_MODEL_2fe8e6e93b21448e8c9ebc7204db5a62",
            "value": 19547
          }
        },
        "7c3618abaa6946fa8b35c9b5084e11fd": {
          "model_module": "@jupyter-widgets/controls",
          "model_name": "HTMLModel",
          "model_module_version": "1.5.0",
          "state": {
            "_dom_classes": [],
            "_model_module": "@jupyter-widgets/controls",
            "_model_module_version": "1.5.0",
            "_model_name": "HTMLModel",
            "_view_count": null,
            "_view_module": "@jupyter-widgets/controls",
            "_view_module_version": "1.5.0",
            "_view_name": "HTMLView",
            "description": "",
            "description_tooltip": null,
            "layout": "IPY_MODEL_0c521a768eb54b6f863ee182f65e19a8",
            "placeholder": "​",
            "style": "IPY_MODEL_95f5603896bd4530a79a7e6943ac35be",
            "value": " 19.5k/19.5k [00:00&lt;00:00, 928kB/s]"
          }
        },
        "43a6785ccc134b55859aafb39f1e7e50": {
          "model_module": "@jupyter-widgets/base",
          "model_name": "LayoutModel",
          "model_module_version": "1.2.0",
          "state": {
            "_model_module": "@jupyter-widgets/base",
            "_model_module_version": "1.2.0",
            "_model_name": "LayoutModel",
            "_view_count": null,
            "_view_module": "@jupyter-widgets/base",
            "_view_module_version": "1.2.0",
            "_view_name": "LayoutView",
            "align_content": null,
            "align_items": null,
            "align_self": null,
            "border": null,
            "bottom": null,
            "display": null,
            "flex": null,
            "flex_flow": null,
            "grid_area": null,
            "grid_auto_columns": null,
            "grid_auto_flow": null,
            "grid_auto_rows": null,
            "grid_column": null,
            "grid_gap": null,
            "grid_row": null,
            "grid_template_areas": null,
            "grid_template_columns": null,
            "grid_template_rows": null,
            "height": null,
            "justify_content": null,
            "justify_items": null,
            "left": null,
            "margin": null,
            "max_height": null,
            "max_width": null,
            "min_height": null,
            "min_width": null,
            "object_fit": null,
            "object_position": null,
            "order": null,
            "overflow": null,
            "overflow_x": null,
            "overflow_y": null,
            "padding": null,
            "right": null,
            "top": null,
            "visibility": null,
            "width": null
          }
        },
        "29bcd33bc4054c78ba0a30d8b403d359": {
          "model_module": "@jupyter-widgets/base",
          "model_name": "LayoutModel",
          "model_module_version": "1.2.0",
          "state": {
            "_model_module": "@jupyter-widgets/base",
            "_model_module_version": "1.2.0",
            "_model_name": "LayoutModel",
            "_view_count": null,
            "_view_module": "@jupyter-widgets/base",
            "_view_module_version": "1.2.0",
            "_view_name": "LayoutView",
            "align_content": null,
            "align_items": null,
            "align_self": null,
            "border": null,
            "bottom": null,
            "display": null,
            "flex": null,
            "flex_flow": null,
            "grid_area": null,
            "grid_auto_columns": null,
            "grid_auto_flow": null,
            "grid_auto_rows": null,
            "grid_column": null,
            "grid_gap": null,
            "grid_row": null,
            "grid_template_areas": null,
            "grid_template_columns": null,
            "grid_template_rows": null,
            "height": null,
            "justify_content": null,
            "justify_items": null,
            "left": null,
            "margin": null,
            "max_height": null,
            "max_width": null,
            "min_height": null,
            "min_width": null,
            "object_fit": null,
            "object_position": null,
            "order": null,
            "overflow": null,
            "overflow_x": null,
            "overflow_y": null,
            "padding": null,
            "right": null,
            "top": null,
            "visibility": null,
            "width": null
          }
        },
        "bdbd998dede84e20bdcf953ed578a74e": {
          "model_module": "@jupyter-widgets/controls",
          "model_name": "DescriptionStyleModel",
          "model_module_version": "1.5.0",
          "state": {
            "_model_module": "@jupyter-widgets/controls",
            "_model_module_version": "1.5.0",
            "_model_name": "DescriptionStyleModel",
            "_view_count": null,
            "_view_module": "@jupyter-widgets/base",
            "_view_module_version": "1.2.0",
            "_view_name": "StyleView",
            "description_width": ""
          }
        },
        "3631648568ca45c981a1ed56b66d2360": {
          "model_module": "@jupyter-widgets/base",
          "model_name": "LayoutModel",
          "model_module_version": "1.2.0",
          "state": {
            "_model_module": "@jupyter-widgets/base",
            "_model_module_version": "1.2.0",
            "_model_name": "LayoutModel",
            "_view_count": null,
            "_view_module": "@jupyter-widgets/base",
            "_view_module_version": "1.2.0",
            "_view_name": "LayoutView",
            "align_content": null,
            "align_items": null,
            "align_self": null,
            "border": null,
            "bottom": null,
            "display": null,
            "flex": null,
            "flex_flow": null,
            "grid_area": null,
            "grid_auto_columns": null,
            "grid_auto_flow": null,
            "grid_auto_rows": null,
            "grid_column": null,
            "grid_gap": null,
            "grid_row": null,
            "grid_template_areas": null,
            "grid_template_columns": null,
            "grid_template_rows": null,
            "height": null,
            "justify_content": null,
            "justify_items": null,
            "left": null,
            "margin": null,
            "max_height": null,
            "max_width": null,
            "min_height": null,
            "min_width": null,
            "object_fit": null,
            "object_position": null,
            "order": null,
            "overflow": null,
            "overflow_x": null,
            "overflow_y": null,
            "padding": null,
            "right": null,
            "top": null,
            "visibility": null,
            "width": null
          }
        },
        "2fe8e6e93b21448e8c9ebc7204db5a62": {
          "model_module": "@jupyter-widgets/controls",
          "model_name": "ProgressStyleModel",
          "model_module_version": "1.5.0",
          "state": {
            "_model_module": "@jupyter-widgets/controls",
            "_model_module_version": "1.5.0",
            "_model_name": "ProgressStyleModel",
            "_view_count": null,
            "_view_module": "@jupyter-widgets/base",
            "_view_module_version": "1.2.0",
            "_view_name": "StyleView",
            "bar_color": null,
            "description_width": ""
          }
        },
        "0c521a768eb54b6f863ee182f65e19a8": {
          "model_module": "@jupyter-widgets/base",
          "model_name": "LayoutModel",
          "model_module_version": "1.2.0",
          "state": {
            "_model_module": "@jupyter-widgets/base",
            "_model_module_version": "1.2.0",
            "_model_name": "LayoutModel",
            "_view_count": null,
            "_view_module": "@jupyter-widgets/base",
            "_view_module_version": "1.2.0",
            "_view_name": "LayoutView",
            "align_content": null,
            "align_items": null,
            "align_self": null,
            "border": null,
            "bottom": null,
            "display": null,
            "flex": null,
            "flex_flow": null,
            "grid_area": null,
            "grid_auto_columns": null,
            "grid_auto_flow": null,
            "grid_auto_rows": null,
            "grid_column": null,
            "grid_gap": null,
            "grid_row": null,
            "grid_template_areas": null,
            "grid_template_columns": null,
            "grid_template_rows": null,
            "height": null,
            "justify_content": null,
            "justify_items": null,
            "left": null,
            "margin": null,
            "max_height": null,
            "max_width": null,
            "min_height": null,
            "min_width": null,
            "object_fit": null,
            "object_position": null,
            "order": null,
            "overflow": null,
            "overflow_x": null,
            "overflow_y": null,
            "padding": null,
            "right": null,
            "top": null,
            "visibility": null,
            "width": null
          }
        },
        "95f5603896bd4530a79a7e6943ac35be": {
          "model_module": "@jupyter-widgets/controls",
          "model_name": "DescriptionStyleModel",
          "model_module_version": "1.5.0",
          "state": {
            "_model_module": "@jupyter-widgets/controls",
            "_model_module_version": "1.5.0",
            "_model_name": "DescriptionStyleModel",
            "_view_count": null,
            "_view_module": "@jupyter-widgets/base",
            "_view_module_version": "1.2.0",
            "_view_name": "StyleView",
            "description_width": ""
          }
        },
        "5ce2a6185b1f4b35aa3fd3ca04218797": {
          "model_module": "@jupyter-widgets/controls",
          "model_name": "HBoxModel",
          "model_module_version": "1.5.0",
          "state": {
            "_dom_classes": [],
            "_model_module": "@jupyter-widgets/controls",
            "_model_module_version": "1.5.0",
            "_model_name": "HBoxModel",
            "_view_count": null,
            "_view_module": "@jupyter-widgets/controls",
            "_view_module_version": "1.5.0",
            "_view_name": "HBoxView",
            "box_style": "",
            "children": [
              "IPY_MODEL_dd003288fffe4172888e3f25f5e18608",
              "IPY_MODEL_326dfdd7a73f450db43a2acef2bad4c4",
              "IPY_MODEL_4acdcf6674f94e3492ae8c5617b981a4"
            ],
            "layout": "IPY_MODEL_43081c45c57f40548071e21dc93fdc11"
          }
        },
        "dd003288fffe4172888e3f25f5e18608": {
          "model_module": "@jupyter-widgets/controls",
          "model_name": "HTMLModel",
          "model_module_version": "1.5.0",
          "state": {
            "_dom_classes": [],
            "_model_module": "@jupyter-widgets/controls",
            "_model_module_version": "1.5.0",
            "_model_name": "HTMLModel",
            "_view_count": null,
            "_view_module": "@jupyter-widgets/controls",
            "_view_module_version": "1.5.0",
            "_view_name": "HTMLView",
            "description": "",
            "description_tooltip": null,
            "layout": "IPY_MODEL_9c765c21df364b348845d50181cc9aec",
            "placeholder": "​",
            "style": "IPY_MODEL_feaee5d3826f41b9b558278976b9d58c",
            "value": "Downloading shards: 100%"
          }
        },
        "326dfdd7a73f450db43a2acef2bad4c4": {
          "model_module": "@jupyter-widgets/controls",
          "model_name": "FloatProgressModel",
          "model_module_version": "1.5.0",
          "state": {
            "_dom_classes": [],
            "_model_module": "@jupyter-widgets/controls",
            "_model_module_version": "1.5.0",
            "_model_name": "FloatProgressModel",
            "_view_count": null,
            "_view_module": "@jupyter-widgets/controls",
            "_view_module_version": "1.5.0",
            "_view_name": "ProgressView",
            "bar_style": "success",
            "description": "",
            "description_tooltip": null,
            "layout": "IPY_MODEL_0f0323d1ed5c436988abdeb46f8dff2b",
            "max": 8,
            "min": 0,
            "orientation": "horizontal",
            "style": "IPY_MODEL_15ae15c8266843859e49f89e99505c24",
            "value": 8
          }
        },
        "4acdcf6674f94e3492ae8c5617b981a4": {
          "model_module": "@jupyter-widgets/controls",
          "model_name": "HTMLModel",
          "model_module_version": "1.5.0",
          "state": {
            "_dom_classes": [],
            "_model_module": "@jupyter-widgets/controls",
            "_model_module_version": "1.5.0",
            "_model_name": "HTMLModel",
            "_view_count": null,
            "_view_module": "@jupyter-widgets/controls",
            "_view_module_version": "1.5.0",
            "_view_name": "HTMLView",
            "description": "",
            "description_tooltip": null,
            "layout": "IPY_MODEL_59f4bb9e4e7e40efb87f4b98d4509e26",
            "placeholder": "​",
            "style": "IPY_MODEL_6642ada50d714904838fdad7066706e6",
            "value": " 8/8 [02:22&lt;00:00, 15.94s/it]"
          }
        },
        "43081c45c57f40548071e21dc93fdc11": {
          "model_module": "@jupyter-widgets/base",
          "model_name": "LayoutModel",
          "model_module_version": "1.2.0",
          "state": {
            "_model_module": "@jupyter-widgets/base",
            "_model_module_version": "1.2.0",
            "_model_name": "LayoutModel",
            "_view_count": null,
            "_view_module": "@jupyter-widgets/base",
            "_view_module_version": "1.2.0",
            "_view_name": "LayoutView",
            "align_content": null,
            "align_items": null,
            "align_self": null,
            "border": null,
            "bottom": null,
            "display": null,
            "flex": null,
            "flex_flow": null,
            "grid_area": null,
            "grid_auto_columns": null,
            "grid_auto_flow": null,
            "grid_auto_rows": null,
            "grid_column": null,
            "grid_gap": null,
            "grid_row": null,
            "grid_template_areas": null,
            "grid_template_columns": null,
            "grid_template_rows": null,
            "height": null,
            "justify_content": null,
            "justify_items": null,
            "left": null,
            "margin": null,
            "max_height": null,
            "max_width": null,
            "min_height": null,
            "min_width": null,
            "object_fit": null,
            "object_position": null,
            "order": null,
            "overflow": null,
            "overflow_x": null,
            "overflow_y": null,
            "padding": null,
            "right": null,
            "top": null,
            "visibility": null,
            "width": null
          }
        },
        "9c765c21df364b348845d50181cc9aec": {
          "model_module": "@jupyter-widgets/base",
          "model_name": "LayoutModel",
          "model_module_version": "1.2.0",
          "state": {
            "_model_module": "@jupyter-widgets/base",
            "_model_module_version": "1.2.0",
            "_model_name": "LayoutModel",
            "_view_count": null,
            "_view_module": "@jupyter-widgets/base",
            "_view_module_version": "1.2.0",
            "_view_name": "LayoutView",
            "align_content": null,
            "align_items": null,
            "align_self": null,
            "border": null,
            "bottom": null,
            "display": null,
            "flex": null,
            "flex_flow": null,
            "grid_area": null,
            "grid_auto_columns": null,
            "grid_auto_flow": null,
            "grid_auto_rows": null,
            "grid_column": null,
            "grid_gap": null,
            "grid_row": null,
            "grid_template_areas": null,
            "grid_template_columns": null,
            "grid_template_rows": null,
            "height": null,
            "justify_content": null,
            "justify_items": null,
            "left": null,
            "margin": null,
            "max_height": null,
            "max_width": null,
            "min_height": null,
            "min_width": null,
            "object_fit": null,
            "object_position": null,
            "order": null,
            "overflow": null,
            "overflow_x": null,
            "overflow_y": null,
            "padding": null,
            "right": null,
            "top": null,
            "visibility": null,
            "width": null
          }
        },
        "feaee5d3826f41b9b558278976b9d58c": {
          "model_module": "@jupyter-widgets/controls",
          "model_name": "DescriptionStyleModel",
          "model_module_version": "1.5.0",
          "state": {
            "_model_module": "@jupyter-widgets/controls",
            "_model_module_version": "1.5.0",
            "_model_name": "DescriptionStyleModel",
            "_view_count": null,
            "_view_module": "@jupyter-widgets/base",
            "_view_module_version": "1.2.0",
            "_view_name": "StyleView",
            "description_width": ""
          }
        },
        "0f0323d1ed5c436988abdeb46f8dff2b": {
          "model_module": "@jupyter-widgets/base",
          "model_name": "LayoutModel",
          "model_module_version": "1.2.0",
          "state": {
            "_model_module": "@jupyter-widgets/base",
            "_model_module_version": "1.2.0",
            "_model_name": "LayoutModel",
            "_view_count": null,
            "_view_module": "@jupyter-widgets/base",
            "_view_module_version": "1.2.0",
            "_view_name": "LayoutView",
            "align_content": null,
            "align_items": null,
            "align_self": null,
            "border": null,
            "bottom": null,
            "display": null,
            "flex": null,
            "flex_flow": null,
            "grid_area": null,
            "grid_auto_columns": null,
            "grid_auto_flow": null,
            "grid_auto_rows": null,
            "grid_column": null,
            "grid_gap": null,
            "grid_row": null,
            "grid_template_areas": null,
            "grid_template_columns": null,
            "grid_template_rows": null,
            "height": null,
            "justify_content": null,
            "justify_items": null,
            "left": null,
            "margin": null,
            "max_height": null,
            "max_width": null,
            "min_height": null,
            "min_width": null,
            "object_fit": null,
            "object_position": null,
            "order": null,
            "overflow": null,
            "overflow_x": null,
            "overflow_y": null,
            "padding": null,
            "right": null,
            "top": null,
            "visibility": null,
            "width": null
          }
        },
        "15ae15c8266843859e49f89e99505c24": {
          "model_module": "@jupyter-widgets/controls",
          "model_name": "ProgressStyleModel",
          "model_module_version": "1.5.0",
          "state": {
            "_model_module": "@jupyter-widgets/controls",
            "_model_module_version": "1.5.0",
            "_model_name": "ProgressStyleModel",
            "_view_count": null,
            "_view_module": "@jupyter-widgets/base",
            "_view_module_version": "1.2.0",
            "_view_name": "StyleView",
            "bar_color": null,
            "description_width": ""
          }
        },
        "59f4bb9e4e7e40efb87f4b98d4509e26": {
          "model_module": "@jupyter-widgets/base",
          "model_name": "LayoutModel",
          "model_module_version": "1.2.0",
          "state": {
            "_model_module": "@jupyter-widgets/base",
            "_model_module_version": "1.2.0",
            "_model_name": "LayoutModel",
            "_view_count": null,
            "_view_module": "@jupyter-widgets/base",
            "_view_module_version": "1.2.0",
            "_view_name": "LayoutView",
            "align_content": null,
            "align_items": null,
            "align_self": null,
            "border": null,
            "bottom": null,
            "display": null,
            "flex": null,
            "flex_flow": null,
            "grid_area": null,
            "grid_auto_columns": null,
            "grid_auto_flow": null,
            "grid_auto_rows": null,
            "grid_column": null,
            "grid_gap": null,
            "grid_row": null,
            "grid_template_areas": null,
            "grid_template_columns": null,
            "grid_template_rows": null,
            "height": null,
            "justify_content": null,
            "justify_items": null,
            "left": null,
            "margin": null,
            "max_height": null,
            "max_width": null,
            "min_height": null,
            "min_width": null,
            "object_fit": null,
            "object_position": null,
            "order": null,
            "overflow": null,
            "overflow_x": null,
            "overflow_y": null,
            "padding": null,
            "right": null,
            "top": null,
            "visibility": null,
            "width": null
          }
        },
        "6642ada50d714904838fdad7066706e6": {
          "model_module": "@jupyter-widgets/controls",
          "model_name": "DescriptionStyleModel",
          "model_module_version": "1.5.0",
          "state": {
            "_model_module": "@jupyter-widgets/controls",
            "_model_module_version": "1.5.0",
            "_model_name": "DescriptionStyleModel",
            "_view_count": null,
            "_view_module": "@jupyter-widgets/base",
            "_view_module_version": "1.2.0",
            "_view_name": "StyleView",
            "description_width": ""
          }
        },
        "2ae11288955b4317bd794e1a995d0173": {
          "model_module": "@jupyter-widgets/controls",
          "model_name": "HBoxModel",
          "model_module_version": "1.5.0",
          "state": {
            "_dom_classes": [],
            "_model_module": "@jupyter-widgets/controls",
            "_model_module_version": "1.5.0",
            "_model_name": "HBoxModel",
            "_view_count": null,
            "_view_module": "@jupyter-widgets/controls",
            "_view_module_version": "1.5.0",
            "_view_name": "HBoxView",
            "box_style": "",
            "children": [
              "IPY_MODEL_e745b61056184448bdee38f338ebb5bb",
              "IPY_MODEL_246dade439be4ea4ad1007e229d92fd8",
              "IPY_MODEL_ab6f8d3c89484ef69254c7b8e8df73fc"
            ],
            "layout": "IPY_MODEL_0803efeaa71c4883b6a0a8eeafee4b2a"
          }
        },
        "e745b61056184448bdee38f338ebb5bb": {
          "model_module": "@jupyter-widgets/controls",
          "model_name": "HTMLModel",
          "model_module_version": "1.5.0",
          "state": {
            "_dom_classes": [],
            "_model_module": "@jupyter-widgets/controls",
            "_model_module_version": "1.5.0",
            "_model_name": "HTMLModel",
            "_view_count": null,
            "_view_module": "@jupyter-widgets/controls",
            "_view_module_version": "1.5.0",
            "_view_name": "HTMLView",
            "description": "",
            "description_tooltip": null,
            "layout": "IPY_MODEL_002e2903be8445ee8b3c0d12397723ac",
            "placeholder": "​",
            "style": "IPY_MODEL_669a44fbf1084073a6581db4d80a6818",
            "value": "model-00001-of-00008.safetensors: 100%"
          }
        },
        "246dade439be4ea4ad1007e229d92fd8": {
          "model_module": "@jupyter-widgets/controls",
          "model_name": "FloatProgressModel",
          "model_module_version": "1.5.0",
          "state": {
            "_dom_classes": [],
            "_model_module": "@jupyter-widgets/controls",
            "_model_module_version": "1.5.0",
            "_model_name": "FloatProgressModel",
            "_view_count": null,
            "_view_module": "@jupyter-widgets/controls",
            "_view_module_version": "1.5.0",
            "_view_name": "ProgressView",
            "bar_style": "success",
            "description": "",
            "description_tooltip": null,
            "layout": "IPY_MODEL_abe0dac17d5345558bdde405d48a94be",
            "max": 1964066488,
            "min": 0,
            "orientation": "horizontal",
            "style": "IPY_MODEL_18aae1bde24248a58cbbc8a28a762e53",
            "value": 1964066488
          }
        },
        "ab6f8d3c89484ef69254c7b8e8df73fc": {
          "model_module": "@jupyter-widgets/controls",
          "model_name": "HTMLModel",
          "model_module_version": "1.5.0",
          "state": {
            "_dom_classes": [],
            "_model_module": "@jupyter-widgets/controls",
            "_model_module_version": "1.5.0",
            "_model_name": "HTMLModel",
            "_view_count": null,
            "_view_module": "@jupyter-widgets/controls",
            "_view_module_version": "1.5.0",
            "_view_name": "HTMLView",
            "description": "",
            "description_tooltip": null,
            "layout": "IPY_MODEL_07910febae4043c8964730ff9448bd5e",
            "placeholder": "​",
            "style": "IPY_MODEL_cc60ff2fe84c436abbdc28cee00d2e4c",
            "value": " 1.96G/1.96G [00:23&lt;00:00, 73.3MB/s]"
          }
        },
        "0803efeaa71c4883b6a0a8eeafee4b2a": {
          "model_module": "@jupyter-widgets/base",
          "model_name": "LayoutModel",
          "model_module_version": "1.2.0",
          "state": {
            "_model_module": "@jupyter-widgets/base",
            "_model_module_version": "1.2.0",
            "_model_name": "LayoutModel",
            "_view_count": null,
            "_view_module": "@jupyter-widgets/base",
            "_view_module_version": "1.2.0",
            "_view_name": "LayoutView",
            "align_content": null,
            "align_items": null,
            "align_self": null,
            "border": null,
            "bottom": null,
            "display": null,
            "flex": null,
            "flex_flow": null,
            "grid_area": null,
            "grid_auto_columns": null,
            "grid_auto_flow": null,
            "grid_auto_rows": null,
            "grid_column": null,
            "grid_gap": null,
            "grid_row": null,
            "grid_template_areas": null,
            "grid_template_columns": null,
            "grid_template_rows": null,
            "height": null,
            "justify_content": null,
            "justify_items": null,
            "left": null,
            "margin": null,
            "max_height": null,
            "max_width": null,
            "min_height": null,
            "min_width": null,
            "object_fit": null,
            "object_position": null,
            "order": null,
            "overflow": null,
            "overflow_x": null,
            "overflow_y": null,
            "padding": null,
            "right": null,
            "top": null,
            "visibility": null,
            "width": null
          }
        },
        "002e2903be8445ee8b3c0d12397723ac": {
          "model_module": "@jupyter-widgets/base",
          "model_name": "LayoutModel",
          "model_module_version": "1.2.0",
          "state": {
            "_model_module": "@jupyter-widgets/base",
            "_model_module_version": "1.2.0",
            "_model_name": "LayoutModel",
            "_view_count": null,
            "_view_module": "@jupyter-widgets/base",
            "_view_module_version": "1.2.0",
            "_view_name": "LayoutView",
            "align_content": null,
            "align_items": null,
            "align_self": null,
            "border": null,
            "bottom": null,
            "display": null,
            "flex": null,
            "flex_flow": null,
            "grid_area": null,
            "grid_auto_columns": null,
            "grid_auto_flow": null,
            "grid_auto_rows": null,
            "grid_column": null,
            "grid_gap": null,
            "grid_row": null,
            "grid_template_areas": null,
            "grid_template_columns": null,
            "grid_template_rows": null,
            "height": null,
            "justify_content": null,
            "justify_items": null,
            "left": null,
            "margin": null,
            "max_height": null,
            "max_width": null,
            "min_height": null,
            "min_width": null,
            "object_fit": null,
            "object_position": null,
            "order": null,
            "overflow": null,
            "overflow_x": null,
            "overflow_y": null,
            "padding": null,
            "right": null,
            "top": null,
            "visibility": null,
            "width": null
          }
        },
        "669a44fbf1084073a6581db4d80a6818": {
          "model_module": "@jupyter-widgets/controls",
          "model_name": "DescriptionStyleModel",
          "model_module_version": "1.5.0",
          "state": {
            "_model_module": "@jupyter-widgets/controls",
            "_model_module_version": "1.5.0",
            "_model_name": "DescriptionStyleModel",
            "_view_count": null,
            "_view_module": "@jupyter-widgets/base",
            "_view_module_version": "1.2.0",
            "_view_name": "StyleView",
            "description_width": ""
          }
        },
        "abe0dac17d5345558bdde405d48a94be": {
          "model_module": "@jupyter-widgets/base",
          "model_name": "LayoutModel",
          "model_module_version": "1.2.0",
          "state": {
            "_model_module": "@jupyter-widgets/base",
            "_model_module_version": "1.2.0",
            "_model_name": "LayoutModel",
            "_view_count": null,
            "_view_module": "@jupyter-widgets/base",
            "_view_module_version": "1.2.0",
            "_view_name": "LayoutView",
            "align_content": null,
            "align_items": null,
            "align_self": null,
            "border": null,
            "bottom": null,
            "display": null,
            "flex": null,
            "flex_flow": null,
            "grid_area": null,
            "grid_auto_columns": null,
            "grid_auto_flow": null,
            "grid_auto_rows": null,
            "grid_column": null,
            "grid_gap": null,
            "grid_row": null,
            "grid_template_areas": null,
            "grid_template_columns": null,
            "grid_template_rows": null,
            "height": null,
            "justify_content": null,
            "justify_items": null,
            "left": null,
            "margin": null,
            "max_height": null,
            "max_width": null,
            "min_height": null,
            "min_width": null,
            "object_fit": null,
            "object_position": null,
            "order": null,
            "overflow": null,
            "overflow_x": null,
            "overflow_y": null,
            "padding": null,
            "right": null,
            "top": null,
            "visibility": null,
            "width": null
          }
        },
        "18aae1bde24248a58cbbc8a28a762e53": {
          "model_module": "@jupyter-widgets/controls",
          "model_name": "ProgressStyleModel",
          "model_module_version": "1.5.0",
          "state": {
            "_model_module": "@jupyter-widgets/controls",
            "_model_module_version": "1.5.0",
            "_model_name": "ProgressStyleModel",
            "_view_count": null,
            "_view_module": "@jupyter-widgets/base",
            "_view_module_version": "1.2.0",
            "_view_name": "StyleView",
            "bar_color": null,
            "description_width": ""
          }
        },
        "07910febae4043c8964730ff9448bd5e": {
          "model_module": "@jupyter-widgets/base",
          "model_name": "LayoutModel",
          "model_module_version": "1.2.0",
          "state": {
            "_model_module": "@jupyter-widgets/base",
            "_model_module_version": "1.2.0",
            "_model_name": "LayoutModel",
            "_view_count": null,
            "_view_module": "@jupyter-widgets/base",
            "_view_module_version": "1.2.0",
            "_view_name": "LayoutView",
            "align_content": null,
            "align_items": null,
            "align_self": null,
            "border": null,
            "bottom": null,
            "display": null,
            "flex": null,
            "flex_flow": null,
            "grid_area": null,
            "grid_auto_columns": null,
            "grid_auto_flow": null,
            "grid_auto_rows": null,
            "grid_column": null,
            "grid_gap": null,
            "grid_row": null,
            "grid_template_areas": null,
            "grid_template_columns": null,
            "grid_template_rows": null,
            "height": null,
            "justify_content": null,
            "justify_items": null,
            "left": null,
            "margin": null,
            "max_height": null,
            "max_width": null,
            "min_height": null,
            "min_width": null,
            "object_fit": null,
            "object_position": null,
            "order": null,
            "overflow": null,
            "overflow_x": null,
            "overflow_y": null,
            "padding": null,
            "right": null,
            "top": null,
            "visibility": null,
            "width": null
          }
        },
        "cc60ff2fe84c436abbdc28cee00d2e4c": {
          "model_module": "@jupyter-widgets/controls",
          "model_name": "DescriptionStyleModel",
          "model_module_version": "1.5.0",
          "state": {
            "_model_module": "@jupyter-widgets/controls",
            "_model_module_version": "1.5.0",
            "_model_name": "DescriptionStyleModel",
            "_view_count": null,
            "_view_module": "@jupyter-widgets/base",
            "_view_module_version": "1.2.0",
            "_view_name": "StyleView",
            "description_width": ""
          }
        },
        "e42405ac9ef44bc3b116c7fd83e4386d": {
          "model_module": "@jupyter-widgets/controls",
          "model_name": "HBoxModel",
          "model_module_version": "1.5.0",
          "state": {
            "_dom_classes": [],
            "_model_module": "@jupyter-widgets/controls",
            "_model_module_version": "1.5.0",
            "_model_name": "HBoxModel",
            "_view_count": null,
            "_view_module": "@jupyter-widgets/controls",
            "_view_module_version": "1.5.0",
            "_view_name": "HBoxView",
            "box_style": "",
            "children": [
              "IPY_MODEL_83899c4091284ca4876955a3482c7f08",
              "IPY_MODEL_110886bc30764c85bcb0f5744d5d2d4a",
              "IPY_MODEL_4be52ce01a8d4f3d86932b77b1d886ef"
            ],
            "layout": "IPY_MODEL_c7cd932cf0c446ada37959f6704a32fd"
          }
        },
        "83899c4091284ca4876955a3482c7f08": {
          "model_module": "@jupyter-widgets/controls",
          "model_name": "HTMLModel",
          "model_module_version": "1.5.0",
          "state": {
            "_dom_classes": [],
            "_model_module": "@jupyter-widgets/controls",
            "_model_module_version": "1.5.0",
            "_model_name": "HTMLModel",
            "_view_count": null,
            "_view_module": "@jupyter-widgets/controls",
            "_view_module_version": "1.5.0",
            "_view_name": "HTMLView",
            "description": "",
            "description_tooltip": null,
            "layout": "IPY_MODEL_0c24356c5c694e2199c6691191dc1ab8",
            "placeholder": "​",
            "style": "IPY_MODEL_307245831ed94fa58d9e64b90d841796",
            "value": "model-00002-of-00008.safetensors: 100%"
          }
        },
        "110886bc30764c85bcb0f5744d5d2d4a": {
          "model_module": "@jupyter-widgets/controls",
          "model_name": "FloatProgressModel",
          "model_module_version": "1.5.0",
          "state": {
            "_dom_classes": [],
            "_model_module": "@jupyter-widgets/controls",
            "_model_module_version": "1.5.0",
            "_model_name": "FloatProgressModel",
            "_view_count": null,
            "_view_module": "@jupyter-widgets/controls",
            "_view_module_version": "1.5.0",
            "_view_name": "ProgressView",
            "bar_style": "success",
            "description": "",
            "description_tooltip": null,
            "layout": "IPY_MODEL_d9a96adde1d441349049a5f8c9729654",
            "max": 2023960808,
            "min": 0,
            "orientation": "horizontal",
            "style": "IPY_MODEL_48cb36548ae544a7980bd3c66d49f261",
            "value": 2023960808
          }
        },
        "4be52ce01a8d4f3d86932b77b1d886ef": {
          "model_module": "@jupyter-widgets/controls",
          "model_name": "HTMLModel",
          "model_module_version": "1.5.0",
          "state": {
            "_dom_classes": [],
            "_model_module": "@jupyter-widgets/controls",
            "_model_module_version": "1.5.0",
            "_model_name": "HTMLModel",
            "_view_count": null,
            "_view_module": "@jupyter-widgets/controls",
            "_view_module_version": "1.5.0",
            "_view_name": "HTMLView",
            "description": "",
            "description_tooltip": null,
            "layout": "IPY_MODEL_e031eb11ad414ef8a5f139d6c481b7af",
            "placeholder": "​",
            "style": "IPY_MODEL_b8e0326f63764be2bef55b80b1ec1024",
            "value": " 2.02G/2.02G [00:18&lt;00:00, 178MB/s]"
          }
        },
        "c7cd932cf0c446ada37959f6704a32fd": {
          "model_module": "@jupyter-widgets/base",
          "model_name": "LayoutModel",
          "model_module_version": "1.2.0",
          "state": {
            "_model_module": "@jupyter-widgets/base",
            "_model_module_version": "1.2.0",
            "_model_name": "LayoutModel",
            "_view_count": null,
            "_view_module": "@jupyter-widgets/base",
            "_view_module_version": "1.2.0",
            "_view_name": "LayoutView",
            "align_content": null,
            "align_items": null,
            "align_self": null,
            "border": null,
            "bottom": null,
            "display": null,
            "flex": null,
            "flex_flow": null,
            "grid_area": null,
            "grid_auto_columns": null,
            "grid_auto_flow": null,
            "grid_auto_rows": null,
            "grid_column": null,
            "grid_gap": null,
            "grid_row": null,
            "grid_template_areas": null,
            "grid_template_columns": null,
            "grid_template_rows": null,
            "height": null,
            "justify_content": null,
            "justify_items": null,
            "left": null,
            "margin": null,
            "max_height": null,
            "max_width": null,
            "min_height": null,
            "min_width": null,
            "object_fit": null,
            "object_position": null,
            "order": null,
            "overflow": null,
            "overflow_x": null,
            "overflow_y": null,
            "padding": null,
            "right": null,
            "top": null,
            "visibility": null,
            "width": null
          }
        },
        "0c24356c5c694e2199c6691191dc1ab8": {
          "model_module": "@jupyter-widgets/base",
          "model_name": "LayoutModel",
          "model_module_version": "1.2.0",
          "state": {
            "_model_module": "@jupyter-widgets/base",
            "_model_module_version": "1.2.0",
            "_model_name": "LayoutModel",
            "_view_count": null,
            "_view_module": "@jupyter-widgets/base",
            "_view_module_version": "1.2.0",
            "_view_name": "LayoutView",
            "align_content": null,
            "align_items": null,
            "align_self": null,
            "border": null,
            "bottom": null,
            "display": null,
            "flex": null,
            "flex_flow": null,
            "grid_area": null,
            "grid_auto_columns": null,
            "grid_auto_flow": null,
            "grid_auto_rows": null,
            "grid_column": null,
            "grid_gap": null,
            "grid_row": null,
            "grid_template_areas": null,
            "grid_template_columns": null,
            "grid_template_rows": null,
            "height": null,
            "justify_content": null,
            "justify_items": null,
            "left": null,
            "margin": null,
            "max_height": null,
            "max_width": null,
            "min_height": null,
            "min_width": null,
            "object_fit": null,
            "object_position": null,
            "order": null,
            "overflow": null,
            "overflow_x": null,
            "overflow_y": null,
            "padding": null,
            "right": null,
            "top": null,
            "visibility": null,
            "width": null
          }
        },
        "307245831ed94fa58d9e64b90d841796": {
          "model_module": "@jupyter-widgets/controls",
          "model_name": "DescriptionStyleModel",
          "model_module_version": "1.5.0",
          "state": {
            "_model_module": "@jupyter-widgets/controls",
            "_model_module_version": "1.5.0",
            "_model_name": "DescriptionStyleModel",
            "_view_count": null,
            "_view_module": "@jupyter-widgets/base",
            "_view_module_version": "1.2.0",
            "_view_name": "StyleView",
            "description_width": ""
          }
        },
        "d9a96adde1d441349049a5f8c9729654": {
          "model_module": "@jupyter-widgets/base",
          "model_name": "LayoutModel",
          "model_module_version": "1.2.0",
          "state": {
            "_model_module": "@jupyter-widgets/base",
            "_model_module_version": "1.2.0",
            "_model_name": "LayoutModel",
            "_view_count": null,
            "_view_module": "@jupyter-widgets/base",
            "_view_module_version": "1.2.0",
            "_view_name": "LayoutView",
            "align_content": null,
            "align_items": null,
            "align_self": null,
            "border": null,
            "bottom": null,
            "display": null,
            "flex": null,
            "flex_flow": null,
            "grid_area": null,
            "grid_auto_columns": null,
            "grid_auto_flow": null,
            "grid_auto_rows": null,
            "grid_column": null,
            "grid_gap": null,
            "grid_row": null,
            "grid_template_areas": null,
            "grid_template_columns": null,
            "grid_template_rows": null,
            "height": null,
            "justify_content": null,
            "justify_items": null,
            "left": null,
            "margin": null,
            "max_height": null,
            "max_width": null,
            "min_height": null,
            "min_width": null,
            "object_fit": null,
            "object_position": null,
            "order": null,
            "overflow": null,
            "overflow_x": null,
            "overflow_y": null,
            "padding": null,
            "right": null,
            "top": null,
            "visibility": null,
            "width": null
          }
        },
        "48cb36548ae544a7980bd3c66d49f261": {
          "model_module": "@jupyter-widgets/controls",
          "model_name": "ProgressStyleModel",
          "model_module_version": "1.5.0",
          "state": {
            "_model_module": "@jupyter-widgets/controls",
            "_model_module_version": "1.5.0",
            "_model_name": "ProgressStyleModel",
            "_view_count": null,
            "_view_module": "@jupyter-widgets/base",
            "_view_module_version": "1.2.0",
            "_view_name": "StyleView",
            "bar_color": null,
            "description_width": ""
          }
        },
        "e031eb11ad414ef8a5f139d6c481b7af": {
          "model_module": "@jupyter-widgets/base",
          "model_name": "LayoutModel",
          "model_module_version": "1.2.0",
          "state": {
            "_model_module": "@jupyter-widgets/base",
            "_model_module_version": "1.2.0",
            "_model_name": "LayoutModel",
            "_view_count": null,
            "_view_module": "@jupyter-widgets/base",
            "_view_module_version": "1.2.0",
            "_view_name": "LayoutView",
            "align_content": null,
            "align_items": null,
            "align_self": null,
            "border": null,
            "bottom": null,
            "display": null,
            "flex": null,
            "flex_flow": null,
            "grid_area": null,
            "grid_auto_columns": null,
            "grid_auto_flow": null,
            "grid_auto_rows": null,
            "grid_column": null,
            "grid_gap": null,
            "grid_row": null,
            "grid_template_areas": null,
            "grid_template_columns": null,
            "grid_template_rows": null,
            "height": null,
            "justify_content": null,
            "justify_items": null,
            "left": null,
            "margin": null,
            "max_height": null,
            "max_width": null,
            "min_height": null,
            "min_width": null,
            "object_fit": null,
            "object_position": null,
            "order": null,
            "overflow": null,
            "overflow_x": null,
            "overflow_y": null,
            "padding": null,
            "right": null,
            "top": null,
            "visibility": null,
            "width": null
          }
        },
        "b8e0326f63764be2bef55b80b1ec1024": {
          "model_module": "@jupyter-widgets/controls",
          "model_name": "DescriptionStyleModel",
          "model_module_version": "1.5.0",
          "state": {
            "_model_module": "@jupyter-widgets/controls",
            "_model_module_version": "1.5.0",
            "_model_name": "DescriptionStyleModel",
            "_view_count": null,
            "_view_module": "@jupyter-widgets/base",
            "_view_module_version": "1.2.0",
            "_view_name": "StyleView",
            "description_width": ""
          }
        },
        "7916f23dbab14fc0ac6f1e44e1afd43c": {
          "model_module": "@jupyter-widgets/controls",
          "model_name": "HBoxModel",
          "model_module_version": "1.5.0",
          "state": {
            "_dom_classes": [],
            "_model_module": "@jupyter-widgets/controls",
            "_model_module_version": "1.5.0",
            "_model_name": "HBoxModel",
            "_view_count": null,
            "_view_module": "@jupyter-widgets/controls",
            "_view_module_version": "1.5.0",
            "_view_name": "HBoxView",
            "box_style": "",
            "children": [
              "IPY_MODEL_a0ee8d8a12974d36b2ab1176414f0187",
              "IPY_MODEL_c4b2c87162314a78b91dddc6ddb489df",
              "IPY_MODEL_e5d26022ebb147d58b7e4db37322560b"
            ],
            "layout": "IPY_MODEL_2455f4d320824ac790e96b0e88de354c"
          }
        },
        "a0ee8d8a12974d36b2ab1176414f0187": {
          "model_module": "@jupyter-widgets/controls",
          "model_name": "HTMLModel",
          "model_module_version": "1.5.0",
          "state": {
            "_dom_classes": [],
            "_model_module": "@jupyter-widgets/controls",
            "_model_module_version": "1.5.0",
            "_model_name": "HTMLModel",
            "_view_count": null,
            "_view_module": "@jupyter-widgets/controls",
            "_view_module_version": "1.5.0",
            "_view_name": "HTMLView",
            "description": "",
            "description_tooltip": null,
            "layout": "IPY_MODEL_a8af4c750c9449a5be97db5ac0c31635",
            "placeholder": "​",
            "style": "IPY_MODEL_e071bf2b20e14d45bbca8af8cfc7eb30",
            "value": "model-00003-of-00008.safetensors: 100%"
          }
        },
        "c4b2c87162314a78b91dddc6ddb489df": {
          "model_module": "@jupyter-widgets/controls",
          "model_name": "FloatProgressModel",
          "model_module_version": "1.5.0",
          "state": {
            "_dom_classes": [],
            "_model_module": "@jupyter-widgets/controls",
            "_model_module_version": "1.5.0",
            "_model_name": "FloatProgressModel",
            "_view_count": null,
            "_view_module": "@jupyter-widgets/controls",
            "_view_module_version": "1.5.0",
            "_view_name": "ProgressView",
            "bar_style": "success",
            "description": "",
            "description_tooltip": null,
            "layout": "IPY_MODEL_cb18584850534486886affe71196f068",
            "max": 2023960816,
            "min": 0,
            "orientation": "horizontal",
            "style": "IPY_MODEL_e3008cbe9b504a0cbdc7b63b83c95cee",
            "value": 2023960816
          }
        },
        "e5d26022ebb147d58b7e4db37322560b": {
          "model_module": "@jupyter-widgets/controls",
          "model_name": "HTMLModel",
          "model_module_version": "1.5.0",
          "state": {
            "_dom_classes": [],
            "_model_module": "@jupyter-widgets/controls",
            "_model_module_version": "1.5.0",
            "_model_name": "HTMLModel",
            "_view_count": null,
            "_view_module": "@jupyter-widgets/controls",
            "_view_module_version": "1.5.0",
            "_view_name": "HTMLView",
            "description": "",
            "description_tooltip": null,
            "layout": "IPY_MODEL_2422ae24f43b4217b0d16afc01b92186",
            "placeholder": "​",
            "style": "IPY_MODEL_56185f82a35844428dd23b21409e9db1",
            "value": " 2.02G/2.02G [00:17&lt;00:00, 168MB/s]"
          }
        },
        "2455f4d320824ac790e96b0e88de354c": {
          "model_module": "@jupyter-widgets/base",
          "model_name": "LayoutModel",
          "model_module_version": "1.2.0",
          "state": {
            "_model_module": "@jupyter-widgets/base",
            "_model_module_version": "1.2.0",
            "_model_name": "LayoutModel",
            "_view_count": null,
            "_view_module": "@jupyter-widgets/base",
            "_view_module_version": "1.2.0",
            "_view_name": "LayoutView",
            "align_content": null,
            "align_items": null,
            "align_self": null,
            "border": null,
            "bottom": null,
            "display": null,
            "flex": null,
            "flex_flow": null,
            "grid_area": null,
            "grid_auto_columns": null,
            "grid_auto_flow": null,
            "grid_auto_rows": null,
            "grid_column": null,
            "grid_gap": null,
            "grid_row": null,
            "grid_template_areas": null,
            "grid_template_columns": null,
            "grid_template_rows": null,
            "height": null,
            "justify_content": null,
            "justify_items": null,
            "left": null,
            "margin": null,
            "max_height": null,
            "max_width": null,
            "min_height": null,
            "min_width": null,
            "object_fit": null,
            "object_position": null,
            "order": null,
            "overflow": null,
            "overflow_x": null,
            "overflow_y": null,
            "padding": null,
            "right": null,
            "top": null,
            "visibility": null,
            "width": null
          }
        },
        "a8af4c750c9449a5be97db5ac0c31635": {
          "model_module": "@jupyter-widgets/base",
          "model_name": "LayoutModel",
          "model_module_version": "1.2.0",
          "state": {
            "_model_module": "@jupyter-widgets/base",
            "_model_module_version": "1.2.0",
            "_model_name": "LayoutModel",
            "_view_count": null,
            "_view_module": "@jupyter-widgets/base",
            "_view_module_version": "1.2.0",
            "_view_name": "LayoutView",
            "align_content": null,
            "align_items": null,
            "align_self": null,
            "border": null,
            "bottom": null,
            "display": null,
            "flex": null,
            "flex_flow": null,
            "grid_area": null,
            "grid_auto_columns": null,
            "grid_auto_flow": null,
            "grid_auto_rows": null,
            "grid_column": null,
            "grid_gap": null,
            "grid_row": null,
            "grid_template_areas": null,
            "grid_template_columns": null,
            "grid_template_rows": null,
            "height": null,
            "justify_content": null,
            "justify_items": null,
            "left": null,
            "margin": null,
            "max_height": null,
            "max_width": null,
            "min_height": null,
            "min_width": null,
            "object_fit": null,
            "object_position": null,
            "order": null,
            "overflow": null,
            "overflow_x": null,
            "overflow_y": null,
            "padding": null,
            "right": null,
            "top": null,
            "visibility": null,
            "width": null
          }
        },
        "e071bf2b20e14d45bbca8af8cfc7eb30": {
          "model_module": "@jupyter-widgets/controls",
          "model_name": "DescriptionStyleModel",
          "model_module_version": "1.5.0",
          "state": {
            "_model_module": "@jupyter-widgets/controls",
            "_model_module_version": "1.5.0",
            "_model_name": "DescriptionStyleModel",
            "_view_count": null,
            "_view_module": "@jupyter-widgets/base",
            "_view_module_version": "1.2.0",
            "_view_name": "StyleView",
            "description_width": ""
          }
        },
        "cb18584850534486886affe71196f068": {
          "model_module": "@jupyter-widgets/base",
          "model_name": "LayoutModel",
          "model_module_version": "1.2.0",
          "state": {
            "_model_module": "@jupyter-widgets/base",
            "_model_module_version": "1.2.0",
            "_model_name": "LayoutModel",
            "_view_count": null,
            "_view_module": "@jupyter-widgets/base",
            "_view_module_version": "1.2.0",
            "_view_name": "LayoutView",
            "align_content": null,
            "align_items": null,
            "align_self": null,
            "border": null,
            "bottom": null,
            "display": null,
            "flex": null,
            "flex_flow": null,
            "grid_area": null,
            "grid_auto_columns": null,
            "grid_auto_flow": null,
            "grid_auto_rows": null,
            "grid_column": null,
            "grid_gap": null,
            "grid_row": null,
            "grid_template_areas": null,
            "grid_template_columns": null,
            "grid_template_rows": null,
            "height": null,
            "justify_content": null,
            "justify_items": null,
            "left": null,
            "margin": null,
            "max_height": null,
            "max_width": null,
            "min_height": null,
            "min_width": null,
            "object_fit": null,
            "object_position": null,
            "order": null,
            "overflow": null,
            "overflow_x": null,
            "overflow_y": null,
            "padding": null,
            "right": null,
            "top": null,
            "visibility": null,
            "width": null
          }
        },
        "e3008cbe9b504a0cbdc7b63b83c95cee": {
          "model_module": "@jupyter-widgets/controls",
          "model_name": "ProgressStyleModel",
          "model_module_version": "1.5.0",
          "state": {
            "_model_module": "@jupyter-widgets/controls",
            "_model_module_version": "1.5.0",
            "_model_name": "ProgressStyleModel",
            "_view_count": null,
            "_view_module": "@jupyter-widgets/base",
            "_view_module_version": "1.2.0",
            "_view_name": "StyleView",
            "bar_color": null,
            "description_width": ""
          }
        },
        "2422ae24f43b4217b0d16afc01b92186": {
          "model_module": "@jupyter-widgets/base",
          "model_name": "LayoutModel",
          "model_module_version": "1.2.0",
          "state": {
            "_model_module": "@jupyter-widgets/base",
            "_model_module_version": "1.2.0",
            "_model_name": "LayoutModel",
            "_view_count": null,
            "_view_module": "@jupyter-widgets/base",
            "_view_module_version": "1.2.0",
            "_view_name": "LayoutView",
            "align_content": null,
            "align_items": null,
            "align_self": null,
            "border": null,
            "bottom": null,
            "display": null,
            "flex": null,
            "flex_flow": null,
            "grid_area": null,
            "grid_auto_columns": null,
            "grid_auto_flow": null,
            "grid_auto_rows": null,
            "grid_column": null,
            "grid_gap": null,
            "grid_row": null,
            "grid_template_areas": null,
            "grid_template_columns": null,
            "grid_template_rows": null,
            "height": null,
            "justify_content": null,
            "justify_items": null,
            "left": null,
            "margin": null,
            "max_height": null,
            "max_width": null,
            "min_height": null,
            "min_width": null,
            "object_fit": null,
            "object_position": null,
            "order": null,
            "overflow": null,
            "overflow_x": null,
            "overflow_y": null,
            "padding": null,
            "right": null,
            "top": null,
            "visibility": null,
            "width": null
          }
        },
        "56185f82a35844428dd23b21409e9db1": {
          "model_module": "@jupyter-widgets/controls",
          "model_name": "DescriptionStyleModel",
          "model_module_version": "1.5.0",
          "state": {
            "_model_module": "@jupyter-widgets/controls",
            "_model_module_version": "1.5.0",
            "_model_name": "DescriptionStyleModel",
            "_view_count": null,
            "_view_module": "@jupyter-widgets/base",
            "_view_module_version": "1.2.0",
            "_view_name": "StyleView",
            "description_width": ""
          }
        },
        "7226c2072c8140acb44dccdd637b1265": {
          "model_module": "@jupyter-widgets/controls",
          "model_name": "HBoxModel",
          "model_module_version": "1.5.0",
          "state": {
            "_dom_classes": [],
            "_model_module": "@jupyter-widgets/controls",
            "_model_module_version": "1.5.0",
            "_model_name": "HBoxModel",
            "_view_count": null,
            "_view_module": "@jupyter-widgets/controls",
            "_view_module_version": "1.5.0",
            "_view_name": "HBoxView",
            "box_style": "",
            "children": [
              "IPY_MODEL_bca79900b816476a8102e1916fb0abf5",
              "IPY_MODEL_253a83e53d734660be8469b656d22f3a",
              "IPY_MODEL_d543c1c9eaca40349e2ebea2b8ff49e3"
            ],
            "layout": "IPY_MODEL_47e9c7fa8dcf4571ac9f82ef957b47ff"
          }
        },
        "bca79900b816476a8102e1916fb0abf5": {
          "model_module": "@jupyter-widgets/controls",
          "model_name": "HTMLModel",
          "model_module_version": "1.5.0",
          "state": {
            "_dom_classes": [],
            "_model_module": "@jupyter-widgets/controls",
            "_model_module_version": "1.5.0",
            "_model_name": "HTMLModel",
            "_view_count": null,
            "_view_module": "@jupyter-widgets/controls",
            "_view_module_version": "1.5.0",
            "_view_name": "HTMLView",
            "description": "",
            "description_tooltip": null,
            "layout": "IPY_MODEL_daceb9fae75443d0a0f1b11820b5fdb2",
            "placeholder": "​",
            "style": "IPY_MODEL_db89bf357a4b41f694df148a0011ebad",
            "value": "model-00004-of-00008.safetensors: 100%"
          }
        },
        "253a83e53d734660be8469b656d22f3a": {
          "model_module": "@jupyter-widgets/controls",
          "model_name": "FloatProgressModel",
          "model_module_version": "1.5.0",
          "state": {
            "_dom_classes": [],
            "_model_module": "@jupyter-widgets/controls",
            "_model_module_version": "1.5.0",
            "_model_name": "FloatProgressModel",
            "_view_count": null,
            "_view_module": "@jupyter-widgets/controls",
            "_view_module_version": "1.5.0",
            "_view_name": "ProgressView",
            "bar_style": "success",
            "description": "",
            "description_tooltip": null,
            "layout": "IPY_MODEL_7cb0509323cf4a83bc6f20cb17fa608d",
            "max": 2023960848,
            "min": 0,
            "orientation": "horizontal",
            "style": "IPY_MODEL_e965ca760c7741c29bcf332e7e3dd2bb",
            "value": 2023960848
          }
        },
        "d543c1c9eaca40349e2ebea2b8ff49e3": {
          "model_module": "@jupyter-widgets/controls",
          "model_name": "HTMLModel",
          "model_module_version": "1.5.0",
          "state": {
            "_dom_classes": [],
            "_model_module": "@jupyter-widgets/controls",
            "_model_module_version": "1.5.0",
            "_model_name": "HTMLModel",
            "_view_count": null,
            "_view_module": "@jupyter-widgets/controls",
            "_view_module_version": "1.5.0",
            "_view_name": "HTMLView",
            "description": "",
            "description_tooltip": null,
            "layout": "IPY_MODEL_7b3b3fc3006740a6b41b793f2fd59464",
            "placeholder": "​",
            "style": "IPY_MODEL_f5afb76e56cc4c55a6c84cf5d428231e",
            "value": " 2.02G/2.02G [00:18&lt;00:00, 170MB/s]"
          }
        },
        "47e9c7fa8dcf4571ac9f82ef957b47ff": {
          "model_module": "@jupyter-widgets/base",
          "model_name": "LayoutModel",
          "model_module_version": "1.2.0",
          "state": {
            "_model_module": "@jupyter-widgets/base",
            "_model_module_version": "1.2.0",
            "_model_name": "LayoutModel",
            "_view_count": null,
            "_view_module": "@jupyter-widgets/base",
            "_view_module_version": "1.2.0",
            "_view_name": "LayoutView",
            "align_content": null,
            "align_items": null,
            "align_self": null,
            "border": null,
            "bottom": null,
            "display": null,
            "flex": null,
            "flex_flow": null,
            "grid_area": null,
            "grid_auto_columns": null,
            "grid_auto_flow": null,
            "grid_auto_rows": null,
            "grid_column": null,
            "grid_gap": null,
            "grid_row": null,
            "grid_template_areas": null,
            "grid_template_columns": null,
            "grid_template_rows": null,
            "height": null,
            "justify_content": null,
            "justify_items": null,
            "left": null,
            "margin": null,
            "max_height": null,
            "max_width": null,
            "min_height": null,
            "min_width": null,
            "object_fit": null,
            "object_position": null,
            "order": null,
            "overflow": null,
            "overflow_x": null,
            "overflow_y": null,
            "padding": null,
            "right": null,
            "top": null,
            "visibility": null,
            "width": null
          }
        },
        "daceb9fae75443d0a0f1b11820b5fdb2": {
          "model_module": "@jupyter-widgets/base",
          "model_name": "LayoutModel",
          "model_module_version": "1.2.0",
          "state": {
            "_model_module": "@jupyter-widgets/base",
            "_model_module_version": "1.2.0",
            "_model_name": "LayoutModel",
            "_view_count": null,
            "_view_module": "@jupyter-widgets/base",
            "_view_module_version": "1.2.0",
            "_view_name": "LayoutView",
            "align_content": null,
            "align_items": null,
            "align_self": null,
            "border": null,
            "bottom": null,
            "display": null,
            "flex": null,
            "flex_flow": null,
            "grid_area": null,
            "grid_auto_columns": null,
            "grid_auto_flow": null,
            "grid_auto_rows": null,
            "grid_column": null,
            "grid_gap": null,
            "grid_row": null,
            "grid_template_areas": null,
            "grid_template_columns": null,
            "grid_template_rows": null,
            "height": null,
            "justify_content": null,
            "justify_items": null,
            "left": null,
            "margin": null,
            "max_height": null,
            "max_width": null,
            "min_height": null,
            "min_width": null,
            "object_fit": null,
            "object_position": null,
            "order": null,
            "overflow": null,
            "overflow_x": null,
            "overflow_y": null,
            "padding": null,
            "right": null,
            "top": null,
            "visibility": null,
            "width": null
          }
        },
        "db89bf357a4b41f694df148a0011ebad": {
          "model_module": "@jupyter-widgets/controls",
          "model_name": "DescriptionStyleModel",
          "model_module_version": "1.5.0",
          "state": {
            "_model_module": "@jupyter-widgets/controls",
            "_model_module_version": "1.5.0",
            "_model_name": "DescriptionStyleModel",
            "_view_count": null,
            "_view_module": "@jupyter-widgets/base",
            "_view_module_version": "1.2.0",
            "_view_name": "StyleView",
            "description_width": ""
          }
        },
        "7cb0509323cf4a83bc6f20cb17fa608d": {
          "model_module": "@jupyter-widgets/base",
          "model_name": "LayoutModel",
          "model_module_version": "1.2.0",
          "state": {
            "_model_module": "@jupyter-widgets/base",
            "_model_module_version": "1.2.0",
            "_model_name": "LayoutModel",
            "_view_count": null,
            "_view_module": "@jupyter-widgets/base",
            "_view_module_version": "1.2.0",
            "_view_name": "LayoutView",
            "align_content": null,
            "align_items": null,
            "align_self": null,
            "border": null,
            "bottom": null,
            "display": null,
            "flex": null,
            "flex_flow": null,
            "grid_area": null,
            "grid_auto_columns": null,
            "grid_auto_flow": null,
            "grid_auto_rows": null,
            "grid_column": null,
            "grid_gap": null,
            "grid_row": null,
            "grid_template_areas": null,
            "grid_template_columns": null,
            "grid_template_rows": null,
            "height": null,
            "justify_content": null,
            "justify_items": null,
            "left": null,
            "margin": null,
            "max_height": null,
            "max_width": null,
            "min_height": null,
            "min_width": null,
            "object_fit": null,
            "object_position": null,
            "order": null,
            "overflow": null,
            "overflow_x": null,
            "overflow_y": null,
            "padding": null,
            "right": null,
            "top": null,
            "visibility": null,
            "width": null
          }
        },
        "e965ca760c7741c29bcf332e7e3dd2bb": {
          "model_module": "@jupyter-widgets/controls",
          "model_name": "ProgressStyleModel",
          "model_module_version": "1.5.0",
          "state": {
            "_model_module": "@jupyter-widgets/controls",
            "_model_module_version": "1.5.0",
            "_model_name": "ProgressStyleModel",
            "_view_count": null,
            "_view_module": "@jupyter-widgets/base",
            "_view_module_version": "1.2.0",
            "_view_name": "StyleView",
            "bar_color": null,
            "description_width": ""
          }
        },
        "7b3b3fc3006740a6b41b793f2fd59464": {
          "model_module": "@jupyter-widgets/base",
          "model_name": "LayoutModel",
          "model_module_version": "1.2.0",
          "state": {
            "_model_module": "@jupyter-widgets/base",
            "_model_module_version": "1.2.0",
            "_model_name": "LayoutModel",
            "_view_count": null,
            "_view_module": "@jupyter-widgets/base",
            "_view_module_version": "1.2.0",
            "_view_name": "LayoutView",
            "align_content": null,
            "align_items": null,
            "align_self": null,
            "border": null,
            "bottom": null,
            "display": null,
            "flex": null,
            "flex_flow": null,
            "grid_area": null,
            "grid_auto_columns": null,
            "grid_auto_flow": null,
            "grid_auto_rows": null,
            "grid_column": null,
            "grid_gap": null,
            "grid_row": null,
            "grid_template_areas": null,
            "grid_template_columns": null,
            "grid_template_rows": null,
            "height": null,
            "justify_content": null,
            "justify_items": null,
            "left": null,
            "margin": null,
            "max_height": null,
            "max_width": null,
            "min_height": null,
            "min_width": null,
            "object_fit": null,
            "object_position": null,
            "order": null,
            "overflow": null,
            "overflow_x": null,
            "overflow_y": null,
            "padding": null,
            "right": null,
            "top": null,
            "visibility": null,
            "width": null
          }
        },
        "f5afb76e56cc4c55a6c84cf5d428231e": {
          "model_module": "@jupyter-widgets/controls",
          "model_name": "DescriptionStyleModel",
          "model_module_version": "1.5.0",
          "state": {
            "_model_module": "@jupyter-widgets/controls",
            "_model_module_version": "1.5.0",
            "_model_name": "DescriptionStyleModel",
            "_view_count": null,
            "_view_module": "@jupyter-widgets/base",
            "_view_module_version": "1.2.0",
            "_view_name": "StyleView",
            "description_width": ""
          }
        },
        "371e36220d36492a98db9ba91572ba59": {
          "model_module": "@jupyter-widgets/controls",
          "model_name": "HBoxModel",
          "model_module_version": "1.5.0",
          "state": {
            "_dom_classes": [],
            "_model_module": "@jupyter-widgets/controls",
            "_model_module_version": "1.5.0",
            "_model_name": "HBoxModel",
            "_view_count": null,
            "_view_module": "@jupyter-widgets/controls",
            "_view_module_version": "1.5.0",
            "_view_name": "HBoxView",
            "box_style": "",
            "children": [
              "IPY_MODEL_d9b1fac906854a26ad50987160352398",
              "IPY_MODEL_16419f2d3cb1455c882b7e7274820956",
              "IPY_MODEL_6f1b713ace3d4b2cbde37822f07cda88"
            ],
            "layout": "IPY_MODEL_30d39ff2ac4e4110a26f59d92dccadbc"
          }
        },
        "d9b1fac906854a26ad50987160352398": {
          "model_module": "@jupyter-widgets/controls",
          "model_name": "HTMLModel",
          "model_module_version": "1.5.0",
          "state": {
            "_dom_classes": [],
            "_model_module": "@jupyter-widgets/controls",
            "_model_module_version": "1.5.0",
            "_model_name": "HTMLModel",
            "_view_count": null,
            "_view_module": "@jupyter-widgets/controls",
            "_view_module_version": "1.5.0",
            "_view_name": "HTMLView",
            "description": "",
            "description_tooltip": null,
            "layout": "IPY_MODEL_f941a57a98ce43c2a91a2fd04cf41461",
            "placeholder": "​",
            "style": "IPY_MODEL_95ebe47857b0432bb4dab50cfa3e6dc9",
            "value": "model-00005-of-00008.safetensors: 100%"
          }
        },
        "16419f2d3cb1455c882b7e7274820956": {
          "model_module": "@jupyter-widgets/controls",
          "model_name": "FloatProgressModel",
          "model_module_version": "1.5.0",
          "state": {
            "_dom_classes": [],
            "_model_module": "@jupyter-widgets/controls",
            "_model_module_version": "1.5.0",
            "_model_name": "FloatProgressModel",
            "_view_count": null,
            "_view_module": "@jupyter-widgets/controls",
            "_view_module_version": "1.5.0",
            "_view_name": "ProgressView",
            "bar_style": "success",
            "description": "",
            "description_tooltip": null,
            "layout": "IPY_MODEL_99843dcf819c43bf96d93048a9e8cf77",
            "max": 2023960848,
            "min": 0,
            "orientation": "horizontal",
            "style": "IPY_MODEL_12946f5679e444a1ab2762eb38f3a406",
            "value": 2023960848
          }
        },
        "6f1b713ace3d4b2cbde37822f07cda88": {
          "model_module": "@jupyter-widgets/controls",
          "model_name": "HTMLModel",
          "model_module_version": "1.5.0",
          "state": {
            "_dom_classes": [],
            "_model_module": "@jupyter-widgets/controls",
            "_model_module_version": "1.5.0",
            "_model_name": "HTMLModel",
            "_view_count": null,
            "_view_module": "@jupyter-widgets/controls",
            "_view_module_version": "1.5.0",
            "_view_name": "HTMLView",
            "description": "",
            "description_tooltip": null,
            "layout": "IPY_MODEL_990e14a0f1134b199524b15d476bc0bc",
            "placeholder": "​",
            "style": "IPY_MODEL_0a886e47cf6a4610ab4fec18bfafb565",
            "value": " 2.02G/2.02G [00:16&lt;00:00, 190MB/s]"
          }
        },
        "30d39ff2ac4e4110a26f59d92dccadbc": {
          "model_module": "@jupyter-widgets/base",
          "model_name": "LayoutModel",
          "model_module_version": "1.2.0",
          "state": {
            "_model_module": "@jupyter-widgets/base",
            "_model_module_version": "1.2.0",
            "_model_name": "LayoutModel",
            "_view_count": null,
            "_view_module": "@jupyter-widgets/base",
            "_view_module_version": "1.2.0",
            "_view_name": "LayoutView",
            "align_content": null,
            "align_items": null,
            "align_self": null,
            "border": null,
            "bottom": null,
            "display": null,
            "flex": null,
            "flex_flow": null,
            "grid_area": null,
            "grid_auto_columns": null,
            "grid_auto_flow": null,
            "grid_auto_rows": null,
            "grid_column": null,
            "grid_gap": null,
            "grid_row": null,
            "grid_template_areas": null,
            "grid_template_columns": null,
            "grid_template_rows": null,
            "height": null,
            "justify_content": null,
            "justify_items": null,
            "left": null,
            "margin": null,
            "max_height": null,
            "max_width": null,
            "min_height": null,
            "min_width": null,
            "object_fit": null,
            "object_position": null,
            "order": null,
            "overflow": null,
            "overflow_x": null,
            "overflow_y": null,
            "padding": null,
            "right": null,
            "top": null,
            "visibility": null,
            "width": null
          }
        },
        "f941a57a98ce43c2a91a2fd04cf41461": {
          "model_module": "@jupyter-widgets/base",
          "model_name": "LayoutModel",
          "model_module_version": "1.2.0",
          "state": {
            "_model_module": "@jupyter-widgets/base",
            "_model_module_version": "1.2.0",
            "_model_name": "LayoutModel",
            "_view_count": null,
            "_view_module": "@jupyter-widgets/base",
            "_view_module_version": "1.2.0",
            "_view_name": "LayoutView",
            "align_content": null,
            "align_items": null,
            "align_self": null,
            "border": null,
            "bottom": null,
            "display": null,
            "flex": null,
            "flex_flow": null,
            "grid_area": null,
            "grid_auto_columns": null,
            "grid_auto_flow": null,
            "grid_auto_rows": null,
            "grid_column": null,
            "grid_gap": null,
            "grid_row": null,
            "grid_template_areas": null,
            "grid_template_columns": null,
            "grid_template_rows": null,
            "height": null,
            "justify_content": null,
            "justify_items": null,
            "left": null,
            "margin": null,
            "max_height": null,
            "max_width": null,
            "min_height": null,
            "min_width": null,
            "object_fit": null,
            "object_position": null,
            "order": null,
            "overflow": null,
            "overflow_x": null,
            "overflow_y": null,
            "padding": null,
            "right": null,
            "top": null,
            "visibility": null,
            "width": null
          }
        },
        "95ebe47857b0432bb4dab50cfa3e6dc9": {
          "model_module": "@jupyter-widgets/controls",
          "model_name": "DescriptionStyleModel",
          "model_module_version": "1.5.0",
          "state": {
            "_model_module": "@jupyter-widgets/controls",
            "_model_module_version": "1.5.0",
            "_model_name": "DescriptionStyleModel",
            "_view_count": null,
            "_view_module": "@jupyter-widgets/base",
            "_view_module_version": "1.2.0",
            "_view_name": "StyleView",
            "description_width": ""
          }
        },
        "99843dcf819c43bf96d93048a9e8cf77": {
          "model_module": "@jupyter-widgets/base",
          "model_name": "LayoutModel",
          "model_module_version": "1.2.0",
          "state": {
            "_model_module": "@jupyter-widgets/base",
            "_model_module_version": "1.2.0",
            "_model_name": "LayoutModel",
            "_view_count": null,
            "_view_module": "@jupyter-widgets/base",
            "_view_module_version": "1.2.0",
            "_view_name": "LayoutView",
            "align_content": null,
            "align_items": null,
            "align_self": null,
            "border": null,
            "bottom": null,
            "display": null,
            "flex": null,
            "flex_flow": null,
            "grid_area": null,
            "grid_auto_columns": null,
            "grid_auto_flow": null,
            "grid_auto_rows": null,
            "grid_column": null,
            "grid_gap": null,
            "grid_row": null,
            "grid_template_areas": null,
            "grid_template_columns": null,
            "grid_template_rows": null,
            "height": null,
            "justify_content": null,
            "justify_items": null,
            "left": null,
            "margin": null,
            "max_height": null,
            "max_width": null,
            "min_height": null,
            "min_width": null,
            "object_fit": null,
            "object_position": null,
            "order": null,
            "overflow": null,
            "overflow_x": null,
            "overflow_y": null,
            "padding": null,
            "right": null,
            "top": null,
            "visibility": null,
            "width": null
          }
        },
        "12946f5679e444a1ab2762eb38f3a406": {
          "model_module": "@jupyter-widgets/controls",
          "model_name": "ProgressStyleModel",
          "model_module_version": "1.5.0",
          "state": {
            "_model_module": "@jupyter-widgets/controls",
            "_model_module_version": "1.5.0",
            "_model_name": "ProgressStyleModel",
            "_view_count": null,
            "_view_module": "@jupyter-widgets/base",
            "_view_module_version": "1.2.0",
            "_view_name": "StyleView",
            "bar_color": null,
            "description_width": ""
          }
        },
        "990e14a0f1134b199524b15d476bc0bc": {
          "model_module": "@jupyter-widgets/base",
          "model_name": "LayoutModel",
          "model_module_version": "1.2.0",
          "state": {
            "_model_module": "@jupyter-widgets/base",
            "_model_module_version": "1.2.0",
            "_model_name": "LayoutModel",
            "_view_count": null,
            "_view_module": "@jupyter-widgets/base",
            "_view_module_version": "1.2.0",
            "_view_name": "LayoutView",
            "align_content": null,
            "align_items": null,
            "align_self": null,
            "border": null,
            "bottom": null,
            "display": null,
            "flex": null,
            "flex_flow": null,
            "grid_area": null,
            "grid_auto_columns": null,
            "grid_auto_flow": null,
            "grid_auto_rows": null,
            "grid_column": null,
            "grid_gap": null,
            "grid_row": null,
            "grid_template_areas": null,
            "grid_template_columns": null,
            "grid_template_rows": null,
            "height": null,
            "justify_content": null,
            "justify_items": null,
            "left": null,
            "margin": null,
            "max_height": null,
            "max_width": null,
            "min_height": null,
            "min_width": null,
            "object_fit": null,
            "object_position": null,
            "order": null,
            "overflow": null,
            "overflow_x": null,
            "overflow_y": null,
            "padding": null,
            "right": null,
            "top": null,
            "visibility": null,
            "width": null
          }
        },
        "0a886e47cf6a4610ab4fec18bfafb565": {
          "model_module": "@jupyter-widgets/controls",
          "model_name": "DescriptionStyleModel",
          "model_module_version": "1.5.0",
          "state": {
            "_model_module": "@jupyter-widgets/controls",
            "_model_module_version": "1.5.0",
            "_model_name": "DescriptionStyleModel",
            "_view_count": null,
            "_view_module": "@jupyter-widgets/base",
            "_view_module_version": "1.2.0",
            "_view_name": "StyleView",
            "description_width": ""
          }
        },
        "a3777075fe55415ea9b2f1ce02e3987e": {
          "model_module": "@jupyter-widgets/controls",
          "model_name": "HBoxModel",
          "model_module_version": "1.5.0",
          "state": {
            "_dom_classes": [],
            "_model_module": "@jupyter-widgets/controls",
            "_model_module_version": "1.5.0",
            "_model_name": "HBoxModel",
            "_view_count": null,
            "_view_module": "@jupyter-widgets/controls",
            "_view_module_version": "1.5.0",
            "_view_name": "HBoxView",
            "box_style": "",
            "children": [
              "IPY_MODEL_27f31396333e480c9cd45adefc532a8e",
              "IPY_MODEL_4a4f6ca490794f19a720eb9efa889e78",
              "IPY_MODEL_7f136e8ff23849a89569d99ebd81876d"
            ],
            "layout": "IPY_MODEL_2554c74d3bbb44a3b1d9704dd14f911c"
          }
        },
        "27f31396333e480c9cd45adefc532a8e": {
          "model_module": "@jupyter-widgets/controls",
          "model_name": "HTMLModel",
          "model_module_version": "1.5.0",
          "state": {
            "_dom_classes": [],
            "_model_module": "@jupyter-widgets/controls",
            "_model_module_version": "1.5.0",
            "_model_name": "HTMLModel",
            "_view_count": null,
            "_view_module": "@jupyter-widgets/controls",
            "_view_module_version": "1.5.0",
            "_view_name": "HTMLView",
            "description": "",
            "description_tooltip": null,
            "layout": "IPY_MODEL_c90e9308a22e4c5ab6610f17016c5b3a",
            "placeholder": "​",
            "style": "IPY_MODEL_10ca96c722624f4698c926a638568d97",
            "value": "model-00006-of-00008.safetensors: 100%"
          }
        },
        "4a4f6ca490794f19a720eb9efa889e78": {
          "model_module": "@jupyter-widgets/controls",
          "model_name": "FloatProgressModel",
          "model_module_version": "1.5.0",
          "state": {
            "_dom_classes": [],
            "_model_module": "@jupyter-widgets/controls",
            "_model_module_version": "1.5.0",
            "_model_name": "FloatProgressModel",
            "_view_count": null,
            "_view_module": "@jupyter-widgets/controls",
            "_view_module_version": "1.5.0",
            "_view_name": "ProgressView",
            "bar_style": "success",
            "description": "",
            "description_tooltip": null,
            "layout": "IPY_MODEL_855f1bb03406499d869dad96957e09e7",
            "max": 2023960848,
            "min": 0,
            "orientation": "horizontal",
            "style": "IPY_MODEL_2959b73d8437421ebe6e0cea08876641",
            "value": 2023960848
          }
        },
        "7f136e8ff23849a89569d99ebd81876d": {
          "model_module": "@jupyter-widgets/controls",
          "model_name": "HTMLModel",
          "model_module_version": "1.5.0",
          "state": {
            "_dom_classes": [],
            "_model_module": "@jupyter-widgets/controls",
            "_model_module_version": "1.5.0",
            "_model_name": "HTMLModel",
            "_view_count": null,
            "_view_module": "@jupyter-widgets/controls",
            "_view_module_version": "1.5.0",
            "_view_name": "HTMLView",
            "description": "",
            "description_tooltip": null,
            "layout": "IPY_MODEL_d38c1fbddb3e4f10b55aa51479330a23",
            "placeholder": "​",
            "style": "IPY_MODEL_120b896c8bc14246ba5e9ddfc0e6a638",
            "value": " 2.02G/2.02G [00:15&lt;00:00, 146MB/s]"
          }
        },
        "2554c74d3bbb44a3b1d9704dd14f911c": {
          "model_module": "@jupyter-widgets/base",
          "model_name": "LayoutModel",
          "model_module_version": "1.2.0",
          "state": {
            "_model_module": "@jupyter-widgets/base",
            "_model_module_version": "1.2.0",
            "_model_name": "LayoutModel",
            "_view_count": null,
            "_view_module": "@jupyter-widgets/base",
            "_view_module_version": "1.2.0",
            "_view_name": "LayoutView",
            "align_content": null,
            "align_items": null,
            "align_self": null,
            "border": null,
            "bottom": null,
            "display": null,
            "flex": null,
            "flex_flow": null,
            "grid_area": null,
            "grid_auto_columns": null,
            "grid_auto_flow": null,
            "grid_auto_rows": null,
            "grid_column": null,
            "grid_gap": null,
            "grid_row": null,
            "grid_template_areas": null,
            "grid_template_columns": null,
            "grid_template_rows": null,
            "height": null,
            "justify_content": null,
            "justify_items": null,
            "left": null,
            "margin": null,
            "max_height": null,
            "max_width": null,
            "min_height": null,
            "min_width": null,
            "object_fit": null,
            "object_position": null,
            "order": null,
            "overflow": null,
            "overflow_x": null,
            "overflow_y": null,
            "padding": null,
            "right": null,
            "top": null,
            "visibility": null,
            "width": null
          }
        },
        "c90e9308a22e4c5ab6610f17016c5b3a": {
          "model_module": "@jupyter-widgets/base",
          "model_name": "LayoutModel",
          "model_module_version": "1.2.0",
          "state": {
            "_model_module": "@jupyter-widgets/base",
            "_model_module_version": "1.2.0",
            "_model_name": "LayoutModel",
            "_view_count": null,
            "_view_module": "@jupyter-widgets/base",
            "_view_module_version": "1.2.0",
            "_view_name": "LayoutView",
            "align_content": null,
            "align_items": null,
            "align_self": null,
            "border": null,
            "bottom": null,
            "display": null,
            "flex": null,
            "flex_flow": null,
            "grid_area": null,
            "grid_auto_columns": null,
            "grid_auto_flow": null,
            "grid_auto_rows": null,
            "grid_column": null,
            "grid_gap": null,
            "grid_row": null,
            "grid_template_areas": null,
            "grid_template_columns": null,
            "grid_template_rows": null,
            "height": null,
            "justify_content": null,
            "justify_items": null,
            "left": null,
            "margin": null,
            "max_height": null,
            "max_width": null,
            "min_height": null,
            "min_width": null,
            "object_fit": null,
            "object_position": null,
            "order": null,
            "overflow": null,
            "overflow_x": null,
            "overflow_y": null,
            "padding": null,
            "right": null,
            "top": null,
            "visibility": null,
            "width": null
          }
        },
        "10ca96c722624f4698c926a638568d97": {
          "model_module": "@jupyter-widgets/controls",
          "model_name": "DescriptionStyleModel",
          "model_module_version": "1.5.0",
          "state": {
            "_model_module": "@jupyter-widgets/controls",
            "_model_module_version": "1.5.0",
            "_model_name": "DescriptionStyleModel",
            "_view_count": null,
            "_view_module": "@jupyter-widgets/base",
            "_view_module_version": "1.2.0",
            "_view_name": "StyleView",
            "description_width": ""
          }
        },
        "855f1bb03406499d869dad96957e09e7": {
          "model_module": "@jupyter-widgets/base",
          "model_name": "LayoutModel",
          "model_module_version": "1.2.0",
          "state": {
            "_model_module": "@jupyter-widgets/base",
            "_model_module_version": "1.2.0",
            "_model_name": "LayoutModel",
            "_view_count": null,
            "_view_module": "@jupyter-widgets/base",
            "_view_module_version": "1.2.0",
            "_view_name": "LayoutView",
            "align_content": null,
            "align_items": null,
            "align_self": null,
            "border": null,
            "bottom": null,
            "display": null,
            "flex": null,
            "flex_flow": null,
            "grid_area": null,
            "grid_auto_columns": null,
            "grid_auto_flow": null,
            "grid_auto_rows": null,
            "grid_column": null,
            "grid_gap": null,
            "grid_row": null,
            "grid_template_areas": null,
            "grid_template_columns": null,
            "grid_template_rows": null,
            "height": null,
            "justify_content": null,
            "justify_items": null,
            "left": null,
            "margin": null,
            "max_height": null,
            "max_width": null,
            "min_height": null,
            "min_width": null,
            "object_fit": null,
            "object_position": null,
            "order": null,
            "overflow": null,
            "overflow_x": null,
            "overflow_y": null,
            "padding": null,
            "right": null,
            "top": null,
            "visibility": null,
            "width": null
          }
        },
        "2959b73d8437421ebe6e0cea08876641": {
          "model_module": "@jupyter-widgets/controls",
          "model_name": "ProgressStyleModel",
          "model_module_version": "1.5.0",
          "state": {
            "_model_module": "@jupyter-widgets/controls",
            "_model_module_version": "1.5.0",
            "_model_name": "ProgressStyleModel",
            "_view_count": null,
            "_view_module": "@jupyter-widgets/base",
            "_view_module_version": "1.2.0",
            "_view_name": "StyleView",
            "bar_color": null,
            "description_width": ""
          }
        },
        "d38c1fbddb3e4f10b55aa51479330a23": {
          "model_module": "@jupyter-widgets/base",
          "model_name": "LayoutModel",
          "model_module_version": "1.2.0",
          "state": {
            "_model_module": "@jupyter-widgets/base",
            "_model_module_version": "1.2.0",
            "_model_name": "LayoutModel",
            "_view_count": null,
            "_view_module": "@jupyter-widgets/base",
            "_view_module_version": "1.2.0",
            "_view_name": "LayoutView",
            "align_content": null,
            "align_items": null,
            "align_self": null,
            "border": null,
            "bottom": null,
            "display": null,
            "flex": null,
            "flex_flow": null,
            "grid_area": null,
            "grid_auto_columns": null,
            "grid_auto_flow": null,
            "grid_auto_rows": null,
            "grid_column": null,
            "grid_gap": null,
            "grid_row": null,
            "grid_template_areas": null,
            "grid_template_columns": null,
            "grid_template_rows": null,
            "height": null,
            "justify_content": null,
            "justify_items": null,
            "left": null,
            "margin": null,
            "max_height": null,
            "max_width": null,
            "min_height": null,
            "min_width": null,
            "object_fit": null,
            "object_position": null,
            "order": null,
            "overflow": null,
            "overflow_x": null,
            "overflow_y": null,
            "padding": null,
            "right": null,
            "top": null,
            "visibility": null,
            "width": null
          }
        },
        "120b896c8bc14246ba5e9ddfc0e6a638": {
          "model_module": "@jupyter-widgets/controls",
          "model_name": "DescriptionStyleModel",
          "model_module_version": "1.5.0",
          "state": {
            "_model_module": "@jupyter-widgets/controls",
            "_model_module_version": "1.5.0",
            "_model_name": "DescriptionStyleModel",
            "_view_count": null,
            "_view_module": "@jupyter-widgets/base",
            "_view_module_version": "1.2.0",
            "_view_name": "StyleView",
            "description_width": ""
          }
        },
        "27ad3c3b484448db968914472a397571": {
          "model_module": "@jupyter-widgets/controls",
          "model_name": "HBoxModel",
          "model_module_version": "1.5.0",
          "state": {
            "_dom_classes": [],
            "_model_module": "@jupyter-widgets/controls",
            "_model_module_version": "1.5.0",
            "_model_name": "HBoxModel",
            "_view_count": null,
            "_view_module": "@jupyter-widgets/controls",
            "_view_module_version": "1.5.0",
            "_view_name": "HBoxView",
            "box_style": "",
            "children": [
              "IPY_MODEL_a5ffd10e7e04428fb6a7a6fccfb11c6c",
              "IPY_MODEL_c1b46bf531594cacbcaa477faeb99ae8",
              "IPY_MODEL_044ec149460b4dfea77eb801f59614fa"
            ],
            "layout": "IPY_MODEL_6116945af44a4ee8b11f27aba36ba13c"
          }
        },
        "a5ffd10e7e04428fb6a7a6fccfb11c6c": {
          "model_module": "@jupyter-widgets/controls",
          "model_name": "HTMLModel",
          "model_module_version": "1.5.0",
          "state": {
            "_dom_classes": [],
            "_model_module": "@jupyter-widgets/controls",
            "_model_module_version": "1.5.0",
            "_model_name": "HTMLModel",
            "_view_count": null,
            "_view_module": "@jupyter-widgets/controls",
            "_view_module_version": "1.5.0",
            "_view_name": "HTMLView",
            "description": "",
            "description_tooltip": null,
            "layout": "IPY_MODEL_8a0e73b612a34590a644891885aeb22e",
            "placeholder": "​",
            "style": "IPY_MODEL_c4b2fb04119940a39bdb87e3f33aafdb",
            "value": "model-00007-of-00008.safetensors: 100%"
          }
        },
        "c1b46bf531594cacbcaa477faeb99ae8": {
          "model_module": "@jupyter-widgets/controls",
          "model_name": "FloatProgressModel",
          "model_module_version": "1.5.0",
          "state": {
            "_dom_classes": [],
            "_model_module": "@jupyter-widgets/controls",
            "_model_module_version": "1.5.0",
            "_model_name": "FloatProgressModel",
            "_view_count": null,
            "_view_module": "@jupyter-widgets/controls",
            "_view_module_version": "1.5.0",
            "_view_name": "ProgressView",
            "bar_style": "success",
            "description": "",
            "description_tooltip": null,
            "layout": "IPY_MODEL_50ee9423fc7b455ebea2556a6f301465",
            "max": 2023960848,
            "min": 0,
            "orientation": "horizontal",
            "style": "IPY_MODEL_647d27b4f55c461eb0278c4587390390",
            "value": 2023960848
          }
        },
        "044ec149460b4dfea77eb801f59614fa": {
          "model_module": "@jupyter-widgets/controls",
          "model_name": "HTMLModel",
          "model_module_version": "1.5.0",
          "state": {
            "_dom_classes": [],
            "_model_module": "@jupyter-widgets/controls",
            "_model_module_version": "1.5.0",
            "_model_name": "HTMLModel",
            "_view_count": null,
            "_view_module": "@jupyter-widgets/controls",
            "_view_module_version": "1.5.0",
            "_view_name": "HTMLView",
            "description": "",
            "description_tooltip": null,
            "layout": "IPY_MODEL_b43a0fe942764c10b655b2defac52a53",
            "placeholder": "​",
            "style": "IPY_MODEL_7b1f4ef04d744d0d888ac63149555a41",
            "value": " 2.02G/2.02G [00:16&lt;00:00, 93.7MB/s]"
          }
        },
        "6116945af44a4ee8b11f27aba36ba13c": {
          "model_module": "@jupyter-widgets/base",
          "model_name": "LayoutModel",
          "model_module_version": "1.2.0",
          "state": {
            "_model_module": "@jupyter-widgets/base",
            "_model_module_version": "1.2.0",
            "_model_name": "LayoutModel",
            "_view_count": null,
            "_view_module": "@jupyter-widgets/base",
            "_view_module_version": "1.2.0",
            "_view_name": "LayoutView",
            "align_content": null,
            "align_items": null,
            "align_self": null,
            "border": null,
            "bottom": null,
            "display": null,
            "flex": null,
            "flex_flow": null,
            "grid_area": null,
            "grid_auto_columns": null,
            "grid_auto_flow": null,
            "grid_auto_rows": null,
            "grid_column": null,
            "grid_gap": null,
            "grid_row": null,
            "grid_template_areas": null,
            "grid_template_columns": null,
            "grid_template_rows": null,
            "height": null,
            "justify_content": null,
            "justify_items": null,
            "left": null,
            "margin": null,
            "max_height": null,
            "max_width": null,
            "min_height": null,
            "min_width": null,
            "object_fit": null,
            "object_position": null,
            "order": null,
            "overflow": null,
            "overflow_x": null,
            "overflow_y": null,
            "padding": null,
            "right": null,
            "top": null,
            "visibility": null,
            "width": null
          }
        },
        "8a0e73b612a34590a644891885aeb22e": {
          "model_module": "@jupyter-widgets/base",
          "model_name": "LayoutModel",
          "model_module_version": "1.2.0",
          "state": {
            "_model_module": "@jupyter-widgets/base",
            "_model_module_version": "1.2.0",
            "_model_name": "LayoutModel",
            "_view_count": null,
            "_view_module": "@jupyter-widgets/base",
            "_view_module_version": "1.2.0",
            "_view_name": "LayoutView",
            "align_content": null,
            "align_items": null,
            "align_self": null,
            "border": null,
            "bottom": null,
            "display": null,
            "flex": null,
            "flex_flow": null,
            "grid_area": null,
            "grid_auto_columns": null,
            "grid_auto_flow": null,
            "grid_auto_rows": null,
            "grid_column": null,
            "grid_gap": null,
            "grid_row": null,
            "grid_template_areas": null,
            "grid_template_columns": null,
            "grid_template_rows": null,
            "height": null,
            "justify_content": null,
            "justify_items": null,
            "left": null,
            "margin": null,
            "max_height": null,
            "max_width": null,
            "min_height": null,
            "min_width": null,
            "object_fit": null,
            "object_position": null,
            "order": null,
            "overflow": null,
            "overflow_x": null,
            "overflow_y": null,
            "padding": null,
            "right": null,
            "top": null,
            "visibility": null,
            "width": null
          }
        },
        "c4b2fb04119940a39bdb87e3f33aafdb": {
          "model_module": "@jupyter-widgets/controls",
          "model_name": "DescriptionStyleModel",
          "model_module_version": "1.5.0",
          "state": {
            "_model_module": "@jupyter-widgets/controls",
            "_model_module_version": "1.5.0",
            "_model_name": "DescriptionStyleModel",
            "_view_count": null,
            "_view_module": "@jupyter-widgets/base",
            "_view_module_version": "1.2.0",
            "_view_name": "StyleView",
            "description_width": ""
          }
        },
        "50ee9423fc7b455ebea2556a6f301465": {
          "model_module": "@jupyter-widgets/base",
          "model_name": "LayoutModel",
          "model_module_version": "1.2.0",
          "state": {
            "_model_module": "@jupyter-widgets/base",
            "_model_module_version": "1.2.0",
            "_model_name": "LayoutModel",
            "_view_count": null,
            "_view_module": "@jupyter-widgets/base",
            "_view_module_version": "1.2.0",
            "_view_name": "LayoutView",
            "align_content": null,
            "align_items": null,
            "align_self": null,
            "border": null,
            "bottom": null,
            "display": null,
            "flex": null,
            "flex_flow": null,
            "grid_area": null,
            "grid_auto_columns": null,
            "grid_auto_flow": null,
            "grid_auto_rows": null,
            "grid_column": null,
            "grid_gap": null,
            "grid_row": null,
            "grid_template_areas": null,
            "grid_template_columns": null,
            "grid_template_rows": null,
            "height": null,
            "justify_content": null,
            "justify_items": null,
            "left": null,
            "margin": null,
            "max_height": null,
            "max_width": null,
            "min_height": null,
            "min_width": null,
            "object_fit": null,
            "object_position": null,
            "order": null,
            "overflow": null,
            "overflow_x": null,
            "overflow_y": null,
            "padding": null,
            "right": null,
            "top": null,
            "visibility": null,
            "width": null
          }
        },
        "647d27b4f55c461eb0278c4587390390": {
          "model_module": "@jupyter-widgets/controls",
          "model_name": "ProgressStyleModel",
          "model_module_version": "1.5.0",
          "state": {
            "_model_module": "@jupyter-widgets/controls",
            "_model_module_version": "1.5.0",
            "_model_name": "ProgressStyleModel",
            "_view_count": null,
            "_view_module": "@jupyter-widgets/base",
            "_view_module_version": "1.2.0",
            "_view_name": "StyleView",
            "bar_color": null,
            "description_width": ""
          }
        },
        "b43a0fe942764c10b655b2defac52a53": {
          "model_module": "@jupyter-widgets/base",
          "model_name": "LayoutModel",
          "model_module_version": "1.2.0",
          "state": {
            "_model_module": "@jupyter-widgets/base",
            "_model_module_version": "1.2.0",
            "_model_name": "LayoutModel",
            "_view_count": null,
            "_view_module": "@jupyter-widgets/base",
            "_view_module_version": "1.2.0",
            "_view_name": "LayoutView",
            "align_content": null,
            "align_items": null,
            "align_self": null,
            "border": null,
            "bottom": null,
            "display": null,
            "flex": null,
            "flex_flow": null,
            "grid_area": null,
            "grid_auto_columns": null,
            "grid_auto_flow": null,
            "grid_auto_rows": null,
            "grid_column": null,
            "grid_gap": null,
            "grid_row": null,
            "grid_template_areas": null,
            "grid_template_columns": null,
            "grid_template_rows": null,
            "height": null,
            "justify_content": null,
            "justify_items": null,
            "left": null,
            "margin": null,
            "max_height": null,
            "max_width": null,
            "min_height": null,
            "min_width": null,
            "object_fit": null,
            "object_position": null,
            "order": null,
            "overflow": null,
            "overflow_x": null,
            "overflow_y": null,
            "padding": null,
            "right": null,
            "top": null,
            "visibility": null,
            "width": null
          }
        },
        "7b1f4ef04d744d0d888ac63149555a41": {
          "model_module": "@jupyter-widgets/controls",
          "model_name": "DescriptionStyleModel",
          "model_module_version": "1.5.0",
          "state": {
            "_model_module": "@jupyter-widgets/controls",
            "_model_module_version": "1.5.0",
            "_model_name": "DescriptionStyleModel",
            "_view_count": null,
            "_view_module": "@jupyter-widgets/base",
            "_view_module_version": "1.2.0",
            "_view_name": "StyleView",
            "description_width": ""
          }
        },
        "f3632d45380d431c8f97d5f80ab08a86": {
          "model_module": "@jupyter-widgets/controls",
          "model_name": "HBoxModel",
          "model_module_version": "1.5.0",
          "state": {
            "_dom_classes": [],
            "_model_module": "@jupyter-widgets/controls",
            "_model_module_version": "1.5.0",
            "_model_name": "HBoxModel",
            "_view_count": null,
            "_view_module": "@jupyter-widgets/controls",
            "_view_module_version": "1.5.0",
            "_view_name": "HBoxView",
            "box_style": "",
            "children": [
              "IPY_MODEL_683d6e8e8c134a879b0789b8f1c8f06d",
              "IPY_MODEL_ddfe5868f1604f7a98c67410fe2578f8",
              "IPY_MODEL_46a9a1d9b9984f9486a9bbb9a8e84113"
            ],
            "layout": "IPY_MODEL_c7c9ef69515e44aba5b0cc6dbc4655f2"
          }
        },
        "683d6e8e8c134a879b0789b8f1c8f06d": {
          "model_module": "@jupyter-widgets/controls",
          "model_name": "HTMLModel",
          "model_module_version": "1.5.0",
          "state": {
            "_dom_classes": [],
            "_model_module": "@jupyter-widgets/controls",
            "_model_module_version": "1.5.0",
            "_model_name": "HTMLModel",
            "_view_count": null,
            "_view_module": "@jupyter-widgets/controls",
            "_view_module_version": "1.5.0",
            "_view_name": "HTMLView",
            "description": "",
            "description_tooltip": null,
            "layout": "IPY_MODEL_c18710753222497bb157a0abcbfa4141",
            "placeholder": "​",
            "style": "IPY_MODEL_a0acef6072694bc69af2900d0f9ee85b",
            "value": "model-00008-of-00008.safetensors: 100%"
          }
        },
        "ddfe5868f1604f7a98c67410fe2578f8": {
          "model_module": "@jupyter-widgets/controls",
          "model_name": "FloatProgressModel",
          "model_module_version": "1.5.0",
          "state": {
            "_dom_classes": [],
            "_model_module": "@jupyter-widgets/controls",
            "_model_module_version": "1.5.0",
            "_model_name": "FloatProgressModel",
            "_view_count": null,
            "_view_module": "@jupyter-widgets/controls",
            "_view_module_version": "1.5.0",
            "_view_name": "ProgressView",
            "bar_style": "success",
            "description": "",
            "description_tooltip": null,
            "layout": "IPY_MODEL_a1499d56b80f47f7b5a45c4449ee1734",
            "max": 1334845784,
            "min": 0,
            "orientation": "horizontal",
            "style": "IPY_MODEL_e69304470a3143528357db1febc98643",
            "value": 1334845784
          }
        },
        "46a9a1d9b9984f9486a9bbb9a8e84113": {
          "model_module": "@jupyter-widgets/controls",
          "model_name": "HTMLModel",
          "model_module_version": "1.5.0",
          "state": {
            "_dom_classes": [],
            "_model_module": "@jupyter-widgets/controls",
            "_model_module_version": "1.5.0",
            "_model_name": "HTMLModel",
            "_view_count": null,
            "_view_module": "@jupyter-widgets/controls",
            "_view_module_version": "1.5.0",
            "_view_name": "HTMLView",
            "description": "",
            "description_tooltip": null,
            "layout": "IPY_MODEL_f78b0ad1edf044df89492eaf18e601f6",
            "placeholder": "​",
            "style": "IPY_MODEL_a75df64116854e1583fc207c52408b6a",
            "value": " 1.33G/1.33G [00:12&lt;00:00, 77.2MB/s]"
          }
        },
        "c7c9ef69515e44aba5b0cc6dbc4655f2": {
          "model_module": "@jupyter-widgets/base",
          "model_name": "LayoutModel",
          "model_module_version": "1.2.0",
          "state": {
            "_model_module": "@jupyter-widgets/base",
            "_model_module_version": "1.2.0",
            "_model_name": "LayoutModel",
            "_view_count": null,
            "_view_module": "@jupyter-widgets/base",
            "_view_module_version": "1.2.0",
            "_view_name": "LayoutView",
            "align_content": null,
            "align_items": null,
            "align_self": null,
            "border": null,
            "bottom": null,
            "display": null,
            "flex": null,
            "flex_flow": null,
            "grid_area": null,
            "grid_auto_columns": null,
            "grid_auto_flow": null,
            "grid_auto_rows": null,
            "grid_column": null,
            "grid_gap": null,
            "grid_row": null,
            "grid_template_areas": null,
            "grid_template_columns": null,
            "grid_template_rows": null,
            "height": null,
            "justify_content": null,
            "justify_items": null,
            "left": null,
            "margin": null,
            "max_height": null,
            "max_width": null,
            "min_height": null,
            "min_width": null,
            "object_fit": null,
            "object_position": null,
            "order": null,
            "overflow": null,
            "overflow_x": null,
            "overflow_y": null,
            "padding": null,
            "right": null,
            "top": null,
            "visibility": null,
            "width": null
          }
        },
        "c18710753222497bb157a0abcbfa4141": {
          "model_module": "@jupyter-widgets/base",
          "model_name": "LayoutModel",
          "model_module_version": "1.2.0",
          "state": {
            "_model_module": "@jupyter-widgets/base",
            "_model_module_version": "1.2.0",
            "_model_name": "LayoutModel",
            "_view_count": null,
            "_view_module": "@jupyter-widgets/base",
            "_view_module_version": "1.2.0",
            "_view_name": "LayoutView",
            "align_content": null,
            "align_items": null,
            "align_self": null,
            "border": null,
            "bottom": null,
            "display": null,
            "flex": null,
            "flex_flow": null,
            "grid_area": null,
            "grid_auto_columns": null,
            "grid_auto_flow": null,
            "grid_auto_rows": null,
            "grid_column": null,
            "grid_gap": null,
            "grid_row": null,
            "grid_template_areas": null,
            "grid_template_columns": null,
            "grid_template_rows": null,
            "height": null,
            "justify_content": null,
            "justify_items": null,
            "left": null,
            "margin": null,
            "max_height": null,
            "max_width": null,
            "min_height": null,
            "min_width": null,
            "object_fit": null,
            "object_position": null,
            "order": null,
            "overflow": null,
            "overflow_x": null,
            "overflow_y": null,
            "padding": null,
            "right": null,
            "top": null,
            "visibility": null,
            "width": null
          }
        },
        "a0acef6072694bc69af2900d0f9ee85b": {
          "model_module": "@jupyter-widgets/controls",
          "model_name": "DescriptionStyleModel",
          "model_module_version": "1.5.0",
          "state": {
            "_model_module": "@jupyter-widgets/controls",
            "_model_module_version": "1.5.0",
            "_model_name": "DescriptionStyleModel",
            "_view_count": null,
            "_view_module": "@jupyter-widgets/base",
            "_view_module_version": "1.2.0",
            "_view_name": "StyleView",
            "description_width": ""
          }
        },
        "a1499d56b80f47f7b5a45c4449ee1734": {
          "model_module": "@jupyter-widgets/base",
          "model_name": "LayoutModel",
          "model_module_version": "1.2.0",
          "state": {
            "_model_module": "@jupyter-widgets/base",
            "_model_module_version": "1.2.0",
            "_model_name": "LayoutModel",
            "_view_count": null,
            "_view_module": "@jupyter-widgets/base",
            "_view_module_version": "1.2.0",
            "_view_name": "LayoutView",
            "align_content": null,
            "align_items": null,
            "align_self": null,
            "border": null,
            "bottom": null,
            "display": null,
            "flex": null,
            "flex_flow": null,
            "grid_area": null,
            "grid_auto_columns": null,
            "grid_auto_flow": null,
            "grid_auto_rows": null,
            "grid_column": null,
            "grid_gap": null,
            "grid_row": null,
            "grid_template_areas": null,
            "grid_template_columns": null,
            "grid_template_rows": null,
            "height": null,
            "justify_content": null,
            "justify_items": null,
            "left": null,
            "margin": null,
            "max_height": null,
            "max_width": null,
            "min_height": null,
            "min_width": null,
            "object_fit": null,
            "object_position": null,
            "order": null,
            "overflow": null,
            "overflow_x": null,
            "overflow_y": null,
            "padding": null,
            "right": null,
            "top": null,
            "visibility": null,
            "width": null
          }
        },
        "e69304470a3143528357db1febc98643": {
          "model_module": "@jupyter-widgets/controls",
          "model_name": "ProgressStyleModel",
          "model_module_version": "1.5.0",
          "state": {
            "_model_module": "@jupyter-widgets/controls",
            "_model_module_version": "1.5.0",
            "_model_name": "ProgressStyleModel",
            "_view_count": null,
            "_view_module": "@jupyter-widgets/base",
            "_view_module_version": "1.2.0",
            "_view_name": "StyleView",
            "bar_color": null,
            "description_width": ""
          }
        },
        "f78b0ad1edf044df89492eaf18e601f6": {
          "model_module": "@jupyter-widgets/base",
          "model_name": "LayoutModel",
          "model_module_version": "1.2.0",
          "state": {
            "_model_module": "@jupyter-widgets/base",
            "_model_module_version": "1.2.0",
            "_model_name": "LayoutModel",
            "_view_count": null,
            "_view_module": "@jupyter-widgets/base",
            "_view_module_version": "1.2.0",
            "_view_name": "LayoutView",
            "align_content": null,
            "align_items": null,
            "align_self": null,
            "border": null,
            "bottom": null,
            "display": null,
            "flex": null,
            "flex_flow": null,
            "grid_area": null,
            "grid_auto_columns": null,
            "grid_auto_flow": null,
            "grid_auto_rows": null,
            "grid_column": null,
            "grid_gap": null,
            "grid_row": null,
            "grid_template_areas": null,
            "grid_template_columns": null,
            "grid_template_rows": null,
            "height": null,
            "justify_content": null,
            "justify_items": null,
            "left": null,
            "margin": null,
            "max_height": null,
            "max_width": null,
            "min_height": null,
            "min_width": null,
            "object_fit": null,
            "object_position": null,
            "order": null,
            "overflow": null,
            "overflow_x": null,
            "overflow_y": null,
            "padding": null,
            "right": null,
            "top": null,
            "visibility": null,
            "width": null
          }
        },
        "a75df64116854e1583fc207c52408b6a": {
          "model_module": "@jupyter-widgets/controls",
          "model_name": "DescriptionStyleModel",
          "model_module_version": "1.5.0",
          "state": {
            "_model_module": "@jupyter-widgets/controls",
            "_model_module_version": "1.5.0",
            "_model_name": "DescriptionStyleModel",
            "_view_count": null,
            "_view_module": "@jupyter-widgets/base",
            "_view_module_version": "1.2.0",
            "_view_name": "StyleView",
            "description_width": ""
          }
        },
        "7e14818d87164ea680dd4bf0da9d20d6": {
          "model_module": "@jupyter-widgets/controls",
          "model_name": "HBoxModel",
          "model_module_version": "1.5.0",
          "state": {
            "_dom_classes": [],
            "_model_module": "@jupyter-widgets/controls",
            "_model_module_version": "1.5.0",
            "_model_name": "HBoxModel",
            "_view_count": null,
            "_view_module": "@jupyter-widgets/controls",
            "_view_module_version": "1.5.0",
            "_view_name": "HBoxView",
            "box_style": "",
            "children": [
              "IPY_MODEL_084a90115590495696d5bc57839ec65b",
              "IPY_MODEL_f30f08ee8a0d4c07b3bbe8a8e6119e82",
              "IPY_MODEL_843bc4cb24ae4276b4b421ae3a59d102"
            ],
            "layout": "IPY_MODEL_b1a551c25e924749b13181808c7cb45b"
          }
        },
        "084a90115590495696d5bc57839ec65b": {
          "model_module": "@jupyter-widgets/controls",
          "model_name": "HTMLModel",
          "model_module_version": "1.5.0",
          "state": {
            "_dom_classes": [],
            "_model_module": "@jupyter-widgets/controls",
            "_model_module_version": "1.5.0",
            "_model_name": "HTMLModel",
            "_view_count": null,
            "_view_module": "@jupyter-widgets/controls",
            "_view_module_version": "1.5.0",
            "_view_name": "HTMLView",
            "description": "",
            "description_tooltip": null,
            "layout": "IPY_MODEL_d4be2e0267804b8bb3f908035e8f3754",
            "placeholder": "​",
            "style": "IPY_MODEL_47658564d87a4efb98d6f0cb0b7208dd",
            "value": "Loading checkpoint shards: 100%"
          }
        },
        "f30f08ee8a0d4c07b3bbe8a8e6119e82": {
          "model_module": "@jupyter-widgets/controls",
          "model_name": "FloatProgressModel",
          "model_module_version": "1.5.0",
          "state": {
            "_dom_classes": [],
            "_model_module": "@jupyter-widgets/controls",
            "_model_module_version": "1.5.0",
            "_model_name": "FloatProgressModel",
            "_view_count": null,
            "_view_module": "@jupyter-widgets/controls",
            "_view_module_version": "1.5.0",
            "_view_name": "ProgressView",
            "bar_style": "success",
            "description": "",
            "description_tooltip": null,
            "layout": "IPY_MODEL_e214cebe262b433fbaf167808d810cdd",
            "max": 8,
            "min": 0,
            "orientation": "horizontal",
            "style": "IPY_MODEL_16040cdb53184cd88b9829297a74d0bd",
            "value": 8
          }
        },
        "843bc4cb24ae4276b4b421ae3a59d102": {
          "model_module": "@jupyter-widgets/controls",
          "model_name": "HTMLModel",
          "model_module_version": "1.5.0",
          "state": {
            "_dom_classes": [],
            "_model_module": "@jupyter-widgets/controls",
            "_model_module_version": "1.5.0",
            "_model_name": "HTMLModel",
            "_view_count": null,
            "_view_module": "@jupyter-widgets/controls",
            "_view_module_version": "1.5.0",
            "_view_name": "HTMLView",
            "description": "",
            "description_tooltip": null,
            "layout": "IPY_MODEL_795b42ec72ec4aa0b4638c4643d5631b",
            "placeholder": "​",
            "style": "IPY_MODEL_0e0d06e018f2482085b4c21b19686110",
            "value": " 8/8 [01:17&lt;00:00,  8.86s/it]"
          }
        },
        "b1a551c25e924749b13181808c7cb45b": {
          "model_module": "@jupyter-widgets/base",
          "model_name": "LayoutModel",
          "model_module_version": "1.2.0",
          "state": {
            "_model_module": "@jupyter-widgets/base",
            "_model_module_version": "1.2.0",
            "_model_name": "LayoutModel",
            "_view_count": null,
            "_view_module": "@jupyter-widgets/base",
            "_view_module_version": "1.2.0",
            "_view_name": "LayoutView",
            "align_content": null,
            "align_items": null,
            "align_self": null,
            "border": null,
            "bottom": null,
            "display": null,
            "flex": null,
            "flex_flow": null,
            "grid_area": null,
            "grid_auto_columns": null,
            "grid_auto_flow": null,
            "grid_auto_rows": null,
            "grid_column": null,
            "grid_gap": null,
            "grid_row": null,
            "grid_template_areas": null,
            "grid_template_columns": null,
            "grid_template_rows": null,
            "height": null,
            "justify_content": null,
            "justify_items": null,
            "left": null,
            "margin": null,
            "max_height": null,
            "max_width": null,
            "min_height": null,
            "min_width": null,
            "object_fit": null,
            "object_position": null,
            "order": null,
            "overflow": null,
            "overflow_x": null,
            "overflow_y": null,
            "padding": null,
            "right": null,
            "top": null,
            "visibility": null,
            "width": null
          }
        },
        "d4be2e0267804b8bb3f908035e8f3754": {
          "model_module": "@jupyter-widgets/base",
          "model_name": "LayoutModel",
          "model_module_version": "1.2.0",
          "state": {
            "_model_module": "@jupyter-widgets/base",
            "_model_module_version": "1.2.0",
            "_model_name": "LayoutModel",
            "_view_count": null,
            "_view_module": "@jupyter-widgets/base",
            "_view_module_version": "1.2.0",
            "_view_name": "LayoutView",
            "align_content": null,
            "align_items": null,
            "align_self": null,
            "border": null,
            "bottom": null,
            "display": null,
            "flex": null,
            "flex_flow": null,
            "grid_area": null,
            "grid_auto_columns": null,
            "grid_auto_flow": null,
            "grid_auto_rows": null,
            "grid_column": null,
            "grid_gap": null,
            "grid_row": null,
            "grid_template_areas": null,
            "grid_template_columns": null,
            "grid_template_rows": null,
            "height": null,
            "justify_content": null,
            "justify_items": null,
            "left": null,
            "margin": null,
            "max_height": null,
            "max_width": null,
            "min_height": null,
            "min_width": null,
            "object_fit": null,
            "object_position": null,
            "order": null,
            "overflow": null,
            "overflow_x": null,
            "overflow_y": null,
            "padding": null,
            "right": null,
            "top": null,
            "visibility": null,
            "width": null
          }
        },
        "47658564d87a4efb98d6f0cb0b7208dd": {
          "model_module": "@jupyter-widgets/controls",
          "model_name": "DescriptionStyleModel",
          "model_module_version": "1.5.0",
          "state": {
            "_model_module": "@jupyter-widgets/controls",
            "_model_module_version": "1.5.0",
            "_model_name": "DescriptionStyleModel",
            "_view_count": null,
            "_view_module": "@jupyter-widgets/base",
            "_view_module_version": "1.2.0",
            "_view_name": "StyleView",
            "description_width": ""
          }
        },
        "e214cebe262b433fbaf167808d810cdd": {
          "model_module": "@jupyter-widgets/base",
          "model_name": "LayoutModel",
          "model_module_version": "1.2.0",
          "state": {
            "_model_module": "@jupyter-widgets/base",
            "_model_module_version": "1.2.0",
            "_model_name": "LayoutModel",
            "_view_count": null,
            "_view_module": "@jupyter-widgets/base",
            "_view_module_version": "1.2.0",
            "_view_name": "LayoutView",
            "align_content": null,
            "align_items": null,
            "align_self": null,
            "border": null,
            "bottom": null,
            "display": null,
            "flex": null,
            "flex_flow": null,
            "grid_area": null,
            "grid_auto_columns": null,
            "grid_auto_flow": null,
            "grid_auto_rows": null,
            "grid_column": null,
            "grid_gap": null,
            "grid_row": null,
            "grid_template_areas": null,
            "grid_template_columns": null,
            "grid_template_rows": null,
            "height": null,
            "justify_content": null,
            "justify_items": null,
            "left": null,
            "margin": null,
            "max_height": null,
            "max_width": null,
            "min_height": null,
            "min_width": null,
            "object_fit": null,
            "object_position": null,
            "order": null,
            "overflow": null,
            "overflow_x": null,
            "overflow_y": null,
            "padding": null,
            "right": null,
            "top": null,
            "visibility": null,
            "width": null
          }
        },
        "16040cdb53184cd88b9829297a74d0bd": {
          "model_module": "@jupyter-widgets/controls",
          "model_name": "ProgressStyleModel",
          "model_module_version": "1.5.0",
          "state": {
            "_model_module": "@jupyter-widgets/controls",
            "_model_module_version": "1.5.0",
            "_model_name": "ProgressStyleModel",
            "_view_count": null,
            "_view_module": "@jupyter-widgets/base",
            "_view_module_version": "1.2.0",
            "_view_name": "StyleView",
            "bar_color": null,
            "description_width": ""
          }
        },
        "795b42ec72ec4aa0b4638c4643d5631b": {
          "model_module": "@jupyter-widgets/base",
          "model_name": "LayoutModel",
          "model_module_version": "1.2.0",
          "state": {
            "_model_module": "@jupyter-widgets/base",
            "_model_module_version": "1.2.0",
            "_model_name": "LayoutModel",
            "_view_count": null,
            "_view_module": "@jupyter-widgets/base",
            "_view_module_version": "1.2.0",
            "_view_name": "LayoutView",
            "align_content": null,
            "align_items": null,
            "align_self": null,
            "border": null,
            "bottom": null,
            "display": null,
            "flex": null,
            "flex_flow": null,
            "grid_area": null,
            "grid_auto_columns": null,
            "grid_auto_flow": null,
            "grid_auto_rows": null,
            "grid_column": null,
            "grid_gap": null,
            "grid_row": null,
            "grid_template_areas": null,
            "grid_template_columns": null,
            "grid_template_rows": null,
            "height": null,
            "justify_content": null,
            "justify_items": null,
            "left": null,
            "margin": null,
            "max_height": null,
            "max_width": null,
            "min_height": null,
            "min_width": null,
            "object_fit": null,
            "object_position": null,
            "order": null,
            "overflow": null,
            "overflow_x": null,
            "overflow_y": null,
            "padding": null,
            "right": null,
            "top": null,
            "visibility": null,
            "width": null
          }
        },
        "0e0d06e018f2482085b4c21b19686110": {
          "model_module": "@jupyter-widgets/controls",
          "model_name": "DescriptionStyleModel",
          "model_module_version": "1.5.0",
          "state": {
            "_model_module": "@jupyter-widgets/controls",
            "_model_module_version": "1.5.0",
            "_model_name": "DescriptionStyleModel",
            "_view_count": null,
            "_view_module": "@jupyter-widgets/base",
            "_view_module_version": "1.2.0",
            "_view_name": "StyleView",
            "description_width": ""
          }
        },
        "7f32eb1a89824dab9efcd5822dbf78cc": {
          "model_module": "@jupyter-widgets/controls",
          "model_name": "HBoxModel",
          "model_module_version": "1.5.0",
          "state": {
            "_dom_classes": [],
            "_model_module": "@jupyter-widgets/controls",
            "_model_module_version": "1.5.0",
            "_model_name": "HBoxModel",
            "_view_count": null,
            "_view_module": "@jupyter-widgets/controls",
            "_view_module_version": "1.5.0",
            "_view_name": "HBoxView",
            "box_style": "",
            "children": [
              "IPY_MODEL_7095dc7f39b54704b39a5f4106173833",
              "IPY_MODEL_f9271f213c8f4fa8b39f9e896a736432",
              "IPY_MODEL_4a5f4d1276344afea1b33f4426cfad4f"
            ],
            "layout": "IPY_MODEL_caffb24243c7451da7a48b4db7e0799c"
          }
        },
        "7095dc7f39b54704b39a5f4106173833": {
          "model_module": "@jupyter-widgets/controls",
          "model_name": "HTMLModel",
          "model_module_version": "1.5.0",
          "state": {
            "_dom_classes": [],
            "_model_module": "@jupyter-widgets/controls",
            "_model_module_version": "1.5.0",
            "_model_name": "HTMLModel",
            "_view_count": null,
            "_view_module": "@jupyter-widgets/controls",
            "_view_module_version": "1.5.0",
            "_view_name": "HTMLView",
            "description": "",
            "description_tooltip": null,
            "layout": "IPY_MODEL_d04f75896ce7488f9f5a4121c8b5f438",
            "placeholder": "​",
            "style": "IPY_MODEL_0243bc5c690e4a40be768cf42d30d40b",
            "value": "generation_config.json: 100%"
          }
        },
        "f9271f213c8f4fa8b39f9e896a736432": {
          "model_module": "@jupyter-widgets/controls",
          "model_name": "FloatProgressModel",
          "model_module_version": "1.5.0",
          "state": {
            "_dom_classes": [],
            "_model_module": "@jupyter-widgets/controls",
            "_model_module_version": "1.5.0",
            "_model_name": "FloatProgressModel",
            "_view_count": null,
            "_view_module": "@jupyter-widgets/controls",
            "_view_module_version": "1.5.0",
            "_view_name": "ProgressView",
            "bar_style": "success",
            "description": "",
            "description_tooltip": null,
            "layout": "IPY_MODEL_38676e325f1f48f590d52d39833f2e59",
            "max": 273,
            "min": 0,
            "orientation": "horizontal",
            "style": "IPY_MODEL_27d17b424c4241e7a4088326f05e17ed",
            "value": 273
          }
        },
        "4a5f4d1276344afea1b33f4426cfad4f": {
          "model_module": "@jupyter-widgets/controls",
          "model_name": "HTMLModel",
          "model_module_version": "1.5.0",
          "state": {
            "_dom_classes": [],
            "_model_module": "@jupyter-widgets/controls",
            "_model_module_version": "1.5.0",
            "_model_name": "HTMLModel",
            "_view_count": null,
            "_view_module": "@jupyter-widgets/controls",
            "_view_module_version": "1.5.0",
            "_view_name": "HTMLView",
            "description": "",
            "description_tooltip": null,
            "layout": "IPY_MODEL_e80bd8b9c205486a88b6c509a4be25a4",
            "placeholder": "​",
            "style": "IPY_MODEL_88ec7c85ea774207a28d667c744ec581",
            "value": " 273/273 [00:00&lt;00:00, 13.7kB/s]"
          }
        },
        "caffb24243c7451da7a48b4db7e0799c": {
          "model_module": "@jupyter-widgets/base",
          "model_name": "LayoutModel",
          "model_module_version": "1.2.0",
          "state": {
            "_model_module": "@jupyter-widgets/base",
            "_model_module_version": "1.2.0",
            "_model_name": "LayoutModel",
            "_view_count": null,
            "_view_module": "@jupyter-widgets/base",
            "_view_module_version": "1.2.0",
            "_view_name": "LayoutView",
            "align_content": null,
            "align_items": null,
            "align_self": null,
            "border": null,
            "bottom": null,
            "display": null,
            "flex": null,
            "flex_flow": null,
            "grid_area": null,
            "grid_auto_columns": null,
            "grid_auto_flow": null,
            "grid_auto_rows": null,
            "grid_column": null,
            "grid_gap": null,
            "grid_row": null,
            "grid_template_areas": null,
            "grid_template_columns": null,
            "grid_template_rows": null,
            "height": null,
            "justify_content": null,
            "justify_items": null,
            "left": null,
            "margin": null,
            "max_height": null,
            "max_width": null,
            "min_height": null,
            "min_width": null,
            "object_fit": null,
            "object_position": null,
            "order": null,
            "overflow": null,
            "overflow_x": null,
            "overflow_y": null,
            "padding": null,
            "right": null,
            "top": null,
            "visibility": null,
            "width": null
          }
        },
        "d04f75896ce7488f9f5a4121c8b5f438": {
          "model_module": "@jupyter-widgets/base",
          "model_name": "LayoutModel",
          "model_module_version": "1.2.0",
          "state": {
            "_model_module": "@jupyter-widgets/base",
            "_model_module_version": "1.2.0",
            "_model_name": "LayoutModel",
            "_view_count": null,
            "_view_module": "@jupyter-widgets/base",
            "_view_module_version": "1.2.0",
            "_view_name": "LayoutView",
            "align_content": null,
            "align_items": null,
            "align_self": null,
            "border": null,
            "bottom": null,
            "display": null,
            "flex": null,
            "flex_flow": null,
            "grid_area": null,
            "grid_auto_columns": null,
            "grid_auto_flow": null,
            "grid_auto_rows": null,
            "grid_column": null,
            "grid_gap": null,
            "grid_row": null,
            "grid_template_areas": null,
            "grid_template_columns": null,
            "grid_template_rows": null,
            "height": null,
            "justify_content": null,
            "justify_items": null,
            "left": null,
            "margin": null,
            "max_height": null,
            "max_width": null,
            "min_height": null,
            "min_width": null,
            "object_fit": null,
            "object_position": null,
            "order": null,
            "overflow": null,
            "overflow_x": null,
            "overflow_y": null,
            "padding": null,
            "right": null,
            "top": null,
            "visibility": null,
            "width": null
          }
        },
        "0243bc5c690e4a40be768cf42d30d40b": {
          "model_module": "@jupyter-widgets/controls",
          "model_name": "DescriptionStyleModel",
          "model_module_version": "1.5.0",
          "state": {
            "_model_module": "@jupyter-widgets/controls",
            "_model_module_version": "1.5.0",
            "_model_name": "DescriptionStyleModel",
            "_view_count": null,
            "_view_module": "@jupyter-widgets/base",
            "_view_module_version": "1.2.0",
            "_view_name": "StyleView",
            "description_width": ""
          }
        },
        "38676e325f1f48f590d52d39833f2e59": {
          "model_module": "@jupyter-widgets/base",
          "model_name": "LayoutModel",
          "model_module_version": "1.2.0",
          "state": {
            "_model_module": "@jupyter-widgets/base",
            "_model_module_version": "1.2.0",
            "_model_name": "LayoutModel",
            "_view_count": null,
            "_view_module": "@jupyter-widgets/base",
            "_view_module_version": "1.2.0",
            "_view_name": "LayoutView",
            "align_content": null,
            "align_items": null,
            "align_self": null,
            "border": null,
            "bottom": null,
            "display": null,
            "flex": null,
            "flex_flow": null,
            "grid_area": null,
            "grid_auto_columns": null,
            "grid_auto_flow": null,
            "grid_auto_rows": null,
            "grid_column": null,
            "grid_gap": null,
            "grid_row": null,
            "grid_template_areas": null,
            "grid_template_columns": null,
            "grid_template_rows": null,
            "height": null,
            "justify_content": null,
            "justify_items": null,
            "left": null,
            "margin": null,
            "max_height": null,
            "max_width": null,
            "min_height": null,
            "min_width": null,
            "object_fit": null,
            "object_position": null,
            "order": null,
            "overflow": null,
            "overflow_x": null,
            "overflow_y": null,
            "padding": null,
            "right": null,
            "top": null,
            "visibility": null,
            "width": null
          }
        },
        "27d17b424c4241e7a4088326f05e17ed": {
          "model_module": "@jupyter-widgets/controls",
          "model_name": "ProgressStyleModel",
          "model_module_version": "1.5.0",
          "state": {
            "_model_module": "@jupyter-widgets/controls",
            "_model_module_version": "1.5.0",
            "_model_name": "ProgressStyleModel",
            "_view_count": null,
            "_view_module": "@jupyter-widgets/base",
            "_view_module_version": "1.2.0",
            "_view_name": "StyleView",
            "bar_color": null,
            "description_width": ""
          }
        },
        "e80bd8b9c205486a88b6c509a4be25a4": {
          "model_module": "@jupyter-widgets/base",
          "model_name": "LayoutModel",
          "model_module_version": "1.2.0",
          "state": {
            "_model_module": "@jupyter-widgets/base",
            "_model_module_version": "1.2.0",
            "_model_name": "LayoutModel",
            "_view_count": null,
            "_view_module": "@jupyter-widgets/base",
            "_view_module_version": "1.2.0",
            "_view_name": "LayoutView",
            "align_content": null,
            "align_items": null,
            "align_self": null,
            "border": null,
            "bottom": null,
            "display": null,
            "flex": null,
            "flex_flow": null,
            "grid_area": null,
            "grid_auto_columns": null,
            "grid_auto_flow": null,
            "grid_auto_rows": null,
            "grid_column": null,
            "grid_gap": null,
            "grid_row": null,
            "grid_template_areas": null,
            "grid_template_columns": null,
            "grid_template_rows": null,
            "height": null,
            "justify_content": null,
            "justify_items": null,
            "left": null,
            "margin": null,
            "max_height": null,
            "max_width": null,
            "min_height": null,
            "min_width": null,
            "object_fit": null,
            "object_position": null,
            "order": null,
            "overflow": null,
            "overflow_x": null,
            "overflow_y": null,
            "padding": null,
            "right": null,
            "top": null,
            "visibility": null,
            "width": null
          }
        },
        "88ec7c85ea774207a28d667c744ec581": {
          "model_module": "@jupyter-widgets/controls",
          "model_name": "DescriptionStyleModel",
          "model_module_version": "1.5.0",
          "state": {
            "_model_module": "@jupyter-widgets/controls",
            "_model_module_version": "1.5.0",
            "_model_name": "DescriptionStyleModel",
            "_view_count": null,
            "_view_module": "@jupyter-widgets/base",
            "_view_module_version": "1.2.0",
            "_view_name": "StyleView",
            "description_width": ""
          }
        }
      }
    }
  },
  "nbformat": 4,
  "nbformat_minor": 5
}