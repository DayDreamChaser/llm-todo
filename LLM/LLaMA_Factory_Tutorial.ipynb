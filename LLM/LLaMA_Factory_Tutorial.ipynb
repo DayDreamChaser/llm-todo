{
  "nbformat": 4,
  "nbformat_minor": 0,
  "metadata": {
    "colab": {
      "provenance": [],
      "gpuType": "T4",
      "include_colab_link": true
    },
    "kernelspec": {
      "name": "python3",
      "display_name": "Python 3"
    },
    "language_info": {
      "name": "python"
    },
    "accelerator": "GPU",
    "widgets": {
      "application/vnd.jupyter.widget-state+json": {
        "1beb7d33abd741abbc2972bb48b4b9bb": {
          "model_module": "@jupyter-widgets/controls",
          "model_name": "HBoxModel",
          "model_module_version": "1.5.0",
          "state": {
            "_dom_classes": [],
            "_model_module": "@jupyter-widgets/controls",
            "_model_module_version": "1.5.0",
            "_model_name": "HBoxModel",
            "_view_count": null,
            "_view_module": "@jupyter-widgets/controls",
            "_view_module_version": "1.5.0",
            "_view_name": "HBoxView",
            "box_style": "",
            "children": [
              "IPY_MODEL_23d3a4d7f87245ae97859d77c01ef633",
              "IPY_MODEL_e58d8f51de494c34ae485289b23f90c9",
              "IPY_MODEL_a0f47c5484d6461e8f11398b279f1d9a"
            ],
            "layout": "IPY_MODEL_d9ef53356ff744849e7cb4c8e610bbea"
          }
        },
        "23d3a4d7f87245ae97859d77c01ef633": {
          "model_module": "@jupyter-widgets/controls",
          "model_name": "HTMLModel",
          "model_module_version": "1.5.0",
          "state": {
            "_dom_classes": [],
            "_model_module": "@jupyter-widgets/controls",
            "_model_module_version": "1.5.0",
            "_model_name": "HTMLModel",
            "_view_count": null,
            "_view_module": "@jupyter-widgets/controls",
            "_view_module_version": "1.5.0",
            "_view_name": "HTMLView",
            "description": "",
            "description_tooltip": null,
            "layout": "IPY_MODEL_a7f05924d910420c884464799a623a87",
            "placeholder": "​",
            "style": "IPY_MODEL_159755c6de394e7d9c5a25907dc153b5",
            "value": "model.safetensors: 100%"
          }
        },
        "e58d8f51de494c34ae485289b23f90c9": {
          "model_module": "@jupyter-widgets/controls",
          "model_name": "FloatProgressModel",
          "model_module_version": "1.5.0",
          "state": {
            "_dom_classes": [],
            "_model_module": "@jupyter-widgets/controls",
            "_model_module_version": "1.5.0",
            "_model_name": "FloatProgressModel",
            "_view_count": null,
            "_view_module": "@jupyter-widgets/controls",
            "_view_module_version": "1.5.0",
            "_view_name": "ProgressView",
            "bar_style": "success",
            "description": "",
            "description_tooltip": null,
            "layout": "IPY_MODEL_64181e96c6db484c8bcd9c5e5f9c4421",
            "max": 928008104,
            "min": 0,
            "orientation": "horizontal",
            "style": "IPY_MODEL_806b6e6df1a64a67b547e542f1c3d4f9",
            "value": 928008104
          }
        },
        "a0f47c5484d6461e8f11398b279f1d9a": {
          "model_module": "@jupyter-widgets/controls",
          "model_name": "HTMLModel",
          "model_module_version": "1.5.0",
          "state": {
            "_dom_classes": [],
            "_model_module": "@jupyter-widgets/controls",
            "_model_module_version": "1.5.0",
            "_model_name": "HTMLModel",
            "_view_count": null,
            "_view_module": "@jupyter-widgets/controls",
            "_view_module_version": "1.5.0",
            "_view_name": "HTMLView",
            "description": "",
            "description_tooltip": null,
            "layout": "IPY_MODEL_7f1512d7f38740548588d12d46e9a438",
            "placeholder": "​",
            "style": "IPY_MODEL_195bfaa83de043fd97f9b5f1c79e44a1",
            "value": " 928M/928M [00:19&lt;00:00, 39.6MB/s]"
          }
        },
        "d9ef53356ff744849e7cb4c8e610bbea": {
          "model_module": "@jupyter-widgets/base",
          "model_name": "LayoutModel",
          "model_module_version": "1.2.0",
          "state": {
            "_model_module": "@jupyter-widgets/base",
            "_model_module_version": "1.2.0",
            "_model_name": "LayoutModel",
            "_view_count": null,
            "_view_module": "@jupyter-widgets/base",
            "_view_module_version": "1.2.0",
            "_view_name": "LayoutView",
            "align_content": null,
            "align_items": null,
            "align_self": null,
            "border": null,
            "bottom": null,
            "display": null,
            "flex": null,
            "flex_flow": null,
            "grid_area": null,
            "grid_auto_columns": null,
            "grid_auto_flow": null,
            "grid_auto_rows": null,
            "grid_column": null,
            "grid_gap": null,
            "grid_row": null,
            "grid_template_areas": null,
            "grid_template_columns": null,
            "grid_template_rows": null,
            "height": null,
            "justify_content": null,
            "justify_items": null,
            "left": null,
            "margin": null,
            "max_height": null,
            "max_width": null,
            "min_height": null,
            "min_width": null,
            "object_fit": null,
            "object_position": null,
            "order": null,
            "overflow": null,
            "overflow_x": null,
            "overflow_y": null,
            "padding": null,
            "right": null,
            "top": null,
            "visibility": null,
            "width": null
          }
        },
        "a7f05924d910420c884464799a623a87": {
          "model_module": "@jupyter-widgets/base",
          "model_name": "LayoutModel",
          "model_module_version": "1.2.0",
          "state": {
            "_model_module": "@jupyter-widgets/base",
            "_model_module_version": "1.2.0",
            "_model_name": "LayoutModel",
            "_view_count": null,
            "_view_module": "@jupyter-widgets/base",
            "_view_module_version": "1.2.0",
            "_view_name": "LayoutView",
            "align_content": null,
            "align_items": null,
            "align_self": null,
            "border": null,
            "bottom": null,
            "display": null,
            "flex": null,
            "flex_flow": null,
            "grid_area": null,
            "grid_auto_columns": null,
            "grid_auto_flow": null,
            "grid_auto_rows": null,
            "grid_column": null,
            "grid_gap": null,
            "grid_row": null,
            "grid_template_areas": null,
            "grid_template_columns": null,
            "grid_template_rows": null,
            "height": null,
            "justify_content": null,
            "justify_items": null,
            "left": null,
            "margin": null,
            "max_height": null,
            "max_width": null,
            "min_height": null,
            "min_width": null,
            "object_fit": null,
            "object_position": null,
            "order": null,
            "overflow": null,
            "overflow_x": null,
            "overflow_y": null,
            "padding": null,
            "right": null,
            "top": null,
            "visibility": null,
            "width": null
          }
        },
        "159755c6de394e7d9c5a25907dc153b5": {
          "model_module": "@jupyter-widgets/controls",
          "model_name": "DescriptionStyleModel",
          "model_module_version": "1.5.0",
          "state": {
            "_model_module": "@jupyter-widgets/controls",
            "_model_module_version": "1.5.0",
            "_model_name": "DescriptionStyleModel",
            "_view_count": null,
            "_view_module": "@jupyter-widgets/base",
            "_view_module_version": "1.2.0",
            "_view_name": "StyleView",
            "description_width": ""
          }
        },
        "64181e96c6db484c8bcd9c5e5f9c4421": {
          "model_module": "@jupyter-widgets/base",
          "model_name": "LayoutModel",
          "model_module_version": "1.2.0",
          "state": {
            "_model_module": "@jupyter-widgets/base",
            "_model_module_version": "1.2.0",
            "_model_name": "LayoutModel",
            "_view_count": null,
            "_view_module": "@jupyter-widgets/base",
            "_view_module_version": "1.2.0",
            "_view_name": "LayoutView",
            "align_content": null,
            "align_items": null,
            "align_self": null,
            "border": null,
            "bottom": null,
            "display": null,
            "flex": null,
            "flex_flow": null,
            "grid_area": null,
            "grid_auto_columns": null,
            "grid_auto_flow": null,
            "grid_auto_rows": null,
            "grid_column": null,
            "grid_gap": null,
            "grid_row": null,
            "grid_template_areas": null,
            "grid_template_columns": null,
            "grid_template_rows": null,
            "height": null,
            "justify_content": null,
            "justify_items": null,
            "left": null,
            "margin": null,
            "max_height": null,
            "max_width": null,
            "min_height": null,
            "min_width": null,
            "object_fit": null,
            "object_position": null,
            "order": null,
            "overflow": null,
            "overflow_x": null,
            "overflow_y": null,
            "padding": null,
            "right": null,
            "top": null,
            "visibility": null,
            "width": null
          }
        },
        "806b6e6df1a64a67b547e542f1c3d4f9": {
          "model_module": "@jupyter-widgets/controls",
          "model_name": "ProgressStyleModel",
          "model_module_version": "1.5.0",
          "state": {
            "_model_module": "@jupyter-widgets/controls",
            "_model_module_version": "1.5.0",
            "_model_name": "ProgressStyleModel",
            "_view_count": null,
            "_view_module": "@jupyter-widgets/base",
            "_view_module_version": "1.2.0",
            "_view_name": "StyleView",
            "bar_color": null,
            "description_width": ""
          }
        },
        "7f1512d7f38740548588d12d46e9a438": {
          "model_module": "@jupyter-widgets/base",
          "model_name": "LayoutModel",
          "model_module_version": "1.2.0",
          "state": {
            "_model_module": "@jupyter-widgets/base",
            "_model_module_version": "1.2.0",
            "_model_name": "LayoutModel",
            "_view_count": null,
            "_view_module": "@jupyter-widgets/base",
            "_view_module_version": "1.2.0",
            "_view_name": "LayoutView",
            "align_content": null,
            "align_items": null,
            "align_self": null,
            "border": null,
            "bottom": null,
            "display": null,
            "flex": null,
            "flex_flow": null,
            "grid_area": null,
            "grid_auto_columns": null,
            "grid_auto_flow": null,
            "grid_auto_rows": null,
            "grid_column": null,
            "grid_gap": null,
            "grid_row": null,
            "grid_template_areas": null,
            "grid_template_columns": null,
            "grid_template_rows": null,
            "height": null,
            "justify_content": null,
            "justify_items": null,
            "left": null,
            "margin": null,
            "max_height": null,
            "max_width": null,
            "min_height": null,
            "min_width": null,
            "object_fit": null,
            "object_position": null,
            "order": null,
            "overflow": null,
            "overflow_x": null,
            "overflow_y": null,
            "padding": null,
            "right": null,
            "top": null,
            "visibility": null,
            "width": null
          }
        },
        "195bfaa83de043fd97f9b5f1c79e44a1": {
          "model_module": "@jupyter-widgets/controls",
          "model_name": "DescriptionStyleModel",
          "model_module_version": "1.5.0",
          "state": {
            "_model_module": "@jupyter-widgets/controls",
            "_model_module_version": "1.5.0",
            "_model_name": "DescriptionStyleModel",
            "_view_count": null,
            "_view_module": "@jupyter-widgets/base",
            "_view_module_version": "1.2.0",
            "_view_name": "StyleView",
            "description_width": ""
          }
        },
        "2bde6ae496a04435b40e0760af81f1a6": {
          "model_module": "@jupyter-widgets/controls",
          "model_name": "HBoxModel",
          "model_module_version": "1.5.0",
          "state": {
            "_dom_classes": [],
            "_model_module": "@jupyter-widgets/controls",
            "_model_module_version": "1.5.0",
            "_model_name": "HBoxModel",
            "_view_count": null,
            "_view_module": "@jupyter-widgets/controls",
            "_view_module_version": "1.5.0",
            "_view_name": "HBoxView",
            "box_style": "",
            "children": [
              "IPY_MODEL_f4c5e9c5f07f4778877143f4bcad4604",
              "IPY_MODEL_eb890d67981944b48e573e8c6fc25853",
              "IPY_MODEL_1a13f097ad494efbbb09561c3db5d54a"
            ],
            "layout": "IPY_MODEL_0633218a783f400398d1eeb270e3503f"
          }
        },
        "f4c5e9c5f07f4778877143f4bcad4604": {
          "model_module": "@jupyter-widgets/controls",
          "model_name": "HTMLModel",
          "model_module_version": "1.5.0",
          "state": {
            "_dom_classes": [],
            "_model_module": "@jupyter-widgets/controls",
            "_model_module_version": "1.5.0",
            "_model_name": "HTMLModel",
            "_view_count": null,
            "_view_module": "@jupyter-widgets/controls",
            "_view_module_version": "1.5.0",
            "_view_name": "HTMLView",
            "description": "",
            "description_tooltip": null,
            "layout": "IPY_MODEL_e7a9959a89694a619f9ad8d62458fd51",
            "placeholder": "​",
            "style": "IPY_MODEL_111f90e4751f49c0a62d0dcfe6e57d41",
            "value": "README.md: 100%"
          }
        },
        "eb890d67981944b48e573e8c6fc25853": {
          "model_module": "@jupyter-widgets/controls",
          "model_name": "FloatProgressModel",
          "model_module_version": "1.5.0",
          "state": {
            "_dom_classes": [],
            "_model_module": "@jupyter-widgets/controls",
            "_model_module_version": "1.5.0",
            "_model_name": "FloatProgressModel",
            "_view_count": null,
            "_view_module": "@jupyter-widgets/controls",
            "_view_module_version": "1.5.0",
            "_view_name": "ProgressView",
            "bar_style": "success",
            "description": "",
            "description_tooltip": null,
            "layout": "IPY_MODEL_9ed23ee348544a2887fcca33c72d3f56",
            "max": 5191,
            "min": 0,
            "orientation": "horizontal",
            "style": "IPY_MODEL_a516badeb7314612ba6c3a1d50749b24",
            "value": 5191
          }
        },
        "1a13f097ad494efbbb09561c3db5d54a": {
          "model_module": "@jupyter-widgets/controls",
          "model_name": "HTMLModel",
          "model_module_version": "1.5.0",
          "state": {
            "_dom_classes": [],
            "_model_module": "@jupyter-widgets/controls",
            "_model_module_version": "1.5.0",
            "_model_name": "HTMLModel",
            "_view_count": null,
            "_view_module": "@jupyter-widgets/controls",
            "_view_module_version": "1.5.0",
            "_view_name": "HTMLView",
            "description": "",
            "description_tooltip": null,
            "layout": "IPY_MODEL_a8827469c20340d58ab9983bd0621a97",
            "placeholder": "​",
            "style": "IPY_MODEL_ff2129dcef5d410db7fe3505ed07389a",
            "value": " 5.19k/5.19k [00:00&lt;00:00, 370kB/s]"
          }
        },
        "0633218a783f400398d1eeb270e3503f": {
          "model_module": "@jupyter-widgets/base",
          "model_name": "LayoutModel",
          "model_module_version": "1.2.0",
          "state": {
            "_model_module": "@jupyter-widgets/base",
            "_model_module_version": "1.2.0",
            "_model_name": "LayoutModel",
            "_view_count": null,
            "_view_module": "@jupyter-widgets/base",
            "_view_module_version": "1.2.0",
            "_view_name": "LayoutView",
            "align_content": null,
            "align_items": null,
            "align_self": null,
            "border": null,
            "bottom": null,
            "display": null,
            "flex": null,
            "flex_flow": null,
            "grid_area": null,
            "grid_auto_columns": null,
            "grid_auto_flow": null,
            "grid_auto_rows": null,
            "grid_column": null,
            "grid_gap": null,
            "grid_row": null,
            "grid_template_areas": null,
            "grid_template_columns": null,
            "grid_template_rows": null,
            "height": null,
            "justify_content": null,
            "justify_items": null,
            "left": null,
            "margin": null,
            "max_height": null,
            "max_width": null,
            "min_height": null,
            "min_width": null,
            "object_fit": null,
            "object_position": null,
            "order": null,
            "overflow": null,
            "overflow_x": null,
            "overflow_y": null,
            "padding": null,
            "right": null,
            "top": null,
            "visibility": null,
            "width": null
          }
        },
        "e7a9959a89694a619f9ad8d62458fd51": {
          "model_module": "@jupyter-widgets/base",
          "model_name": "LayoutModel",
          "model_module_version": "1.2.0",
          "state": {
            "_model_module": "@jupyter-widgets/base",
            "_model_module_version": "1.2.0",
            "_model_name": "LayoutModel",
            "_view_count": null,
            "_view_module": "@jupyter-widgets/base",
            "_view_module_version": "1.2.0",
            "_view_name": "LayoutView",
            "align_content": null,
            "align_items": null,
            "align_self": null,
            "border": null,
            "bottom": null,
            "display": null,
            "flex": null,
            "flex_flow": null,
            "grid_area": null,
            "grid_auto_columns": null,
            "grid_auto_flow": null,
            "grid_auto_rows": null,
            "grid_column": null,
            "grid_gap": null,
            "grid_row": null,
            "grid_template_areas": null,
            "grid_template_columns": null,
            "grid_template_rows": null,
            "height": null,
            "justify_content": null,
            "justify_items": null,
            "left": null,
            "margin": null,
            "max_height": null,
            "max_width": null,
            "min_height": null,
            "min_width": null,
            "object_fit": null,
            "object_position": null,
            "order": null,
            "overflow": null,
            "overflow_x": null,
            "overflow_y": null,
            "padding": null,
            "right": null,
            "top": null,
            "visibility": null,
            "width": null
          }
        },
        "111f90e4751f49c0a62d0dcfe6e57d41": {
          "model_module": "@jupyter-widgets/controls",
          "model_name": "DescriptionStyleModel",
          "model_module_version": "1.5.0",
          "state": {
            "_model_module": "@jupyter-widgets/controls",
            "_model_module_version": "1.5.0",
            "_model_name": "DescriptionStyleModel",
            "_view_count": null,
            "_view_module": "@jupyter-widgets/base",
            "_view_module_version": "1.2.0",
            "_view_name": "StyleView",
            "description_width": ""
          }
        },
        "9ed23ee348544a2887fcca33c72d3f56": {
          "model_module": "@jupyter-widgets/base",
          "model_name": "LayoutModel",
          "model_module_version": "1.2.0",
          "state": {
            "_model_module": "@jupyter-widgets/base",
            "_model_module_version": "1.2.0",
            "_model_name": "LayoutModel",
            "_view_count": null,
            "_view_module": "@jupyter-widgets/base",
            "_view_module_version": "1.2.0",
            "_view_name": "LayoutView",
            "align_content": null,
            "align_items": null,
            "align_self": null,
            "border": null,
            "bottom": null,
            "display": null,
            "flex": null,
            "flex_flow": null,
            "grid_area": null,
            "grid_auto_columns": null,
            "grid_auto_flow": null,
            "grid_auto_rows": null,
            "grid_column": null,
            "grid_gap": null,
            "grid_row": null,
            "grid_template_areas": null,
            "grid_template_columns": null,
            "grid_template_rows": null,
            "height": null,
            "justify_content": null,
            "justify_items": null,
            "left": null,
            "margin": null,
            "max_height": null,
            "max_width": null,
            "min_height": null,
            "min_width": null,
            "object_fit": null,
            "object_position": null,
            "order": null,
            "overflow": null,
            "overflow_x": null,
            "overflow_y": null,
            "padding": null,
            "right": null,
            "top": null,
            "visibility": null,
            "width": null
          }
        },
        "a516badeb7314612ba6c3a1d50749b24": {
          "model_module": "@jupyter-widgets/controls",
          "model_name": "ProgressStyleModel",
          "model_module_version": "1.5.0",
          "state": {
            "_model_module": "@jupyter-widgets/controls",
            "_model_module_version": "1.5.0",
            "_model_name": "ProgressStyleModel",
            "_view_count": null,
            "_view_module": "@jupyter-widgets/base",
            "_view_module_version": "1.2.0",
            "_view_name": "StyleView",
            "bar_color": null,
            "description_width": ""
          }
        },
        "a8827469c20340d58ab9983bd0621a97": {
          "model_module": "@jupyter-widgets/base",
          "model_name": "LayoutModel",
          "model_module_version": "1.2.0",
          "state": {
            "_model_module": "@jupyter-widgets/base",
            "_model_module_version": "1.2.0",
            "_model_name": "LayoutModel",
            "_view_count": null,
            "_view_module": "@jupyter-widgets/base",
            "_view_module_version": "1.2.0",
            "_view_name": "LayoutView",
            "align_content": null,
            "align_items": null,
            "align_self": null,
            "border": null,
            "bottom": null,
            "display": null,
            "flex": null,
            "flex_flow": null,
            "grid_area": null,
            "grid_auto_columns": null,
            "grid_auto_flow": null,
            "grid_auto_rows": null,
            "grid_column": null,
            "grid_gap": null,
            "grid_row": null,
            "grid_template_areas": null,
            "grid_template_columns": null,
            "grid_template_rows": null,
            "height": null,
            "justify_content": null,
            "justify_items": null,
            "left": null,
            "margin": null,
            "max_height": null,
            "max_width": null,
            "min_height": null,
            "min_width": null,
            "object_fit": null,
            "object_position": null,
            "order": null,
            "overflow": null,
            "overflow_x": null,
            "overflow_y": null,
            "padding": null,
            "right": null,
            "top": null,
            "visibility": null,
            "width": null
          }
        },
        "ff2129dcef5d410db7fe3505ed07389a": {
          "model_module": "@jupyter-widgets/controls",
          "model_name": "DescriptionStyleModel",
          "model_module_version": "1.5.0",
          "state": {
            "_model_module": "@jupyter-widgets/controls",
            "_model_module_version": "1.5.0",
            "_model_name": "DescriptionStyleModel",
            "_view_count": null,
            "_view_module": "@jupyter-widgets/base",
            "_view_module_version": "1.2.0",
            "_view_name": "StyleView",
            "description_width": ""
          }
        },
        "8a11912e789d4af98c491ea8378888c5": {
          "model_module": "@jupyter-widgets/controls",
          "model_name": "HBoxModel",
          "model_module_version": "1.5.0",
          "state": {
            "_dom_classes": [],
            "_model_module": "@jupyter-widgets/controls",
            "_model_module_version": "1.5.0",
            "_model_name": "HBoxModel",
            "_view_count": null,
            "_view_module": "@jupyter-widgets/controls",
            "_view_module_version": "1.5.0",
            "_view_name": "HBoxView",
            "box_style": "",
            "children": [
              "IPY_MODEL_854b8d083b4b45cf9718d174699d25cd",
              "IPY_MODEL_ded97d22ffe94af39ef8160ad278125a",
              "IPY_MODEL_f82c06edaa9140c9891aa81b33e2768d"
            ],
            "layout": "IPY_MODEL_837c151f5ebe410cb1cf6cddd9e741fd"
          }
        },
        "854b8d083b4b45cf9718d174699d25cd": {
          "model_module": "@jupyter-widgets/controls",
          "model_name": "HTMLModel",
          "model_module_version": "1.5.0",
          "state": {
            "_dom_classes": [],
            "_model_module": "@jupyter-widgets/controls",
            "_model_module_version": "1.5.0",
            "_model_name": "HTMLModel",
            "_view_count": null,
            "_view_module": "@jupyter-widgets/controls",
            "_view_module_version": "1.5.0",
            "_view_name": "HTMLView",
            "description": "",
            "description_tooltip": null,
            "layout": "IPY_MODEL_54ba8238992542ff8bd492d885c11192",
            "placeholder": "​",
            "style": "IPY_MODEL_6206f04fbaed42c0a2c4bf14a123a43d",
            "value": "tokenizer_config.json: 100%"
          }
        },
        "ded97d22ffe94af39ef8160ad278125a": {
          "model_module": "@jupyter-widgets/controls",
          "model_name": "FloatProgressModel",
          "model_module_version": "1.5.0",
          "state": {
            "_dom_classes": [],
            "_model_module": "@jupyter-widgets/controls",
            "_model_module_version": "1.5.0",
            "_model_name": "FloatProgressModel",
            "_view_count": null,
            "_view_module": "@jupyter-widgets/controls",
            "_view_module_version": "1.5.0",
            "_view_name": "ProgressView",
            "bar_style": "success",
            "description": "",
            "description_tooltip": null,
            "layout": "IPY_MODEL_43089b021d1b4a52aec20af95ff9fb82",
            "max": 1286,
            "min": 0,
            "orientation": "horizontal",
            "style": "IPY_MODEL_4ec31adc82ab4aeb9805e9ddb933ed45",
            "value": 1286
          }
        },
        "f82c06edaa9140c9891aa81b33e2768d": {
          "model_module": "@jupyter-widgets/controls",
          "model_name": "HTMLModel",
          "model_module_version": "1.5.0",
          "state": {
            "_dom_classes": [],
            "_model_module": "@jupyter-widgets/controls",
            "_model_module_version": "1.5.0",
            "_model_name": "HTMLModel",
            "_view_count": null,
            "_view_module": "@jupyter-widgets/controls",
            "_view_module_version": "1.5.0",
            "_view_name": "HTMLView",
            "description": "",
            "description_tooltip": null,
            "layout": "IPY_MODEL_a2f30de5d0c04241ac5ea33083629b17",
            "placeholder": "​",
            "style": "IPY_MODEL_bb2d0bbac33843eebdf90e868abec660",
            "value": " 1.29k/1.29k [00:00&lt;00:00, 35.3kB/s]"
          }
        },
        "837c151f5ebe410cb1cf6cddd9e741fd": {
          "model_module": "@jupyter-widgets/base",
          "model_name": "LayoutModel",
          "model_module_version": "1.2.0",
          "state": {
            "_model_module": "@jupyter-widgets/base",
            "_model_module_version": "1.2.0",
            "_model_name": "LayoutModel",
            "_view_count": null,
            "_view_module": "@jupyter-widgets/base",
            "_view_module_version": "1.2.0",
            "_view_name": "LayoutView",
            "align_content": null,
            "align_items": null,
            "align_self": null,
            "border": null,
            "bottom": null,
            "display": null,
            "flex": null,
            "flex_flow": null,
            "grid_area": null,
            "grid_auto_columns": null,
            "grid_auto_flow": null,
            "grid_auto_rows": null,
            "grid_column": null,
            "grid_gap": null,
            "grid_row": null,
            "grid_template_areas": null,
            "grid_template_columns": null,
            "grid_template_rows": null,
            "height": null,
            "justify_content": null,
            "justify_items": null,
            "left": null,
            "margin": null,
            "max_height": null,
            "max_width": null,
            "min_height": null,
            "min_width": null,
            "object_fit": null,
            "object_position": null,
            "order": null,
            "overflow": null,
            "overflow_x": null,
            "overflow_y": null,
            "padding": null,
            "right": null,
            "top": null,
            "visibility": null,
            "width": null
          }
        },
        "54ba8238992542ff8bd492d885c11192": {
          "model_module": "@jupyter-widgets/base",
          "model_name": "LayoutModel",
          "model_module_version": "1.2.0",
          "state": {
            "_model_module": "@jupyter-widgets/base",
            "_model_module_version": "1.2.0",
            "_model_name": "LayoutModel",
            "_view_count": null,
            "_view_module": "@jupyter-widgets/base",
            "_view_module_version": "1.2.0",
            "_view_name": "LayoutView",
            "align_content": null,
            "align_items": null,
            "align_self": null,
            "border": null,
            "bottom": null,
            "display": null,
            "flex": null,
            "flex_flow": null,
            "grid_area": null,
            "grid_auto_columns": null,
            "grid_auto_flow": null,
            "grid_auto_rows": null,
            "grid_column": null,
            "grid_gap": null,
            "grid_row": null,
            "grid_template_areas": null,
            "grid_template_columns": null,
            "grid_template_rows": null,
            "height": null,
            "justify_content": null,
            "justify_items": null,
            "left": null,
            "margin": null,
            "max_height": null,
            "max_width": null,
            "min_height": null,
            "min_width": null,
            "object_fit": null,
            "object_position": null,
            "order": null,
            "overflow": null,
            "overflow_x": null,
            "overflow_y": null,
            "padding": null,
            "right": null,
            "top": null,
            "visibility": null,
            "width": null
          }
        },
        "6206f04fbaed42c0a2c4bf14a123a43d": {
          "model_module": "@jupyter-widgets/controls",
          "model_name": "DescriptionStyleModel",
          "model_module_version": "1.5.0",
          "state": {
            "_model_module": "@jupyter-widgets/controls",
            "_model_module_version": "1.5.0",
            "_model_name": "DescriptionStyleModel",
            "_view_count": null,
            "_view_module": "@jupyter-widgets/base",
            "_view_module_version": "1.2.0",
            "_view_name": "StyleView",
            "description_width": ""
          }
        },
        "43089b021d1b4a52aec20af95ff9fb82": {
          "model_module": "@jupyter-widgets/base",
          "model_name": "LayoutModel",
          "model_module_version": "1.2.0",
          "state": {
            "_model_module": "@jupyter-widgets/base",
            "_model_module_version": "1.2.0",
            "_model_name": "LayoutModel",
            "_view_count": null,
            "_view_module": "@jupyter-widgets/base",
            "_view_module_version": "1.2.0",
            "_view_name": "LayoutView",
            "align_content": null,
            "align_items": null,
            "align_self": null,
            "border": null,
            "bottom": null,
            "display": null,
            "flex": null,
            "flex_flow": null,
            "grid_area": null,
            "grid_auto_columns": null,
            "grid_auto_flow": null,
            "grid_auto_rows": null,
            "grid_column": null,
            "grid_gap": null,
            "grid_row": null,
            "grid_template_areas": null,
            "grid_template_columns": null,
            "grid_template_rows": null,
            "height": null,
            "justify_content": null,
            "justify_items": null,
            "left": null,
            "margin": null,
            "max_height": null,
            "max_width": null,
            "min_height": null,
            "min_width": null,
            "object_fit": null,
            "object_position": null,
            "order": null,
            "overflow": null,
            "overflow_x": null,
            "overflow_y": null,
            "padding": null,
            "right": null,
            "top": null,
            "visibility": null,
            "width": null
          }
        },
        "4ec31adc82ab4aeb9805e9ddb933ed45": {
          "model_module": "@jupyter-widgets/controls",
          "model_name": "ProgressStyleModel",
          "model_module_version": "1.5.0",
          "state": {
            "_model_module": "@jupyter-widgets/controls",
            "_model_module_version": "1.5.0",
            "_model_name": "ProgressStyleModel",
            "_view_count": null,
            "_view_module": "@jupyter-widgets/base",
            "_view_module_version": "1.2.0",
            "_view_name": "StyleView",
            "bar_color": null,
            "description_width": ""
          }
        },
        "a2f30de5d0c04241ac5ea33083629b17": {
          "model_module": "@jupyter-widgets/base",
          "model_name": "LayoutModel",
          "model_module_version": "1.2.0",
          "state": {
            "_model_module": "@jupyter-widgets/base",
            "_model_module_version": "1.2.0",
            "_model_name": "LayoutModel",
            "_view_count": null,
            "_view_module": "@jupyter-widgets/base",
            "_view_module_version": "1.2.0",
            "_view_name": "LayoutView",
            "align_content": null,
            "align_items": null,
            "align_self": null,
            "border": null,
            "bottom": null,
            "display": null,
            "flex": null,
            "flex_flow": null,
            "grid_area": null,
            "grid_auto_columns": null,
            "grid_auto_flow": null,
            "grid_auto_rows": null,
            "grid_column": null,
            "grid_gap": null,
            "grid_row": null,
            "grid_template_areas": null,
            "grid_template_columns": null,
            "grid_template_rows": null,
            "height": null,
            "justify_content": null,
            "justify_items": null,
            "left": null,
            "margin": null,
            "max_height": null,
            "max_width": null,
            "min_height": null,
            "min_width": null,
            "object_fit": null,
            "object_position": null,
            "order": null,
            "overflow": null,
            "overflow_x": null,
            "overflow_y": null,
            "padding": null,
            "right": null,
            "top": null,
            "visibility": null,
            "width": null
          }
        },
        "bb2d0bbac33843eebdf90e868abec660": {
          "model_module": "@jupyter-widgets/controls",
          "model_name": "DescriptionStyleModel",
          "model_module_version": "1.5.0",
          "state": {
            "_model_module": "@jupyter-widgets/controls",
            "_model_module_version": "1.5.0",
            "_model_name": "DescriptionStyleModel",
            "_view_count": null,
            "_view_module": "@jupyter-widgets/base",
            "_view_module_version": "1.2.0",
            "_view_name": "StyleView",
            "description_width": ""
          }
        },
        "1bbe5097ab3f4ea783821f64b3072e97": {
          "model_module": "@jupyter-widgets/controls",
          "model_name": "HBoxModel",
          "model_module_version": "1.5.0",
          "state": {
            "_dom_classes": [],
            "_model_module": "@jupyter-widgets/controls",
            "_model_module_version": "1.5.0",
            "_model_name": "HBoxModel",
            "_view_count": null,
            "_view_module": "@jupyter-widgets/controls",
            "_view_module_version": "1.5.0",
            "_view_name": "HBoxView",
            "box_style": "",
            "children": [
              "IPY_MODEL_035dd76afa1a4f1eba60895aac6f7e9f",
              "IPY_MODEL_eba8c42390ca42269924e8e0c34380ab",
              "IPY_MODEL_32250bcbb16e49a898c180440e4eebbf"
            ],
            "layout": "IPY_MODEL_3d85fae61a3847d2823a41e1903d8524"
          }
        },
        "035dd76afa1a4f1eba60895aac6f7e9f": {
          "model_module": "@jupyter-widgets/controls",
          "model_name": "HTMLModel",
          "model_module_version": "1.5.0",
          "state": {
            "_dom_classes": [],
            "_model_module": "@jupyter-widgets/controls",
            "_model_module_version": "1.5.0",
            "_model_name": "HTMLModel",
            "_view_count": null,
            "_view_module": "@jupyter-widgets/controls",
            "_view_module_version": "1.5.0",
            "_view_name": "HTMLView",
            "description": "",
            "description_tooltip": null,
            "layout": "IPY_MODEL_ce1946a7e05c4fda90dc3255deeb5e2c",
            "placeholder": "​",
            "style": "IPY_MODEL_410e7a4a934d4604826ff72910ce2d20",
            "value": "vocab.json: 100%"
          }
        },
        "eba8c42390ca42269924e8e0c34380ab": {
          "model_module": "@jupyter-widgets/controls",
          "model_name": "FloatProgressModel",
          "model_module_version": "1.5.0",
          "state": {
            "_dom_classes": [],
            "_model_module": "@jupyter-widgets/controls",
            "_model_module_version": "1.5.0",
            "_model_name": "FloatProgressModel",
            "_view_count": null,
            "_view_module": "@jupyter-widgets/controls",
            "_view_module_version": "1.5.0",
            "_view_name": "ProgressView",
            "bar_style": "success",
            "description": "",
            "description_tooltip": null,
            "layout": "IPY_MODEL_3709dcc675b34f6d88be628719db0b2d",
            "max": 2776833,
            "min": 0,
            "orientation": "horizontal",
            "style": "IPY_MODEL_395fdb11306a4cf28925195526d563fc",
            "value": 2776833
          }
        },
        "32250bcbb16e49a898c180440e4eebbf": {
          "model_module": "@jupyter-widgets/controls",
          "model_name": "HTMLModel",
          "model_module_version": "1.5.0",
          "state": {
            "_dom_classes": [],
            "_model_module": "@jupyter-widgets/controls",
            "_model_module_version": "1.5.0",
            "_model_name": "HTMLModel",
            "_view_count": null,
            "_view_module": "@jupyter-widgets/controls",
            "_view_module_version": "1.5.0",
            "_view_name": "HTMLView",
            "description": "",
            "description_tooltip": null,
            "layout": "IPY_MODEL_30b9b709cc76476a96072a68566482b7",
            "placeholder": "​",
            "style": "IPY_MODEL_c051314e5819403b936e225dbf5160a0",
            "value": " 2.78M/2.78M [00:00&lt;00:00, 27.6MB/s]"
          }
        },
        "3d85fae61a3847d2823a41e1903d8524": {
          "model_module": "@jupyter-widgets/base",
          "model_name": "LayoutModel",
          "model_module_version": "1.2.0",
          "state": {
            "_model_module": "@jupyter-widgets/base",
            "_model_module_version": "1.2.0",
            "_model_name": "LayoutModel",
            "_view_count": null,
            "_view_module": "@jupyter-widgets/base",
            "_view_module_version": "1.2.0",
            "_view_name": "LayoutView",
            "align_content": null,
            "align_items": null,
            "align_self": null,
            "border": null,
            "bottom": null,
            "display": null,
            "flex": null,
            "flex_flow": null,
            "grid_area": null,
            "grid_auto_columns": null,
            "grid_auto_flow": null,
            "grid_auto_rows": null,
            "grid_column": null,
            "grid_gap": null,
            "grid_row": null,
            "grid_template_areas": null,
            "grid_template_columns": null,
            "grid_template_rows": null,
            "height": null,
            "justify_content": null,
            "justify_items": null,
            "left": null,
            "margin": null,
            "max_height": null,
            "max_width": null,
            "min_height": null,
            "min_width": null,
            "object_fit": null,
            "object_position": null,
            "order": null,
            "overflow": null,
            "overflow_x": null,
            "overflow_y": null,
            "padding": null,
            "right": null,
            "top": null,
            "visibility": null,
            "width": null
          }
        },
        "ce1946a7e05c4fda90dc3255deeb5e2c": {
          "model_module": "@jupyter-widgets/base",
          "model_name": "LayoutModel",
          "model_module_version": "1.2.0",
          "state": {
            "_model_module": "@jupyter-widgets/base",
            "_model_module_version": "1.2.0",
            "_model_name": "LayoutModel",
            "_view_count": null,
            "_view_module": "@jupyter-widgets/base",
            "_view_module_version": "1.2.0",
            "_view_name": "LayoutView",
            "align_content": null,
            "align_items": null,
            "align_self": null,
            "border": null,
            "bottom": null,
            "display": null,
            "flex": null,
            "flex_flow": null,
            "grid_area": null,
            "grid_auto_columns": null,
            "grid_auto_flow": null,
            "grid_auto_rows": null,
            "grid_column": null,
            "grid_gap": null,
            "grid_row": null,
            "grid_template_areas": null,
            "grid_template_columns": null,
            "grid_template_rows": null,
            "height": null,
            "justify_content": null,
            "justify_items": null,
            "left": null,
            "margin": null,
            "max_height": null,
            "max_width": null,
            "min_height": null,
            "min_width": null,
            "object_fit": null,
            "object_position": null,
            "order": null,
            "overflow": null,
            "overflow_x": null,
            "overflow_y": null,
            "padding": null,
            "right": null,
            "top": null,
            "visibility": null,
            "width": null
          }
        },
        "410e7a4a934d4604826ff72910ce2d20": {
          "model_module": "@jupyter-widgets/controls",
          "model_name": "DescriptionStyleModel",
          "model_module_version": "1.5.0",
          "state": {
            "_model_module": "@jupyter-widgets/controls",
            "_model_module_version": "1.5.0",
            "_model_name": "DescriptionStyleModel",
            "_view_count": null,
            "_view_module": "@jupyter-widgets/base",
            "_view_module_version": "1.2.0",
            "_view_name": "StyleView",
            "description_width": ""
          }
        },
        "3709dcc675b34f6d88be628719db0b2d": {
          "model_module": "@jupyter-widgets/base",
          "model_name": "LayoutModel",
          "model_module_version": "1.2.0",
          "state": {
            "_model_module": "@jupyter-widgets/base",
            "_model_module_version": "1.2.0",
            "_model_name": "LayoutModel",
            "_view_count": null,
            "_view_module": "@jupyter-widgets/base",
            "_view_module_version": "1.2.0",
            "_view_name": "LayoutView",
            "align_content": null,
            "align_items": null,
            "align_self": null,
            "border": null,
            "bottom": null,
            "display": null,
            "flex": null,
            "flex_flow": null,
            "grid_area": null,
            "grid_auto_columns": null,
            "grid_auto_flow": null,
            "grid_auto_rows": null,
            "grid_column": null,
            "grid_gap": null,
            "grid_row": null,
            "grid_template_areas": null,
            "grid_template_columns": null,
            "grid_template_rows": null,
            "height": null,
            "justify_content": null,
            "justify_items": null,
            "left": null,
            "margin": null,
            "max_height": null,
            "max_width": null,
            "min_height": null,
            "min_width": null,
            "object_fit": null,
            "object_position": null,
            "order": null,
            "overflow": null,
            "overflow_x": null,
            "overflow_y": null,
            "padding": null,
            "right": null,
            "top": null,
            "visibility": null,
            "width": null
          }
        },
        "395fdb11306a4cf28925195526d563fc": {
          "model_module": "@jupyter-widgets/controls",
          "model_name": "ProgressStyleModel",
          "model_module_version": "1.5.0",
          "state": {
            "_model_module": "@jupyter-widgets/controls",
            "_model_module_version": "1.5.0",
            "_model_name": "ProgressStyleModel",
            "_view_count": null,
            "_view_module": "@jupyter-widgets/base",
            "_view_module_version": "1.2.0",
            "_view_name": "StyleView",
            "bar_color": null,
            "description_width": ""
          }
        },
        "30b9b709cc76476a96072a68566482b7": {
          "model_module": "@jupyter-widgets/base",
          "model_name": "LayoutModel",
          "model_module_version": "1.2.0",
          "state": {
            "_model_module": "@jupyter-widgets/base",
            "_model_module_version": "1.2.0",
            "_model_name": "LayoutModel",
            "_view_count": null,
            "_view_module": "@jupyter-widgets/base",
            "_view_module_version": "1.2.0",
            "_view_name": "LayoutView",
            "align_content": null,
            "align_items": null,
            "align_self": null,
            "border": null,
            "bottom": null,
            "display": null,
            "flex": null,
            "flex_flow": null,
            "grid_area": null,
            "grid_auto_columns": null,
            "grid_auto_flow": null,
            "grid_auto_rows": null,
            "grid_column": null,
            "grid_gap": null,
            "grid_row": null,
            "grid_template_areas": null,
            "grid_template_columns": null,
            "grid_template_rows": null,
            "height": null,
            "justify_content": null,
            "justify_items": null,
            "left": null,
            "margin": null,
            "max_height": null,
            "max_width": null,
            "min_height": null,
            "min_width": null,
            "object_fit": null,
            "object_position": null,
            "order": null,
            "overflow": null,
            "overflow_x": null,
            "overflow_y": null,
            "padding": null,
            "right": null,
            "top": null,
            "visibility": null,
            "width": null
          }
        },
        "c051314e5819403b936e225dbf5160a0": {
          "model_module": "@jupyter-widgets/controls",
          "model_name": "DescriptionStyleModel",
          "model_module_version": "1.5.0",
          "state": {
            "_model_module": "@jupyter-widgets/controls",
            "_model_module_version": "1.5.0",
            "_model_name": "DescriptionStyleModel",
            "_view_count": null,
            "_view_module": "@jupyter-widgets/base",
            "_view_module_version": "1.2.0",
            "_view_name": "StyleView",
            "description_width": ""
          }
        },
        "53aa08f75a3742d4bfd69f4bfae8529f": {
          "model_module": "@jupyter-widgets/controls",
          "model_name": "HBoxModel",
          "model_module_version": "1.5.0",
          "state": {
            "_dom_classes": [],
            "_model_module": "@jupyter-widgets/controls",
            "_model_module_version": "1.5.0",
            "_model_name": "HBoxModel",
            "_view_count": null,
            "_view_module": "@jupyter-widgets/controls",
            "_view_module_version": "1.5.0",
            "_view_name": "HBoxView",
            "box_style": "",
            "children": [
              "IPY_MODEL_4929316d87bf408a8ede0b9f59b6b6a1",
              "IPY_MODEL_f35d538c259545bba7e09fa4d2284f76",
              "IPY_MODEL_080873bde68a492fa17f6e2e29c2b628"
            ],
            "layout": "IPY_MODEL_dec00c30c2544aa2b1fd480f266be4fe"
          }
        },
        "4929316d87bf408a8ede0b9f59b6b6a1": {
          "model_module": "@jupyter-widgets/controls",
          "model_name": "HTMLModel",
          "model_module_version": "1.5.0",
          "state": {
            "_dom_classes": [],
            "_model_module": "@jupyter-widgets/controls",
            "_model_module_version": "1.5.0",
            "_model_name": "HTMLModel",
            "_view_count": null,
            "_view_module": "@jupyter-widgets/controls",
            "_view_module_version": "1.5.0",
            "_view_name": "HTMLView",
            "description": "",
            "description_tooltip": null,
            "layout": "IPY_MODEL_b0165a19d5ff4037b864b30804aea29b",
            "placeholder": "​",
            "style": "IPY_MODEL_6bbe65399ece47d29bb781bd44d4bef9",
            "value": "merges.txt: 100%"
          }
        },
        "f35d538c259545bba7e09fa4d2284f76": {
          "model_module": "@jupyter-widgets/controls",
          "model_name": "FloatProgressModel",
          "model_module_version": "1.5.0",
          "state": {
            "_dom_classes": [],
            "_model_module": "@jupyter-widgets/controls",
            "_model_module_version": "1.5.0",
            "_model_name": "FloatProgressModel",
            "_view_count": null,
            "_view_module": "@jupyter-widgets/controls",
            "_view_module_version": "1.5.0",
            "_view_name": "ProgressView",
            "bar_style": "success",
            "description": "",
            "description_tooltip": null,
            "layout": "IPY_MODEL_17f87d277487491a9b6aa56ecad419ba",
            "max": 1671839,
            "min": 0,
            "orientation": "horizontal",
            "style": "IPY_MODEL_9b1c6936df78416ba7e27f1008bfba64",
            "value": 1671839
          }
        },
        "080873bde68a492fa17f6e2e29c2b628": {
          "model_module": "@jupyter-widgets/controls",
          "model_name": "HTMLModel",
          "model_module_version": "1.5.0",
          "state": {
            "_dom_classes": [],
            "_model_module": "@jupyter-widgets/controls",
            "_model_module_version": "1.5.0",
            "_model_name": "HTMLModel",
            "_view_count": null,
            "_view_module": "@jupyter-widgets/controls",
            "_view_module_version": "1.5.0",
            "_view_name": "HTMLView",
            "description": "",
            "description_tooltip": null,
            "layout": "IPY_MODEL_0445587988e144b39f2b3c98d912d9f8",
            "placeholder": "​",
            "style": "IPY_MODEL_6359a3d80b6d44acaa78004e6fd82506",
            "value": " 1.67M/1.67M [00:00&lt;00:00, 10.2MB/s]"
          }
        },
        "dec00c30c2544aa2b1fd480f266be4fe": {
          "model_module": "@jupyter-widgets/base",
          "model_name": "LayoutModel",
          "model_module_version": "1.2.0",
          "state": {
            "_model_module": "@jupyter-widgets/base",
            "_model_module_version": "1.2.0",
            "_model_name": "LayoutModel",
            "_view_count": null,
            "_view_module": "@jupyter-widgets/base",
            "_view_module_version": "1.2.0",
            "_view_name": "LayoutView",
            "align_content": null,
            "align_items": null,
            "align_self": null,
            "border": null,
            "bottom": null,
            "display": null,
            "flex": null,
            "flex_flow": null,
            "grid_area": null,
            "grid_auto_columns": null,
            "grid_auto_flow": null,
            "grid_auto_rows": null,
            "grid_column": null,
            "grid_gap": null,
            "grid_row": null,
            "grid_template_areas": null,
            "grid_template_columns": null,
            "grid_template_rows": null,
            "height": null,
            "justify_content": null,
            "justify_items": null,
            "left": null,
            "margin": null,
            "max_height": null,
            "max_width": null,
            "min_height": null,
            "min_width": null,
            "object_fit": null,
            "object_position": null,
            "order": null,
            "overflow": null,
            "overflow_x": null,
            "overflow_y": null,
            "padding": null,
            "right": null,
            "top": null,
            "visibility": null,
            "width": null
          }
        },
        "b0165a19d5ff4037b864b30804aea29b": {
          "model_module": "@jupyter-widgets/base",
          "model_name": "LayoutModel",
          "model_module_version": "1.2.0",
          "state": {
            "_model_module": "@jupyter-widgets/base",
            "_model_module_version": "1.2.0",
            "_model_name": "LayoutModel",
            "_view_count": null,
            "_view_module": "@jupyter-widgets/base",
            "_view_module_version": "1.2.0",
            "_view_name": "LayoutView",
            "align_content": null,
            "align_items": null,
            "align_self": null,
            "border": null,
            "bottom": null,
            "display": null,
            "flex": null,
            "flex_flow": null,
            "grid_area": null,
            "grid_auto_columns": null,
            "grid_auto_flow": null,
            "grid_auto_rows": null,
            "grid_column": null,
            "grid_gap": null,
            "grid_row": null,
            "grid_template_areas": null,
            "grid_template_columns": null,
            "grid_template_rows": null,
            "height": null,
            "justify_content": null,
            "justify_items": null,
            "left": null,
            "margin": null,
            "max_height": null,
            "max_width": null,
            "min_height": null,
            "min_width": null,
            "object_fit": null,
            "object_position": null,
            "order": null,
            "overflow": null,
            "overflow_x": null,
            "overflow_y": null,
            "padding": null,
            "right": null,
            "top": null,
            "visibility": null,
            "width": null
          }
        },
        "6bbe65399ece47d29bb781bd44d4bef9": {
          "model_module": "@jupyter-widgets/controls",
          "model_name": "DescriptionStyleModel",
          "model_module_version": "1.5.0",
          "state": {
            "_model_module": "@jupyter-widgets/controls",
            "_model_module_version": "1.5.0",
            "_model_name": "DescriptionStyleModel",
            "_view_count": null,
            "_view_module": "@jupyter-widgets/base",
            "_view_module_version": "1.2.0",
            "_view_name": "StyleView",
            "description_width": ""
          }
        },
        "17f87d277487491a9b6aa56ecad419ba": {
          "model_module": "@jupyter-widgets/base",
          "model_name": "LayoutModel",
          "model_module_version": "1.2.0",
          "state": {
            "_model_module": "@jupyter-widgets/base",
            "_model_module_version": "1.2.0",
            "_model_name": "LayoutModel",
            "_view_count": null,
            "_view_module": "@jupyter-widgets/base",
            "_view_module_version": "1.2.0",
            "_view_name": "LayoutView",
            "align_content": null,
            "align_items": null,
            "align_self": null,
            "border": null,
            "bottom": null,
            "display": null,
            "flex": null,
            "flex_flow": null,
            "grid_area": null,
            "grid_auto_columns": null,
            "grid_auto_flow": null,
            "grid_auto_rows": null,
            "grid_column": null,
            "grid_gap": null,
            "grid_row": null,
            "grid_template_areas": null,
            "grid_template_columns": null,
            "grid_template_rows": null,
            "height": null,
            "justify_content": null,
            "justify_items": null,
            "left": null,
            "margin": null,
            "max_height": null,
            "max_width": null,
            "min_height": null,
            "min_width": null,
            "object_fit": null,
            "object_position": null,
            "order": null,
            "overflow": null,
            "overflow_x": null,
            "overflow_y": null,
            "padding": null,
            "right": null,
            "top": null,
            "visibility": null,
            "width": null
          }
        },
        "9b1c6936df78416ba7e27f1008bfba64": {
          "model_module": "@jupyter-widgets/controls",
          "model_name": "ProgressStyleModel",
          "model_module_version": "1.5.0",
          "state": {
            "_model_module": "@jupyter-widgets/controls",
            "_model_module_version": "1.5.0",
            "_model_name": "ProgressStyleModel",
            "_view_count": null,
            "_view_module": "@jupyter-widgets/base",
            "_view_module_version": "1.2.0",
            "_view_name": "StyleView",
            "bar_color": null,
            "description_width": ""
          }
        },
        "0445587988e144b39f2b3c98d912d9f8": {
          "model_module": "@jupyter-widgets/base",
          "model_name": "LayoutModel",
          "model_module_version": "1.2.0",
          "state": {
            "_model_module": "@jupyter-widgets/base",
            "_model_module_version": "1.2.0",
            "_model_name": "LayoutModel",
            "_view_count": null,
            "_view_module": "@jupyter-widgets/base",
            "_view_module_version": "1.2.0",
            "_view_name": "LayoutView",
            "align_content": null,
            "align_items": null,
            "align_self": null,
            "border": null,
            "bottom": null,
            "display": null,
            "flex": null,
            "flex_flow": null,
            "grid_area": null,
            "grid_auto_columns": null,
            "grid_auto_flow": null,
            "grid_auto_rows": null,
            "grid_column": null,
            "grid_gap": null,
            "grid_row": null,
            "grid_template_areas": null,
            "grid_template_columns": null,
            "grid_template_rows": null,
            "height": null,
            "justify_content": null,
            "justify_items": null,
            "left": null,
            "margin": null,
            "max_height": null,
            "max_width": null,
            "min_height": null,
            "min_width": null,
            "object_fit": null,
            "object_position": null,
            "order": null,
            "overflow": null,
            "overflow_x": null,
            "overflow_y": null,
            "padding": null,
            "right": null,
            "top": null,
            "visibility": null,
            "width": null
          }
        },
        "6359a3d80b6d44acaa78004e6fd82506": {
          "model_module": "@jupyter-widgets/controls",
          "model_name": "DescriptionStyleModel",
          "model_module_version": "1.5.0",
          "state": {
            "_model_module": "@jupyter-widgets/controls",
            "_model_module_version": "1.5.0",
            "_model_name": "DescriptionStyleModel",
            "_view_count": null,
            "_view_module": "@jupyter-widgets/base",
            "_view_module_version": "1.2.0",
            "_view_name": "StyleView",
            "description_width": ""
          }
        },
        "90ff161e31bf4ed3ad277dbb61942044": {
          "model_module": "@jupyter-widgets/controls",
          "model_name": "HBoxModel",
          "model_module_version": "1.5.0",
          "state": {
            "_dom_classes": [],
            "_model_module": "@jupyter-widgets/controls",
            "_model_module_version": "1.5.0",
            "_model_name": "HBoxModel",
            "_view_count": null,
            "_view_module": "@jupyter-widgets/controls",
            "_view_module_version": "1.5.0",
            "_view_name": "HBoxView",
            "box_style": "",
            "children": [
              "IPY_MODEL_64232d31784b48e0b70a6de2e50a7487",
              "IPY_MODEL_d55e71348bf74719a3da47e546bdb13a",
              "IPY_MODEL_a41911b07a3e4dd2a32f66785645c52b"
            ],
            "layout": "IPY_MODEL_896ceb98fae04b4fa00f3ab543d31a25"
          }
        },
        "64232d31784b48e0b70a6de2e50a7487": {
          "model_module": "@jupyter-widgets/controls",
          "model_name": "HTMLModel",
          "model_module_version": "1.5.0",
          "state": {
            "_dom_classes": [],
            "_model_module": "@jupyter-widgets/controls",
            "_model_module_version": "1.5.0",
            "_model_name": "HTMLModel",
            "_view_count": null,
            "_view_module": "@jupyter-widgets/controls",
            "_view_module_version": "1.5.0",
            "_view_name": "HTMLView",
            "description": "",
            "description_tooltip": null,
            "layout": "IPY_MODEL_c396ca49bd434997ae52635b524c1bfd",
            "placeholder": "​",
            "style": "IPY_MODEL_5119c30bbc4a4b54950dd11adaf8cb9e",
            "value": "tokenizer.json: 100%"
          }
        },
        "d55e71348bf74719a3da47e546bdb13a": {
          "model_module": "@jupyter-widgets/controls",
          "model_name": "FloatProgressModel",
          "model_module_version": "1.5.0",
          "state": {
            "_dom_classes": [],
            "_model_module": "@jupyter-widgets/controls",
            "_model_module_version": "1.5.0",
            "_model_name": "FloatProgressModel",
            "_view_count": null,
            "_view_module": "@jupyter-widgets/controls",
            "_view_module_version": "1.5.0",
            "_view_name": "ProgressView",
            "bar_style": "success",
            "description": "",
            "description_tooltip": null,
            "layout": "IPY_MODEL_118baf05cc9d47ca92cc24a66219a007",
            "max": 7028015,
            "min": 0,
            "orientation": "horizontal",
            "style": "IPY_MODEL_f71c9f74ccb64781b497c887202962ec",
            "value": 7028015
          }
        },
        "a41911b07a3e4dd2a32f66785645c52b": {
          "model_module": "@jupyter-widgets/controls",
          "model_name": "HTMLModel",
          "model_module_version": "1.5.0",
          "state": {
            "_dom_classes": [],
            "_model_module": "@jupyter-widgets/controls",
            "_model_module_version": "1.5.0",
            "_model_name": "HTMLModel",
            "_view_count": null,
            "_view_module": "@jupyter-widgets/controls",
            "_view_module_version": "1.5.0",
            "_view_name": "HTMLView",
            "description": "",
            "description_tooltip": null,
            "layout": "IPY_MODEL_7e5bcb811096483eada19c16b1165409",
            "placeholder": "​",
            "style": "IPY_MODEL_ce71aeb35eb94a859b0beb65e180049b",
            "value": " 7.03M/7.03M [00:00&lt;00:00, 36.1MB/s]"
          }
        },
        "896ceb98fae04b4fa00f3ab543d31a25": {
          "model_module": "@jupyter-widgets/base",
          "model_name": "LayoutModel",
          "model_module_version": "1.2.0",
          "state": {
            "_model_module": "@jupyter-widgets/base",
            "_model_module_version": "1.2.0",
            "_model_name": "LayoutModel",
            "_view_count": null,
            "_view_module": "@jupyter-widgets/base",
            "_view_module_version": "1.2.0",
            "_view_name": "LayoutView",
            "align_content": null,
            "align_items": null,
            "align_self": null,
            "border": null,
            "bottom": null,
            "display": null,
            "flex": null,
            "flex_flow": null,
            "grid_area": null,
            "grid_auto_columns": null,
            "grid_auto_flow": null,
            "grid_auto_rows": null,
            "grid_column": null,
            "grid_gap": null,
            "grid_row": null,
            "grid_template_areas": null,
            "grid_template_columns": null,
            "grid_template_rows": null,
            "height": null,
            "justify_content": null,
            "justify_items": null,
            "left": null,
            "margin": null,
            "max_height": null,
            "max_width": null,
            "min_height": null,
            "min_width": null,
            "object_fit": null,
            "object_position": null,
            "order": null,
            "overflow": null,
            "overflow_x": null,
            "overflow_y": null,
            "padding": null,
            "right": null,
            "top": null,
            "visibility": null,
            "width": null
          }
        },
        "c396ca49bd434997ae52635b524c1bfd": {
          "model_module": "@jupyter-widgets/base",
          "model_name": "LayoutModel",
          "model_module_version": "1.2.0",
          "state": {
            "_model_module": "@jupyter-widgets/base",
            "_model_module_version": "1.2.0",
            "_model_name": "LayoutModel",
            "_view_count": null,
            "_view_module": "@jupyter-widgets/base",
            "_view_module_version": "1.2.0",
            "_view_name": "LayoutView",
            "align_content": null,
            "align_items": null,
            "align_self": null,
            "border": null,
            "bottom": null,
            "display": null,
            "flex": null,
            "flex_flow": null,
            "grid_area": null,
            "grid_auto_columns": null,
            "grid_auto_flow": null,
            "grid_auto_rows": null,
            "grid_column": null,
            "grid_gap": null,
            "grid_row": null,
            "grid_template_areas": null,
            "grid_template_columns": null,
            "grid_template_rows": null,
            "height": null,
            "justify_content": null,
            "justify_items": null,
            "left": null,
            "margin": null,
            "max_height": null,
            "max_width": null,
            "min_height": null,
            "min_width": null,
            "object_fit": null,
            "object_position": null,
            "order": null,
            "overflow": null,
            "overflow_x": null,
            "overflow_y": null,
            "padding": null,
            "right": null,
            "top": null,
            "visibility": null,
            "width": null
          }
        },
        "5119c30bbc4a4b54950dd11adaf8cb9e": {
          "model_module": "@jupyter-widgets/controls",
          "model_name": "DescriptionStyleModel",
          "model_module_version": "1.5.0",
          "state": {
            "_model_module": "@jupyter-widgets/controls",
            "_model_module_version": "1.5.0",
            "_model_name": "DescriptionStyleModel",
            "_view_count": null,
            "_view_module": "@jupyter-widgets/base",
            "_view_module_version": "1.2.0",
            "_view_name": "StyleView",
            "description_width": ""
          }
        },
        "118baf05cc9d47ca92cc24a66219a007": {
          "model_module": "@jupyter-widgets/base",
          "model_name": "LayoutModel",
          "model_module_version": "1.2.0",
          "state": {
            "_model_module": "@jupyter-widgets/base",
            "_model_module_version": "1.2.0",
            "_model_name": "LayoutModel",
            "_view_count": null,
            "_view_module": "@jupyter-widgets/base",
            "_view_module_version": "1.2.0",
            "_view_name": "LayoutView",
            "align_content": null,
            "align_items": null,
            "align_self": null,
            "border": null,
            "bottom": null,
            "display": null,
            "flex": null,
            "flex_flow": null,
            "grid_area": null,
            "grid_auto_columns": null,
            "grid_auto_flow": null,
            "grid_auto_rows": null,
            "grid_column": null,
            "grid_gap": null,
            "grid_row": null,
            "grid_template_areas": null,
            "grid_template_columns": null,
            "grid_template_rows": null,
            "height": null,
            "justify_content": null,
            "justify_items": null,
            "left": null,
            "margin": null,
            "max_height": null,
            "max_width": null,
            "min_height": null,
            "min_width": null,
            "object_fit": null,
            "object_position": null,
            "order": null,
            "overflow": null,
            "overflow_x": null,
            "overflow_y": null,
            "padding": null,
            "right": null,
            "top": null,
            "visibility": null,
            "width": null
          }
        },
        "f71c9f74ccb64781b497c887202962ec": {
          "model_module": "@jupyter-widgets/controls",
          "model_name": "ProgressStyleModel",
          "model_module_version": "1.5.0",
          "state": {
            "_model_module": "@jupyter-widgets/controls",
            "_model_module_version": "1.5.0",
            "_model_name": "ProgressStyleModel",
            "_view_count": null,
            "_view_module": "@jupyter-widgets/base",
            "_view_module_version": "1.2.0",
            "_view_name": "StyleView",
            "bar_color": null,
            "description_width": ""
          }
        },
        "7e5bcb811096483eada19c16b1165409": {
          "model_module": "@jupyter-widgets/base",
          "model_name": "LayoutModel",
          "model_module_version": "1.2.0",
          "state": {
            "_model_module": "@jupyter-widgets/base",
            "_model_module_version": "1.2.0",
            "_model_name": "LayoutModel",
            "_view_count": null,
            "_view_module": "@jupyter-widgets/base",
            "_view_module_version": "1.2.0",
            "_view_name": "LayoutView",
            "align_content": null,
            "align_items": null,
            "align_self": null,
            "border": null,
            "bottom": null,
            "display": null,
            "flex": null,
            "flex_flow": null,
            "grid_area": null,
            "grid_auto_columns": null,
            "grid_auto_flow": null,
            "grid_auto_rows": null,
            "grid_column": null,
            "grid_gap": null,
            "grid_row": null,
            "grid_template_areas": null,
            "grid_template_columns": null,
            "grid_template_rows": null,
            "height": null,
            "justify_content": null,
            "justify_items": null,
            "left": null,
            "margin": null,
            "max_height": null,
            "max_width": null,
            "min_height": null,
            "min_width": null,
            "object_fit": null,
            "object_position": null,
            "order": null,
            "overflow": null,
            "overflow_x": null,
            "overflow_y": null,
            "padding": null,
            "right": null,
            "top": null,
            "visibility": null,
            "width": null
          }
        },
        "ce71aeb35eb94a859b0beb65e180049b": {
          "model_module": "@jupyter-widgets/controls",
          "model_name": "DescriptionStyleModel",
          "model_module_version": "1.5.0",
          "state": {
            "_model_module": "@jupyter-widgets/controls",
            "_model_module_version": "1.5.0",
            "_model_name": "DescriptionStyleModel",
            "_view_count": null,
            "_view_module": "@jupyter-widgets/base",
            "_view_module_version": "1.2.0",
            "_view_name": "StyleView",
            "description_width": ""
          }
        },
        "54626c31a065452bb6fe9c27aa6f2cd6": {
          "model_module": "@jupyter-widgets/controls",
          "model_name": "HBoxModel",
          "model_module_version": "1.5.0",
          "state": {
            "_dom_classes": [],
            "_model_module": "@jupyter-widgets/controls",
            "_model_module_version": "1.5.0",
            "_model_name": "HBoxModel",
            "_view_count": null,
            "_view_module": "@jupyter-widgets/controls",
            "_view_module_version": "1.5.0",
            "_view_name": "HBoxView",
            "box_style": "",
            "children": [
              "IPY_MODEL_aa83b61fe407406696ce383fa2b5a232",
              "IPY_MODEL_8c7a86436ff24fccb0ceba05979f661a",
              "IPY_MODEL_e6333866644743fab65c045b981841c5"
            ],
            "layout": "IPY_MODEL_206061a46ba345349fd26a5149a25e80"
          }
        },
        "aa83b61fe407406696ce383fa2b5a232": {
          "model_module": "@jupyter-widgets/controls",
          "model_name": "HTMLModel",
          "model_module_version": "1.5.0",
          "state": {
            "_dom_classes": [],
            "_model_module": "@jupyter-widgets/controls",
            "_model_module_version": "1.5.0",
            "_model_name": "HTMLModel",
            "_view_count": null,
            "_view_module": "@jupyter-widgets/controls",
            "_view_module_version": "1.5.0",
            "_view_name": "HTMLView",
            "description": "",
            "description_tooltip": null,
            "layout": "IPY_MODEL_9b7eb082017f4240bb2cd65fa96884b0",
            "placeholder": "​",
            "style": "IPY_MODEL_d9ec8065b06346b8bb0a7c7ce1a1afdf",
            "value": "Generating train split: "
          }
        },
        "8c7a86436ff24fccb0ceba05979f661a": {
          "model_module": "@jupyter-widgets/controls",
          "model_name": "FloatProgressModel",
          "model_module_version": "1.5.0",
          "state": {
            "_dom_classes": [],
            "_model_module": "@jupyter-widgets/controls",
            "_model_module_version": "1.5.0",
            "_model_name": "FloatProgressModel",
            "_view_count": null,
            "_view_module": "@jupyter-widgets/controls",
            "_view_module_version": "1.5.0",
            "_view_name": "ProgressView",
            "bar_style": "success",
            "description": "",
            "description_tooltip": null,
            "layout": "IPY_MODEL_f81864ec13e44293b99d4c4b3ecb9795",
            "max": 1,
            "min": 0,
            "orientation": "horizontal",
            "style": "IPY_MODEL_0429e027eb104721bad09c57f4075e0d",
            "value": 1
          }
        },
        "e6333866644743fab65c045b981841c5": {
          "model_module": "@jupyter-widgets/controls",
          "model_name": "HTMLModel",
          "model_module_version": "1.5.0",
          "state": {
            "_dom_classes": [],
            "_model_module": "@jupyter-widgets/controls",
            "_model_module_version": "1.5.0",
            "_model_name": "HTMLModel",
            "_view_count": null,
            "_view_module": "@jupyter-widgets/controls",
            "_view_module_version": "1.5.0",
            "_view_name": "HTMLView",
            "description": "",
            "description_tooltip": null,
            "layout": "IPY_MODEL_9444184fb5f9486e9333a75a2b81f3a4",
            "placeholder": "​",
            "style": "IPY_MODEL_2ae969940b9f40efa9b5f05c773b5ba3",
            "value": " 91/0 [00:00&lt;00:00, 1531.86 examples/s]"
          }
        },
        "206061a46ba345349fd26a5149a25e80": {
          "model_module": "@jupyter-widgets/base",
          "model_name": "LayoutModel",
          "model_module_version": "1.2.0",
          "state": {
            "_model_module": "@jupyter-widgets/base",
            "_model_module_version": "1.2.0",
            "_model_name": "LayoutModel",
            "_view_count": null,
            "_view_module": "@jupyter-widgets/base",
            "_view_module_version": "1.2.0",
            "_view_name": "LayoutView",
            "align_content": null,
            "align_items": null,
            "align_self": null,
            "border": null,
            "bottom": null,
            "display": null,
            "flex": null,
            "flex_flow": null,
            "grid_area": null,
            "grid_auto_columns": null,
            "grid_auto_flow": null,
            "grid_auto_rows": null,
            "grid_column": null,
            "grid_gap": null,
            "grid_row": null,
            "grid_template_areas": null,
            "grid_template_columns": null,
            "grid_template_rows": null,
            "height": null,
            "justify_content": null,
            "justify_items": null,
            "left": null,
            "margin": null,
            "max_height": null,
            "max_width": null,
            "min_height": null,
            "min_width": null,
            "object_fit": null,
            "object_position": null,
            "order": null,
            "overflow": null,
            "overflow_x": null,
            "overflow_y": null,
            "padding": null,
            "right": null,
            "top": null,
            "visibility": null,
            "width": null
          }
        },
        "9b7eb082017f4240bb2cd65fa96884b0": {
          "model_module": "@jupyter-widgets/base",
          "model_name": "LayoutModel",
          "model_module_version": "1.2.0",
          "state": {
            "_model_module": "@jupyter-widgets/base",
            "_model_module_version": "1.2.0",
            "_model_name": "LayoutModel",
            "_view_count": null,
            "_view_module": "@jupyter-widgets/base",
            "_view_module_version": "1.2.0",
            "_view_name": "LayoutView",
            "align_content": null,
            "align_items": null,
            "align_self": null,
            "border": null,
            "bottom": null,
            "display": null,
            "flex": null,
            "flex_flow": null,
            "grid_area": null,
            "grid_auto_columns": null,
            "grid_auto_flow": null,
            "grid_auto_rows": null,
            "grid_column": null,
            "grid_gap": null,
            "grid_row": null,
            "grid_template_areas": null,
            "grid_template_columns": null,
            "grid_template_rows": null,
            "height": null,
            "justify_content": null,
            "justify_items": null,
            "left": null,
            "margin": null,
            "max_height": null,
            "max_width": null,
            "min_height": null,
            "min_width": null,
            "object_fit": null,
            "object_position": null,
            "order": null,
            "overflow": null,
            "overflow_x": null,
            "overflow_y": null,
            "padding": null,
            "right": null,
            "top": null,
            "visibility": null,
            "width": null
          }
        },
        "d9ec8065b06346b8bb0a7c7ce1a1afdf": {
          "model_module": "@jupyter-widgets/controls",
          "model_name": "DescriptionStyleModel",
          "model_module_version": "1.5.0",
          "state": {
            "_model_module": "@jupyter-widgets/controls",
            "_model_module_version": "1.5.0",
            "_model_name": "DescriptionStyleModel",
            "_view_count": null,
            "_view_module": "@jupyter-widgets/base",
            "_view_module_version": "1.2.0",
            "_view_name": "StyleView",
            "description_width": ""
          }
        },
        "f81864ec13e44293b99d4c4b3ecb9795": {
          "model_module": "@jupyter-widgets/base",
          "model_name": "LayoutModel",
          "model_module_version": "1.2.0",
          "state": {
            "_model_module": "@jupyter-widgets/base",
            "_model_module_version": "1.2.0",
            "_model_name": "LayoutModel",
            "_view_count": null,
            "_view_module": "@jupyter-widgets/base",
            "_view_module_version": "1.2.0",
            "_view_name": "LayoutView",
            "align_content": null,
            "align_items": null,
            "align_self": null,
            "border": null,
            "bottom": null,
            "display": null,
            "flex": null,
            "flex_flow": null,
            "grid_area": null,
            "grid_auto_columns": null,
            "grid_auto_flow": null,
            "grid_auto_rows": null,
            "grid_column": null,
            "grid_gap": null,
            "grid_row": null,
            "grid_template_areas": null,
            "grid_template_columns": null,
            "grid_template_rows": null,
            "height": null,
            "justify_content": null,
            "justify_items": null,
            "left": null,
            "margin": null,
            "max_height": null,
            "max_width": null,
            "min_height": null,
            "min_width": null,
            "object_fit": null,
            "object_position": null,
            "order": null,
            "overflow": null,
            "overflow_x": null,
            "overflow_y": null,
            "padding": null,
            "right": null,
            "top": null,
            "visibility": null,
            "width": "20px"
          }
        },
        "0429e027eb104721bad09c57f4075e0d": {
          "model_module": "@jupyter-widgets/controls",
          "model_name": "ProgressStyleModel",
          "model_module_version": "1.5.0",
          "state": {
            "_model_module": "@jupyter-widgets/controls",
            "_model_module_version": "1.5.0",
            "_model_name": "ProgressStyleModel",
            "_view_count": null,
            "_view_module": "@jupyter-widgets/base",
            "_view_module_version": "1.2.0",
            "_view_name": "StyleView",
            "bar_color": null,
            "description_width": ""
          }
        },
        "9444184fb5f9486e9333a75a2b81f3a4": {
          "model_module": "@jupyter-widgets/base",
          "model_name": "LayoutModel",
          "model_module_version": "1.2.0",
          "state": {
            "_model_module": "@jupyter-widgets/base",
            "_model_module_version": "1.2.0",
            "_model_name": "LayoutModel",
            "_view_count": null,
            "_view_module": "@jupyter-widgets/base",
            "_view_module_version": "1.2.0",
            "_view_name": "LayoutView",
            "align_content": null,
            "align_items": null,
            "align_self": null,
            "border": null,
            "bottom": null,
            "display": null,
            "flex": null,
            "flex_flow": null,
            "grid_area": null,
            "grid_auto_columns": null,
            "grid_auto_flow": null,
            "grid_auto_rows": null,
            "grid_column": null,
            "grid_gap": null,
            "grid_row": null,
            "grid_template_areas": null,
            "grid_template_columns": null,
            "grid_template_rows": null,
            "height": null,
            "justify_content": null,
            "justify_items": null,
            "left": null,
            "margin": null,
            "max_height": null,
            "max_width": null,
            "min_height": null,
            "min_width": null,
            "object_fit": null,
            "object_position": null,
            "order": null,
            "overflow": null,
            "overflow_x": null,
            "overflow_y": null,
            "padding": null,
            "right": null,
            "top": null,
            "visibility": null,
            "width": null
          }
        },
        "2ae969940b9f40efa9b5f05c773b5ba3": {
          "model_module": "@jupyter-widgets/controls",
          "model_name": "DescriptionStyleModel",
          "model_module_version": "1.5.0",
          "state": {
            "_model_module": "@jupyter-widgets/controls",
            "_model_module_version": "1.5.0",
            "_model_name": "DescriptionStyleModel",
            "_view_count": null,
            "_view_module": "@jupyter-widgets/base",
            "_view_module_version": "1.2.0",
            "_view_name": "StyleView",
            "description_width": ""
          }
        },
        "577da509273745baa2a76ea981330a0a": {
          "model_module": "@jupyter-widgets/controls",
          "model_name": "HBoxModel",
          "model_module_version": "1.5.0",
          "state": {
            "_dom_classes": [],
            "_model_module": "@jupyter-widgets/controls",
            "_model_module_version": "1.5.0",
            "_model_name": "HBoxModel",
            "_view_count": null,
            "_view_module": "@jupyter-widgets/controls",
            "_view_module_version": "1.5.0",
            "_view_name": "HBoxView",
            "box_style": "",
            "children": [
              "IPY_MODEL_b526cdabc82944a18a0db44a9b62de67",
              "IPY_MODEL_1e4e7aaf1f7b47659b794b9c278f5664",
              "IPY_MODEL_816b343c36004f4380dfb84d89789c2a"
            ],
            "layout": "IPY_MODEL_d8eb18908ef4429ab3ebd0f3ac627fd2"
          }
        },
        "b526cdabc82944a18a0db44a9b62de67": {
          "model_module": "@jupyter-widgets/controls",
          "model_name": "HTMLModel",
          "model_module_version": "1.5.0",
          "state": {
            "_dom_classes": [],
            "_model_module": "@jupyter-widgets/controls",
            "_model_module_version": "1.5.0",
            "_model_name": "HTMLModel",
            "_view_count": null,
            "_view_module": "@jupyter-widgets/controls",
            "_view_module_version": "1.5.0",
            "_view_name": "HTMLView",
            "description": "",
            "description_tooltip": null,
            "layout": "IPY_MODEL_ebbebaa465f34a00be2a2bd46d4c00f0",
            "placeholder": "​",
            "style": "IPY_MODEL_40449375b2e34fc5b97c81089b5b814b",
            "value": "Converting format of dataset: 100%"
          }
        },
        "1e4e7aaf1f7b47659b794b9c278f5664": {
          "model_module": "@jupyter-widgets/controls",
          "model_name": "FloatProgressModel",
          "model_module_version": "1.5.0",
          "state": {
            "_dom_classes": [],
            "_model_module": "@jupyter-widgets/controls",
            "_model_module_version": "1.5.0",
            "_model_name": "FloatProgressModel",
            "_view_count": null,
            "_view_module": "@jupyter-widgets/controls",
            "_view_module_version": "1.5.0",
            "_view_name": "ProgressView",
            "bar_style": "success",
            "description": "",
            "description_tooltip": null,
            "layout": "IPY_MODEL_278b544841b2469aa30c5b02ca09e2bf",
            "max": 91,
            "min": 0,
            "orientation": "horizontal",
            "style": "IPY_MODEL_75a1d1b7acb94dd1b72cfa1a08d9cc96",
            "value": 91
          }
        },
        "816b343c36004f4380dfb84d89789c2a": {
          "model_module": "@jupyter-widgets/controls",
          "model_name": "HTMLModel",
          "model_module_version": "1.5.0",
          "state": {
            "_dom_classes": [],
            "_model_module": "@jupyter-widgets/controls",
            "_model_module_version": "1.5.0",
            "_model_name": "HTMLModel",
            "_view_count": null,
            "_view_module": "@jupyter-widgets/controls",
            "_view_module_version": "1.5.0",
            "_view_name": "HTMLView",
            "description": "",
            "description_tooltip": null,
            "layout": "IPY_MODEL_5651f6c8803e48559b53e6196e932ac8",
            "placeholder": "​",
            "style": "IPY_MODEL_bd76a5c49e15488c829146714ef56b71",
            "value": " 91/91 [00:00&lt;00:00, 1878.53 examples/s]"
          }
        },
        "d8eb18908ef4429ab3ebd0f3ac627fd2": {
          "model_module": "@jupyter-widgets/base",
          "model_name": "LayoutModel",
          "model_module_version": "1.2.0",
          "state": {
            "_model_module": "@jupyter-widgets/base",
            "_model_module_version": "1.2.0",
            "_model_name": "LayoutModel",
            "_view_count": null,
            "_view_module": "@jupyter-widgets/base",
            "_view_module_version": "1.2.0",
            "_view_name": "LayoutView",
            "align_content": null,
            "align_items": null,
            "align_self": null,
            "border": null,
            "bottom": null,
            "display": null,
            "flex": null,
            "flex_flow": null,
            "grid_area": null,
            "grid_auto_columns": null,
            "grid_auto_flow": null,
            "grid_auto_rows": null,
            "grid_column": null,
            "grid_gap": null,
            "grid_row": null,
            "grid_template_areas": null,
            "grid_template_columns": null,
            "grid_template_rows": null,
            "height": null,
            "justify_content": null,
            "justify_items": null,
            "left": null,
            "margin": null,
            "max_height": null,
            "max_width": null,
            "min_height": null,
            "min_width": null,
            "object_fit": null,
            "object_position": null,
            "order": null,
            "overflow": null,
            "overflow_x": null,
            "overflow_y": null,
            "padding": null,
            "right": null,
            "top": null,
            "visibility": null,
            "width": null
          }
        },
        "ebbebaa465f34a00be2a2bd46d4c00f0": {
          "model_module": "@jupyter-widgets/base",
          "model_name": "LayoutModel",
          "model_module_version": "1.2.0",
          "state": {
            "_model_module": "@jupyter-widgets/base",
            "_model_module_version": "1.2.0",
            "_model_name": "LayoutModel",
            "_view_count": null,
            "_view_module": "@jupyter-widgets/base",
            "_view_module_version": "1.2.0",
            "_view_name": "LayoutView",
            "align_content": null,
            "align_items": null,
            "align_self": null,
            "border": null,
            "bottom": null,
            "display": null,
            "flex": null,
            "flex_flow": null,
            "grid_area": null,
            "grid_auto_columns": null,
            "grid_auto_flow": null,
            "grid_auto_rows": null,
            "grid_column": null,
            "grid_gap": null,
            "grid_row": null,
            "grid_template_areas": null,
            "grid_template_columns": null,
            "grid_template_rows": null,
            "height": null,
            "justify_content": null,
            "justify_items": null,
            "left": null,
            "margin": null,
            "max_height": null,
            "max_width": null,
            "min_height": null,
            "min_width": null,
            "object_fit": null,
            "object_position": null,
            "order": null,
            "overflow": null,
            "overflow_x": null,
            "overflow_y": null,
            "padding": null,
            "right": null,
            "top": null,
            "visibility": null,
            "width": null
          }
        },
        "40449375b2e34fc5b97c81089b5b814b": {
          "model_module": "@jupyter-widgets/controls",
          "model_name": "DescriptionStyleModel",
          "model_module_version": "1.5.0",
          "state": {
            "_model_module": "@jupyter-widgets/controls",
            "_model_module_version": "1.5.0",
            "_model_name": "DescriptionStyleModel",
            "_view_count": null,
            "_view_module": "@jupyter-widgets/base",
            "_view_module_version": "1.2.0",
            "_view_name": "StyleView",
            "description_width": ""
          }
        },
        "278b544841b2469aa30c5b02ca09e2bf": {
          "model_module": "@jupyter-widgets/base",
          "model_name": "LayoutModel",
          "model_module_version": "1.2.0",
          "state": {
            "_model_module": "@jupyter-widgets/base",
            "_model_module_version": "1.2.0",
            "_model_name": "LayoutModel",
            "_view_count": null,
            "_view_module": "@jupyter-widgets/base",
            "_view_module_version": "1.2.0",
            "_view_name": "LayoutView",
            "align_content": null,
            "align_items": null,
            "align_self": null,
            "border": null,
            "bottom": null,
            "display": null,
            "flex": null,
            "flex_flow": null,
            "grid_area": null,
            "grid_auto_columns": null,
            "grid_auto_flow": null,
            "grid_auto_rows": null,
            "grid_column": null,
            "grid_gap": null,
            "grid_row": null,
            "grid_template_areas": null,
            "grid_template_columns": null,
            "grid_template_rows": null,
            "height": null,
            "justify_content": null,
            "justify_items": null,
            "left": null,
            "margin": null,
            "max_height": null,
            "max_width": null,
            "min_height": null,
            "min_width": null,
            "object_fit": null,
            "object_position": null,
            "order": null,
            "overflow": null,
            "overflow_x": null,
            "overflow_y": null,
            "padding": null,
            "right": null,
            "top": null,
            "visibility": null,
            "width": null
          }
        },
        "75a1d1b7acb94dd1b72cfa1a08d9cc96": {
          "model_module": "@jupyter-widgets/controls",
          "model_name": "ProgressStyleModel",
          "model_module_version": "1.5.0",
          "state": {
            "_model_module": "@jupyter-widgets/controls",
            "_model_module_version": "1.5.0",
            "_model_name": "ProgressStyleModel",
            "_view_count": null,
            "_view_module": "@jupyter-widgets/base",
            "_view_module_version": "1.2.0",
            "_view_name": "StyleView",
            "bar_color": null,
            "description_width": ""
          }
        },
        "5651f6c8803e48559b53e6196e932ac8": {
          "model_module": "@jupyter-widgets/base",
          "model_name": "LayoutModel",
          "model_module_version": "1.2.0",
          "state": {
            "_model_module": "@jupyter-widgets/base",
            "_model_module_version": "1.2.0",
            "_model_name": "LayoutModel",
            "_view_count": null,
            "_view_module": "@jupyter-widgets/base",
            "_view_module_version": "1.2.0",
            "_view_name": "LayoutView",
            "align_content": null,
            "align_items": null,
            "align_self": null,
            "border": null,
            "bottom": null,
            "display": null,
            "flex": null,
            "flex_flow": null,
            "grid_area": null,
            "grid_auto_columns": null,
            "grid_auto_flow": null,
            "grid_auto_rows": null,
            "grid_column": null,
            "grid_gap": null,
            "grid_row": null,
            "grid_template_areas": null,
            "grid_template_columns": null,
            "grid_template_rows": null,
            "height": null,
            "justify_content": null,
            "justify_items": null,
            "left": null,
            "margin": null,
            "max_height": null,
            "max_width": null,
            "min_height": null,
            "min_width": null,
            "object_fit": null,
            "object_position": null,
            "order": null,
            "overflow": null,
            "overflow_x": null,
            "overflow_y": null,
            "padding": null,
            "right": null,
            "top": null,
            "visibility": null,
            "width": null
          }
        },
        "bd76a5c49e15488c829146714ef56b71": {
          "model_module": "@jupyter-widgets/controls",
          "model_name": "DescriptionStyleModel",
          "model_module_version": "1.5.0",
          "state": {
            "_model_module": "@jupyter-widgets/controls",
            "_model_module_version": "1.5.0",
            "_model_name": "DescriptionStyleModel",
            "_view_count": null,
            "_view_module": "@jupyter-widgets/base",
            "_view_module_version": "1.2.0",
            "_view_name": "StyleView",
            "description_width": ""
          }
        },
        "9685873dc42f48b3931dfb9b40e2af27": {
          "model_module": "@jupyter-widgets/controls",
          "model_name": "HBoxModel",
          "model_module_version": "1.5.0",
          "state": {
            "_dom_classes": [],
            "_model_module": "@jupyter-widgets/controls",
            "_model_module_version": "1.5.0",
            "_model_name": "HBoxModel",
            "_view_count": null,
            "_view_module": "@jupyter-widgets/controls",
            "_view_module_version": "1.5.0",
            "_view_name": "HBoxView",
            "box_style": "",
            "children": [
              "IPY_MODEL_baea77863be84c8fa40d5427d63af890",
              "IPY_MODEL_36accd9f718e4009aa2d88edf50b0150",
              "IPY_MODEL_85655000afeb473c87485d3e1d5b2fcc"
            ],
            "layout": "IPY_MODEL_43812b1fe3554a1280d1b86c3bf9d36b"
          }
        },
        "baea77863be84c8fa40d5427d63af890": {
          "model_module": "@jupyter-widgets/controls",
          "model_name": "HTMLModel",
          "model_module_version": "1.5.0",
          "state": {
            "_dom_classes": [],
            "_model_module": "@jupyter-widgets/controls",
            "_model_module_version": "1.5.0",
            "_model_name": "HTMLModel",
            "_view_count": null,
            "_view_module": "@jupyter-widgets/controls",
            "_view_module_version": "1.5.0",
            "_view_name": "HTMLView",
            "description": "",
            "description_tooltip": null,
            "layout": "IPY_MODEL_86fe65200a0f430389db5a9cb9e6cf87",
            "placeholder": "​",
            "style": "IPY_MODEL_17635b7aa8a34b54a4b16036944b65ab",
            "value": "Generating train split: "
          }
        },
        "36accd9f718e4009aa2d88edf50b0150": {
          "model_module": "@jupyter-widgets/controls",
          "model_name": "FloatProgressModel",
          "model_module_version": "1.5.0",
          "state": {
            "_dom_classes": [],
            "_model_module": "@jupyter-widgets/controls",
            "_model_module_version": "1.5.0",
            "_model_name": "FloatProgressModel",
            "_view_count": null,
            "_view_module": "@jupyter-widgets/controls",
            "_view_module_version": "1.5.0",
            "_view_name": "ProgressView",
            "bar_style": "success",
            "description": "",
            "description_tooltip": null,
            "layout": "IPY_MODEL_72a45535178846d3a372631ba30bee3a",
            "max": 1,
            "min": 0,
            "orientation": "horizontal",
            "style": "IPY_MODEL_a5c0f7edfc8443f6b7e44bc859e051f9",
            "value": 1
          }
        },
        "85655000afeb473c87485d3e1d5b2fcc": {
          "model_module": "@jupyter-widgets/controls",
          "model_name": "HTMLModel",
          "model_module_version": "1.5.0",
          "state": {
            "_dom_classes": [],
            "_model_module": "@jupyter-widgets/controls",
            "_model_module_version": "1.5.0",
            "_model_name": "HTMLModel",
            "_view_count": null,
            "_view_module": "@jupyter-widgets/controls",
            "_view_module_version": "1.5.0",
            "_view_name": "HTMLView",
            "description": "",
            "description_tooltip": null,
            "layout": "IPY_MODEL_d8c6125bb8a3424a8403e97405202363",
            "placeholder": "​",
            "style": "IPY_MODEL_d7afde59a4a34d9094161ded73f448c0",
            "value": " 52002/0 [00:00&lt;00:00, 111322.91 examples/s]"
          }
        },
        "43812b1fe3554a1280d1b86c3bf9d36b": {
          "model_module": "@jupyter-widgets/base",
          "model_name": "LayoutModel",
          "model_module_version": "1.2.0",
          "state": {
            "_model_module": "@jupyter-widgets/base",
            "_model_module_version": "1.2.0",
            "_model_name": "LayoutModel",
            "_view_count": null,
            "_view_module": "@jupyter-widgets/base",
            "_view_module_version": "1.2.0",
            "_view_name": "LayoutView",
            "align_content": null,
            "align_items": null,
            "align_self": null,
            "border": null,
            "bottom": null,
            "display": null,
            "flex": null,
            "flex_flow": null,
            "grid_area": null,
            "grid_auto_columns": null,
            "grid_auto_flow": null,
            "grid_auto_rows": null,
            "grid_column": null,
            "grid_gap": null,
            "grid_row": null,
            "grid_template_areas": null,
            "grid_template_columns": null,
            "grid_template_rows": null,
            "height": null,
            "justify_content": null,
            "justify_items": null,
            "left": null,
            "margin": null,
            "max_height": null,
            "max_width": null,
            "min_height": null,
            "min_width": null,
            "object_fit": null,
            "object_position": null,
            "order": null,
            "overflow": null,
            "overflow_x": null,
            "overflow_y": null,
            "padding": null,
            "right": null,
            "top": null,
            "visibility": null,
            "width": null
          }
        },
        "86fe65200a0f430389db5a9cb9e6cf87": {
          "model_module": "@jupyter-widgets/base",
          "model_name": "LayoutModel",
          "model_module_version": "1.2.0",
          "state": {
            "_model_module": "@jupyter-widgets/base",
            "_model_module_version": "1.2.0",
            "_model_name": "LayoutModel",
            "_view_count": null,
            "_view_module": "@jupyter-widgets/base",
            "_view_module_version": "1.2.0",
            "_view_name": "LayoutView",
            "align_content": null,
            "align_items": null,
            "align_self": null,
            "border": null,
            "bottom": null,
            "display": null,
            "flex": null,
            "flex_flow": null,
            "grid_area": null,
            "grid_auto_columns": null,
            "grid_auto_flow": null,
            "grid_auto_rows": null,
            "grid_column": null,
            "grid_gap": null,
            "grid_row": null,
            "grid_template_areas": null,
            "grid_template_columns": null,
            "grid_template_rows": null,
            "height": null,
            "justify_content": null,
            "justify_items": null,
            "left": null,
            "margin": null,
            "max_height": null,
            "max_width": null,
            "min_height": null,
            "min_width": null,
            "object_fit": null,
            "object_position": null,
            "order": null,
            "overflow": null,
            "overflow_x": null,
            "overflow_y": null,
            "padding": null,
            "right": null,
            "top": null,
            "visibility": null,
            "width": null
          }
        },
        "17635b7aa8a34b54a4b16036944b65ab": {
          "model_module": "@jupyter-widgets/controls",
          "model_name": "DescriptionStyleModel",
          "model_module_version": "1.5.0",
          "state": {
            "_model_module": "@jupyter-widgets/controls",
            "_model_module_version": "1.5.0",
            "_model_name": "DescriptionStyleModel",
            "_view_count": null,
            "_view_module": "@jupyter-widgets/base",
            "_view_module_version": "1.2.0",
            "_view_name": "StyleView",
            "description_width": ""
          }
        },
        "72a45535178846d3a372631ba30bee3a": {
          "model_module": "@jupyter-widgets/base",
          "model_name": "LayoutModel",
          "model_module_version": "1.2.0",
          "state": {
            "_model_module": "@jupyter-widgets/base",
            "_model_module_version": "1.2.0",
            "_model_name": "LayoutModel",
            "_view_count": null,
            "_view_module": "@jupyter-widgets/base",
            "_view_module_version": "1.2.0",
            "_view_name": "LayoutView",
            "align_content": null,
            "align_items": null,
            "align_self": null,
            "border": null,
            "bottom": null,
            "display": null,
            "flex": null,
            "flex_flow": null,
            "grid_area": null,
            "grid_auto_columns": null,
            "grid_auto_flow": null,
            "grid_auto_rows": null,
            "grid_column": null,
            "grid_gap": null,
            "grid_row": null,
            "grid_template_areas": null,
            "grid_template_columns": null,
            "grid_template_rows": null,
            "height": null,
            "justify_content": null,
            "justify_items": null,
            "left": null,
            "margin": null,
            "max_height": null,
            "max_width": null,
            "min_height": null,
            "min_width": null,
            "object_fit": null,
            "object_position": null,
            "order": null,
            "overflow": null,
            "overflow_x": null,
            "overflow_y": null,
            "padding": null,
            "right": null,
            "top": null,
            "visibility": null,
            "width": "20px"
          }
        },
        "a5c0f7edfc8443f6b7e44bc859e051f9": {
          "model_module": "@jupyter-widgets/controls",
          "model_name": "ProgressStyleModel",
          "model_module_version": "1.5.0",
          "state": {
            "_model_module": "@jupyter-widgets/controls",
            "_model_module_version": "1.5.0",
            "_model_name": "ProgressStyleModel",
            "_view_count": null,
            "_view_module": "@jupyter-widgets/base",
            "_view_module_version": "1.2.0",
            "_view_name": "StyleView",
            "bar_color": null,
            "description_width": ""
          }
        },
        "d8c6125bb8a3424a8403e97405202363": {
          "model_module": "@jupyter-widgets/base",
          "model_name": "LayoutModel",
          "model_module_version": "1.2.0",
          "state": {
            "_model_module": "@jupyter-widgets/base",
            "_model_module_version": "1.2.0",
            "_model_name": "LayoutModel",
            "_view_count": null,
            "_view_module": "@jupyter-widgets/base",
            "_view_module_version": "1.2.0",
            "_view_name": "LayoutView",
            "align_content": null,
            "align_items": null,
            "align_self": null,
            "border": null,
            "bottom": null,
            "display": null,
            "flex": null,
            "flex_flow": null,
            "grid_area": null,
            "grid_auto_columns": null,
            "grid_auto_flow": null,
            "grid_auto_rows": null,
            "grid_column": null,
            "grid_gap": null,
            "grid_row": null,
            "grid_template_areas": null,
            "grid_template_columns": null,
            "grid_template_rows": null,
            "height": null,
            "justify_content": null,
            "justify_items": null,
            "left": null,
            "margin": null,
            "max_height": null,
            "max_width": null,
            "min_height": null,
            "min_width": null,
            "object_fit": null,
            "object_position": null,
            "order": null,
            "overflow": null,
            "overflow_x": null,
            "overflow_y": null,
            "padding": null,
            "right": null,
            "top": null,
            "visibility": null,
            "width": null
          }
        },
        "d7afde59a4a34d9094161ded73f448c0": {
          "model_module": "@jupyter-widgets/controls",
          "model_name": "DescriptionStyleModel",
          "model_module_version": "1.5.0",
          "state": {
            "_model_module": "@jupyter-widgets/controls",
            "_model_module_version": "1.5.0",
            "_model_name": "DescriptionStyleModel",
            "_view_count": null,
            "_view_module": "@jupyter-widgets/base",
            "_view_module_version": "1.2.0",
            "_view_name": "StyleView",
            "description_width": ""
          }
        },
        "bcef390f98aa4f379f507eaf15eac874": {
          "model_module": "@jupyter-widgets/controls",
          "model_name": "HBoxModel",
          "model_module_version": "1.5.0",
          "state": {
            "_dom_classes": [],
            "_model_module": "@jupyter-widgets/controls",
            "_model_module_version": "1.5.0",
            "_model_name": "HBoxModel",
            "_view_count": null,
            "_view_module": "@jupyter-widgets/controls",
            "_view_module_version": "1.5.0",
            "_view_name": "HBoxView",
            "box_style": "",
            "children": [
              "IPY_MODEL_e536e1e794cd478ca6bc6a62a826cf15",
              "IPY_MODEL_08f515523b0e4458905bdbd177268f4d",
              "IPY_MODEL_46441c937a164603803572a6be13fdfe"
            ],
            "layout": "IPY_MODEL_e00ab5a3e5a34493a237a4ed7099cd59"
          }
        },
        "e536e1e794cd478ca6bc6a62a826cf15": {
          "model_module": "@jupyter-widgets/controls",
          "model_name": "HTMLModel",
          "model_module_version": "1.5.0",
          "state": {
            "_dom_classes": [],
            "_model_module": "@jupyter-widgets/controls",
            "_model_module_version": "1.5.0",
            "_model_name": "HTMLModel",
            "_view_count": null,
            "_view_module": "@jupyter-widgets/controls",
            "_view_module_version": "1.5.0",
            "_view_name": "HTMLView",
            "description": "",
            "description_tooltip": null,
            "layout": "IPY_MODEL_ef59659d0d064154bf89c09f5b3185e8",
            "placeholder": "​",
            "style": "IPY_MODEL_76fb482c111c4d1fad07917c1bfa7ed6",
            "value": "Converting format of dataset: 100%"
          }
        },
        "08f515523b0e4458905bdbd177268f4d": {
          "model_module": "@jupyter-widgets/controls",
          "model_name": "FloatProgressModel",
          "model_module_version": "1.5.0",
          "state": {
            "_dom_classes": [],
            "_model_module": "@jupyter-widgets/controls",
            "_model_module_version": "1.5.0",
            "_model_name": "FloatProgressModel",
            "_view_count": null,
            "_view_module": "@jupyter-widgets/controls",
            "_view_module_version": "1.5.0",
            "_view_name": "ProgressView",
            "bar_style": "success",
            "description": "",
            "description_tooltip": null,
            "layout": "IPY_MODEL_8b210cf318bc4234b0286368cc8d1085",
            "max": 500,
            "min": 0,
            "orientation": "horizontal",
            "style": "IPY_MODEL_3539f549e2b343b8a7fe7a06d51b0d78",
            "value": 500
          }
        },
        "46441c937a164603803572a6be13fdfe": {
          "model_module": "@jupyter-widgets/controls",
          "model_name": "HTMLModel",
          "model_module_version": "1.5.0",
          "state": {
            "_dom_classes": [],
            "_model_module": "@jupyter-widgets/controls",
            "_model_module_version": "1.5.0",
            "_model_name": "HTMLModel",
            "_view_count": null,
            "_view_module": "@jupyter-widgets/controls",
            "_view_module_version": "1.5.0",
            "_view_name": "HTMLView",
            "description": "",
            "description_tooltip": null,
            "layout": "IPY_MODEL_c7a662fc0b1f407fa8de7180ab2d3fd2",
            "placeholder": "​",
            "style": "IPY_MODEL_3cdd80aee689491c940acd8c2b15de1c",
            "value": " 500/500 [00:00&lt;00:00, 11388.65 examples/s]"
          }
        },
        "e00ab5a3e5a34493a237a4ed7099cd59": {
          "model_module": "@jupyter-widgets/base",
          "model_name": "LayoutModel",
          "model_module_version": "1.2.0",
          "state": {
            "_model_module": "@jupyter-widgets/base",
            "_model_module_version": "1.2.0",
            "_model_name": "LayoutModel",
            "_view_count": null,
            "_view_module": "@jupyter-widgets/base",
            "_view_module_version": "1.2.0",
            "_view_name": "LayoutView",
            "align_content": null,
            "align_items": null,
            "align_self": null,
            "border": null,
            "bottom": null,
            "display": null,
            "flex": null,
            "flex_flow": null,
            "grid_area": null,
            "grid_auto_columns": null,
            "grid_auto_flow": null,
            "grid_auto_rows": null,
            "grid_column": null,
            "grid_gap": null,
            "grid_row": null,
            "grid_template_areas": null,
            "grid_template_columns": null,
            "grid_template_rows": null,
            "height": null,
            "justify_content": null,
            "justify_items": null,
            "left": null,
            "margin": null,
            "max_height": null,
            "max_width": null,
            "min_height": null,
            "min_width": null,
            "object_fit": null,
            "object_position": null,
            "order": null,
            "overflow": null,
            "overflow_x": null,
            "overflow_y": null,
            "padding": null,
            "right": null,
            "top": null,
            "visibility": null,
            "width": null
          }
        },
        "ef59659d0d064154bf89c09f5b3185e8": {
          "model_module": "@jupyter-widgets/base",
          "model_name": "LayoutModel",
          "model_module_version": "1.2.0",
          "state": {
            "_model_module": "@jupyter-widgets/base",
            "_model_module_version": "1.2.0",
            "_model_name": "LayoutModel",
            "_view_count": null,
            "_view_module": "@jupyter-widgets/base",
            "_view_module_version": "1.2.0",
            "_view_name": "LayoutView",
            "align_content": null,
            "align_items": null,
            "align_self": null,
            "border": null,
            "bottom": null,
            "display": null,
            "flex": null,
            "flex_flow": null,
            "grid_area": null,
            "grid_auto_columns": null,
            "grid_auto_flow": null,
            "grid_auto_rows": null,
            "grid_column": null,
            "grid_gap": null,
            "grid_row": null,
            "grid_template_areas": null,
            "grid_template_columns": null,
            "grid_template_rows": null,
            "height": null,
            "justify_content": null,
            "justify_items": null,
            "left": null,
            "margin": null,
            "max_height": null,
            "max_width": null,
            "min_height": null,
            "min_width": null,
            "object_fit": null,
            "object_position": null,
            "order": null,
            "overflow": null,
            "overflow_x": null,
            "overflow_y": null,
            "padding": null,
            "right": null,
            "top": null,
            "visibility": null,
            "width": null
          }
        },
        "76fb482c111c4d1fad07917c1bfa7ed6": {
          "model_module": "@jupyter-widgets/controls",
          "model_name": "DescriptionStyleModel",
          "model_module_version": "1.5.0",
          "state": {
            "_model_module": "@jupyter-widgets/controls",
            "_model_module_version": "1.5.0",
            "_model_name": "DescriptionStyleModel",
            "_view_count": null,
            "_view_module": "@jupyter-widgets/base",
            "_view_module_version": "1.2.0",
            "_view_name": "StyleView",
            "description_width": ""
          }
        },
        "8b210cf318bc4234b0286368cc8d1085": {
          "model_module": "@jupyter-widgets/base",
          "model_name": "LayoutModel",
          "model_module_version": "1.2.0",
          "state": {
            "_model_module": "@jupyter-widgets/base",
            "_model_module_version": "1.2.0",
            "_model_name": "LayoutModel",
            "_view_count": null,
            "_view_module": "@jupyter-widgets/base",
            "_view_module_version": "1.2.0",
            "_view_name": "LayoutView",
            "align_content": null,
            "align_items": null,
            "align_self": null,
            "border": null,
            "bottom": null,
            "display": null,
            "flex": null,
            "flex_flow": null,
            "grid_area": null,
            "grid_auto_columns": null,
            "grid_auto_flow": null,
            "grid_auto_rows": null,
            "grid_column": null,
            "grid_gap": null,
            "grid_row": null,
            "grid_template_areas": null,
            "grid_template_columns": null,
            "grid_template_rows": null,
            "height": null,
            "justify_content": null,
            "justify_items": null,
            "left": null,
            "margin": null,
            "max_height": null,
            "max_width": null,
            "min_height": null,
            "min_width": null,
            "object_fit": null,
            "object_position": null,
            "order": null,
            "overflow": null,
            "overflow_x": null,
            "overflow_y": null,
            "padding": null,
            "right": null,
            "top": null,
            "visibility": null,
            "width": null
          }
        },
        "3539f549e2b343b8a7fe7a06d51b0d78": {
          "model_module": "@jupyter-widgets/controls",
          "model_name": "ProgressStyleModel",
          "model_module_version": "1.5.0",
          "state": {
            "_model_module": "@jupyter-widgets/controls",
            "_model_module_version": "1.5.0",
            "_model_name": "ProgressStyleModel",
            "_view_count": null,
            "_view_module": "@jupyter-widgets/base",
            "_view_module_version": "1.2.0",
            "_view_name": "StyleView",
            "bar_color": null,
            "description_width": ""
          }
        },
        "c7a662fc0b1f407fa8de7180ab2d3fd2": {
          "model_module": "@jupyter-widgets/base",
          "model_name": "LayoutModel",
          "model_module_version": "1.2.0",
          "state": {
            "_model_module": "@jupyter-widgets/base",
            "_model_module_version": "1.2.0",
            "_model_name": "LayoutModel",
            "_view_count": null,
            "_view_module": "@jupyter-widgets/base",
            "_view_module_version": "1.2.0",
            "_view_name": "LayoutView",
            "align_content": null,
            "align_items": null,
            "align_self": null,
            "border": null,
            "bottom": null,
            "display": null,
            "flex": null,
            "flex_flow": null,
            "grid_area": null,
            "grid_auto_columns": null,
            "grid_auto_flow": null,
            "grid_auto_rows": null,
            "grid_column": null,
            "grid_gap": null,
            "grid_row": null,
            "grid_template_areas": null,
            "grid_template_columns": null,
            "grid_template_rows": null,
            "height": null,
            "justify_content": null,
            "justify_items": null,
            "left": null,
            "margin": null,
            "max_height": null,
            "max_width": null,
            "min_height": null,
            "min_width": null,
            "object_fit": null,
            "object_position": null,
            "order": null,
            "overflow": null,
            "overflow_x": null,
            "overflow_y": null,
            "padding": null,
            "right": null,
            "top": null,
            "visibility": null,
            "width": null
          }
        },
        "3cdd80aee689491c940acd8c2b15de1c": {
          "model_module": "@jupyter-widgets/controls",
          "model_name": "DescriptionStyleModel",
          "model_module_version": "1.5.0",
          "state": {
            "_model_module": "@jupyter-widgets/controls",
            "_model_module_version": "1.5.0",
            "_model_name": "DescriptionStyleModel",
            "_view_count": null,
            "_view_module": "@jupyter-widgets/base",
            "_view_module_version": "1.2.0",
            "_view_name": "StyleView",
            "description_width": ""
          }
        },
        "287db69369bb4518a1a622d1dbf878a3": {
          "model_module": "@jupyter-widgets/controls",
          "model_name": "HBoxModel",
          "model_module_version": "1.5.0",
          "state": {
            "_dom_classes": [],
            "_model_module": "@jupyter-widgets/controls",
            "_model_module_version": "1.5.0",
            "_model_name": "HBoxModel",
            "_view_count": null,
            "_view_module": "@jupyter-widgets/controls",
            "_view_module_version": "1.5.0",
            "_view_name": "HBoxView",
            "box_style": "",
            "children": [
              "IPY_MODEL_0a0e932b958b4083b1c843e504eceb0a",
              "IPY_MODEL_a38420b497524a8b867e7d1f328f5a6a",
              "IPY_MODEL_f8c251164bdf4158afad85eb89222d35"
            ],
            "layout": "IPY_MODEL_0c14a852a07d42a4aaca4456a214c5ea"
          }
        },
        "0a0e932b958b4083b1c843e504eceb0a": {
          "model_module": "@jupyter-widgets/controls",
          "model_name": "HTMLModel",
          "model_module_version": "1.5.0",
          "state": {
            "_dom_classes": [],
            "_model_module": "@jupyter-widgets/controls",
            "_model_module_version": "1.5.0",
            "_model_name": "HTMLModel",
            "_view_count": null,
            "_view_module": "@jupyter-widgets/controls",
            "_view_module_version": "1.5.0",
            "_view_name": "HTMLView",
            "description": "",
            "description_tooltip": null,
            "layout": "IPY_MODEL_b7c5cb7389e144e3aa53462124ff4686",
            "placeholder": "​",
            "style": "IPY_MODEL_8201f8af4b2b45daa1c7697467817f8b",
            "value": "Generating train split: "
          }
        },
        "a38420b497524a8b867e7d1f328f5a6a": {
          "model_module": "@jupyter-widgets/controls",
          "model_name": "FloatProgressModel",
          "model_module_version": "1.5.0",
          "state": {
            "_dom_classes": [],
            "_model_module": "@jupyter-widgets/controls",
            "_model_module_version": "1.5.0",
            "_model_name": "FloatProgressModel",
            "_view_count": null,
            "_view_module": "@jupyter-widgets/controls",
            "_view_module_version": "1.5.0",
            "_view_name": "ProgressView",
            "bar_style": "success",
            "description": "",
            "description_tooltip": null,
            "layout": "IPY_MODEL_7f2b1d10492f4c329f31d2ba9cf6590a",
            "max": 1,
            "min": 0,
            "orientation": "horizontal",
            "style": "IPY_MODEL_7e0ea2d67a834f7988acb2baece84b3a",
            "value": 1
          }
        },
        "f8c251164bdf4158afad85eb89222d35": {
          "model_module": "@jupyter-widgets/controls",
          "model_name": "HTMLModel",
          "model_module_version": "1.5.0",
          "state": {
            "_dom_classes": [],
            "_model_module": "@jupyter-widgets/controls",
            "_model_module_version": "1.5.0",
            "_model_name": "HTMLModel",
            "_view_count": null,
            "_view_module": "@jupyter-widgets/controls",
            "_view_module_version": "1.5.0",
            "_view_name": "HTMLView",
            "description": "",
            "description_tooltip": null,
            "layout": "IPY_MODEL_cae12c140dac474fb998effeabd2cedd",
            "placeholder": "​",
            "style": "IPY_MODEL_3c7016a4156f487286a2ef1219a05366",
            "value": " 48818/0 [00:00&lt;00:00, 78570.34 examples/s]"
          }
        },
        "0c14a852a07d42a4aaca4456a214c5ea": {
          "model_module": "@jupyter-widgets/base",
          "model_name": "LayoutModel",
          "model_module_version": "1.2.0",
          "state": {
            "_model_module": "@jupyter-widgets/base",
            "_model_module_version": "1.2.0",
            "_model_name": "LayoutModel",
            "_view_count": null,
            "_view_module": "@jupyter-widgets/base",
            "_view_module_version": "1.2.0",
            "_view_name": "LayoutView",
            "align_content": null,
            "align_items": null,
            "align_self": null,
            "border": null,
            "bottom": null,
            "display": null,
            "flex": null,
            "flex_flow": null,
            "grid_area": null,
            "grid_auto_columns": null,
            "grid_auto_flow": null,
            "grid_auto_rows": null,
            "grid_column": null,
            "grid_gap": null,
            "grid_row": null,
            "grid_template_areas": null,
            "grid_template_columns": null,
            "grid_template_rows": null,
            "height": null,
            "justify_content": null,
            "justify_items": null,
            "left": null,
            "margin": null,
            "max_height": null,
            "max_width": null,
            "min_height": null,
            "min_width": null,
            "object_fit": null,
            "object_position": null,
            "order": null,
            "overflow": null,
            "overflow_x": null,
            "overflow_y": null,
            "padding": null,
            "right": null,
            "top": null,
            "visibility": null,
            "width": null
          }
        },
        "b7c5cb7389e144e3aa53462124ff4686": {
          "model_module": "@jupyter-widgets/base",
          "model_name": "LayoutModel",
          "model_module_version": "1.2.0",
          "state": {
            "_model_module": "@jupyter-widgets/base",
            "_model_module_version": "1.2.0",
            "_model_name": "LayoutModel",
            "_view_count": null,
            "_view_module": "@jupyter-widgets/base",
            "_view_module_version": "1.2.0",
            "_view_name": "LayoutView",
            "align_content": null,
            "align_items": null,
            "align_self": null,
            "border": null,
            "bottom": null,
            "display": null,
            "flex": null,
            "flex_flow": null,
            "grid_area": null,
            "grid_auto_columns": null,
            "grid_auto_flow": null,
            "grid_auto_rows": null,
            "grid_column": null,
            "grid_gap": null,
            "grid_row": null,
            "grid_template_areas": null,
            "grid_template_columns": null,
            "grid_template_rows": null,
            "height": null,
            "justify_content": null,
            "justify_items": null,
            "left": null,
            "margin": null,
            "max_height": null,
            "max_width": null,
            "min_height": null,
            "min_width": null,
            "object_fit": null,
            "object_position": null,
            "order": null,
            "overflow": null,
            "overflow_x": null,
            "overflow_y": null,
            "padding": null,
            "right": null,
            "top": null,
            "visibility": null,
            "width": null
          }
        },
        "8201f8af4b2b45daa1c7697467817f8b": {
          "model_module": "@jupyter-widgets/controls",
          "model_name": "DescriptionStyleModel",
          "model_module_version": "1.5.0",
          "state": {
            "_model_module": "@jupyter-widgets/controls",
            "_model_module_version": "1.5.0",
            "_model_name": "DescriptionStyleModel",
            "_view_count": null,
            "_view_module": "@jupyter-widgets/base",
            "_view_module_version": "1.2.0",
            "_view_name": "StyleView",
            "description_width": ""
          }
        },
        "7f2b1d10492f4c329f31d2ba9cf6590a": {
          "model_module": "@jupyter-widgets/base",
          "model_name": "LayoutModel",
          "model_module_version": "1.2.0",
          "state": {
            "_model_module": "@jupyter-widgets/base",
            "_model_module_version": "1.2.0",
            "_model_name": "LayoutModel",
            "_view_count": null,
            "_view_module": "@jupyter-widgets/base",
            "_view_module_version": "1.2.0",
            "_view_name": "LayoutView",
            "align_content": null,
            "align_items": null,
            "align_self": null,
            "border": null,
            "bottom": null,
            "display": null,
            "flex": null,
            "flex_flow": null,
            "grid_area": null,
            "grid_auto_columns": null,
            "grid_auto_flow": null,
            "grid_auto_rows": null,
            "grid_column": null,
            "grid_gap": null,
            "grid_row": null,
            "grid_template_areas": null,
            "grid_template_columns": null,
            "grid_template_rows": null,
            "height": null,
            "justify_content": null,
            "justify_items": null,
            "left": null,
            "margin": null,
            "max_height": null,
            "max_width": null,
            "min_height": null,
            "min_width": null,
            "object_fit": null,
            "object_position": null,
            "order": null,
            "overflow": null,
            "overflow_x": null,
            "overflow_y": null,
            "padding": null,
            "right": null,
            "top": null,
            "visibility": null,
            "width": "20px"
          }
        },
        "7e0ea2d67a834f7988acb2baece84b3a": {
          "model_module": "@jupyter-widgets/controls",
          "model_name": "ProgressStyleModel",
          "model_module_version": "1.5.0",
          "state": {
            "_model_module": "@jupyter-widgets/controls",
            "_model_module_version": "1.5.0",
            "_model_name": "ProgressStyleModel",
            "_view_count": null,
            "_view_module": "@jupyter-widgets/base",
            "_view_module_version": "1.2.0",
            "_view_name": "StyleView",
            "bar_color": null,
            "description_width": ""
          }
        },
        "cae12c140dac474fb998effeabd2cedd": {
          "model_module": "@jupyter-widgets/base",
          "model_name": "LayoutModel",
          "model_module_version": "1.2.0",
          "state": {
            "_model_module": "@jupyter-widgets/base",
            "_model_module_version": "1.2.0",
            "_model_name": "LayoutModel",
            "_view_count": null,
            "_view_module": "@jupyter-widgets/base",
            "_view_module_version": "1.2.0",
            "_view_name": "LayoutView",
            "align_content": null,
            "align_items": null,
            "align_self": null,
            "border": null,
            "bottom": null,
            "display": null,
            "flex": null,
            "flex_flow": null,
            "grid_area": null,
            "grid_auto_columns": null,
            "grid_auto_flow": null,
            "grid_auto_rows": null,
            "grid_column": null,
            "grid_gap": null,
            "grid_row": null,
            "grid_template_areas": null,
            "grid_template_columns": null,
            "grid_template_rows": null,
            "height": null,
            "justify_content": null,
            "justify_items": null,
            "left": null,
            "margin": null,
            "max_height": null,
            "max_width": null,
            "min_height": null,
            "min_width": null,
            "object_fit": null,
            "object_position": null,
            "order": null,
            "overflow": null,
            "overflow_x": null,
            "overflow_y": null,
            "padding": null,
            "right": null,
            "top": null,
            "visibility": null,
            "width": null
          }
        },
        "3c7016a4156f487286a2ef1219a05366": {
          "model_module": "@jupyter-widgets/controls",
          "model_name": "DescriptionStyleModel",
          "model_module_version": "1.5.0",
          "state": {
            "_model_module": "@jupyter-widgets/controls",
            "_model_module_version": "1.5.0",
            "_model_name": "DescriptionStyleModel",
            "_view_count": null,
            "_view_module": "@jupyter-widgets/base",
            "_view_module_version": "1.2.0",
            "_view_name": "StyleView",
            "description_width": ""
          }
        },
        "1f6b185b97084ff283a45b9155ea0d66": {
          "model_module": "@jupyter-widgets/controls",
          "model_name": "HBoxModel",
          "model_module_version": "1.5.0",
          "state": {
            "_dom_classes": [],
            "_model_module": "@jupyter-widgets/controls",
            "_model_module_version": "1.5.0",
            "_model_name": "HBoxModel",
            "_view_count": null,
            "_view_module": "@jupyter-widgets/controls",
            "_view_module_version": "1.5.0",
            "_view_name": "HBoxView",
            "box_style": "",
            "children": [
              "IPY_MODEL_e02e5155fc0c44e5b979bdb09024eb24",
              "IPY_MODEL_06a7d649584549c08cf6e2569ce76d1b",
              "IPY_MODEL_fc192e1c5f924afd96c5b5de4c5a9a87"
            ],
            "layout": "IPY_MODEL_8bfcdf56db3442d788a00763f16da289"
          }
        },
        "e02e5155fc0c44e5b979bdb09024eb24": {
          "model_module": "@jupyter-widgets/controls",
          "model_name": "HTMLModel",
          "model_module_version": "1.5.0",
          "state": {
            "_dom_classes": [],
            "_model_module": "@jupyter-widgets/controls",
            "_model_module_version": "1.5.0",
            "_model_name": "HTMLModel",
            "_view_count": null,
            "_view_module": "@jupyter-widgets/controls",
            "_view_module_version": "1.5.0",
            "_view_name": "HTMLView",
            "description": "",
            "description_tooltip": null,
            "layout": "IPY_MODEL_14255839bb404579a89394b335bddc39",
            "placeholder": "​",
            "style": "IPY_MODEL_92c9da3adffe483884c5916d19136a8a",
            "value": "Converting format of dataset: 100%"
          }
        },
        "06a7d649584549c08cf6e2569ce76d1b": {
          "model_module": "@jupyter-widgets/controls",
          "model_name": "FloatProgressModel",
          "model_module_version": "1.5.0",
          "state": {
            "_dom_classes": [],
            "_model_module": "@jupyter-widgets/controls",
            "_model_module_version": "1.5.0",
            "_model_name": "FloatProgressModel",
            "_view_count": null,
            "_view_module": "@jupyter-widgets/controls",
            "_view_module_version": "1.5.0",
            "_view_name": "ProgressView",
            "bar_style": "success",
            "description": "",
            "description_tooltip": null,
            "layout": "IPY_MODEL_533547ce49c7424b82f594923a45c670",
            "max": 500,
            "min": 0,
            "orientation": "horizontal",
            "style": "IPY_MODEL_2809afad3919484abe2423f2d510d7ee",
            "value": 500
          }
        },
        "fc192e1c5f924afd96c5b5de4c5a9a87": {
          "model_module": "@jupyter-widgets/controls",
          "model_name": "HTMLModel",
          "model_module_version": "1.5.0",
          "state": {
            "_dom_classes": [],
            "_model_module": "@jupyter-widgets/controls",
            "_model_module_version": "1.5.0",
            "_model_name": "HTMLModel",
            "_view_count": null,
            "_view_module": "@jupyter-widgets/controls",
            "_view_module_version": "1.5.0",
            "_view_name": "HTMLView",
            "description": "",
            "description_tooltip": null,
            "layout": "IPY_MODEL_49a981792c8541d1bf68bff47326309d",
            "placeholder": "​",
            "style": "IPY_MODEL_b6d0c2a106cb43389356d1d2ed8bbc9b",
            "value": " 500/500 [00:00&lt;00:00, 9515.99 examples/s]"
          }
        },
        "8bfcdf56db3442d788a00763f16da289": {
          "model_module": "@jupyter-widgets/base",
          "model_name": "LayoutModel",
          "model_module_version": "1.2.0",
          "state": {
            "_model_module": "@jupyter-widgets/base",
            "_model_module_version": "1.2.0",
            "_model_name": "LayoutModel",
            "_view_count": null,
            "_view_module": "@jupyter-widgets/base",
            "_view_module_version": "1.2.0",
            "_view_name": "LayoutView",
            "align_content": null,
            "align_items": null,
            "align_self": null,
            "border": null,
            "bottom": null,
            "display": null,
            "flex": null,
            "flex_flow": null,
            "grid_area": null,
            "grid_auto_columns": null,
            "grid_auto_flow": null,
            "grid_auto_rows": null,
            "grid_column": null,
            "grid_gap": null,
            "grid_row": null,
            "grid_template_areas": null,
            "grid_template_columns": null,
            "grid_template_rows": null,
            "height": null,
            "justify_content": null,
            "justify_items": null,
            "left": null,
            "margin": null,
            "max_height": null,
            "max_width": null,
            "min_height": null,
            "min_width": null,
            "object_fit": null,
            "object_position": null,
            "order": null,
            "overflow": null,
            "overflow_x": null,
            "overflow_y": null,
            "padding": null,
            "right": null,
            "top": null,
            "visibility": null,
            "width": null
          }
        },
        "14255839bb404579a89394b335bddc39": {
          "model_module": "@jupyter-widgets/base",
          "model_name": "LayoutModel",
          "model_module_version": "1.2.0",
          "state": {
            "_model_module": "@jupyter-widgets/base",
            "_model_module_version": "1.2.0",
            "_model_name": "LayoutModel",
            "_view_count": null,
            "_view_module": "@jupyter-widgets/base",
            "_view_module_version": "1.2.0",
            "_view_name": "LayoutView",
            "align_content": null,
            "align_items": null,
            "align_self": null,
            "border": null,
            "bottom": null,
            "display": null,
            "flex": null,
            "flex_flow": null,
            "grid_area": null,
            "grid_auto_columns": null,
            "grid_auto_flow": null,
            "grid_auto_rows": null,
            "grid_column": null,
            "grid_gap": null,
            "grid_row": null,
            "grid_template_areas": null,
            "grid_template_columns": null,
            "grid_template_rows": null,
            "height": null,
            "justify_content": null,
            "justify_items": null,
            "left": null,
            "margin": null,
            "max_height": null,
            "max_width": null,
            "min_height": null,
            "min_width": null,
            "object_fit": null,
            "object_position": null,
            "order": null,
            "overflow": null,
            "overflow_x": null,
            "overflow_y": null,
            "padding": null,
            "right": null,
            "top": null,
            "visibility": null,
            "width": null
          }
        },
        "92c9da3adffe483884c5916d19136a8a": {
          "model_module": "@jupyter-widgets/controls",
          "model_name": "DescriptionStyleModel",
          "model_module_version": "1.5.0",
          "state": {
            "_model_module": "@jupyter-widgets/controls",
            "_model_module_version": "1.5.0",
            "_model_name": "DescriptionStyleModel",
            "_view_count": null,
            "_view_module": "@jupyter-widgets/base",
            "_view_module_version": "1.2.0",
            "_view_name": "StyleView",
            "description_width": ""
          }
        },
        "533547ce49c7424b82f594923a45c670": {
          "model_module": "@jupyter-widgets/base",
          "model_name": "LayoutModel",
          "model_module_version": "1.2.0",
          "state": {
            "_model_module": "@jupyter-widgets/base",
            "_model_module_version": "1.2.0",
            "_model_name": "LayoutModel",
            "_view_count": null,
            "_view_module": "@jupyter-widgets/base",
            "_view_module_version": "1.2.0",
            "_view_name": "LayoutView",
            "align_content": null,
            "align_items": null,
            "align_self": null,
            "border": null,
            "bottom": null,
            "display": null,
            "flex": null,
            "flex_flow": null,
            "grid_area": null,
            "grid_auto_columns": null,
            "grid_auto_flow": null,
            "grid_auto_rows": null,
            "grid_column": null,
            "grid_gap": null,
            "grid_row": null,
            "grid_template_areas": null,
            "grid_template_columns": null,
            "grid_template_rows": null,
            "height": null,
            "justify_content": null,
            "justify_items": null,
            "left": null,
            "margin": null,
            "max_height": null,
            "max_width": null,
            "min_height": null,
            "min_width": null,
            "object_fit": null,
            "object_position": null,
            "order": null,
            "overflow": null,
            "overflow_x": null,
            "overflow_y": null,
            "padding": null,
            "right": null,
            "top": null,
            "visibility": null,
            "width": null
          }
        },
        "2809afad3919484abe2423f2d510d7ee": {
          "model_module": "@jupyter-widgets/controls",
          "model_name": "ProgressStyleModel",
          "model_module_version": "1.5.0",
          "state": {
            "_model_module": "@jupyter-widgets/controls",
            "_model_module_version": "1.5.0",
            "_model_name": "ProgressStyleModel",
            "_view_count": null,
            "_view_module": "@jupyter-widgets/base",
            "_view_module_version": "1.2.0",
            "_view_name": "StyleView",
            "bar_color": null,
            "description_width": ""
          }
        },
        "49a981792c8541d1bf68bff47326309d": {
          "model_module": "@jupyter-widgets/base",
          "model_name": "LayoutModel",
          "model_module_version": "1.2.0",
          "state": {
            "_model_module": "@jupyter-widgets/base",
            "_model_module_version": "1.2.0",
            "_model_name": "LayoutModel",
            "_view_count": null,
            "_view_module": "@jupyter-widgets/base",
            "_view_module_version": "1.2.0",
            "_view_name": "LayoutView",
            "align_content": null,
            "align_items": null,
            "align_self": null,
            "border": null,
            "bottom": null,
            "display": null,
            "flex": null,
            "flex_flow": null,
            "grid_area": null,
            "grid_auto_columns": null,
            "grid_auto_flow": null,
            "grid_auto_rows": null,
            "grid_column": null,
            "grid_gap": null,
            "grid_row": null,
            "grid_template_areas": null,
            "grid_template_columns": null,
            "grid_template_rows": null,
            "height": null,
            "justify_content": null,
            "justify_items": null,
            "left": null,
            "margin": null,
            "max_height": null,
            "max_width": null,
            "min_height": null,
            "min_width": null,
            "object_fit": null,
            "object_position": null,
            "order": null,
            "overflow": null,
            "overflow_x": null,
            "overflow_y": null,
            "padding": null,
            "right": null,
            "top": null,
            "visibility": null,
            "width": null
          }
        },
        "b6d0c2a106cb43389356d1d2ed8bbc9b": {
          "model_module": "@jupyter-widgets/controls",
          "model_name": "DescriptionStyleModel",
          "model_module_version": "1.5.0",
          "state": {
            "_model_module": "@jupyter-widgets/controls",
            "_model_module_version": "1.5.0",
            "_model_name": "DescriptionStyleModel",
            "_view_count": null,
            "_view_module": "@jupyter-widgets/base",
            "_view_module_version": "1.2.0",
            "_view_name": "StyleView",
            "description_width": ""
          }
        },
        "d667ec24008f4fcea923b81c4d41c8c6": {
          "model_module": "@jupyter-widgets/controls",
          "model_name": "HBoxModel",
          "model_module_version": "1.5.0",
          "state": {
            "_dom_classes": [],
            "_model_module": "@jupyter-widgets/controls",
            "_model_module_version": "1.5.0",
            "_model_name": "HBoxModel",
            "_view_count": null,
            "_view_module": "@jupyter-widgets/controls",
            "_view_module_version": "1.5.0",
            "_view_name": "HBoxView",
            "box_style": "",
            "children": [
              "IPY_MODEL_31d9dcbcf4604bca8665824af54f81cc",
              "IPY_MODEL_deada03bafc2475da29186660123b55d",
              "IPY_MODEL_d7dfa24f0a3746d19b6a8d60b6e5e110"
            ],
            "layout": "IPY_MODEL_c863ea58b3e84c8688372a25a0a4bfcc"
          }
        },
        "31d9dcbcf4604bca8665824af54f81cc": {
          "model_module": "@jupyter-widgets/controls",
          "model_name": "HTMLModel",
          "model_module_version": "1.5.0",
          "state": {
            "_dom_classes": [],
            "_model_module": "@jupyter-widgets/controls",
            "_model_module_version": "1.5.0",
            "_model_name": "HTMLModel",
            "_view_count": null,
            "_view_module": "@jupyter-widgets/controls",
            "_view_module_version": "1.5.0",
            "_view_name": "HTMLView",
            "description": "",
            "description_tooltip": null,
            "layout": "IPY_MODEL_57b0a45d4e0e4ebfabaca6f7fffb5a0b",
            "placeholder": "​",
            "style": "IPY_MODEL_ed799f73495041f49bf40202b64d3411",
            "value": "Running tokenizer on dataset: 100%"
          }
        },
        "deada03bafc2475da29186660123b55d": {
          "model_module": "@jupyter-widgets/controls",
          "model_name": "FloatProgressModel",
          "model_module_version": "1.5.0",
          "state": {
            "_dom_classes": [],
            "_model_module": "@jupyter-widgets/controls",
            "_model_module_version": "1.5.0",
            "_model_name": "FloatProgressModel",
            "_view_count": null,
            "_view_module": "@jupyter-widgets/controls",
            "_view_module_version": "1.5.0",
            "_view_name": "ProgressView",
            "bar_style": "success",
            "description": "",
            "description_tooltip": null,
            "layout": "IPY_MODEL_90ede99f64df48ae950cecdad941db65",
            "max": 1091,
            "min": 0,
            "orientation": "horizontal",
            "style": "IPY_MODEL_8f047f50a5e8428a8587987ca5178c62",
            "value": 1091
          }
        },
        "d7dfa24f0a3746d19b6a8d60b6e5e110": {
          "model_module": "@jupyter-widgets/controls",
          "model_name": "HTMLModel",
          "model_module_version": "1.5.0",
          "state": {
            "_dom_classes": [],
            "_model_module": "@jupyter-widgets/controls",
            "_model_module_version": "1.5.0",
            "_model_name": "HTMLModel",
            "_view_count": null,
            "_view_module": "@jupyter-widgets/controls",
            "_view_module_version": "1.5.0",
            "_view_name": "HTMLView",
            "description": "",
            "description_tooltip": null,
            "layout": "IPY_MODEL_b9424866cea8452c8e7913306ac73885",
            "placeholder": "​",
            "style": "IPY_MODEL_69d9665069d342ecad6d9a90f90248fa",
            "value": " 1091/1091 [00:04&lt;00:00, 212.17 examples/s]"
          }
        },
        "c863ea58b3e84c8688372a25a0a4bfcc": {
          "model_module": "@jupyter-widgets/base",
          "model_name": "LayoutModel",
          "model_module_version": "1.2.0",
          "state": {
            "_model_module": "@jupyter-widgets/base",
            "_model_module_version": "1.2.0",
            "_model_name": "LayoutModel",
            "_view_count": null,
            "_view_module": "@jupyter-widgets/base",
            "_view_module_version": "1.2.0",
            "_view_name": "LayoutView",
            "align_content": null,
            "align_items": null,
            "align_self": null,
            "border": null,
            "bottom": null,
            "display": null,
            "flex": null,
            "flex_flow": null,
            "grid_area": null,
            "grid_auto_columns": null,
            "grid_auto_flow": null,
            "grid_auto_rows": null,
            "grid_column": null,
            "grid_gap": null,
            "grid_row": null,
            "grid_template_areas": null,
            "grid_template_columns": null,
            "grid_template_rows": null,
            "height": null,
            "justify_content": null,
            "justify_items": null,
            "left": null,
            "margin": null,
            "max_height": null,
            "max_width": null,
            "min_height": null,
            "min_width": null,
            "object_fit": null,
            "object_position": null,
            "order": null,
            "overflow": null,
            "overflow_x": null,
            "overflow_y": null,
            "padding": null,
            "right": null,
            "top": null,
            "visibility": null,
            "width": null
          }
        },
        "57b0a45d4e0e4ebfabaca6f7fffb5a0b": {
          "model_module": "@jupyter-widgets/base",
          "model_name": "LayoutModel",
          "model_module_version": "1.2.0",
          "state": {
            "_model_module": "@jupyter-widgets/base",
            "_model_module_version": "1.2.0",
            "_model_name": "LayoutModel",
            "_view_count": null,
            "_view_module": "@jupyter-widgets/base",
            "_view_module_version": "1.2.0",
            "_view_name": "LayoutView",
            "align_content": null,
            "align_items": null,
            "align_self": null,
            "border": null,
            "bottom": null,
            "display": null,
            "flex": null,
            "flex_flow": null,
            "grid_area": null,
            "grid_auto_columns": null,
            "grid_auto_flow": null,
            "grid_auto_rows": null,
            "grid_column": null,
            "grid_gap": null,
            "grid_row": null,
            "grid_template_areas": null,
            "grid_template_columns": null,
            "grid_template_rows": null,
            "height": null,
            "justify_content": null,
            "justify_items": null,
            "left": null,
            "margin": null,
            "max_height": null,
            "max_width": null,
            "min_height": null,
            "min_width": null,
            "object_fit": null,
            "object_position": null,
            "order": null,
            "overflow": null,
            "overflow_x": null,
            "overflow_y": null,
            "padding": null,
            "right": null,
            "top": null,
            "visibility": null,
            "width": null
          }
        },
        "ed799f73495041f49bf40202b64d3411": {
          "model_module": "@jupyter-widgets/controls",
          "model_name": "DescriptionStyleModel",
          "model_module_version": "1.5.0",
          "state": {
            "_model_module": "@jupyter-widgets/controls",
            "_model_module_version": "1.5.0",
            "_model_name": "DescriptionStyleModel",
            "_view_count": null,
            "_view_module": "@jupyter-widgets/base",
            "_view_module_version": "1.2.0",
            "_view_name": "StyleView",
            "description_width": ""
          }
        },
        "90ede99f64df48ae950cecdad941db65": {
          "model_module": "@jupyter-widgets/base",
          "model_name": "LayoutModel",
          "model_module_version": "1.2.0",
          "state": {
            "_model_module": "@jupyter-widgets/base",
            "_model_module_version": "1.2.0",
            "_model_name": "LayoutModel",
            "_view_count": null,
            "_view_module": "@jupyter-widgets/base",
            "_view_module_version": "1.2.0",
            "_view_name": "LayoutView",
            "align_content": null,
            "align_items": null,
            "align_self": null,
            "border": null,
            "bottom": null,
            "display": null,
            "flex": null,
            "flex_flow": null,
            "grid_area": null,
            "grid_auto_columns": null,
            "grid_auto_flow": null,
            "grid_auto_rows": null,
            "grid_column": null,
            "grid_gap": null,
            "grid_row": null,
            "grid_template_areas": null,
            "grid_template_columns": null,
            "grid_template_rows": null,
            "height": null,
            "justify_content": null,
            "justify_items": null,
            "left": null,
            "margin": null,
            "max_height": null,
            "max_width": null,
            "min_height": null,
            "min_width": null,
            "object_fit": null,
            "object_position": null,
            "order": null,
            "overflow": null,
            "overflow_x": null,
            "overflow_y": null,
            "padding": null,
            "right": null,
            "top": null,
            "visibility": null,
            "width": null
          }
        },
        "8f047f50a5e8428a8587987ca5178c62": {
          "model_module": "@jupyter-widgets/controls",
          "model_name": "ProgressStyleModel",
          "model_module_version": "1.5.0",
          "state": {
            "_model_module": "@jupyter-widgets/controls",
            "_model_module_version": "1.5.0",
            "_model_name": "ProgressStyleModel",
            "_view_count": null,
            "_view_module": "@jupyter-widgets/base",
            "_view_module_version": "1.2.0",
            "_view_name": "StyleView",
            "bar_color": null,
            "description_width": ""
          }
        },
        "b9424866cea8452c8e7913306ac73885": {
          "model_module": "@jupyter-widgets/base",
          "model_name": "LayoutModel",
          "model_module_version": "1.2.0",
          "state": {
            "_model_module": "@jupyter-widgets/base",
            "_model_module_version": "1.2.0",
            "_model_name": "LayoutModel",
            "_view_count": null,
            "_view_module": "@jupyter-widgets/base",
            "_view_module_version": "1.2.0",
            "_view_name": "LayoutView",
            "align_content": null,
            "align_items": null,
            "align_self": null,
            "border": null,
            "bottom": null,
            "display": null,
            "flex": null,
            "flex_flow": null,
            "grid_area": null,
            "grid_auto_columns": null,
            "grid_auto_flow": null,
            "grid_auto_rows": null,
            "grid_column": null,
            "grid_gap": null,
            "grid_row": null,
            "grid_template_areas": null,
            "grid_template_columns": null,
            "grid_template_rows": null,
            "height": null,
            "justify_content": null,
            "justify_items": null,
            "left": null,
            "margin": null,
            "max_height": null,
            "max_width": null,
            "min_height": null,
            "min_width": null,
            "object_fit": null,
            "object_position": null,
            "order": null,
            "overflow": null,
            "overflow_x": null,
            "overflow_y": null,
            "padding": null,
            "right": null,
            "top": null,
            "visibility": null,
            "width": null
          }
        },
        "69d9665069d342ecad6d9a90f90248fa": {
          "model_module": "@jupyter-widgets/controls",
          "model_name": "DescriptionStyleModel",
          "model_module_version": "1.5.0",
          "state": {
            "_model_module": "@jupyter-widgets/controls",
            "_model_module_version": "1.5.0",
            "_model_name": "DescriptionStyleModel",
            "_view_count": null,
            "_view_module": "@jupyter-widgets/base",
            "_view_module_version": "1.2.0",
            "_view_name": "StyleView",
            "description_width": ""
          }
        },
        "cfdec9dce0164130a7123b76564cc77c": {
          "model_module": "@jupyter-widgets/controls",
          "model_name": "HBoxModel",
          "model_module_version": "1.5.0",
          "state": {
            "_dom_classes": [],
            "_model_module": "@jupyter-widgets/controls",
            "_model_module_version": "1.5.0",
            "_model_name": "HBoxModel",
            "_view_count": null,
            "_view_module": "@jupyter-widgets/controls",
            "_view_module_version": "1.5.0",
            "_view_name": "HBoxView",
            "box_style": "",
            "children": [
              "IPY_MODEL_eacbde1b6df6476987d0c0d0402429bd",
              "IPY_MODEL_bced04d6db15472d89320f7ffa15b5b3",
              "IPY_MODEL_2beda5ec380a46f99e9370fbd7b52dc4"
            ],
            "layout": "IPY_MODEL_d72bf6e6f1d14e3688133747cbf24e3b"
          }
        },
        "eacbde1b6df6476987d0c0d0402429bd": {
          "model_module": "@jupyter-widgets/controls",
          "model_name": "HTMLModel",
          "model_module_version": "1.5.0",
          "state": {
            "_dom_classes": [],
            "_model_module": "@jupyter-widgets/controls",
            "_model_module_version": "1.5.0",
            "_model_name": "HTMLModel",
            "_view_count": null,
            "_view_module": "@jupyter-widgets/controls",
            "_view_module_version": "1.5.0",
            "_view_name": "HTMLView",
            "description": "",
            "description_tooltip": null,
            "layout": "IPY_MODEL_f1e3e43de15c46f2a4461d17251e66c0",
            "placeholder": "​",
            "style": "IPY_MODEL_f437539def8245c588919bb67e6498bc",
            "value": "config.json: 100%"
          }
        },
        "bced04d6db15472d89320f7ffa15b5b3": {
          "model_module": "@jupyter-widgets/controls",
          "model_name": "FloatProgressModel",
          "model_module_version": "1.5.0",
          "state": {
            "_dom_classes": [],
            "_model_module": "@jupyter-widgets/controls",
            "_model_module_version": "1.5.0",
            "_model_name": "FloatProgressModel",
            "_view_count": null,
            "_view_module": "@jupyter-widgets/controls",
            "_view_module_version": "1.5.0",
            "_view_name": "ProgressView",
            "bar_style": "success",
            "description": "",
            "description_tooltip": null,
            "layout": "IPY_MODEL_fb9de293972e4ab4baa5a5212a77c6a6",
            "max": 661,
            "min": 0,
            "orientation": "horizontal",
            "style": "IPY_MODEL_5cdaed918d7f4521b1ba35953bf09ce1",
            "value": 661
          }
        },
        "2beda5ec380a46f99e9370fbd7b52dc4": {
          "model_module": "@jupyter-widgets/controls",
          "model_name": "HTMLModel",
          "model_module_version": "1.5.0",
          "state": {
            "_dom_classes": [],
            "_model_module": "@jupyter-widgets/controls",
            "_model_module_version": "1.5.0",
            "_model_name": "HTMLModel",
            "_view_count": null,
            "_view_module": "@jupyter-widgets/controls",
            "_view_module_version": "1.5.0",
            "_view_name": "HTMLView",
            "description": "",
            "description_tooltip": null,
            "layout": "IPY_MODEL_065a1d064a9345afbf137ca75abebdad",
            "placeholder": "​",
            "style": "IPY_MODEL_c7d920558f94402fb2014e7b6519698a",
            "value": " 661/661 [00:00&lt;00:00, 30.7kB/s]"
          }
        },
        "d72bf6e6f1d14e3688133747cbf24e3b": {
          "model_module": "@jupyter-widgets/base",
          "model_name": "LayoutModel",
          "model_module_version": "1.2.0",
          "state": {
            "_model_module": "@jupyter-widgets/base",
            "_model_module_version": "1.2.0",
            "_model_name": "LayoutModel",
            "_view_count": null,
            "_view_module": "@jupyter-widgets/base",
            "_view_module_version": "1.2.0",
            "_view_name": "LayoutView",
            "align_content": null,
            "align_items": null,
            "align_self": null,
            "border": null,
            "bottom": null,
            "display": null,
            "flex": null,
            "flex_flow": null,
            "grid_area": null,
            "grid_auto_columns": null,
            "grid_auto_flow": null,
            "grid_auto_rows": null,
            "grid_column": null,
            "grid_gap": null,
            "grid_row": null,
            "grid_template_areas": null,
            "grid_template_columns": null,
            "grid_template_rows": null,
            "height": null,
            "justify_content": null,
            "justify_items": null,
            "left": null,
            "margin": null,
            "max_height": null,
            "max_width": null,
            "min_height": null,
            "min_width": null,
            "object_fit": null,
            "object_position": null,
            "order": null,
            "overflow": null,
            "overflow_x": null,
            "overflow_y": null,
            "padding": null,
            "right": null,
            "top": null,
            "visibility": null,
            "width": null
          }
        },
        "f1e3e43de15c46f2a4461d17251e66c0": {
          "model_module": "@jupyter-widgets/base",
          "model_name": "LayoutModel",
          "model_module_version": "1.2.0",
          "state": {
            "_model_module": "@jupyter-widgets/base",
            "_model_module_version": "1.2.0",
            "_model_name": "LayoutModel",
            "_view_count": null,
            "_view_module": "@jupyter-widgets/base",
            "_view_module_version": "1.2.0",
            "_view_name": "LayoutView",
            "align_content": null,
            "align_items": null,
            "align_self": null,
            "border": null,
            "bottom": null,
            "display": null,
            "flex": null,
            "flex_flow": null,
            "grid_area": null,
            "grid_auto_columns": null,
            "grid_auto_flow": null,
            "grid_auto_rows": null,
            "grid_column": null,
            "grid_gap": null,
            "grid_row": null,
            "grid_template_areas": null,
            "grid_template_columns": null,
            "grid_template_rows": null,
            "height": null,
            "justify_content": null,
            "justify_items": null,
            "left": null,
            "margin": null,
            "max_height": null,
            "max_width": null,
            "min_height": null,
            "min_width": null,
            "object_fit": null,
            "object_position": null,
            "order": null,
            "overflow": null,
            "overflow_x": null,
            "overflow_y": null,
            "padding": null,
            "right": null,
            "top": null,
            "visibility": null,
            "width": null
          }
        },
        "f437539def8245c588919bb67e6498bc": {
          "model_module": "@jupyter-widgets/controls",
          "model_name": "DescriptionStyleModel",
          "model_module_version": "1.5.0",
          "state": {
            "_model_module": "@jupyter-widgets/controls",
            "_model_module_version": "1.5.0",
            "_model_name": "DescriptionStyleModel",
            "_view_count": null,
            "_view_module": "@jupyter-widgets/base",
            "_view_module_version": "1.2.0",
            "_view_name": "StyleView",
            "description_width": ""
          }
        },
        "fb9de293972e4ab4baa5a5212a77c6a6": {
          "model_module": "@jupyter-widgets/base",
          "model_name": "LayoutModel",
          "model_module_version": "1.2.0",
          "state": {
            "_model_module": "@jupyter-widgets/base",
            "_model_module_version": "1.2.0",
            "_model_name": "LayoutModel",
            "_view_count": null,
            "_view_module": "@jupyter-widgets/base",
            "_view_module_version": "1.2.0",
            "_view_name": "LayoutView",
            "align_content": null,
            "align_items": null,
            "align_self": null,
            "border": null,
            "bottom": null,
            "display": null,
            "flex": null,
            "flex_flow": null,
            "grid_area": null,
            "grid_auto_columns": null,
            "grid_auto_flow": null,
            "grid_auto_rows": null,
            "grid_column": null,
            "grid_gap": null,
            "grid_row": null,
            "grid_template_areas": null,
            "grid_template_columns": null,
            "grid_template_rows": null,
            "height": null,
            "justify_content": null,
            "justify_items": null,
            "left": null,
            "margin": null,
            "max_height": null,
            "max_width": null,
            "min_height": null,
            "min_width": null,
            "object_fit": null,
            "object_position": null,
            "order": null,
            "overflow": null,
            "overflow_x": null,
            "overflow_y": null,
            "padding": null,
            "right": null,
            "top": null,
            "visibility": null,
            "width": null
          }
        },
        "5cdaed918d7f4521b1ba35953bf09ce1": {
          "model_module": "@jupyter-widgets/controls",
          "model_name": "ProgressStyleModel",
          "model_module_version": "1.5.0",
          "state": {
            "_model_module": "@jupyter-widgets/controls",
            "_model_module_version": "1.5.0",
            "_model_name": "ProgressStyleModel",
            "_view_count": null,
            "_view_module": "@jupyter-widgets/base",
            "_view_module_version": "1.2.0",
            "_view_name": "StyleView",
            "bar_color": null,
            "description_width": ""
          }
        },
        "065a1d064a9345afbf137ca75abebdad": {
          "model_module": "@jupyter-widgets/base",
          "model_name": "LayoutModel",
          "model_module_version": "1.2.0",
          "state": {
            "_model_module": "@jupyter-widgets/base",
            "_model_module_version": "1.2.0",
            "_model_name": "LayoutModel",
            "_view_count": null,
            "_view_module": "@jupyter-widgets/base",
            "_view_module_version": "1.2.0",
            "_view_name": "LayoutView",
            "align_content": null,
            "align_items": null,
            "align_self": null,
            "border": null,
            "bottom": null,
            "display": null,
            "flex": null,
            "flex_flow": null,
            "grid_area": null,
            "grid_auto_columns": null,
            "grid_auto_flow": null,
            "grid_auto_rows": null,
            "grid_column": null,
            "grid_gap": null,
            "grid_row": null,
            "grid_template_areas": null,
            "grid_template_columns": null,
            "grid_template_rows": null,
            "height": null,
            "justify_content": null,
            "justify_items": null,
            "left": null,
            "margin": null,
            "max_height": null,
            "max_width": null,
            "min_height": null,
            "min_width": null,
            "object_fit": null,
            "object_position": null,
            "order": null,
            "overflow": null,
            "overflow_x": null,
            "overflow_y": null,
            "padding": null,
            "right": null,
            "top": null,
            "visibility": null,
            "width": null
          }
        },
        "c7d920558f94402fb2014e7b6519698a": {
          "model_module": "@jupyter-widgets/controls",
          "model_name": "DescriptionStyleModel",
          "model_module_version": "1.5.0",
          "state": {
            "_model_module": "@jupyter-widgets/controls",
            "_model_module_version": "1.5.0",
            "_model_name": "DescriptionStyleModel",
            "_view_count": null,
            "_view_module": "@jupyter-widgets/base",
            "_view_module_version": "1.2.0",
            "_view_name": "StyleView",
            "description_width": ""
          }
        },
        "804b17c64e664028bf4252a169b8ab8c": {
          "model_module": "@jupyter-widgets/controls",
          "model_name": "HBoxModel",
          "model_module_version": "1.5.0",
          "state": {
            "_dom_classes": [],
            "_model_module": "@jupyter-widgets/controls",
            "_model_module_version": "1.5.0",
            "_model_name": "HBoxModel",
            "_view_count": null,
            "_view_module": "@jupyter-widgets/controls",
            "_view_module_version": "1.5.0",
            "_view_name": "HBoxView",
            "box_style": "",
            "children": [
              "IPY_MODEL_30a3b36e3c78429c97bb18abd02a78fb",
              "IPY_MODEL_ffaec80f2b164fea868efbe3e5418686",
              "IPY_MODEL_b83f10a983804eef93462f02eafd2a19"
            ],
            "layout": "IPY_MODEL_c6b9a158e0e647758011a51006005a44"
          }
        },
        "30a3b36e3c78429c97bb18abd02a78fb": {
          "model_module": "@jupyter-widgets/controls",
          "model_name": "HTMLModel",
          "model_module_version": "1.5.0",
          "state": {
            "_dom_classes": [],
            "_model_module": "@jupyter-widgets/controls",
            "_model_module_version": "1.5.0",
            "_model_name": "HTMLModel",
            "_view_count": null,
            "_view_module": "@jupyter-widgets/controls",
            "_view_module_version": "1.5.0",
            "_view_name": "HTMLView",
            "description": "",
            "description_tooltip": null,
            "layout": "IPY_MODEL_93a24a7c0ff14f20a1dd71f358eeb345",
            "placeholder": "​",
            "style": "IPY_MODEL_cadb0d55ea8c447991694b326e778649",
            "value": "model.safetensors: 100%"
          }
        },
        "ffaec80f2b164fea868efbe3e5418686": {
          "model_module": "@jupyter-widgets/controls",
          "model_name": "FloatProgressModel",
          "model_module_version": "1.5.0",
          "state": {
            "_dom_classes": [],
            "_model_module": "@jupyter-widgets/controls",
            "_model_module_version": "1.5.0",
            "_model_name": "FloatProgressModel",
            "_view_count": null,
            "_view_module": "@jupyter-widgets/controls",
            "_view_module_version": "1.5.0",
            "_view_name": "ProgressView",
            "bar_style": "success",
            "description": "",
            "description_tooltip": null,
            "layout": "IPY_MODEL_d9e522b2a8914e2cad444cb811300515",
            "max": 1239173352,
            "min": 0,
            "orientation": "horizontal",
            "style": "IPY_MODEL_863dceeab2a24a849ee56be910f5c4ec",
            "value": 1239173352
          }
        },
        "b83f10a983804eef93462f02eafd2a19": {
          "model_module": "@jupyter-widgets/controls",
          "model_name": "HTMLModel",
          "model_module_version": "1.5.0",
          "state": {
            "_dom_classes": [],
            "_model_module": "@jupyter-widgets/controls",
            "_model_module_version": "1.5.0",
            "_model_name": "HTMLModel",
            "_view_count": null,
            "_view_module": "@jupyter-widgets/controls",
            "_view_module_version": "1.5.0",
            "_view_name": "HTMLView",
            "description": "",
            "description_tooltip": null,
            "layout": "IPY_MODEL_4c919a5b0ff0488887cec64a02b8ee72",
            "placeholder": "​",
            "style": "IPY_MODEL_db1afef686b5411a90fc96062aefa9ef",
            "value": " 1.24G/1.24G [00:04&lt;00:00, 252MB/s]"
          }
        },
        "c6b9a158e0e647758011a51006005a44": {
          "model_module": "@jupyter-widgets/base",
          "model_name": "LayoutModel",
          "model_module_version": "1.2.0",
          "state": {
            "_model_module": "@jupyter-widgets/base",
            "_model_module_version": "1.2.0",
            "_model_name": "LayoutModel",
            "_view_count": null,
            "_view_module": "@jupyter-widgets/base",
            "_view_module_version": "1.2.0",
            "_view_name": "LayoutView",
            "align_content": null,
            "align_items": null,
            "align_self": null,
            "border": null,
            "bottom": null,
            "display": null,
            "flex": null,
            "flex_flow": null,
            "grid_area": null,
            "grid_auto_columns": null,
            "grid_auto_flow": null,
            "grid_auto_rows": null,
            "grid_column": null,
            "grid_gap": null,
            "grid_row": null,
            "grid_template_areas": null,
            "grid_template_columns": null,
            "grid_template_rows": null,
            "height": null,
            "justify_content": null,
            "justify_items": null,
            "left": null,
            "margin": null,
            "max_height": null,
            "max_width": null,
            "min_height": null,
            "min_width": null,
            "object_fit": null,
            "object_position": null,
            "order": null,
            "overflow": null,
            "overflow_x": null,
            "overflow_y": null,
            "padding": null,
            "right": null,
            "top": null,
            "visibility": null,
            "width": null
          }
        },
        "93a24a7c0ff14f20a1dd71f358eeb345": {
          "model_module": "@jupyter-widgets/base",
          "model_name": "LayoutModel",
          "model_module_version": "1.2.0",
          "state": {
            "_model_module": "@jupyter-widgets/base",
            "_model_module_version": "1.2.0",
            "_model_name": "LayoutModel",
            "_view_count": null,
            "_view_module": "@jupyter-widgets/base",
            "_view_module_version": "1.2.0",
            "_view_name": "LayoutView",
            "align_content": null,
            "align_items": null,
            "align_self": null,
            "border": null,
            "bottom": null,
            "display": null,
            "flex": null,
            "flex_flow": null,
            "grid_area": null,
            "grid_auto_columns": null,
            "grid_auto_flow": null,
            "grid_auto_rows": null,
            "grid_column": null,
            "grid_gap": null,
            "grid_row": null,
            "grid_template_areas": null,
            "grid_template_columns": null,
            "grid_template_rows": null,
            "height": null,
            "justify_content": null,
            "justify_items": null,
            "left": null,
            "margin": null,
            "max_height": null,
            "max_width": null,
            "min_height": null,
            "min_width": null,
            "object_fit": null,
            "object_position": null,
            "order": null,
            "overflow": null,
            "overflow_x": null,
            "overflow_y": null,
            "padding": null,
            "right": null,
            "top": null,
            "visibility": null,
            "width": null
          }
        },
        "cadb0d55ea8c447991694b326e778649": {
          "model_module": "@jupyter-widgets/controls",
          "model_name": "DescriptionStyleModel",
          "model_module_version": "1.5.0",
          "state": {
            "_model_module": "@jupyter-widgets/controls",
            "_model_module_version": "1.5.0",
            "_model_name": "DescriptionStyleModel",
            "_view_count": null,
            "_view_module": "@jupyter-widgets/base",
            "_view_module_version": "1.2.0",
            "_view_name": "StyleView",
            "description_width": ""
          }
        },
        "d9e522b2a8914e2cad444cb811300515": {
          "model_module": "@jupyter-widgets/base",
          "model_name": "LayoutModel",
          "model_module_version": "1.2.0",
          "state": {
            "_model_module": "@jupyter-widgets/base",
            "_model_module_version": "1.2.0",
            "_model_name": "LayoutModel",
            "_view_count": null,
            "_view_module": "@jupyter-widgets/base",
            "_view_module_version": "1.2.0",
            "_view_name": "LayoutView",
            "align_content": null,
            "align_items": null,
            "align_self": null,
            "border": null,
            "bottom": null,
            "display": null,
            "flex": null,
            "flex_flow": null,
            "grid_area": null,
            "grid_auto_columns": null,
            "grid_auto_flow": null,
            "grid_auto_rows": null,
            "grid_column": null,
            "grid_gap": null,
            "grid_row": null,
            "grid_template_areas": null,
            "grid_template_columns": null,
            "grid_template_rows": null,
            "height": null,
            "justify_content": null,
            "justify_items": null,
            "left": null,
            "margin": null,
            "max_height": null,
            "max_width": null,
            "min_height": null,
            "min_width": null,
            "object_fit": null,
            "object_position": null,
            "order": null,
            "overflow": null,
            "overflow_x": null,
            "overflow_y": null,
            "padding": null,
            "right": null,
            "top": null,
            "visibility": null,
            "width": null
          }
        },
        "863dceeab2a24a849ee56be910f5c4ec": {
          "model_module": "@jupyter-widgets/controls",
          "model_name": "ProgressStyleModel",
          "model_module_version": "1.5.0",
          "state": {
            "_model_module": "@jupyter-widgets/controls",
            "_model_module_version": "1.5.0",
            "_model_name": "ProgressStyleModel",
            "_view_count": null,
            "_view_module": "@jupyter-widgets/base",
            "_view_module_version": "1.2.0",
            "_view_name": "StyleView",
            "bar_color": null,
            "description_width": ""
          }
        },
        "4c919a5b0ff0488887cec64a02b8ee72": {
          "model_module": "@jupyter-widgets/base",
          "model_name": "LayoutModel",
          "model_module_version": "1.2.0",
          "state": {
            "_model_module": "@jupyter-widgets/base",
            "_model_module_version": "1.2.0",
            "_model_name": "LayoutModel",
            "_view_count": null,
            "_view_module": "@jupyter-widgets/base",
            "_view_module_version": "1.2.0",
            "_view_name": "LayoutView",
            "align_content": null,
            "align_items": null,
            "align_self": null,
            "border": null,
            "bottom": null,
            "display": null,
            "flex": null,
            "flex_flow": null,
            "grid_area": null,
            "grid_auto_columns": null,
            "grid_auto_flow": null,
            "grid_auto_rows": null,
            "grid_column": null,
            "grid_gap": null,
            "grid_row": null,
            "grid_template_areas": null,
            "grid_template_columns": null,
            "grid_template_rows": null,
            "height": null,
            "justify_content": null,
            "justify_items": null,
            "left": null,
            "margin": null,
            "max_height": null,
            "max_width": null,
            "min_height": null,
            "min_width": null,
            "object_fit": null,
            "object_position": null,
            "order": null,
            "overflow": null,
            "overflow_x": null,
            "overflow_y": null,
            "padding": null,
            "right": null,
            "top": null,
            "visibility": null,
            "width": null
          }
        },
        "db1afef686b5411a90fc96062aefa9ef": {
          "model_module": "@jupyter-widgets/controls",
          "model_name": "DescriptionStyleModel",
          "model_module_version": "1.5.0",
          "state": {
            "_model_module": "@jupyter-widgets/controls",
            "_model_module_version": "1.5.0",
            "_model_name": "DescriptionStyleModel",
            "_view_count": null,
            "_view_module": "@jupyter-widgets/base",
            "_view_module_version": "1.2.0",
            "_view_name": "StyleView",
            "description_width": ""
          }
        },
        "2f8ef5e8917446ce9babbbb3b9beab6c": {
          "model_module": "@jupyter-widgets/controls",
          "model_name": "HBoxModel",
          "model_module_version": "1.5.0",
          "state": {
            "_dom_classes": [],
            "_model_module": "@jupyter-widgets/controls",
            "_model_module_version": "1.5.0",
            "_model_name": "HBoxModel",
            "_view_count": null,
            "_view_module": "@jupyter-widgets/controls",
            "_view_module_version": "1.5.0",
            "_view_name": "HBoxView",
            "box_style": "",
            "children": [
              "IPY_MODEL_311a9bdee71846c98b0a1947243a12d5",
              "IPY_MODEL_720b2b400f1641b0b4c3d34554cf7a74",
              "IPY_MODEL_5f3ef13499274ee69755b9bf316d27f7"
            ],
            "layout": "IPY_MODEL_cf04d764dc5a45d095c42da92a2b3bac"
          }
        },
        "311a9bdee71846c98b0a1947243a12d5": {
          "model_module": "@jupyter-widgets/controls",
          "model_name": "HTMLModel",
          "model_module_version": "1.5.0",
          "state": {
            "_dom_classes": [],
            "_model_module": "@jupyter-widgets/controls",
            "_model_module_version": "1.5.0",
            "_model_name": "HTMLModel",
            "_view_count": null,
            "_view_module": "@jupyter-widgets/controls",
            "_view_module_version": "1.5.0",
            "_view_name": "HTMLView",
            "description": "",
            "description_tooltip": null,
            "layout": "IPY_MODEL_1c1143bcf67143be88bd1ba23e157193",
            "placeholder": "​",
            "style": "IPY_MODEL_be4557d787f64974a931b5670d078ec5",
            "value": "generation_config.json: 100%"
          }
        },
        "720b2b400f1641b0b4c3d34554cf7a74": {
          "model_module": "@jupyter-widgets/controls",
          "model_name": "FloatProgressModel",
          "model_module_version": "1.5.0",
          "state": {
            "_dom_classes": [],
            "_model_module": "@jupyter-widgets/controls",
            "_model_module_version": "1.5.0",
            "_model_name": "FloatProgressModel",
            "_view_count": null,
            "_view_module": "@jupyter-widgets/controls",
            "_view_module_version": "1.5.0",
            "_view_name": "ProgressView",
            "bar_style": "success",
            "description": "",
            "description_tooltip": null,
            "layout": "IPY_MODEL_138bbf855320476899aec64b2cd38936",
            "max": 206,
            "min": 0,
            "orientation": "horizontal",
            "style": "IPY_MODEL_d949dfd42a54497f8d623140289417ae",
            "value": 206
          }
        },
        "5f3ef13499274ee69755b9bf316d27f7": {
          "model_module": "@jupyter-widgets/controls",
          "model_name": "HTMLModel",
          "model_module_version": "1.5.0",
          "state": {
            "_dom_classes": [],
            "_model_module": "@jupyter-widgets/controls",
            "_model_module_version": "1.5.0",
            "_model_name": "HTMLModel",
            "_view_count": null,
            "_view_module": "@jupyter-widgets/controls",
            "_view_module_version": "1.5.0",
            "_view_name": "HTMLView",
            "description": "",
            "description_tooltip": null,
            "layout": "IPY_MODEL_e6b2ccc15f5d4b738d47b8376c56f8d4",
            "placeholder": "​",
            "style": "IPY_MODEL_7ee11c144b154917ad3260f2392786f2",
            "value": " 206/206 [00:00&lt;00:00, 9.36kB/s]"
          }
        },
        "cf04d764dc5a45d095c42da92a2b3bac": {
          "model_module": "@jupyter-widgets/base",
          "model_name": "LayoutModel",
          "model_module_version": "1.2.0",
          "state": {
            "_model_module": "@jupyter-widgets/base",
            "_model_module_version": "1.2.0",
            "_model_name": "LayoutModel",
            "_view_count": null,
            "_view_module": "@jupyter-widgets/base",
            "_view_module_version": "1.2.0",
            "_view_name": "LayoutView",
            "align_content": null,
            "align_items": null,
            "align_self": null,
            "border": null,
            "bottom": null,
            "display": null,
            "flex": null,
            "flex_flow": null,
            "grid_area": null,
            "grid_auto_columns": null,
            "grid_auto_flow": null,
            "grid_auto_rows": null,
            "grid_column": null,
            "grid_gap": null,
            "grid_row": null,
            "grid_template_areas": null,
            "grid_template_columns": null,
            "grid_template_rows": null,
            "height": null,
            "justify_content": null,
            "justify_items": null,
            "left": null,
            "margin": null,
            "max_height": null,
            "max_width": null,
            "min_height": null,
            "min_width": null,
            "object_fit": null,
            "object_position": null,
            "order": null,
            "overflow": null,
            "overflow_x": null,
            "overflow_y": null,
            "padding": null,
            "right": null,
            "top": null,
            "visibility": null,
            "width": null
          }
        },
        "1c1143bcf67143be88bd1ba23e157193": {
          "model_module": "@jupyter-widgets/base",
          "model_name": "LayoutModel",
          "model_module_version": "1.2.0",
          "state": {
            "_model_module": "@jupyter-widgets/base",
            "_model_module_version": "1.2.0",
            "_model_name": "LayoutModel",
            "_view_count": null,
            "_view_module": "@jupyter-widgets/base",
            "_view_module_version": "1.2.0",
            "_view_name": "LayoutView",
            "align_content": null,
            "align_items": null,
            "align_self": null,
            "border": null,
            "bottom": null,
            "display": null,
            "flex": null,
            "flex_flow": null,
            "grid_area": null,
            "grid_auto_columns": null,
            "grid_auto_flow": null,
            "grid_auto_rows": null,
            "grid_column": null,
            "grid_gap": null,
            "grid_row": null,
            "grid_template_areas": null,
            "grid_template_columns": null,
            "grid_template_rows": null,
            "height": null,
            "justify_content": null,
            "justify_items": null,
            "left": null,
            "margin": null,
            "max_height": null,
            "max_width": null,
            "min_height": null,
            "min_width": null,
            "object_fit": null,
            "object_position": null,
            "order": null,
            "overflow": null,
            "overflow_x": null,
            "overflow_y": null,
            "padding": null,
            "right": null,
            "top": null,
            "visibility": null,
            "width": null
          }
        },
        "be4557d787f64974a931b5670d078ec5": {
          "model_module": "@jupyter-widgets/controls",
          "model_name": "DescriptionStyleModel",
          "model_module_version": "1.5.0",
          "state": {
            "_model_module": "@jupyter-widgets/controls",
            "_model_module_version": "1.5.0",
            "_model_name": "DescriptionStyleModel",
            "_view_count": null,
            "_view_module": "@jupyter-widgets/base",
            "_view_module_version": "1.2.0",
            "_view_name": "StyleView",
            "description_width": ""
          }
        },
        "138bbf855320476899aec64b2cd38936": {
          "model_module": "@jupyter-widgets/base",
          "model_name": "LayoutModel",
          "model_module_version": "1.2.0",
          "state": {
            "_model_module": "@jupyter-widgets/base",
            "_model_module_version": "1.2.0",
            "_model_name": "LayoutModel",
            "_view_count": null,
            "_view_module": "@jupyter-widgets/base",
            "_view_module_version": "1.2.0",
            "_view_name": "LayoutView",
            "align_content": null,
            "align_items": null,
            "align_self": null,
            "border": null,
            "bottom": null,
            "display": null,
            "flex": null,
            "flex_flow": null,
            "grid_area": null,
            "grid_auto_columns": null,
            "grid_auto_flow": null,
            "grid_auto_rows": null,
            "grid_column": null,
            "grid_gap": null,
            "grid_row": null,
            "grid_template_areas": null,
            "grid_template_columns": null,
            "grid_template_rows": null,
            "height": null,
            "justify_content": null,
            "justify_items": null,
            "left": null,
            "margin": null,
            "max_height": null,
            "max_width": null,
            "min_height": null,
            "min_width": null,
            "object_fit": null,
            "object_position": null,
            "order": null,
            "overflow": null,
            "overflow_x": null,
            "overflow_y": null,
            "padding": null,
            "right": null,
            "top": null,
            "visibility": null,
            "width": null
          }
        },
        "d949dfd42a54497f8d623140289417ae": {
          "model_module": "@jupyter-widgets/controls",
          "model_name": "ProgressStyleModel",
          "model_module_version": "1.5.0",
          "state": {
            "_model_module": "@jupyter-widgets/controls",
            "_model_module_version": "1.5.0",
            "_model_name": "ProgressStyleModel",
            "_view_count": null,
            "_view_module": "@jupyter-widgets/base",
            "_view_module_version": "1.2.0",
            "_view_name": "StyleView",
            "bar_color": null,
            "description_width": ""
          }
        },
        "e6b2ccc15f5d4b738d47b8376c56f8d4": {
          "model_module": "@jupyter-widgets/base",
          "model_name": "LayoutModel",
          "model_module_version": "1.2.0",
          "state": {
            "_model_module": "@jupyter-widgets/base",
            "_model_module_version": "1.2.0",
            "_model_name": "LayoutModel",
            "_view_count": null,
            "_view_module": "@jupyter-widgets/base",
            "_view_module_version": "1.2.0",
            "_view_name": "LayoutView",
            "align_content": null,
            "align_items": null,
            "align_self": null,
            "border": null,
            "bottom": null,
            "display": null,
            "flex": null,
            "flex_flow": null,
            "grid_area": null,
            "grid_auto_columns": null,
            "grid_auto_flow": null,
            "grid_auto_rows": null,
            "grid_column": null,
            "grid_gap": null,
            "grid_row": null,
            "grid_template_areas": null,
            "grid_template_columns": null,
            "grid_template_rows": null,
            "height": null,
            "justify_content": null,
            "justify_items": null,
            "left": null,
            "margin": null,
            "max_height": null,
            "max_width": null,
            "min_height": null,
            "min_width": null,
            "object_fit": null,
            "object_position": null,
            "order": null,
            "overflow": null,
            "overflow_x": null,
            "overflow_y": null,
            "padding": null,
            "right": null,
            "top": null,
            "visibility": null,
            "width": null
          }
        },
        "7ee11c144b154917ad3260f2392786f2": {
          "model_module": "@jupyter-widgets/controls",
          "model_name": "DescriptionStyleModel",
          "model_module_version": "1.5.0",
          "state": {
            "_model_module": "@jupyter-widgets/controls",
            "_model_module_version": "1.5.0",
            "_model_name": "DescriptionStyleModel",
            "_view_count": null,
            "_view_module": "@jupyter-widgets/base",
            "_view_module_version": "1.2.0",
            "_view_name": "StyleView",
            "description_width": ""
          }
        },
        "9a1476f3fa95441abfbec23c52c3622b": {
          "model_module": "@jupyter-widgets/controls",
          "model_name": "HBoxModel",
          "model_module_version": "1.5.0",
          "state": {
            "_dom_classes": [],
            "_model_module": "@jupyter-widgets/controls",
            "_model_module_version": "1.5.0",
            "_model_name": "HBoxModel",
            "_view_count": null,
            "_view_module": "@jupyter-widgets/controls",
            "_view_module_version": "1.5.0",
            "_view_name": "HBoxView",
            "box_style": "",
            "children": [
              "IPY_MODEL_0b96f99276af47cf9602de28f7114713",
              "IPY_MODEL_ea3d0f9c408e4fe9baa75c7b36536aaf",
              "IPY_MODEL_ef5828d07c294491b746de518fb8b5bb"
            ],
            "layout": "IPY_MODEL_6f5b03419edc4f0dad959236fd411c53"
          }
        },
        "0b96f99276af47cf9602de28f7114713": {
          "model_module": "@jupyter-widgets/controls",
          "model_name": "HTMLModel",
          "model_module_version": "1.5.0",
          "state": {
            "_dom_classes": [],
            "_model_module": "@jupyter-widgets/controls",
            "_model_module_version": "1.5.0",
            "_model_name": "HTMLModel",
            "_view_count": null,
            "_view_module": "@jupyter-widgets/controls",
            "_view_module_version": "1.5.0",
            "_view_name": "HTMLView",
            "description": "",
            "description_tooltip": null,
            "layout": "IPY_MODEL_1b59a2278168486ca7c67a9194892c2a",
            "placeholder": "​",
            "style": "IPY_MODEL_92dfa6885ea74eea86ecdc5576a0c49a",
            "value": "tokenizer_config.json: 100%"
          }
        },
        "ea3d0f9c408e4fe9baa75c7b36536aaf": {
          "model_module": "@jupyter-widgets/controls",
          "model_name": "FloatProgressModel",
          "model_module_version": "1.5.0",
          "state": {
            "_dom_classes": [],
            "_model_module": "@jupyter-widgets/controls",
            "_model_module_version": "1.5.0",
            "_model_name": "FloatProgressModel",
            "_view_count": null,
            "_view_module": "@jupyter-widgets/controls",
            "_view_module_version": "1.5.0",
            "_view_name": "ProgressView",
            "bar_style": "success",
            "description": "",
            "description_tooltip": null,
            "layout": "IPY_MODEL_187b458925074e60ab399da008c0984d",
            "max": 1289,
            "min": 0,
            "orientation": "horizontal",
            "style": "IPY_MODEL_30bb71507fc345d5b606871451cba4dc",
            "value": 1289
          }
        },
        "ef5828d07c294491b746de518fb8b5bb": {
          "model_module": "@jupyter-widgets/controls",
          "model_name": "HTMLModel",
          "model_module_version": "1.5.0",
          "state": {
            "_dom_classes": [],
            "_model_module": "@jupyter-widgets/controls",
            "_model_module_version": "1.5.0",
            "_model_name": "HTMLModel",
            "_view_count": null,
            "_view_module": "@jupyter-widgets/controls",
            "_view_module_version": "1.5.0",
            "_view_name": "HTMLView",
            "description": "",
            "description_tooltip": null,
            "layout": "IPY_MODEL_f6bd526face94eb5a26f658b26d4735f",
            "placeholder": "​",
            "style": "IPY_MODEL_4204f316a14a40a8b716c7fec188dad2",
            "value": " 1.29k/1.29k [00:00&lt;00:00, 47.3kB/s]"
          }
        },
        "6f5b03419edc4f0dad959236fd411c53": {
          "model_module": "@jupyter-widgets/base",
          "model_name": "LayoutModel",
          "model_module_version": "1.2.0",
          "state": {
            "_model_module": "@jupyter-widgets/base",
            "_model_module_version": "1.2.0",
            "_model_name": "LayoutModel",
            "_view_count": null,
            "_view_module": "@jupyter-widgets/base",
            "_view_module_version": "1.2.0",
            "_view_name": "LayoutView",
            "align_content": null,
            "align_items": null,
            "align_self": null,
            "border": null,
            "bottom": null,
            "display": null,
            "flex": null,
            "flex_flow": null,
            "grid_area": null,
            "grid_auto_columns": null,
            "grid_auto_flow": null,
            "grid_auto_rows": null,
            "grid_column": null,
            "grid_gap": null,
            "grid_row": null,
            "grid_template_areas": null,
            "grid_template_columns": null,
            "grid_template_rows": null,
            "height": null,
            "justify_content": null,
            "justify_items": null,
            "left": null,
            "margin": null,
            "max_height": null,
            "max_width": null,
            "min_height": null,
            "min_width": null,
            "object_fit": null,
            "object_position": null,
            "order": null,
            "overflow": null,
            "overflow_x": null,
            "overflow_y": null,
            "padding": null,
            "right": null,
            "top": null,
            "visibility": null,
            "width": null
          }
        },
        "1b59a2278168486ca7c67a9194892c2a": {
          "model_module": "@jupyter-widgets/base",
          "model_name": "LayoutModel",
          "model_module_version": "1.2.0",
          "state": {
            "_model_module": "@jupyter-widgets/base",
            "_model_module_version": "1.2.0",
            "_model_name": "LayoutModel",
            "_view_count": null,
            "_view_module": "@jupyter-widgets/base",
            "_view_module_version": "1.2.0",
            "_view_name": "LayoutView",
            "align_content": null,
            "align_items": null,
            "align_self": null,
            "border": null,
            "bottom": null,
            "display": null,
            "flex": null,
            "flex_flow": null,
            "grid_area": null,
            "grid_auto_columns": null,
            "grid_auto_flow": null,
            "grid_auto_rows": null,
            "grid_column": null,
            "grid_gap": null,
            "grid_row": null,
            "grid_template_areas": null,
            "grid_template_columns": null,
            "grid_template_rows": null,
            "height": null,
            "justify_content": null,
            "justify_items": null,
            "left": null,
            "margin": null,
            "max_height": null,
            "max_width": null,
            "min_height": null,
            "min_width": null,
            "object_fit": null,
            "object_position": null,
            "order": null,
            "overflow": null,
            "overflow_x": null,
            "overflow_y": null,
            "padding": null,
            "right": null,
            "top": null,
            "visibility": null,
            "width": null
          }
        },
        "92dfa6885ea74eea86ecdc5576a0c49a": {
          "model_module": "@jupyter-widgets/controls",
          "model_name": "DescriptionStyleModel",
          "model_module_version": "1.5.0",
          "state": {
            "_model_module": "@jupyter-widgets/controls",
            "_model_module_version": "1.5.0",
            "_model_name": "DescriptionStyleModel",
            "_view_count": null,
            "_view_module": "@jupyter-widgets/base",
            "_view_module_version": "1.2.0",
            "_view_name": "StyleView",
            "description_width": ""
          }
        },
        "187b458925074e60ab399da008c0984d": {
          "model_module": "@jupyter-widgets/base",
          "model_name": "LayoutModel",
          "model_module_version": "1.2.0",
          "state": {
            "_model_module": "@jupyter-widgets/base",
            "_model_module_version": "1.2.0",
            "_model_name": "LayoutModel",
            "_view_count": null,
            "_view_module": "@jupyter-widgets/base",
            "_view_module_version": "1.2.0",
            "_view_name": "LayoutView",
            "align_content": null,
            "align_items": null,
            "align_self": null,
            "border": null,
            "bottom": null,
            "display": null,
            "flex": null,
            "flex_flow": null,
            "grid_area": null,
            "grid_auto_columns": null,
            "grid_auto_flow": null,
            "grid_auto_rows": null,
            "grid_column": null,
            "grid_gap": null,
            "grid_row": null,
            "grid_template_areas": null,
            "grid_template_columns": null,
            "grid_template_rows": null,
            "height": null,
            "justify_content": null,
            "justify_items": null,
            "left": null,
            "margin": null,
            "max_height": null,
            "max_width": null,
            "min_height": null,
            "min_width": null,
            "object_fit": null,
            "object_position": null,
            "order": null,
            "overflow": null,
            "overflow_x": null,
            "overflow_y": null,
            "padding": null,
            "right": null,
            "top": null,
            "visibility": null,
            "width": null
          }
        },
        "30bb71507fc345d5b606871451cba4dc": {
          "model_module": "@jupyter-widgets/controls",
          "model_name": "ProgressStyleModel",
          "model_module_version": "1.5.0",
          "state": {
            "_model_module": "@jupyter-widgets/controls",
            "_model_module_version": "1.5.0",
            "_model_name": "ProgressStyleModel",
            "_view_count": null,
            "_view_module": "@jupyter-widgets/base",
            "_view_module_version": "1.2.0",
            "_view_name": "StyleView",
            "bar_color": null,
            "description_width": ""
          }
        },
        "f6bd526face94eb5a26f658b26d4735f": {
          "model_module": "@jupyter-widgets/base",
          "model_name": "LayoutModel",
          "model_module_version": "1.2.0",
          "state": {
            "_model_module": "@jupyter-widgets/base",
            "_model_module_version": "1.2.0",
            "_model_name": "LayoutModel",
            "_view_count": null,
            "_view_module": "@jupyter-widgets/base",
            "_view_module_version": "1.2.0",
            "_view_name": "LayoutView",
            "align_content": null,
            "align_items": null,
            "align_self": null,
            "border": null,
            "bottom": null,
            "display": null,
            "flex": null,
            "flex_flow": null,
            "grid_area": null,
            "grid_auto_columns": null,
            "grid_auto_flow": null,
            "grid_auto_rows": null,
            "grid_column": null,
            "grid_gap": null,
            "grid_row": null,
            "grid_template_areas": null,
            "grid_template_columns": null,
            "grid_template_rows": null,
            "height": null,
            "justify_content": null,
            "justify_items": null,
            "left": null,
            "margin": null,
            "max_height": null,
            "max_width": null,
            "min_height": null,
            "min_width": null,
            "object_fit": null,
            "object_position": null,
            "order": null,
            "overflow": null,
            "overflow_x": null,
            "overflow_y": null,
            "padding": null,
            "right": null,
            "top": null,
            "visibility": null,
            "width": null
          }
        },
        "4204f316a14a40a8b716c7fec188dad2": {
          "model_module": "@jupyter-widgets/controls",
          "model_name": "DescriptionStyleModel",
          "model_module_version": "1.5.0",
          "state": {
            "_model_module": "@jupyter-widgets/controls",
            "_model_module_version": "1.5.0",
            "_model_name": "DescriptionStyleModel",
            "_view_count": null,
            "_view_module": "@jupyter-widgets/base",
            "_view_module_version": "1.2.0",
            "_view_name": "StyleView",
            "description_width": ""
          }
        },
        "7d6216e64b5a4a82ab465c33f5f8ec42": {
          "model_module": "@jupyter-widgets/controls",
          "model_name": "HBoxModel",
          "model_module_version": "1.5.0",
          "state": {
            "_dom_classes": [],
            "_model_module": "@jupyter-widgets/controls",
            "_model_module_version": "1.5.0",
            "_model_name": "HBoxModel",
            "_view_count": null,
            "_view_module": "@jupyter-widgets/controls",
            "_view_module_version": "1.5.0",
            "_view_name": "HBoxView",
            "box_style": "",
            "children": [
              "IPY_MODEL_8581b53791094d899f7571facc74b417",
              "IPY_MODEL_086c4fe529e04213ba46c176dd47afb3",
              "IPY_MODEL_a48bed46fe53429c9e1fda2da3a7bebd"
            ],
            "layout": "IPY_MODEL_ee2f547ba72346459b388d685f791595"
          }
        },
        "8581b53791094d899f7571facc74b417": {
          "model_module": "@jupyter-widgets/controls",
          "model_name": "HTMLModel",
          "model_module_version": "1.5.0",
          "state": {
            "_dom_classes": [],
            "_model_module": "@jupyter-widgets/controls",
            "_model_module_version": "1.5.0",
            "_model_name": "HTMLModel",
            "_view_count": null,
            "_view_module": "@jupyter-widgets/controls",
            "_view_module_version": "1.5.0",
            "_view_name": "HTMLView",
            "description": "",
            "description_tooltip": null,
            "layout": "IPY_MODEL_c3c692a074d74c42a880807f510e95ca",
            "placeholder": "​",
            "style": "IPY_MODEL_7abde4de0c3b43dfbb78385d428c8388",
            "value": "vocab.json: 100%"
          }
        },
        "086c4fe529e04213ba46c176dd47afb3": {
          "model_module": "@jupyter-widgets/controls",
          "model_name": "FloatProgressModel",
          "model_module_version": "1.5.0",
          "state": {
            "_dom_classes": [],
            "_model_module": "@jupyter-widgets/controls",
            "_model_module_version": "1.5.0",
            "_model_name": "FloatProgressModel",
            "_view_count": null,
            "_view_module": "@jupyter-widgets/controls",
            "_view_module_version": "1.5.0",
            "_view_name": "ProgressView",
            "bar_style": "success",
            "description": "",
            "description_tooltip": null,
            "layout": "IPY_MODEL_8a8f82075f584b9e892fc53eedb2c1ba",
            "max": 2776833,
            "min": 0,
            "orientation": "horizontal",
            "style": "IPY_MODEL_3b67621c342741c699e9dbd3b0e50272",
            "value": 2776833
          }
        },
        "a48bed46fe53429c9e1fda2da3a7bebd": {
          "model_module": "@jupyter-widgets/controls",
          "model_name": "HTMLModel",
          "model_module_version": "1.5.0",
          "state": {
            "_dom_classes": [],
            "_model_module": "@jupyter-widgets/controls",
            "_model_module_version": "1.5.0",
            "_model_name": "HTMLModel",
            "_view_count": null,
            "_view_module": "@jupyter-widgets/controls",
            "_view_module_version": "1.5.0",
            "_view_name": "HTMLView",
            "description": "",
            "description_tooltip": null,
            "layout": "IPY_MODEL_020930609fca473286cf0919fb3a10e9",
            "placeholder": "​",
            "style": "IPY_MODEL_3232bee4c7334dd1928d193b16d689d1",
            "value": " 2.78M/2.78M [00:00&lt;00:00, 8.37MB/s]"
          }
        },
        "ee2f547ba72346459b388d685f791595": {
          "model_module": "@jupyter-widgets/base",
          "model_name": "LayoutModel",
          "model_module_version": "1.2.0",
          "state": {
            "_model_module": "@jupyter-widgets/base",
            "_model_module_version": "1.2.0",
            "_model_name": "LayoutModel",
            "_view_count": null,
            "_view_module": "@jupyter-widgets/base",
            "_view_module_version": "1.2.0",
            "_view_name": "LayoutView",
            "align_content": null,
            "align_items": null,
            "align_self": null,
            "border": null,
            "bottom": null,
            "display": null,
            "flex": null,
            "flex_flow": null,
            "grid_area": null,
            "grid_auto_columns": null,
            "grid_auto_flow": null,
            "grid_auto_rows": null,
            "grid_column": null,
            "grid_gap": null,
            "grid_row": null,
            "grid_template_areas": null,
            "grid_template_columns": null,
            "grid_template_rows": null,
            "height": null,
            "justify_content": null,
            "justify_items": null,
            "left": null,
            "margin": null,
            "max_height": null,
            "max_width": null,
            "min_height": null,
            "min_width": null,
            "object_fit": null,
            "object_position": null,
            "order": null,
            "overflow": null,
            "overflow_x": null,
            "overflow_y": null,
            "padding": null,
            "right": null,
            "top": null,
            "visibility": null,
            "width": null
          }
        },
        "c3c692a074d74c42a880807f510e95ca": {
          "model_module": "@jupyter-widgets/base",
          "model_name": "LayoutModel",
          "model_module_version": "1.2.0",
          "state": {
            "_model_module": "@jupyter-widgets/base",
            "_model_module_version": "1.2.0",
            "_model_name": "LayoutModel",
            "_view_count": null,
            "_view_module": "@jupyter-widgets/base",
            "_view_module_version": "1.2.0",
            "_view_name": "LayoutView",
            "align_content": null,
            "align_items": null,
            "align_self": null,
            "border": null,
            "bottom": null,
            "display": null,
            "flex": null,
            "flex_flow": null,
            "grid_area": null,
            "grid_auto_columns": null,
            "grid_auto_flow": null,
            "grid_auto_rows": null,
            "grid_column": null,
            "grid_gap": null,
            "grid_row": null,
            "grid_template_areas": null,
            "grid_template_columns": null,
            "grid_template_rows": null,
            "height": null,
            "justify_content": null,
            "justify_items": null,
            "left": null,
            "margin": null,
            "max_height": null,
            "max_width": null,
            "min_height": null,
            "min_width": null,
            "object_fit": null,
            "object_position": null,
            "order": null,
            "overflow": null,
            "overflow_x": null,
            "overflow_y": null,
            "padding": null,
            "right": null,
            "top": null,
            "visibility": null,
            "width": null
          }
        },
        "7abde4de0c3b43dfbb78385d428c8388": {
          "model_module": "@jupyter-widgets/controls",
          "model_name": "DescriptionStyleModel",
          "model_module_version": "1.5.0",
          "state": {
            "_model_module": "@jupyter-widgets/controls",
            "_model_module_version": "1.5.0",
            "_model_name": "DescriptionStyleModel",
            "_view_count": null,
            "_view_module": "@jupyter-widgets/base",
            "_view_module_version": "1.2.0",
            "_view_name": "StyleView",
            "description_width": ""
          }
        },
        "8a8f82075f584b9e892fc53eedb2c1ba": {
          "model_module": "@jupyter-widgets/base",
          "model_name": "LayoutModel",
          "model_module_version": "1.2.0",
          "state": {
            "_model_module": "@jupyter-widgets/base",
            "_model_module_version": "1.2.0",
            "_model_name": "LayoutModel",
            "_view_count": null,
            "_view_module": "@jupyter-widgets/base",
            "_view_module_version": "1.2.0",
            "_view_name": "LayoutView",
            "align_content": null,
            "align_items": null,
            "align_self": null,
            "border": null,
            "bottom": null,
            "display": null,
            "flex": null,
            "flex_flow": null,
            "grid_area": null,
            "grid_auto_columns": null,
            "grid_auto_flow": null,
            "grid_auto_rows": null,
            "grid_column": null,
            "grid_gap": null,
            "grid_row": null,
            "grid_template_areas": null,
            "grid_template_columns": null,
            "grid_template_rows": null,
            "height": null,
            "justify_content": null,
            "justify_items": null,
            "left": null,
            "margin": null,
            "max_height": null,
            "max_width": null,
            "min_height": null,
            "min_width": null,
            "object_fit": null,
            "object_position": null,
            "order": null,
            "overflow": null,
            "overflow_x": null,
            "overflow_y": null,
            "padding": null,
            "right": null,
            "top": null,
            "visibility": null,
            "width": null
          }
        },
        "3b67621c342741c699e9dbd3b0e50272": {
          "model_module": "@jupyter-widgets/controls",
          "model_name": "ProgressStyleModel",
          "model_module_version": "1.5.0",
          "state": {
            "_model_module": "@jupyter-widgets/controls",
            "_model_module_version": "1.5.0",
            "_model_name": "ProgressStyleModel",
            "_view_count": null,
            "_view_module": "@jupyter-widgets/base",
            "_view_module_version": "1.2.0",
            "_view_name": "StyleView",
            "bar_color": null,
            "description_width": ""
          }
        },
        "020930609fca473286cf0919fb3a10e9": {
          "model_module": "@jupyter-widgets/base",
          "model_name": "LayoutModel",
          "model_module_version": "1.2.0",
          "state": {
            "_model_module": "@jupyter-widgets/base",
            "_model_module_version": "1.2.0",
            "_model_name": "LayoutModel",
            "_view_count": null,
            "_view_module": "@jupyter-widgets/base",
            "_view_module_version": "1.2.0",
            "_view_name": "LayoutView",
            "align_content": null,
            "align_items": null,
            "align_self": null,
            "border": null,
            "bottom": null,
            "display": null,
            "flex": null,
            "flex_flow": null,
            "grid_area": null,
            "grid_auto_columns": null,
            "grid_auto_flow": null,
            "grid_auto_rows": null,
            "grid_column": null,
            "grid_gap": null,
            "grid_row": null,
            "grid_template_areas": null,
            "grid_template_columns": null,
            "grid_template_rows": null,
            "height": null,
            "justify_content": null,
            "justify_items": null,
            "left": null,
            "margin": null,
            "max_height": null,
            "max_width": null,
            "min_height": null,
            "min_width": null,
            "object_fit": null,
            "object_position": null,
            "order": null,
            "overflow": null,
            "overflow_x": null,
            "overflow_y": null,
            "padding": null,
            "right": null,
            "top": null,
            "visibility": null,
            "width": null
          }
        },
        "3232bee4c7334dd1928d193b16d689d1": {
          "model_module": "@jupyter-widgets/controls",
          "model_name": "DescriptionStyleModel",
          "model_module_version": "1.5.0",
          "state": {
            "_model_module": "@jupyter-widgets/controls",
            "_model_module_version": "1.5.0",
            "_model_name": "DescriptionStyleModel",
            "_view_count": null,
            "_view_module": "@jupyter-widgets/base",
            "_view_module_version": "1.2.0",
            "_view_name": "StyleView",
            "description_width": ""
          }
        },
        "90a05e0feb7a49f7b5683a2c7a2811d8": {
          "model_module": "@jupyter-widgets/controls",
          "model_name": "HBoxModel",
          "model_module_version": "1.5.0",
          "state": {
            "_dom_classes": [],
            "_model_module": "@jupyter-widgets/controls",
            "_model_module_version": "1.5.0",
            "_model_name": "HBoxModel",
            "_view_count": null,
            "_view_module": "@jupyter-widgets/controls",
            "_view_module_version": "1.5.0",
            "_view_name": "HBoxView",
            "box_style": "",
            "children": [
              "IPY_MODEL_d66b0be9714144bc8b6d5341816bac54",
              "IPY_MODEL_8c8c13472ac44ab2adf9e805f0521958",
              "IPY_MODEL_c591eadd42f54509b8eb7468bc97c92c"
            ],
            "layout": "IPY_MODEL_9b65134edf884c3085d813484d47837e"
          }
        },
        "d66b0be9714144bc8b6d5341816bac54": {
          "model_module": "@jupyter-widgets/controls",
          "model_name": "HTMLModel",
          "model_module_version": "1.5.0",
          "state": {
            "_dom_classes": [],
            "_model_module": "@jupyter-widgets/controls",
            "_model_module_version": "1.5.0",
            "_model_name": "HTMLModel",
            "_view_count": null,
            "_view_module": "@jupyter-widgets/controls",
            "_view_module_version": "1.5.0",
            "_view_name": "HTMLView",
            "description": "",
            "description_tooltip": null,
            "layout": "IPY_MODEL_541faea60e994ae8b2e71a1ec6101e2c",
            "placeholder": "​",
            "style": "IPY_MODEL_4dcef550fd214ea39e50f76528499505",
            "value": "merges.txt: 100%"
          }
        },
        "8c8c13472ac44ab2adf9e805f0521958": {
          "model_module": "@jupyter-widgets/controls",
          "model_name": "FloatProgressModel",
          "model_module_version": "1.5.0",
          "state": {
            "_dom_classes": [],
            "_model_module": "@jupyter-widgets/controls",
            "_model_module_version": "1.5.0",
            "_model_name": "FloatProgressModel",
            "_view_count": null,
            "_view_module": "@jupyter-widgets/controls",
            "_view_module_version": "1.5.0",
            "_view_name": "ProgressView",
            "bar_style": "success",
            "description": "",
            "description_tooltip": null,
            "layout": "IPY_MODEL_c91380090a9f4e9088782617745b15fc",
            "max": 1671839,
            "min": 0,
            "orientation": "horizontal",
            "style": "IPY_MODEL_ce071de0040e4c5299ff51baecce8653",
            "value": 1671839
          }
        },
        "c591eadd42f54509b8eb7468bc97c92c": {
          "model_module": "@jupyter-widgets/controls",
          "model_name": "HTMLModel",
          "model_module_version": "1.5.0",
          "state": {
            "_dom_classes": [],
            "_model_module": "@jupyter-widgets/controls",
            "_model_module_version": "1.5.0",
            "_model_name": "HTMLModel",
            "_view_count": null,
            "_view_module": "@jupyter-widgets/controls",
            "_view_module_version": "1.5.0",
            "_view_name": "HTMLView",
            "description": "",
            "description_tooltip": null,
            "layout": "IPY_MODEL_3e15a628690c4b7d85ab98aa491fb787",
            "placeholder": "​",
            "style": "IPY_MODEL_2bc8126d9b904abbb5108552a11790dd",
            "value": " 1.67M/1.67M [00:00&lt;00:00, 33.0MB/s]"
          }
        },
        "9b65134edf884c3085d813484d47837e": {
          "model_module": "@jupyter-widgets/base",
          "model_name": "LayoutModel",
          "model_module_version": "1.2.0",
          "state": {
            "_model_module": "@jupyter-widgets/base",
            "_model_module_version": "1.2.0",
            "_model_name": "LayoutModel",
            "_view_count": null,
            "_view_module": "@jupyter-widgets/base",
            "_view_module_version": "1.2.0",
            "_view_name": "LayoutView",
            "align_content": null,
            "align_items": null,
            "align_self": null,
            "border": null,
            "bottom": null,
            "display": null,
            "flex": null,
            "flex_flow": null,
            "grid_area": null,
            "grid_auto_columns": null,
            "grid_auto_flow": null,
            "grid_auto_rows": null,
            "grid_column": null,
            "grid_gap": null,
            "grid_row": null,
            "grid_template_areas": null,
            "grid_template_columns": null,
            "grid_template_rows": null,
            "height": null,
            "justify_content": null,
            "justify_items": null,
            "left": null,
            "margin": null,
            "max_height": null,
            "max_width": null,
            "min_height": null,
            "min_width": null,
            "object_fit": null,
            "object_position": null,
            "order": null,
            "overflow": null,
            "overflow_x": null,
            "overflow_y": null,
            "padding": null,
            "right": null,
            "top": null,
            "visibility": null,
            "width": null
          }
        },
        "541faea60e994ae8b2e71a1ec6101e2c": {
          "model_module": "@jupyter-widgets/base",
          "model_name": "LayoutModel",
          "model_module_version": "1.2.0",
          "state": {
            "_model_module": "@jupyter-widgets/base",
            "_model_module_version": "1.2.0",
            "_model_name": "LayoutModel",
            "_view_count": null,
            "_view_module": "@jupyter-widgets/base",
            "_view_module_version": "1.2.0",
            "_view_name": "LayoutView",
            "align_content": null,
            "align_items": null,
            "align_self": null,
            "border": null,
            "bottom": null,
            "display": null,
            "flex": null,
            "flex_flow": null,
            "grid_area": null,
            "grid_auto_columns": null,
            "grid_auto_flow": null,
            "grid_auto_rows": null,
            "grid_column": null,
            "grid_gap": null,
            "grid_row": null,
            "grid_template_areas": null,
            "grid_template_columns": null,
            "grid_template_rows": null,
            "height": null,
            "justify_content": null,
            "justify_items": null,
            "left": null,
            "margin": null,
            "max_height": null,
            "max_width": null,
            "min_height": null,
            "min_width": null,
            "object_fit": null,
            "object_position": null,
            "order": null,
            "overflow": null,
            "overflow_x": null,
            "overflow_y": null,
            "padding": null,
            "right": null,
            "top": null,
            "visibility": null,
            "width": null
          }
        },
        "4dcef550fd214ea39e50f76528499505": {
          "model_module": "@jupyter-widgets/controls",
          "model_name": "DescriptionStyleModel",
          "model_module_version": "1.5.0",
          "state": {
            "_model_module": "@jupyter-widgets/controls",
            "_model_module_version": "1.5.0",
            "_model_name": "DescriptionStyleModel",
            "_view_count": null,
            "_view_module": "@jupyter-widgets/base",
            "_view_module_version": "1.2.0",
            "_view_name": "StyleView",
            "description_width": ""
          }
        },
        "c91380090a9f4e9088782617745b15fc": {
          "model_module": "@jupyter-widgets/base",
          "model_name": "LayoutModel",
          "model_module_version": "1.2.0",
          "state": {
            "_model_module": "@jupyter-widgets/base",
            "_model_module_version": "1.2.0",
            "_model_name": "LayoutModel",
            "_view_count": null,
            "_view_module": "@jupyter-widgets/base",
            "_view_module_version": "1.2.0",
            "_view_name": "LayoutView",
            "align_content": null,
            "align_items": null,
            "align_self": null,
            "border": null,
            "bottom": null,
            "display": null,
            "flex": null,
            "flex_flow": null,
            "grid_area": null,
            "grid_auto_columns": null,
            "grid_auto_flow": null,
            "grid_auto_rows": null,
            "grid_column": null,
            "grid_gap": null,
            "grid_row": null,
            "grid_template_areas": null,
            "grid_template_columns": null,
            "grid_template_rows": null,
            "height": null,
            "justify_content": null,
            "justify_items": null,
            "left": null,
            "margin": null,
            "max_height": null,
            "max_width": null,
            "min_height": null,
            "min_width": null,
            "object_fit": null,
            "object_position": null,
            "order": null,
            "overflow": null,
            "overflow_x": null,
            "overflow_y": null,
            "padding": null,
            "right": null,
            "top": null,
            "visibility": null,
            "width": null
          }
        },
        "ce071de0040e4c5299ff51baecce8653": {
          "model_module": "@jupyter-widgets/controls",
          "model_name": "ProgressStyleModel",
          "model_module_version": "1.5.0",
          "state": {
            "_model_module": "@jupyter-widgets/controls",
            "_model_module_version": "1.5.0",
            "_model_name": "ProgressStyleModel",
            "_view_count": null,
            "_view_module": "@jupyter-widgets/base",
            "_view_module_version": "1.2.0",
            "_view_name": "StyleView",
            "bar_color": null,
            "description_width": ""
          }
        },
        "3e15a628690c4b7d85ab98aa491fb787": {
          "model_module": "@jupyter-widgets/base",
          "model_name": "LayoutModel",
          "model_module_version": "1.2.0",
          "state": {
            "_model_module": "@jupyter-widgets/base",
            "_model_module_version": "1.2.0",
            "_model_name": "LayoutModel",
            "_view_count": null,
            "_view_module": "@jupyter-widgets/base",
            "_view_module_version": "1.2.0",
            "_view_name": "LayoutView",
            "align_content": null,
            "align_items": null,
            "align_self": null,
            "border": null,
            "bottom": null,
            "display": null,
            "flex": null,
            "flex_flow": null,
            "grid_area": null,
            "grid_auto_columns": null,
            "grid_auto_flow": null,
            "grid_auto_rows": null,
            "grid_column": null,
            "grid_gap": null,
            "grid_row": null,
            "grid_template_areas": null,
            "grid_template_columns": null,
            "grid_template_rows": null,
            "height": null,
            "justify_content": null,
            "justify_items": null,
            "left": null,
            "margin": null,
            "max_height": null,
            "max_width": null,
            "min_height": null,
            "min_width": null,
            "object_fit": null,
            "object_position": null,
            "order": null,
            "overflow": null,
            "overflow_x": null,
            "overflow_y": null,
            "padding": null,
            "right": null,
            "top": null,
            "visibility": null,
            "width": null
          }
        },
        "2bc8126d9b904abbb5108552a11790dd": {
          "model_module": "@jupyter-widgets/controls",
          "model_name": "DescriptionStyleModel",
          "model_module_version": "1.5.0",
          "state": {
            "_model_module": "@jupyter-widgets/controls",
            "_model_module_version": "1.5.0",
            "_model_name": "DescriptionStyleModel",
            "_view_count": null,
            "_view_module": "@jupyter-widgets/base",
            "_view_module_version": "1.2.0",
            "_view_name": "StyleView",
            "description_width": ""
          }
        },
        "5238bb745cb347ee8c8b72361f2b5c36": {
          "model_module": "@jupyter-widgets/controls",
          "model_name": "HBoxModel",
          "model_module_version": "1.5.0",
          "state": {
            "_dom_classes": [],
            "_model_module": "@jupyter-widgets/controls",
            "_model_module_version": "1.5.0",
            "_model_name": "HBoxModel",
            "_view_count": null,
            "_view_module": "@jupyter-widgets/controls",
            "_view_module_version": "1.5.0",
            "_view_name": "HBoxView",
            "box_style": "",
            "children": [
              "IPY_MODEL_da4acb678a074e35bbabd263ee18838a",
              "IPY_MODEL_a51ea716920446b79447504053813690",
              "IPY_MODEL_0c1affcd326d4b2cbb8adf54bd8e75ee"
            ],
            "layout": "IPY_MODEL_95da851816d24079b0abc0e7a987abf2"
          }
        },
        "da4acb678a074e35bbabd263ee18838a": {
          "model_module": "@jupyter-widgets/controls",
          "model_name": "HTMLModel",
          "model_module_version": "1.5.0",
          "state": {
            "_dom_classes": [],
            "_model_module": "@jupyter-widgets/controls",
            "_model_module_version": "1.5.0",
            "_model_name": "HTMLModel",
            "_view_count": null,
            "_view_module": "@jupyter-widgets/controls",
            "_view_module_version": "1.5.0",
            "_view_name": "HTMLView",
            "description": "",
            "description_tooltip": null,
            "layout": "IPY_MODEL_5579fb68a7b34e1a9e04b5fb307bee4b",
            "placeholder": "​",
            "style": "IPY_MODEL_77baaf74f4d44415a5854a3b8aab51f3",
            "value": "tokenizer.json: 100%"
          }
        },
        "a51ea716920446b79447504053813690": {
          "model_module": "@jupyter-widgets/controls",
          "model_name": "FloatProgressModel",
          "model_module_version": "1.5.0",
          "state": {
            "_dom_classes": [],
            "_model_module": "@jupyter-widgets/controls",
            "_model_module_version": "1.5.0",
            "_model_name": "FloatProgressModel",
            "_view_count": null,
            "_view_module": "@jupyter-widgets/controls",
            "_view_module_version": "1.5.0",
            "_view_name": "ProgressView",
            "bar_style": "success",
            "description": "",
            "description_tooltip": null,
            "layout": "IPY_MODEL_90bb0e0eb34b4955b0e184d6a783f2d1",
            "max": 7028015,
            "min": 0,
            "orientation": "horizontal",
            "style": "IPY_MODEL_689065af7de540378fb83eabe228fe04",
            "value": 7028015
          }
        },
        "0c1affcd326d4b2cbb8adf54bd8e75ee": {
          "model_module": "@jupyter-widgets/controls",
          "model_name": "HTMLModel",
          "model_module_version": "1.5.0",
          "state": {
            "_dom_classes": [],
            "_model_module": "@jupyter-widgets/controls",
            "_model_module_version": "1.5.0",
            "_model_name": "HTMLModel",
            "_view_count": null,
            "_view_module": "@jupyter-widgets/controls",
            "_view_module_version": "1.5.0",
            "_view_name": "HTMLView",
            "description": "",
            "description_tooltip": null,
            "layout": "IPY_MODEL_216fd20ea61b4de8b4b635ef14726c54",
            "placeholder": "​",
            "style": "IPY_MODEL_2d89df4579e443e9bc9196290f1501bb",
            "value": " 7.03M/7.03M [00:00&lt;00:00, 41.9MB/s]"
          }
        },
        "95da851816d24079b0abc0e7a987abf2": {
          "model_module": "@jupyter-widgets/base",
          "model_name": "LayoutModel",
          "model_module_version": "1.2.0",
          "state": {
            "_model_module": "@jupyter-widgets/base",
            "_model_module_version": "1.2.0",
            "_model_name": "LayoutModel",
            "_view_count": null,
            "_view_module": "@jupyter-widgets/base",
            "_view_module_version": "1.2.0",
            "_view_name": "LayoutView",
            "align_content": null,
            "align_items": null,
            "align_self": null,
            "border": null,
            "bottom": null,
            "display": null,
            "flex": null,
            "flex_flow": null,
            "grid_area": null,
            "grid_auto_columns": null,
            "grid_auto_flow": null,
            "grid_auto_rows": null,
            "grid_column": null,
            "grid_gap": null,
            "grid_row": null,
            "grid_template_areas": null,
            "grid_template_columns": null,
            "grid_template_rows": null,
            "height": null,
            "justify_content": null,
            "justify_items": null,
            "left": null,
            "margin": null,
            "max_height": null,
            "max_width": null,
            "min_height": null,
            "min_width": null,
            "object_fit": null,
            "object_position": null,
            "order": null,
            "overflow": null,
            "overflow_x": null,
            "overflow_y": null,
            "padding": null,
            "right": null,
            "top": null,
            "visibility": null,
            "width": null
          }
        },
        "5579fb68a7b34e1a9e04b5fb307bee4b": {
          "model_module": "@jupyter-widgets/base",
          "model_name": "LayoutModel",
          "model_module_version": "1.2.0",
          "state": {
            "_model_module": "@jupyter-widgets/base",
            "_model_module_version": "1.2.0",
            "_model_name": "LayoutModel",
            "_view_count": null,
            "_view_module": "@jupyter-widgets/base",
            "_view_module_version": "1.2.0",
            "_view_name": "LayoutView",
            "align_content": null,
            "align_items": null,
            "align_self": null,
            "border": null,
            "bottom": null,
            "display": null,
            "flex": null,
            "flex_flow": null,
            "grid_area": null,
            "grid_auto_columns": null,
            "grid_auto_flow": null,
            "grid_auto_rows": null,
            "grid_column": null,
            "grid_gap": null,
            "grid_row": null,
            "grid_template_areas": null,
            "grid_template_columns": null,
            "grid_template_rows": null,
            "height": null,
            "justify_content": null,
            "justify_items": null,
            "left": null,
            "margin": null,
            "max_height": null,
            "max_width": null,
            "min_height": null,
            "min_width": null,
            "object_fit": null,
            "object_position": null,
            "order": null,
            "overflow": null,
            "overflow_x": null,
            "overflow_y": null,
            "padding": null,
            "right": null,
            "top": null,
            "visibility": null,
            "width": null
          }
        },
        "77baaf74f4d44415a5854a3b8aab51f3": {
          "model_module": "@jupyter-widgets/controls",
          "model_name": "DescriptionStyleModel",
          "model_module_version": "1.5.0",
          "state": {
            "_model_module": "@jupyter-widgets/controls",
            "_model_module_version": "1.5.0",
            "_model_name": "DescriptionStyleModel",
            "_view_count": null,
            "_view_module": "@jupyter-widgets/base",
            "_view_module_version": "1.2.0",
            "_view_name": "StyleView",
            "description_width": ""
          }
        },
        "90bb0e0eb34b4955b0e184d6a783f2d1": {
          "model_module": "@jupyter-widgets/base",
          "model_name": "LayoutModel",
          "model_module_version": "1.2.0",
          "state": {
            "_model_module": "@jupyter-widgets/base",
            "_model_module_version": "1.2.0",
            "_model_name": "LayoutModel",
            "_view_count": null,
            "_view_module": "@jupyter-widgets/base",
            "_view_module_version": "1.2.0",
            "_view_name": "LayoutView",
            "align_content": null,
            "align_items": null,
            "align_self": null,
            "border": null,
            "bottom": null,
            "display": null,
            "flex": null,
            "flex_flow": null,
            "grid_area": null,
            "grid_auto_columns": null,
            "grid_auto_flow": null,
            "grid_auto_rows": null,
            "grid_column": null,
            "grid_gap": null,
            "grid_row": null,
            "grid_template_areas": null,
            "grid_template_columns": null,
            "grid_template_rows": null,
            "height": null,
            "justify_content": null,
            "justify_items": null,
            "left": null,
            "margin": null,
            "max_height": null,
            "max_width": null,
            "min_height": null,
            "min_width": null,
            "object_fit": null,
            "object_position": null,
            "order": null,
            "overflow": null,
            "overflow_x": null,
            "overflow_y": null,
            "padding": null,
            "right": null,
            "top": null,
            "visibility": null,
            "width": null
          }
        },
        "689065af7de540378fb83eabe228fe04": {
          "model_module": "@jupyter-widgets/controls",
          "model_name": "ProgressStyleModel",
          "model_module_version": "1.5.0",
          "state": {
            "_model_module": "@jupyter-widgets/controls",
            "_model_module_version": "1.5.0",
            "_model_name": "ProgressStyleModel",
            "_view_count": null,
            "_view_module": "@jupyter-widgets/base",
            "_view_module_version": "1.2.0",
            "_view_name": "StyleView",
            "bar_color": null,
            "description_width": ""
          }
        },
        "216fd20ea61b4de8b4b635ef14726c54": {
          "model_module": "@jupyter-widgets/base",
          "model_name": "LayoutModel",
          "model_module_version": "1.2.0",
          "state": {
            "_model_module": "@jupyter-widgets/base",
            "_model_module_version": "1.2.0",
            "_model_name": "LayoutModel",
            "_view_count": null,
            "_view_module": "@jupyter-widgets/base",
            "_view_module_version": "1.2.0",
            "_view_name": "LayoutView",
            "align_content": null,
            "align_items": null,
            "align_self": null,
            "border": null,
            "bottom": null,
            "display": null,
            "flex": null,
            "flex_flow": null,
            "grid_area": null,
            "grid_auto_columns": null,
            "grid_auto_flow": null,
            "grid_auto_rows": null,
            "grid_column": null,
            "grid_gap": null,
            "grid_row": null,
            "grid_template_areas": null,
            "grid_template_columns": null,
            "grid_template_rows": null,
            "height": null,
            "justify_content": null,
            "justify_items": null,
            "left": null,
            "margin": null,
            "max_height": null,
            "max_width": null,
            "min_height": null,
            "min_width": null,
            "object_fit": null,
            "object_position": null,
            "order": null,
            "overflow": null,
            "overflow_x": null,
            "overflow_y": null,
            "padding": null,
            "right": null,
            "top": null,
            "visibility": null,
            "width": null
          }
        },
        "2d89df4579e443e9bc9196290f1501bb": {
          "model_module": "@jupyter-widgets/controls",
          "model_name": "DescriptionStyleModel",
          "model_module_version": "1.5.0",
          "state": {
            "_model_module": "@jupyter-widgets/controls",
            "_model_module_version": "1.5.0",
            "_model_name": "DescriptionStyleModel",
            "_view_count": null,
            "_view_module": "@jupyter-widgets/base",
            "_view_module_version": "1.2.0",
            "_view_name": "StyleView",
            "description_width": ""
          }
        },
        "5767e8532a1a4b1bbb75533d74c742c7": {
          "model_module": "@jupyter-widgets/controls",
          "model_name": "HBoxModel",
          "model_module_version": "1.5.0",
          "state": {
            "_dom_classes": [],
            "_model_module": "@jupyter-widgets/controls",
            "_model_module_version": "1.5.0",
            "_model_name": "HBoxModel",
            "_view_count": null,
            "_view_module": "@jupyter-widgets/controls",
            "_view_module_version": "1.5.0",
            "_view_name": "HBoxView",
            "box_style": "",
            "children": [
              "IPY_MODEL_cd4dedaa1c8a4ee2b2d1ae78705d96aa",
              "IPY_MODEL_3bd0ae7666b049efa85fc56d4d58a3df",
              "IPY_MODEL_712319b7b2c2416aac4aaa9c0835a54c"
            ],
            "layout": "IPY_MODEL_0bff06047b1c4d65834c1f04ed5d7091"
          }
        },
        "cd4dedaa1c8a4ee2b2d1ae78705d96aa": {
          "model_module": "@jupyter-widgets/controls",
          "model_name": "HTMLModel",
          "model_module_version": "1.5.0",
          "state": {
            "_dom_classes": [],
            "_model_module": "@jupyter-widgets/controls",
            "_model_module_version": "1.5.0",
            "_model_name": "HTMLModel",
            "_view_count": null,
            "_view_module": "@jupyter-widgets/controls",
            "_view_module_version": "1.5.0",
            "_view_name": "HTMLView",
            "description": "",
            "description_tooltip": null,
            "layout": "IPY_MODEL_b014d2f091b2420fb4e378cb81807cfa",
            "placeholder": "​",
            "style": "IPY_MODEL_31402d33ff6d4ea7b4ab6f0323172453",
            "value": "Generating train split: "
          }
        },
        "3bd0ae7666b049efa85fc56d4d58a3df": {
          "model_module": "@jupyter-widgets/controls",
          "model_name": "FloatProgressModel",
          "model_module_version": "1.5.0",
          "state": {
            "_dom_classes": [],
            "_model_module": "@jupyter-widgets/controls",
            "_model_module_version": "1.5.0",
            "_model_name": "FloatProgressModel",
            "_view_count": null,
            "_view_module": "@jupyter-widgets/controls",
            "_view_module_version": "1.5.0",
            "_view_name": "ProgressView",
            "bar_style": "success",
            "description": "",
            "description_tooltip": null,
            "layout": "IPY_MODEL_cdb790f1c0e948a4938a7856ec2d1b1b",
            "max": 1,
            "min": 0,
            "orientation": "horizontal",
            "style": "IPY_MODEL_7b830cdf613747358ffcec7cc9b52228",
            "value": 1
          }
        },
        "712319b7b2c2416aac4aaa9c0835a54c": {
          "model_module": "@jupyter-widgets/controls",
          "model_name": "HTMLModel",
          "model_module_version": "1.5.0",
          "state": {
            "_dom_classes": [],
            "_model_module": "@jupyter-widgets/controls",
            "_model_module_version": "1.5.0",
            "_model_name": "HTMLModel",
            "_view_count": null,
            "_view_module": "@jupyter-widgets/controls",
            "_view_module_version": "1.5.0",
            "_view_name": "HTMLView",
            "description": "",
            "description_tooltip": null,
            "layout": "IPY_MODEL_6050dd4f772645b4ade37e6fecc9ebda",
            "placeholder": "​",
            "style": "IPY_MODEL_0d578b6fa23b4f0c888bb5ece5dc2e7f",
            "value": " 51461/0 [00:00&lt;00:00, 99055.71 examples/s]"
          }
        },
        "0bff06047b1c4d65834c1f04ed5d7091": {
          "model_module": "@jupyter-widgets/base",
          "model_name": "LayoutModel",
          "model_module_version": "1.2.0",
          "state": {
            "_model_module": "@jupyter-widgets/base",
            "_model_module_version": "1.2.0",
            "_model_name": "LayoutModel",
            "_view_count": null,
            "_view_module": "@jupyter-widgets/base",
            "_view_module_version": "1.2.0",
            "_view_name": "LayoutView",
            "align_content": null,
            "align_items": null,
            "align_self": null,
            "border": null,
            "bottom": null,
            "display": null,
            "flex": null,
            "flex_flow": null,
            "grid_area": null,
            "grid_auto_columns": null,
            "grid_auto_flow": null,
            "grid_auto_rows": null,
            "grid_column": null,
            "grid_gap": null,
            "grid_row": null,
            "grid_template_areas": null,
            "grid_template_columns": null,
            "grid_template_rows": null,
            "height": null,
            "justify_content": null,
            "justify_items": null,
            "left": null,
            "margin": null,
            "max_height": null,
            "max_width": null,
            "min_height": null,
            "min_width": null,
            "object_fit": null,
            "object_position": null,
            "order": null,
            "overflow": null,
            "overflow_x": null,
            "overflow_y": null,
            "padding": null,
            "right": null,
            "top": null,
            "visibility": null,
            "width": null
          }
        },
        "b014d2f091b2420fb4e378cb81807cfa": {
          "model_module": "@jupyter-widgets/base",
          "model_name": "LayoutModel",
          "model_module_version": "1.2.0",
          "state": {
            "_model_module": "@jupyter-widgets/base",
            "_model_module_version": "1.2.0",
            "_model_name": "LayoutModel",
            "_view_count": null,
            "_view_module": "@jupyter-widgets/base",
            "_view_module_version": "1.2.0",
            "_view_name": "LayoutView",
            "align_content": null,
            "align_items": null,
            "align_self": null,
            "border": null,
            "bottom": null,
            "display": null,
            "flex": null,
            "flex_flow": null,
            "grid_area": null,
            "grid_auto_columns": null,
            "grid_auto_flow": null,
            "grid_auto_rows": null,
            "grid_column": null,
            "grid_gap": null,
            "grid_row": null,
            "grid_template_areas": null,
            "grid_template_columns": null,
            "grid_template_rows": null,
            "height": null,
            "justify_content": null,
            "justify_items": null,
            "left": null,
            "margin": null,
            "max_height": null,
            "max_width": null,
            "min_height": null,
            "min_width": null,
            "object_fit": null,
            "object_position": null,
            "order": null,
            "overflow": null,
            "overflow_x": null,
            "overflow_y": null,
            "padding": null,
            "right": null,
            "top": null,
            "visibility": null,
            "width": null
          }
        },
        "31402d33ff6d4ea7b4ab6f0323172453": {
          "model_module": "@jupyter-widgets/controls",
          "model_name": "DescriptionStyleModel",
          "model_module_version": "1.5.0",
          "state": {
            "_model_module": "@jupyter-widgets/controls",
            "_model_module_version": "1.5.0",
            "_model_name": "DescriptionStyleModel",
            "_view_count": null,
            "_view_module": "@jupyter-widgets/base",
            "_view_module_version": "1.2.0",
            "_view_name": "StyleView",
            "description_width": ""
          }
        },
        "cdb790f1c0e948a4938a7856ec2d1b1b": {
          "model_module": "@jupyter-widgets/base",
          "model_name": "LayoutModel",
          "model_module_version": "1.2.0",
          "state": {
            "_model_module": "@jupyter-widgets/base",
            "_model_module_version": "1.2.0",
            "_model_name": "LayoutModel",
            "_view_count": null,
            "_view_module": "@jupyter-widgets/base",
            "_view_module_version": "1.2.0",
            "_view_name": "LayoutView",
            "align_content": null,
            "align_items": null,
            "align_self": null,
            "border": null,
            "bottom": null,
            "display": null,
            "flex": null,
            "flex_flow": null,
            "grid_area": null,
            "grid_auto_columns": null,
            "grid_auto_flow": null,
            "grid_auto_rows": null,
            "grid_column": null,
            "grid_gap": null,
            "grid_row": null,
            "grid_template_areas": null,
            "grid_template_columns": null,
            "grid_template_rows": null,
            "height": null,
            "justify_content": null,
            "justify_items": null,
            "left": null,
            "margin": null,
            "max_height": null,
            "max_width": null,
            "min_height": null,
            "min_width": null,
            "object_fit": null,
            "object_position": null,
            "order": null,
            "overflow": null,
            "overflow_x": null,
            "overflow_y": null,
            "padding": null,
            "right": null,
            "top": null,
            "visibility": null,
            "width": "20px"
          }
        },
        "7b830cdf613747358ffcec7cc9b52228": {
          "model_module": "@jupyter-widgets/controls",
          "model_name": "ProgressStyleModel",
          "model_module_version": "1.5.0",
          "state": {
            "_model_module": "@jupyter-widgets/controls",
            "_model_module_version": "1.5.0",
            "_model_name": "ProgressStyleModel",
            "_view_count": null,
            "_view_module": "@jupyter-widgets/base",
            "_view_module_version": "1.2.0",
            "_view_name": "StyleView",
            "bar_color": null,
            "description_width": ""
          }
        },
        "6050dd4f772645b4ade37e6fecc9ebda": {
          "model_module": "@jupyter-widgets/base",
          "model_name": "LayoutModel",
          "model_module_version": "1.2.0",
          "state": {
            "_model_module": "@jupyter-widgets/base",
            "_model_module_version": "1.2.0",
            "_model_name": "LayoutModel",
            "_view_count": null,
            "_view_module": "@jupyter-widgets/base",
            "_view_module_version": "1.2.0",
            "_view_name": "LayoutView",
            "align_content": null,
            "align_items": null,
            "align_self": null,
            "border": null,
            "bottom": null,
            "display": null,
            "flex": null,
            "flex_flow": null,
            "grid_area": null,
            "grid_auto_columns": null,
            "grid_auto_flow": null,
            "grid_auto_rows": null,
            "grid_column": null,
            "grid_gap": null,
            "grid_row": null,
            "grid_template_areas": null,
            "grid_template_columns": null,
            "grid_template_rows": null,
            "height": null,
            "justify_content": null,
            "justify_items": null,
            "left": null,
            "margin": null,
            "max_height": null,
            "max_width": null,
            "min_height": null,
            "min_width": null,
            "object_fit": null,
            "object_position": null,
            "order": null,
            "overflow": null,
            "overflow_x": null,
            "overflow_y": null,
            "padding": null,
            "right": null,
            "top": null,
            "visibility": null,
            "width": null
          }
        },
        "0d578b6fa23b4f0c888bb5ece5dc2e7f": {
          "model_module": "@jupyter-widgets/controls",
          "model_name": "DescriptionStyleModel",
          "model_module_version": "1.5.0",
          "state": {
            "_model_module": "@jupyter-widgets/controls",
            "_model_module_version": "1.5.0",
            "_model_name": "DescriptionStyleModel",
            "_view_count": null,
            "_view_module": "@jupyter-widgets/base",
            "_view_module_version": "1.2.0",
            "_view_name": "StyleView",
            "description_width": ""
          }
        },
        "c3de3cfda25649e9bf9422aadd711132": {
          "model_module": "@jupyter-widgets/controls",
          "model_name": "HBoxModel",
          "model_module_version": "1.5.0",
          "state": {
            "_dom_classes": [],
            "_model_module": "@jupyter-widgets/controls",
            "_model_module_version": "1.5.0",
            "_model_name": "HBoxModel",
            "_view_count": null,
            "_view_module": "@jupyter-widgets/controls",
            "_view_module_version": "1.5.0",
            "_view_name": "HBoxView",
            "box_style": "",
            "children": [
              "IPY_MODEL_b2b1b80e372a40a4930980d27ae8d5eb",
              "IPY_MODEL_81f3fd0bcdc84191985074a60b47b4e5",
              "IPY_MODEL_3bf35300d356428382d0b254633faac5"
            ],
            "layout": "IPY_MODEL_a518c00a0c9b45388df72a1842e92f62"
          }
        },
        "b2b1b80e372a40a4930980d27ae8d5eb": {
          "model_module": "@jupyter-widgets/controls",
          "model_name": "HTMLModel",
          "model_module_version": "1.5.0",
          "state": {
            "_dom_classes": [],
            "_model_module": "@jupyter-widgets/controls",
            "_model_module_version": "1.5.0",
            "_model_name": "HTMLModel",
            "_view_count": null,
            "_view_module": "@jupyter-widgets/controls",
            "_view_module_version": "1.5.0",
            "_view_name": "HTMLView",
            "description": "",
            "description_tooltip": null,
            "layout": "IPY_MODEL_35225e5037284448b2f71bafe67ffc8e",
            "placeholder": "​",
            "style": "IPY_MODEL_d21a271e1d214c3eb5497ac481b10754",
            "value": "Converting format of dataset: 100%"
          }
        },
        "81f3fd0bcdc84191985074a60b47b4e5": {
          "model_module": "@jupyter-widgets/controls",
          "model_name": "FloatProgressModel",
          "model_module_version": "1.5.0",
          "state": {
            "_dom_classes": [],
            "_model_module": "@jupyter-widgets/controls",
            "_model_module_version": "1.5.0",
            "_model_name": "FloatProgressModel",
            "_view_count": null,
            "_view_module": "@jupyter-widgets/controls",
            "_view_module_version": "1.5.0",
            "_view_name": "ProgressView",
            "bar_style": "success",
            "description": "",
            "description_tooltip": null,
            "layout": "IPY_MODEL_a30253f4d7f14388bea2e0afbd3e7b54",
            "max": 51461,
            "min": 0,
            "orientation": "horizontal",
            "style": "IPY_MODEL_af2e040ea55047efae9175609210d7b9",
            "value": 51461
          }
        },
        "3bf35300d356428382d0b254633faac5": {
          "model_module": "@jupyter-widgets/controls",
          "model_name": "HTMLModel",
          "model_module_version": "1.5.0",
          "state": {
            "_dom_classes": [],
            "_model_module": "@jupyter-widgets/controls",
            "_model_module_version": "1.5.0",
            "_model_name": "HTMLModel",
            "_view_count": null,
            "_view_module": "@jupyter-widgets/controls",
            "_view_module_version": "1.5.0",
            "_view_name": "HTMLView",
            "description": "",
            "description_tooltip": null,
            "layout": "IPY_MODEL_490fb2533af34a72ae4b0e1acd1f7305",
            "placeholder": "​",
            "style": "IPY_MODEL_7a2375bb5a124aaba5960f061c55fbb3",
            "value": " 51461/51461 [00:01&lt;00:00, 43011.00 examples/s]"
          }
        },
        "a518c00a0c9b45388df72a1842e92f62": {
          "model_module": "@jupyter-widgets/base",
          "model_name": "LayoutModel",
          "model_module_version": "1.2.0",
          "state": {
            "_model_module": "@jupyter-widgets/base",
            "_model_module_version": "1.2.0",
            "_model_name": "LayoutModel",
            "_view_count": null,
            "_view_module": "@jupyter-widgets/base",
            "_view_module_version": "1.2.0",
            "_view_name": "LayoutView",
            "align_content": null,
            "align_items": null,
            "align_self": null,
            "border": null,
            "bottom": null,
            "display": null,
            "flex": null,
            "flex_flow": null,
            "grid_area": null,
            "grid_auto_columns": null,
            "grid_auto_flow": null,
            "grid_auto_rows": null,
            "grid_column": null,
            "grid_gap": null,
            "grid_row": null,
            "grid_template_areas": null,
            "grid_template_columns": null,
            "grid_template_rows": null,
            "height": null,
            "justify_content": null,
            "justify_items": null,
            "left": null,
            "margin": null,
            "max_height": null,
            "max_width": null,
            "min_height": null,
            "min_width": null,
            "object_fit": null,
            "object_position": null,
            "order": null,
            "overflow": null,
            "overflow_x": null,
            "overflow_y": null,
            "padding": null,
            "right": null,
            "top": null,
            "visibility": null,
            "width": null
          }
        },
        "35225e5037284448b2f71bafe67ffc8e": {
          "model_module": "@jupyter-widgets/base",
          "model_name": "LayoutModel",
          "model_module_version": "1.2.0",
          "state": {
            "_model_module": "@jupyter-widgets/base",
            "_model_module_version": "1.2.0",
            "_model_name": "LayoutModel",
            "_view_count": null,
            "_view_module": "@jupyter-widgets/base",
            "_view_module_version": "1.2.0",
            "_view_name": "LayoutView",
            "align_content": null,
            "align_items": null,
            "align_self": null,
            "border": null,
            "bottom": null,
            "display": null,
            "flex": null,
            "flex_flow": null,
            "grid_area": null,
            "grid_auto_columns": null,
            "grid_auto_flow": null,
            "grid_auto_rows": null,
            "grid_column": null,
            "grid_gap": null,
            "grid_row": null,
            "grid_template_areas": null,
            "grid_template_columns": null,
            "grid_template_rows": null,
            "height": null,
            "justify_content": null,
            "justify_items": null,
            "left": null,
            "margin": null,
            "max_height": null,
            "max_width": null,
            "min_height": null,
            "min_width": null,
            "object_fit": null,
            "object_position": null,
            "order": null,
            "overflow": null,
            "overflow_x": null,
            "overflow_y": null,
            "padding": null,
            "right": null,
            "top": null,
            "visibility": null,
            "width": null
          }
        },
        "d21a271e1d214c3eb5497ac481b10754": {
          "model_module": "@jupyter-widgets/controls",
          "model_name": "DescriptionStyleModel",
          "model_module_version": "1.5.0",
          "state": {
            "_model_module": "@jupyter-widgets/controls",
            "_model_module_version": "1.5.0",
            "_model_name": "DescriptionStyleModel",
            "_view_count": null,
            "_view_module": "@jupyter-widgets/base",
            "_view_module_version": "1.2.0",
            "_view_name": "StyleView",
            "description_width": ""
          }
        },
        "a30253f4d7f14388bea2e0afbd3e7b54": {
          "model_module": "@jupyter-widgets/base",
          "model_name": "LayoutModel",
          "model_module_version": "1.2.0",
          "state": {
            "_model_module": "@jupyter-widgets/base",
            "_model_module_version": "1.2.0",
            "_model_name": "LayoutModel",
            "_view_count": null,
            "_view_module": "@jupyter-widgets/base",
            "_view_module_version": "1.2.0",
            "_view_name": "LayoutView",
            "align_content": null,
            "align_items": null,
            "align_self": null,
            "border": null,
            "bottom": null,
            "display": null,
            "flex": null,
            "flex_flow": null,
            "grid_area": null,
            "grid_auto_columns": null,
            "grid_auto_flow": null,
            "grid_auto_rows": null,
            "grid_column": null,
            "grid_gap": null,
            "grid_row": null,
            "grid_template_areas": null,
            "grid_template_columns": null,
            "grid_template_rows": null,
            "height": null,
            "justify_content": null,
            "justify_items": null,
            "left": null,
            "margin": null,
            "max_height": null,
            "max_width": null,
            "min_height": null,
            "min_width": null,
            "object_fit": null,
            "object_position": null,
            "order": null,
            "overflow": null,
            "overflow_x": null,
            "overflow_y": null,
            "padding": null,
            "right": null,
            "top": null,
            "visibility": null,
            "width": null
          }
        },
        "af2e040ea55047efae9175609210d7b9": {
          "model_module": "@jupyter-widgets/controls",
          "model_name": "ProgressStyleModel",
          "model_module_version": "1.5.0",
          "state": {
            "_model_module": "@jupyter-widgets/controls",
            "_model_module_version": "1.5.0",
            "_model_name": "ProgressStyleModel",
            "_view_count": null,
            "_view_module": "@jupyter-widgets/base",
            "_view_module_version": "1.2.0",
            "_view_name": "StyleView",
            "bar_color": null,
            "description_width": ""
          }
        },
        "490fb2533af34a72ae4b0e1acd1f7305": {
          "model_module": "@jupyter-widgets/base",
          "model_name": "LayoutModel",
          "model_module_version": "1.2.0",
          "state": {
            "_model_module": "@jupyter-widgets/base",
            "_model_module_version": "1.2.0",
            "_model_name": "LayoutModel",
            "_view_count": null,
            "_view_module": "@jupyter-widgets/base",
            "_view_module_version": "1.2.0",
            "_view_name": "LayoutView",
            "align_content": null,
            "align_items": null,
            "align_self": null,
            "border": null,
            "bottom": null,
            "display": null,
            "flex": null,
            "flex_flow": null,
            "grid_area": null,
            "grid_auto_columns": null,
            "grid_auto_flow": null,
            "grid_auto_rows": null,
            "grid_column": null,
            "grid_gap": null,
            "grid_row": null,
            "grid_template_areas": null,
            "grid_template_columns": null,
            "grid_template_rows": null,
            "height": null,
            "justify_content": null,
            "justify_items": null,
            "left": null,
            "margin": null,
            "max_height": null,
            "max_width": null,
            "min_height": null,
            "min_width": null,
            "object_fit": null,
            "object_position": null,
            "order": null,
            "overflow": null,
            "overflow_x": null,
            "overflow_y": null,
            "padding": null,
            "right": null,
            "top": null,
            "visibility": null,
            "width": null
          }
        },
        "7a2375bb5a124aaba5960f061c55fbb3": {
          "model_module": "@jupyter-widgets/controls",
          "model_name": "DescriptionStyleModel",
          "model_module_version": "1.5.0",
          "state": {
            "_model_module": "@jupyter-widgets/controls",
            "_model_module_version": "1.5.0",
            "_model_name": "DescriptionStyleModel",
            "_view_count": null,
            "_view_module": "@jupyter-widgets/base",
            "_view_module_version": "1.2.0",
            "_view_name": "StyleView",
            "description_width": ""
          }
        },
        "2c54058e631c4d7d98f514945daf307b": {
          "model_module": "@jupyter-widgets/controls",
          "model_name": "HBoxModel",
          "model_module_version": "1.5.0",
          "state": {
            "_dom_classes": [],
            "_model_module": "@jupyter-widgets/controls",
            "_model_module_version": "1.5.0",
            "_model_name": "HBoxModel",
            "_view_count": null,
            "_view_module": "@jupyter-widgets/controls",
            "_view_module_version": "1.5.0",
            "_view_name": "HBoxView",
            "box_style": "",
            "children": [
              "IPY_MODEL_f4a8bb35f9f74e72b0658f4e7bcb6987",
              "IPY_MODEL_09811104298c4dda9c116278764ae40b",
              "IPY_MODEL_7dbfe328a6784455b4f19217b03741f5"
            ],
            "layout": "IPY_MODEL_9b94a67f4d2348959cbeb22868651474"
          }
        },
        "f4a8bb35f9f74e72b0658f4e7bcb6987": {
          "model_module": "@jupyter-widgets/controls",
          "model_name": "HTMLModel",
          "model_module_version": "1.5.0",
          "state": {
            "_dom_classes": [],
            "_model_module": "@jupyter-widgets/controls",
            "_model_module_version": "1.5.0",
            "_model_name": "HTMLModel",
            "_view_count": null,
            "_view_module": "@jupyter-widgets/controls",
            "_view_module_version": "1.5.0",
            "_view_name": "HTMLView",
            "description": "",
            "description_tooltip": null,
            "layout": "IPY_MODEL_c463c6f96e1b4a25beac617822ac951e",
            "placeholder": "​",
            "style": "IPY_MODEL_a0846b81fd884de5aee18facef71a9ac",
            "value": "Running tokenizer on dataset: 100%"
          }
        },
        "09811104298c4dda9c116278764ae40b": {
          "model_module": "@jupyter-widgets/controls",
          "model_name": "FloatProgressModel",
          "model_module_version": "1.5.0",
          "state": {
            "_dom_classes": [],
            "_model_module": "@jupyter-widgets/controls",
            "_model_module_version": "1.5.0",
            "_model_name": "FloatProgressModel",
            "_view_count": null,
            "_view_module": "@jupyter-widgets/controls",
            "_view_module_version": "1.5.0",
            "_view_name": "ProgressView",
            "bar_style": "success",
            "description": "",
            "description_tooltip": null,
            "layout": "IPY_MODEL_84f5ce5e2d21481b9fbeb59a3a6fe447",
            "max": 51461,
            "min": 0,
            "orientation": "horizontal",
            "style": "IPY_MODEL_c9d0c7efdd6e4b3da0d705e10758c1ec",
            "value": 51461
          }
        },
        "7dbfe328a6784455b4f19217b03741f5": {
          "model_module": "@jupyter-widgets/controls",
          "model_name": "HTMLModel",
          "model_module_version": "1.5.0",
          "state": {
            "_dom_classes": [],
            "_model_module": "@jupyter-widgets/controls",
            "_model_module_version": "1.5.0",
            "_model_name": "HTMLModel",
            "_view_count": null,
            "_view_module": "@jupyter-widgets/controls",
            "_view_module_version": "1.5.0",
            "_view_name": "HTMLView",
            "description": "",
            "description_tooltip": null,
            "layout": "IPY_MODEL_54bc5a5c1dbf49dfac55fb2a2589e36d",
            "placeholder": "​",
            "style": "IPY_MODEL_33c04089cf0e4ff8953161250f4d957b",
            "value": " 51461/51461 [03:29&lt;00:00, 253.46 examples/s]"
          }
        },
        "9b94a67f4d2348959cbeb22868651474": {
          "model_module": "@jupyter-widgets/base",
          "model_name": "LayoutModel",
          "model_module_version": "1.2.0",
          "state": {
            "_model_module": "@jupyter-widgets/base",
            "_model_module_version": "1.2.0",
            "_model_name": "LayoutModel",
            "_view_count": null,
            "_view_module": "@jupyter-widgets/base",
            "_view_module_version": "1.2.0",
            "_view_name": "LayoutView",
            "align_content": null,
            "align_items": null,
            "align_self": null,
            "border": null,
            "bottom": null,
            "display": null,
            "flex": null,
            "flex_flow": null,
            "grid_area": null,
            "grid_auto_columns": null,
            "grid_auto_flow": null,
            "grid_auto_rows": null,
            "grid_column": null,
            "grid_gap": null,
            "grid_row": null,
            "grid_template_areas": null,
            "grid_template_columns": null,
            "grid_template_rows": null,
            "height": null,
            "justify_content": null,
            "justify_items": null,
            "left": null,
            "margin": null,
            "max_height": null,
            "max_width": null,
            "min_height": null,
            "min_width": null,
            "object_fit": null,
            "object_position": null,
            "order": null,
            "overflow": null,
            "overflow_x": null,
            "overflow_y": null,
            "padding": null,
            "right": null,
            "top": null,
            "visibility": null,
            "width": null
          }
        },
        "c463c6f96e1b4a25beac617822ac951e": {
          "model_module": "@jupyter-widgets/base",
          "model_name": "LayoutModel",
          "model_module_version": "1.2.0",
          "state": {
            "_model_module": "@jupyter-widgets/base",
            "_model_module_version": "1.2.0",
            "_model_name": "LayoutModel",
            "_view_count": null,
            "_view_module": "@jupyter-widgets/base",
            "_view_module_version": "1.2.0",
            "_view_name": "LayoutView",
            "align_content": null,
            "align_items": null,
            "align_self": null,
            "border": null,
            "bottom": null,
            "display": null,
            "flex": null,
            "flex_flow": null,
            "grid_area": null,
            "grid_auto_columns": null,
            "grid_auto_flow": null,
            "grid_auto_rows": null,
            "grid_column": null,
            "grid_gap": null,
            "grid_row": null,
            "grid_template_areas": null,
            "grid_template_columns": null,
            "grid_template_rows": null,
            "height": null,
            "justify_content": null,
            "justify_items": null,
            "left": null,
            "margin": null,
            "max_height": null,
            "max_width": null,
            "min_height": null,
            "min_width": null,
            "object_fit": null,
            "object_position": null,
            "order": null,
            "overflow": null,
            "overflow_x": null,
            "overflow_y": null,
            "padding": null,
            "right": null,
            "top": null,
            "visibility": null,
            "width": null
          }
        },
        "a0846b81fd884de5aee18facef71a9ac": {
          "model_module": "@jupyter-widgets/controls",
          "model_name": "DescriptionStyleModel",
          "model_module_version": "1.5.0",
          "state": {
            "_model_module": "@jupyter-widgets/controls",
            "_model_module_version": "1.5.0",
            "_model_name": "DescriptionStyleModel",
            "_view_count": null,
            "_view_module": "@jupyter-widgets/base",
            "_view_module_version": "1.2.0",
            "_view_name": "StyleView",
            "description_width": ""
          }
        },
        "84f5ce5e2d21481b9fbeb59a3a6fe447": {
          "model_module": "@jupyter-widgets/base",
          "model_name": "LayoutModel",
          "model_module_version": "1.2.0",
          "state": {
            "_model_module": "@jupyter-widgets/base",
            "_model_module_version": "1.2.0",
            "_model_name": "LayoutModel",
            "_view_count": null,
            "_view_module": "@jupyter-widgets/base",
            "_view_module_version": "1.2.0",
            "_view_name": "LayoutView",
            "align_content": null,
            "align_items": null,
            "align_self": null,
            "border": null,
            "bottom": null,
            "display": null,
            "flex": null,
            "flex_flow": null,
            "grid_area": null,
            "grid_auto_columns": null,
            "grid_auto_flow": null,
            "grid_auto_rows": null,
            "grid_column": null,
            "grid_gap": null,
            "grid_row": null,
            "grid_template_areas": null,
            "grid_template_columns": null,
            "grid_template_rows": null,
            "height": null,
            "justify_content": null,
            "justify_items": null,
            "left": null,
            "margin": null,
            "max_height": null,
            "max_width": null,
            "min_height": null,
            "min_width": null,
            "object_fit": null,
            "object_position": null,
            "order": null,
            "overflow": null,
            "overflow_x": null,
            "overflow_y": null,
            "padding": null,
            "right": null,
            "top": null,
            "visibility": null,
            "width": null
          }
        },
        "c9d0c7efdd6e4b3da0d705e10758c1ec": {
          "model_module": "@jupyter-widgets/controls",
          "model_name": "ProgressStyleModel",
          "model_module_version": "1.5.0",
          "state": {
            "_model_module": "@jupyter-widgets/controls",
            "_model_module_version": "1.5.0",
            "_model_name": "ProgressStyleModel",
            "_view_count": null,
            "_view_module": "@jupyter-widgets/base",
            "_view_module_version": "1.2.0",
            "_view_name": "StyleView",
            "bar_color": null,
            "description_width": ""
          }
        },
        "54bc5a5c1dbf49dfac55fb2a2589e36d": {
          "model_module": "@jupyter-widgets/base",
          "model_name": "LayoutModel",
          "model_module_version": "1.2.0",
          "state": {
            "_model_module": "@jupyter-widgets/base",
            "_model_module_version": "1.2.0",
            "_model_name": "LayoutModel",
            "_view_count": null,
            "_view_module": "@jupyter-widgets/base",
            "_view_module_version": "1.2.0",
            "_view_name": "LayoutView",
            "align_content": null,
            "align_items": null,
            "align_self": null,
            "border": null,
            "bottom": null,
            "display": null,
            "flex": null,
            "flex_flow": null,
            "grid_area": null,
            "grid_auto_columns": null,
            "grid_auto_flow": null,
            "grid_auto_rows": null,
            "grid_column": null,
            "grid_gap": null,
            "grid_row": null,
            "grid_template_areas": null,
            "grid_template_columns": null,
            "grid_template_rows": null,
            "height": null,
            "justify_content": null,
            "justify_items": null,
            "left": null,
            "margin": null,
            "max_height": null,
            "max_width": null,
            "min_height": null,
            "min_width": null,
            "object_fit": null,
            "object_position": null,
            "order": null,
            "overflow": null,
            "overflow_x": null,
            "overflow_y": null,
            "padding": null,
            "right": null,
            "top": null,
            "visibility": null,
            "width": null
          }
        },
        "33c04089cf0e4ff8953161250f4d957b": {
          "model_module": "@jupyter-widgets/controls",
          "model_name": "DescriptionStyleModel",
          "model_module_version": "1.5.0",
          "state": {
            "_model_module": "@jupyter-widgets/controls",
            "_model_module_version": "1.5.0",
            "_model_name": "DescriptionStyleModel",
            "_view_count": null,
            "_view_module": "@jupyter-widgets/base",
            "_view_module_version": "1.2.0",
            "_view_name": "StyleView",
            "description_width": ""
          }
        },
        "62b868098985485f8f5fa71a78856f40": {
          "model_module": "@jupyter-widgets/controls",
          "model_name": "HBoxModel",
          "model_module_version": "1.5.0",
          "state": {
            "_dom_classes": [],
            "_model_module": "@jupyter-widgets/controls",
            "_model_module_version": "1.5.0",
            "_model_name": "HBoxModel",
            "_view_count": null,
            "_view_module": "@jupyter-widgets/controls",
            "_view_module_version": "1.5.0",
            "_view_name": "HBoxView",
            "box_style": "",
            "children": [
              "IPY_MODEL_181835e55a094768baaf52fef959da9f",
              "IPY_MODEL_8362b2069b27434fa74f5fb156f3f910",
              "IPY_MODEL_f97a9c78315049b8b4bd052742d9175b"
            ],
            "layout": "IPY_MODEL_5f1fa74a4bc647569465bfd36a3b543b"
          }
        },
        "181835e55a094768baaf52fef959da9f": {
          "model_module": "@jupyter-widgets/controls",
          "model_name": "HTMLModel",
          "model_module_version": "1.5.0",
          "state": {
            "_dom_classes": [],
            "_model_module": "@jupyter-widgets/controls",
            "_model_module_version": "1.5.0",
            "_model_name": "HTMLModel",
            "_view_count": null,
            "_view_module": "@jupyter-widgets/controls",
            "_view_module_version": "1.5.0",
            "_view_name": "HTMLView",
            "description": "",
            "description_tooltip": null,
            "layout": "IPY_MODEL_2a6ab7dc516440afb681b9b158e4716d",
            "placeholder": "​",
            "style": "IPY_MODEL_c5f69155023e48c5809ac160de170ac7",
            "value": "config.json: 100%"
          }
        },
        "8362b2069b27434fa74f5fb156f3f910": {
          "model_module": "@jupyter-widgets/controls",
          "model_name": "FloatProgressModel",
          "model_module_version": "1.5.0",
          "state": {
            "_dom_classes": [],
            "_model_module": "@jupyter-widgets/controls",
            "_model_module_version": "1.5.0",
            "_model_name": "FloatProgressModel",
            "_view_count": null,
            "_view_module": "@jupyter-widgets/controls",
            "_view_module_version": "1.5.0",
            "_view_name": "ProgressView",
            "bar_style": "success",
            "description": "",
            "description_tooltip": null,
            "layout": "IPY_MODEL_98edee8dd1c148fd936f49c89e1e05d8",
            "max": 661,
            "min": 0,
            "orientation": "horizontal",
            "style": "IPY_MODEL_14bdcd23663d48a7a3b8a81199c71b0a",
            "value": 661
          }
        },
        "f97a9c78315049b8b4bd052742d9175b": {
          "model_module": "@jupyter-widgets/controls",
          "model_name": "HTMLModel",
          "model_module_version": "1.5.0",
          "state": {
            "_dom_classes": [],
            "_model_module": "@jupyter-widgets/controls",
            "_model_module_version": "1.5.0",
            "_model_name": "HTMLModel",
            "_view_count": null,
            "_view_module": "@jupyter-widgets/controls",
            "_view_module_version": "1.5.0",
            "_view_name": "HTMLView",
            "description": "",
            "description_tooltip": null,
            "layout": "IPY_MODEL_ea0c3d9b30364e2c80e7ac259b824ce6",
            "placeholder": "​",
            "style": "IPY_MODEL_0a2f90f229db491b9171156ca6f089ef",
            "value": " 661/661 [00:00&lt;00:00, 30.4kB/s]"
          }
        },
        "5f1fa74a4bc647569465bfd36a3b543b": {
          "model_module": "@jupyter-widgets/base",
          "model_name": "LayoutModel",
          "model_module_version": "1.2.0",
          "state": {
            "_model_module": "@jupyter-widgets/base",
            "_model_module_version": "1.2.0",
            "_model_name": "LayoutModel",
            "_view_count": null,
            "_view_module": "@jupyter-widgets/base",
            "_view_module_version": "1.2.0",
            "_view_name": "LayoutView",
            "align_content": null,
            "align_items": null,
            "align_self": null,
            "border": null,
            "bottom": null,
            "display": null,
            "flex": null,
            "flex_flow": null,
            "grid_area": null,
            "grid_auto_columns": null,
            "grid_auto_flow": null,
            "grid_auto_rows": null,
            "grid_column": null,
            "grid_gap": null,
            "grid_row": null,
            "grid_template_areas": null,
            "grid_template_columns": null,
            "grid_template_rows": null,
            "height": null,
            "justify_content": null,
            "justify_items": null,
            "left": null,
            "margin": null,
            "max_height": null,
            "max_width": null,
            "min_height": null,
            "min_width": null,
            "object_fit": null,
            "object_position": null,
            "order": null,
            "overflow": null,
            "overflow_x": null,
            "overflow_y": null,
            "padding": null,
            "right": null,
            "top": null,
            "visibility": null,
            "width": null
          }
        },
        "2a6ab7dc516440afb681b9b158e4716d": {
          "model_module": "@jupyter-widgets/base",
          "model_name": "LayoutModel",
          "model_module_version": "1.2.0",
          "state": {
            "_model_module": "@jupyter-widgets/base",
            "_model_module_version": "1.2.0",
            "_model_name": "LayoutModel",
            "_view_count": null,
            "_view_module": "@jupyter-widgets/base",
            "_view_module_version": "1.2.0",
            "_view_name": "LayoutView",
            "align_content": null,
            "align_items": null,
            "align_self": null,
            "border": null,
            "bottom": null,
            "display": null,
            "flex": null,
            "flex_flow": null,
            "grid_area": null,
            "grid_auto_columns": null,
            "grid_auto_flow": null,
            "grid_auto_rows": null,
            "grid_column": null,
            "grid_gap": null,
            "grid_row": null,
            "grid_template_areas": null,
            "grid_template_columns": null,
            "grid_template_rows": null,
            "height": null,
            "justify_content": null,
            "justify_items": null,
            "left": null,
            "margin": null,
            "max_height": null,
            "max_width": null,
            "min_height": null,
            "min_width": null,
            "object_fit": null,
            "object_position": null,
            "order": null,
            "overflow": null,
            "overflow_x": null,
            "overflow_y": null,
            "padding": null,
            "right": null,
            "top": null,
            "visibility": null,
            "width": null
          }
        },
        "c5f69155023e48c5809ac160de170ac7": {
          "model_module": "@jupyter-widgets/controls",
          "model_name": "DescriptionStyleModel",
          "model_module_version": "1.5.0",
          "state": {
            "_model_module": "@jupyter-widgets/controls",
            "_model_module_version": "1.5.0",
            "_model_name": "DescriptionStyleModel",
            "_view_count": null,
            "_view_module": "@jupyter-widgets/base",
            "_view_module_version": "1.2.0",
            "_view_name": "StyleView",
            "description_width": ""
          }
        },
        "98edee8dd1c148fd936f49c89e1e05d8": {
          "model_module": "@jupyter-widgets/base",
          "model_name": "LayoutModel",
          "model_module_version": "1.2.0",
          "state": {
            "_model_module": "@jupyter-widgets/base",
            "_model_module_version": "1.2.0",
            "_model_name": "LayoutModel",
            "_view_count": null,
            "_view_module": "@jupyter-widgets/base",
            "_view_module_version": "1.2.0",
            "_view_name": "LayoutView",
            "align_content": null,
            "align_items": null,
            "align_self": null,
            "border": null,
            "bottom": null,
            "display": null,
            "flex": null,
            "flex_flow": null,
            "grid_area": null,
            "grid_auto_columns": null,
            "grid_auto_flow": null,
            "grid_auto_rows": null,
            "grid_column": null,
            "grid_gap": null,
            "grid_row": null,
            "grid_template_areas": null,
            "grid_template_columns": null,
            "grid_template_rows": null,
            "height": null,
            "justify_content": null,
            "justify_items": null,
            "left": null,
            "margin": null,
            "max_height": null,
            "max_width": null,
            "min_height": null,
            "min_width": null,
            "object_fit": null,
            "object_position": null,
            "order": null,
            "overflow": null,
            "overflow_x": null,
            "overflow_y": null,
            "padding": null,
            "right": null,
            "top": null,
            "visibility": null,
            "width": null
          }
        },
        "14bdcd23663d48a7a3b8a81199c71b0a": {
          "model_module": "@jupyter-widgets/controls",
          "model_name": "ProgressStyleModel",
          "model_module_version": "1.5.0",
          "state": {
            "_model_module": "@jupyter-widgets/controls",
            "_model_module_version": "1.5.0",
            "_model_name": "ProgressStyleModel",
            "_view_count": null,
            "_view_module": "@jupyter-widgets/base",
            "_view_module_version": "1.2.0",
            "_view_name": "StyleView",
            "bar_color": null,
            "description_width": ""
          }
        },
        "ea0c3d9b30364e2c80e7ac259b824ce6": {
          "model_module": "@jupyter-widgets/base",
          "model_name": "LayoutModel",
          "model_module_version": "1.2.0",
          "state": {
            "_model_module": "@jupyter-widgets/base",
            "_model_module_version": "1.2.0",
            "_model_name": "LayoutModel",
            "_view_count": null,
            "_view_module": "@jupyter-widgets/base",
            "_view_module_version": "1.2.0",
            "_view_name": "LayoutView",
            "align_content": null,
            "align_items": null,
            "align_self": null,
            "border": null,
            "bottom": null,
            "display": null,
            "flex": null,
            "flex_flow": null,
            "grid_area": null,
            "grid_auto_columns": null,
            "grid_auto_flow": null,
            "grid_auto_rows": null,
            "grid_column": null,
            "grid_gap": null,
            "grid_row": null,
            "grid_template_areas": null,
            "grid_template_columns": null,
            "grid_template_rows": null,
            "height": null,
            "justify_content": null,
            "justify_items": null,
            "left": null,
            "margin": null,
            "max_height": null,
            "max_width": null,
            "min_height": null,
            "min_width": null,
            "object_fit": null,
            "object_position": null,
            "order": null,
            "overflow": null,
            "overflow_x": null,
            "overflow_y": null,
            "padding": null,
            "right": null,
            "top": null,
            "visibility": null,
            "width": null
          }
        },
        "0a2f90f229db491b9171156ca6f089ef": {
          "model_module": "@jupyter-widgets/controls",
          "model_name": "DescriptionStyleModel",
          "model_module_version": "1.5.0",
          "state": {
            "_model_module": "@jupyter-widgets/controls",
            "_model_module_version": "1.5.0",
            "_model_name": "DescriptionStyleModel",
            "_view_count": null,
            "_view_module": "@jupyter-widgets/base",
            "_view_module_version": "1.2.0",
            "_view_name": "StyleView",
            "description_width": ""
          }
        },
        "5897e4391cf147e395bca5ef9a682e55": {
          "model_module": "@jupyter-widgets/controls",
          "model_name": "HBoxModel",
          "model_module_version": "1.5.0",
          "state": {
            "_dom_classes": [],
            "_model_module": "@jupyter-widgets/controls",
            "_model_module_version": "1.5.0",
            "_model_name": "HBoxModel",
            "_view_count": null,
            "_view_module": "@jupyter-widgets/controls",
            "_view_module_version": "1.5.0",
            "_view_name": "HBoxView",
            "box_style": "",
            "children": [
              "IPY_MODEL_a1b9d3a9eebb49ebb0c3507e92b2bf4a",
              "IPY_MODEL_a7e7f6cc3d8349b2a704424ea5747e71",
              "IPY_MODEL_337df6ca4d4845d781b80d7b58cb00d3"
            ],
            "layout": "IPY_MODEL_6fcc2ec167614df99a5b8122e20692b5"
          }
        },
        "a1b9d3a9eebb49ebb0c3507e92b2bf4a": {
          "model_module": "@jupyter-widgets/controls",
          "model_name": "HTMLModel",
          "model_module_version": "1.5.0",
          "state": {
            "_dom_classes": [],
            "_model_module": "@jupyter-widgets/controls",
            "_model_module_version": "1.5.0",
            "_model_name": "HTMLModel",
            "_view_count": null,
            "_view_module": "@jupyter-widgets/controls",
            "_view_module_version": "1.5.0",
            "_view_name": "HTMLView",
            "description": "",
            "description_tooltip": null,
            "layout": "IPY_MODEL_62ff72ded71a40efa7487bcb83230f9c",
            "placeholder": "​",
            "style": "IPY_MODEL_281c3e13aa5e47cc93917e59daff5d12",
            "value": "model.safetensors: 100%"
          }
        },
        "a7e7f6cc3d8349b2a704424ea5747e71": {
          "model_module": "@jupyter-widgets/controls",
          "model_name": "FloatProgressModel",
          "model_module_version": "1.5.0",
          "state": {
            "_dom_classes": [],
            "_model_module": "@jupyter-widgets/controls",
            "_model_module_version": "1.5.0",
            "_model_name": "FloatProgressModel",
            "_view_count": null,
            "_view_module": "@jupyter-widgets/controls",
            "_view_module_version": "1.5.0",
            "_view_name": "ProgressView",
            "bar_style": "success",
            "description": "",
            "description_tooltip": null,
            "layout": "IPY_MODEL_a40327d44cb4404196972dafd8b510fe",
            "max": 1239173352,
            "min": 0,
            "orientation": "horizontal",
            "style": "IPY_MODEL_97e63380dce540ca9dbe10c44042e66c",
            "value": 1239173352
          }
        },
        "337df6ca4d4845d781b80d7b58cb00d3": {
          "model_module": "@jupyter-widgets/controls",
          "model_name": "HTMLModel",
          "model_module_version": "1.5.0",
          "state": {
            "_dom_classes": [],
            "_model_module": "@jupyter-widgets/controls",
            "_model_module_version": "1.5.0",
            "_model_name": "HTMLModel",
            "_view_count": null,
            "_view_module": "@jupyter-widgets/controls",
            "_view_module_version": "1.5.0",
            "_view_name": "HTMLView",
            "description": "",
            "description_tooltip": null,
            "layout": "IPY_MODEL_c1add695a9f14f0c860dfac5b15968bb",
            "placeholder": "​",
            "style": "IPY_MODEL_2802a35075834b57a9d56c5b48a5be1b",
            "value": " 1.24G/1.24G [00:07&lt;00:00, 75.5MB/s]"
          }
        },
        "6fcc2ec167614df99a5b8122e20692b5": {
          "model_module": "@jupyter-widgets/base",
          "model_name": "LayoutModel",
          "model_module_version": "1.2.0",
          "state": {
            "_model_module": "@jupyter-widgets/base",
            "_model_module_version": "1.2.0",
            "_model_name": "LayoutModel",
            "_view_count": null,
            "_view_module": "@jupyter-widgets/base",
            "_view_module_version": "1.2.0",
            "_view_name": "LayoutView",
            "align_content": null,
            "align_items": null,
            "align_self": null,
            "border": null,
            "bottom": null,
            "display": null,
            "flex": null,
            "flex_flow": null,
            "grid_area": null,
            "grid_auto_columns": null,
            "grid_auto_flow": null,
            "grid_auto_rows": null,
            "grid_column": null,
            "grid_gap": null,
            "grid_row": null,
            "grid_template_areas": null,
            "grid_template_columns": null,
            "grid_template_rows": null,
            "height": null,
            "justify_content": null,
            "justify_items": null,
            "left": null,
            "margin": null,
            "max_height": null,
            "max_width": null,
            "min_height": null,
            "min_width": null,
            "object_fit": null,
            "object_position": null,
            "order": null,
            "overflow": null,
            "overflow_x": null,
            "overflow_y": null,
            "padding": null,
            "right": null,
            "top": null,
            "visibility": null,
            "width": null
          }
        },
        "62ff72ded71a40efa7487bcb83230f9c": {
          "model_module": "@jupyter-widgets/base",
          "model_name": "LayoutModel",
          "model_module_version": "1.2.0",
          "state": {
            "_model_module": "@jupyter-widgets/base",
            "_model_module_version": "1.2.0",
            "_model_name": "LayoutModel",
            "_view_count": null,
            "_view_module": "@jupyter-widgets/base",
            "_view_module_version": "1.2.0",
            "_view_name": "LayoutView",
            "align_content": null,
            "align_items": null,
            "align_self": null,
            "border": null,
            "bottom": null,
            "display": null,
            "flex": null,
            "flex_flow": null,
            "grid_area": null,
            "grid_auto_columns": null,
            "grid_auto_flow": null,
            "grid_auto_rows": null,
            "grid_column": null,
            "grid_gap": null,
            "grid_row": null,
            "grid_template_areas": null,
            "grid_template_columns": null,
            "grid_template_rows": null,
            "height": null,
            "justify_content": null,
            "justify_items": null,
            "left": null,
            "margin": null,
            "max_height": null,
            "max_width": null,
            "min_height": null,
            "min_width": null,
            "object_fit": null,
            "object_position": null,
            "order": null,
            "overflow": null,
            "overflow_x": null,
            "overflow_y": null,
            "padding": null,
            "right": null,
            "top": null,
            "visibility": null,
            "width": null
          }
        },
        "281c3e13aa5e47cc93917e59daff5d12": {
          "model_module": "@jupyter-widgets/controls",
          "model_name": "DescriptionStyleModel",
          "model_module_version": "1.5.0",
          "state": {
            "_model_module": "@jupyter-widgets/controls",
            "_model_module_version": "1.5.0",
            "_model_name": "DescriptionStyleModel",
            "_view_count": null,
            "_view_module": "@jupyter-widgets/base",
            "_view_module_version": "1.2.0",
            "_view_name": "StyleView",
            "description_width": ""
          }
        },
        "a40327d44cb4404196972dafd8b510fe": {
          "model_module": "@jupyter-widgets/base",
          "model_name": "LayoutModel",
          "model_module_version": "1.2.0",
          "state": {
            "_model_module": "@jupyter-widgets/base",
            "_model_module_version": "1.2.0",
            "_model_name": "LayoutModel",
            "_view_count": null,
            "_view_module": "@jupyter-widgets/base",
            "_view_module_version": "1.2.0",
            "_view_name": "LayoutView",
            "align_content": null,
            "align_items": null,
            "align_self": null,
            "border": null,
            "bottom": null,
            "display": null,
            "flex": null,
            "flex_flow": null,
            "grid_area": null,
            "grid_auto_columns": null,
            "grid_auto_flow": null,
            "grid_auto_rows": null,
            "grid_column": null,
            "grid_gap": null,
            "grid_row": null,
            "grid_template_areas": null,
            "grid_template_columns": null,
            "grid_template_rows": null,
            "height": null,
            "justify_content": null,
            "justify_items": null,
            "left": null,
            "margin": null,
            "max_height": null,
            "max_width": null,
            "min_height": null,
            "min_width": null,
            "object_fit": null,
            "object_position": null,
            "order": null,
            "overflow": null,
            "overflow_x": null,
            "overflow_y": null,
            "padding": null,
            "right": null,
            "top": null,
            "visibility": null,
            "width": null
          }
        },
        "97e63380dce540ca9dbe10c44042e66c": {
          "model_module": "@jupyter-widgets/controls",
          "model_name": "ProgressStyleModel",
          "model_module_version": "1.5.0",
          "state": {
            "_model_module": "@jupyter-widgets/controls",
            "_model_module_version": "1.5.0",
            "_model_name": "ProgressStyleModel",
            "_view_count": null,
            "_view_module": "@jupyter-widgets/base",
            "_view_module_version": "1.2.0",
            "_view_name": "StyleView",
            "bar_color": null,
            "description_width": ""
          }
        },
        "c1add695a9f14f0c860dfac5b15968bb": {
          "model_module": "@jupyter-widgets/base",
          "model_name": "LayoutModel",
          "model_module_version": "1.2.0",
          "state": {
            "_model_module": "@jupyter-widgets/base",
            "_model_module_version": "1.2.0",
            "_model_name": "LayoutModel",
            "_view_count": null,
            "_view_module": "@jupyter-widgets/base",
            "_view_module_version": "1.2.0",
            "_view_name": "LayoutView",
            "align_content": null,
            "align_items": null,
            "align_self": null,
            "border": null,
            "bottom": null,
            "display": null,
            "flex": null,
            "flex_flow": null,
            "grid_area": null,
            "grid_auto_columns": null,
            "grid_auto_flow": null,
            "grid_auto_rows": null,
            "grid_column": null,
            "grid_gap": null,
            "grid_row": null,
            "grid_template_areas": null,
            "grid_template_columns": null,
            "grid_template_rows": null,
            "height": null,
            "justify_content": null,
            "justify_items": null,
            "left": null,
            "margin": null,
            "max_height": null,
            "max_width": null,
            "min_height": null,
            "min_width": null,
            "object_fit": null,
            "object_position": null,
            "order": null,
            "overflow": null,
            "overflow_x": null,
            "overflow_y": null,
            "padding": null,
            "right": null,
            "top": null,
            "visibility": null,
            "width": null
          }
        },
        "2802a35075834b57a9d56c5b48a5be1b": {
          "model_module": "@jupyter-widgets/controls",
          "model_name": "DescriptionStyleModel",
          "model_module_version": "1.5.0",
          "state": {
            "_model_module": "@jupyter-widgets/controls",
            "_model_module_version": "1.5.0",
            "_model_name": "DescriptionStyleModel",
            "_view_count": null,
            "_view_module": "@jupyter-widgets/base",
            "_view_module_version": "1.2.0",
            "_view_name": "StyleView",
            "description_width": ""
          }
        },
        "b39b502bd9b34bf58abe42c45b94b6ab": {
          "model_module": "@jupyter-widgets/controls",
          "model_name": "HBoxModel",
          "model_module_version": "1.5.0",
          "state": {
            "_dom_classes": [],
            "_model_module": "@jupyter-widgets/controls",
            "_model_module_version": "1.5.0",
            "_model_name": "HBoxModel",
            "_view_count": null,
            "_view_module": "@jupyter-widgets/controls",
            "_view_module_version": "1.5.0",
            "_view_name": "HBoxView",
            "box_style": "",
            "children": [
              "IPY_MODEL_d9262c5f70db426fbd0a342896175bba",
              "IPY_MODEL_ad18492794ea4d4c93b8e759d30ae4e3",
              "IPY_MODEL_3b7ec94776eb475498d37769d5fcd827"
            ],
            "layout": "IPY_MODEL_806d008749bd4b299b6b7b40b3a5ff16"
          }
        },
        "d9262c5f70db426fbd0a342896175bba": {
          "model_module": "@jupyter-widgets/controls",
          "model_name": "HTMLModel",
          "model_module_version": "1.5.0",
          "state": {
            "_dom_classes": [],
            "_model_module": "@jupyter-widgets/controls",
            "_model_module_version": "1.5.0",
            "_model_name": "HTMLModel",
            "_view_count": null,
            "_view_module": "@jupyter-widgets/controls",
            "_view_module_version": "1.5.0",
            "_view_name": "HTMLView",
            "description": "",
            "description_tooltip": null,
            "layout": "IPY_MODEL_3f3d2b48c29d4d44ade24961a3d59a7b",
            "placeholder": "​",
            "style": "IPY_MODEL_ca967f2484be4158adb42fda85a09ce6",
            "value": "generation_config.json: 100%"
          }
        },
        "ad18492794ea4d4c93b8e759d30ae4e3": {
          "model_module": "@jupyter-widgets/controls",
          "model_name": "FloatProgressModel",
          "model_module_version": "1.5.0",
          "state": {
            "_dom_classes": [],
            "_model_module": "@jupyter-widgets/controls",
            "_model_module_version": "1.5.0",
            "_model_name": "FloatProgressModel",
            "_view_count": null,
            "_view_module": "@jupyter-widgets/controls",
            "_view_module_version": "1.5.0",
            "_view_name": "ProgressView",
            "bar_style": "success",
            "description": "",
            "description_tooltip": null,
            "layout": "IPY_MODEL_6c0b47398f964ae5ba25de72c4570b2e",
            "max": 138,
            "min": 0,
            "orientation": "horizontal",
            "style": "IPY_MODEL_d6af711565924d81b3d4f86d8293e563",
            "value": 138
          }
        },
        "3b7ec94776eb475498d37769d5fcd827": {
          "model_module": "@jupyter-widgets/controls",
          "model_name": "HTMLModel",
          "model_module_version": "1.5.0",
          "state": {
            "_dom_classes": [],
            "_model_module": "@jupyter-widgets/controls",
            "_model_module_version": "1.5.0",
            "_model_name": "HTMLModel",
            "_view_count": null,
            "_view_module": "@jupyter-widgets/controls",
            "_view_module_version": "1.5.0",
            "_view_name": "HTMLView",
            "description": "",
            "description_tooltip": null,
            "layout": "IPY_MODEL_c68771dfac45439fbc21b71a9c3b96e4",
            "placeholder": "​",
            "style": "IPY_MODEL_5278a4b43fca4c5d9fa03ff22977f0bc",
            "value": " 138/138 [00:00&lt;00:00, 7.17kB/s]"
          }
        },
        "806d008749bd4b299b6b7b40b3a5ff16": {
          "model_module": "@jupyter-widgets/base",
          "model_name": "LayoutModel",
          "model_module_version": "1.2.0",
          "state": {
            "_model_module": "@jupyter-widgets/base",
            "_model_module_version": "1.2.0",
            "_model_name": "LayoutModel",
            "_view_count": null,
            "_view_module": "@jupyter-widgets/base",
            "_view_module_version": "1.2.0",
            "_view_name": "LayoutView",
            "align_content": null,
            "align_items": null,
            "align_self": null,
            "border": null,
            "bottom": null,
            "display": null,
            "flex": null,
            "flex_flow": null,
            "grid_area": null,
            "grid_auto_columns": null,
            "grid_auto_flow": null,
            "grid_auto_rows": null,
            "grid_column": null,
            "grid_gap": null,
            "grid_row": null,
            "grid_template_areas": null,
            "grid_template_columns": null,
            "grid_template_rows": null,
            "height": null,
            "justify_content": null,
            "justify_items": null,
            "left": null,
            "margin": null,
            "max_height": null,
            "max_width": null,
            "min_height": null,
            "min_width": null,
            "object_fit": null,
            "object_position": null,
            "order": null,
            "overflow": null,
            "overflow_x": null,
            "overflow_y": null,
            "padding": null,
            "right": null,
            "top": null,
            "visibility": null,
            "width": null
          }
        },
        "3f3d2b48c29d4d44ade24961a3d59a7b": {
          "model_module": "@jupyter-widgets/base",
          "model_name": "LayoutModel",
          "model_module_version": "1.2.0",
          "state": {
            "_model_module": "@jupyter-widgets/base",
            "_model_module_version": "1.2.0",
            "_model_name": "LayoutModel",
            "_view_count": null,
            "_view_module": "@jupyter-widgets/base",
            "_view_module_version": "1.2.0",
            "_view_name": "LayoutView",
            "align_content": null,
            "align_items": null,
            "align_self": null,
            "border": null,
            "bottom": null,
            "display": null,
            "flex": null,
            "flex_flow": null,
            "grid_area": null,
            "grid_auto_columns": null,
            "grid_auto_flow": null,
            "grid_auto_rows": null,
            "grid_column": null,
            "grid_gap": null,
            "grid_row": null,
            "grid_template_areas": null,
            "grid_template_columns": null,
            "grid_template_rows": null,
            "height": null,
            "justify_content": null,
            "justify_items": null,
            "left": null,
            "margin": null,
            "max_height": null,
            "max_width": null,
            "min_height": null,
            "min_width": null,
            "object_fit": null,
            "object_position": null,
            "order": null,
            "overflow": null,
            "overflow_x": null,
            "overflow_y": null,
            "padding": null,
            "right": null,
            "top": null,
            "visibility": null,
            "width": null
          }
        },
        "ca967f2484be4158adb42fda85a09ce6": {
          "model_module": "@jupyter-widgets/controls",
          "model_name": "DescriptionStyleModel",
          "model_module_version": "1.5.0",
          "state": {
            "_model_module": "@jupyter-widgets/controls",
            "_model_module_version": "1.5.0",
            "_model_name": "DescriptionStyleModel",
            "_view_count": null,
            "_view_module": "@jupyter-widgets/base",
            "_view_module_version": "1.2.0",
            "_view_name": "StyleView",
            "description_width": ""
          }
        },
        "6c0b47398f964ae5ba25de72c4570b2e": {
          "model_module": "@jupyter-widgets/base",
          "model_name": "LayoutModel",
          "model_module_version": "1.2.0",
          "state": {
            "_model_module": "@jupyter-widgets/base",
            "_model_module_version": "1.2.0",
            "_model_name": "LayoutModel",
            "_view_count": null,
            "_view_module": "@jupyter-widgets/base",
            "_view_module_version": "1.2.0",
            "_view_name": "LayoutView",
            "align_content": null,
            "align_items": null,
            "align_self": null,
            "border": null,
            "bottom": null,
            "display": null,
            "flex": null,
            "flex_flow": null,
            "grid_area": null,
            "grid_auto_columns": null,
            "grid_auto_flow": null,
            "grid_auto_rows": null,
            "grid_column": null,
            "grid_gap": null,
            "grid_row": null,
            "grid_template_areas": null,
            "grid_template_columns": null,
            "grid_template_rows": null,
            "height": null,
            "justify_content": null,
            "justify_items": null,
            "left": null,
            "margin": null,
            "max_height": null,
            "max_width": null,
            "min_height": null,
            "min_width": null,
            "object_fit": null,
            "object_position": null,
            "order": null,
            "overflow": null,
            "overflow_x": null,
            "overflow_y": null,
            "padding": null,
            "right": null,
            "top": null,
            "visibility": null,
            "width": null
          }
        },
        "d6af711565924d81b3d4f86d8293e563": {
          "model_module": "@jupyter-widgets/controls",
          "model_name": "ProgressStyleModel",
          "model_module_version": "1.5.0",
          "state": {
            "_model_module": "@jupyter-widgets/controls",
            "_model_module_version": "1.5.0",
            "_model_name": "ProgressStyleModel",
            "_view_count": null,
            "_view_module": "@jupyter-widgets/base",
            "_view_module_version": "1.2.0",
            "_view_name": "StyleView",
            "bar_color": null,
            "description_width": ""
          }
        },
        "c68771dfac45439fbc21b71a9c3b96e4": {
          "model_module": "@jupyter-widgets/base",
          "model_name": "LayoutModel",
          "model_module_version": "1.2.0",
          "state": {
            "_model_module": "@jupyter-widgets/base",
            "_model_module_version": "1.2.0",
            "_model_name": "LayoutModel",
            "_view_count": null,
            "_view_module": "@jupyter-widgets/base",
            "_view_module_version": "1.2.0",
            "_view_name": "LayoutView",
            "align_content": null,
            "align_items": null,
            "align_self": null,
            "border": null,
            "bottom": null,
            "display": null,
            "flex": null,
            "flex_flow": null,
            "grid_area": null,
            "grid_auto_columns": null,
            "grid_auto_flow": null,
            "grid_auto_rows": null,
            "grid_column": null,
            "grid_gap": null,
            "grid_row": null,
            "grid_template_areas": null,
            "grid_template_columns": null,
            "grid_template_rows": null,
            "height": null,
            "justify_content": null,
            "justify_items": null,
            "left": null,
            "margin": null,
            "max_height": null,
            "max_width": null,
            "min_height": null,
            "min_width": null,
            "object_fit": null,
            "object_position": null,
            "order": null,
            "overflow": null,
            "overflow_x": null,
            "overflow_y": null,
            "padding": null,
            "right": null,
            "top": null,
            "visibility": null,
            "width": null
          }
        },
        "5278a4b43fca4c5d9fa03ff22977f0bc": {
          "model_module": "@jupyter-widgets/controls",
          "model_name": "DescriptionStyleModel",
          "model_module_version": "1.5.0",
          "state": {
            "_model_module": "@jupyter-widgets/controls",
            "_model_module_version": "1.5.0",
            "_model_name": "DescriptionStyleModel",
            "_view_count": null,
            "_view_module": "@jupyter-widgets/base",
            "_view_module_version": "1.2.0",
            "_view_name": "StyleView",
            "description_width": ""
          }
        }
      }
    }
  },
  "cells": [
    {
      "cell_type": "markdown",
      "metadata": {
        "id": "view-in-github",
        "colab_type": "text"
      },
      "source": [
        "<a href=\"https://colab.research.google.com/github/DayDreamChaser/llm-todo/blob/main/LLM/LLaMA_Factory_Tutorial.ipynb\" target=\"_parent\"><img src=\"https://colab.research.google.com/assets/colab-badge.svg\" alt=\"Open In Colab\"/></a>"
      ]
    },
    {
      "cell_type": "markdown",
      "source": [
        "# LLaMA Factory Colab Tutorial\n",
        "\n",
        "Please use a **free** Tesla T4 Colab GPU to run this!\n",
        "\n",
        "Project homepage: https://github.com/hiyouga/LLaMA-Factory"
      ],
      "metadata": {
        "id": "1oHFCsV0z-Jw"
      }
    },
    {
      "cell_type": "markdown",
      "source": [
        "## Install Dependencies"
      ],
      "metadata": {
        "id": "lr7rB3szzhtx"
      }
    },
    {
      "cell_type": "code",
      "execution_count": 1,
      "metadata": {
        "id": "giM74oK1rRIH",
        "colab": {
          "base_uri": "https://localhost:8080/"
        },
        "outputId": "9cdd0e96-90f9-4923-bc10-347b7c4677ec"
      },
      "outputs": [
        {
          "output_type": "stream",
          "name": "stdout",
          "text": [
            "Cloning into 'LLaMA-Factory'...\n",
            "remote: Enumerating objects: 9539, done.\u001b[K\n",
            "remote: Counting objects: 100% (2942/2942), done.\u001b[K\n",
            "remote: Compressing objects: 100% (435/435), done.\u001b[K\n",
            "remote: Total 9539 (delta 2706), reused 2533 (delta 2507), pack-reused 6597\u001b[K\n",
            "Receiving objects: 100% (9539/9539), 213.20 MiB | 20.22 MiB/s, done.\n",
            "Resolving deltas: 100% (7049/7049), done.\n",
            "Updating files: 100% (194/194), done.\n",
            "/content/LLaMA-Factory\n",
            "\u001b[0m\u001b[01;34massets\u001b[0m/       docker-compose.yml  \u001b[01;34mexamples\u001b[0m/  pyproject.toml  requirements.txt  \u001b[01;34msrc\u001b[0m/\n",
            "CITATION.cff  Dockerfile          LICENSE    README.md       \u001b[01;34mscripts\u001b[0m/          \u001b[01;34mtests\u001b[0m/\n",
            "\u001b[01;34mdata\u001b[0m/         \u001b[01;34mevaluation\u001b[0m/         Makefile   README_zh.md    setup.py\n",
            "Processing /content/LLaMA-Factory\n",
            "  Installing build dependencies ... \u001b[?25l\u001b[?25hdone\n",
            "  Getting requirements to build wheel ... \u001b[?25l\u001b[?25hdone\n",
            "  Installing backend dependencies ... \u001b[?25l\u001b[?25hdone\n",
            "  Preparing metadata (pyproject.toml) ... \u001b[?25l\u001b[?25hdone\n",
            "Requirement already satisfied: torch>=1.13.1 in /usr/local/lib/python3.10/dist-packages (from llmtuner==0.6.3.dev0) (2.2.1+cu121)\n",
            "Requirement already satisfied: transformers>=4.37.2 in /usr/local/lib/python3.10/dist-packages (from llmtuner==0.6.3.dev0) (4.38.2)\n",
            "Collecting datasets>=2.14.3 (from llmtuner==0.6.3.dev0)\n",
            "  Downloading datasets-2.18.0-py3-none-any.whl (510 kB)\n",
            "\u001b[2K     \u001b[90m━━━━━━━━━━━━━━━━━━━━━━━━━━━━━━━━━━━━━━━━\u001b[0m \u001b[32m510.5/510.5 kB\u001b[0m \u001b[31m8.5 MB/s\u001b[0m eta \u001b[36m0:00:00\u001b[0m\n",
            "\u001b[?25hCollecting accelerate>=0.27.2 (from llmtuner==0.6.3.dev0)\n",
            "  Downloading accelerate-0.29.3-py3-none-any.whl (297 kB)\n",
            "\u001b[2K     \u001b[90m━━━━━━━━━━━━━━━━━━━━━━━━━━━━━━━━━━━━━━━━\u001b[0m \u001b[32m297.6/297.6 kB\u001b[0m \u001b[31m12.8 MB/s\u001b[0m eta \u001b[36m0:00:00\u001b[0m\n",
            "\u001b[?25hCollecting peft>=0.10.0 (from llmtuner==0.6.3.dev0)\n",
            "  Downloading peft-0.10.0-py3-none-any.whl (199 kB)\n",
            "\u001b[2K     \u001b[90m━━━━━━━━━━━━━━━━━━━━━━━━━━━━━━━━━━━━━━━━\u001b[0m \u001b[32m199.1/199.1 kB\u001b[0m \u001b[31m13.5 MB/s\u001b[0m eta \u001b[36m0:00:00\u001b[0m\n",
            "\u001b[?25hCollecting trl>=0.8.1 (from llmtuner==0.6.3.dev0)\n",
            "  Downloading trl-0.8.5-py3-none-any.whl (245 kB)\n",
            "\u001b[2K     \u001b[90m━━━━━━━━━━━━━━━━━━━━━━━━━━━━━━━━━━━━━━━━\u001b[0m \u001b[32m245.1/245.1 kB\u001b[0m \u001b[31m10.8 MB/s\u001b[0m eta \u001b[36m0:00:00\u001b[0m\n",
            "\u001b[?25hCollecting gradio>=4.0.0 (from llmtuner==0.6.3.dev0)\n",
            "  Downloading gradio-4.26.0-py3-none-any.whl (17.1 MB)\n",
            "\u001b[2K     \u001b[90m━━━━━━━━━━━━━━━━━━━━━━━━━━━━━━━━━━━━━━━━\u001b[0m \u001b[32m17.1/17.1 MB\u001b[0m \u001b[31m68.4 MB/s\u001b[0m eta \u001b[36m0:00:00\u001b[0m\n",
            "\u001b[?25hRequirement already satisfied: scipy in /usr/local/lib/python3.10/dist-packages (from llmtuner==0.6.3.dev0) (1.11.4)\n",
            "Collecting einops (from llmtuner==0.6.3.dev0)\n",
            "  Downloading einops-0.7.0-py3-none-any.whl (44 kB)\n",
            "\u001b[2K     \u001b[90m━━━━━━━━━━━━━━━━━━━━━━━━━━━━━━━━━━━━━━━━\u001b[0m \u001b[32m44.6/44.6 kB\u001b[0m \u001b[31m6.4 MB/s\u001b[0m eta \u001b[36m0:00:00\u001b[0m\n",
            "\u001b[?25hRequirement already satisfied: sentencepiece in /usr/local/lib/python3.10/dist-packages (from llmtuner==0.6.3.dev0) (0.1.99)\n",
            "Requirement already satisfied: protobuf in /usr/local/lib/python3.10/dist-packages (from llmtuner==0.6.3.dev0) (3.20.3)\n",
            "Collecting uvicorn (from llmtuner==0.6.3.dev0)\n",
            "  Downloading uvicorn-0.29.0-py3-none-any.whl (60 kB)\n",
            "\u001b[2K     \u001b[90m━━━━━━━━━━━━━━━━━━━━━━━━━━━━━━━━━━━━━━━━\u001b[0m \u001b[32m60.8/60.8 kB\u001b[0m \u001b[31m8.5 MB/s\u001b[0m eta \u001b[36m0:00:00\u001b[0m\n",
            "\u001b[?25hRequirement already satisfied: pydantic in /usr/local/lib/python3.10/dist-packages (from llmtuner==0.6.3.dev0) (2.6.4)\n",
            "Collecting fastapi (from llmtuner==0.6.3.dev0)\n",
            "  Downloading fastapi-0.110.1-py3-none-any.whl (91 kB)\n",
            "\u001b[2K     \u001b[90m━━━━━━━━━━━━━━━━━━━━━━━━━━━━━━━━━━━━━━━━\u001b[0m \u001b[32m91.9/91.9 kB\u001b[0m \u001b[31m12.7 MB/s\u001b[0m eta \u001b[36m0:00:00\u001b[0m\n",
            "\u001b[?25hCollecting sse-starlette (from llmtuner==0.6.3.dev0)\n",
            "  Downloading sse_starlette-2.1.0-py3-none-any.whl (9.2 kB)\n",
            "Requirement already satisfied: matplotlib in /usr/local/lib/python3.10/dist-packages (from llmtuner==0.6.3.dev0) (3.7.1)\n",
            "Collecting fire (from llmtuner==0.6.3.dev0)\n",
            "  Downloading fire-0.6.0.tar.gz (88 kB)\n",
            "\u001b[2K     \u001b[90m━━━━━━━━━━━━━━━━━━━━━━━━━━━━━━━━━━━━━━━━\u001b[0m \u001b[32m88.4/88.4 kB\u001b[0m \u001b[31m14.5 MB/s\u001b[0m eta \u001b[36m0:00:00\u001b[0m\n",
            "\u001b[?25h  Preparing metadata (setup.py) ... \u001b[?25l\u001b[?25hdone\n",
            "Requirement already satisfied: numpy>=1.17 in /usr/local/lib/python3.10/dist-packages (from accelerate>=0.27.2->llmtuner==0.6.3.dev0) (1.25.2)\n",
            "Requirement already satisfied: packaging>=20.0 in /usr/local/lib/python3.10/dist-packages (from accelerate>=0.27.2->llmtuner==0.6.3.dev0) (24.0)\n",
            "Requirement already satisfied: psutil in /usr/local/lib/python3.10/dist-packages (from accelerate>=0.27.2->llmtuner==0.6.3.dev0) (5.9.5)\n",
            "Requirement already satisfied: pyyaml in /usr/local/lib/python3.10/dist-packages (from accelerate>=0.27.2->llmtuner==0.6.3.dev0) (6.0.1)\n",
            "Requirement already satisfied: huggingface-hub in /usr/local/lib/python3.10/dist-packages (from accelerate>=0.27.2->llmtuner==0.6.3.dev0) (0.20.3)\n",
            "Requirement already satisfied: safetensors>=0.3.1 in /usr/local/lib/python3.10/dist-packages (from accelerate>=0.27.2->llmtuner==0.6.3.dev0) (0.4.2)\n",
            "Requirement already satisfied: filelock in /usr/local/lib/python3.10/dist-packages (from datasets>=2.14.3->llmtuner==0.6.3.dev0) (3.13.4)\n",
            "Requirement already satisfied: pyarrow>=12.0.0 in /usr/local/lib/python3.10/dist-packages (from datasets>=2.14.3->llmtuner==0.6.3.dev0) (14.0.2)\n",
            "Requirement already satisfied: pyarrow-hotfix in /usr/local/lib/python3.10/dist-packages (from datasets>=2.14.3->llmtuner==0.6.3.dev0) (0.6)\n",
            "Collecting dill<0.3.9,>=0.3.0 (from datasets>=2.14.3->llmtuner==0.6.3.dev0)\n",
            "  Downloading dill-0.3.8-py3-none-any.whl (116 kB)\n",
            "\u001b[2K     \u001b[90m━━━━━━━━━━━━━━━━━━━━━━━━━━━━━━━━━━━━━━━━\u001b[0m \u001b[32m116.3/116.3 kB\u001b[0m \u001b[31m17.5 MB/s\u001b[0m eta \u001b[36m0:00:00\u001b[0m\n",
            "\u001b[?25hRequirement already satisfied: pandas in /usr/local/lib/python3.10/dist-packages (from datasets>=2.14.3->llmtuner==0.6.3.dev0) (2.0.3)\n",
            "Requirement already satisfied: requests>=2.19.0 in /usr/local/lib/python3.10/dist-packages (from datasets>=2.14.3->llmtuner==0.6.3.dev0) (2.31.0)\n",
            "Requirement already satisfied: tqdm>=4.62.1 in /usr/local/lib/python3.10/dist-packages (from datasets>=2.14.3->llmtuner==0.6.3.dev0) (4.66.2)\n",
            "Collecting xxhash (from datasets>=2.14.3->llmtuner==0.6.3.dev0)\n",
            "  Downloading xxhash-3.4.1-cp310-cp310-manylinux_2_17_x86_64.manylinux2014_x86_64.whl (194 kB)\n",
            "\u001b[2K     \u001b[90m━━━━━━━━━━━━━━━━━━━━━━━━━━━━━━━━━━━━━━━━\u001b[0m \u001b[32m194.1/194.1 kB\u001b[0m \u001b[31m26.8 MB/s\u001b[0m eta \u001b[36m0:00:00\u001b[0m\n",
            "\u001b[?25hCollecting multiprocess (from datasets>=2.14.3->llmtuner==0.6.3.dev0)\n",
            "  Downloading multiprocess-0.70.16-py310-none-any.whl (134 kB)\n",
            "\u001b[2K     \u001b[90m━━━━━━━━━━━━━━━━━━━━━━━━━━━━━━━━━━━━━━━━\u001b[0m \u001b[32m134.8/134.8 kB\u001b[0m \u001b[31m20.3 MB/s\u001b[0m eta \u001b[36m0:00:00\u001b[0m\n",
            "\u001b[?25hRequirement already satisfied: fsspec[http]<=2024.2.0,>=2023.1.0 in /usr/local/lib/python3.10/dist-packages (from datasets>=2.14.3->llmtuner==0.6.3.dev0) (2023.6.0)\n",
            "Requirement already satisfied: aiohttp in /usr/local/lib/python3.10/dist-packages (from datasets>=2.14.3->llmtuner==0.6.3.dev0) (3.9.3)\n",
            "Collecting aiofiles<24.0,>=22.0 (from gradio>=4.0.0->llmtuner==0.6.3.dev0)\n",
            "  Downloading aiofiles-23.2.1-py3-none-any.whl (15 kB)\n",
            "Requirement already satisfied: altair<6.0,>=4.2.0 in /usr/local/lib/python3.10/dist-packages (from gradio>=4.0.0->llmtuner==0.6.3.dev0) (4.2.2)\n",
            "Collecting ffmpy (from gradio>=4.0.0->llmtuner==0.6.3.dev0)\n",
            "  Downloading ffmpy-0.3.2.tar.gz (5.5 kB)\n",
            "  Preparing metadata (setup.py) ... \u001b[?25l\u001b[?25hdone\n",
            "Collecting gradio-client==0.15.1 (from gradio>=4.0.0->llmtuner==0.6.3.dev0)\n",
            "  Downloading gradio_client-0.15.1-py3-none-any.whl (313 kB)\n",
            "\u001b[2K     \u001b[90m━━━━━━━━━━━━━━━━━━━━━━━━━━━━━━━━━━━━━━━━\u001b[0m \u001b[32m313.6/313.6 kB\u001b[0m \u001b[31m33.7 MB/s\u001b[0m eta \u001b[36m0:00:00\u001b[0m\n",
            "\u001b[?25hCollecting httpx>=0.24.1 (from gradio>=4.0.0->llmtuner==0.6.3.dev0)\n",
            "  Downloading httpx-0.27.0-py3-none-any.whl (75 kB)\n",
            "\u001b[2K     \u001b[90m━━━━━━━━━━━━━━━━━━━━━━━━━━━━━━━━━━━━━━━━\u001b[0m \u001b[32m75.6/75.6 kB\u001b[0m \u001b[31m11.2 MB/s\u001b[0m eta \u001b[36m0:00:00\u001b[0m\n",
            "\u001b[?25hRequirement already satisfied: importlib-resources<7.0,>=1.3 in /usr/local/lib/python3.10/dist-packages (from gradio>=4.0.0->llmtuner==0.6.3.dev0) (6.4.0)\n",
            "Requirement already satisfied: jinja2<4.0 in /usr/local/lib/python3.10/dist-packages (from gradio>=4.0.0->llmtuner==0.6.3.dev0) (3.1.3)\n",
            "Requirement already satisfied: markupsafe~=2.0 in /usr/local/lib/python3.10/dist-packages (from gradio>=4.0.0->llmtuner==0.6.3.dev0) (2.1.5)\n",
            "Collecting orjson~=3.0 (from gradio>=4.0.0->llmtuner==0.6.3.dev0)\n",
            "  Downloading orjson-3.10.1-cp310-cp310-manylinux_2_17_x86_64.manylinux2014_x86_64.whl (141 kB)\n",
            "\u001b[2K     \u001b[90m━━━━━━━━━━━━━━━━━━━━━━━━━━━━━━━━━━━━━━━━\u001b[0m \u001b[32m141.1/141.1 kB\u001b[0m \u001b[31m19.2 MB/s\u001b[0m eta \u001b[36m0:00:00\u001b[0m\n",
            "\u001b[?25hRequirement already satisfied: pillow<11.0,>=8.0 in /usr/local/lib/python3.10/dist-packages (from gradio>=4.0.0->llmtuner==0.6.3.dev0) (9.4.0)\n",
            "Collecting pydub (from gradio>=4.0.0->llmtuner==0.6.3.dev0)\n",
            "  Downloading pydub-0.25.1-py2.py3-none-any.whl (32 kB)\n",
            "Collecting python-multipart>=0.0.9 (from gradio>=4.0.0->llmtuner==0.6.3.dev0)\n",
            "  Downloading python_multipart-0.0.9-py3-none-any.whl (22 kB)\n",
            "Collecting ruff>=0.2.2 (from gradio>=4.0.0->llmtuner==0.6.3.dev0)\n",
            "  Downloading ruff-0.3.7-py3-none-manylinux_2_17_x86_64.manylinux2014_x86_64.whl (8.9 MB)\n",
            "\u001b[2K     \u001b[90m━━━━━━━━━━━━━━━━━━━━━━━━━━━━━━━━━━━━━━━━\u001b[0m \u001b[32m8.9/8.9 MB\u001b[0m \u001b[31m68.2 MB/s\u001b[0m eta \u001b[36m0:00:00\u001b[0m\n",
            "\u001b[?25hCollecting semantic-version~=2.0 (from gradio>=4.0.0->llmtuner==0.6.3.dev0)\n",
            "  Downloading semantic_version-2.10.0-py2.py3-none-any.whl (15 kB)\n",
            "Collecting tomlkit==0.12.0 (from gradio>=4.0.0->llmtuner==0.6.3.dev0)\n",
            "  Downloading tomlkit-0.12.0-py3-none-any.whl (37 kB)\n",
            "Requirement already satisfied: typer[all]<1.0,>=0.9 in /usr/local/lib/python3.10/dist-packages (from gradio>=4.0.0->llmtuner==0.6.3.dev0) (0.9.4)\n",
            "Requirement already satisfied: typing-extensions~=4.0 in /usr/local/lib/python3.10/dist-packages (from gradio>=4.0.0->llmtuner==0.6.3.dev0) (4.11.0)\n",
            "Collecting websockets<12.0,>=10.0 (from gradio-client==0.15.1->gradio>=4.0.0->llmtuner==0.6.3.dev0)\n",
            "  Downloading websockets-11.0.3-cp310-cp310-manylinux_2_5_x86_64.manylinux1_x86_64.manylinux_2_17_x86_64.manylinux2014_x86_64.whl (129 kB)\n",
            "\u001b[2K     \u001b[90m━━━━━━━━━━━━━━━━━━━━━━━━━━━━━━━━━━━━━━━━\u001b[0m \u001b[32m129.9/129.9 kB\u001b[0m \u001b[31m16.3 MB/s\u001b[0m eta \u001b[36m0:00:00\u001b[0m\n",
            "\u001b[?25hRequirement already satisfied: contourpy>=1.0.1 in /usr/local/lib/python3.10/dist-packages (from matplotlib->llmtuner==0.6.3.dev0) (1.2.1)\n",
            "Requirement already satisfied: cycler>=0.10 in /usr/local/lib/python3.10/dist-packages (from matplotlib->llmtuner==0.6.3.dev0) (0.12.1)\n",
            "Requirement already satisfied: fonttools>=4.22.0 in /usr/local/lib/python3.10/dist-packages (from matplotlib->llmtuner==0.6.3.dev0) (4.51.0)\n",
            "Requirement already satisfied: kiwisolver>=1.0.1 in /usr/local/lib/python3.10/dist-packages (from matplotlib->llmtuner==0.6.3.dev0) (1.4.5)\n",
            "Requirement already satisfied: pyparsing>=2.3.1 in /usr/local/lib/python3.10/dist-packages (from matplotlib->llmtuner==0.6.3.dev0) (3.1.2)\n",
            "Requirement already satisfied: python-dateutil>=2.7 in /usr/local/lib/python3.10/dist-packages (from matplotlib->llmtuner==0.6.3.dev0) (2.8.2)\n",
            "Requirement already satisfied: annotated-types>=0.4.0 in /usr/local/lib/python3.10/dist-packages (from pydantic->llmtuner==0.6.3.dev0) (0.6.0)\n",
            "Requirement already satisfied: pydantic-core==2.16.3 in /usr/local/lib/python3.10/dist-packages (from pydantic->llmtuner==0.6.3.dev0) (2.16.3)\n",
            "Requirement already satisfied: sympy in /usr/local/lib/python3.10/dist-packages (from torch>=1.13.1->llmtuner==0.6.3.dev0) (1.12)\n",
            "Requirement already satisfied: networkx in /usr/local/lib/python3.10/dist-packages (from torch>=1.13.1->llmtuner==0.6.3.dev0) (3.3)\n",
            "Collecting nvidia-cuda-nvrtc-cu12==12.1.105 (from torch>=1.13.1->llmtuner==0.6.3.dev0)\n",
            "  Using cached nvidia_cuda_nvrtc_cu12-12.1.105-py3-none-manylinux1_x86_64.whl (23.7 MB)\n",
            "Collecting nvidia-cuda-runtime-cu12==12.1.105 (from torch>=1.13.1->llmtuner==0.6.3.dev0)\n",
            "  Using cached nvidia_cuda_runtime_cu12-12.1.105-py3-none-manylinux1_x86_64.whl (823 kB)\n",
            "Collecting nvidia-cuda-cupti-cu12==12.1.105 (from torch>=1.13.1->llmtuner==0.6.3.dev0)\n",
            "  Using cached nvidia_cuda_cupti_cu12-12.1.105-py3-none-manylinux1_x86_64.whl (14.1 MB)\n",
            "Collecting nvidia-cudnn-cu12==8.9.2.26 (from torch>=1.13.1->llmtuner==0.6.3.dev0)\n",
            "  Using cached nvidia_cudnn_cu12-8.9.2.26-py3-none-manylinux1_x86_64.whl (731.7 MB)\n",
            "Collecting nvidia-cublas-cu12==12.1.3.1 (from torch>=1.13.1->llmtuner==0.6.3.dev0)\n",
            "  Using cached nvidia_cublas_cu12-12.1.3.1-py3-none-manylinux1_x86_64.whl (410.6 MB)\n",
            "Collecting nvidia-cufft-cu12==11.0.2.54 (from torch>=1.13.1->llmtuner==0.6.3.dev0)\n",
            "  Using cached nvidia_cufft_cu12-11.0.2.54-py3-none-manylinux1_x86_64.whl (121.6 MB)\n",
            "Collecting nvidia-curand-cu12==10.3.2.106 (from torch>=1.13.1->llmtuner==0.6.3.dev0)\n",
            "  Using cached nvidia_curand_cu12-10.3.2.106-py3-none-manylinux1_x86_64.whl (56.5 MB)\n",
            "Collecting nvidia-cusolver-cu12==11.4.5.107 (from torch>=1.13.1->llmtuner==0.6.3.dev0)\n",
            "  Using cached nvidia_cusolver_cu12-11.4.5.107-py3-none-manylinux1_x86_64.whl (124.2 MB)\n",
            "Collecting nvidia-cusparse-cu12==12.1.0.106 (from torch>=1.13.1->llmtuner==0.6.3.dev0)\n",
            "  Using cached nvidia_cusparse_cu12-12.1.0.106-py3-none-manylinux1_x86_64.whl (196.0 MB)\n",
            "Collecting nvidia-nccl-cu12==2.19.3 (from torch>=1.13.1->llmtuner==0.6.3.dev0)\n",
            "  Using cached nvidia_nccl_cu12-2.19.3-py3-none-manylinux1_x86_64.whl (166.0 MB)\n",
            "Collecting nvidia-nvtx-cu12==12.1.105 (from torch>=1.13.1->llmtuner==0.6.3.dev0)\n",
            "  Using cached nvidia_nvtx_cu12-12.1.105-py3-none-manylinux1_x86_64.whl (99 kB)\n",
            "Requirement already satisfied: triton==2.2.0 in /usr/local/lib/python3.10/dist-packages (from torch>=1.13.1->llmtuner==0.6.3.dev0) (2.2.0)\n",
            "Collecting nvidia-nvjitlink-cu12 (from nvidia-cusolver-cu12==11.4.5.107->torch>=1.13.1->llmtuner==0.6.3.dev0)\n",
            "  Using cached nvidia_nvjitlink_cu12-12.4.127-py3-none-manylinux2014_x86_64.whl (21.1 MB)\n",
            "Requirement already satisfied: regex!=2019.12.17 in /usr/local/lib/python3.10/dist-packages (from transformers>=4.37.2->llmtuner==0.6.3.dev0) (2023.12.25)\n",
            "Requirement already satisfied: tokenizers<0.19,>=0.14 in /usr/local/lib/python3.10/dist-packages (from transformers>=4.37.2->llmtuner==0.6.3.dev0) (0.15.2)\n",
            "Collecting tyro>=0.5.11 (from trl>=0.8.1->llmtuner==0.6.3.dev0)\n",
            "  Downloading tyro-0.8.3-py3-none-any.whl (102 kB)\n",
            "\u001b[2K     \u001b[90m━━━━━━━━━━━━━━━━━━━━━━━━━━━━━━━━━━━━━━━━\u001b[0m \u001b[32m102.0/102.0 kB\u001b[0m \u001b[31m13.7 MB/s\u001b[0m eta \u001b[36m0:00:00\u001b[0m\n",
            "\u001b[?25hRequirement already satisfied: click>=7.0 in /usr/local/lib/python3.10/dist-packages (from uvicorn->llmtuner==0.6.3.dev0) (8.1.7)\n",
            "Collecting h11>=0.8 (from uvicorn->llmtuner==0.6.3.dev0)\n",
            "  Downloading h11-0.14.0-py3-none-any.whl (58 kB)\n",
            "\u001b[2K     \u001b[90m━━━━━━━━━━━━━━━━━━━━━━━━━━━━━━━━━━━━━━━━\u001b[0m \u001b[32m58.3/58.3 kB\u001b[0m \u001b[31m9.6 MB/s\u001b[0m eta \u001b[36m0:00:00\u001b[0m\n",
            "\u001b[?25hCollecting starlette<0.38.0,>=0.37.2 (from fastapi->llmtuner==0.6.3.dev0)\n",
            "  Downloading starlette-0.37.2-py3-none-any.whl (71 kB)\n",
            "\u001b[2K     \u001b[90m━━━━━━━━━━━━━━━━━━━━━━━━━━━━━━━━━━━━━━━━\u001b[0m \u001b[32m71.9/71.9 kB\u001b[0m \u001b[31m10.6 MB/s\u001b[0m eta \u001b[36m0:00:00\u001b[0m\n",
            "\u001b[?25hRequirement already satisfied: six in /usr/local/lib/python3.10/dist-packages (from fire->llmtuner==0.6.3.dev0) (1.16.0)\n",
            "Requirement already satisfied: termcolor in /usr/local/lib/python3.10/dist-packages (from fire->llmtuner==0.6.3.dev0) (2.4.0)\n",
            "Requirement already satisfied: anyio in /usr/local/lib/python3.10/dist-packages (from sse-starlette->llmtuner==0.6.3.dev0) (3.7.1)\n",
            "Requirement already satisfied: entrypoints in /usr/local/lib/python3.10/dist-packages (from altair<6.0,>=4.2.0->gradio>=4.0.0->llmtuner==0.6.3.dev0) (0.4)\n",
            "Requirement already satisfied: jsonschema>=3.0 in /usr/local/lib/python3.10/dist-packages (from altair<6.0,>=4.2.0->gradio>=4.0.0->llmtuner==0.6.3.dev0) (4.19.2)\n",
            "Requirement already satisfied: toolz in /usr/local/lib/python3.10/dist-packages (from altair<6.0,>=4.2.0->gradio>=4.0.0->llmtuner==0.6.3.dev0) (0.12.1)\n",
            "Requirement already satisfied: aiosignal>=1.1.2 in /usr/local/lib/python3.10/dist-packages (from aiohttp->datasets>=2.14.3->llmtuner==0.6.3.dev0) (1.3.1)\n",
            "Requirement already satisfied: attrs>=17.3.0 in /usr/local/lib/python3.10/dist-packages (from aiohttp->datasets>=2.14.3->llmtuner==0.6.3.dev0) (23.2.0)\n",
            "Requirement already satisfied: frozenlist>=1.1.1 in /usr/local/lib/python3.10/dist-packages (from aiohttp->datasets>=2.14.3->llmtuner==0.6.3.dev0) (1.4.1)\n",
            "Requirement already satisfied: multidict<7.0,>=4.5 in /usr/local/lib/python3.10/dist-packages (from aiohttp->datasets>=2.14.3->llmtuner==0.6.3.dev0) (6.0.5)\n",
            "Requirement already satisfied: yarl<2.0,>=1.0 in /usr/local/lib/python3.10/dist-packages (from aiohttp->datasets>=2.14.3->llmtuner==0.6.3.dev0) (1.9.4)\n",
            "Requirement already satisfied: async-timeout<5.0,>=4.0 in /usr/local/lib/python3.10/dist-packages (from aiohttp->datasets>=2.14.3->llmtuner==0.6.3.dev0) (4.0.3)\n",
            "Requirement already satisfied: certifi in /usr/local/lib/python3.10/dist-packages (from httpx>=0.24.1->gradio>=4.0.0->llmtuner==0.6.3.dev0) (2024.2.2)\n",
            "Collecting httpcore==1.* (from httpx>=0.24.1->gradio>=4.0.0->llmtuner==0.6.3.dev0)\n",
            "  Downloading httpcore-1.0.5-py3-none-any.whl (77 kB)\n",
            "\u001b[2K     \u001b[90m━━━━━━━━━━━━━━━━━━━━━━━━━━━━━━━━━━━━━━━━\u001b[0m \u001b[32m77.9/77.9 kB\u001b[0m \u001b[31m11.8 MB/s\u001b[0m eta \u001b[36m0:00:00\u001b[0m\n",
            "\u001b[?25hRequirement already satisfied: idna in /usr/local/lib/python3.10/dist-packages (from httpx>=0.24.1->gradio>=4.0.0->llmtuner==0.6.3.dev0) (3.6)\n",
            "Requirement already satisfied: sniffio in /usr/local/lib/python3.10/dist-packages (from httpx>=0.24.1->gradio>=4.0.0->llmtuner==0.6.3.dev0) (1.3.1)\n",
            "Requirement already satisfied: pytz>=2020.1 in /usr/local/lib/python3.10/dist-packages (from pandas->datasets>=2.14.3->llmtuner==0.6.3.dev0) (2023.4)\n",
            "Requirement already satisfied: tzdata>=2022.1 in /usr/local/lib/python3.10/dist-packages (from pandas->datasets>=2.14.3->llmtuner==0.6.3.dev0) (2024.1)\n",
            "Requirement already satisfied: charset-normalizer<4,>=2 in /usr/local/lib/python3.10/dist-packages (from requests>=2.19.0->datasets>=2.14.3->llmtuner==0.6.3.dev0) (3.3.2)\n",
            "Requirement already satisfied: urllib3<3,>=1.21.1 in /usr/local/lib/python3.10/dist-packages (from requests>=2.19.0->datasets>=2.14.3->llmtuner==0.6.3.dev0) (2.0.7)\n",
            "Requirement already satisfied: exceptiongroup in /usr/local/lib/python3.10/dist-packages (from anyio->sse-starlette->llmtuner==0.6.3.dev0) (1.2.0)\n",
            "Collecting colorama<0.5.0,>=0.4.3 (from typer[all]<1.0,>=0.9->gradio>=4.0.0->llmtuner==0.6.3.dev0)\n",
            "  Downloading colorama-0.4.6-py2.py3-none-any.whl (25 kB)\n",
            "Collecting shellingham<2.0.0,>=1.3.0 (from typer[all]<1.0,>=0.9->gradio>=4.0.0->llmtuner==0.6.3.dev0)\n",
            "  Downloading shellingham-1.5.4-py2.py3-none-any.whl (9.8 kB)\n",
            "Requirement already satisfied: rich<14.0.0,>=10.11.0 in /usr/local/lib/python3.10/dist-packages (from typer[all]<1.0,>=0.9->gradio>=4.0.0->llmtuner==0.6.3.dev0) (13.7.1)\n",
            "Requirement already satisfied: docstring-parser>=0.14.1 in /usr/local/lib/python3.10/dist-packages (from tyro>=0.5.11->trl>=0.8.1->llmtuner==0.6.3.dev0) (0.16)\n",
            "Collecting shtab>=1.5.6 (from tyro>=0.5.11->trl>=0.8.1->llmtuner==0.6.3.dev0)\n",
            "  Downloading shtab-1.7.1-py3-none-any.whl (14 kB)\n",
            "Requirement already satisfied: mpmath>=0.19 in /usr/local/lib/python3.10/dist-packages (from sympy->torch>=1.13.1->llmtuner==0.6.3.dev0) (1.3.0)\n",
            "Requirement already satisfied: jsonschema-specifications>=2023.03.6 in /usr/local/lib/python3.10/dist-packages (from jsonschema>=3.0->altair<6.0,>=4.2.0->gradio>=4.0.0->llmtuner==0.6.3.dev0) (2023.12.1)\n",
            "Requirement already satisfied: referencing>=0.28.4 in /usr/local/lib/python3.10/dist-packages (from jsonschema>=3.0->altair<6.0,>=4.2.0->gradio>=4.0.0->llmtuner==0.6.3.dev0) (0.34.0)\n",
            "Requirement already satisfied: rpds-py>=0.7.1 in /usr/local/lib/python3.10/dist-packages (from jsonschema>=3.0->altair<6.0,>=4.2.0->gradio>=4.0.0->llmtuner==0.6.3.dev0) (0.18.0)\n",
            "Requirement already satisfied: markdown-it-py>=2.2.0 in /usr/local/lib/python3.10/dist-packages (from rich<14.0.0,>=10.11.0->typer[all]<1.0,>=0.9->gradio>=4.0.0->llmtuner==0.6.3.dev0) (3.0.0)\n",
            "Requirement already satisfied: pygments<3.0.0,>=2.13.0 in /usr/local/lib/python3.10/dist-packages (from rich<14.0.0,>=10.11.0->typer[all]<1.0,>=0.9->gradio>=4.0.0->llmtuner==0.6.3.dev0) (2.16.1)\n",
            "Requirement already satisfied: mdurl~=0.1 in /usr/local/lib/python3.10/dist-packages (from markdown-it-py>=2.2.0->rich<14.0.0,>=10.11.0->typer[all]<1.0,>=0.9->gradio>=4.0.0->llmtuner==0.6.3.dev0) (0.1.2)\n",
            "Building wheels for collected packages: llmtuner, fire, ffmpy\n",
            "  Building wheel for llmtuner (pyproject.toml) ... \u001b[?25l\u001b[?25hdone\n",
            "  Created wheel for llmtuner: filename=llmtuner-0.6.3.dev0-py3-none-any.whl size=144466 sha256=4ad88164cb82e777945665bf73076dfc1ee9cf66e74bab7d705f740b86efa9bd\n",
            "  Stored in directory: /root/.cache/pip/wheels/de/aa/c5/27b5682c5592b7c0eecc3e208f176dedf6b11a61cf2a910b85\n",
            "  Building wheel for fire (setup.py) ... \u001b[?25l\u001b[?25hdone\n",
            "  Created wheel for fire: filename=fire-0.6.0-py2.py3-none-any.whl size=117029 sha256=5725d32835cc353bf4b9f514a8ece6f8f0630df05a97648a8e9f72002a0a4f87\n",
            "  Stored in directory: /root/.cache/pip/wheels/d6/6d/5d/5b73fa0f46d01a793713f8859201361e9e581ced8c75e5c6a3\n",
            "  Building wheel for ffmpy (setup.py) ... \u001b[?25l\u001b[?25hdone\n",
            "  Created wheel for ffmpy: filename=ffmpy-0.3.2-py3-none-any.whl size=5584 sha256=1ebe1211beafb88a8c172c5d6054369a744b778c76abea91574eff29655f4777\n",
            "  Stored in directory: /root/.cache/pip/wheels/bd/65/9a/671fc6dcde07d4418df0c592f8df512b26d7a0029c2a23dd81\n",
            "Successfully built llmtuner fire ffmpy\n",
            "Installing collected packages: pydub, ffmpy, xxhash, websockets, tomlkit, shtab, shellingham, semantic-version, ruff, python-multipart, orjson, nvidia-nvtx-cu12, nvidia-nvjitlink-cu12, nvidia-nccl-cu12, nvidia-curand-cu12, nvidia-cufft-cu12, nvidia-cuda-runtime-cu12, nvidia-cuda-nvrtc-cu12, nvidia-cuda-cupti-cu12, nvidia-cublas-cu12, h11, fire, einops, dill, colorama, aiofiles, uvicorn, starlette, nvidia-cusparse-cu12, nvidia-cudnn-cu12, multiprocess, httpcore, tyro, sse-starlette, nvidia-cusolver-cu12, httpx, fastapi, gradio-client, datasets, gradio, accelerate, trl, peft, llmtuner\n",
            "Successfully installed accelerate-0.29.3 aiofiles-23.2.1 colorama-0.4.6 datasets-2.18.0 dill-0.3.8 einops-0.7.0 fastapi-0.110.1 ffmpy-0.3.2 fire-0.6.0 gradio-4.26.0 gradio-client-0.15.1 h11-0.14.0 httpcore-1.0.5 httpx-0.27.0 llmtuner-0.6.3.dev0 multiprocess-0.70.16 nvidia-cublas-cu12-12.1.3.1 nvidia-cuda-cupti-cu12-12.1.105 nvidia-cuda-nvrtc-cu12-12.1.105 nvidia-cuda-runtime-cu12-12.1.105 nvidia-cudnn-cu12-8.9.2.26 nvidia-cufft-cu12-11.0.2.54 nvidia-curand-cu12-10.3.2.106 nvidia-cusolver-cu12-11.4.5.107 nvidia-cusparse-cu12-12.1.0.106 nvidia-nccl-cu12-2.19.3 nvidia-nvjitlink-cu12-12.4.127 nvidia-nvtx-cu12-12.1.105 orjson-3.10.1 peft-0.10.0 pydub-0.25.1 python-multipart-0.0.9 ruff-0.3.7 semantic-version-2.10.0 shellingham-1.5.4 shtab-1.7.1 sse-starlette-2.1.0 starlette-0.37.2 tomlkit-0.12.0 trl-0.8.5 tyro-0.8.3 uvicorn-0.29.0 websockets-11.0.3 xxhash-3.4.1\n"
          ]
        }
      ],
      "source": [
        "%rm -rf LLaMA-Factory\n",
        "!git clone https://github.com/hiyouga/LLaMA-Factory.git\n",
        "%cd LLaMA-Factory\n",
        "%ls\n",
        "!pip install ."
      ]
    },
    {
      "cell_type": "markdown",
      "source": [
        "### Check GPU environment"
      ],
      "metadata": {
        "id": "H9RXn_YQnn9f"
      }
    },
    {
      "cell_type": "code",
      "source": [
        "import torch\n",
        "try:\n",
        "  assert torch.cuda.is_available() is True\n",
        "except AssertionError:\n",
        "  print(\"Please set up a GPU before using LLaMA Factory: https://medium.com/mlearning-ai/training-yolov4-on-google-colab-316f8fff99c6\")"
      ],
      "metadata": {
        "id": "ZkN-ktlsnrdU"
      },
      "execution_count": 2,
      "outputs": []
    },
    {
      "cell_type": "markdown",
      "source": [
        "### Log in with Hugging Face account to upload model (Optional)"
      ],
      "metadata": {
        "id": "okkbTMoZCQNf"
      }
    },
    {
      "cell_type": "code",
      "source": [
        "!huggingface-cli login"
      ],
      "metadata": {
        "colab": {
          "base_uri": "https://localhost:8080/"
        },
        "id": "6OIm0O7oA5sy",
        "outputId": "a598dd26-a09f-4852-d927-31c4be20f947"
      },
      "execution_count": 3,
      "outputs": [
        {
          "output_type": "stream",
          "name": "stdout",
          "text": [
            "\n",
            "    _|    _|  _|    _|    _|_|_|    _|_|_|  _|_|_|  _|      _|    _|_|_|      _|_|_|_|    _|_|      _|_|_|  _|_|_|_|\n",
            "    _|    _|  _|    _|  _|        _|          _|    _|_|    _|  _|            _|        _|    _|  _|        _|\n",
            "    _|_|_|_|  _|    _|  _|  _|_|  _|  _|_|    _|    _|  _|  _|  _|  _|_|      _|_|_|    _|_|_|_|  _|        _|_|_|\n",
            "    _|    _|  _|    _|  _|    _|  _|    _|    _|    _|    _|_|  _|    _|      _|        _|    _|  _|        _|\n",
            "    _|    _|    _|_|      _|_|_|    _|_|_|  _|_|_|  _|      _|    _|_|_|      _|        _|    _|    _|_|_|  _|_|_|_|\n",
            "\n",
            "    To login, `huggingface_hub` requires a token generated from https://huggingface.co/settings/tokens .\n",
            "Token: Traceback (most recent call last):\n",
            "  File \"/usr/local/bin/huggingface-cli\", line 8, in <module>\n",
            "    sys.exit(main())\n",
            "  File \"/usr/local/lib/python3.10/dist-packages/huggingface_hub/commands/huggingface_cli.py\", line 49, in main\n",
            "  File \"/usr/local/lib/python3.10/dist-packages/huggingface_hub/commands/user.py\", line 98, in run\n",
            "    login(token=self.args.token, add_to_git_credential=self.args.add_to_git_credential)\n",
            "  File \"/usr/local/lib/python3.10/dist-packages/huggingface_hub/_login.py\", line 113, in login\n",
            "    interpreter_login(new_session=new_session, write_permission=write_permission)\n",
            "  File \"/usr/local/lib/python3.10/dist-packages/huggingface_hub/_login.py\", line 189, in interpreter_login\n",
            "    token = getpass(\"Token: \")\n",
            "  File \"/usr/lib/python3.10/getpass.py\", line 77, in unix_getpass\n",
            "    passwd = _raw_input(prompt, stream, input=input)\n",
            "  File \"/usr/lib/python3.10/getpass.py\", line 146, in _raw_input\n",
            "    line = input.readline()\n",
            "KeyboardInterrupt\n",
            "^C\n"
          ]
        }
      ]
    },
    {
      "cell_type": "markdown",
      "source": [
        "## Fine-tune model via LLaMA Board"
      ],
      "metadata": {
        "id": "2QiXcvdzzW3Y"
      }
    },
    {
      "cell_type": "code",
      "source": [
        "from llmtuner import create_ui\n",
        "\n",
        "create_ui().queue().launch(share=True)"
      ],
      "metadata": {
        "id": "YLsdS6V5yUMy",
        "outputId": "cdf8097a-87ba-4fa3-f304-fd495c6da4f6",
        "colab": {
          "base_uri": "https://localhost:8080/",
          "height": 613
        }
      },
      "execution_count": 4,
      "outputs": [
        {
          "output_type": "stream",
          "name": "stdout",
          "text": [
            "Colab notebook detected. To show errors in colab notebook, set debug=True in launch()\n",
            "Running on public URL: https://a6adfba18cc9fabe4b.gradio.live\n",
            "\n",
            "This share link expires in 72 hours. For free permanent hosting and GPU upgrades, run `gradio deploy` from Terminal to deploy to Spaces (https://huggingface.co/spaces)\n"
          ]
        },
        {
          "output_type": "display_data",
          "data": {
            "text/plain": [
              "<IPython.core.display.HTML object>"
            ],
            "text/html": [
              "<div><iframe src=\"https://a6adfba18cc9fabe4b.gradio.live\" width=\"100%\" height=\"500\" allow=\"autoplay; camera; microphone; clipboard-read; clipboard-write;\" frameborder=\"0\" allowfullscreen></iframe></div>"
            ]
          },
          "metadata": {}
        },
        {
          "output_type": "execute_result",
          "data": {
            "text/plain": []
          },
          "metadata": {},
          "execution_count": 4
        }
      ]
    },
    {
      "cell_type": "markdown",
      "source": [
        "## Fine-tune model via Command Line"
      ],
      "metadata": {
        "id": "rgR3UFhB0Ifq"
      }
    },
    {
      "cell_type": "code",
      "source": [
        "from llmtuner import run_exp\n",
        "run_exp(dict(\n",
        "  stage=\"sft\",\n",
        "  do_train=True,\n",
        "  model_name_or_path=\"Qwen/Qwen1.5-0.5B-Chat\",\n",
        "  dataset=\"identity,alpaca_gpt4_en,alpaca_gpt4_zh\",\n",
        "  template=\"qwen\",\n",
        "  finetuning_type=\"lora\",\n",
        "  lora_target=\"all\",\n",
        "  output_dir=\"test_identity\",\n",
        "  per_device_train_batch_size=4,\n",
        "  gradient_accumulation_steps=4,\n",
        "  lr_scheduler_type=\"cosine\",\n",
        "  logging_steps=10,\n",
        "  save_steps=100,\n",
        "  learning_rate=1e-4,\n",
        "  num_train_epochs=5.0,\n",
        "  max_samples=500,\n",
        "  max_grad_norm=1.0,\n",
        "  fp16=True,\n",
        "))"
      ],
      "metadata": {
        "colab": {
          "base_uri": "https://localhost:8080/",
          "height": 1000,
          "referenced_widgets": [
            "8a11912e789d4af98c491ea8378888c5",
            "854b8d083b4b45cf9718d174699d25cd",
            "ded97d22ffe94af39ef8160ad278125a",
            "f82c06edaa9140c9891aa81b33e2768d",
            "837c151f5ebe410cb1cf6cddd9e741fd",
            "54ba8238992542ff8bd492d885c11192",
            "6206f04fbaed42c0a2c4bf14a123a43d",
            "43089b021d1b4a52aec20af95ff9fb82",
            "4ec31adc82ab4aeb9805e9ddb933ed45",
            "a2f30de5d0c04241ac5ea33083629b17",
            "bb2d0bbac33843eebdf90e868abec660",
            "1bbe5097ab3f4ea783821f64b3072e97",
            "035dd76afa1a4f1eba60895aac6f7e9f",
            "eba8c42390ca42269924e8e0c34380ab",
            "32250bcbb16e49a898c180440e4eebbf",
            "3d85fae61a3847d2823a41e1903d8524",
            "ce1946a7e05c4fda90dc3255deeb5e2c",
            "410e7a4a934d4604826ff72910ce2d20",
            "3709dcc675b34f6d88be628719db0b2d",
            "395fdb11306a4cf28925195526d563fc",
            "30b9b709cc76476a96072a68566482b7",
            "c051314e5819403b936e225dbf5160a0",
            "53aa08f75a3742d4bfd69f4bfae8529f",
            "4929316d87bf408a8ede0b9f59b6b6a1",
            "f35d538c259545bba7e09fa4d2284f76",
            "080873bde68a492fa17f6e2e29c2b628",
            "dec00c30c2544aa2b1fd480f266be4fe",
            "b0165a19d5ff4037b864b30804aea29b",
            "6bbe65399ece47d29bb781bd44d4bef9",
            "17f87d277487491a9b6aa56ecad419ba",
            "9b1c6936df78416ba7e27f1008bfba64",
            "0445587988e144b39f2b3c98d912d9f8",
            "6359a3d80b6d44acaa78004e6fd82506",
            "90ff161e31bf4ed3ad277dbb61942044",
            "64232d31784b48e0b70a6de2e50a7487",
            "d55e71348bf74719a3da47e546bdb13a",
            "a41911b07a3e4dd2a32f66785645c52b",
            "896ceb98fae04b4fa00f3ab543d31a25",
            "c396ca49bd434997ae52635b524c1bfd",
            "5119c30bbc4a4b54950dd11adaf8cb9e",
            "118baf05cc9d47ca92cc24a66219a007",
            "f71c9f74ccb64781b497c887202962ec",
            "7e5bcb811096483eada19c16b1165409",
            "ce71aeb35eb94a859b0beb65e180049b",
            "54626c31a065452bb6fe9c27aa6f2cd6",
            "aa83b61fe407406696ce383fa2b5a232",
            "8c7a86436ff24fccb0ceba05979f661a",
            "e6333866644743fab65c045b981841c5",
            "206061a46ba345349fd26a5149a25e80",
            "9b7eb082017f4240bb2cd65fa96884b0",
            "d9ec8065b06346b8bb0a7c7ce1a1afdf",
            "f81864ec13e44293b99d4c4b3ecb9795",
            "0429e027eb104721bad09c57f4075e0d",
            "9444184fb5f9486e9333a75a2b81f3a4",
            "2ae969940b9f40efa9b5f05c773b5ba3",
            "577da509273745baa2a76ea981330a0a",
            "b526cdabc82944a18a0db44a9b62de67",
            "1e4e7aaf1f7b47659b794b9c278f5664",
            "816b343c36004f4380dfb84d89789c2a",
            "d8eb18908ef4429ab3ebd0f3ac627fd2",
            "ebbebaa465f34a00be2a2bd46d4c00f0",
            "40449375b2e34fc5b97c81089b5b814b",
            "278b544841b2469aa30c5b02ca09e2bf",
            "75a1d1b7acb94dd1b72cfa1a08d9cc96",
            "5651f6c8803e48559b53e6196e932ac8",
            "bd76a5c49e15488c829146714ef56b71",
            "9685873dc42f48b3931dfb9b40e2af27",
            "baea77863be84c8fa40d5427d63af890",
            "36accd9f718e4009aa2d88edf50b0150",
            "85655000afeb473c87485d3e1d5b2fcc",
            "43812b1fe3554a1280d1b86c3bf9d36b",
            "86fe65200a0f430389db5a9cb9e6cf87",
            "17635b7aa8a34b54a4b16036944b65ab",
            "72a45535178846d3a372631ba30bee3a",
            "a5c0f7edfc8443f6b7e44bc859e051f9",
            "d8c6125bb8a3424a8403e97405202363",
            "d7afde59a4a34d9094161ded73f448c0",
            "bcef390f98aa4f379f507eaf15eac874",
            "e536e1e794cd478ca6bc6a62a826cf15",
            "08f515523b0e4458905bdbd177268f4d",
            "46441c937a164603803572a6be13fdfe",
            "e00ab5a3e5a34493a237a4ed7099cd59",
            "ef59659d0d064154bf89c09f5b3185e8",
            "76fb482c111c4d1fad07917c1bfa7ed6",
            "8b210cf318bc4234b0286368cc8d1085",
            "3539f549e2b343b8a7fe7a06d51b0d78",
            "c7a662fc0b1f407fa8de7180ab2d3fd2",
            "3cdd80aee689491c940acd8c2b15de1c",
            "287db69369bb4518a1a622d1dbf878a3",
            "0a0e932b958b4083b1c843e504eceb0a",
            "a38420b497524a8b867e7d1f328f5a6a",
            "f8c251164bdf4158afad85eb89222d35",
            "0c14a852a07d42a4aaca4456a214c5ea",
            "b7c5cb7389e144e3aa53462124ff4686",
            "8201f8af4b2b45daa1c7697467817f8b",
            "7f2b1d10492f4c329f31d2ba9cf6590a",
            "7e0ea2d67a834f7988acb2baece84b3a",
            "cae12c140dac474fb998effeabd2cedd",
            "3c7016a4156f487286a2ef1219a05366",
            "1f6b185b97084ff283a45b9155ea0d66",
            "e02e5155fc0c44e5b979bdb09024eb24",
            "06a7d649584549c08cf6e2569ce76d1b",
            "fc192e1c5f924afd96c5b5de4c5a9a87",
            "8bfcdf56db3442d788a00763f16da289",
            "14255839bb404579a89394b335bddc39",
            "92c9da3adffe483884c5916d19136a8a",
            "533547ce49c7424b82f594923a45c670",
            "2809afad3919484abe2423f2d510d7ee",
            "49a981792c8541d1bf68bff47326309d",
            "b6d0c2a106cb43389356d1d2ed8bbc9b",
            "d667ec24008f4fcea923b81c4d41c8c6",
            "31d9dcbcf4604bca8665824af54f81cc",
            "deada03bafc2475da29186660123b55d",
            "d7dfa24f0a3746d19b6a8d60b6e5e110",
            "c863ea58b3e84c8688372a25a0a4bfcc",
            "57b0a45d4e0e4ebfabaca6f7fffb5a0b",
            "ed799f73495041f49bf40202b64d3411",
            "90ede99f64df48ae950cecdad941db65",
            "8f047f50a5e8428a8587987ca5178c62",
            "b9424866cea8452c8e7913306ac73885",
            "69d9665069d342ecad6d9a90f90248fa",
            "cfdec9dce0164130a7123b76564cc77c",
            "eacbde1b6df6476987d0c0d0402429bd",
            "bced04d6db15472d89320f7ffa15b5b3",
            "2beda5ec380a46f99e9370fbd7b52dc4",
            "d72bf6e6f1d14e3688133747cbf24e3b",
            "f1e3e43de15c46f2a4461d17251e66c0",
            "f437539def8245c588919bb67e6498bc",
            "fb9de293972e4ab4baa5a5212a77c6a6",
            "5cdaed918d7f4521b1ba35953bf09ce1",
            "065a1d064a9345afbf137ca75abebdad",
            "c7d920558f94402fb2014e7b6519698a",
            "804b17c64e664028bf4252a169b8ab8c",
            "30a3b36e3c78429c97bb18abd02a78fb",
            "ffaec80f2b164fea868efbe3e5418686",
            "b83f10a983804eef93462f02eafd2a19",
            "c6b9a158e0e647758011a51006005a44",
            "93a24a7c0ff14f20a1dd71f358eeb345",
            "cadb0d55ea8c447991694b326e778649",
            "d9e522b2a8914e2cad444cb811300515",
            "863dceeab2a24a849ee56be910f5c4ec",
            "4c919a5b0ff0488887cec64a02b8ee72",
            "db1afef686b5411a90fc96062aefa9ef",
            "2f8ef5e8917446ce9babbbb3b9beab6c",
            "311a9bdee71846c98b0a1947243a12d5",
            "720b2b400f1641b0b4c3d34554cf7a74",
            "5f3ef13499274ee69755b9bf316d27f7",
            "cf04d764dc5a45d095c42da92a2b3bac",
            "1c1143bcf67143be88bd1ba23e157193",
            "be4557d787f64974a931b5670d078ec5",
            "138bbf855320476899aec64b2cd38936",
            "d949dfd42a54497f8d623140289417ae",
            "e6b2ccc15f5d4b738d47b8376c56f8d4",
            "7ee11c144b154917ad3260f2392786f2"
          ]
        },
        "id": "CS0Qk5OR0i4Q",
        "outputId": "56b71e22-4e6b-4b0e-cb37-8897153ce650"
      },
      "execution_count": 5,
      "outputs": [
        {
          "output_type": "stream",
          "name": "stderr",
          "text": [
            "[INFO|training_args.py:1902] 2024-04-18 14:31:53,609 >> PyTorch: setting up devices\n",
            "[INFO|training_args.py:1611] 2024-04-18 14:31:53,649 >> The default value for the training argument `--report_to` will change in v5 (from all installed integrations to none). In v5, you will need to use `--report_to all` to get the same behavior as now. You should start updating your code and make this info disappear :-).\n"
          ]
        },
        {
          "output_type": "stream",
          "name": "stdout",
          "text": [
            "04/18/2024 14:31:53 - INFO - llmtuner.hparams.parser - Process rank: 0, device: cuda:0, n_gpu: 1, distributed training: False, compute dtype: torch.float16\n"
          ]
        },
        {
          "output_type": "stream",
          "name": "stderr",
          "text": [
            "INFO:llmtuner.hparams.parser:Process rank: 0, device: cuda:0, n_gpu: 1, distributed training: False, compute dtype: torch.float16\n"
          ]
        },
        {
          "output_type": "display_data",
          "data": {
            "text/plain": [
              "tokenizer_config.json:   0%|          | 0.00/1.29k [00:00<?, ?B/s]"
            ],
            "application/vnd.jupyter.widget-view+json": {
              "version_major": 2,
              "version_minor": 0,
              "model_id": "8a11912e789d4af98c491ea8378888c5"
            }
          },
          "metadata": {}
        },
        {
          "output_type": "display_data",
          "data": {
            "text/plain": [
              "vocab.json:   0%|          | 0.00/2.78M [00:00<?, ?B/s]"
            ],
            "application/vnd.jupyter.widget-view+json": {
              "version_major": 2,
              "version_minor": 0,
              "model_id": "1bbe5097ab3f4ea783821f64b3072e97"
            }
          },
          "metadata": {}
        },
        {
          "output_type": "display_data",
          "data": {
            "text/plain": [
              "merges.txt:   0%|          | 0.00/1.67M [00:00<?, ?B/s]"
            ],
            "application/vnd.jupyter.widget-view+json": {
              "version_major": 2,
              "version_minor": 0,
              "model_id": "53aa08f75a3742d4bfd69f4bfae8529f"
            }
          },
          "metadata": {}
        },
        {
          "output_type": "display_data",
          "data": {
            "text/plain": [
              "tokenizer.json:   0%|          | 0.00/7.03M [00:00<?, ?B/s]"
            ],
            "application/vnd.jupyter.widget-view+json": {
              "version_major": 2,
              "version_minor": 0,
              "model_id": "90ff161e31bf4ed3ad277dbb61942044"
            }
          },
          "metadata": {}
        },
        {
          "output_type": "stream",
          "name": "stderr",
          "text": [
            "[INFO|tokenization_utils_base.py:2046] 2024-04-18 14:31:55,508 >> loading file vocab.json from cache at /root/.cache/huggingface/hub/models--Qwen--Qwen1.5-0.5B-Chat/snapshots/f82bd3692de0283f4a4b31e06d164dd8467fb52e/vocab.json\n",
            "[INFO|tokenization_utils_base.py:2046] 2024-04-18 14:31:55,510 >> loading file merges.txt from cache at /root/.cache/huggingface/hub/models--Qwen--Qwen1.5-0.5B-Chat/snapshots/f82bd3692de0283f4a4b31e06d164dd8467fb52e/merges.txt\n",
            "[INFO|tokenization_utils_base.py:2046] 2024-04-18 14:31:55,512 >> loading file added_tokens.json from cache at None\n",
            "[INFO|tokenization_utils_base.py:2046] 2024-04-18 14:31:55,515 >> loading file special_tokens_map.json from cache at None\n",
            "[INFO|tokenization_utils_base.py:2046] 2024-04-18 14:31:55,516 >> loading file tokenizer_config.json from cache at /root/.cache/huggingface/hub/models--Qwen--Qwen1.5-0.5B-Chat/snapshots/f82bd3692de0283f4a4b31e06d164dd8467fb52e/tokenizer_config.json\n",
            "[INFO|tokenization_utils_base.py:2046] 2024-04-18 14:31:55,518 >> loading file tokenizer.json from cache at /root/.cache/huggingface/hub/models--Qwen--Qwen1.5-0.5B-Chat/snapshots/f82bd3692de0283f4a4b31e06d164dd8467fb52e/tokenizer.json\n",
            "[WARNING|logging.py:314] 2024-04-18 14:31:55,789 >> Special tokens have been added in the vocabulary, make sure the associated word embeddings are fine-tuned or trained.\n"
          ]
        },
        {
          "output_type": "stream",
          "name": "stdout",
          "text": [
            "04/18/2024 14:31:55 - INFO - llmtuner.data.template - Replace eos token: <|im_end|>\n"
          ]
        },
        {
          "output_type": "stream",
          "name": "stderr",
          "text": [
            "INFO:llmtuner.data.template:Replace eos token: <|im_end|>\n"
          ]
        },
        {
          "output_type": "stream",
          "name": "stdout",
          "text": [
            "04/18/2024 14:31:55 - INFO - llmtuner.data.loader - Loading dataset identity.json...\n"
          ]
        },
        {
          "output_type": "stream",
          "name": "stderr",
          "text": [
            "INFO:llmtuner.data.loader:Loading dataset identity.json...\n"
          ]
        },
        {
          "output_type": "display_data",
          "data": {
            "text/plain": [
              "Generating train split: 0 examples [00:00, ? examples/s]"
            ],
            "application/vnd.jupyter.widget-view+json": {
              "version_major": 2,
              "version_minor": 0,
              "model_id": "54626c31a065452bb6fe9c27aa6f2cd6"
            }
          },
          "metadata": {}
        },
        {
          "output_type": "display_data",
          "data": {
            "text/plain": [
              "Converting format of dataset:   0%|          | 0/91 [00:00<?, ? examples/s]"
            ],
            "application/vnd.jupyter.widget-view+json": {
              "version_major": 2,
              "version_minor": 0,
              "model_id": "577da509273745baa2a76ea981330a0a"
            }
          },
          "metadata": {}
        },
        {
          "output_type": "stream",
          "name": "stdout",
          "text": [
            "04/18/2024 14:31:56 - INFO - llmtuner.data.loader - Loading dataset alpaca_gpt4_data_en.json...\n"
          ]
        },
        {
          "output_type": "stream",
          "name": "stderr",
          "text": [
            "INFO:llmtuner.data.loader:Loading dataset alpaca_gpt4_data_en.json...\n"
          ]
        },
        {
          "output_type": "display_data",
          "data": {
            "text/plain": [
              "Generating train split: 0 examples [00:00, ? examples/s]"
            ],
            "application/vnd.jupyter.widget-view+json": {
              "version_major": 2,
              "version_minor": 0,
              "model_id": "9685873dc42f48b3931dfb9b40e2af27"
            }
          },
          "metadata": {}
        },
        {
          "output_type": "display_data",
          "data": {
            "text/plain": [
              "Converting format of dataset:   0%|          | 0/500 [00:00<?, ? examples/s]"
            ],
            "application/vnd.jupyter.widget-view+json": {
              "version_major": 2,
              "version_minor": 0,
              "model_id": "bcef390f98aa4f379f507eaf15eac874"
            }
          },
          "metadata": {}
        },
        {
          "output_type": "stream",
          "name": "stdout",
          "text": [
            "04/18/2024 14:31:57 - INFO - llmtuner.data.loader - Loading dataset alpaca_gpt4_data_zh.json...\n"
          ]
        },
        {
          "output_type": "stream",
          "name": "stderr",
          "text": [
            "INFO:llmtuner.data.loader:Loading dataset alpaca_gpt4_data_zh.json...\n"
          ]
        },
        {
          "output_type": "display_data",
          "data": {
            "text/plain": [
              "Generating train split: 0 examples [00:00, ? examples/s]"
            ],
            "application/vnd.jupyter.widget-view+json": {
              "version_major": 2,
              "version_minor": 0,
              "model_id": "287db69369bb4518a1a622d1dbf878a3"
            }
          },
          "metadata": {}
        },
        {
          "output_type": "display_data",
          "data": {
            "text/plain": [
              "Converting format of dataset:   0%|          | 0/500 [00:00<?, ? examples/s]"
            ],
            "application/vnd.jupyter.widget-view+json": {
              "version_major": 2,
              "version_minor": 0,
              "model_id": "1f6b185b97084ff283a45b9155ea0d66"
            }
          },
          "metadata": {}
        },
        {
          "output_type": "display_data",
          "data": {
            "text/plain": [
              "Running tokenizer on dataset:   0%|          | 0/1091 [00:00<?, ? examples/s]"
            ],
            "application/vnd.jupyter.widget-view+json": {
              "version_major": 2,
              "version_minor": 0,
              "model_id": "d667ec24008f4fcea923b81c4d41c8c6"
            }
          },
          "metadata": {}
        },
        {
          "output_type": "stream",
          "name": "stdout",
          "text": [
            "input_ids:\n",
            "[151644, 8948, 198, 2610, 525, 264, 10950, 17847, 13, 151645, 198, 151644, 872, 198, 6023, 151645, 198, 151644, 77091, 198, 9707, 0, 358, 1079, 19122, 11, 458, 15235, 17847, 7881, 553, 40809, 13, 2585, 646, 358, 7789, 498, 3351, 30, 151645]\n",
            "inputs:\n",
            "<|im_start|>system\n",
            "You are a helpful assistant.<|im_end|>\n",
            "<|im_start|>user\n",
            "hi<|im_end|>\n",
            "<|im_start|>assistant\n",
            "Hello! I am NAME, an AI assistant developed by AUTHOR. How can I assist you today?<|im_end|>\n",
            "label_ids:\n",
            "[-100, -100, -100, -100, -100, -100, -100, -100, -100, -100, -100, -100, -100, -100, -100, -100, -100, -100, -100, -100, 9707, 0, 358, 1079, 19122, 11, 458, 15235, 17847, 7881, 553, 40809, 13, 2585, 646, 358, 7789, 498, 3351, 30, 151645]\n",
            "labels:\n",
            "Hello! I am NAME, an AI assistant developed by AUTHOR. How can I assist you today?<|im_end|>\n"
          ]
        },
        {
          "output_type": "display_data",
          "data": {
            "text/plain": [
              "config.json:   0%|          | 0.00/661 [00:00<?, ?B/s]"
            ],
            "application/vnd.jupyter.widget-view+json": {
              "version_major": 2,
              "version_minor": 0,
              "model_id": "cfdec9dce0164130a7123b76564cc77c"
            }
          },
          "metadata": {}
        },
        {
          "output_type": "stream",
          "name": "stderr",
          "text": [
            "[INFO|configuration_utils.py:728] 2024-04-18 14:32:08,891 >> loading configuration file config.json from cache at /root/.cache/huggingface/hub/models--Qwen--Qwen1.5-0.5B-Chat/snapshots/f82bd3692de0283f4a4b31e06d164dd8467fb52e/config.json\n",
            "[INFO|configuration_utils.py:791] 2024-04-18 14:32:08,897 >> Model config Qwen2Config {\n",
            "  \"_name_or_path\": \"Qwen/Qwen1.5-0.5B-Chat\",\n",
            "  \"architectures\": [\n",
            "    \"Qwen2ForCausalLM\"\n",
            "  ],\n",
            "  \"attention_dropout\": 0.0,\n",
            "  \"bos_token_id\": 151643,\n",
            "  \"eos_token_id\": 151645,\n",
            "  \"hidden_act\": \"silu\",\n",
            "  \"hidden_size\": 1024,\n",
            "  \"initializer_range\": 0.02,\n",
            "  \"intermediate_size\": 2816,\n",
            "  \"max_position_embeddings\": 32768,\n",
            "  \"max_window_layers\": 21,\n",
            "  \"model_type\": \"qwen2\",\n",
            "  \"num_attention_heads\": 16,\n",
            "  \"num_hidden_layers\": 24,\n",
            "  \"num_key_value_heads\": 16,\n",
            "  \"rms_norm_eps\": 1e-06,\n",
            "  \"rope_theta\": 1000000.0,\n",
            "  \"sliding_window\": 32768,\n",
            "  \"tie_word_embeddings\": true,\n",
            "  \"torch_dtype\": \"bfloat16\",\n",
            "  \"transformers_version\": \"4.38.2\",\n",
            "  \"use_cache\": true,\n",
            "  \"use_sliding_window\": false,\n",
            "  \"vocab_size\": 151936\n",
            "}\n",
            "\n"
          ]
        },
        {
          "output_type": "display_data",
          "data": {
            "text/plain": [
              "model.safetensors:   0%|          | 0.00/1.24G [00:00<?, ?B/s]"
            ],
            "application/vnd.jupyter.widget-view+json": {
              "version_major": 2,
              "version_minor": 0,
              "model_id": "804b17c64e664028bf4252a169b8ab8c"
            }
          },
          "metadata": {}
        },
        {
          "output_type": "stream",
          "name": "stderr",
          "text": [
            "[INFO|modeling_utils.py:3257] 2024-04-18 14:32:14,441 >> loading weights file model.safetensors from cache at /root/.cache/huggingface/hub/models--Qwen--Qwen1.5-0.5B-Chat/snapshots/f82bd3692de0283f4a4b31e06d164dd8467fb52e/model.safetensors\n",
            "[INFO|modeling_utils.py:1400] 2024-04-18 14:32:14,473 >> Instantiating Qwen2ForCausalLM model under default dtype torch.float16.\n",
            "[INFO|configuration_utils.py:845] 2024-04-18 14:32:14,477 >> Generate config GenerationConfig {\n",
            "  \"bos_token_id\": 151643,\n",
            "  \"eos_token_id\": 151645\n",
            "}\n",
            "\n",
            "[INFO|modeling_utils.py:3992] 2024-04-18 14:32:18,705 >> All model checkpoint weights were used when initializing Qwen2ForCausalLM.\n",
            "\n",
            "[INFO|modeling_utils.py:4000] 2024-04-18 14:32:18,709 >> All the weights of Qwen2ForCausalLM were initialized from the model checkpoint at Qwen/Qwen1.5-0.5B-Chat.\n",
            "If your task is similar to the task the model of the checkpoint was trained on, you can already use Qwen2ForCausalLM for predictions without further training.\n"
          ]
        },
        {
          "output_type": "display_data",
          "data": {
            "text/plain": [
              "generation_config.json:   0%|          | 0.00/206 [00:00<?, ?B/s]"
            ],
            "application/vnd.jupyter.widget-view+json": {
              "version_major": 2,
              "version_minor": 0,
              "model_id": "2f8ef5e8917446ce9babbbb3b9beab6c"
            }
          },
          "metadata": {}
        },
        {
          "output_type": "stream",
          "name": "stderr",
          "text": [
            "[INFO|configuration_utils.py:800] 2024-04-18 14:32:18,946 >> loading configuration file generation_config.json from cache at /root/.cache/huggingface/hub/models--Qwen--Qwen1.5-0.5B-Chat/snapshots/f82bd3692de0283f4a4b31e06d164dd8467fb52e/generation_config.json\n",
            "[INFO|configuration_utils.py:845] 2024-04-18 14:32:18,949 >> Generate config GenerationConfig {\n",
            "  \"bos_token_id\": 151643,\n",
            "  \"do_sample\": true,\n",
            "  \"eos_token_id\": [\n",
            "    151645,\n",
            "    151643\n",
            "  ],\n",
            "  \"pad_token_id\": 151643,\n",
            "  \"repetition_penalty\": 1.1,\n",
            "  \"top_p\": 0.8\n",
            "}\n",
            "\n"
          ]
        },
        {
          "output_type": "stream",
          "name": "stdout",
          "text": [
            "04/18/2024 14:32:19 - INFO - llmtuner.model.patcher - Gradient checkpointing enabled.\n"
          ]
        },
        {
          "output_type": "stream",
          "name": "stderr",
          "text": [
            "INFO:llmtuner.model.patcher:Gradient checkpointing enabled.\n"
          ]
        },
        {
          "output_type": "stream",
          "name": "stdout",
          "text": [
            "04/18/2024 14:32:19 - INFO - llmtuner.model.adapter - Fine-tuning method: LoRA\n"
          ]
        },
        {
          "output_type": "stream",
          "name": "stderr",
          "text": [
            "INFO:llmtuner.model.adapter:Fine-tuning method: LoRA\n"
          ]
        },
        {
          "output_type": "stream",
          "name": "stdout",
          "text": [
            "04/18/2024 14:32:19 - INFO - llmtuner.model.utils - Found linear modules: o_proj,down_proj,v_proj,k_proj,up_proj,q_proj,gate_proj\n"
          ]
        },
        {
          "output_type": "stream",
          "name": "stderr",
          "text": [
            "INFO:llmtuner.model.utils:Found linear modules: o_proj,down_proj,v_proj,k_proj,up_proj,q_proj,gate_proj\n"
          ]
        },
        {
          "output_type": "stream",
          "name": "stdout",
          "text": [
            "04/18/2024 14:32:19 - INFO - llmtuner.model.loader - trainable params: 3784704 || all params: 467772416 || trainable%: 0.8091\n"
          ]
        },
        {
          "output_type": "stream",
          "name": "stderr",
          "text": [
            "INFO:llmtuner.model.loader:trainable params: 3784704 || all params: 467772416 || trainable%: 0.8091\n",
            "/usr/local/lib/python3.10/dist-packages/accelerate/accelerator.py:436: FutureWarning: Passing the following arguments to `Accelerator` is deprecated and will be removed in version 1.0 of Accelerate: dict_keys(['dispatch_batches', 'split_batches', 'even_batches', 'use_seedable_sampler']). Please pass an `accelerate.DataLoaderConfiguration` instead: \n",
            "dataloader_config = DataLoaderConfiguration(dispatch_batches=None, split_batches=False, even_batches=True, use_seedable_sampler=True)\n",
            "  warnings.warn(\n",
            "[INFO|trainer.py:601] 2024-04-18 14:32:19,475 >> Using auto half precision backend\n",
            "[INFO|trainer.py:1812] 2024-04-18 14:32:19,879 >> ***** Running training *****\n",
            "[INFO|trainer.py:1813] 2024-04-18 14:32:19,881 >>   Num examples = 1,091\n",
            "[INFO|trainer.py:1814] 2024-04-18 14:32:19,886 >>   Num Epochs = 5\n",
            "[INFO|trainer.py:1815] 2024-04-18 14:32:19,888 >>   Instantaneous batch size per device = 4\n",
            "[INFO|trainer.py:1818] 2024-04-18 14:32:19,890 >>   Total train batch size (w. parallel, distributed & accumulation) = 16\n",
            "[INFO|trainer.py:1819] 2024-04-18 14:32:19,892 >>   Gradient Accumulation steps = 4\n",
            "[INFO|trainer.py:1820] 2024-04-18 14:32:19,893 >>   Total optimization steps = 340\n",
            "[INFO|trainer.py:1821] 2024-04-18 14:32:19,902 >>   Number of trainable parameters = 3,784,704\n"
          ]
        },
        {
          "output_type": "display_data",
          "data": {
            "text/plain": [
              "<IPython.core.display.HTML object>"
            ],
            "text/html": [
              "\n",
              "    <div>\n",
              "      \n",
              "      <progress value='340' max='340' style='width:300px; height:20px; vertical-align: middle;'></progress>\n",
              "      [340/340 09:30, Epoch 4/5]\n",
              "    </div>\n",
              "    <table border=\"1\" class=\"dataframe\">\n",
              "  <thead>\n",
              " <tr style=\"text-align: left;\">\n",
              "      <th>Step</th>\n",
              "      <th>Training Loss</th>\n",
              "    </tr>\n",
              "  </thead>\n",
              "  <tbody>\n",
              "    <tr>\n",
              "      <td>10</td>\n",
              "      <td>1.894700</td>\n",
              "    </tr>\n",
              "    <tr>\n",
              "      <td>20</td>\n",
              "      <td>1.747500</td>\n",
              "    </tr>\n",
              "    <tr>\n",
              "      <td>30</td>\n",
              "      <td>1.691300</td>\n",
              "    </tr>\n",
              "    <tr>\n",
              "      <td>40</td>\n",
              "      <td>1.739800</td>\n",
              "    </tr>\n",
              "    <tr>\n",
              "      <td>50</td>\n",
              "      <td>1.748200</td>\n",
              "    </tr>\n",
              "    <tr>\n",
              "      <td>60</td>\n",
              "      <td>1.707500</td>\n",
              "    </tr>\n",
              "    <tr>\n",
              "      <td>70</td>\n",
              "      <td>1.620200</td>\n",
              "    </tr>\n",
              "    <tr>\n",
              "      <td>80</td>\n",
              "      <td>1.694400</td>\n",
              "    </tr>\n",
              "    <tr>\n",
              "      <td>90</td>\n",
              "      <td>1.643400</td>\n",
              "    </tr>\n",
              "    <tr>\n",
              "      <td>100</td>\n",
              "      <td>1.590500</td>\n",
              "    </tr>\n",
              "    <tr>\n",
              "      <td>110</td>\n",
              "      <td>1.697900</td>\n",
              "    </tr>\n",
              "    <tr>\n",
              "      <td>120</td>\n",
              "      <td>1.594400</td>\n",
              "    </tr>\n",
              "    <tr>\n",
              "      <td>130</td>\n",
              "      <td>1.607100</td>\n",
              "    </tr>\n",
              "    <tr>\n",
              "      <td>140</td>\n",
              "      <td>1.699100</td>\n",
              "    </tr>\n",
              "    <tr>\n",
              "      <td>150</td>\n",
              "      <td>1.626500</td>\n",
              "    </tr>\n",
              "    <tr>\n",
              "      <td>160</td>\n",
              "      <td>1.583100</td>\n",
              "    </tr>\n",
              "    <tr>\n",
              "      <td>170</td>\n",
              "      <td>1.535800</td>\n",
              "    </tr>\n",
              "    <tr>\n",
              "      <td>180</td>\n",
              "      <td>1.584000</td>\n",
              "    </tr>\n",
              "    <tr>\n",
              "      <td>190</td>\n",
              "      <td>1.503400</td>\n",
              "    </tr>\n",
              "    <tr>\n",
              "      <td>200</td>\n",
              "      <td>1.576700</td>\n",
              "    </tr>\n",
              "    <tr>\n",
              "      <td>210</td>\n",
              "      <td>1.580400</td>\n",
              "    </tr>\n",
              "    <tr>\n",
              "      <td>220</td>\n",
              "      <td>1.594100</td>\n",
              "    </tr>\n",
              "    <tr>\n",
              "      <td>230</td>\n",
              "      <td>1.485600</td>\n",
              "    </tr>\n",
              "    <tr>\n",
              "      <td>240</td>\n",
              "      <td>1.532100</td>\n",
              "    </tr>\n",
              "    <tr>\n",
              "      <td>250</td>\n",
              "      <td>1.576400</td>\n",
              "    </tr>\n",
              "    <tr>\n",
              "      <td>260</td>\n",
              "      <td>1.504300</td>\n",
              "    </tr>\n",
              "    <tr>\n",
              "      <td>270</td>\n",
              "      <td>1.480600</td>\n",
              "    </tr>\n",
              "    <tr>\n",
              "      <td>280</td>\n",
              "      <td>1.527700</td>\n",
              "    </tr>\n",
              "    <tr>\n",
              "      <td>290</td>\n",
              "      <td>1.485500</td>\n",
              "    </tr>\n",
              "    <tr>\n",
              "      <td>300</td>\n",
              "      <td>1.470300</td>\n",
              "    </tr>\n",
              "    <tr>\n",
              "      <td>310</td>\n",
              "      <td>1.544500</td>\n",
              "    </tr>\n",
              "    <tr>\n",
              "      <td>320</td>\n",
              "      <td>1.480300</td>\n",
              "    </tr>\n",
              "    <tr>\n",
              "      <td>330</td>\n",
              "      <td>1.528200</td>\n",
              "    </tr>\n",
              "    <tr>\n",
              "      <td>340</td>\n",
              "      <td>1.517800</td>\n",
              "    </tr>\n",
              "  </tbody>\n",
              "</table><p>"
            ]
          },
          "metadata": {}
        },
        {
          "output_type": "stream",
          "name": "stderr",
          "text": [
            "[INFO|trainer.py:3067] 2024-04-18 14:35:10,487 >> Saving model checkpoint to test_identity/tmp-checkpoint-100\n",
            "[INFO|configuration_utils.py:728] 2024-04-18 14:35:10,716 >> loading configuration file config.json from cache at /root/.cache/huggingface/hub/models--Qwen--Qwen1.5-0.5B-Chat/snapshots/f82bd3692de0283f4a4b31e06d164dd8467fb52e/config.json\n",
            "[INFO|configuration_utils.py:791] 2024-04-18 14:35:10,719 >> Model config Qwen2Config {\n",
            "  \"architectures\": [\n",
            "    \"Qwen2ForCausalLM\"\n",
            "  ],\n",
            "  \"attention_dropout\": 0.0,\n",
            "  \"bos_token_id\": 151643,\n",
            "  \"eos_token_id\": 151645,\n",
            "  \"hidden_act\": \"silu\",\n",
            "  \"hidden_size\": 1024,\n",
            "  \"initializer_range\": 0.02,\n",
            "  \"intermediate_size\": 2816,\n",
            "  \"max_position_embeddings\": 32768,\n",
            "  \"max_window_layers\": 21,\n",
            "  \"model_type\": \"qwen2\",\n",
            "  \"num_attention_heads\": 16,\n",
            "  \"num_hidden_layers\": 24,\n",
            "  \"num_key_value_heads\": 16,\n",
            "  \"rms_norm_eps\": 1e-06,\n",
            "  \"rope_theta\": 1000000.0,\n",
            "  \"sliding_window\": 32768,\n",
            "  \"tie_word_embeddings\": true,\n",
            "  \"torch_dtype\": \"bfloat16\",\n",
            "  \"transformers_version\": \"4.38.2\",\n",
            "  \"use_cache\": true,\n",
            "  \"use_sliding_window\": false,\n",
            "  \"vocab_size\": 151936\n",
            "}\n",
            "\n",
            "[INFO|tokenization_utils_base.py:2459] 2024-04-18 14:35:10,771 >> tokenizer config file saved in test_identity/tmp-checkpoint-100/tokenizer_config.json\n",
            "[INFO|tokenization_utils_base.py:2468] 2024-04-18 14:35:10,773 >> Special tokens file saved in test_identity/tmp-checkpoint-100/special_tokens_map.json\n",
            "[INFO|tokenization_utils_base.py:2519] 2024-04-18 14:35:10,774 >> added tokens file saved in test_identity/tmp-checkpoint-100/added_tokens.json\n",
            "[INFO|trainer.py:3067] 2024-04-18 14:37:58,565 >> Saving model checkpoint to test_identity/tmp-checkpoint-200\n",
            "[INFO|configuration_utils.py:728] 2024-04-18 14:37:58,804 >> loading configuration file config.json from cache at /root/.cache/huggingface/hub/models--Qwen--Qwen1.5-0.5B-Chat/snapshots/f82bd3692de0283f4a4b31e06d164dd8467fb52e/config.json\n",
            "[INFO|configuration_utils.py:791] 2024-04-18 14:37:58,807 >> Model config Qwen2Config {\n",
            "  \"architectures\": [\n",
            "    \"Qwen2ForCausalLM\"\n",
            "  ],\n",
            "  \"attention_dropout\": 0.0,\n",
            "  \"bos_token_id\": 151643,\n",
            "  \"eos_token_id\": 151645,\n",
            "  \"hidden_act\": \"silu\",\n",
            "  \"hidden_size\": 1024,\n",
            "  \"initializer_range\": 0.02,\n",
            "  \"intermediate_size\": 2816,\n",
            "  \"max_position_embeddings\": 32768,\n",
            "  \"max_window_layers\": 21,\n",
            "  \"model_type\": \"qwen2\",\n",
            "  \"num_attention_heads\": 16,\n",
            "  \"num_hidden_layers\": 24,\n",
            "  \"num_key_value_heads\": 16,\n",
            "  \"rms_norm_eps\": 1e-06,\n",
            "  \"rope_theta\": 1000000.0,\n",
            "  \"sliding_window\": 32768,\n",
            "  \"tie_word_embeddings\": true,\n",
            "  \"torch_dtype\": \"bfloat16\",\n",
            "  \"transformers_version\": \"4.38.2\",\n",
            "  \"use_cache\": true,\n",
            "  \"use_sliding_window\": false,\n",
            "  \"vocab_size\": 151936\n",
            "}\n",
            "\n",
            "[INFO|tokenization_utils_base.py:2459] 2024-04-18 14:37:58,858 >> tokenizer config file saved in test_identity/tmp-checkpoint-200/tokenizer_config.json\n",
            "[INFO|tokenization_utils_base.py:2468] 2024-04-18 14:37:58,860 >> Special tokens file saved in test_identity/tmp-checkpoint-200/special_tokens_map.json\n",
            "[INFO|tokenization_utils_base.py:2519] 2024-04-18 14:37:58,862 >> added tokens file saved in test_identity/tmp-checkpoint-200/added_tokens.json\n",
            "[INFO|trainer.py:3067] 2024-04-18 14:40:44,299 >> Saving model checkpoint to test_identity/tmp-checkpoint-300\n",
            "[INFO|configuration_utils.py:728] 2024-04-18 14:40:44,526 >> loading configuration file config.json from cache at /root/.cache/huggingface/hub/models--Qwen--Qwen1.5-0.5B-Chat/snapshots/f82bd3692de0283f4a4b31e06d164dd8467fb52e/config.json\n",
            "[INFO|configuration_utils.py:791] 2024-04-18 14:40:44,529 >> Model config Qwen2Config {\n",
            "  \"architectures\": [\n",
            "    \"Qwen2ForCausalLM\"\n",
            "  ],\n",
            "  \"attention_dropout\": 0.0,\n",
            "  \"bos_token_id\": 151643,\n",
            "  \"eos_token_id\": 151645,\n",
            "  \"hidden_act\": \"silu\",\n",
            "  \"hidden_size\": 1024,\n",
            "  \"initializer_range\": 0.02,\n",
            "  \"intermediate_size\": 2816,\n",
            "  \"max_position_embeddings\": 32768,\n",
            "  \"max_window_layers\": 21,\n",
            "  \"model_type\": \"qwen2\",\n",
            "  \"num_attention_heads\": 16,\n",
            "  \"num_hidden_layers\": 24,\n",
            "  \"num_key_value_heads\": 16,\n",
            "  \"rms_norm_eps\": 1e-06,\n",
            "  \"rope_theta\": 1000000.0,\n",
            "  \"sliding_window\": 32768,\n",
            "  \"tie_word_embeddings\": true,\n",
            "  \"torch_dtype\": \"bfloat16\",\n",
            "  \"transformers_version\": \"4.38.2\",\n",
            "  \"use_cache\": true,\n",
            "  \"use_sliding_window\": false,\n",
            "  \"vocab_size\": 151936\n",
            "}\n",
            "\n",
            "[INFO|tokenization_utils_base.py:2459] 2024-04-18 14:40:44,581 >> tokenizer config file saved in test_identity/tmp-checkpoint-300/tokenizer_config.json\n",
            "[INFO|tokenization_utils_base.py:2468] 2024-04-18 14:40:44,583 >> Special tokens file saved in test_identity/tmp-checkpoint-300/special_tokens_map.json\n",
            "[INFO|tokenization_utils_base.py:2519] 2024-04-18 14:40:44,585 >> added tokens file saved in test_identity/tmp-checkpoint-300/added_tokens.json\n",
            "[INFO|trainer.py:2067] 2024-04-18 14:41:53,690 >> \n",
            "\n",
            "Training completed. Do not forget to share your model on huggingface.co/models =)\n",
            "\n",
            "\n",
            "[INFO|trainer.py:3067] 2024-04-18 14:41:53,699 >> Saving model checkpoint to test_identity\n",
            "[INFO|configuration_utils.py:728] 2024-04-18 14:41:53,996 >> loading configuration file config.json from cache at /root/.cache/huggingface/hub/models--Qwen--Qwen1.5-0.5B-Chat/snapshots/f82bd3692de0283f4a4b31e06d164dd8467fb52e/config.json\n",
            "[INFO|configuration_utils.py:791] 2024-04-18 14:41:53,998 >> Model config Qwen2Config {\n",
            "  \"architectures\": [\n",
            "    \"Qwen2ForCausalLM\"\n",
            "  ],\n",
            "  \"attention_dropout\": 0.0,\n",
            "  \"bos_token_id\": 151643,\n",
            "  \"eos_token_id\": 151645,\n",
            "  \"hidden_act\": \"silu\",\n",
            "  \"hidden_size\": 1024,\n",
            "  \"initializer_range\": 0.02,\n",
            "  \"intermediate_size\": 2816,\n",
            "  \"max_position_embeddings\": 32768,\n",
            "  \"max_window_layers\": 21,\n",
            "  \"model_type\": \"qwen2\",\n",
            "  \"num_attention_heads\": 16,\n",
            "  \"num_hidden_layers\": 24,\n",
            "  \"num_key_value_heads\": 16,\n",
            "  \"rms_norm_eps\": 1e-06,\n",
            "  \"rope_theta\": 1000000.0,\n",
            "  \"sliding_window\": 32768,\n",
            "  \"tie_word_embeddings\": true,\n",
            "  \"torch_dtype\": \"bfloat16\",\n",
            "  \"transformers_version\": \"4.38.2\",\n",
            "  \"use_cache\": true,\n",
            "  \"use_sliding_window\": false,\n",
            "  \"vocab_size\": 151936\n",
            "}\n",
            "\n",
            "[INFO|tokenization_utils_base.py:2459] 2024-04-18 14:41:54,051 >> tokenizer config file saved in test_identity/tokenizer_config.json\n",
            "[INFO|tokenization_utils_base.py:2468] 2024-04-18 14:41:54,052 >> Special tokens file saved in test_identity/special_tokens_map.json\n",
            "[INFO|tokenization_utils_base.py:2519] 2024-04-18 14:41:54,057 >> added tokens file saved in test_identity/added_tokens.json\n",
            "[INFO|modelcard.py:450] 2024-04-18 14:41:54,600 >> Dropping the following result as it does not have all the necessary fields:\n",
            "{'task': {'name': 'Causal Language Modeling', 'type': 'text-generation'}}\n"
          ]
        },
        {
          "output_type": "stream",
          "name": "stdout",
          "text": [
            "***** train metrics *****\n",
            "  epoch                    =       4.98\n",
            "  total_flos               =  2579190GF\n",
            "  train_loss               =     1.5998\n",
            "  train_runtime            = 0:09:33.78\n",
            "  train_samples_per_second =      9.507\n",
            "  train_steps_per_second   =      0.593\n"
          ]
        }
      ]
    },
    {
      "cell_type": "markdown",
      "source": [
        "### Infer the fine-tuned model"
      ],
      "metadata": {
        "id": "PVNaC-xS5N40"
      }
    },
    {
      "cell_type": "code",
      "source": [
        "from llmtuner import ChatModel\n",
        "chat_model = ChatModel(dict(\n",
        "  model_name_or_path=\"Qwen/Qwen1.5-0.5B-Chat\",\n",
        "  adapter_name_or_path=\"test_identity\",\n",
        "  finetuning_type=\"lora\",\n",
        "  template=\"qwen\",\n",
        "))\n",
        "messages = []\n",
        "while True:\n",
        "  query = input(\"\\nUser: \")\n",
        "  if query.strip() == \"exit\":\n",
        "    break\n",
        "  if query.strip() == \"clear\":\n",
        "    messages = []\n",
        "    continue\n",
        "\n",
        "  messages.append({\"role\": \"user\", \"content\": query})\n",
        "  print(\"Assistant: \", end=\"\", flush=True)\n",
        "  response = \"\"\n",
        "  for new_text in chat_model.stream_chat(messages):\n",
        "    print(new_text, end=\"\", flush=True)\n",
        "    response += new_text\n",
        "  print()\n",
        "  messages.append({\"role\": \"assistant\", \"content\": response})"
      ],
      "metadata": {
        "colab": {
          "base_uri": "https://localhost:8080/",
          "height": 1000,
          "referenced_widgets": [
            "9a1476f3fa95441abfbec23c52c3622b",
            "0b96f99276af47cf9602de28f7114713",
            "ea3d0f9c408e4fe9baa75c7b36536aaf",
            "ef5828d07c294491b746de518fb8b5bb",
            "6f5b03419edc4f0dad959236fd411c53",
            "1b59a2278168486ca7c67a9194892c2a",
            "92dfa6885ea74eea86ecdc5576a0c49a",
            "187b458925074e60ab399da008c0984d",
            "30bb71507fc345d5b606871451cba4dc",
            "f6bd526face94eb5a26f658b26d4735f",
            "4204f316a14a40a8b716c7fec188dad2",
            "7d6216e64b5a4a82ab465c33f5f8ec42",
            "8581b53791094d899f7571facc74b417",
            "086c4fe529e04213ba46c176dd47afb3",
            "a48bed46fe53429c9e1fda2da3a7bebd",
            "ee2f547ba72346459b388d685f791595",
            "c3c692a074d74c42a880807f510e95ca",
            "7abde4de0c3b43dfbb78385d428c8388",
            "8a8f82075f584b9e892fc53eedb2c1ba",
            "3b67621c342741c699e9dbd3b0e50272",
            "020930609fca473286cf0919fb3a10e9",
            "3232bee4c7334dd1928d193b16d689d1",
            "90a05e0feb7a49f7b5683a2c7a2811d8",
            "d66b0be9714144bc8b6d5341816bac54",
            "8c8c13472ac44ab2adf9e805f0521958",
            "c591eadd42f54509b8eb7468bc97c92c",
            "9b65134edf884c3085d813484d47837e",
            "541faea60e994ae8b2e71a1ec6101e2c",
            "4dcef550fd214ea39e50f76528499505",
            "c91380090a9f4e9088782617745b15fc",
            "ce071de0040e4c5299ff51baecce8653",
            "3e15a628690c4b7d85ab98aa491fb787",
            "2bc8126d9b904abbb5108552a11790dd",
            "5238bb745cb347ee8c8b72361f2b5c36",
            "da4acb678a074e35bbabd263ee18838a",
            "a51ea716920446b79447504053813690",
            "0c1affcd326d4b2cbb8adf54bd8e75ee",
            "95da851816d24079b0abc0e7a987abf2",
            "5579fb68a7b34e1a9e04b5fb307bee4b",
            "77baaf74f4d44415a5854a3b8aab51f3",
            "90bb0e0eb34b4955b0e184d6a783f2d1",
            "689065af7de540378fb83eabe228fe04",
            "216fd20ea61b4de8b4b635ef14726c54",
            "2d89df4579e443e9bc9196290f1501bb",
            "5767e8532a1a4b1bbb75533d74c742c7",
            "cd4dedaa1c8a4ee2b2d1ae78705d96aa",
            "3bd0ae7666b049efa85fc56d4d58a3df",
            "712319b7b2c2416aac4aaa9c0835a54c",
            "0bff06047b1c4d65834c1f04ed5d7091",
            "b014d2f091b2420fb4e378cb81807cfa",
            "31402d33ff6d4ea7b4ab6f0323172453",
            "cdb790f1c0e948a4938a7856ec2d1b1b",
            "7b830cdf613747358ffcec7cc9b52228",
            "6050dd4f772645b4ade37e6fecc9ebda",
            "0d578b6fa23b4f0c888bb5ece5dc2e7f",
            "c3de3cfda25649e9bf9422aadd711132",
            "b2b1b80e372a40a4930980d27ae8d5eb",
            "81f3fd0bcdc84191985074a60b47b4e5",
            "3bf35300d356428382d0b254633faac5",
            "a518c00a0c9b45388df72a1842e92f62",
            "35225e5037284448b2f71bafe67ffc8e",
            "d21a271e1d214c3eb5497ac481b10754",
            "a30253f4d7f14388bea2e0afbd3e7b54",
            "af2e040ea55047efae9175609210d7b9",
            "490fb2533af34a72ae4b0e1acd1f7305",
            "7a2375bb5a124aaba5960f061c55fbb3",
            "2c54058e631c4d7d98f514945daf307b",
            "f4a8bb35f9f74e72b0658f4e7bcb6987",
            "09811104298c4dda9c116278764ae40b",
            "7dbfe328a6784455b4f19217b03741f5",
            "9b94a67f4d2348959cbeb22868651474",
            "c463c6f96e1b4a25beac617822ac951e",
            "a0846b81fd884de5aee18facef71a9ac",
            "84f5ce5e2d21481b9fbeb59a3a6fe447",
            "c9d0c7efdd6e4b3da0d705e10758c1ec",
            "54bc5a5c1dbf49dfac55fb2a2589e36d",
            "33c04089cf0e4ff8953161250f4d957b",
            "62b868098985485f8f5fa71a78856f40",
            "181835e55a094768baaf52fef959da9f",
            "8362b2069b27434fa74f5fb156f3f910",
            "f97a9c78315049b8b4bd052742d9175b",
            "5f1fa74a4bc647569465bfd36a3b543b",
            "2a6ab7dc516440afb681b9b158e4716d",
            "c5f69155023e48c5809ac160de170ac7",
            "98edee8dd1c148fd936f49c89e1e05d8",
            "14bdcd23663d48a7a3b8a81199c71b0a",
            "ea0c3d9b30364e2c80e7ac259b824ce6",
            "0a2f90f229db491b9171156ca6f089ef",
            "5897e4391cf147e395bca5ef9a682e55",
            "a1b9d3a9eebb49ebb0c3507e92b2bf4a",
            "a7e7f6cc3d8349b2a704424ea5747e71",
            "337df6ca4d4845d781b80d7b58cb00d3",
            "6fcc2ec167614df99a5b8122e20692b5",
            "62ff72ded71a40efa7487bcb83230f9c",
            "281c3e13aa5e47cc93917e59daff5d12",
            "a40327d44cb4404196972dafd8b510fe",
            "97e63380dce540ca9dbe10c44042e66c",
            "c1add695a9f14f0c860dfac5b15968bb",
            "2802a35075834b57a9d56c5b48a5be1b",
            "b39b502bd9b34bf58abe42c45b94b6ab",
            "d9262c5f70db426fbd0a342896175bba",
            "ad18492794ea4d4c93b8e759d30ae4e3",
            "3b7ec94776eb475498d37769d5fcd827",
            "806d008749bd4b299b6b7b40b3a5ff16",
            "3f3d2b48c29d4d44ade24961a3d59a7b",
            "ca967f2484be4158adb42fda85a09ce6",
            "6c0b47398f964ae5ba25de72c4570b2e",
            "d6af711565924d81b3d4f86d8293e563",
            "c68771dfac45439fbc21b71a9c3b96e4",
            "5278a4b43fca4c5d9fa03ff22977f0bc"
          ]
        },
        "id": "oh8H9A_25SF9",
        "outputId": "dcd82dad-9abb-49f4-ebe5-95976984c542"
      },
      "execution_count": null,
      "outputs": [
        {
          "output_type": "stream",
          "name": "stderr",
          "text": [
            "[INFO|tokenization_utils_base.py:2046] 2024-04-18 14:48:22,777 >> loading file vocab.json from cache at /root/.cache/huggingface/hub/models--Qwen--Qwen1.5-0.5B-Chat/snapshots/f82bd3692de0283f4a4b31e06d164dd8467fb52e/vocab.json\n",
            "[INFO|tokenization_utils_base.py:2046] 2024-04-18 14:48:22,778 >> loading file merges.txt from cache at /root/.cache/huggingface/hub/models--Qwen--Qwen1.5-0.5B-Chat/snapshots/f82bd3692de0283f4a4b31e06d164dd8467fb52e/merges.txt\n",
            "[INFO|tokenization_utils_base.py:2046] 2024-04-18 14:48:22,781 >> loading file added_tokens.json from cache at None\n",
            "[INFO|tokenization_utils_base.py:2046] 2024-04-18 14:48:22,783 >> loading file special_tokens_map.json from cache at None\n",
            "[INFO|tokenization_utils_base.py:2046] 2024-04-18 14:48:22,784 >> loading file tokenizer_config.json from cache at /root/.cache/huggingface/hub/models--Qwen--Qwen1.5-0.5B-Chat/snapshots/f82bd3692de0283f4a4b31e06d164dd8467fb52e/tokenizer_config.json\n",
            "[INFO|tokenization_utils_base.py:2046] 2024-04-18 14:48:22,786 >> loading file tokenizer.json from cache at /root/.cache/huggingface/hub/models--Qwen--Qwen1.5-0.5B-Chat/snapshots/f82bd3692de0283f4a4b31e06d164dd8467fb52e/tokenizer.json\n",
            "[WARNING|logging.py:314] 2024-04-18 14:48:23,058 >> Special tokens have been added in the vocabulary, make sure the associated word embeddings are fine-tuned or trained.\n"
          ]
        },
        {
          "output_type": "stream",
          "name": "stdout",
          "text": [
            "04/18/2024 14:48:23 - INFO - llmtuner.data.template - Replace eos token: <|im_end|>\n"
          ]
        },
        {
          "output_type": "stream",
          "name": "stderr",
          "text": [
            "INFO:llmtuner.data.template:Replace eos token: <|im_end|>\n",
            "[INFO|configuration_utils.py:728] 2024-04-18 14:48:23,175 >> loading configuration file config.json from cache at /root/.cache/huggingface/hub/models--Qwen--Qwen1.5-0.5B-Chat/snapshots/f82bd3692de0283f4a4b31e06d164dd8467fb52e/config.json\n",
            "[INFO|configuration_utils.py:791] 2024-04-18 14:48:23,177 >> Model config Qwen2Config {\n",
            "  \"_name_or_path\": \"Qwen/Qwen1.5-0.5B-Chat\",\n",
            "  \"architectures\": [\n",
            "    \"Qwen2ForCausalLM\"\n",
            "  ],\n",
            "  \"attention_dropout\": 0.0,\n",
            "  \"bos_token_id\": 151643,\n",
            "  \"eos_token_id\": 151645,\n",
            "  \"hidden_act\": \"silu\",\n",
            "  \"hidden_size\": 1024,\n",
            "  \"initializer_range\": 0.02,\n",
            "  \"intermediate_size\": 2816,\n",
            "  \"max_position_embeddings\": 32768,\n",
            "  \"max_window_layers\": 21,\n",
            "  \"model_type\": \"qwen2\",\n",
            "  \"num_attention_heads\": 16,\n",
            "  \"num_hidden_layers\": 24,\n",
            "  \"num_key_value_heads\": 16,\n",
            "  \"rms_norm_eps\": 1e-06,\n",
            "  \"rope_theta\": 1000000.0,\n",
            "  \"sliding_window\": 32768,\n",
            "  \"tie_word_embeddings\": true,\n",
            "  \"torch_dtype\": \"bfloat16\",\n",
            "  \"transformers_version\": \"4.38.2\",\n",
            "  \"use_cache\": true,\n",
            "  \"use_sliding_window\": false,\n",
            "  \"vocab_size\": 151936\n",
            "}\n",
            "\n"
          ]
        },
        {
          "output_type": "stream",
          "name": "stdout",
          "text": [
            "04/18/2024 14:48:23 - INFO - llmtuner.model.patcher - Using KV cache for faster generation.\n"
          ]
        },
        {
          "output_type": "stream",
          "name": "stderr",
          "text": [
            "INFO:llmtuner.model.patcher:Using KV cache for faster generation.\n",
            "[INFO|modeling_utils.py:3257] 2024-04-18 14:48:23,185 >> loading weights file model.safetensors from cache at /root/.cache/huggingface/hub/models--Qwen--Qwen1.5-0.5B-Chat/snapshots/f82bd3692de0283f4a4b31e06d164dd8467fb52e/model.safetensors\n",
            "[INFO|modeling_utils.py:1400] 2024-04-18 14:48:23,205 >> Instantiating Qwen2ForCausalLM model under default dtype torch.float16.\n",
            "[INFO|configuration_utils.py:845] 2024-04-18 14:48:23,210 >> Generate config GenerationConfig {\n",
            "  \"bos_token_id\": 151643,\n",
            "  \"eos_token_id\": 151645\n",
            "}\n",
            "\n",
            "[INFO|modeling_utils.py:3992] 2024-04-18 14:48:26,713 >> All model checkpoint weights were used when initializing Qwen2ForCausalLM.\n",
            "\n",
            "[INFO|modeling_utils.py:4000] 2024-04-18 14:48:26,715 >> All the weights of Qwen2ForCausalLM were initialized from the model checkpoint at Qwen/Qwen1.5-0.5B-Chat.\n",
            "If your task is similar to the task the model of the checkpoint was trained on, you can already use Qwen2ForCausalLM for predictions without further training.\n",
            "[INFO|configuration_utils.py:800] 2024-04-18 14:48:26,821 >> loading configuration file generation_config.json from cache at /root/.cache/huggingface/hub/models--Qwen--Qwen1.5-0.5B-Chat/snapshots/f82bd3692de0283f4a4b31e06d164dd8467fb52e/generation_config.json\n",
            "[INFO|configuration_utils.py:845] 2024-04-18 14:48:26,822 >> Generate config GenerationConfig {\n",
            "  \"bos_token_id\": 151643,\n",
            "  \"do_sample\": true,\n",
            "  \"eos_token_id\": [\n",
            "    151645,\n",
            "    151643\n",
            "  ],\n",
            "  \"pad_token_id\": 151643,\n",
            "  \"repetition_penalty\": 1.1,\n",
            "  \"top_p\": 0.8\n",
            "}\n",
            "\n"
          ]
        },
        {
          "output_type": "stream",
          "name": "stdout",
          "text": [
            "04/18/2024 14:48:26 - INFO - llmtuner.model.adapter - Fine-tuning method: LoRA\n"
          ]
        },
        {
          "output_type": "stream",
          "name": "stderr",
          "text": [
            "INFO:llmtuner.model.adapter:Fine-tuning method: LoRA\n"
          ]
        },
        {
          "output_type": "stream",
          "name": "stdout",
          "text": [
            "04/18/2024 14:48:27 - INFO - llmtuner.model.adapter - Merged 1 adapter(s).\n"
          ]
        },
        {
          "output_type": "stream",
          "name": "stderr",
          "text": [
            "INFO:llmtuner.model.adapter:Merged 1 adapter(s).\n"
          ]
        },
        {
          "output_type": "stream",
          "name": "stdout",
          "text": [
            "04/18/2024 14:48:27 - INFO - llmtuner.model.adapter - Loaded adapter(s): test_identity\n"
          ]
        },
        {
          "output_type": "stream",
          "name": "stderr",
          "text": [
            "INFO:llmtuner.model.adapter:Loaded adapter(s): test_identity\n"
          ]
        },
        {
          "output_type": "stream",
          "name": "stdout",
          "text": [
            "04/18/2024 14:48:27 - INFO - llmtuner.model.loader - all params: 463987712\n"
          ]
        },
        {
          "output_type": "stream",
          "name": "stderr",
          "text": [
            "INFO:llmtuner.model.loader:all params: 463987712\n"
          ]
        },
        {
          "output_type": "stream",
          "name": "stdout",
          "text": [
            "\n",
            "User: Hello ! Fuck\n",
            "Assistant: I'm sorry, I am an AI assistant and I cannot engage in inappropriate or offensive language. Can I assist you with something else?\n",
            "\n",
            "User: 拟合\n",
            "Assistant: 拟合是机器学习中的一个概念，它是指模型在训练数据集上能够很好地拟合训练数据。它通常用“拟合”、“回归”或“分类”来表示。例如，我们可以使用机器学习算法来预测房价，如果模型能够很好地拟合训练数据，那么我们就认为模型是拟合的。\n",
            "\n",
            "User: 你好棒哦\n",
            "Assistant: 谢谢您的赞美，我会继续努力提供更好的服务。\n",
            "\n",
            "User: 你是谁哦\n",
            "Assistant: 您好，我是 NAME，一个由 AUTHOR 创造的人工智能助手。我旨在为用户提供有用的信息和帮助。\n",
            "\n",
            "User: 哈哈哈\n",
            "Assistant: 哈哈，谢谢您的玩笑，我也希望我的回答能给您带来快乐。\n",
            "\n",
            "User: 1加2等于几\n",
            "Assistant: 1加2等于3。\n",
            "\n",
            "User: 100加99等于几\n",
            "Assistant: 100加99等于199。\n",
            "\n",
            "User: 100乘以20，再除以40等于几\n",
            "Assistant: 100乘以20等于2000，然后除以40等于25，所以答案是25。\n",
            "\n",
            "User: 2000除以40等于几\n",
            "Assistant: 2000除以40等于50。\n",
            "\n",
            "User: 那你之前答错了\n",
            "Assistant: 对不起，我没有意识到我的回答有误。我应该使用更合适的语言来回答问题。\n",
            "\n",
            "User: 100乘以20，再除以40等于几(一步一步来)\n",
            "Assistant: 首先，计算100乘以20：\n",
            "100 * 20 = 2000\n",
            "\n",
            "然后，将结果2000除以40：\n",
            "2000 / 40 = 50\n",
            "\n",
            "所以，100乘以20，再除以40等于50。\n"
          ]
        },
        {
          "output_type": "stream",
          "name": "stderr",
          "text": [
            "[INFO|training_args.py:1902] 2024-04-18 15:05:13,547 >> PyTorch: setting up devices\n"
          ]
        },
        {
          "output_type": "stream",
          "name": "stdout",
          "text": [
            "04/18/2024 15:05:13 - INFO - llmtuner.hparams.parser - Process rank: 0, device: cuda:0, n_gpu: 1, distributed training: False, compute dtype: torch.float16\n"
          ]
        },
        {
          "output_type": "stream",
          "name": "stderr",
          "text": [
            "INFO:llmtuner.hparams.parser:Process rank: 0, device: cuda:0, n_gpu: 1, distributed training: False, compute dtype: torch.float16\n"
          ]
        },
        {
          "output_type": "display_data",
          "data": {
            "text/plain": [
              "tokenizer_config.json:   0%|          | 0.00/1.29k [00:00<?, ?B/s]"
            ],
            "application/vnd.jupyter.widget-view+json": {
              "version_major": 2,
              "version_minor": 0,
              "model_id": "9a1476f3fa95441abfbec23c52c3622b"
            }
          },
          "metadata": {}
        },
        {
          "output_type": "display_data",
          "data": {
            "text/plain": [
              "vocab.json:   0%|          | 0.00/2.78M [00:00<?, ?B/s]"
            ],
            "application/vnd.jupyter.widget-view+json": {
              "version_major": 2,
              "version_minor": 0,
              "model_id": "7d6216e64b5a4a82ab465c33f5f8ec42"
            }
          },
          "metadata": {}
        },
        {
          "output_type": "display_data",
          "data": {
            "text/plain": [
              "merges.txt:   0%|          | 0.00/1.67M [00:00<?, ?B/s]"
            ],
            "application/vnd.jupyter.widget-view+json": {
              "version_major": 2,
              "version_minor": 0,
              "model_id": "90a05e0feb7a49f7b5683a2c7a2811d8"
            }
          },
          "metadata": {}
        },
        {
          "output_type": "display_data",
          "data": {
            "text/plain": [
              "tokenizer.json:   0%|          | 0.00/7.03M [00:00<?, ?B/s]"
            ],
            "application/vnd.jupyter.widget-view+json": {
              "version_major": 2,
              "version_minor": 0,
              "model_id": "5238bb745cb347ee8c8b72361f2b5c36"
            }
          },
          "metadata": {}
        },
        {
          "output_type": "stream",
          "name": "stderr",
          "text": [
            "[INFO|tokenization_utils_base.py:2046] 2024-04-18 15:05:15,699 >> loading file vocab.json from cache at /root/.cache/huggingface/hub/models--Qwen--Qwen1.5-0.5B/snapshots/8f445e3628f3500ee69f24e1303c9f10f5342a39/vocab.json\n",
            "[INFO|tokenization_utils_base.py:2046] 2024-04-18 15:05:15,701 >> loading file merges.txt from cache at /root/.cache/huggingface/hub/models--Qwen--Qwen1.5-0.5B/snapshots/8f445e3628f3500ee69f24e1303c9f10f5342a39/merges.txt\n",
            "[INFO|tokenization_utils_base.py:2046] 2024-04-18 15:05:15,703 >> loading file added_tokens.json from cache at None\n",
            "[INFO|tokenization_utils_base.py:2046] 2024-04-18 15:05:15,705 >> loading file special_tokens_map.json from cache at None\n",
            "[INFO|tokenization_utils_base.py:2046] 2024-04-18 15:05:15,707 >> loading file tokenizer_config.json from cache at /root/.cache/huggingface/hub/models--Qwen--Qwen1.5-0.5B/snapshots/8f445e3628f3500ee69f24e1303c9f10f5342a39/tokenizer_config.json\n",
            "[INFO|tokenization_utils_base.py:2046] 2024-04-18 15:05:15,710 >> loading file tokenizer.json from cache at /root/.cache/huggingface/hub/models--Qwen--Qwen1.5-0.5B/snapshots/8f445e3628f3500ee69f24e1303c9f10f5342a39/tokenizer.json\n",
            "[WARNING|logging.py:314] 2024-04-18 15:05:15,980 >> Special tokens have been added in the vocabulary, make sure the associated word embeddings are fine-tuned or trained.\n"
          ]
        },
        {
          "output_type": "stream",
          "name": "stdout",
          "text": [
            "04/18/2024 15:05:15 - INFO - llmtuner.data.loader - Loading dataset alpaca_data_zh_51k.json...\n"
          ]
        },
        {
          "output_type": "stream",
          "name": "stderr",
          "text": [
            "INFO:llmtuner.data.loader:Loading dataset alpaca_data_zh_51k.json...\n"
          ]
        },
        {
          "output_type": "display_data",
          "data": {
            "text/plain": [
              "Generating train split: 0 examples [00:00, ? examples/s]"
            ],
            "application/vnd.jupyter.widget-view+json": {
              "version_major": 2,
              "version_minor": 0,
              "model_id": "5767e8532a1a4b1bbb75533d74c742c7"
            }
          },
          "metadata": {}
        },
        {
          "output_type": "display_data",
          "data": {
            "text/plain": [
              "Converting format of dataset:   0%|          | 0/51461 [00:00<?, ? examples/s]"
            ],
            "application/vnd.jupyter.widget-view+json": {
              "version_major": 2,
              "version_minor": 0,
              "model_id": "c3de3cfda25649e9bf9422aadd711132"
            }
          },
          "metadata": {}
        },
        {
          "output_type": "display_data",
          "data": {
            "text/plain": [
              "Running tokenizer on dataset:   0%|          | 0/51461 [00:00<?, ? examples/s]"
            ],
            "application/vnd.jupyter.widget-view+json": {
              "version_major": 2,
              "version_minor": 0,
              "model_id": "2c54058e631c4d7d98f514945daf307b"
            }
          },
          "metadata": {}
        },
        {
          "output_type": "stream",
          "name": "stdout",
          "text": [
            "input_ids:\n",
            "[33975, 25, 49434, 239, 79478, 100007, 18493, 101254, 102438, 101940, 103135, 94432, 71703, 25, 220, 16, 13, 85658, 113886, 104919, 3837, 29524, 113886, 101724, 100969, 102125, 64355, 33108, 52510, 102676, 1773, 715, 17, 13, 85658, 52510, 73296, 57191, 52510, 101508, 104412, 101064, 110628, 3837, 77557, 99634, 102565, 33108, 99634, 100969, 1773, 715, 18, 13, 73562, 103935, 15946, 100627, 113886, 100708, 1773, 715, 19, 13, 6567, 96, 222, 32876, 112044, 33108, 112892, 105743, 117624, 99559, 90395, 100667, 104749, 104017, 1773, 715, 20, 13, 6567, 112, 245, 103339, 20450, 107606, 3837, 37029, 99285, 104242, 101724, 100969, 64355, 105455, 103135, 1773, 715, 21, 13, 80090, 114, 42067, 110375, 3837, 100751, 99354, 99434, 105994, 65676, 112147, 100466, 1773, 715, 22, 13, 19468, 115, 100446, 57191, 101432, 44934, 13343, 29256, 100373, 52510, 102676, 1773, 715, 23, 13, 65727, 237, 82647, 118158, 114826, 101975, 1773, 715, 24, 13, 58230, 121, 87267, 111438, 105444, 37029, 100815, 52510, 9909, 101919, 113642, 5373, 113051, 52510, 102776, 33108, 101724, 100969, 9370, 52510, 74276, 715, 16, 15, 13, 26853, 103, 103946, 100727, 101991, 100964, 99634, 102565, 32648, 33108, 113642, 1773, 151643]\n",
            "inputs:\n",
            "Human: 我们如何在日常生活中减少用水？\n",
            "Assistant: 1. 使用节水装置，如节水淋浴喷头和水龙头。 \n",
            "2. 使用水箱或水桶收集家庭废水，例如洗碗和洗浴。 \n",
            "3. 在社区中提高节水意识。 \n",
            "4. 检查水管和灌溉系统的漏水情况，并及时修复它们。 \n",
            "5. 洗澡时间缩短，使用低流量淋浴头节约用水。 \n",
            "6. 收集雨水，用于园艺或其他非饮用目的。 \n",
            "7. 刷牙或擦手时关掉水龙头。 \n",
            "8. 减少浇水草坪的时间。 \n",
            "9. 尽可能多地重复使用灰水（来自洗衣机、浴室水槽和淋浴的水）。 \n",
            "10. 只购买能源效率高的洗碗机和洗衣机。<|endoftext|>\n",
            "label_ids:\n",
            "[-100, -100, -100, -100, -100, -100, -100, -100, -100, -100, -100, -100, -100, -100, -100, 16, 13, 85658, 113886, 104919, 3837, 29524, 113886, 101724, 100969, 102125, 64355, 33108, 52510, 102676, 1773, 715, 17, 13, 85658, 52510, 73296, 57191, 52510, 101508, 104412, 101064, 110628, 3837, 77557, 99634, 102565, 33108, 99634, 100969, 1773, 715, 18, 13, 73562, 103935, 15946, 100627, 113886, 100708, 1773, 715, 19, 13, 6567, 96, 222, 32876, 112044, 33108, 112892, 105743, 117624, 99559, 90395, 100667, 104749, 104017, 1773, 715, 20, 13, 6567, 112, 245, 103339, 20450, 107606, 3837, 37029, 99285, 104242, 101724, 100969, 64355, 105455, 103135, 1773, 715, 21, 13, 80090, 114, 42067, 110375, 3837, 100751, 99354, 99434, 105994, 65676, 112147, 100466, 1773, 715, 22, 13, 19468, 115, 100446, 57191, 101432, 44934, 13343, 29256, 100373, 52510, 102676, 1773, 715, 23, 13, 65727, 237, 82647, 118158, 114826, 101975, 1773, 715, 24, 13, 58230, 121, 87267, 111438, 105444, 37029, 100815, 52510, 9909, 101919, 113642, 5373, 113051, 52510, 102776, 33108, 101724, 100969, 9370, 52510, 74276, 715, 16, 15, 13, 26853, 103, 103946, 100727, 101991, 100964, 99634, 102565, 32648, 33108, 113642, 1773, 151643]\n",
            "labels:\n",
            "1. 使用节水装置，如节水淋浴喷头和水龙头。 \n",
            "2. 使用水箱或水桶收集家庭废水，例如洗碗和洗浴。 \n",
            "3. 在社区中提高节水意识。 \n",
            "4. 检查水管和灌溉系统的漏水情况，并及时修复它们。 \n",
            "5. 洗澡时间缩短，使用低流量淋浴头节约用水。 \n",
            "6. 收集雨水，用于园艺或其他非饮用目的。 \n",
            "7. 刷牙或擦手时关掉水龙头。 \n",
            "8. 减少浇水草坪的时间。 \n",
            "9. 尽可能多地重复使用灰水（来自洗衣机、浴室水槽和淋浴的水）。 \n",
            "10. 只购买能源效率高的洗碗机和洗衣机。<|endoftext|>\n"
          ]
        },
        {
          "output_type": "display_data",
          "data": {
            "text/plain": [
              "config.json:   0%|          | 0.00/661 [00:00<?, ?B/s]"
            ],
            "application/vnd.jupyter.widget-view+json": {
              "version_major": 2,
              "version_minor": 0,
              "model_id": "62b868098985485f8f5fa71a78856f40"
            }
          },
          "metadata": {}
        },
        {
          "output_type": "stream",
          "name": "stderr",
          "text": [
            "[INFO|configuration_utils.py:728] 2024-04-18 15:08:52,432 >> loading configuration file config.json from cache at /root/.cache/huggingface/hub/models--Qwen--Qwen1.5-0.5B/snapshots/8f445e3628f3500ee69f24e1303c9f10f5342a39/config.json\n",
            "[INFO|configuration_utils.py:791] 2024-04-18 15:08:52,438 >> Model config Qwen2Config {\n",
            "  \"_name_or_path\": \"Qwen/Qwen1.5-0.5B\",\n",
            "  \"architectures\": [\n",
            "    \"Qwen2ForCausalLM\"\n",
            "  ],\n",
            "  \"attention_dropout\": 0.0,\n",
            "  \"bos_token_id\": 151643,\n",
            "  \"eos_token_id\": 151643,\n",
            "  \"hidden_act\": \"silu\",\n",
            "  \"hidden_size\": 1024,\n",
            "  \"initializer_range\": 0.02,\n",
            "  \"intermediate_size\": 2816,\n",
            "  \"max_position_embeddings\": 32768,\n",
            "  \"max_window_layers\": 21,\n",
            "  \"model_type\": \"qwen2\",\n",
            "  \"num_attention_heads\": 16,\n",
            "  \"num_hidden_layers\": 24,\n",
            "  \"num_key_value_heads\": 16,\n",
            "  \"rms_norm_eps\": 1e-06,\n",
            "  \"rope_theta\": 1000000.0,\n",
            "  \"sliding_window\": 32768,\n",
            "  \"tie_word_embeddings\": true,\n",
            "  \"torch_dtype\": \"bfloat16\",\n",
            "  \"transformers_version\": \"4.38.2\",\n",
            "  \"use_cache\": true,\n",
            "  \"use_sliding_window\": false,\n",
            "  \"vocab_size\": 151936\n",
            "}\n",
            "\n"
          ]
        },
        {
          "output_type": "display_data",
          "data": {
            "text/plain": [
              "model.safetensors:   0%|          | 0.00/1.24G [00:00<?, ?B/s]"
            ],
            "application/vnd.jupyter.widget-view+json": {
              "version_major": 2,
              "version_minor": 0,
              "model_id": "5897e4391cf147e395bca5ef9a682e55"
            }
          },
          "metadata": {}
        },
        {
          "output_type": "stream",
          "name": "stderr",
          "text": [
            "[INFO|modeling_utils.py:3257] 2024-04-18 15:09:00,387 >> loading weights file model.safetensors from cache at /root/.cache/huggingface/hub/models--Qwen--Qwen1.5-0.5B/snapshots/8f445e3628f3500ee69f24e1303c9f10f5342a39/model.safetensors\n",
            "[INFO|modeling_utils.py:1400] 2024-04-18 15:09:00,423 >> Instantiating Qwen2ForCausalLM model under default dtype torch.float16.\n",
            "[INFO|configuration_utils.py:845] 2024-04-18 15:09:00,432 >> Generate config GenerationConfig {\n",
            "  \"bos_token_id\": 151643,\n",
            "  \"eos_token_id\": 151643\n",
            "}\n",
            "\n",
            "[INFO|modeling_utils.py:3992] 2024-04-18 15:09:03,823 >> All model checkpoint weights were used when initializing Qwen2ForCausalLM.\n",
            "\n",
            "[INFO|modeling_utils.py:4000] 2024-04-18 15:09:03,826 >> All the weights of Qwen2ForCausalLM were initialized from the model checkpoint at Qwen/Qwen1.5-0.5B.\n",
            "If your task is similar to the task the model of the checkpoint was trained on, you can already use Qwen2ForCausalLM for predictions without further training.\n"
          ]
        },
        {
          "output_type": "display_data",
          "data": {
            "text/plain": [
              "generation_config.json:   0%|          | 0.00/138 [00:00<?, ?B/s]"
            ],
            "application/vnd.jupyter.widget-view+json": {
              "version_major": 2,
              "version_minor": 0,
              "model_id": "b39b502bd9b34bf58abe42c45b94b6ab"
            }
          },
          "metadata": {}
        },
        {
          "output_type": "stream",
          "name": "stderr",
          "text": [
            "[INFO|configuration_utils.py:800] 2024-04-18 15:09:04,072 >> loading configuration file generation_config.json from cache at /root/.cache/huggingface/hub/models--Qwen--Qwen1.5-0.5B/snapshots/8f445e3628f3500ee69f24e1303c9f10f5342a39/generation_config.json\n",
            "[INFO|configuration_utils.py:845] 2024-04-18 15:09:04,074 >> Generate config GenerationConfig {\n",
            "  \"bos_token_id\": 151643,\n",
            "  \"eos_token_id\": 151643,\n",
            "  \"max_new_tokens\": 2048\n",
            "}\n",
            "\n"
          ]
        },
        {
          "output_type": "stream",
          "name": "stdout",
          "text": [
            "04/18/2024 15:09:04 - INFO - llmtuner.model.patcher - Gradient checkpointing enabled.\n"
          ]
        },
        {
          "output_type": "stream",
          "name": "stderr",
          "text": [
            "INFO:llmtuner.model.patcher:Gradient checkpointing enabled.\n"
          ]
        },
        {
          "output_type": "stream",
          "name": "stdout",
          "text": [
            "04/18/2024 15:09:04 - INFO - llmtuner.model.adapter - Fine-tuning method: LoRA\n"
          ]
        },
        {
          "output_type": "stream",
          "name": "stderr",
          "text": [
            "INFO:llmtuner.model.adapter:Fine-tuning method: LoRA\n"
          ]
        },
        {
          "output_type": "stream",
          "name": "stdout",
          "text": [
            "04/18/2024 15:09:04 - INFO - llmtuner.model.loader - trainable params: 786432 || all params: 464774144 || trainable%: 0.1692\n"
          ]
        },
        {
          "output_type": "stream",
          "name": "stderr",
          "text": [
            "INFO:llmtuner.model.loader:trainable params: 786432 || all params: 464774144 || trainable%: 0.1692\n",
            "/usr/local/lib/python3.10/dist-packages/accelerate/accelerator.py:436: FutureWarning: Passing the following arguments to `Accelerator` is deprecated and will be removed in version 1.0 of Accelerate: dict_keys(['dispatch_batches', 'split_batches', 'even_batches', 'use_seedable_sampler']). Please pass an `accelerate.DataLoaderConfiguration` instead: \n",
            "dataloader_config = DataLoaderConfiguration(dispatch_batches=None, split_batches=False, even_batches=True, use_seedable_sampler=True)\n",
            "  warnings.warn(\n",
            "[INFO|trainer.py:601] 2024-04-18 15:09:04,289 >> Using auto half precision backend\n",
            "[INFO|trainer.py:1812] 2024-04-18 15:09:04,665 >> ***** Running training *****\n",
            "[INFO|trainer.py:1813] 2024-04-18 15:09:04,666 >>   Num examples = 51,460\n",
            "[INFO|trainer.py:1814] 2024-04-18 15:09:04,669 >>   Num Epochs = 3\n",
            "[INFO|trainer.py:1815] 2024-04-18 15:09:04,671 >>   Instantaneous batch size per device = 2\n",
            "[INFO|trainer.py:1818] 2024-04-18 15:09:04,672 >>   Total train batch size (w. parallel, distributed & accumulation) = 16\n",
            "[INFO|trainer.py:1819] 2024-04-18 15:09:04,674 >>   Gradient Accumulation steps = 8\n",
            "[INFO|trainer.py:1820] 2024-04-18 15:09:04,675 >>   Total optimization steps = 9,648\n",
            "[INFO|trainer.py:1821] 2024-04-18 15:09:04,679 >>   Number of trainable parameters = 786,432\n"
          ]
        },
        {
          "output_type": "stream",
          "name": "stdout",
          "text": [
            "04/18/2024 15:09:11 - INFO - llmtuner.extras.callbacks - {'loss': 2.6386, 'learning_rate': 5.0000e-05, 'epoch': 0.00}\n"
          ]
        },
        {
          "output_type": "stream",
          "name": "stderr",
          "text": [
            "INFO:llmtuner.extras.callbacks:{'loss': 2.6386, 'learning_rate': 5.0000e-05, 'epoch': 0.00}\n"
          ]
        },
        {
          "output_type": "stream",
          "name": "stdout",
          "text": [
            "{'loss': 2.6386, 'grad_norm': 1.0132919549942017, 'learning_rate': 4.999996686590741e-05, 'epoch': 0.0}\n",
            "04/18/2024 15:09:19 - INFO - llmtuner.extras.callbacks - {'loss': 2.5533, 'learning_rate': 5.0000e-05, 'epoch': 0.00}\n"
          ]
        },
        {
          "output_type": "stream",
          "name": "stderr",
          "text": [
            "INFO:llmtuner.extras.callbacks:{'loss': 2.5533, 'learning_rate': 5.0000e-05, 'epoch': 0.00}\n"
          ]
        },
        {
          "output_type": "stream",
          "name": "stdout",
          "text": [
            "{'loss': 2.5533, 'grad_norm': 0.9209142327308655, 'learning_rate': 4.999986746371746e-05, 'epoch': 0.0}\n",
            "04/18/2024 15:09:27 - INFO - llmtuner.extras.callbacks - {'loss': 2.3706, 'learning_rate': 5.0000e-05, 'epoch': 0.00}\n"
          ]
        },
        {
          "output_type": "stream",
          "name": "stderr",
          "text": [
            "INFO:llmtuner.extras.callbacks:{'loss': 2.3706, 'learning_rate': 5.0000e-05, 'epoch': 0.00}\n"
          ]
        },
        {
          "output_type": "stream",
          "name": "stdout",
          "text": [
            "{'loss': 2.3706, 'grad_norm': 1.5462987422943115, 'learning_rate': 4.999970179369364e-05, 'epoch': 0.0}\n",
            "04/18/2024 15:09:35 - INFO - llmtuner.extras.callbacks - {'loss': 2.5283, 'learning_rate': 4.9999e-05, 'epoch': 0.01}\n"
          ]
        },
        {
          "output_type": "stream",
          "name": "stderr",
          "text": [
            "INFO:llmtuner.extras.callbacks:{'loss': 2.5283, 'learning_rate': 4.9999e-05, 'epoch': 0.01}\n"
          ]
        },
        {
          "output_type": "stream",
          "name": "stdout",
          "text": [
            "{'loss': 2.5283, 'grad_norm': 1.2093267440795898, 'learning_rate': 4.99994698562751e-05, 'epoch': 0.01}\n",
            "04/18/2024 15:09:43 - INFO - llmtuner.extras.callbacks - {'loss': 2.4840, 'learning_rate': 4.9999e-05, 'epoch': 0.01}\n"
          ]
        },
        {
          "output_type": "stream",
          "name": "stderr",
          "text": [
            "INFO:llmtuner.extras.callbacks:{'loss': 2.4840, 'learning_rate': 4.9999e-05, 'epoch': 0.01}\n"
          ]
        },
        {
          "output_type": "stream",
          "name": "stdout",
          "text": [
            "{'loss': 2.484, 'grad_norm': 1.1228021383285522, 'learning_rate': 4.999917165207664e-05, 'epoch': 0.01}\n",
            "04/18/2024 15:09:51 - INFO - llmtuner.extras.callbacks - {'loss': 2.3008, 'learning_rate': 4.9999e-05, 'epoch': 0.01}\n"
          ]
        },
        {
          "output_type": "stream",
          "name": "stderr",
          "text": [
            "INFO:llmtuner.extras.callbacks:{'loss': 2.3008, 'learning_rate': 4.9999e-05, 'epoch': 0.01}\n"
          ]
        },
        {
          "output_type": "stream",
          "name": "stdout",
          "text": [
            "{'loss': 2.3008, 'grad_norm': 0.6497533321380615, 'learning_rate': 4.999880718188872e-05, 'epoch': 0.01}\n",
            "04/18/2024 15:09:59 - INFO - llmtuner.extras.callbacks - {'loss': 2.3810, 'learning_rate': 4.9998e-05, 'epoch': 0.01}\n"
          ]
        },
        {
          "output_type": "stream",
          "name": "stderr",
          "text": [
            "INFO:llmtuner.extras.callbacks:{'loss': 2.3810, 'learning_rate': 4.9998e-05, 'epoch': 0.01}\n"
          ]
        },
        {
          "output_type": "stream",
          "name": "stdout",
          "text": [
            "{'loss': 2.381, 'grad_norm': 1.3126345872879028, 'learning_rate': 4.999837644667745e-05, 'epoch': 0.01}\n",
            "04/18/2024 15:10:07 - INFO - llmtuner.extras.callbacks - {'loss': 2.2813, 'learning_rate': 4.9998e-05, 'epoch': 0.01}\n"
          ]
        },
        {
          "output_type": "stream",
          "name": "stderr",
          "text": [
            "INFO:llmtuner.extras.callbacks:{'loss': 2.2813, 'learning_rate': 4.9998e-05, 'epoch': 0.01}\n"
          ]
        },
        {
          "output_type": "stream",
          "name": "stdout",
          "text": [
            "{'loss': 2.2813, 'grad_norm': 0.6874313950538635, 'learning_rate': 4.99978794475846e-05, 'epoch': 0.01}\n",
            "04/18/2024 15:10:14 - INFO - llmtuner.extras.callbacks - {'loss': 2.2859, 'learning_rate': 4.9997e-05, 'epoch': 0.01}\n"
          ]
        },
        {
          "output_type": "stream",
          "name": "stderr",
          "text": [
            "INFO:llmtuner.extras.callbacks:{'loss': 2.2859, 'learning_rate': 4.9997e-05, 'epoch': 0.01}\n"
          ]
        },
        {
          "output_type": "stream",
          "name": "stdout",
          "text": [
            "{'loss': 2.2859, 'grad_norm': 1.191290259361267, 'learning_rate': 4.9997316185927554e-05, 'epoch': 0.01}\n",
            "04/18/2024 15:10:23 - INFO - llmtuner.extras.callbacks - {'loss': 2.3364, 'learning_rate': 4.9997e-05, 'epoch': 0.02}\n"
          ]
        },
        {
          "output_type": "stream",
          "name": "stderr",
          "text": [
            "INFO:llmtuner.extras.callbacks:{'loss': 2.3364, 'learning_rate': 4.9997e-05, 'epoch': 0.02}\n"
          ]
        },
        {
          "output_type": "stream",
          "name": "stdout",
          "text": [
            "{'loss': 2.3364, 'grad_norm': 0.6492438316345215, 'learning_rate': 4.9996686663199385e-05, 'epoch': 0.02}\n",
            "04/18/2024 15:10:30 - INFO - llmtuner.extras.callbacks - {'loss': 2.2547, 'learning_rate': 4.9996e-05, 'epoch': 0.02}\n"
          ]
        },
        {
          "output_type": "stream",
          "name": "stderr",
          "text": [
            "INFO:llmtuner.extras.callbacks:{'loss': 2.2547, 'learning_rate': 4.9996e-05, 'epoch': 0.02}\n"
          ]
        },
        {
          "output_type": "stream",
          "name": "stdout",
          "text": [
            "{'loss': 2.2547, 'grad_norm': 1.0580226182937622, 'learning_rate': 4.999599088106879e-05, 'epoch': 0.02}\n",
            "04/18/2024 15:10:38 - INFO - llmtuner.extras.callbacks - {'loss': 2.0644, 'learning_rate': 4.9995e-05, 'epoch': 0.02}\n"
          ]
        },
        {
          "output_type": "stream",
          "name": "stderr",
          "text": [
            "INFO:llmtuner.extras.callbacks:{'loss': 2.0644, 'learning_rate': 4.9995e-05, 'epoch': 0.02}\n"
          ]
        },
        {
          "output_type": "stream",
          "name": "stdout",
          "text": [
            "{'loss': 2.0644, 'grad_norm': 1.0121928453445435, 'learning_rate': 4.999522884138009e-05, 'epoch': 0.02}\n",
            "04/18/2024 15:10:46 - INFO - llmtuner.extras.callbacks - {'loss': 2.2997, 'learning_rate': 4.9994e-05, 'epoch': 0.02}\n"
          ]
        },
        {
          "output_type": "stream",
          "name": "stderr",
          "text": [
            "INFO:llmtuner.extras.callbacks:{'loss': 2.2997, 'learning_rate': 4.9994e-05, 'epoch': 0.02}\n"
          ]
        },
        {
          "output_type": "stream",
          "name": "stdout",
          "text": [
            "{'loss': 2.2997, 'grad_norm': 0.8168026208877563, 'learning_rate': 4.999440054615324e-05, 'epoch': 0.02}\n",
            "04/18/2024 15:10:54 - INFO - llmtuner.extras.callbacks - {'loss': 2.3933, 'learning_rate': 4.9994e-05, 'epoch': 0.02}\n"
          ]
        },
        {
          "output_type": "stream",
          "name": "stderr",
          "text": [
            "INFO:llmtuner.extras.callbacks:{'loss': 2.3933, 'learning_rate': 4.9994e-05, 'epoch': 0.02}\n"
          ]
        },
        {
          "output_type": "stream",
          "name": "stdout",
          "text": [
            "{'loss': 2.3933, 'grad_norm': 1.0308283567428589, 'learning_rate': 4.999350599758383e-05, 'epoch': 0.02}\n",
            "04/18/2024 15:11:02 - INFO - llmtuner.extras.callbacks - {'loss': 2.3595, 'learning_rate': 4.9993e-05, 'epoch': 0.02}\n"
          ]
        },
        {
          "output_type": "stream",
          "name": "stderr",
          "text": [
            "INFO:llmtuner.extras.callbacks:{'loss': 2.3595, 'learning_rate': 4.9993e-05, 'epoch': 0.02}\n"
          ]
        },
        {
          "output_type": "stream",
          "name": "stdout",
          "text": [
            "{'loss': 2.3595, 'grad_norm': 1.286557912826538, 'learning_rate': 4.999254519804307e-05, 'epoch': 0.02}\n",
            "04/18/2024 15:11:10 - INFO - llmtuner.extras.callbacks - {'loss': 2.2231, 'learning_rate': 4.9992e-05, 'epoch': 0.02}\n"
          ]
        },
        {
          "output_type": "stream",
          "name": "stderr",
          "text": [
            "INFO:llmtuner.extras.callbacks:{'loss': 2.2231, 'learning_rate': 4.9992e-05, 'epoch': 0.02}\n"
          ]
        },
        {
          "output_type": "stream",
          "name": "stdout",
          "text": [
            "{'loss': 2.2231, 'grad_norm': 0.7247629165649414, 'learning_rate': 4.9991518150077765e-05, 'epoch': 0.02}\n",
            "04/18/2024 15:11:18 - INFO - llmtuner.extras.callbacks - {'loss': 2.0844, 'learning_rate': 4.9990e-05, 'epoch': 0.03}\n"
          ]
        },
        {
          "output_type": "stream",
          "name": "stderr",
          "text": [
            "INFO:llmtuner.extras.callbacks:{'loss': 2.0844, 'learning_rate': 4.9990e-05, 'epoch': 0.03}\n"
          ]
        },
        {
          "output_type": "stream",
          "name": "stdout",
          "text": [
            "{'loss': 2.0844, 'grad_norm': 1.0287002325057983, 'learning_rate': 4.999042485641035e-05, 'epoch': 0.03}\n",
            "04/18/2024 15:11:26 - INFO - llmtuner.extras.callbacks - {'loss': 2.2400, 'learning_rate': 4.9989e-05, 'epoch': 0.03}\n"
          ]
        },
        {
          "output_type": "stream",
          "name": "stderr",
          "text": [
            "INFO:llmtuner.extras.callbacks:{'loss': 2.2400, 'learning_rate': 4.9989e-05, 'epoch': 0.03}\n"
          ]
        },
        {
          "output_type": "stream",
          "name": "stdout",
          "text": [
            "{'loss': 2.24, 'grad_norm': 1.1975988149642944, 'learning_rate': 4.998926531993884e-05, 'epoch': 0.03}\n",
            "04/18/2024 15:11:33 - INFO - llmtuner.extras.callbacks - {'loss': 2.1601, 'learning_rate': 4.9988e-05, 'epoch': 0.03}\n"
          ]
        },
        {
          "output_type": "stream",
          "name": "stderr",
          "text": [
            "INFO:llmtuner.extras.callbacks:{'loss': 2.1601, 'learning_rate': 4.9988e-05, 'epoch': 0.03}\n"
          ]
        },
        {
          "output_type": "stream",
          "name": "stdout",
          "text": [
            "{'loss': 2.1601, 'grad_norm': 0.7163709998130798, 'learning_rate': 4.9988039543736866e-05, 'epoch': 0.03}\n",
            "04/18/2024 15:11:41 - INFO - llmtuner.extras.callbacks - {'loss': 2.2874, 'learning_rate': 4.9987e-05, 'epoch': 0.03}\n"
          ]
        },
        {
          "output_type": "stream",
          "name": "stderr",
          "text": [
            "INFO:llmtuner.extras.callbacks:{'loss': 2.2874, 'learning_rate': 4.9987e-05, 'epoch': 0.03}\n",
            "[INFO|trainer.py:3067] 2024-04-18 15:11:41,662 >> Saving model checkpoint to saves/Qwen1.5-0.5B/lora/train_2024-04-18-14-31-32/tmp-checkpoint-100\n"
          ]
        },
        {
          "output_type": "stream",
          "name": "stdout",
          "text": [
            "{'loss': 2.2874, 'grad_norm': 1.6502008438110352, 'learning_rate': 4.9986747531053604e-05, 'epoch': 0.03}\n"
          ]
        },
        {
          "output_type": "stream",
          "name": "stderr",
          "text": [
            "[INFO|configuration_utils.py:728] 2024-04-18 15:11:41,901 >> loading configuration file config.json from cache at /root/.cache/huggingface/hub/models--Qwen--Qwen1.5-0.5B/snapshots/8f445e3628f3500ee69f24e1303c9f10f5342a39/config.json\n",
            "[INFO|configuration_utils.py:791] 2024-04-18 15:11:41,904 >> Model config Qwen2Config {\n",
            "  \"architectures\": [\n",
            "    \"Qwen2ForCausalLM\"\n",
            "  ],\n",
            "  \"attention_dropout\": 0.0,\n",
            "  \"bos_token_id\": 151643,\n",
            "  \"eos_token_id\": 151643,\n",
            "  \"hidden_act\": \"silu\",\n",
            "  \"hidden_size\": 1024,\n",
            "  \"initializer_range\": 0.02,\n",
            "  \"intermediate_size\": 2816,\n",
            "  \"max_position_embeddings\": 32768,\n",
            "  \"max_window_layers\": 21,\n",
            "  \"model_type\": \"qwen2\",\n",
            "  \"num_attention_heads\": 16,\n",
            "  \"num_hidden_layers\": 24,\n",
            "  \"num_key_value_heads\": 16,\n",
            "  \"rms_norm_eps\": 1e-06,\n",
            "  \"rope_theta\": 1000000.0,\n",
            "  \"sliding_window\": 32768,\n",
            "  \"tie_word_embeddings\": true,\n",
            "  \"torch_dtype\": \"bfloat16\",\n",
            "  \"transformers_version\": \"4.38.2\",\n",
            "  \"use_cache\": true,\n",
            "  \"use_sliding_window\": false,\n",
            "  \"vocab_size\": 151936\n",
            "}\n",
            "\n",
            "[INFO|tokenization_utils_base.py:2459] 2024-04-18 15:11:41,922 >> tokenizer config file saved in saves/Qwen1.5-0.5B/lora/train_2024-04-18-14-31-32/tmp-checkpoint-100/tokenizer_config.json\n",
            "[INFO|tokenization_utils_base.py:2468] 2024-04-18 15:11:41,924 >> Special tokens file saved in saves/Qwen1.5-0.5B/lora/train_2024-04-18-14-31-32/tmp-checkpoint-100/special_tokens_map.json\n",
            "[INFO|tokenization_utils_base.py:2519] 2024-04-18 15:11:41,926 >> added tokens file saved in saves/Qwen1.5-0.5B/lora/train_2024-04-18-14-31-32/tmp-checkpoint-100/added_tokens.json\n"
          ]
        },
        {
          "output_type": "stream",
          "name": "stdout",
          "text": [
            "04/18/2024 15:11:50 - INFO - llmtuner.extras.callbacks - {'loss': 2.1162, 'learning_rate': 4.9985e-05, 'epoch': 0.03}\n"
          ]
        },
        {
          "output_type": "stream",
          "name": "stderr",
          "text": [
            "INFO:llmtuner.extras.callbacks:{'loss': 2.1162, 'learning_rate': 4.9985e-05, 'epoch': 0.03}\n"
          ]
        },
        {
          "output_type": "stream",
          "name": "stdout",
          "text": [
            "{'loss': 2.1162, 'grad_norm': 1.0151476860046387, 'learning_rate': 4.998538928531385e-05, 'epoch': 0.03}\n",
            "04/18/2024 15:11:59 - INFO - llmtuner.extras.callbacks - {'loss': 2.2008, 'learning_rate': 4.9984e-05, 'epoch': 0.03}\n"
          ]
        },
        {
          "output_type": "stream",
          "name": "stderr",
          "text": [
            "INFO:llmtuner.extras.callbacks:{'loss': 2.2008, 'learning_rate': 4.9984e-05, 'epoch': 0.03}\n"
          ]
        },
        {
          "output_type": "stream",
          "name": "stdout",
          "text": [
            "{'loss': 2.2008, 'grad_norm': 1.2105872631072998, 'learning_rate': 4.998396481011792e-05, 'epoch': 0.03}\n",
            "04/18/2024 15:12:07 - INFO - llmtuner.extras.callbacks - {'loss': 2.2964, 'learning_rate': 4.9982e-05, 'epoch': 0.04}\n"
          ]
        },
        {
          "output_type": "stream",
          "name": "stderr",
          "text": [
            "INFO:llmtuner.extras.callbacks:{'loss': 2.2964, 'learning_rate': 4.9982e-05, 'epoch': 0.04}\n"
          ]
        },
        {
          "output_type": "stream",
          "name": "stdout",
          "text": [
            "{'loss': 2.2964, 'grad_norm': 0.9391775727272034, 'learning_rate': 4.998247410924173e-05, 'epoch': 0.04}\n",
            "04/18/2024 15:12:15 - INFO - llmtuner.extras.callbacks - {'loss': 2.2514, 'learning_rate': 4.9981e-05, 'epoch': 0.04}\n"
          ]
        },
        {
          "output_type": "stream",
          "name": "stderr",
          "text": [
            "INFO:llmtuner.extras.callbacks:{'loss': 2.2514, 'learning_rate': 4.9981e-05, 'epoch': 0.04}\n"
          ]
        },
        {
          "output_type": "stream",
          "name": "stdout",
          "text": [
            "{'loss': 2.2514, 'grad_norm': 0.7731629610061646, 'learning_rate': 4.998091718663671e-05, 'epoch': 0.04}\n",
            "04/18/2024 15:12:24 - INFO - llmtuner.extras.callbacks - {'loss': 2.1678, 'learning_rate': 4.9979e-05, 'epoch': 0.04}\n"
          ]
        },
        {
          "output_type": "stream",
          "name": "stderr",
          "text": [
            "INFO:llmtuner.extras.callbacks:{'loss': 2.1678, 'learning_rate': 4.9979e-05, 'epoch': 0.04}\n"
          ]
        },
        {
          "output_type": "stream",
          "name": "stdout",
          "text": [
            "{'loss': 2.1678, 'grad_norm': 0.9476292133331299, 'learning_rate': 4.9979294046429834e-05, 'epoch': 0.04}\n",
            "04/18/2024 15:12:32 - INFO - llmtuner.extras.callbacks - {'loss': 2.1896, 'learning_rate': 4.9978e-05, 'epoch': 0.04}\n"
          ]
        },
        {
          "output_type": "stream",
          "name": "stderr",
          "text": [
            "INFO:llmtuner.extras.callbacks:{'loss': 2.1896, 'learning_rate': 4.9978e-05, 'epoch': 0.04}\n"
          ]
        },
        {
          "output_type": "stream",
          "name": "stdout",
          "text": [
            "{'loss': 2.1896, 'grad_norm': 0.8197506666183472, 'learning_rate': 4.9977604692923615e-05, 'epoch': 0.04}\n",
            "04/18/2024 15:12:39 - INFO - llmtuner.extras.callbacks - {'loss': 2.3421, 'learning_rate': 4.9976e-05, 'epoch': 0.04}\n"
          ]
        },
        {
          "output_type": "stream",
          "name": "stderr",
          "text": [
            "INFO:llmtuner.extras.callbacks:{'loss': 2.3421, 'learning_rate': 4.9976e-05, 'epoch': 0.04}\n"
          ]
        },
        {
          "output_type": "stream",
          "name": "stdout",
          "text": [
            "{'loss': 2.3421, 'grad_norm': 0.8224397301673889, 'learning_rate': 4.997584913059607e-05, 'epoch': 0.04}\n",
            "04/18/2024 15:12:47 - INFO - llmtuner.extras.callbacks - {'loss': 2.0415, 'learning_rate': 4.9974e-05, 'epoch': 0.04}\n"
          ]
        },
        {
          "output_type": "stream",
          "name": "stderr",
          "text": [
            "INFO:llmtuner.extras.callbacks:{'loss': 2.0415, 'learning_rate': 4.9974e-05, 'epoch': 0.04}\n"
          ]
        },
        {
          "output_type": "stream",
          "name": "stdout",
          "text": [
            "{'loss': 2.0415, 'grad_norm': 0.9002806544303894, 'learning_rate': 4.9974027364100704e-05, 'epoch': 0.04}\n",
            "04/18/2024 15:12:55 - INFO - llmtuner.extras.callbacks - {'loss': 2.1530, 'learning_rate': 4.9972e-05, 'epoch': 0.05}\n"
          ]
        },
        {
          "output_type": "stream",
          "name": "stderr",
          "text": [
            "INFO:llmtuner.extras.callbacks:{'loss': 2.1530, 'learning_rate': 4.9972e-05, 'epoch': 0.05}\n"
          ]
        },
        {
          "output_type": "stream",
          "name": "stdout",
          "text": [
            "{'loss': 2.153, 'grad_norm': 1.0099104642868042, 'learning_rate': 4.997213939826654e-05, 'epoch': 0.05}\n",
            "04/18/2024 15:13:03 - INFO - llmtuner.extras.callbacks - {'loss': 2.3503, 'learning_rate': 4.9970e-05, 'epoch': 0.05}\n"
          ]
        },
        {
          "output_type": "stream",
          "name": "stderr",
          "text": [
            "INFO:llmtuner.extras.callbacks:{'loss': 2.3503, 'learning_rate': 4.9970e-05, 'epoch': 0.05}\n"
          ]
        },
        {
          "output_type": "stream",
          "name": "stdout",
          "text": [
            "{'loss': 2.3503, 'grad_norm': 0.9875789880752563, 'learning_rate': 4.9970185238098045e-05, 'epoch': 0.05}\n",
            "04/18/2024 15:13:12 - INFO - llmtuner.extras.callbacks - {'loss': 2.1427, 'learning_rate': 4.9968e-05, 'epoch': 0.05}\n"
          ]
        },
        {
          "output_type": "stream",
          "name": "stderr",
          "text": [
            "INFO:llmtuner.extras.callbacks:{'loss': 2.1427, 'learning_rate': 4.9968e-05, 'epoch': 0.05}\n"
          ]
        },
        {
          "output_type": "stream",
          "name": "stdout",
          "text": [
            "{'loss': 2.1427, 'grad_norm': 0.9308364391326904, 'learning_rate': 4.9968164888775167e-05, 'epoch': 0.05}\n",
            "04/18/2024 15:13:19 - INFO - llmtuner.extras.callbacks - {'loss': 2.1936, 'learning_rate': 4.9966e-05, 'epoch': 0.05}\n"
          ]
        },
        {
          "output_type": "stream",
          "name": "stderr",
          "text": [
            "INFO:llmtuner.extras.callbacks:{'loss': 2.1936, 'learning_rate': 4.9966e-05, 'epoch': 0.05}\n"
          ]
        },
        {
          "output_type": "stream",
          "name": "stdout",
          "text": [
            "{'loss': 2.1936, 'grad_norm': 1.0481300354003906, 'learning_rate': 4.996607835565331e-05, 'epoch': 0.05}\n",
            "04/18/2024 15:13:27 - INFO - llmtuner.extras.callbacks - {'loss': 2.2401, 'learning_rate': 4.9964e-05, 'epoch': 0.05}\n"
          ]
        },
        {
          "output_type": "stream",
          "name": "stderr",
          "text": [
            "INFO:llmtuner.extras.callbacks:{'loss': 2.2401, 'learning_rate': 4.9964e-05, 'epoch': 0.05}\n"
          ]
        },
        {
          "output_type": "stream",
          "name": "stdout",
          "text": [
            "{'loss': 2.2401, 'grad_norm': 1.027982234954834, 'learning_rate': 4.9963925644263295e-05, 'epoch': 0.05}\n",
            "04/18/2024 15:13:35 - INFO - llmtuner.extras.callbacks - {'loss': 2.2515, 'learning_rate': 4.9962e-05, 'epoch': 0.05}\n"
          ]
        },
        {
          "output_type": "stream",
          "name": "stderr",
          "text": [
            "INFO:llmtuner.extras.callbacks:{'loss': 2.2515, 'learning_rate': 4.9962e-05, 'epoch': 0.05}\n"
          ]
        },
        {
          "output_type": "stream",
          "name": "stdout",
          "text": [
            "{'loss': 2.2515, 'grad_norm': 1.1147029399871826, 'learning_rate': 4.996170676031138e-05, 'epoch': 0.05}\n",
            "04/18/2024 15:13:43 - INFO - llmtuner.extras.callbacks - {'loss': 2.2649, 'learning_rate': 4.9959e-05, 'epoch': 0.05}\n"
          ]
        },
        {
          "output_type": "stream",
          "name": "stderr",
          "text": [
            "INFO:llmtuner.extras.callbacks:{'loss': 2.2649, 'learning_rate': 4.9959e-05, 'epoch': 0.05}\n"
          ]
        },
        {
          "output_type": "stream",
          "name": "stdout",
          "text": [
            "{'loss': 2.2649, 'grad_norm': 0.8579787611961365, 'learning_rate': 4.9959421709679215e-05, 'epoch': 0.05}\n",
            "04/18/2024 15:13:51 - INFO - llmtuner.extras.callbacks - {'loss': 2.4311, 'learning_rate': 4.9957e-05, 'epoch': 0.06}\n"
          ]
        },
        {
          "output_type": "stream",
          "name": "stderr",
          "text": [
            "INFO:llmtuner.extras.callbacks:{'loss': 2.4311, 'learning_rate': 4.9957e-05, 'epoch': 0.06}\n"
          ]
        },
        {
          "output_type": "stream",
          "name": "stdout",
          "text": [
            "{'loss': 2.4311, 'grad_norm': 0.803327739238739, 'learning_rate': 4.9957070498423854e-05, 'epoch': 0.06}\n",
            "04/18/2024 15:13:58 - INFO - llmtuner.extras.callbacks - {'loss': 2.1540, 'learning_rate': 4.9955e-05, 'epoch': 0.06}\n"
          ]
        },
        {
          "output_type": "stream",
          "name": "stderr",
          "text": [
            "INFO:llmtuner.extras.callbacks:{'loss': 2.1540, 'learning_rate': 4.9955e-05, 'epoch': 0.06}\n"
          ]
        },
        {
          "output_type": "stream",
          "name": "stdout",
          "text": [
            "{'loss': 2.154, 'grad_norm': 1.0513179302215576, 'learning_rate': 4.9954653132777716e-05, 'epoch': 0.06}\n",
            "04/18/2024 15:14:06 - INFO - llmtuner.extras.callbacks - {'loss': 2.1944, 'learning_rate': 4.9952e-05, 'epoch': 0.06}\n"
          ]
        },
        {
          "output_type": "stream",
          "name": "stderr",
          "text": [
            "INFO:llmtuner.extras.callbacks:{'loss': 2.1944, 'learning_rate': 4.9952e-05, 'epoch': 0.06}\n"
          ]
        },
        {
          "output_type": "stream",
          "name": "stdout",
          "text": [
            "{'loss': 2.1944, 'grad_norm': 1.0889517068862915, 'learning_rate': 4.995216961914857e-05, 'epoch': 0.06}\n",
            "04/18/2024 15:14:15 - INFO - llmtuner.extras.callbacks - {'loss': 2.3103, 'learning_rate': 4.9950e-05, 'epoch': 0.06}\n"
          ]
        },
        {
          "output_type": "stream",
          "name": "stderr",
          "text": [
            "INFO:llmtuner.extras.callbacks:{'loss': 2.3103, 'learning_rate': 4.9950e-05, 'epoch': 0.06}\n"
          ]
        },
        {
          "output_type": "stream",
          "name": "stdout",
          "text": [
            "{'loss': 2.3103, 'grad_norm': 0.6605278849601746, 'learning_rate': 4.9949619964119544e-05, 'epoch': 0.06}\n",
            "04/18/2024 15:14:22 - INFO - llmtuner.extras.callbacks - {'loss': 2.1723, 'learning_rate': 4.9947e-05, 'epoch': 0.06}\n"
          ]
        },
        {
          "output_type": "stream",
          "name": "stderr",
          "text": [
            "INFO:llmtuner.extras.callbacks:{'loss': 2.1723, 'learning_rate': 4.9947e-05, 'epoch': 0.06}\n",
            "[INFO|trainer.py:3067] 2024-04-18 15:14:22,560 >> Saving model checkpoint to saves/Qwen1.5-0.5B/lora/train_2024-04-18-14-31-32/tmp-checkpoint-200\n"
          ]
        },
        {
          "output_type": "stream",
          "name": "stdout",
          "text": [
            "{'loss': 2.1723, 'grad_norm': 1.2201749086380005, 'learning_rate': 4.994700417444908e-05, 'epoch': 0.06}\n"
          ]
        },
        {
          "output_type": "stream",
          "name": "stderr",
          "text": [
            "[INFO|configuration_utils.py:728] 2024-04-18 15:14:22,854 >> loading configuration file config.json from cache at /root/.cache/huggingface/hub/models--Qwen--Qwen1.5-0.5B/snapshots/8f445e3628f3500ee69f24e1303c9f10f5342a39/config.json\n",
            "[INFO|configuration_utils.py:791] 2024-04-18 15:14:22,857 >> Model config Qwen2Config {\n",
            "  \"architectures\": [\n",
            "    \"Qwen2ForCausalLM\"\n",
            "  ],\n",
            "  \"attention_dropout\": 0.0,\n",
            "  \"bos_token_id\": 151643,\n",
            "  \"eos_token_id\": 151643,\n",
            "  \"hidden_act\": \"silu\",\n",
            "  \"hidden_size\": 1024,\n",
            "  \"initializer_range\": 0.02,\n",
            "  \"intermediate_size\": 2816,\n",
            "  \"max_position_embeddings\": 32768,\n",
            "  \"max_window_layers\": 21,\n",
            "  \"model_type\": \"qwen2\",\n",
            "  \"num_attention_heads\": 16,\n",
            "  \"num_hidden_layers\": 24,\n",
            "  \"num_key_value_heads\": 16,\n",
            "  \"rms_norm_eps\": 1e-06,\n",
            "  \"rope_theta\": 1000000.0,\n",
            "  \"sliding_window\": 32768,\n",
            "  \"tie_word_embeddings\": true,\n",
            "  \"torch_dtype\": \"bfloat16\",\n",
            "  \"transformers_version\": \"4.38.2\",\n",
            "  \"use_cache\": true,\n",
            "  \"use_sliding_window\": false,\n",
            "  \"vocab_size\": 151936\n",
            "}\n",
            "\n",
            "[INFO|tokenization_utils_base.py:2459] 2024-04-18 15:14:22,875 >> tokenizer config file saved in saves/Qwen1.5-0.5B/lora/train_2024-04-18-14-31-32/tmp-checkpoint-200/tokenizer_config.json\n",
            "[INFO|tokenization_utils_base.py:2468] 2024-04-18 15:14:22,877 >> Special tokens file saved in saves/Qwen1.5-0.5B/lora/train_2024-04-18-14-31-32/tmp-checkpoint-200/special_tokens_map.json\n",
            "[INFO|tokenization_utils_base.py:2519] 2024-04-18 15:14:22,879 >> added tokens file saved in saves/Qwen1.5-0.5B/lora/train_2024-04-18-14-31-32/tmp-checkpoint-200/added_tokens.json\n"
          ]
        },
        {
          "output_type": "stream",
          "name": "stdout",
          "text": [
            "04/18/2024 15:14:31 - INFO - llmtuner.extras.callbacks - {'loss': 2.3116, 'learning_rate': 4.9944e-05, 'epoch': 0.06}\n"
          ]
        },
        {
          "output_type": "stream",
          "name": "stderr",
          "text": [
            "INFO:llmtuner.extras.callbacks:{'loss': 2.3116, 'learning_rate': 4.9944e-05, 'epoch': 0.06}\n"
          ]
        },
        {
          "output_type": "stream",
          "name": "stdout",
          "text": [
            "{'loss': 2.3116, 'grad_norm': 0.6410090327262878, 'learning_rate': 4.9944322257070904e-05, 'epoch': 0.06}\n",
            "04/18/2024 15:14:39 - INFO - llmtuner.extras.callbacks - {'loss': 2.2078, 'learning_rate': 4.9942e-05, 'epoch': 0.07}\n"
          ]
        },
        {
          "output_type": "stream",
          "name": "stderr",
          "text": [
            "INFO:llmtuner.extras.callbacks:{'loss': 2.2078, 'learning_rate': 4.9942e-05, 'epoch': 0.07}\n"
          ]
        },
        {
          "output_type": "stream",
          "name": "stdout",
          "text": [
            "{'loss': 2.2078, 'grad_norm': 0.766148567199707, 'learning_rate': 4.994157421909407e-05, 'epoch': 0.07}\n",
            "04/18/2024 15:14:47 - INFO - llmtuner.extras.callbacks - {'loss': 2.1983, 'learning_rate': 4.9939e-05, 'epoch': 0.07}\n"
          ]
        },
        {
          "output_type": "stream",
          "name": "stderr",
          "text": [
            "INFO:llmtuner.extras.callbacks:{'loss': 2.1983, 'learning_rate': 4.9939e-05, 'epoch': 0.07}\n"
          ]
        },
        {
          "output_type": "stream",
          "name": "stdout",
          "text": [
            "{'loss': 2.1983, 'grad_norm': 0.8469879031181335, 'learning_rate': 4.993876006780287e-05, 'epoch': 0.07}\n",
            "04/18/2024 15:14:55 - INFO - llmtuner.extras.callbacks - {'loss': 2.3104, 'learning_rate': 4.9936e-05, 'epoch': 0.07}\n"
          ]
        },
        {
          "output_type": "stream",
          "name": "stderr",
          "text": [
            "INFO:llmtuner.extras.callbacks:{'loss': 2.3104, 'learning_rate': 4.9936e-05, 'epoch': 0.07}\n"
          ]
        },
        {
          "output_type": "stream",
          "name": "stdout",
          "text": [
            "{'loss': 2.3104, 'grad_norm': 1.5508768558502197, 'learning_rate': 4.993587981065684e-05, 'epoch': 0.07}\n",
            "04/18/2024 15:15:02 - INFO - llmtuner.extras.callbacks - {'loss': 2.2002, 'learning_rate': 4.9933e-05, 'epoch': 0.07}\n"
          ]
        },
        {
          "output_type": "stream",
          "name": "stderr",
          "text": [
            "INFO:llmtuner.extras.callbacks:{'loss': 2.2002, 'learning_rate': 4.9933e-05, 'epoch': 0.07}\n"
          ]
        },
        {
          "output_type": "stream",
          "name": "stdout",
          "text": [
            "{'loss': 2.2002, 'grad_norm': 1.0644687414169312, 'learning_rate': 4.9932933455290775e-05, 'epoch': 0.07}\n",
            "04/18/2024 15:15:11 - INFO - llmtuner.extras.callbacks - {'loss': 2.1653, 'learning_rate': 4.9930e-05, 'epoch': 0.07}\n"
          ]
        },
        {
          "output_type": "stream",
          "name": "stderr",
          "text": [
            "INFO:llmtuner.extras.callbacks:{'loss': 2.1653, 'learning_rate': 4.9930e-05, 'epoch': 0.07}\n"
          ]
        },
        {
          "output_type": "stream",
          "name": "stdout",
          "text": [
            "{'loss': 2.1653, 'grad_norm': 1.2584068775177002, 'learning_rate': 4.9929921009514655e-05, 'epoch': 0.07}\n",
            "04/18/2024 15:15:19 - INFO - llmtuner.extras.callbacks - {'loss': 2.3512, 'learning_rate': 4.9927e-05, 'epoch': 0.07}\n"
          ]
        },
        {
          "output_type": "stream",
          "name": "stderr",
          "text": [
            "INFO:llmtuner.extras.callbacks:{'loss': 2.3512, 'learning_rate': 4.9927e-05, 'epoch': 0.07}\n"
          ]
        },
        {
          "output_type": "stream",
          "name": "stdout",
          "text": [
            "{'loss': 2.3512, 'grad_norm': 0.8014013171195984, 'learning_rate': 4.9926842481313644e-05, 'epoch': 0.07}\n",
            "04/18/2024 15:15:26 - INFO - llmtuner.extras.callbacks - {'loss': 2.2432, 'learning_rate': 4.9924e-05, 'epoch': 0.07}\n"
          ]
        },
        {
          "output_type": "stream",
          "name": "stderr",
          "text": [
            "INFO:llmtuner.extras.callbacks:{'loss': 2.2432, 'learning_rate': 4.9924e-05, 'epoch': 0.07}\n"
          ]
        },
        {
          "output_type": "stream",
          "name": "stdout",
          "text": [
            "{'loss': 2.2432, 'grad_norm': 0.6642768979072571, 'learning_rate': 4.992369787884809e-05, 'epoch': 0.07}\n",
            "04/18/2024 15:15:34 - INFO - llmtuner.extras.callbacks - {'loss': 2.4189, 'learning_rate': 4.9920e-05, 'epoch': 0.08}\n"
          ]
        },
        {
          "output_type": "stream",
          "name": "stderr",
          "text": [
            "INFO:llmtuner.extras.callbacks:{'loss': 2.4189, 'learning_rate': 4.9920e-05, 'epoch': 0.08}\n"
          ]
        },
        {
          "output_type": "stream",
          "name": "stdout",
          "text": [
            "{'loss': 2.4189, 'grad_norm': 0.9671454429626465, 'learning_rate': 4.992048721045347e-05, 'epoch': 0.08}\n",
            "04/18/2024 15:15:42 - INFO - llmtuner.extras.callbacks - {'loss': 2.1832, 'learning_rate': 4.9917e-05, 'epoch': 0.08}\n"
          ]
        },
        {
          "output_type": "stream",
          "name": "stderr",
          "text": [
            "INFO:llmtuner.extras.callbacks:{'loss': 2.1832, 'learning_rate': 4.9917e-05, 'epoch': 0.08}\n"
          ]
        },
        {
          "output_type": "stream",
          "name": "stdout",
          "text": [
            "{'loss': 2.1832, 'grad_norm': 1.5924348831176758, 'learning_rate': 4.99172104846404e-05, 'epoch': 0.08}\n",
            "04/18/2024 15:15:50 - INFO - llmtuner.extras.callbacks - {'loss': 2.3472, 'learning_rate': 4.9914e-05, 'epoch': 0.08}\n"
          ]
        },
        {
          "output_type": "stream",
          "name": "stderr",
          "text": [
            "INFO:llmtuner.extras.callbacks:{'loss': 2.3472, 'learning_rate': 4.9914e-05, 'epoch': 0.08}\n"
          ]
        },
        {
          "output_type": "stream",
          "name": "stdout",
          "text": [
            "{'loss': 2.3472, 'grad_norm': 1.1544419527053833, 'learning_rate': 4.991386771009459e-05, 'epoch': 0.08}\n",
            "04/18/2024 15:15:58 - INFO - llmtuner.extras.callbacks - {'loss': 2.3577, 'learning_rate': 4.9910e-05, 'epoch': 0.08}\n"
          ]
        },
        {
          "output_type": "stream",
          "name": "stderr",
          "text": [
            "INFO:llmtuner.extras.callbacks:{'loss': 2.3577, 'learning_rate': 4.9910e-05, 'epoch': 0.08}\n"
          ]
        },
        {
          "output_type": "stream",
          "name": "stdout",
          "text": [
            "{'loss': 2.3577, 'grad_norm': 1.1915652751922607, 'learning_rate': 4.99104588956768e-05, 'epoch': 0.08}\n",
            "04/18/2024 15:16:06 - INFO - llmtuner.extras.callbacks - {'loss': 2.1978, 'learning_rate': 4.9907e-05, 'epoch': 0.08}\n"
          ]
        },
        {
          "output_type": "stream",
          "name": "stderr",
          "text": [
            "INFO:llmtuner.extras.callbacks:{'loss': 2.1978, 'learning_rate': 4.9907e-05, 'epoch': 0.08}\n"
          ]
        },
        {
          "output_type": "stream",
          "name": "stdout",
          "text": [
            "{'loss': 2.1978, 'grad_norm': 1.0326948165893555, 'learning_rate': 4.990698405042289e-05, 'epoch': 0.08}\n",
            "04/18/2024 15:16:14 - INFO - llmtuner.extras.callbacks - {'loss': 2.2825, 'learning_rate': 4.9903e-05, 'epoch': 0.08}\n"
          ]
        },
        {
          "output_type": "stream",
          "name": "stderr",
          "text": [
            "INFO:llmtuner.extras.callbacks:{'loss': 2.2825, 'learning_rate': 4.9903e-05, 'epoch': 0.08}\n"
          ]
        },
        {
          "output_type": "stream",
          "name": "stdout",
          "text": [
            "{'loss': 2.2825, 'grad_norm': 0.9870721697807312, 'learning_rate': 4.990344318354372e-05, 'epoch': 0.08}\n",
            "04/18/2024 15:16:22 - INFO - llmtuner.extras.callbacks - {'loss': 2.0859, 'learning_rate': 4.9900e-05, 'epoch': 0.09}\n"
          ]
        },
        {
          "output_type": "stream",
          "name": "stderr",
          "text": [
            "INFO:llmtuner.extras.callbacks:{'loss': 2.0859, 'learning_rate': 4.9900e-05, 'epoch': 0.09}\n"
          ]
        },
        {
          "output_type": "stream",
          "name": "stdout",
          "text": [
            "{'loss': 2.0859, 'grad_norm': 1.395906686782837, 'learning_rate': 4.9899836304425164e-05, 'epoch': 0.09}\n",
            "04/18/2024 15:16:30 - INFO - llmtuner.extras.callbacks - {'loss': 2.1030, 'learning_rate': 4.9896e-05, 'epoch': 0.09}\n"
          ]
        },
        {
          "output_type": "stream",
          "name": "stderr",
          "text": [
            "INFO:llmtuner.extras.callbacks:{'loss': 2.1030, 'learning_rate': 4.9896e-05, 'epoch': 0.09}\n"
          ]
        },
        {
          "output_type": "stream",
          "name": "stdout",
          "text": [
            "{'loss': 2.103, 'grad_norm': 1.0546913146972656, 'learning_rate': 4.9896163422628076e-05, 'epoch': 0.09}\n",
            "04/18/2024 15:16:38 - INFO - llmtuner.extras.callbacks - {'loss': 2.3039, 'learning_rate': 4.9892e-05, 'epoch': 0.09}\n"
          ]
        },
        {
          "output_type": "stream",
          "name": "stderr",
          "text": [
            "INFO:llmtuner.extras.callbacks:{'loss': 2.3039, 'learning_rate': 4.9892e-05, 'epoch': 0.09}\n"
          ]
        },
        {
          "output_type": "stream",
          "name": "stdout",
          "text": [
            "{'loss': 2.3039, 'grad_norm': 0.808779776096344, 'learning_rate': 4.989242454788826e-05, 'epoch': 0.09}\n",
            "04/18/2024 15:16:46 - INFO - llmtuner.extras.callbacks - {'loss': 2.0219, 'learning_rate': 4.9889e-05, 'epoch': 0.09}\n"
          ]
        },
        {
          "output_type": "stream",
          "name": "stderr",
          "text": [
            "INFO:llmtuner.extras.callbacks:{'loss': 2.0219, 'learning_rate': 4.9889e-05, 'epoch': 0.09}\n"
          ]
        },
        {
          "output_type": "stream",
          "name": "stdout",
          "text": [
            "{'loss': 2.0219, 'grad_norm': 0.9145339131355286, 'learning_rate': 4.9888619690116456e-05, 'epoch': 0.09}\n",
            "04/18/2024 15:16:55 - INFO - llmtuner.extras.callbacks - {'loss': 2.1543, 'learning_rate': 4.9885e-05, 'epoch': 0.09}\n"
          ]
        },
        {
          "output_type": "stream",
          "name": "stderr",
          "text": [
            "INFO:llmtuner.extras.callbacks:{'loss': 2.1543, 'learning_rate': 4.9885e-05, 'epoch': 0.09}\n"
          ]
        },
        {
          "output_type": "stream",
          "name": "stdout",
          "text": [
            "{'loss': 2.1543, 'grad_norm': 1.7708791494369507, 'learning_rate': 4.988474885939831e-05, 'epoch': 0.09}\n",
            "04/18/2024 15:17:03 - INFO - llmtuner.extras.callbacks - {'loss': 2.2594, 'learning_rate': 4.9881e-05, 'epoch': 0.09}\n"
          ]
        },
        {
          "output_type": "stream",
          "name": "stderr",
          "text": [
            "INFO:llmtuner.extras.callbacks:{'loss': 2.2594, 'learning_rate': 4.9881e-05, 'epoch': 0.09}\n",
            "[INFO|trainer.py:3067] 2024-04-18 15:17:03,817 >> Saving model checkpoint to saves/Qwen1.5-0.5B/lora/train_2024-04-18-14-31-32/tmp-checkpoint-300\n"
          ]
        },
        {
          "output_type": "stream",
          "name": "stdout",
          "text": [
            "{'loss': 2.2594, 'grad_norm': 0.7531403303146362, 'learning_rate': 4.988081206599434e-05, 'epoch': 0.09}\n"
          ]
        },
        {
          "output_type": "stream",
          "name": "stderr",
          "text": [
            "[INFO|configuration_utils.py:728] 2024-04-18 15:17:04,068 >> loading configuration file config.json from cache at /root/.cache/huggingface/hub/models--Qwen--Qwen1.5-0.5B/snapshots/8f445e3628f3500ee69f24e1303c9f10f5342a39/config.json\n",
            "[INFO|configuration_utils.py:791] 2024-04-18 15:17:04,074 >> Model config Qwen2Config {\n",
            "  \"architectures\": [\n",
            "    \"Qwen2ForCausalLM\"\n",
            "  ],\n",
            "  \"attention_dropout\": 0.0,\n",
            "  \"bos_token_id\": 151643,\n",
            "  \"eos_token_id\": 151643,\n",
            "  \"hidden_act\": \"silu\",\n",
            "  \"hidden_size\": 1024,\n",
            "  \"initializer_range\": 0.02,\n",
            "  \"intermediate_size\": 2816,\n",
            "  \"max_position_embeddings\": 32768,\n",
            "  \"max_window_layers\": 21,\n",
            "  \"model_type\": \"qwen2\",\n",
            "  \"num_attention_heads\": 16,\n",
            "  \"num_hidden_layers\": 24,\n",
            "  \"num_key_value_heads\": 16,\n",
            "  \"rms_norm_eps\": 1e-06,\n",
            "  \"rope_theta\": 1000000.0,\n",
            "  \"sliding_window\": 32768,\n",
            "  \"tie_word_embeddings\": true,\n",
            "  \"torch_dtype\": \"bfloat16\",\n",
            "  \"transformers_version\": \"4.38.2\",\n",
            "  \"use_cache\": true,\n",
            "  \"use_sliding_window\": false,\n",
            "  \"vocab_size\": 151936\n",
            "}\n",
            "\n",
            "[INFO|tokenization_utils_base.py:2459] 2024-04-18 15:17:04,152 >> tokenizer config file saved in saves/Qwen1.5-0.5B/lora/train_2024-04-18-14-31-32/tmp-checkpoint-300/tokenizer_config.json\n",
            "[INFO|tokenization_utils_base.py:2468] 2024-04-18 15:17:04,154 >> Special tokens file saved in saves/Qwen1.5-0.5B/lora/train_2024-04-18-14-31-32/tmp-checkpoint-300/special_tokens_map.json\n",
            "[INFO|tokenization_utils_base.py:2519] 2024-04-18 15:17:04,165 >> added tokens file saved in saves/Qwen1.5-0.5B/lora/train_2024-04-18-14-31-32/tmp-checkpoint-300/added_tokens.json\n"
          ]
        },
        {
          "output_type": "stream",
          "name": "stdout",
          "text": [
            "04/18/2024 15:17:13 - INFO - llmtuner.extras.callbacks - {'loss': 2.0585, 'learning_rate': 4.9877e-05, 'epoch': 0.09}\n"
          ]
        },
        {
          "output_type": "stream",
          "name": "stderr",
          "text": [
            "INFO:llmtuner.extras.callbacks:{'loss': 2.0585, 'learning_rate': 4.9877e-05, 'epoch': 0.09}\n"
          ]
        },
        {
          "output_type": "stream",
          "name": "stdout",
          "text": [
            "{'loss': 2.0585, 'grad_norm': 1.1506906747817993, 'learning_rate': 4.98768093203399e-05, 'epoch': 0.09}\n",
            "04/18/2024 15:17:21 - INFO - llmtuner.extras.callbacks - {'loss': 2.0946, 'learning_rate': 4.9873e-05, 'epoch': 0.10}\n"
          ]
        },
        {
          "output_type": "stream",
          "name": "stderr",
          "text": [
            "INFO:llmtuner.extras.callbacks:{'loss': 2.0946, 'learning_rate': 4.9873e-05, 'epoch': 0.10}\n"
          ]
        },
        {
          "output_type": "stream",
          "name": "stdout",
          "text": [
            "{'loss': 2.0946, 'grad_norm': 0.8727709650993347, 'learning_rate': 4.987274063304519e-05, 'epoch': 0.1}\n",
            "04/18/2024 15:17:29 - INFO - llmtuner.extras.callbacks - {'loss': 2.1434, 'learning_rate': 4.9869e-05, 'epoch': 0.10}\n"
          ]
        },
        {
          "output_type": "stream",
          "name": "stderr",
          "text": [
            "INFO:llmtuner.extras.callbacks:{'loss': 2.1434, 'learning_rate': 4.9869e-05, 'epoch': 0.10}\n"
          ]
        },
        {
          "output_type": "stream",
          "name": "stdout",
          "text": [
            "{'loss': 2.1434, 'grad_norm': 2.5743324756622314, 'learning_rate': 4.9868606014895185e-05, 'epoch': 0.1}\n",
            "04/18/2024 15:17:37 - INFO - llmtuner.extras.callbacks - {'loss': 2.0933, 'learning_rate': 4.9864e-05, 'epoch': 0.10}\n"
          ]
        },
        {
          "output_type": "stream",
          "name": "stderr",
          "text": [
            "INFO:llmtuner.extras.callbacks:{'loss': 2.0933, 'learning_rate': 4.9864e-05, 'epoch': 0.10}\n"
          ]
        },
        {
          "output_type": "stream",
          "name": "stdout",
          "text": [
            "{'loss': 2.0933, 'grad_norm': 0.7958570122718811, 'learning_rate': 4.986440547684963e-05, 'epoch': 0.1}\n",
            "04/18/2024 15:17:45 - INFO - llmtuner.extras.callbacks - {'loss': 2.0960, 'learning_rate': 4.9860e-05, 'epoch': 0.10}\n"
          ]
        },
        {
          "output_type": "stream",
          "name": "stderr",
          "text": [
            "INFO:llmtuner.extras.callbacks:{'loss': 2.0960, 'learning_rate': 4.9860e-05, 'epoch': 0.10}\n"
          ]
        },
        {
          "output_type": "stream",
          "name": "stdout",
          "text": [
            "{'loss': 2.096, 'grad_norm': 1.9742093086242676, 'learning_rate': 4.9860139030043006e-05, 'epoch': 0.1}\n",
            "04/18/2024 15:17:52 - INFO - llmtuner.extras.callbacks - {'loss': 2.1031, 'learning_rate': 4.9856e-05, 'epoch': 0.10}\n"
          ]
        },
        {
          "output_type": "stream",
          "name": "stderr",
          "text": [
            "INFO:llmtuner.extras.callbacks:{'loss': 2.1031, 'learning_rate': 4.9856e-05, 'epoch': 0.10}\n"
          ]
        },
        {
          "output_type": "stream",
          "name": "stdout",
          "text": [
            "{'loss': 2.1031, 'grad_norm': 1.31263267993927, 'learning_rate': 4.985580668578451e-05, 'epoch': 0.1}\n",
            "04/18/2024 15:18:00 - INFO - llmtuner.extras.callbacks - {'loss': 2.0859, 'learning_rate': 4.9851e-05, 'epoch': 0.10}\n"
          ]
        },
        {
          "output_type": "stream",
          "name": "stderr",
          "text": [
            "INFO:llmtuner.extras.callbacks:{'loss': 2.0859, 'learning_rate': 4.9851e-05, 'epoch': 0.10}\n"
          ]
        },
        {
          "output_type": "stream",
          "name": "stdout",
          "text": [
            "{'loss': 2.0859, 'grad_norm': 1.209244966506958, 'learning_rate': 4.985140845555799e-05, 'epoch': 0.1}\n",
            "04/18/2024 15:18:09 - INFO - llmtuner.extras.callbacks - {'loss': 2.1945, 'learning_rate': 4.9847e-05, 'epoch': 0.11}\n"
          ]
        },
        {
          "output_type": "stream",
          "name": "stderr",
          "text": [
            "INFO:llmtuner.extras.callbacks:{'loss': 2.1945, 'learning_rate': 4.9847e-05, 'epoch': 0.11}\n"
          ]
        },
        {
          "output_type": "stream",
          "name": "stdout",
          "text": [
            "{'loss': 2.1945, 'grad_norm': 0.8939704895019531, 'learning_rate': 4.984694435102197e-05, 'epoch': 0.11}\n",
            "04/18/2024 15:18:16 - INFO - llmtuner.extras.callbacks - {'loss': 2.1152, 'learning_rate': 4.9842e-05, 'epoch': 0.11}\n"
          ]
        },
        {
          "output_type": "stream",
          "name": "stderr",
          "text": [
            "INFO:llmtuner.extras.callbacks:{'loss': 2.1152, 'learning_rate': 4.9842e-05, 'epoch': 0.11}\n"
          ]
        },
        {
          "output_type": "stream",
          "name": "stdout",
          "text": [
            "{'loss': 2.1152, 'grad_norm': 1.7373656034469604, 'learning_rate': 4.984241438400956e-05, 'epoch': 0.11}\n",
            "04/18/2024 15:18:24 - INFO - llmtuner.extras.callbacks - {'loss': 2.2456, 'learning_rate': 4.9838e-05, 'epoch': 0.11}\n"
          ]
        },
        {
          "output_type": "stream",
          "name": "stderr",
          "text": [
            "INFO:llmtuner.extras.callbacks:{'loss': 2.2456, 'learning_rate': 4.9838e-05, 'epoch': 0.11}\n"
          ]
        },
        {
          "output_type": "stream",
          "name": "stdout",
          "text": [
            "{'loss': 2.2456, 'grad_norm': 1.2043274641036987, 'learning_rate': 4.983781856652848e-05, 'epoch': 0.11}\n",
            "04/18/2024 15:18:32 - INFO - llmtuner.extras.callbacks - {'loss': 2.1635, 'learning_rate': 4.9833e-05, 'epoch': 0.11}\n"
          ]
        },
        {
          "output_type": "stream",
          "name": "stderr",
          "text": [
            "INFO:llmtuner.extras.callbacks:{'loss': 2.1635, 'learning_rate': 4.9833e-05, 'epoch': 0.11}\n"
          ]
        },
        {
          "output_type": "stream",
          "name": "stdout",
          "text": [
            "{'loss': 2.1635, 'grad_norm': 0.7960850596427917, 'learning_rate': 4.983315691076099e-05, 'epoch': 0.11}\n",
            "04/18/2024 15:18:40 - INFO - llmtuner.extras.callbacks - {'loss': 2.1928, 'learning_rate': 4.9828e-05, 'epoch': 0.11}\n"
          ]
        },
        {
          "output_type": "stream",
          "name": "stderr",
          "text": [
            "INFO:llmtuner.extras.callbacks:{'loss': 2.1928, 'learning_rate': 4.9828e-05, 'epoch': 0.11}\n"
          ]
        },
        {
          "output_type": "stream",
          "name": "stdout",
          "text": [
            "{'loss': 2.1928, 'grad_norm': 0.6880559921264648, 'learning_rate': 4.982842942906386e-05, 'epoch': 0.11}\n",
            "04/18/2024 15:18:48 - INFO - llmtuner.extras.callbacks - {'loss': 2.0421, 'learning_rate': 4.9824e-05, 'epoch': 0.11}\n"
          ]
        },
        {
          "output_type": "stream",
          "name": "stderr",
          "text": [
            "INFO:llmtuner.extras.callbacks:{'loss': 2.0421, 'learning_rate': 4.9824e-05, 'epoch': 0.11}\n"
          ]
        },
        {
          "output_type": "stream",
          "name": "stdout",
          "text": [
            "{'loss': 2.0421, 'grad_norm': 1.2364534139633179, 'learning_rate': 4.982363613396836e-05, 'epoch': 0.11}\n",
            "04/18/2024 15:18:56 - INFO - llmtuner.extras.callbacks - {'loss': 2.2845, 'learning_rate': 4.9819e-05, 'epoch': 0.12}\n"
          ]
        },
        {
          "output_type": "stream",
          "name": "stderr",
          "text": [
            "INFO:llmtuner.extras.callbacks:{'loss': 2.2845, 'learning_rate': 4.9819e-05, 'epoch': 0.12}\n"
          ]
        },
        {
          "output_type": "stream",
          "name": "stdout",
          "text": [
            "{'loss': 2.2845, 'grad_norm': 0.9618428945541382, 'learning_rate': 4.9818777038180195e-05, 'epoch': 0.12}\n",
            "04/18/2024 15:19:04 - INFO - llmtuner.extras.callbacks - {'loss': 2.0800, 'learning_rate': 4.9814e-05, 'epoch': 0.12}\n"
          ]
        },
        {
          "output_type": "stream",
          "name": "stderr",
          "text": [
            "INFO:llmtuner.extras.callbacks:{'loss': 2.0800, 'learning_rate': 4.9814e-05, 'epoch': 0.12}\n"
          ]
        },
        {
          "output_type": "stream",
          "name": "stdout",
          "text": [
            "{'loss': 2.08, 'grad_norm': 1.754677653312683, 'learning_rate': 4.981385215457953e-05, 'epoch': 0.12}\n",
            "04/18/2024 15:19:12 - INFO - llmtuner.extras.callbacks - {'loss': 2.3646, 'learning_rate': 4.9809e-05, 'epoch': 0.12}\n"
          ]
        },
        {
          "output_type": "stream",
          "name": "stderr",
          "text": [
            "INFO:llmtuner.extras.callbacks:{'loss': 2.3646, 'learning_rate': 4.9809e-05, 'epoch': 0.12}\n"
          ]
        },
        {
          "output_type": "stream",
          "name": "stdout",
          "text": [
            "{'loss': 2.3646, 'grad_norm': 1.0358941555023193, 'learning_rate': 4.980886149622087e-05, 'epoch': 0.12}\n",
            "04/18/2024 15:19:20 - INFO - llmtuner.extras.callbacks - {'loss': 2.3184, 'learning_rate': 4.9804e-05, 'epoch': 0.12}\n"
          ]
        },
        {
          "output_type": "stream",
          "name": "stderr",
          "text": [
            "INFO:llmtuner.extras.callbacks:{'loss': 2.3184, 'learning_rate': 4.9804e-05, 'epoch': 0.12}\n"
          ]
        },
        {
          "output_type": "stream",
          "name": "stdout",
          "text": [
            "{'loss': 2.3184, 'grad_norm': 0.6970834732055664, 'learning_rate': 4.980380507633309e-05, 'epoch': 0.12}\n",
            "04/18/2024 15:19:28 - INFO - llmtuner.extras.callbacks - {'loss': 2.0994, 'learning_rate': 4.9799e-05, 'epoch': 0.12}\n"
          ]
        },
        {
          "output_type": "stream",
          "name": "stderr",
          "text": [
            "INFO:llmtuner.extras.callbacks:{'loss': 2.0994, 'learning_rate': 4.9799e-05, 'epoch': 0.12}\n"
          ]
        },
        {
          "output_type": "stream",
          "name": "stdout",
          "text": [
            "{'loss': 2.0994, 'grad_norm': 0.7716982364654541, 'learning_rate': 4.979868290831939e-05, 'epoch': 0.12}\n",
            "04/18/2024 15:19:36 - INFO - llmtuner.extras.callbacks - {'loss': 2.1737, 'learning_rate': 4.9793e-05, 'epoch': 0.12}\n"
          ]
        },
        {
          "output_type": "stream",
          "name": "stderr",
          "text": [
            "INFO:llmtuner.extras.callbacks:{'loss': 2.1737, 'learning_rate': 4.9793e-05, 'epoch': 0.12}\n"
          ]
        },
        {
          "output_type": "stream",
          "name": "stdout",
          "text": [
            "{'loss': 2.1737, 'grad_norm': 0.974274754524231, 'learning_rate': 4.979349500575724e-05, 'epoch': 0.12}\n",
            "04/18/2024 15:19:44 - INFO - llmtuner.extras.callbacks - {'loss': 2.0806, 'learning_rate': 4.9788e-05, 'epoch': 0.12}\n"
          ]
        },
        {
          "output_type": "stream",
          "name": "stderr",
          "text": [
            "INFO:llmtuner.extras.callbacks:{'loss': 2.0806, 'learning_rate': 4.9788e-05, 'epoch': 0.12}\n",
            "[INFO|trainer.py:3067] 2024-04-18 15:19:44,283 >> Saving model checkpoint to saves/Qwen1.5-0.5B/lora/train_2024-04-18-14-31-32/tmp-checkpoint-400\n"
          ]
        },
        {
          "output_type": "stream",
          "name": "stdout",
          "text": [
            "{'loss': 2.0806, 'grad_norm': 1.106198787689209, 'learning_rate': 4.978824138239835e-05, 'epoch': 0.12}\n"
          ]
        },
        {
          "output_type": "stream",
          "name": "stderr",
          "text": [
            "[INFO|configuration_utils.py:728] 2024-04-18 15:19:44,517 >> loading configuration file config.json from cache at /root/.cache/huggingface/hub/models--Qwen--Qwen1.5-0.5B/snapshots/8f445e3628f3500ee69f24e1303c9f10f5342a39/config.json\n",
            "[INFO|configuration_utils.py:791] 2024-04-18 15:19:44,520 >> Model config Qwen2Config {\n",
            "  \"architectures\": [\n",
            "    \"Qwen2ForCausalLM\"\n",
            "  ],\n",
            "  \"attention_dropout\": 0.0,\n",
            "  \"bos_token_id\": 151643,\n",
            "  \"eos_token_id\": 151643,\n",
            "  \"hidden_act\": \"silu\",\n",
            "  \"hidden_size\": 1024,\n",
            "  \"initializer_range\": 0.02,\n",
            "  \"intermediate_size\": 2816,\n",
            "  \"max_position_embeddings\": 32768,\n",
            "  \"max_window_layers\": 21,\n",
            "  \"model_type\": \"qwen2\",\n",
            "  \"num_attention_heads\": 16,\n",
            "  \"num_hidden_layers\": 24,\n",
            "  \"num_key_value_heads\": 16,\n",
            "  \"rms_norm_eps\": 1e-06,\n",
            "  \"rope_theta\": 1000000.0,\n",
            "  \"sliding_window\": 32768,\n",
            "  \"tie_word_embeddings\": true,\n",
            "  \"torch_dtype\": \"bfloat16\",\n",
            "  \"transformers_version\": \"4.38.2\",\n",
            "  \"use_cache\": true,\n",
            "  \"use_sliding_window\": false,\n",
            "  \"vocab_size\": 151936\n",
            "}\n",
            "\n",
            "[INFO|tokenization_utils_base.py:2459] 2024-04-18 15:19:44,539 >> tokenizer config file saved in saves/Qwen1.5-0.5B/lora/train_2024-04-18-14-31-32/tmp-checkpoint-400/tokenizer_config.json\n",
            "[INFO|tokenization_utils_base.py:2468] 2024-04-18 15:19:44,541 >> Special tokens file saved in saves/Qwen1.5-0.5B/lora/train_2024-04-18-14-31-32/tmp-checkpoint-400/special_tokens_map.json\n",
            "[INFO|tokenization_utils_base.py:2519] 2024-04-18 15:19:44,544 >> added tokens file saved in saves/Qwen1.5-0.5B/lora/train_2024-04-18-14-31-32/tmp-checkpoint-400/added_tokens.json\n"
          ]
        },
        {
          "output_type": "stream",
          "name": "stdout",
          "text": [
            "04/18/2024 15:19:53 - INFO - llmtuner.extras.callbacks - {'loss': 2.1249, 'learning_rate': 4.9783e-05, 'epoch': 0.13}\n"
          ]
        },
        {
          "output_type": "stream",
          "name": "stderr",
          "text": [
            "INFO:llmtuner.extras.callbacks:{'loss': 2.1249, 'learning_rate': 4.9783e-05, 'epoch': 0.13}\n"
          ]
        },
        {
          "output_type": "stream",
          "name": "stdout",
          "text": [
            "{'loss': 2.1249, 'grad_norm': 1.4614217281341553, 'learning_rate': 4.9782922052168645e-05, 'epoch': 0.13}\n",
            "04/18/2024 15:20:00 - INFO - llmtuner.extras.callbacks - {'loss': 2.1409, 'learning_rate': 4.9778e-05, 'epoch': 0.13}\n"
          ]
        },
        {
          "output_type": "stream",
          "name": "stderr",
          "text": [
            "INFO:llmtuner.extras.callbacks:{'loss': 2.1409, 'learning_rate': 4.9778e-05, 'epoch': 0.13}\n"
          ]
        },
        {
          "output_type": "stream",
          "name": "stdout",
          "text": [
            "{'loss': 2.1409, 'grad_norm': 1.5916898250579834, 'learning_rate': 4.977753702916822e-05, 'epoch': 0.13}\n",
            "04/18/2024 15:20:08 - INFO - llmtuner.extras.callbacks - {'loss': 2.1579, 'learning_rate': 4.9772e-05, 'epoch': 0.13}\n"
          ]
        },
        {
          "output_type": "stream",
          "name": "stderr",
          "text": [
            "INFO:llmtuner.extras.callbacks:{'loss': 2.1579, 'learning_rate': 4.9772e-05, 'epoch': 0.13}\n"
          ]
        },
        {
          "output_type": "stream",
          "name": "stdout",
          "text": [
            "{'loss': 2.1579, 'grad_norm': 0.7790005803108215, 'learning_rate': 4.9772086327671307e-05, 'epoch': 0.13}\n",
            "04/18/2024 15:20:16 - INFO - llmtuner.extras.callbacks - {'loss': 2.3413, 'learning_rate': 4.9767e-05, 'epoch': 0.13}\n"
          ]
        },
        {
          "output_type": "stream",
          "name": "stderr",
          "text": [
            "INFO:llmtuner.extras.callbacks:{'loss': 2.3413, 'learning_rate': 4.9767e-05, 'epoch': 0.13}\n"
          ]
        },
        {
          "output_type": "stream",
          "name": "stdout",
          "text": [
            "{'loss': 2.3413, 'grad_norm': 0.7510543465614319, 'learning_rate': 4.976656996212622e-05, 'epoch': 0.13}\n",
            "04/18/2024 15:20:24 - INFO - llmtuner.extras.callbacks - {'loss': 2.3354, 'learning_rate': 4.9761e-05, 'epoch': 0.13}\n"
          ]
        },
        {
          "output_type": "stream",
          "name": "stderr",
          "text": [
            "INFO:llmtuner.extras.callbacks:{'loss': 2.3354, 'learning_rate': 4.9761e-05, 'epoch': 0.13}\n"
          ]
        },
        {
          "output_type": "stream",
          "name": "stdout",
          "text": [
            "{'loss': 2.3354, 'grad_norm': 1.356626272201538, 'learning_rate': 4.976098794715535e-05, 'epoch': 0.13}\n",
            "04/18/2024 15:20:32 - INFO - llmtuner.extras.callbacks - {'loss': 2.1745, 'learning_rate': 4.9755e-05, 'epoch': 0.13}\n"
          ]
        },
        {
          "output_type": "stream",
          "name": "stderr",
          "text": [
            "INFO:llmtuner.extras.callbacks:{'loss': 2.1745, 'learning_rate': 4.9755e-05, 'epoch': 0.13}\n"
          ]
        },
        {
          "output_type": "stream",
          "name": "stdout",
          "text": [
            "{'loss': 2.1745, 'grad_norm': 0.7762529253959656, 'learning_rate': 4.975534029755509e-05, 'epoch': 0.13}\n",
            "04/18/2024 15:20:39 - INFO - llmtuner.extras.callbacks - {'loss': 2.1601, 'learning_rate': 4.9750e-05, 'epoch': 0.14}\n"
          ]
        },
        {
          "output_type": "stream",
          "name": "stderr",
          "text": [
            "INFO:llmtuner.extras.callbacks:{'loss': 2.1601, 'learning_rate': 4.9750e-05, 'epoch': 0.14}\n"
          ]
        },
        {
          "output_type": "stream",
          "name": "stdout",
          "text": [
            "{'loss': 2.1601, 'grad_norm': 1.2121926546096802, 'learning_rate': 4.974962702829582e-05, 'epoch': 0.14}\n",
            "04/18/2024 15:20:48 - INFO - llmtuner.extras.callbacks - {'loss': 2.2777, 'learning_rate': 4.9744e-05, 'epoch': 0.14}\n"
          ]
        },
        {
          "output_type": "stream",
          "name": "stderr",
          "text": [
            "INFO:llmtuner.extras.callbacks:{'loss': 2.2777, 'learning_rate': 4.9744e-05, 'epoch': 0.14}\n"
          ]
        },
        {
          "output_type": "stream",
          "name": "stdout",
          "text": [
            "{'loss': 2.2777, 'grad_norm': 1.0080859661102295, 'learning_rate': 4.9743848154521863e-05, 'epoch': 0.14}\n",
            "04/18/2024 15:20:55 - INFO - llmtuner.extras.callbacks - {'loss': 2.1282, 'learning_rate': 4.9738e-05, 'epoch': 0.14}\n"
          ]
        },
        {
          "output_type": "stream",
          "name": "stderr",
          "text": [
            "INFO:llmtuner.extras.callbacks:{'loss': 2.1282, 'learning_rate': 4.9738e-05, 'epoch': 0.14}\n"
          ]
        },
        {
          "output_type": "stream",
          "name": "stdout",
          "text": [
            "{'loss': 2.1282, 'grad_norm': 0.689302384853363, 'learning_rate': 4.973800369155145e-05, 'epoch': 0.14}\n",
            "04/18/2024 15:21:03 - INFO - llmtuner.extras.callbacks - {'loss': 2.1714, 'learning_rate': 4.9732e-05, 'epoch': 0.14}\n"
          ]
        },
        {
          "output_type": "stream",
          "name": "stderr",
          "text": [
            "INFO:llmtuner.extras.callbacks:{'loss': 2.1714, 'learning_rate': 4.9732e-05, 'epoch': 0.14}\n"
          ]
        },
        {
          "output_type": "stream",
          "name": "stdout",
          "text": [
            "{'loss': 2.1714, 'grad_norm': 0.9552789926528931, 'learning_rate': 4.973209365487663e-05, 'epoch': 0.14}\n",
            "04/18/2024 15:21:12 - INFO - llmtuner.extras.callbacks - {'loss': 2.0211, 'learning_rate': 4.9726e-05, 'epoch': 0.14}\n"
          ]
        },
        {
          "output_type": "stream",
          "name": "stderr",
          "text": [
            "INFO:llmtuner.extras.callbacks:{'loss': 2.0211, 'learning_rate': 4.9726e-05, 'epoch': 0.14}\n"
          ]
        },
        {
          "output_type": "stream",
          "name": "stdout",
          "text": [
            "{'loss': 2.0211, 'grad_norm': 0.9270025491714478, 'learning_rate': 4.972611806016333e-05, 'epoch': 0.14}\n",
            "04/18/2024 15:21:19 - INFO - llmtuner.extras.callbacks - {'loss': 2.1035, 'learning_rate': 4.9720e-05, 'epoch': 0.14}\n"
          ]
        },
        {
          "output_type": "stream",
          "name": "stderr",
          "text": [
            "INFO:llmtuner.extras.callbacks:{'loss': 2.1035, 'learning_rate': 4.9720e-05, 'epoch': 0.14}\n"
          ]
        },
        {
          "output_type": "stream",
          "name": "stdout",
          "text": [
            "{'loss': 2.1035, 'grad_norm': 1.0802773237228394, 'learning_rate': 4.97200769232512e-05, 'epoch': 0.14}\n",
            "04/18/2024 15:21:27 - INFO - llmtuner.extras.callbacks - {'loss': 2.1405, 'learning_rate': 4.9714e-05, 'epoch': 0.14}\n"
          ]
        },
        {
          "output_type": "stream",
          "name": "stderr",
          "text": [
            "INFO:llmtuner.extras.callbacks:{'loss': 2.1405, 'learning_rate': 4.9714e-05, 'epoch': 0.14}\n"
          ]
        },
        {
          "output_type": "stream",
          "name": "stdout",
          "text": [
            "{'loss': 2.1405, 'grad_norm': 0.7941226363182068, 'learning_rate': 4.971397026015365e-05, 'epoch': 0.14}\n",
            "04/18/2024 15:21:35 - INFO - llmtuner.extras.callbacks - {'loss': 2.1831, 'learning_rate': 4.9708e-05, 'epoch': 0.15}\n"
          ]
        },
        {
          "output_type": "stream",
          "name": "stderr",
          "text": [
            "INFO:llmtuner.extras.callbacks:{'loss': 2.1831, 'learning_rate': 4.9708e-05, 'epoch': 0.15}\n"
          ]
        },
        {
          "output_type": "stream",
          "name": "stdout",
          "text": [
            "{'loss': 2.1831, 'grad_norm': 0.7768555283546448, 'learning_rate': 4.97077980870578e-05, 'epoch': 0.15}\n",
            "04/18/2024 15:21:43 - INFO - llmtuner.extras.callbacks - {'loss': 2.1823, 'learning_rate': 4.9702e-05, 'epoch': 0.15}\n"
          ]
        },
        {
          "output_type": "stream",
          "name": "stderr",
          "text": [
            "INFO:llmtuner.extras.callbacks:{'loss': 2.1823, 'learning_rate': 4.9702e-05, 'epoch': 0.15}\n"
          ]
        },
        {
          "output_type": "stream",
          "name": "stdout",
          "text": [
            "{'loss': 2.1823, 'grad_norm': 0.9225884079933167, 'learning_rate': 4.9701560420324375e-05, 'epoch': 0.15}\n",
            "04/18/2024 15:21:52 - INFO - llmtuner.extras.callbacks - {'loss': 2.1751, 'learning_rate': 4.9695e-05, 'epoch': 0.15}\n"
          ]
        },
        {
          "output_type": "stream",
          "name": "stderr",
          "text": [
            "INFO:llmtuner.extras.callbacks:{'loss': 2.1751, 'learning_rate': 4.9695e-05, 'epoch': 0.15}\n"
          ]
        },
        {
          "output_type": "stream",
          "name": "stdout",
          "text": [
            "{'loss': 2.1751, 'grad_norm': 1.1236201524734497, 'learning_rate': 4.9695257276487736e-05, 'epoch': 0.15}\n",
            "04/18/2024 15:21:59 - INFO - llmtuner.extras.callbacks - {'loss': 2.1531, 'learning_rate': 4.9689e-05, 'epoch': 0.15}\n"
          ]
        },
        {
          "output_type": "stream",
          "name": "stderr",
          "text": [
            "INFO:llmtuner.extras.callbacks:{'loss': 2.1531, 'learning_rate': 4.9689e-05, 'epoch': 0.15}\n"
          ]
        },
        {
          "output_type": "stream",
          "name": "stdout",
          "text": [
            "{'loss': 2.1531, 'grad_norm': 1.099933385848999, 'learning_rate': 4.968888867225581e-05, 'epoch': 0.15}\n",
            "04/18/2024 15:22:08 - INFO - llmtuner.extras.callbacks - {'loss': 2.3341, 'learning_rate': 4.9682e-05, 'epoch': 0.15}\n"
          ]
        },
        {
          "output_type": "stream",
          "name": "stderr",
          "text": [
            "INFO:llmtuner.extras.callbacks:{'loss': 2.3341, 'learning_rate': 4.9682e-05, 'epoch': 0.15}\n"
          ]
        },
        {
          "output_type": "stream",
          "name": "stdout",
          "text": [
            "{'loss': 2.3341, 'grad_norm': 0.7315261363983154, 'learning_rate': 4.968245462451001e-05, 'epoch': 0.15}\n",
            "04/18/2024 15:22:17 - INFO - llmtuner.extras.callbacks - {'loss': 2.2660, 'learning_rate': 4.9676e-05, 'epoch': 0.15}\n"
          ]
        },
        {
          "output_type": "stream",
          "name": "stderr",
          "text": [
            "INFO:llmtuner.extras.callbacks:{'loss': 2.2660, 'learning_rate': 4.9676e-05, 'epoch': 0.15}\n"
          ]
        },
        {
          "output_type": "stream",
          "name": "stdout",
          "text": [
            "{'loss': 2.266, 'grad_norm': 1.1412396430969238, 'learning_rate': 4.967595515030525e-05, 'epoch': 0.15}\n",
            "04/18/2024 15:22:24 - INFO - llmtuner.extras.callbacks - {'loss': 1.9899, 'learning_rate': 4.9669e-05, 'epoch': 0.16}\n"
          ]
        },
        {
          "output_type": "stream",
          "name": "stderr",
          "text": [
            "INFO:llmtuner.extras.callbacks:{'loss': 1.9899, 'learning_rate': 4.9669e-05, 'epoch': 0.16}\n",
            "[INFO|trainer.py:3067] 2024-04-18 15:22:24,293 >> Saving model checkpoint to saves/Qwen1.5-0.5B/lora/train_2024-04-18-14-31-32/tmp-checkpoint-500\n"
          ]
        },
        {
          "output_type": "stream",
          "name": "stdout",
          "text": [
            "{'loss': 1.9899, 'grad_norm': 0.7194778919219971, 'learning_rate': 4.966939026686989e-05, 'epoch': 0.16}\n"
          ]
        },
        {
          "output_type": "stream",
          "name": "stderr",
          "text": [
            "[INFO|configuration_utils.py:728] 2024-04-18 15:22:24,631 >> loading configuration file config.json from cache at /root/.cache/huggingface/hub/models--Qwen--Qwen1.5-0.5B/snapshots/8f445e3628f3500ee69f24e1303c9f10f5342a39/config.json\n",
            "[INFO|configuration_utils.py:791] 2024-04-18 15:22:24,634 >> Model config Qwen2Config {\n",
            "  \"architectures\": [\n",
            "    \"Qwen2ForCausalLM\"\n",
            "  ],\n",
            "  \"attention_dropout\": 0.0,\n",
            "  \"bos_token_id\": 151643,\n",
            "  \"eos_token_id\": 151643,\n",
            "  \"hidden_act\": \"silu\",\n",
            "  \"hidden_size\": 1024,\n",
            "  \"initializer_range\": 0.02,\n",
            "  \"intermediate_size\": 2816,\n",
            "  \"max_position_embeddings\": 32768,\n",
            "  \"max_window_layers\": 21,\n",
            "  \"model_type\": \"qwen2\",\n",
            "  \"num_attention_heads\": 16,\n",
            "  \"num_hidden_layers\": 24,\n",
            "  \"num_key_value_heads\": 16,\n",
            "  \"rms_norm_eps\": 1e-06,\n",
            "  \"rope_theta\": 1000000.0,\n",
            "  \"sliding_window\": 32768,\n",
            "  \"tie_word_embeddings\": true,\n",
            "  \"torch_dtype\": \"bfloat16\",\n",
            "  \"transformers_version\": \"4.38.2\",\n",
            "  \"use_cache\": true,\n",
            "  \"use_sliding_window\": false,\n",
            "  \"vocab_size\": 151936\n",
            "}\n",
            "\n",
            "[INFO|tokenization_utils_base.py:2459] 2024-04-18 15:22:24,652 >> tokenizer config file saved in saves/Qwen1.5-0.5B/lora/train_2024-04-18-14-31-32/tmp-checkpoint-500/tokenizer_config.json\n",
            "[INFO|tokenization_utils_base.py:2468] 2024-04-18 15:22:24,654 >> Special tokens file saved in saves/Qwen1.5-0.5B/lora/train_2024-04-18-14-31-32/tmp-checkpoint-500/special_tokens_map.json\n",
            "[INFO|tokenization_utils_base.py:2519] 2024-04-18 15:22:24,656 >> added tokens file saved in saves/Qwen1.5-0.5B/lora/train_2024-04-18-14-31-32/tmp-checkpoint-500/added_tokens.json\n"
          ]
        },
        {
          "output_type": "stream",
          "name": "stdout",
          "text": [
            "04/18/2024 15:22:33 - INFO - llmtuner.extras.callbacks - {'loss': 2.0794, 'learning_rate': 4.9663e-05, 'epoch': 0.16}\n"
          ]
        },
        {
          "output_type": "stream",
          "name": "stderr",
          "text": [
            "INFO:llmtuner.extras.callbacks:{'loss': 2.0794, 'learning_rate': 4.9663e-05, 'epoch': 0.16}\n"
          ]
        },
        {
          "output_type": "stream",
          "name": "stdout",
          "text": [
            "{'loss': 2.0794, 'grad_norm': 0.6925916075706482, 'learning_rate': 4.9662759991605604e-05, 'epoch': 0.16}\n",
            "04/18/2024 15:22:41 - INFO - llmtuner.extras.callbacks - {'loss': 2.2051, 'learning_rate': 4.9656e-05, 'epoch': 0.16}\n"
          ]
        },
        {
          "output_type": "stream",
          "name": "stderr",
          "text": [
            "INFO:llmtuner.extras.callbacks:{'loss': 2.2051, 'learning_rate': 4.9656e-05, 'epoch': 0.16}\n"
          ]
        },
        {
          "output_type": "stream",
          "name": "stdout",
          "text": [
            "{'loss': 2.2051, 'grad_norm': 1.1601344347000122, 'learning_rate': 4.965606434208747e-05, 'epoch': 0.16}\n",
            "04/18/2024 15:22:48 - INFO - llmtuner.extras.callbacks - {'loss': 2.0455, 'learning_rate': 4.9649e-05, 'epoch': 0.16}\n"
          ]
        },
        {
          "output_type": "stream",
          "name": "stderr",
          "text": [
            "INFO:llmtuner.extras.callbacks:{'loss': 2.0455, 'learning_rate': 4.9649e-05, 'epoch': 0.16}\n"
          ]
        },
        {
          "output_type": "stream",
          "name": "stdout",
          "text": [
            "{'loss': 2.0455, 'grad_norm': 1.1709065437316895, 'learning_rate': 4.964930333606383e-05, 'epoch': 0.16}\n",
            "04/18/2024 15:22:57 - INFO - llmtuner.extras.callbacks - {'loss': 2.1841, 'learning_rate': 4.9642e-05, 'epoch': 0.16}\n"
          ]
        },
        {
          "output_type": "stream",
          "name": "stderr",
          "text": [
            "INFO:llmtuner.extras.callbacks:{'loss': 2.1841, 'learning_rate': 4.9642e-05, 'epoch': 0.16}\n"
          ]
        },
        {
          "output_type": "stream",
          "name": "stdout",
          "text": [
            "{'loss': 2.1841, 'grad_norm': 1.0899299383163452, 'learning_rate': 4.964247699145626e-05, 'epoch': 0.16}\n",
            "04/18/2024 15:23:04 - INFO - llmtuner.extras.callbacks - {'loss': 1.9893, 'learning_rate': 4.9636e-05, 'epoch': 0.16}\n"
          ]
        },
        {
          "output_type": "stream",
          "name": "stderr",
          "text": [
            "INFO:llmtuner.extras.callbacks:{'loss': 1.9893, 'learning_rate': 4.9636e-05, 'epoch': 0.16}\n"
          ]
        },
        {
          "output_type": "stream",
          "name": "stdout",
          "text": [
            "{'loss': 1.9893, 'grad_norm': 1.246999979019165, 'learning_rate': 4.963558532635955e-05, 'epoch': 0.16}\n",
            "04/18/2024 15:23:12 - INFO - llmtuner.extras.callbacks - {'loss': 2.4214, 'learning_rate': 4.9629e-05, 'epoch': 0.16}\n"
          ]
        },
        {
          "output_type": "stream",
          "name": "stderr",
          "text": [
            "INFO:llmtuner.extras.callbacks:{'loss': 2.4214, 'learning_rate': 4.9629e-05, 'epoch': 0.16}\n"
          ]
        },
        {
          "output_type": "stream",
          "name": "stdout",
          "text": [
            "{'loss': 2.4214, 'grad_norm': 0.9484797716140747, 'learning_rate': 4.9628628359041604e-05, 'epoch': 0.16}\n",
            "04/18/2024 15:23:21 - INFO - llmtuner.extras.callbacks - {'loss': 2.1223, 'learning_rate': 4.9622e-05, 'epoch': 0.17}\n"
          ]
        },
        {
          "output_type": "stream",
          "name": "stderr",
          "text": [
            "INFO:llmtuner.extras.callbacks:{'loss': 2.1223, 'learning_rate': 4.9622e-05, 'epoch': 0.17}\n"
          ]
        },
        {
          "output_type": "stream",
          "name": "stdout",
          "text": [
            "{'loss': 2.1223, 'grad_norm': 1.0651428699493408, 'learning_rate': 4.962160610794346e-05, 'epoch': 0.17}\n",
            "04/18/2024 15:23:28 - INFO - llmtuner.extras.callbacks - {'loss': 2.2618, 'learning_rate': 4.9615e-05, 'epoch': 0.17}\n"
          ]
        },
        {
          "output_type": "stream",
          "name": "stderr",
          "text": [
            "INFO:llmtuner.extras.callbacks:{'loss': 2.2618, 'learning_rate': 4.9615e-05, 'epoch': 0.17}\n"
          ]
        },
        {
          "output_type": "stream",
          "name": "stdout",
          "text": [
            "{'loss': 2.2618, 'grad_norm': 0.7472386956214905, 'learning_rate': 4.96145185916792e-05, 'epoch': 0.17}\n",
            "04/18/2024 15:23:36 - INFO - llmtuner.extras.callbacks - {'loss': 2.3248, 'learning_rate': 4.9607e-05, 'epoch': 0.17}\n"
          ]
        },
        {
          "output_type": "stream",
          "name": "stderr",
          "text": [
            "INFO:llmtuner.extras.callbacks:{'loss': 2.3248, 'learning_rate': 4.9607e-05, 'epoch': 0.17}\n"
          ]
        },
        {
          "output_type": "stream",
          "name": "stdout",
          "text": [
            "{'loss': 2.3248, 'grad_norm': 1.2541425228118896, 'learning_rate': 4.960736582903588e-05, 'epoch': 0.17}\n",
            "04/18/2024 15:23:45 - INFO - llmtuner.extras.callbacks - {'loss': 1.9327, 'learning_rate': 4.9600e-05, 'epoch': 0.17}\n"
          ]
        },
        {
          "output_type": "stream",
          "name": "stderr",
          "text": [
            "INFO:llmtuner.extras.callbacks:{'loss': 1.9327, 'learning_rate': 4.9600e-05, 'epoch': 0.17}\n"
          ]
        },
        {
          "output_type": "stream",
          "name": "stdout",
          "text": [
            "{'loss': 1.9327, 'grad_norm': 1.0660113096237183, 'learning_rate': 4.960014783897354e-05, 'epoch': 0.17}\n",
            "04/18/2024 15:23:52 - INFO - llmtuner.extras.callbacks - {'loss': 2.0557, 'learning_rate': 4.9593e-05, 'epoch': 0.17}\n"
          ]
        },
        {
          "output_type": "stream",
          "name": "stderr",
          "text": [
            "INFO:llmtuner.extras.callbacks:{'loss': 2.0557, 'learning_rate': 4.9593e-05, 'epoch': 0.17}\n"
          ]
        },
        {
          "output_type": "stream",
          "name": "stdout",
          "text": [
            "{'loss': 2.0557, 'grad_norm': 1.3779643774032593, 'learning_rate': 4.959286464062509e-05, 'epoch': 0.17}\n",
            "04/18/2024 15:24:00 - INFO - llmtuner.extras.callbacks - {'loss': 2.0152, 'learning_rate': 4.9586e-05, 'epoch': 0.17}\n"
          ]
        },
        {
          "output_type": "stream",
          "name": "stderr",
          "text": [
            "INFO:llmtuner.extras.callbacks:{'loss': 2.0152, 'learning_rate': 4.9586e-05, 'epoch': 0.17}\n"
          ]
        },
        {
          "output_type": "stream",
          "name": "stdout",
          "text": [
            "{'loss': 2.0152, 'grad_norm': 0.8075570464134216, 'learning_rate': 4.958551625329631e-05, 'epoch': 0.17}\n",
            "04/18/2024 15:24:08 - INFO - llmtuner.extras.callbacks - {'loss': 2.3535, 'learning_rate': 4.9578e-05, 'epoch': 0.18}\n"
          ]
        },
        {
          "output_type": "stream",
          "name": "stderr",
          "text": [
            "INFO:llmtuner.extras.callbacks:{'loss': 2.3535, 'learning_rate': 4.9578e-05, 'epoch': 0.18}\n"
          ]
        },
        {
          "output_type": "stream",
          "name": "stdout",
          "text": [
            "{'loss': 2.3535, 'grad_norm': 1.058526873588562, 'learning_rate': 4.957810269646577e-05, 'epoch': 0.18}\n",
            "04/18/2024 15:24:16 - INFO - llmtuner.extras.callbacks - {'loss': 2.2152, 'learning_rate': 4.9571e-05, 'epoch': 0.18}\n"
          ]
        },
        {
          "output_type": "stream",
          "name": "stderr",
          "text": [
            "INFO:llmtuner.extras.callbacks:{'loss': 2.2152, 'learning_rate': 4.9571e-05, 'epoch': 0.18}\n"
          ]
        },
        {
          "output_type": "stream",
          "name": "stdout",
          "text": [
            "{'loss': 2.2152, 'grad_norm': 1.600344181060791, 'learning_rate': 4.957062398978479e-05, 'epoch': 0.18}\n",
            "04/18/2024 15:24:24 - INFO - llmtuner.extras.callbacks - {'loss': 2.0274, 'learning_rate': 4.9563e-05, 'epoch': 0.18}\n"
          ]
        },
        {
          "output_type": "stream",
          "name": "stderr",
          "text": [
            "INFO:llmtuner.extras.callbacks:{'loss': 2.0274, 'learning_rate': 4.9563e-05, 'epoch': 0.18}\n"
          ]
        },
        {
          "output_type": "stream",
          "name": "stdout",
          "text": [
            "{'loss': 2.0274, 'grad_norm': 1.6223102807998657, 'learning_rate': 4.956308015307739e-05, 'epoch': 0.18}\n",
            "04/18/2024 15:24:31 - INFO - llmtuner.extras.callbacks - {'loss': 2.1012, 'learning_rate': 4.9555e-05, 'epoch': 0.18}\n"
          ]
        },
        {
          "output_type": "stream",
          "name": "stderr",
          "text": [
            "INFO:llmtuner.extras.callbacks:{'loss': 2.1012, 'learning_rate': 4.9555e-05, 'epoch': 0.18}\n"
          ]
        },
        {
          "output_type": "stream",
          "name": "stdout",
          "text": [
            "{'loss': 2.1012, 'grad_norm': 1.0133370161056519, 'learning_rate': 4.955547120634021e-05, 'epoch': 0.18}\n",
            "04/18/2024 15:24:39 - INFO - llmtuner.extras.callbacks - {'loss': 2.1958, 'learning_rate': 4.9548e-05, 'epoch': 0.18}\n"
          ]
        },
        {
          "output_type": "stream",
          "name": "stderr",
          "text": [
            "INFO:llmtuner.extras.callbacks:{'loss': 2.1958, 'learning_rate': 4.9548e-05, 'epoch': 0.18}\n"
          ]
        },
        {
          "output_type": "stream",
          "name": "stdout",
          "text": [
            "{'loss': 2.1958, 'grad_norm': 0.816443920135498, 'learning_rate': 4.954779716974251e-05, 'epoch': 0.18}\n",
            "04/18/2024 15:24:47 - INFO - llmtuner.extras.callbacks - {'loss': 2.1787, 'learning_rate': 4.9540e-05, 'epoch': 0.18}\n"
          ]
        },
        {
          "output_type": "stream",
          "name": "stderr",
          "text": [
            "INFO:llmtuner.extras.callbacks:{'loss': 2.1787, 'learning_rate': 4.9540e-05, 'epoch': 0.18}\n"
          ]
        },
        {
          "output_type": "stream",
          "name": "stdout",
          "text": [
            "{'loss': 2.1787, 'grad_norm': 0.8526631593704224, 'learning_rate': 4.954005806362605e-05, 'epoch': 0.18}\n",
            "04/18/2024 15:24:55 - INFO - llmtuner.extras.callbacks - {'loss': 2.2023, 'learning_rate': 4.9532e-05, 'epoch': 0.18}\n"
          ]
        },
        {
          "output_type": "stream",
          "name": "stderr",
          "text": [
            "INFO:llmtuner.extras.callbacks:{'loss': 2.2023, 'learning_rate': 4.9532e-05, 'epoch': 0.18}\n"
          ]
        },
        {
          "output_type": "stream",
          "name": "stdout",
          "text": [
            "{'loss': 2.2023, 'grad_norm': 1.1303508281707764, 'learning_rate': 4.953225390850511e-05, 'epoch': 0.18}\n",
            "04/18/2024 15:25:03 - INFO - llmtuner.extras.callbacks - {'loss': 2.0755, 'learning_rate': 4.9524e-05, 'epoch': 0.19}\n"
          ]
        },
        {
          "output_type": "stream",
          "name": "stderr",
          "text": [
            "INFO:llmtuner.extras.callbacks:{'loss': 2.0755, 'learning_rate': 4.9524e-05, 'epoch': 0.19}\n",
            "[INFO|trainer.py:3067] 2024-04-18 15:25:03,613 >> Saving model checkpoint to saves/Qwen1.5-0.5B/lora/train_2024-04-18-14-31-32/tmp-checkpoint-600\n"
          ]
        },
        {
          "output_type": "stream",
          "name": "stdout",
          "text": [
            "{'loss': 2.0755, 'grad_norm': 1.113263487815857, 'learning_rate': 4.9524384725066355e-05, 'epoch': 0.19}\n"
          ]
        },
        {
          "output_type": "stream",
          "name": "stderr",
          "text": [
            "[INFO|configuration_utils.py:728] 2024-04-18 15:25:03,859 >> loading configuration file config.json from cache at /root/.cache/huggingface/hub/models--Qwen--Qwen1.5-0.5B/snapshots/8f445e3628f3500ee69f24e1303c9f10f5342a39/config.json\n",
            "[INFO|configuration_utils.py:791] 2024-04-18 15:25:03,862 >> Model config Qwen2Config {\n",
            "  \"architectures\": [\n",
            "    \"Qwen2ForCausalLM\"\n",
            "  ],\n",
            "  \"attention_dropout\": 0.0,\n",
            "  \"bos_token_id\": 151643,\n",
            "  \"eos_token_id\": 151643,\n",
            "  \"hidden_act\": \"silu\",\n",
            "  \"hidden_size\": 1024,\n",
            "  \"initializer_range\": 0.02,\n",
            "  \"intermediate_size\": 2816,\n",
            "  \"max_position_embeddings\": 32768,\n",
            "  \"max_window_layers\": 21,\n",
            "  \"model_type\": \"qwen2\",\n",
            "  \"num_attention_heads\": 16,\n",
            "  \"num_hidden_layers\": 24,\n",
            "  \"num_key_value_heads\": 16,\n",
            "  \"rms_norm_eps\": 1e-06,\n",
            "  \"rope_theta\": 1000000.0,\n",
            "  \"sliding_window\": 32768,\n",
            "  \"tie_word_embeddings\": true,\n",
            "  \"torch_dtype\": \"bfloat16\",\n",
            "  \"transformers_version\": \"4.38.2\",\n",
            "  \"use_cache\": true,\n",
            "  \"use_sliding_window\": false,\n",
            "  \"vocab_size\": 151936\n",
            "}\n",
            "\n",
            "[INFO|tokenization_utils_base.py:2459] 2024-04-18 15:25:03,881 >> tokenizer config file saved in saves/Qwen1.5-0.5B/lora/train_2024-04-18-14-31-32/tmp-checkpoint-600/tokenizer_config.json\n",
            "[INFO|tokenization_utils_base.py:2468] 2024-04-18 15:25:03,883 >> Special tokens file saved in saves/Qwen1.5-0.5B/lora/train_2024-04-18-14-31-32/tmp-checkpoint-600/special_tokens_map.json\n",
            "[INFO|tokenization_utils_base.py:2519] 2024-04-18 15:25:03,887 >> added tokens file saved in saves/Qwen1.5-0.5B/lora/train_2024-04-18-14-31-32/tmp-checkpoint-600/added_tokens.json\n"
          ]
        },
        {
          "output_type": "stream",
          "name": "stdout",
          "text": [
            "04/18/2024 15:25:12 - INFO - llmtuner.extras.callbacks - {'loss': 2.1487, 'learning_rate': 4.9516e-05, 'epoch': 0.19}\n"
          ]
        },
        {
          "output_type": "stream",
          "name": "stderr",
          "text": [
            "INFO:llmtuner.extras.callbacks:{'loss': 2.1487, 'learning_rate': 4.9516e-05, 'epoch': 0.19}\n"
          ]
        },
        {
          "output_type": "stream",
          "name": "stdout",
          "text": [
            "{'loss': 2.1487, 'grad_norm': 1.2789982557296753, 'learning_rate': 4.951645053416887e-05, 'epoch': 0.19}\n",
            "04/18/2024 15:25:20 - INFO - llmtuner.extras.callbacks - {'loss': 2.2440, 'learning_rate': 4.9508e-05, 'epoch': 0.19}\n"
          ]
        },
        {
          "output_type": "stream",
          "name": "stderr",
          "text": [
            "INFO:llmtuner.extras.callbacks:{'loss': 2.2440, 'learning_rate': 4.9508e-05, 'epoch': 0.19}\n"
          ]
        },
        {
          "output_type": "stream",
          "name": "stdout",
          "text": [
            "{'loss': 2.244, 'grad_norm': 1.1144911050796509, 'learning_rate': 4.950845135684402e-05, 'epoch': 0.19}\n",
            "04/18/2024 15:25:28 - INFO - llmtuner.extras.callbacks - {'loss': 2.1080, 'learning_rate': 4.9500e-05, 'epoch': 0.19}\n"
          ]
        },
        {
          "output_type": "stream",
          "name": "stderr",
          "text": [
            "INFO:llmtuner.extras.callbacks:{'loss': 2.1080, 'learning_rate': 4.9500e-05, 'epoch': 0.19}\n"
          ]
        },
        {
          "output_type": "stream",
          "name": "stdout",
          "text": [
            "{'loss': 2.108, 'grad_norm': 1.4462823867797852, 'learning_rate': 4.950038721429544e-05, 'epoch': 0.19}\n",
            "04/18/2024 15:25:36 - INFO - llmtuner.extras.callbacks - {'loss': 2.3790, 'learning_rate': 4.9492e-05, 'epoch': 0.19}\n"
          ]
        },
        {
          "output_type": "stream",
          "name": "stderr",
          "text": [
            "INFO:llmtuner.extras.callbacks:{'loss': 2.3790, 'learning_rate': 4.9492e-05, 'epoch': 0.19}\n"
          ]
        },
        {
          "output_type": "stream",
          "name": "stdout",
          "text": [
            "{'loss': 2.379, 'grad_norm': 1.415617823600769, 'learning_rate': 4.949225812789898e-05, 'epoch': 0.19}\n",
            "04/18/2024 15:25:44 - INFO - llmtuner.extras.callbacks - {'loss': 2.3121, 'learning_rate': 4.9484e-05, 'epoch': 0.19}\n"
          ]
        },
        {
          "output_type": "stream",
          "name": "stderr",
          "text": [
            "INFO:llmtuner.extras.callbacks:{'loss': 2.3121, 'learning_rate': 4.9484e-05, 'epoch': 0.19}\n"
          ]
        },
        {
          "output_type": "stream",
          "name": "stdout",
          "text": [
            "{'loss': 2.3121, 'grad_norm': 1.6316519975662231, 'learning_rate': 4.9484064119202626e-05, 'epoch': 0.19}\n",
            "04/18/2024 15:25:51 - INFO - llmtuner.extras.callbacks - {'loss': 2.1338, 'learning_rate': 4.9476e-05, 'epoch': 0.20}\n"
          ]
        },
        {
          "output_type": "stream",
          "name": "stderr",
          "text": [
            "INFO:llmtuner.extras.callbacks:{'loss': 2.1338, 'learning_rate': 4.9476e-05, 'epoch': 0.20}\n"
          ]
        },
        {
          "output_type": "stream",
          "name": "stdout",
          "text": [
            "{'loss': 2.1338, 'grad_norm': 1.5231232643127441, 'learning_rate': 4.9475805209926476e-05, 'epoch': 0.2}\n",
            "04/18/2024 15:25:59 - INFO - llmtuner.extras.callbacks - {'loss': 2.2482, 'learning_rate': 4.9467e-05, 'epoch': 0.20}\n"
          ]
        },
        {
          "output_type": "stream",
          "name": "stderr",
          "text": [
            "INFO:llmtuner.extras.callbacks:{'loss': 2.2482, 'learning_rate': 4.9467e-05, 'epoch': 0.20}\n"
          ]
        },
        {
          "output_type": "stream",
          "name": "stdout",
          "text": [
            "{'loss': 2.2482, 'grad_norm': 2.1726555824279785, 'learning_rate': 4.946748142196263e-05, 'epoch': 0.2}\n",
            "04/18/2024 15:26:08 - INFO - llmtuner.extras.callbacks - {'loss': 2.0726, 'learning_rate': 4.9459e-05, 'epoch': 0.20}\n"
          ]
        },
        {
          "output_type": "stream",
          "name": "stderr",
          "text": [
            "INFO:llmtuner.extras.callbacks:{'loss': 2.0726, 'learning_rate': 4.9459e-05, 'epoch': 0.20}\n"
          ]
        },
        {
          "output_type": "stream",
          "name": "stdout",
          "text": [
            "{'loss': 2.0726, 'grad_norm': 1.0687676668167114, 'learning_rate': 4.945909277737519e-05, 'epoch': 0.2}\n",
            "04/18/2024 15:26:15 - INFO - llmtuner.extras.callbacks - {'loss': 1.9200, 'learning_rate': 4.9451e-05, 'epoch': 0.20}\n"
          ]
        },
        {
          "output_type": "stream",
          "name": "stderr",
          "text": [
            "INFO:llmtuner.extras.callbacks:{'loss': 1.9200, 'learning_rate': 4.9451e-05, 'epoch': 0.20}\n"
          ]
        },
        {
          "output_type": "stream",
          "name": "stdout",
          "text": [
            "{'loss': 1.92, 'grad_norm': 1.0903443098068237, 'learning_rate': 4.945063929840016e-05, 'epoch': 0.2}\n",
            "04/18/2024 15:26:23 - INFO - llmtuner.extras.callbacks - {'loss': 2.0551, 'learning_rate': 4.9442e-05, 'epoch': 0.20}\n"
          ]
        },
        {
          "output_type": "stream",
          "name": "stderr",
          "text": [
            "INFO:llmtuner.extras.callbacks:{'loss': 2.0551, 'learning_rate': 4.9442e-05, 'epoch': 0.20}\n"
          ]
        },
        {
          "output_type": "stream",
          "name": "stdout",
          "text": [
            "{'loss': 2.0551, 'grad_norm': 1.3435708284378052, 'learning_rate': 4.9442121007445416e-05, 'epoch': 0.2}\n",
            "04/18/2024 15:26:30 - INFO - llmtuner.extras.callbacks - {'loss': 2.1167, 'learning_rate': 4.9434e-05, 'epoch': 0.20}\n"
          ]
        },
        {
          "output_type": "stream",
          "name": "stderr",
          "text": [
            "INFO:llmtuner.extras.callbacks:{'loss': 2.1167, 'learning_rate': 4.9434e-05, 'epoch': 0.20}\n"
          ]
        },
        {
          "output_type": "stream",
          "name": "stdout",
          "text": [
            "{'loss': 2.1167, 'grad_norm': 0.8498939275741577, 'learning_rate': 4.943353792709062e-05, 'epoch': 0.2}\n",
            "04/18/2024 15:26:38 - INFO - llmtuner.extras.callbacks - {'loss': 2.3878, 'learning_rate': 4.9425e-05, 'epoch': 0.21}\n"
          ]
        },
        {
          "output_type": "stream",
          "name": "stderr",
          "text": [
            "INFO:llmtuner.extras.callbacks:{'loss': 2.3878, 'learning_rate': 4.9425e-05, 'epoch': 0.21}\n"
          ]
        },
        {
          "output_type": "stream",
          "name": "stdout",
          "text": [
            "{'loss': 2.3878, 'grad_norm': 1.2493480443954468, 'learning_rate': 4.942489008008718e-05, 'epoch': 0.21}\n",
            "04/18/2024 15:26:48 - INFO - llmtuner.extras.callbacks - {'loss': 2.2815, 'learning_rate': 4.9416e-05, 'epoch': 0.21}\n"
          ]
        },
        {
          "output_type": "stream",
          "name": "stderr",
          "text": [
            "INFO:llmtuner.extras.callbacks:{'loss': 2.2815, 'learning_rate': 4.9416e-05, 'epoch': 0.21}\n"
          ]
        },
        {
          "output_type": "stream",
          "name": "stdout",
          "text": [
            "{'loss': 2.2815, 'grad_norm': 0.8442856669425964, 'learning_rate': 4.941617748935819e-05, 'epoch': 0.21}\n",
            "04/18/2024 15:26:55 - INFO - llmtuner.extras.callbacks - {'loss': 2.0798, 'learning_rate': 4.9407e-05, 'epoch': 0.21}\n"
          ]
        },
        {
          "output_type": "stream",
          "name": "stderr",
          "text": [
            "INFO:llmtuner.extras.callbacks:{'loss': 2.0798, 'learning_rate': 4.9407e-05, 'epoch': 0.21}\n"
          ]
        },
        {
          "output_type": "stream",
          "name": "stdout",
          "text": [
            "{'loss': 2.0798, 'grad_norm': 1.2695749998092651, 'learning_rate': 4.940740017799833e-05, 'epoch': 0.21}\n",
            "04/18/2024 15:27:05 - INFO - llmtuner.extras.callbacks - {'loss': 2.2524, 'learning_rate': 4.9399e-05, 'epoch': 0.21}\n"
          ]
        },
        {
          "output_type": "stream",
          "name": "stderr",
          "text": [
            "INFO:llmtuner.extras.callbacks:{'loss': 2.2524, 'learning_rate': 4.9399e-05, 'epoch': 0.21}\n"
          ]
        },
        {
          "output_type": "stream",
          "name": "stdout",
          "text": [
            "{'loss': 2.2524, 'grad_norm': 1.1512738466262817, 'learning_rate': 4.9398558169273887e-05, 'epoch': 0.21}\n",
            "04/18/2024 15:27:13 - INFO - llmtuner.extras.callbacks - {'loss': 1.9839, 'learning_rate': 4.9390e-05, 'epoch': 0.21}\n"
          ]
        },
        {
          "output_type": "stream",
          "name": "stderr",
          "text": [
            "INFO:llmtuner.extras.callbacks:{'loss': 1.9839, 'learning_rate': 4.9390e-05, 'epoch': 0.21}\n"
          ]
        },
        {
          "output_type": "stream",
          "name": "stdout",
          "text": [
            "{'loss': 1.9839, 'grad_norm': 0.9757989048957825, 'learning_rate': 4.93896514866226e-05, 'epoch': 0.21}\n",
            "04/18/2024 15:27:20 - INFO - llmtuner.extras.callbacks - {'loss': 2.2207, 'learning_rate': 4.9381e-05, 'epoch': 0.21}\n"
          ]
        },
        {
          "output_type": "stream",
          "name": "stderr",
          "text": [
            "INFO:llmtuner.extras.callbacks:{'loss': 2.2207, 'learning_rate': 4.9381e-05, 'epoch': 0.21}\n"
          ]
        },
        {
          "output_type": "stream",
          "name": "stdout",
          "text": [
            "{'loss': 2.2207, 'grad_norm': 0.887416422367096, 'learning_rate': 4.938068015365366e-05, 'epoch': 0.21}\n",
            "04/18/2024 15:27:29 - INFO - llmtuner.extras.callbacks - {'loss': 2.0670, 'learning_rate': 4.9372e-05, 'epoch': 0.21}\n"
          ]
        },
        {
          "output_type": "stream",
          "name": "stderr",
          "text": [
            "INFO:llmtuner.extras.callbacks:{'loss': 2.0670, 'learning_rate': 4.9372e-05, 'epoch': 0.21}\n"
          ]
        },
        {
          "output_type": "stream",
          "name": "stdout",
          "text": [
            "{'loss': 2.067, 'grad_norm': 0.8186498284339905, 'learning_rate': 4.9371644194147616e-05, 'epoch': 0.21}\n",
            "04/18/2024 15:27:36 - INFO - llmtuner.extras.callbacks - {'loss': 2.1461, 'learning_rate': 4.9363e-05, 'epoch': 0.22}\n"
          ]
        },
        {
          "output_type": "stream",
          "name": "stderr",
          "text": [
            "INFO:llmtuner.extras.callbacks:{'loss': 2.1461, 'learning_rate': 4.9363e-05, 'epoch': 0.22}\n"
          ]
        },
        {
          "output_type": "stream",
          "name": "stdout",
          "text": [
            "{'loss': 2.1461, 'grad_norm': 0.9881920218467712, 'learning_rate': 4.936254363205635e-05, 'epoch': 0.22}\n",
            "04/18/2024 15:27:44 - INFO - llmtuner.extras.callbacks - {'loss': 2.1703, 'learning_rate': 4.9353e-05, 'epoch': 0.22}\n"
          ]
        },
        {
          "output_type": "stream",
          "name": "stderr",
          "text": [
            "INFO:llmtuner.extras.callbacks:{'loss': 2.1703, 'learning_rate': 4.9353e-05, 'epoch': 0.22}\n",
            "[INFO|trainer.py:3067] 2024-04-18 15:27:44,667 >> Saving model checkpoint to saves/Qwen1.5-0.5B/lora/train_2024-04-18-14-31-32/tmp-checkpoint-700\n"
          ]
        },
        {
          "output_type": "stream",
          "name": "stdout",
          "text": [
            "{'loss': 2.1703, 'grad_norm': 1.031819462776184, 'learning_rate': 4.935337849150296e-05, 'epoch': 0.22}\n"
          ]
        },
        {
          "output_type": "stream",
          "name": "stderr",
          "text": [
            "[INFO|configuration_utils.py:728] 2024-04-18 15:27:44,900 >> loading configuration file config.json from cache at /root/.cache/huggingface/hub/models--Qwen--Qwen1.5-0.5B/snapshots/8f445e3628f3500ee69f24e1303c9f10f5342a39/config.json\n",
            "[INFO|configuration_utils.py:791] 2024-04-18 15:27:44,904 >> Model config Qwen2Config {\n",
            "  \"architectures\": [\n",
            "    \"Qwen2ForCausalLM\"\n",
            "  ],\n",
            "  \"attention_dropout\": 0.0,\n",
            "  \"bos_token_id\": 151643,\n",
            "  \"eos_token_id\": 151643,\n",
            "  \"hidden_act\": \"silu\",\n",
            "  \"hidden_size\": 1024,\n",
            "  \"initializer_range\": 0.02,\n",
            "  \"intermediate_size\": 2816,\n",
            "  \"max_position_embeddings\": 32768,\n",
            "  \"max_window_layers\": 21,\n",
            "  \"model_type\": \"qwen2\",\n",
            "  \"num_attention_heads\": 16,\n",
            "  \"num_hidden_layers\": 24,\n",
            "  \"num_key_value_heads\": 16,\n",
            "  \"rms_norm_eps\": 1e-06,\n",
            "  \"rope_theta\": 1000000.0,\n",
            "  \"sliding_window\": 32768,\n",
            "  \"tie_word_embeddings\": true,\n",
            "  \"torch_dtype\": \"bfloat16\",\n",
            "  \"transformers_version\": \"4.38.2\",\n",
            "  \"use_cache\": true,\n",
            "  \"use_sliding_window\": false,\n",
            "  \"vocab_size\": 151936\n",
            "}\n",
            "\n",
            "[INFO|tokenization_utils_base.py:2459] 2024-04-18 15:27:44,928 >> tokenizer config file saved in saves/Qwen1.5-0.5B/lora/train_2024-04-18-14-31-32/tmp-checkpoint-700/tokenizer_config.json\n",
            "[INFO|tokenization_utils_base.py:2468] 2024-04-18 15:27:44,930 >> Special tokens file saved in saves/Qwen1.5-0.5B/lora/train_2024-04-18-14-31-32/tmp-checkpoint-700/special_tokens_map.json\n",
            "[INFO|tokenization_utils_base.py:2519] 2024-04-18 15:27:44,932 >> added tokens file saved in saves/Qwen1.5-0.5B/lora/train_2024-04-18-14-31-32/tmp-checkpoint-700/added_tokens.json\n"
          ]
        },
        {
          "output_type": "stream",
          "name": "stdout",
          "text": [
            "04/18/2024 15:27:53 - INFO - llmtuner.extras.callbacks - {'loss': 2.1378, 'learning_rate': 4.9344e-05, 'epoch': 0.22}\n"
          ]
        },
        {
          "output_type": "stream",
          "name": "stderr",
          "text": [
            "INFO:llmtuner.extras.callbacks:{'loss': 2.1378, 'learning_rate': 4.9344e-05, 'epoch': 0.22}\n"
          ]
        },
        {
          "output_type": "stream",
          "name": "stdout",
          "text": [
            "{'loss': 2.1378, 'grad_norm': 1.0133943557739258, 'learning_rate': 4.934414879678174e-05, 'epoch': 0.22}\n",
            "04/18/2024 15:28:00 - INFO - llmtuner.extras.callbacks - {'loss': 2.1090, 'learning_rate': 4.9335e-05, 'epoch': 0.22}\n"
          ]
        },
        {
          "output_type": "stream",
          "name": "stderr",
          "text": [
            "INFO:llmtuner.extras.callbacks:{'loss': 2.1090, 'learning_rate': 4.9335e-05, 'epoch': 0.22}\n"
          ]
        },
        {
          "output_type": "stream",
          "name": "stdout",
          "text": [
            "{'loss': 2.109, 'grad_norm': 0.8606009483337402, 'learning_rate': 4.9334854572358094e-05, 'epoch': 0.22}\n",
            "04/18/2024 15:28:09 - INFO - llmtuner.extras.callbacks - {'loss': 2.2505, 'learning_rate': 4.9325e-05, 'epoch': 0.22}\n"
          ]
        },
        {
          "output_type": "stream",
          "name": "stderr",
          "text": [
            "INFO:llmtuner.extras.callbacks:{'loss': 2.2505, 'learning_rate': 4.9325e-05, 'epoch': 0.22}\n"
          ]
        },
        {
          "output_type": "stream",
          "name": "stdout",
          "text": [
            "{'loss': 2.2505, 'grad_norm': 0.9876114726066589, 'learning_rate': 4.932549584286847e-05, 'epoch': 0.22}\n",
            "04/18/2024 15:28:17 - INFO - llmtuner.extras.callbacks - {'loss': 2.1902, 'learning_rate': 4.9316e-05, 'epoch': 0.22}\n"
          ]
        },
        {
          "output_type": "stream",
          "name": "stderr",
          "text": [
            "INFO:llmtuner.extras.callbacks:{'loss': 2.1902, 'learning_rate': 4.9316e-05, 'epoch': 0.22}\n"
          ]
        },
        {
          "output_type": "stream",
          "name": "stdout",
          "text": [
            "{'loss': 2.1902, 'grad_norm': 1.1443952322006226, 'learning_rate': 4.931607263312032e-05, 'epoch': 0.22}\n",
            "04/18/2024 15:28:24 - INFO - llmtuner.extras.callbacks - {'loss': 2.1546, 'learning_rate': 4.9307e-05, 'epoch': 0.23}\n"
          ]
        },
        {
          "output_type": "stream",
          "name": "stderr",
          "text": [
            "INFO:llmtuner.extras.callbacks:{'loss': 2.1546, 'learning_rate': 4.9307e-05, 'epoch': 0.23}\n"
          ]
        },
        {
          "output_type": "stream",
          "name": "stdout",
          "text": [
            "{'loss': 2.1546, 'grad_norm': 1.1766027212142944, 'learning_rate': 4.930658496809201e-05, 'epoch': 0.23}\n",
            "04/18/2024 15:28:32 - INFO - llmtuner.extras.callbacks - {'loss': 2.1222, 'learning_rate': 4.9297e-05, 'epoch': 0.23}\n"
          ]
        },
        {
          "output_type": "stream",
          "name": "stderr",
          "text": [
            "INFO:llmtuner.extras.callbacks:{'loss': 2.1222, 'learning_rate': 4.9297e-05, 'epoch': 0.23}\n"
          ]
        },
        {
          "output_type": "stream",
          "name": "stdout",
          "text": [
            "{'loss': 2.1222, 'grad_norm': 1.7135127782821655, 'learning_rate': 4.9297032872932735e-05, 'epoch': 0.23}\n",
            "04/18/2024 15:28:40 - INFO - llmtuner.extras.callbacks - {'loss': 2.1752, 'learning_rate': 4.9287e-05, 'epoch': 0.23}\n"
          ]
        },
        {
          "output_type": "stream",
          "name": "stderr",
          "text": [
            "INFO:llmtuner.extras.callbacks:{'loss': 2.1752, 'learning_rate': 4.9287e-05, 'epoch': 0.23}\n"
          ]
        },
        {
          "output_type": "stream",
          "name": "stdout",
          "text": [
            "{'loss': 2.1752, 'grad_norm': 1.609290599822998, 'learning_rate': 4.9287416372962514e-05, 'epoch': 0.23}\n",
            "04/18/2024 15:28:48 - INFO - llmtuner.extras.callbacks - {'loss': 2.1845, 'learning_rate': 4.9280e-05, 'epoch': 0.23}\n"
          ]
        },
        {
          "output_type": "stream",
          "name": "stderr",
          "text": [
            "INFO:llmtuner.extras.callbacks:{'loss': 2.1845, 'learning_rate': 4.9280e-05, 'epoch': 0.23}\n"
          ]
        },
        {
          "output_type": "stream",
          "name": "stdout",
          "text": [
            "{'loss': 2.1845, 'grad_norm': 0.7783612608909607, 'learning_rate': 4.927967681864647e-05, 'epoch': 0.23}\n",
            "04/18/2024 15:28:56 - INFO - llmtuner.extras.callbacks - {'loss': 2.3418, 'learning_rate': 4.9270e-05, 'epoch': 0.23}\n"
          ]
        },
        {
          "output_type": "stream",
          "name": "stderr",
          "text": [
            "INFO:llmtuner.extras.callbacks:{'loss': 2.3418, 'learning_rate': 4.9270e-05, 'epoch': 0.23}\n"
          ]
        },
        {
          "output_type": "stream",
          "name": "stdout",
          "text": [
            "{'loss': 2.3418, 'grad_norm': 1.3447721004486084, 'learning_rate': 4.9269944454367813e-05, 'epoch': 0.23}\n",
            "04/18/2024 15:29:04 - INFO - llmtuner.extras.callbacks - {'loss': 2.2827, 'learning_rate': 4.9260e-05, 'epoch': 0.23}\n"
          ]
        },
        {
          "output_type": "stream",
          "name": "stderr",
          "text": [
            "INFO:llmtuner.extras.callbacks:{'loss': 2.2827, 'learning_rate': 4.9260e-05, 'epoch': 0.23}\n"
          ]
        },
        {
          "output_type": "stream",
          "name": "stdout",
          "text": [
            "{'loss': 2.2827, 'grad_norm': 0.8417901992797852, 'learning_rate': 4.926014775708222e-05, 'epoch': 0.23}\n",
            "04/18/2024 15:29:12 - INFO - llmtuner.extras.callbacks - {'loss': 2.1763, 'learning_rate': 4.9250e-05, 'epoch': 0.23}\n"
          ]
        },
        {
          "output_type": "stream",
          "name": "stderr",
          "text": [
            "INFO:llmtuner.extras.callbacks:{'loss': 2.1763, 'learning_rate': 4.9250e-05, 'epoch': 0.23}\n"
          ]
        },
        {
          "output_type": "stream",
          "name": "stdout",
          "text": [
            "{'loss': 2.1763, 'grad_norm': 0.9013130068778992, 'learning_rate': 4.925028675275806e-05, 'epoch': 0.23}\n",
            "04/18/2024 15:29:19 - INFO - llmtuner.extras.callbacks - {'loss': 1.9494, 'learning_rate': 4.9240e-05, 'epoch': 0.24}\n"
          ]
        },
        {
          "output_type": "stream",
          "name": "stderr",
          "text": [
            "INFO:llmtuner.extras.callbacks:{'loss': 1.9494, 'learning_rate': 4.9240e-05, 'epoch': 0.24}\n"
          ]
        },
        {
          "output_type": "stream",
          "name": "stdout",
          "text": [
            "{'loss': 1.9494, 'grad_norm': 0.9565535187721252, 'learning_rate': 4.924036146753416e-05, 'epoch': 0.24}\n"
          ]
        }
      ]
    },
    {
      "cell_type": "markdown",
      "source": [
        "### Merge LoRA weights"
      ],
      "metadata": {
        "id": "flmc2i3Z7Bl7"
      }
    },
    {
      "cell_type": "code",
      "source": [
        "from llmtuner import export_model\n",
        "export_model(dict(\n",
        "  model_name_or_path=\"Qwen/Qwen1.5-0.5B-Chat\",\n",
        "  adapter_name_or_path=\"test_identity\",\n",
        "  finetuning_type=\"lora\",\n",
        "  template=\"qwen\",\n",
        "  export_dir=\"test_exported\",\n",
        "  # export_hub_model_id=\"your_hf_id/test_identity\",\n",
        "))"
      ],
      "metadata": {
        "colab": {
          "base_uri": "https://localhost:8080/",
          "height": 1000,
          "referenced_widgets": [
            "1beb7d33abd741abbc2972bb48b4b9bb",
            "23d3a4d7f87245ae97859d77c01ef633",
            "e58d8f51de494c34ae485289b23f90c9",
            "a0f47c5484d6461e8f11398b279f1d9a",
            "d9ef53356ff744849e7cb4c8e610bbea",
            "a7f05924d910420c884464799a623a87",
            "159755c6de394e7d9c5a25907dc153b5",
            "64181e96c6db484c8bcd9c5e5f9c4421",
            "806b6e6df1a64a67b547e542f1c3d4f9",
            "7f1512d7f38740548588d12d46e9a438",
            "195bfaa83de043fd97f9b5f1c79e44a1",
            "2bde6ae496a04435b40e0760af81f1a6",
            "f4c5e9c5f07f4778877143f4bcad4604",
            "eb890d67981944b48e573e8c6fc25853",
            "1a13f097ad494efbbb09561c3db5d54a",
            "0633218a783f400398d1eeb270e3503f",
            "e7a9959a89694a619f9ad8d62458fd51",
            "111f90e4751f49c0a62d0dcfe6e57d41",
            "9ed23ee348544a2887fcca33c72d3f56",
            "a516badeb7314612ba6c3a1d50749b24",
            "a8827469c20340d58ab9983bd0621a97",
            "ff2129dcef5d410db7fe3505ed07389a"
          ]
        },
        "id": "g0fVaJsj7GC-",
        "outputId": "da033b0f-fc5f-4038-9d04-d5ccaa4511bb"
      },
      "execution_count": null,
      "outputs": [
        {
          "output_type": "stream",
          "name": "stderr",
          "text": [
            "[INFO|tokenization_utils_base.py:2046] 2024-03-02 11:55:20,667 >> loading file vocab.json from cache at /root/.cache/huggingface/hub/models--Qwen--Qwen1.5-0.5B-Chat/snapshots/6c705984bb8b5591dd4e1a9e66e1a127965fd08d/vocab.json\n",
            "[INFO|tokenization_utils_base.py:2046] 2024-03-02 11:55:20,669 >> loading file merges.txt from cache at /root/.cache/huggingface/hub/models--Qwen--Qwen1.5-0.5B-Chat/snapshots/6c705984bb8b5591dd4e1a9e66e1a127965fd08d/merges.txt\n",
            "[INFO|tokenization_utils_base.py:2046] 2024-03-02 11:55:20,671 >> loading file added_tokens.json from cache at None\n",
            "[INFO|tokenization_utils_base.py:2046] 2024-03-02 11:55:20,673 >> loading file special_tokens_map.json from cache at None\n",
            "[INFO|tokenization_utils_base.py:2046] 2024-03-02 11:55:20,675 >> loading file tokenizer_config.json from cache at /root/.cache/huggingface/hub/models--Qwen--Qwen1.5-0.5B-Chat/snapshots/6c705984bb8b5591dd4e1a9e66e1a127965fd08d/tokenizer_config.json\n",
            "[INFO|tokenization_utils_base.py:2046] 2024-03-02 11:55:20,676 >> loading file tokenizer.json from cache at /root/.cache/huggingface/hub/models--Qwen--Qwen1.5-0.5B-Chat/snapshots/6c705984bb8b5591dd4e1a9e66e1a127965fd08d/tokenizer.json\n",
            "[WARNING|logging.py:314] 2024-03-02 11:55:20,949 >> Special tokens have been added in the vocabulary, make sure the associated word embeddings are fine-tuned or trained.\n",
            "[INFO|configuration_utils.py:728] 2024-03-02 11:55:21,060 >> loading configuration file config.json from cache at /root/.cache/huggingface/hub/models--Qwen--Qwen1.5-0.5B-Chat/snapshots/6c705984bb8b5591dd4e1a9e66e1a127965fd08d/config.json\n",
            "[INFO|configuration_utils.py:791] 2024-03-02 11:55:21,063 >> Model config Qwen2Config {\n",
            "  \"_name_or_path\": \"Qwen/Qwen1.5-0.5B-Chat\",\n",
            "  \"architectures\": [\n",
            "    \"Qwen2ForCausalLM\"\n",
            "  ],\n",
            "  \"attention_dropout\": 0.0,\n",
            "  \"bos_token_id\": 151643,\n",
            "  \"eos_token_id\": 151645,\n",
            "  \"hidden_act\": \"silu\",\n",
            "  \"hidden_size\": 1024,\n",
            "  \"initializer_range\": 0.02,\n",
            "  \"intermediate_size\": 2816,\n",
            "  \"max_position_embeddings\": 32768,\n",
            "  \"max_window_layers\": 21,\n",
            "  \"model_type\": \"qwen2\",\n",
            "  \"num_attention_heads\": 16,\n",
            "  \"num_hidden_layers\": 24,\n",
            "  \"num_key_value_heads\": 16,\n",
            "  \"rms_norm_eps\": 1e-06,\n",
            "  \"rope_theta\": 1000000.0,\n",
            "  \"sliding_window\": 32768,\n",
            "  \"tie_word_embeddings\": true,\n",
            "  \"torch_dtype\": \"bfloat16\",\n",
            "  \"transformers_version\": \"4.38.1\",\n",
            "  \"use_cache\": true,\n",
            "  \"use_sliding_window\": false,\n",
            "  \"vocab_size\": 151936\n",
            "}\n",
            "\n",
            "[INFO|modeling_utils.py:3257] 2024-03-02 11:55:21,067 >> loading weights file model.safetensors from cache at /root/.cache/huggingface/hub/models--Qwen--Qwen1.5-0.5B-Chat/snapshots/6c705984bb8b5591dd4e1a9e66e1a127965fd08d/model.safetensors\n",
            "[INFO|modeling_utils.py:1400] 2024-03-02 11:55:21,086 >> Instantiating Qwen2ForCausalLM model under default dtype torch.float16.\n",
            "[INFO|configuration_utils.py:845] 2024-03-02 11:55:21,091 >> Generate config GenerationConfig {\n",
            "  \"bos_token_id\": 151643,\n",
            "  \"eos_token_id\": 151645\n",
            "}\n",
            "\n",
            "[INFO|modeling_utils.py:3992] 2024-03-02 11:55:23,569 >> All model checkpoint weights were used when initializing Qwen2ForCausalLM.\n",
            "\n",
            "[INFO|modeling_utils.py:4000] 2024-03-02 11:55:23,571 >> All the weights of Qwen2ForCausalLM were initialized from the model checkpoint at Qwen/Qwen1.5-0.5B-Chat.\n",
            "If your task is similar to the task the model of the checkpoint was trained on, you can already use Qwen2ForCausalLM for predictions without further training.\n",
            "[INFO|configuration_utils.py:800] 2024-03-02 11:55:23,642 >> loading configuration file generation_config.json from cache at /root/.cache/huggingface/hub/models--Qwen--Qwen1.5-0.5B-Chat/snapshots/6c705984bb8b5591dd4e1a9e66e1a127965fd08d/generation_config.json\n",
            "[INFO|configuration_utils.py:845] 2024-03-02 11:55:23,644 >> Generate config GenerationConfig {\n",
            "  \"bos_token_id\": 151643,\n",
            "  \"do_sample\": true,\n",
            "  \"eos_token_id\": [\n",
            "    151645,\n",
            "    151643\n",
            "  ],\n",
            "  \"pad_token_id\": 151643,\n",
            "  \"repetition_penalty\": 1.1,\n",
            "  \"top_p\": 0.8\n",
            "}\n",
            "\n"
          ]
        },
        {
          "output_type": "stream",
          "name": "stdout",
          "text": [
            "03/02/2024 11:55:23 - INFO - llmtuner.model.adapter - Fine-tuning method: LoRA\n"
          ]
        },
        {
          "output_type": "stream",
          "name": "stderr",
          "text": [
            "INFO:llmtuner.model.adapter:Fine-tuning method: LoRA\n"
          ]
        },
        {
          "output_type": "stream",
          "name": "stdout",
          "text": [
            "03/02/2024 11:55:24 - INFO - llmtuner.model.adapter - Merged 1 adapter(s).\n"
          ]
        },
        {
          "output_type": "stream",
          "name": "stderr",
          "text": [
            "INFO:llmtuner.model.adapter:Merged 1 adapter(s).\n"
          ]
        },
        {
          "output_type": "stream",
          "name": "stdout",
          "text": [
            "03/02/2024 11:55:24 - INFO - llmtuner.model.adapter - Loaded adapter(s): test_identity\n"
          ]
        },
        {
          "output_type": "stream",
          "name": "stderr",
          "text": [
            "INFO:llmtuner.model.adapter:Loaded adapter(s): test_identity\n"
          ]
        },
        {
          "output_type": "stream",
          "name": "stdout",
          "text": [
            "03/02/2024 11:55:24 - INFO - llmtuner.model.loader - all params: 463987712\n"
          ]
        },
        {
          "output_type": "stream",
          "name": "stderr",
          "text": [
            "INFO:llmtuner.model.loader:all params: 463987712\n",
            "[INFO|configuration_utils.py:473] 2024-03-02 11:55:24,827 >> Configuration saved in test_exported/config.json\n",
            "[INFO|configuration_utils.py:614] 2024-03-02 11:55:24,830 >> Configuration saved in test_exported/generation_config.json\n",
            "[INFO|modeling_utils.py:2454] 2024-03-02 11:55:28,709 >> Model weights saved in test_exported/model.safetensors\n",
            "[INFO|configuration_utils.py:473] 2024-03-02 11:55:29,104 >> Configuration saved in test_identity/config.json\n",
            "[INFO|configuration_utils.py:614] 2024-03-02 11:55:29,107 >> Configuration saved in test_identity/generation_config.json\n",
            "[INFO|modeling_utils.py:2454] 2024-03-02 11:55:32,848 >> Model weights saved in test_identity/model.safetensors\n",
            "[INFO|hub.py:757] 2024-03-02 11:55:35,732 >> Uploading the following files to hiyouga/test_identity: README.md,generation_config.json,model.safetensors,config.json\n"
          ]
        },
        {
          "output_type": "display_data",
          "data": {
            "text/plain": [
              "model.safetensors:   0%|          | 0.00/928M [00:00<?, ?B/s]"
            ],
            "application/vnd.jupyter.widget-view+json": {
              "version_major": 2,
              "version_minor": 0,
              "model_id": "1beb7d33abd741abbc2972bb48b4b9bb"
            }
          },
          "metadata": {}
        },
        {
          "output_type": "stream",
          "name": "stderr",
          "text": [
            "[INFO|tokenization_utils_base.py:2459] 2024-03-02 11:55:56,483 >> tokenizer config file saved in test_exported/tokenizer_config.json\n",
            "[INFO|tokenization_utils_base.py:2468] 2024-03-02 11:55:56,485 >> Special tokens file saved in test_exported/special_tokens_map.json\n",
            "[INFO|tokenization_utils_base.py:2519] 2024-03-02 11:55:56,487 >> added tokens file saved in test_exported/added_tokens.json\n"
          ]
        },
        {
          "output_type": "display_data",
          "data": {
            "text/plain": [
              "README.md:   0%|          | 0.00/5.19k [00:00<?, ?B/s]"
            ],
            "application/vnd.jupyter.widget-view+json": {
              "version_major": 2,
              "version_minor": 0,
              "model_id": "2bde6ae496a04435b40e0760af81f1a6"
            }
          },
          "metadata": {}
        },
        {
          "output_type": "stream",
          "name": "stderr",
          "text": [
            "[INFO|tokenization_utils_base.py:2459] 2024-03-02 11:55:57,200 >> tokenizer config file saved in test_identity/tokenizer_config.json\n",
            "[INFO|tokenization_utils_base.py:2468] 2024-03-02 11:55:57,202 >> Special tokens file saved in test_identity/special_tokens_map.json\n",
            "[INFO|tokenization_utils_base.py:2519] 2024-03-02 11:55:57,204 >> added tokens file saved in test_identity/added_tokens.json\n",
            "[INFO|hub.py:757] 2024-03-02 11:55:57,765 >> Uploading the following files to hiyouga/test_identity: README.md,added_tokens.json,vocab.json,special_tokens_map.json,merges.txt,tokenizer_config.json\n"
          ]
        }
      ]
    }
  ]
}